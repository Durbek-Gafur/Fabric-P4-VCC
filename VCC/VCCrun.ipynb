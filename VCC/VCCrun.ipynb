{
 "cells": [
  {
   "cell_type": "markdown",
   "metadata": {},
   "source": [
    "# P4Lang Tutorials of FABRIC\n",
    "\n",
    "This notebook walks the user through setting up a FABRIC eperiment that is suitiable for completing the P4 tutorials created by [P4Lang](https://github.com/p4lang/tutorials). The tutorials were origianlly designed to use a mininet topology. This example replaces the mininet topology with a FABRIC experiemnt topology that may span multiple sites across the FABRIC testbed.\n",
    "\n",
    "Additional resources:\n",
    "- [FABRIC Knowledge Base](https://learn.fabric-testbed.net/)\n",
    "- [FABRIC Forums](https://learn.fabric-testbed.net/forums/)\n",
    "- [P4Lang Tutorials](https://github.com/p4lang/tutorials)\n",
    "- [P4Lang YouTube Presentations](https://www.youtube.com/channel/UCOQAFkDKucJWr-KafdJsdIQ)"
   ]
  },
  {
   "cell_type": "markdown",
   "metadata": {},
   "source": [
    "## Basic FABRIC Slice Configuration"
   ]
  },
  {
   "cell_type": "code",
   "execution_count": 1,
   "metadata": {},
   "outputs": [],
   "source": [
    "import json\n",
    "import traceback\n",
    "from fabrictestbed_extensions.fablib.fablib import fablib"
   ]
  },
  {
   "cell_type": "code",
   "execution_count": 2,
   "metadata": {},
   "outputs": [
    {
     "name": "stdout",
     "output_type": "stream",
     "text": [
      "Exception: b'{\\n    \"errors\": [\\n        {\\n            \"details\": \"(invalid_grant) invalid refresh token\",\\n            \"message\": \"Internal Server Error\"\\n        }\\n    ],\\n    \"size\": 1,\\n    \"status\": 500,\\n    \"type\": \"error\"\\n}'\n"
     ]
    }
   ],
   "source": [
    "try:\n",
    "    print(f\"{fablib.list_sites()}\")\n",
    "except Exception as e:\n",
    "    print(f\"Exception: {e}\")"
   ]
  },
  {
   "cell_type": "markdown",
   "metadata": {
    "tags": []
   },
   "source": [
    "## Configure Slice Parameters\n",
    "\n",
    "This section builds the experiment slice \n",
    "\n",
    "<img src=\"figs/fabric_slice.png\" width=\"800\"/>\n",
    "\n"
   ]
  },
  {
   "cell_type": "code",
   "execution_count": 32,
   "metadata": {},
   "outputs": [
    {
     "name": "stdout",
     "output_type": "stream",
     "text": [
      "Sites: MAX,MAX,MAX\n"
     ]
    }
   ],
   "source": [
    "from ipaddress import ip_address, IPv4Address, IPv6Address, IPv4Network, IPv6Network\n",
    "\n",
    "# Slice \n",
    "slice_name = 'VCC3'\n",
    "\n",
    "# [site1,site2,site3] = fablib.get_random_sites(count=3)\n",
    "site1 = site2 = site3 = 'MAX'\n",
    "print(f\"Sites: {site1},{site2},{site3}\")\n",
    "\n",
    "\n",
    "# Switches\n",
    "s1_name = \"s1\"\n",
    "s2_name = \"s2\"\n",
    "s3_name = \"s3\"\n",
    "\n",
    "switch_cores = 2\n",
    "switch_ram = 8\n",
    "switch_disk = 100\n",
    "\n",
    "# Hosts\n",
    "h1_name = \"h1\"\n",
    "h11_name = \"h11\"\n",
    "h2_name = \"h2\"\n",
    "h22_name = \"h22\"\n",
    "\n",
    "\n",
    "h1_subnet=IPv4Network('10.0.1.0/16')\n",
    "h1_addr=IPv4Address('10.0.1.1')\n",
    "h11_addr=IPv4Address('10.0.1.11')\n",
    "\n",
    "h2_subnet=IPv4Network('10.0.2.0/16')\n",
    "h2_addr=IPv4Address('10.0.2.2')\n",
    "h22_addr=IPv4Address('10.0.2.22')\n",
    "\n",
    "host_cores = 2\n",
    "host_ram = 8\n",
    "host_disk = 20\n",
    "\n",
    "net_h1_name = 'net_h1'\n",
    "net_h11_name = 'net_h11'\n",
    "net_h2_name = 'net_h2'\n",
    "net_h22_name = 'net_h22'\n",
    "\n",
    "net_s1_s2_name = 'net_s1_s2'\n",
    "net_s2_s3_name = 'net_s2_s3'\n",
    "net_s1_s3_name = 'net_s1_s3'\n",
    "\n",
    "s1_iface_h1,s1_iface_h11,s1_iface_to_s2,s1_iface_to_s3 = \"s1_iface_h1\",\"s1_iface_h11\",\"s1_iface_to_s2\",\"s1_iface_to_s3\"  \n",
    "s2_iface_h2,s2_iface_h22,s2_iface_to_s1,s2_iface_to_s3 = \"s2_iface_h2\",\"s2_iface_h22\",\"s2_iface_to_s1\",\"s2_iface_to_s3\" \n",
    "s3_iface_to_s1,s3_iface_to_s2 = \"s3_iface_to_s1\",\"s3_iface_to_s2\"\n",
    "\n",
    "# All node properties\n",
    "image = 'default_ubuntu_20'"
   ]
  },
  {
   "cell_type": "code",
   "execution_count": 33,
   "metadata": {},
   "outputs": [
    {
     "ename": "SliceManagerException",
     "evalue": "b'{\\n    \"errors\": [\\n        {\\n            \"details\": \"(invalid_grant) invalid refresh token\",\\n            \"message\": \"Internal Server Error\"\\n        }\\n    ],\\n    \"size\": 1,\\n    \"status\": 500,\\n    \"type\": \"error\"\\n}'",
     "output_type": "error",
     "traceback": [
      "\u001b[0;31m---------------------------------------------------------------------------\u001b[0m",
      "\u001b[0;31mSliceManagerException\u001b[0m                     Traceback (most recent call last)",
      "\u001b[0;32m/tmp/ipykernel_17442/3888894638.py\u001b[0m in \u001b[0;36m<module>\u001b[0;34m\u001b[0m\n\u001b[0;32m----> 1\u001b[0;31m \u001b[0mslice\u001b[0m \u001b[0;34m=\u001b[0m \u001b[0mfablib\u001b[0m\u001b[0;34m.\u001b[0m\u001b[0mget_slice\u001b[0m\u001b[0;34m(\u001b[0m\u001b[0mname\u001b[0m\u001b[0;34m=\u001b[0m\u001b[0mslice_name\u001b[0m\u001b[0;34m)\u001b[0m\u001b[0;34m\u001b[0m\u001b[0;34m\u001b[0m\u001b[0m\n\u001b[0m",
      "\u001b[0;32m/opt/conda/lib/python3.9/site-packages/fabrictestbed_extensions/fablib/fablib.py\u001b[0m in \u001b[0;36mget_slice\u001b[0;34m(name, slice_id)\u001b[0m\n\u001b[1;32m    416\u001b[0m         \u001b[0;34m:\u001b[0m\u001b[0mrtype\u001b[0m\u001b[0;34m:\u001b[0m \u001b[0mSlice\u001b[0m\u001b[0;34m\u001b[0m\u001b[0;34m\u001b[0m\u001b[0m\n\u001b[1;32m    417\u001b[0m         \"\"\"\n\u001b[0;32m--> 418\u001b[0;31m         \u001b[0;32mreturn\u001b[0m \u001b[0mfablib\u001b[0m\u001b[0;34m.\u001b[0m\u001b[0mget_default_fablib_manager\u001b[0m\u001b[0;34m(\u001b[0m\u001b[0;34m)\u001b[0m\u001b[0;34m.\u001b[0m\u001b[0mget_slice\u001b[0m\u001b[0;34m(\u001b[0m\u001b[0mname\u001b[0m\u001b[0;34m=\u001b[0m\u001b[0mname\u001b[0m\u001b[0;34m,\u001b[0m \u001b[0mslice_id\u001b[0m\u001b[0;34m=\u001b[0m\u001b[0mslice_id\u001b[0m\u001b[0;34m)\u001b[0m\u001b[0;34m\u001b[0m\u001b[0;34m\u001b[0m\u001b[0m\n\u001b[0m\u001b[1;32m    419\u001b[0m \u001b[0;34m\u001b[0m\u001b[0m\n\u001b[1;32m    420\u001b[0m     \u001b[0;34m@\u001b[0m\u001b[0mstaticmethod\u001b[0m\u001b[0;34m\u001b[0m\u001b[0;34m\u001b[0m\u001b[0m\n",
      "\u001b[0;32m/opt/conda/lib/python3.9/site-packages/fabrictestbed_extensions/fablib/fablib.py\u001b[0m in \u001b[0;36mget_slice\u001b[0;34m(self, name, slice_id)\u001b[0m\n\u001b[1;32m   1206\u001b[0m         \u001b[0;32melif\u001b[0m \u001b[0mname\u001b[0m\u001b[0;34m:\u001b[0m\u001b[0;34m\u001b[0m\u001b[0;34m\u001b[0m\u001b[0m\n\u001b[1;32m   1207\u001b[0m             \u001b[0;31m# if getting by name then only consider active slices\u001b[0m\u001b[0;34m\u001b[0m\u001b[0;34m\u001b[0m\u001b[0m\n\u001b[0;32m-> 1208\u001b[0;31m             \u001b[0mslices\u001b[0m \u001b[0;34m=\u001b[0m \u001b[0mself\u001b[0m\u001b[0;34m.\u001b[0m\u001b[0mget_slices\u001b[0m\u001b[0;34m(\u001b[0m\u001b[0mexcludes\u001b[0m\u001b[0;34m=\u001b[0m\u001b[0;34m[\u001b[0m\u001b[0mSliceState\u001b[0m\u001b[0;34m.\u001b[0m\u001b[0mDead\u001b[0m\u001b[0;34m,\u001b[0m \u001b[0mSliceState\u001b[0m\u001b[0;34m.\u001b[0m\u001b[0mClosing\u001b[0m\u001b[0;34m]\u001b[0m\u001b[0;34m,\u001b[0m \u001b[0mslice_name\u001b[0m\u001b[0;34m=\u001b[0m\u001b[0mname\u001b[0m\u001b[0;34m)\u001b[0m\u001b[0;34m\u001b[0m\u001b[0;34m\u001b[0m\u001b[0m\n\u001b[0m\u001b[1;32m   1209\u001b[0m \u001b[0;34m\u001b[0m\u001b[0m\n\u001b[1;32m   1210\u001b[0m             \u001b[0;32mreturn\u001b[0m \u001b[0mslices\u001b[0m\u001b[0;34m[\u001b[0m\u001b[0;36m0\u001b[0m\u001b[0;34m]\u001b[0m\u001b[0;34m\u001b[0m\u001b[0;34m\u001b[0m\u001b[0m\n",
      "\u001b[0;32m/opt/conda/lib/python3.9/site-packages/fabrictestbed_extensions/fablib/fablib.py\u001b[0m in \u001b[0;36mget_slices\u001b[0;34m(self, excludes, slice_name, slice_id)\u001b[0m\n\u001b[1;32m   1164\u001b[0m             \u001b[0mstart\u001b[0m \u001b[0;34m=\u001b[0m \u001b[0mtime\u001b[0m\u001b[0;34m.\u001b[0m\u001b[0mtime\u001b[0m\u001b[0;34m(\u001b[0m\u001b[0;34m)\u001b[0m\u001b[0;34m\u001b[0m\u001b[0;34m\u001b[0m\u001b[0m\n\u001b[1;32m   1165\u001b[0m \u001b[0;34m\u001b[0m\u001b[0m\n\u001b[0;32m-> 1166\u001b[0;31m         \u001b[0mreturn_status\u001b[0m\u001b[0;34m,\u001b[0m \u001b[0mslices\u001b[0m \u001b[0;34m=\u001b[0m \u001b[0mself\u001b[0m\u001b[0;34m.\u001b[0m\u001b[0mget_slice_manager\u001b[0m\u001b[0;34m(\u001b[0m\u001b[0;34m)\u001b[0m\u001b[0;34m.\u001b[0m\u001b[0mslices\u001b[0m\u001b[0;34m(\u001b[0m\u001b[0mexcludes\u001b[0m\u001b[0;34m=\u001b[0m\u001b[0mexcludes\u001b[0m\u001b[0;34m,\u001b[0m \u001b[0mname\u001b[0m\u001b[0;34m=\u001b[0m\u001b[0mslice_name\u001b[0m\u001b[0;34m,\u001b[0m \u001b[0mslice_id\u001b[0m\u001b[0;34m=\u001b[0m\u001b[0mslice_id\u001b[0m\u001b[0;34m)\u001b[0m\u001b[0;34m\u001b[0m\u001b[0;34m\u001b[0m\u001b[0m\n\u001b[0m\u001b[1;32m   1167\u001b[0m \u001b[0;34m\u001b[0m\u001b[0m\n\u001b[1;32m   1168\u001b[0m         \u001b[0;32mif\u001b[0m \u001b[0mself\u001b[0m\u001b[0;34m.\u001b[0m\u001b[0mget_log_level\u001b[0m\u001b[0;34m(\u001b[0m\u001b[0;34m)\u001b[0m \u001b[0;34m==\u001b[0m \u001b[0mlogging\u001b[0m\u001b[0;34m.\u001b[0m\u001b[0mDEBUG\u001b[0m\u001b[0;34m:\u001b[0m\u001b[0;34m\u001b[0m\u001b[0;34m\u001b[0m\u001b[0m\n",
      "\u001b[0;32m/opt/conda/lib/python3.9/site-packages/fabrictestbed/slice_manager/slice_manager.py\u001b[0m in \u001b[0;36mslices\u001b[0;34m(self, includes, excludes, name, limit, offset, slice_id)\u001b[0m\n\u001b[1;32m    281\u001b[0m         \"\"\"\n\u001b[1;32m    282\u001b[0m         \u001b[0;32mif\u001b[0m \u001b[0mself\u001b[0m\u001b[0;34m.\u001b[0m\u001b[0m__should_renew\u001b[0m\u001b[0;34m(\u001b[0m\u001b[0;34m)\u001b[0m\u001b[0;34m:\u001b[0m\u001b[0;34m\u001b[0m\u001b[0;34m\u001b[0m\u001b[0m\n\u001b[0;32m--> 283\u001b[0;31m             \u001b[0mself\u001b[0m\u001b[0;34m.\u001b[0m\u001b[0mrefresh_tokens\u001b[0m\u001b[0;34m(\u001b[0m\u001b[0;34m)\u001b[0m\u001b[0;34m\u001b[0m\u001b[0;34m\u001b[0m\u001b[0m\n\u001b[0m\u001b[1;32m    284\u001b[0m         return self.oc_proxy.slices(token=self.get_id_token(), includes=includes, excludes=excludes,\n\u001b[1;32m    285\u001b[0m                                     name=name, limit=limit, offset=offset, slice_id=slice_id)\n",
      "\u001b[0;32m/opt/conda/lib/python3.9/site-packages/fabrictestbed/slice_manager/slice_manager.py\u001b[0m in \u001b[0;36mrefresh_tokens\u001b[0;34m(self, refresh_token)\u001b[0m\n\u001b[1;32m    160\u001b[0m             \u001b[0mself\u001b[0m\u001b[0;34m.\u001b[0m\u001b[0mtokens\u001b[0m \u001b[0;34m=\u001b[0m \u001b[0mtokens\u001b[0m\u001b[0;34m\u001b[0m\u001b[0;34m\u001b[0m\u001b[0m\n\u001b[1;32m    161\u001b[0m             \u001b[0;32mreturn\u001b[0m \u001b[0mtokens\u001b[0m\u001b[0;34m.\u001b[0m\u001b[0mget\u001b[0m\u001b[0;34m(\u001b[0m\u001b[0mCredmgrProxy\u001b[0m\u001b[0;34m.\u001b[0m\u001b[0mID_TOKEN\u001b[0m\u001b[0;34m,\u001b[0m \u001b[0;32mNone\u001b[0m\u001b[0;34m)\u001b[0m\u001b[0;34m,\u001b[0m \u001b[0mtokens\u001b[0m\u001b[0;34m.\u001b[0m\u001b[0mget\u001b[0m\u001b[0;34m(\u001b[0m\u001b[0mCredmgrProxy\u001b[0m\u001b[0;34m.\u001b[0m\u001b[0mREFRESH_TOKEN\u001b[0m\u001b[0;34m,\u001b[0m \u001b[0;32mNone\u001b[0m\u001b[0;34m)\u001b[0m\u001b[0;34m\u001b[0m\u001b[0;34m\u001b[0m\u001b[0m\n\u001b[0;32m--> 162\u001b[0;31m         \u001b[0;32mraise\u001b[0m \u001b[0mSliceManagerException\u001b[0m\u001b[0;34m(\u001b[0m\u001b[0mtokens\u001b[0m\u001b[0;34m.\u001b[0m\u001b[0mget\u001b[0m\u001b[0;34m(\u001b[0m\u001b[0mCredmgrProxy\u001b[0m\u001b[0;34m.\u001b[0m\u001b[0mERROR\u001b[0m\u001b[0;34m)\u001b[0m\u001b[0;34m)\u001b[0m\u001b[0;34m\u001b[0m\u001b[0;34m\u001b[0m\u001b[0m\n\u001b[0m\u001b[1;32m    163\u001b[0m \u001b[0;34m\u001b[0m\u001b[0m\n\u001b[1;32m    164\u001b[0m     \u001b[0;32mdef\u001b[0m \u001b[0mrevoke_token\u001b[0m\u001b[0;34m(\u001b[0m\u001b[0mself\u001b[0m\u001b[0;34m,\u001b[0m \u001b[0;34m*\u001b[0m\u001b[0;34m,\u001b[0m \u001b[0mrefresh_token\u001b[0m\u001b[0;34m:\u001b[0m \u001b[0mstr\u001b[0m \u001b[0;34m=\u001b[0m \u001b[0;32mNone\u001b[0m\u001b[0;34m)\u001b[0m \u001b[0;34m->\u001b[0m \u001b[0mTuple\u001b[0m\u001b[0;34m[\u001b[0m\u001b[0mStatus\u001b[0m\u001b[0;34m,\u001b[0m \u001b[0mAny\u001b[0m\u001b[0;34m]\u001b[0m\u001b[0;34m:\u001b[0m\u001b[0;34m\u001b[0m\u001b[0;34m\u001b[0m\u001b[0m\n",
      "\u001b[0;31mSliceManagerException\u001b[0m: b'{\\n    \"errors\": [\\n        {\\n            \"details\": \"(invalid_grant) invalid refresh token\",\\n            \"message\": \"Internal Server Error\"\\n        }\\n    ],\\n    \"size\": 1,\\n    \"status\": 500,\\n    \"type\": \"error\"\\n}'"
     ]
    }
   ],
   "source": [
    "slice = fablib.get_slice(name=slice_name)"
   ]
  },
  {
   "cell_type": "markdown",
   "metadata": {},
   "source": [
    "### Create the Slice"
   ]
  },
  {
   "cell_type": "code",
   "execution_count": 4,
   "metadata": {},
   "outputs": [
    {
     "name": "stdout",
     "output_type": "stream",
     "text": [
      "\n",
      "-----------  ------------------------------------\n",
      "Slice Name   VCC3\n",
      "Slice ID     8ad65306-5e2c-4e7e-8cd0-2c6c30712c72\n",
      "Slice State  StableOK\n",
      "Lease End    2022-09-03 16:08:38 +0000\n",
      "-----------  ------------------------------------\n",
      "\n",
      "Retry: 19, Time: 301 sec\n",
      "\n",
      "ID                                    Name    Site    Host                         Cores    RAM    Disk  Image              Management IP    State    Error\n",
      "------------------------------------  ------  ------  -------------------------  -------  -----  ------  -----------------  ---------------  -------  -------\n",
      "b217e7b1-f484-44ee-9d12-3f421d8b6efe  s1      MAX     max-w5.fabric-testbed.net        2      8     100  default_ubuntu_20  63.239.135.82    Active\n",
      "b3ad10b1-78a5-4eec-9e06-d2a70bf29d83  s2      MAX     max-w5.fabric-testbed.net        2      8     100  default_ubuntu_20  63.239.135.71    Active\n",
      "555e5599-5cc9-44f2-8d34-edc079d2f9d4  s3      MAX     max-w5.fabric-testbed.net        2      8     100  default_ubuntu_20  63.239.135.76    Active\n",
      "99eee603-8be9-4e80-88c8-29de0d562d5c  h1      MAX     max-w5.fabric-testbed.net        2      8     100  default_ubuntu_20  63.239.135.108   Active\n",
      "8c8564c6-266f-4cbb-8e18-98ec692959f9  h11     MAX     max-w5.fabric-testbed.net        2      8     100  default_ubuntu_20  63.239.135.90    Active\n",
      "d4c47c6e-335e-4e1b-9e0c-0fed452d6589  h2      MAX     max-w5.fabric-testbed.net        2      8     100  default_ubuntu_20  63.239.135.117   Active\n",
      "465d9ddf-16f8-4a3c-a8eb-0bcbe31fccf7  h22     MAX     max-w5.fabric-testbed.net        2      8     100  default_ubuntu_20  63.239.135.101   Active\n",
      "\n",
      "Time to stable 301 seconds\n",
      "Running post_boot_config ... Time to post boot config 329 seconds\n",
      "\n",
      "Name                  Node    Network      Bandwidth  VLAN    MAC                Physical OS Interface    OS Interface\n",
      "--------------------  ------  ---------  -----------  ------  -----------------  -----------------------  --------------\n",
      "s1-s1_iface_h1-p1     s1      net_h1               0          06:3A:62:73:E3:CE  ens8                     ens8\n",
      "s1-s1_iface_to_s3-p1  s1      net_s1_s3            0          06:C0:E2:D6:6E:CA  ens10                    ens10\n",
      "s1-s1_iface_h11-p1    s1      net_h11              0          06:97:DD:B1:D5:05  ens9                     ens9\n",
      "s1-s1_iface_to_s2-p1  s1      net_s1_s2            0          02:1A:9D:93:82:A9  ens7                     ens7\n",
      "s2-s2_iface_h22-p1    s2      net_h22              0          0A:60:A8:32:58:F4  ens7                     ens7\n",
      "s2-s2_iface_to_s1-p1  s2      net_s1_s2            0          0A:7E:AA:58:B2:3B  ens8                     ens8\n",
      "s2-s2_iface_h2-p1     s2      net_h2               0          0E:8D:AC:5E:6C:2E  ens10                    ens10\n",
      "s2-s2_iface_to_s3-p1  s2      net_s2_s3            0          0A:EA:A1:FC:E8:CF  ens9                     ens9\n",
      "s3-s3_iface_to_s1-p1  s3      net_s1_s3            0          12:86:57:7C:5C:76  ens8                     ens8\n",
      "s3-s3_iface_to_s2-p1  s3      net_s2_s3            0          0E:C9:A6:7A:9F:2A  ens7                     ens7\n",
      "h1-h1_nic-p1          h1      net_h1               0          16:59:B5:75:01:50  ens7                     ens7\n",
      "h11-h11_nic-p1        h11     net_h11              0          1A:30:82:43:1A:63  ens7                     ens7\n",
      "h2-h2_nic-p1          h2      net_h2               0          1A:8F:07:4C:8D:11  ens7                     ens7\n",
      "h22-h22_nic-p1        h22     net_h22              0          1E:7C:A5:83:3B:97  ens7                     ens7\n",
      "\n",
      "Time to print interfaces 350 seconds\n"
     ]
    }
   ],
   "source": [
    "import datetime\n",
    "try:\n",
    "    slice = fablib.get_slice(name=slice_name)\n",
    "    slice.delete()\n",
    "except Exception as e:\n",
    "    print(f\"Fail: {e}\")\n",
    "    traceback.print_exc()\n",
    "\n",
    "try:\n",
    "    #Create Slice\n",
    "    slice = fablib.new_slice(name=slice_name)\n",
    "    \n",
    "    def addSwitchNIC(nodeName,site,ifaceNames):\n",
    "        node = slice.add_node(name=nodeName, site=site,  image=image, cores=switch_cores, ram=switch_ram, disk=switch_disk)\n",
    "        ifaceObj = {}\n",
    "        for name in ifaceNames:\n",
    "            iface =  node.add_component(model='NIC_Basic', name=name).get_interfaces()[0]\n",
    "            ifaceObj[name] = iface\n",
    "        return node, ifaceObj\n",
    "    \n",
    "    # Add switch node s1\n",
    "    s1, s1_ifaces = addSwitchNIC(s1_name,site1,[s1_iface_h1,s1_iface_h11,s1_iface_to_s2,s1_iface_to_s3])\n",
    "\n",
    "    # Add switch node s2\n",
    "    s2, s2_ifaces = addSwitchNIC(s2_name,site2,[s2_iface_h2,s2_iface_h22,s2_iface_to_s1,s2_iface_to_s3])\n",
    "    \n",
    "    # Add switch node s3\n",
    "    s3, s3_ifaces = addSwitchNIC(s3_name,site3,[s3_iface_to_s1,s3_iface_to_s2])\n",
    "    \n",
    "    def addHostNIC(nodeName,componentName,site):\n",
    "        node = slice.add_node(name=nodeName, site=site, image=image, cores=host_cores, ram=host_ram, disk=host_disk)\n",
    "        iface = node.add_component(model='NIC_Basic', name=componentName).get_interfaces()[0]\n",
    "        return node,iface\n",
    "    \n",
    "    # Add host node h1\n",
    "    h1,h1_iface = addHostNIC(h1_name,\"h1_nic\",site1)\n",
    "\n",
    "    # Add host node h11\n",
    "    h11 , h11_iface = addHostNIC(h11_name,\"h11_nic\",site1)\n",
    "    \n",
    "    # Add host node h2\n",
    "    h2, h2_iface = addHostNIC(h2_name,\"h2_nic\",site2)\n",
    "    \n",
    "    # Add host node h3\n",
    "    h22, h22_iface = addHostNIC(h22_name,\"h22_nic\",site2)\n",
    "    \n",
    "    #Add swtich networks\n",
    "    switch_net1 = slice.add_l2network(name=net_s1_s2_name, interfaces=[s1_ifaces[s1_iface_to_s2], s2_ifaces[s2_iface_to_s1]])\n",
    "    swtich_net2 = slice.add_l2network(name=net_s2_s3_name, interfaces=[s2_ifaces[s2_iface_to_s3], s3_ifaces[s3_iface_to_s2]])\n",
    "    swtich_net3 = slice.add_l2network(name=net_s1_s3_name, interfaces=[s3_ifaces[s3_iface_to_s1], s1_ifaces[s1_iface_to_s3]])\n",
    "\n",
    "    #Add host networks \n",
    "    host_net1 = slice.add_l2network(name=net_h1_name, interfaces=[s1_ifaces[s1_iface_h1], h1_iface])\n",
    "    host_net11 = slice.add_l2network(name=net_h11_name, interfaces=[s1_ifaces[s1_iface_h11], h11_iface])\n",
    "    host_net2 = slice.add_l2network(name=net_h2_name, interfaces=[s2_ifaces[s2_iface_h2], h2_iface])\n",
    "    host_net22 = slice.add_l2network(name=net_h22_name, interfaces=[s2_ifaces[s2_iface_h22], h22_iface])\n",
    "    \n",
    "    #Submit Slice Request\n",
    "    slice.submit() \n",
    "except Exception as e:\n",
    "    print(f\"Error: {e}\")\n",
    "    traceback.print_exc()\n",
    "    "
   ]
  },
  {
   "cell_type": "code",
   "execution_count": 25,
   "metadata": {},
   "outputs": [
    {
     "name": "stdout",
     "output_type": "stream",
     "text": [
      "-----------------  ------\n",
      "ID\n",
      "Name               net_h1\n",
      "Layer\n",
      "Type\n",
      "Site\n",
      "Gateway\n",
      "L3 Subnet\n",
      "Reservation State\n",
      "Error Message\n",
      "-----------------  ------\n",
      "-----------------  -------\n",
      "ID\n",
      "Name               net_h11\n",
      "Layer\n",
      "Type\n",
      "Site\n",
      "Gateway\n",
      "L3 Subnet\n",
      "Reservation State\n",
      "Error Message\n",
      "-----------------  -------\n"
     ]
    }
   ],
   "source": [
    "print(host_net1)\n",
    "print(host_net11)"
   ]
  },
  {
   "cell_type": "code",
   "execution_count": 5,
   "metadata": {},
   "outputs": [],
   "source": [
    "def checkInetConnection(node):\n",
    "    try:\n",
    "\n",
    "        #If the node is an IPv6 Node then configure NAT64\n",
    "        if type(ip_address(node.get_management_ip())) is IPv6Address:\n",
    "            print(\"This code only works with ip4, reconfigure nodes\")\n",
    "            return\n",
    "\n",
    "        #Access non-IPv6 Services\n",
    "        stdout, stderr = node.execute(f'sudo apt-get update -qq && sudo apt install net-tools && git clone https://github.com/fabric-testbed/jupyter-examples.git')\n",
    "        # print(stdout)\n",
    "        # print(stderr)\n",
    "\n",
    "        stdout, stderr = node.execute(f'ls jupyter-examples')\n",
    "        print(stdout)\n",
    "        print(stderr)\n",
    "        \n",
    "        stdout, stderr = node.execute(f'ifconfig | grep ens')\n",
    "        print(stdout)\n",
    "        print(stderr)\n",
    "\n",
    "\n",
    "    except Exception as e:\n",
    "        print(f\"Exception: {e}\")"
   ]
  },
  {
   "cell_type": "code",
   "execution_count": 6,
   "metadata": {},
   "outputs": [
    {
     "name": "stdout",
     "output_type": "stream",
     "text": [
      "Node:\n",
      "   Name              : s1\n",
      "LICENSE\n",
      "Readme.md\n",
      "fabric_examples\n",
      "start_here.ipynb\n",
      "\n",
      "\n",
      "ens3: flags=4163<UP,BROADCAST,RUNNING,MULTICAST>  mtu 9000\n",
      "ens7: flags=4163<UP,BROADCAST,RUNNING,MULTICAST>  mtu 1500\n",
      "ens8: flags=4163<UP,BROADCAST,RUNNING,MULTICAST>  mtu 1500\n",
      "ens9: flags=4163<UP,BROADCAST,RUNNING,MULTICAST>  mtu 1500\n",
      "ens10: flags=4163<UP,BROADCAST,RUNNING,MULTICAST>  mtu 1500\n",
      "\n",
      "\n",
      "Node:\n",
      "   Name              : s2\n",
      "LICENSE\n",
      "Readme.md\n",
      "fabric_examples\n",
      "start_here.ipynb\n",
      "\n",
      "\n",
      "ens3: flags=4163<UP,BROADCAST,RUNNING,MULTICAST>  mtu 9000\n",
      "ens7: flags=4163<UP,BROADCAST,RUNNING,MULTICAST>  mtu 1500\n",
      "ens8: flags=4163<UP,BROADCAST,RUNNING,MULTICAST>  mtu 1500\n",
      "ens9: flags=4163<UP,BROADCAST,RUNNING,MULTICAST>  mtu 1500\n",
      "ens10: flags=4163<UP,BROADCAST,RUNNING,MULTICAST>  mtu 1500\n",
      "\n",
      "\n",
      "Node:\n",
      "   Name              : s3\n",
      "LICENSE\n",
      "Readme.md\n",
      "fabric_examples\n",
      "start_here.ipynb\n",
      "\n",
      "\n",
      "ens3: flags=4163<UP,BROADCAST,RUNNING,MULTICAST>  mtu 9000\n",
      "ens7: flags=4163<UP,BROADCAST,RUNNING,MULTICAST>  mtu 1500\n",
      "ens8: flags=4163<UP,BROADCAST,RUNNING,MULTICAST>  mtu 1500\n",
      "\n",
      "\n",
      "Node:\n",
      "   Name              : h1\n",
      "LICENSE\n",
      "Readme.md\n",
      "fabric_examples\n",
      "start_here.ipynb\n",
      "\n",
      "\n",
      "ens3: flags=4163<UP,BROADCAST,RUNNING,MULTICAST>  mtu 9000\n",
      "ens7: flags=4163<UP,BROADCAST,RUNNING,MULTICAST>  mtu 1500\n",
      "\n",
      "\n",
      "Node:\n",
      "   Name              : h11\n",
      "LICENSE\n",
      "Readme.md\n",
      "fabric_examples\n",
      "start_here.ipynb\n",
      "\n",
      "\n",
      "ens3: flags=4163<UP,BROADCAST,RUNNING,MULTICAST>  mtu 9000\n",
      "ens7: flags=4163<UP,BROADCAST,RUNNING,MULTICAST>  mtu 1500\n",
      "\n",
      "\n",
      "Node:\n",
      "   Name              : h2\n",
      "LICENSE\n",
      "Readme.md\n",
      "fabric_examples\n",
      "start_here.ipynb\n",
      "\n",
      "\n",
      "ens3: flags=4163<UP,BROADCAST,RUNNING,MULTICAST>  mtu 9000\n",
      "ens7: flags=4163<UP,BROADCAST,RUNNING,MULTICAST>  mtu 1500\n",
      "\n",
      "\n",
      "Node:\n",
      "   Name              : h22\n",
      "LICENSE\n",
      "Readme.md\n",
      "fabric_examples\n",
      "start_here.ipynb\n",
      "\n",
      "\n",
      "ens3: flags=4163<UP,BROADCAST,RUNNING,MULTICAST>  mtu 9000\n",
      "ens7: flags=4163<UP,BROADCAST,RUNNING,MULTICAST>  mtu 1500\n",
      "\n",
      "\n"
     ]
    }
   ],
   "source": [
    "try:\n",
    "    slice = fablib.get_slice(name=slice_name)\n",
    "    for node in slice.get_nodes():\n",
    "        print(\"Node:\")\n",
    "        print(f\"   Name              : {node.get_name()}\")\n",
    "        checkInetConnection(node)\n",
    "except Exception as e:\n",
    "    print(f\"Fail: {e}\")\n",
    "    traceback.print_exc()"
   ]
  },
  {
   "cell_type": "markdown",
   "metadata": {
    "tags": []
   },
   "source": [
    "### Print Details"
   ]
  },
  {
   "cell_type": "code",
   "execution_count": 7,
   "metadata": {},
   "outputs": [
    {
     "name": "stdout",
     "output_type": "stream",
     "text": [
      "----\n",
      "Node:\n",
      "   Name              : s1\n",
      "   SSH Command       : ./connect.sh ubuntu@63.239.135.82\n",
      "   Interfaces        :   ens8 ens10 ens9 ens7 ----\n",
      "Node:\n",
      "   Name              : s2\n",
      "   SSH Command       : ./connect.sh ubuntu@63.239.135.71\n",
      "   Interfaces        :   ens7 ens8 ens10 ens9 ----\n",
      "Node:\n",
      "   Name              : s3\n",
      "   SSH Command       : ./connect.sh ubuntu@63.239.135.76\n",
      "   Interfaces        :   ens8 ens7 ----\n",
      "Node:\n",
      "   Name              : h1\n",
      "   SSH Command       : ./connect.sh ubuntu@63.239.135.108\n",
      "   Interfaces        :   ens7 ----\n",
      "Node:\n",
      "   Name              : h11\n",
      "   SSH Command       : ./connect.sh ubuntu@63.239.135.90\n",
      "   Interfaces        :   ens7 ----\n",
      "Node:\n",
      "   Name              : h2\n",
      "   SSH Command       : ./connect.sh ubuntu@63.239.135.117\n",
      "   Interfaces        :   ens7 ----\n",
      "Node:\n",
      "   Name              : h22\n",
      "   SSH Command       : ./connect.sh ubuntu@63.239.135.101\n",
      "   Interfaces        :   ens7 "
     ]
    }
   ],
   "source": [
    "try:\n",
    "    slice = fablib.get_slice(name=slice_name)\n",
    "    for node in slice.get_nodes():\n",
    "        print(\"----\")\n",
    "        print(\"Node:\")\n",
    "        print(f\"   Name              : {node.get_name()}\")\n",
    "        # print(f\"   Cores             : {node.get_cores()}\")\n",
    "        # print(f\"   RAM               : {node.get_ram()}\")\n",
    "        # print(f\"   Disk              : {node.get_disk()}\")\n",
    "        # print(f\"   Image             : {node.get_image()}\")\n",
    "        # print(f\"   Image Type        : {node.get_image_type()}\")\n",
    "        # print(f\"   Host              : {node.get_host()}\")\n",
    "        # print(f\"   Site              : {node.get_site()}\")\n",
    "        # print(f\"   Management IP     : {node.get_management_ip()}\")\n",
    "        # print(f\"   Reservation ID    : {node.get_reservation_id()}\")\n",
    "        # print(f\"   Reservation State : {node.get_reservation_state()}\")\n",
    "        ssh = node.get_ssh_command().replace(\"ssh -i /home/fabric/work/fabric_config/.ssh/id_rsa -J durbek_gafurov_0000000854@bastion-1.fabric-testbed.net\",\"./connect.sh\")\n",
    "        print(f\"   SSH Command       : {ssh}\")\n",
    "        # print(f\"   Components        :  \")\n",
    "        # for component in node.get_components():\n",
    "        #     print(f\"      Name             : {component.get_name()}\")\n",
    "        #     print(f\"      Details          : {component.get_details()}\")\n",
    "        #     print(f\"      Disk (G)         : {component.get_disk()}\")\n",
    "        #     print(f\"      Units            : {component.get_unit()}\")\n",
    "        #     print(f\"      PCI Address      : {component.get_pci_addr()}\")\n",
    "        #     print(f\"      Model            : {component.get_model()}\")\n",
    "        #     print(f\"      Type             : {component.get_type()}\") \n",
    "        print(f\"   Interfaces        :  \", end = \" \")\n",
    "        for interface in node.get_interfaces():\n",
    "        #     print(f\"       Name                : {interface.get_name()}\")\n",
    "        #     print(f\"           Bandwidth           : {interface.get_bandwidth()}\")\n",
    "            # print(f\"           VLAN                : {interface.get_vlan()}\")  \n",
    "            # print(f\"           MAC                 : {interface.get_mac()}\") \n",
    "            print(interface.get_os_interface(), end =\" \")\n",
    "    # for network in slice.get_l2networks():\n",
    "    #     print(\"Network:\")\n",
    "    #     print(f\"    Name:            {network.get_name()}\")\n",
    "    # print(f\"Interface Map: {slice.get_interface_map()}\")\n",
    "except Exception as e:\n",
    "    print(f\"Fail: {e}\")\n",
    "    traceback.print_exc()"
   ]
  },
  {
   "cell_type": "markdown",
   "metadata": {},
   "source": [
    "## Configure Nodes\n"
   ]
  },
  {
   "cell_type": "code",
   "execution_count": 8,
   "metadata": {},
   "outputs": [],
   "source": [
    "config_threads = {}"
   ]
  },
  {
   "cell_type": "code",
   "execution_count": 9,
   "metadata": {},
   "outputs": [
    {
     "name": "stdout",
     "output_type": "stream",
     "text": [
      "('_gateway (10.20.4.1) at fa:16:3e:2b:d0:b1 [ether] on ens3\\n? (10.20.4.11) at fa:16:3e:da:bd:a4 [ether] on ens3\\n? (10.0.1.0) at 08:00:00:00:01:00 [ether] PERM on ens7\\n', '')\n",
      "('_gateway (10.20.4.1) at fa:16:3e:2b:d0:b1 [ether] on ens3\\n? (10.20.4.11) at fa:16:3e:da:bd:a4 [ether] on ens3\\n? (10.0.1.10) at 08:00:00:00:01:00 [ether] PERM on ens7\\n', '')\n",
      "('? (10.0.2.3) at 08:00:00:00:02:00 [ether] PERM on ens7\\n_gateway (10.20.4.1) at fa:16:3e:2b:d0:b1 [ether] on ens3\\n? (10.20.4.11) at fa:16:3e:da:bd:a4 [ether] on ens3\\n', '')\n",
      "('_gateway (10.20.4.1) at fa:16:3e:2b:d0:b1 [ether] on ens3\\n? (10.20.4.11) at fa:16:3e:da:bd:a4 [ether] on ens3\\n? (10.0.2.23) at 08:00:00:00:02:00 [ether] PERM on ens7\\n', '')\n"
     ]
    }
   ],
   "source": [
    "host_config_script = \"sudo apt-get update -qq && sudo apt-get install -qq -y python3-scapy && git clone https://github.com/p4lang/tutorials.git/\" \n",
    "def addIP(name,net_name,node_addr,node_subnet):\n",
    "    node = slice.get_node(name=name)        \n",
    "    h1_os_iface = node.get_interface(network_name=net_name).ip_addr_add(addr=node_addr, subnet=node_subnet)\n",
    "    config_thread = node.execute_thread(host_config_script)\n",
    "    config_threads[node]=config_thread\n",
    "    return node\n",
    "    \n",
    "try:\n",
    "    \n",
    "    h1 = addIP(h1_name,net_h1_name,h1_addr,h1_subnet)\n",
    "    print(h1.execute(f'sudo arp -i ens7 -s 10.0.1.0 08:00:00:00:01:00 && arp -a'))\n",
    "    h11 = addIP(h11_name,net_h11_name,h11_addr,h1_subnet)\n",
    "    print(h11.execute(f'sudo arp -i ens7 -s 10.0.1.10 08:00:00:00:01:00 && arp -a'))\n",
    "    h2 = addIP(h2_name,net_h2_name,h2_addr,h2_subnet)\n",
    "    print(h2.execute(f'sudo arp -i ens7 -s 10.0.2.3 08:00:00:00:02:00 && arp -a'))\n",
    "    h22 = addIP(h22_name,net_h22_name,h22_addr,h2_subnet)\n",
    "    print(h22.execute(f'sudo arp -i ens7 -s 10.0.2.23 08:00:00:00:02:00 && arp -a'))\n",
    "\n",
    "\n",
    "except Exception as e:\n",
    "    print(f\"Error: {e}\")\n",
    "    traceback.print_exc()"
   ]
  },
  {
   "cell_type": "code",
   "execution_count": 10,
   "metadata": {},
   "outputs": [],
   "source": [
    "def checkIP(node):\n",
    "    try:        \n",
    "        stdout, stderr = node.execute(f'ifconfig | grep \"inet 10.0.\"')\n",
    "        print(stdout)\n",
    "        print(stderr)\n",
    "    except Exception as e:\n",
    "        print(f\"Exception: {e}\")"
   ]
  },
  {
   "cell_type": "code",
   "execution_count": 11,
   "metadata": {},
   "outputs": [
    {
     "name": "stdout",
     "output_type": "stream",
     "text": [
      "Config thread node h1 complete\n",
      "        inet 10.0.1.1  netmask 255.255.255.0  broadcast 0.0.0.0\n",
      "\n",
      "\n",
      "Config thread node h11 complete\n",
      "        inet 10.0.1.11  netmask 255.255.255.0  broadcast 0.0.0.0\n",
      "\n",
      "\n",
      "Config thread node h2 complete\n",
      "        inet 10.0.2.2  netmask 255.255.255.0  broadcast 0.0.0.0\n",
      "\n",
      "\n",
      "Config thread node h22 complete\n",
      "        inet 10.0.2.22  netmask 255.255.255.0  broadcast 0.0.0.0\n",
      "\n",
      "\n"
     ]
    }
   ],
   "source": [
    "try: \n",
    "    for node, thread in config_threads.items():\n",
    "        stdout, stderr = thread.result()\n",
    "        print(f\"Config thread node {node.get_name()} complete\")\n",
    "        checkIP(node)\n",
    "        # print(f\"stdout: {stdout}\")\n",
    "        # print(f\"stderr: {stderr}\")\n",
    "except Exception as e:\n",
    "    print(f\"Error: {e}\")\n",
    "    traceback.print_exc() \n",
    "config_threads = {}"
   ]
  },
  {
   "cell_type": "markdown",
   "metadata": {},
   "source": [
    "## Configure Switches\n",
    "\n",
    "Use ssh to configure the ifaces on the switches. This step requires testing the interfaces to figure out which interface is connected to which network.\n"
   ]
  },
  {
   "cell_type": "markdown",
   "metadata": {},
   "source": [
    "#### Setup P4 Docker\n",
    "\n"
   ]
  },
  {
   "cell_type": "markdown",
   "metadata": {},
   "source": [
    "Below are commands to let sudo work with the global proxy."
   ]
  },
  {
   "cell_type": "code",
   "execution_count": 12,
   "metadata": {},
   "outputs": [],
   "source": [
    "def configureSwitch(name,network_names):\n",
    "    try:\n",
    "        node = slice.get_node(name=name)\n",
    "        os_ifaces = \"\"\n",
    "        for net_name in network_names:\n",
    "            iface = node.get_interface(network_name=net_name).get_os_interface()\n",
    "            if iface is None:\n",
    "                print(\"iface is none\")\n",
    "                return\n",
    "            os_ifaces=os_ifaces+iface+\" \"\n",
    "\n",
    "        file_attributes = node.upload_file('./scripts/router_setup_p4_bmv2_container.sh','router_setup_p4_bmv2_container.sh')\n",
    "        command=f\"chmod +x router_setup_p4_bmv2_container.sh && sudo sh -c './router_setup_p4_bmv2_container.sh {os_ifaces}  > /tmp/script.log 2>&1' && tail /tmp/script.log\"\n",
    "        config_threads[node] = node.execute_thread(command)\n",
    "        print(command)\n",
    "\n",
    "\n",
    "    except Exception as e:\n",
    "        print(f\"Error: {e}\")\n",
    "        traceback.print_exc()"
   ]
  },
  {
   "cell_type": "code",
   "execution_count": 13,
   "metadata": {},
   "outputs": [
    {
     "name": "stdout",
     "output_type": "stream",
     "text": [
      "chmod +x router_setup_p4_bmv2_container.sh && sudo sh -c './router_setup_p4_bmv2_container.sh ens8 ens9 ens7 ens10   > /tmp/script.log 2>&1' && tail /tmp/script.log\n",
      "chmod +x router_setup_p4_bmv2_container.sh && sudo sh -c './router_setup_p4_bmv2_container.sh ens10 ens7 ens8 ens9   > /tmp/script.log 2>&1' && tail /tmp/script.log\n",
      "chmod +x router_setup_p4_bmv2_container.sh && sudo sh -c './router_setup_p4_bmv2_container.sh ens8 ens7   > /tmp/script.log 2>&1' && tail /tmp/script.log\n"
     ]
    }
   ],
   "source": [
    "configureSwitch(s1_name,[net_h1_name,net_h11_name,net_s1_s2_name,net_s1_s3_name]) \n",
    "configureSwitch(s2_name,[net_h2_name,net_h22_name,net_s1_s2_name,net_s2_s3_name])\n",
    "configureSwitch(s3_name,[net_s1_s3_name,net_s2_s3_name])"
   ]
  },
  {
   "cell_type": "code",
   "execution_count": 14,
   "metadata": {},
   "outputs": [
    {
     "name": "stdout",
     "output_type": "stream",
     "text": [
      "Config thread node s1 complete\n",
      "stdout: V1Switch(\n",
      "MyParser(),\n",
      "MyVerifyChecksum(),\n",
      "MyIngress(),\n",
      "MyEgress(),\n",
      "MyComputeChecksum(),\n",
      "MyDeparser()\n",
      ") main;\n",
      "simple_switch --interface 1@ens8 --interface 2@ens9 --interface 3@ens7 --interface 4@ens10 ~/P4-VCC/exercises/mri_port_forward/mri.json\n",
      "done!\n",
      "\n",
      "stderr: \n",
      "Config thread node s2 complete\n",
      "stdout: V1Switch(\n",
      "MyParser(),\n",
      "MyVerifyChecksum(),\n",
      "MyIngress(),\n",
      "MyEgress(),\n",
      "MyComputeChecksum(),\n",
      "MyDeparser()\n",
      ") main;\n",
      "simple_switch --interface 1@ens10 --interface 2@ens7 --interface 3@ens8 --interface 4@ens9 ~/P4-VCC/exercises/mri_port_forward/mri.json\n",
      "done!\n",
      "\n",
      "stderr: \n",
      "Config thread node s3 complete\n",
      "stdout: V1Switch(\n",
      "MyParser(),\n",
      "MyVerifyChecksum(),\n",
      "MyIngress(),\n",
      "MyEgress(),\n",
      "MyComputeChecksum(),\n",
      "MyDeparser()\n",
      ") main;\n",
      "simple_switch --interface 1@ens8 --interface 2@ens7 ~/P4-VCC/exercises/mri_port_forward/mri.json\n",
      "done!\n",
      "\n",
      "stderr: \n"
     ]
    }
   ],
   "source": [
    "try: \n",
    "    for node, thread in config_threads.items():\n",
    "        stdout, stderr = thread.result()\n",
    "        print(f\"Config thread node {node.get_name()} complete\")\n",
    "        print(f\"stdout: {stdout}\")\n",
    "        print(f\"stderr: {stderr}\")\n",
    "except Exception as e:\n",
    "    print(f\"Error: {e}\")\n",
    "    traceback.print_exc() \n"
   ]
  },
  {
   "cell_type": "markdown",
   "metadata": {},
   "source": [
    "### Confgure P4 Switch Tables\n",
    "\n",
    "Edit sX_commands.txt to change the values"
   ]
  },
  {
   "cell_type": "code",
   "execution_count": 15,
   "metadata": {},
   "outputs": [
    {
     "name": "stdout",
     "output_type": "stream",
     "text": [
      "16:59:B5:75:01:50 1A:30:82:43:1A:63 1A:8F:07:4C:8D:11 1E:7C:A5:83:3B:97\n",
      "table_clear MyEgress.swtrace\n",
      "table_clear MyIngress.ipv4_lpm \n",
      "table_set_default MyEgress.swtrace add_swtrace 1\n",
      "table_add MyIngress.ipv4_lpm ipv4_forward 10.0.1.1/32 => 16:59:B5:75:01:50 1\n",
      "table_add MyIngress.ipv4_lpm ipv4_forward 10.0.1.11/32 => 1A:30:82:43:1A:63 2\n",
      "table_add MyIngress.ipv4_lpm ipv4_forward 10.0.2.2/32 => 08:00:00:00:02:00 3\n",
      "table_add MyIngress.ipv4_lpm ipv4_forward 10.0.2.22/32 => 08:00:00:00:03:00 4\n",
      " ./scripts/s1command.txt\n",
      "table_clear MyEgress.swtrace\n",
      "table_clear MyIngress.ipv4_lpm \n",
      "table_set_default MyEgress.swtrace add_swtrace 2\n",
      "table_add MyIngress.ipv4_lpm ipv4_forward 10.0.1.1/32 => 08:00:00:00:01:00 3\n",
      "table_add MyIngress.ipv4_lpm ipv4_forward 10.0.1.11/32 => 08:00:00:00:03:00 4\n",
      "table_add MyIngress.ipv4_lpm ipv4_forward 10.0.2.2/32 => 1A:8F:07:4C:8D:11 1\n",
      "table_add MyIngress.ipv4_lpm ipv4_forward 10.0.2.22/32 => 1E:7C:A5:83:3B:97 2\n",
      " ./scripts/s2command.txt\n",
      "table_clear MyEgress.swtrace\n",
      "table_clear MyIngress.ipv4_lpm \n",
      "table_set_default MyEgress.swtrace add_swtrace 3\n",
      "table_add MyIngress.ipv4_lpm ipv4_forward 10.0.1.0/32 => 08:00:00:00:01:00 1\n",
      "table_add MyIngress.ipv4_lpm ipv4_forward 10.0.2.0/32 => 08:00:00:00:02:00 2\n",
      " ./scripts/s3command.txt\n"
     ]
    }
   ],
   "source": [
    "h1Mac = h1.get_interface(network_name=net_h1_name).get_mac()\n",
    "h11Mac = h11.get_interface(network_name=net_h11_name).get_mac()\n",
    "h2Mac = h2.get_interface(network_name=net_h2_name).get_mac()\n",
    "h22Mac = h22.get_interface(network_name=net_h22_name).get_mac()\n",
    "print(h1Mac,h11Mac,h2Mac,h22Mac)\n",
    "def printToFile(text,filename):\n",
    "    text_file = open(filename, \"w\")\n",
    "    n = text_file.write(text)\n",
    "    text_file.close()\n",
    "s1_command = \"\"\"table_clear MyEgress.swtrace\n",
    "table_clear MyIngress.ipv4_lpm \n",
    "table_set_default MyEgress.swtrace add_swtrace 1\n",
    "table_add MyIngress.ipv4_lpm ipv4_forward 10.0.1.1/32 => {} 1\n",
    "table_add MyIngress.ipv4_lpm ipv4_forward 10.0.1.11/32 => {} 2\n",
    "table_add MyIngress.ipv4_lpm ipv4_forward 10.0.2.2/32 => 08:00:00:00:02:00 3\n",
    "table_add MyIngress.ipv4_lpm ipv4_forward 10.0.2.22/32 => 08:00:00:00:03:00 4\n",
    "\"\"\".format(h1Mac, h11Mac)\n",
    "s2_command = \"\"\"table_clear MyEgress.swtrace\n",
    "table_clear MyIngress.ipv4_lpm \n",
    "table_set_default MyEgress.swtrace add_swtrace 2\n",
    "table_add MyIngress.ipv4_lpm ipv4_forward 10.0.1.1/32 => 08:00:00:00:01:00 3\n",
    "table_add MyIngress.ipv4_lpm ipv4_forward 10.0.1.11/32 => 08:00:00:00:03:00 4\n",
    "table_add MyIngress.ipv4_lpm ipv4_forward 10.0.2.2/32 => {} 1\n",
    "table_add MyIngress.ipv4_lpm ipv4_forward 10.0.2.22/32 => {} 2\n",
    "\"\"\".format(h2Mac,h22Mac)\n",
    "s3_command = \"\"\"table_clear MyEgress.swtrace\n",
    "table_clear MyIngress.ipv4_lpm \n",
    "table_set_default MyEgress.swtrace add_swtrace 3\n",
    "table_add MyIngress.ipv4_lpm ipv4_forward 10.0.1.0/32 => 08:00:00:00:01:00 1\n",
    "table_add MyIngress.ipv4_lpm ipv4_forward 10.0.2.0/32 => 08:00:00:00:02:00 2\n",
    "\"\"\".format(h11Mac,h22Mac)\n",
    "printToFile(s1_command, \"./scripts/s1command.txt\")\n",
    "printToFile(s2_command, \"./scripts/s2command.txt\")\n",
    "printToFile(s3_command, \"./scripts/s3command.txt\")\n",
    "print(s1_command, \"./scripts/s1command.txt\")\n",
    "print(s2_command, \"./scripts/s2command.txt\")\n",
    "print(s3_command, \"./scripts/s3command.txt\")"
   ]
  },
  {
   "cell_type": "code",
   "execution_count": 16,
   "metadata": {},
   "outputs": [
    {
     "name": "stdout",
     "output_type": "stream",
     "text": [
      "Swtitch Name        : s1\n",
      "Management IP    : 63.239.135.82\n",
      "s1command.txt\n",
      "file_attributes: -rw-rw-r--   1 1000     1000          420 02 Sep 16:28 ?\n",
      "stdout: ('Obtaining JSON from switch...\\nDone\\nControl utility for runtime P4 table manipulation\\nRuntimeCmd: RuntimeCmd: RuntimeCmd: Setting default action of MyEgress.swtrace\\naction:              add_swtrace\\nruntime data:        00:00:00:01\\nRuntimeCmd: Adding entry to lpm match table MyIngress.ipv4_lpm\\nmatch key:           LPM-0a:00:01:01/32\\naction:              ipv4_forward\\nruntime data:        16:59:b5:75:01:50\\t00:01\\nEntry has been added with handle 0\\nRuntimeCmd: Adding entry to lpm match table MyIngress.ipv4_lpm\\nmatch key:           LPM-0a:00:01:0b/32\\naction:              ipv4_forward\\nruntime data:        1a:30:82:43:1a:63\\t00:02\\nEntry has been added with handle 1\\nRuntimeCmd: Adding entry to lpm match table MyIngress.ipv4_lpm\\nmatch key:           LPM-0a:00:02:02/32\\naction:              ipv4_forward\\nruntime data:        08:00:00:00:02:00\\t00:03\\nEntry has been added with handle 2\\nRuntimeCmd: Adding entry to lpm match table MyIngress.ipv4_lpm\\nmatch key:           LPM-0a:00:02:16/32\\naction:              ipv4_forward\\nruntime data:        08:00:00:00:03:00\\t00:04\\nEntry has been added with handle 3\\nRuntimeCmd: \\n', '')\n",
      "Swtitch Name        : s2\n",
      "Management IP    : 63.239.135.71\n",
      "s2command.txt\n",
      "file_attributes: -rw-rw-r--   1 1000     1000          420 02 Sep 16:28 ?\n",
      "stdout: ('Obtaining JSON from switch...\\nDone\\nControl utility for runtime P4 table manipulation\\nRuntimeCmd: RuntimeCmd: RuntimeCmd: Setting default action of MyEgress.swtrace\\naction:              add_swtrace\\nruntime data:        00:00:00:02\\nRuntimeCmd: Adding entry to lpm match table MyIngress.ipv4_lpm\\nmatch key:           LPM-0a:00:01:01/32\\naction:              ipv4_forward\\nruntime data:        08:00:00:00:01:00\\t00:03\\nEntry has been added with handle 0\\nRuntimeCmd: Adding entry to lpm match table MyIngress.ipv4_lpm\\nmatch key:           LPM-0a:00:01:0b/32\\naction:              ipv4_forward\\nruntime data:        08:00:00:00:03:00\\t00:04\\nEntry has been added with handle 1\\nRuntimeCmd: Adding entry to lpm match table MyIngress.ipv4_lpm\\nmatch key:           LPM-0a:00:02:02/32\\naction:              ipv4_forward\\nruntime data:        1a:8f:07:4c:8d:11\\t00:01\\nEntry has been added with handle 2\\nRuntimeCmd: Adding entry to lpm match table MyIngress.ipv4_lpm\\nmatch key:           LPM-0a:00:02:16/32\\naction:              ipv4_forward\\nruntime data:        1e:7c:a5:83:3b:97\\t00:02\\nEntry has been added with handle 3\\nRuntimeCmd: \\n', '')\n",
      "Swtitch Name        : s3\n",
      "Management IP    : 63.239.135.76\n",
      "s3command.txt\n",
      "file_attributes: -rw-rw-r--   1 1000     1000          264 02 Sep 16:28 ?\n",
      "stdout: ('Obtaining JSON from switch...\\nDone\\nControl utility for runtime P4 table manipulation\\nRuntimeCmd: RuntimeCmd: RuntimeCmd: Setting default action of MyEgress.swtrace\\naction:              add_swtrace\\nruntime data:        00:00:00:03\\nRuntimeCmd: Adding entry to lpm match table MyIngress.ipv4_lpm\\nmatch key:           LPM-0a:00:01:00/32\\naction:              ipv4_forward\\nruntime data:        08:00:00:00:01:00\\t00:01\\nEntry has been added with handle 0\\nRuntimeCmd: Adding entry to lpm match table MyIngress.ipv4_lpm\\nmatch key:           LPM-0a:00:02:00/32\\naction:              ipv4_forward\\nruntime data:        08:00:00:00:02:00\\t00:02\\nEntry has been added with handle 1\\nRuntimeCmd: \\n', '')\n"
     ]
    }
   ],
   "source": [
    "\n",
    "for switch_name in [s1_name, s2_name, s3_name]:\n",
    "    switch_node = slice.get_node(name=switch_name)\n",
    "    management_ip_switch = str(switch_node.get_management_ip())\n",
    "    print(\"Swtitch Name        : {}\".format(switch_node.get_name()))\n",
    "    print(\"Management IP    : {}\".format(management_ip_switch))\n",
    "    \n",
    "    #Configure P4 Tables\n",
    "    cmd_file=f'{switch_name}command.txt'\n",
    "    print(cmd_file)\n",
    "    file_attributes = switch_node.upload_file(f'scripts/{cmd_file}',cmd_file)\n",
    "    print(\"file_attributes: {}\".format(file_attributes))\n",
    "\n",
    "    stdout = switch_node.execute(f\"sudo sh -c 'cat {cmd_file} | docker exec -i fabric_p4 simple_switch_CLI'\")\n",
    "    print(\"stdout: {}\".format(stdout))"
   ]
  },
  {
   "cell_type": "markdown",
   "metadata": {},
   "source": [
    "## The switches are now configured and running. Now we are going to send packets over the switches."
   ]
  },
  {
   "cell_type": "markdown",
   "metadata": {},
   "source": [
    "We are going to use `send.py` and `receive.py`. We are going to re-upload them to the servers and use them. Make sure to modify the interface names in the script accordingly."
   ]
  },
  {
   "cell_type": "code",
   "execution_count": 17,
   "metadata": {},
   "outputs": [
    {
     "data": {
      "text/plain": [
       "<SFTPAttributes: [ size=1498 uid=1000 gid=1000 mode=0o100664 atime=1662136140 mtime=1662136140 ]>"
      ]
     },
     "execution_count": 17,
     "metadata": {},
     "output_type": "execute_result"
    }
   ],
   "source": [
    "h1.upload_file('scripts/send.py', 'tutorials/exercises/basic_tunnel/send_modified.py')\n",
    "h1.upload_file('scripts/receive.py', 'tutorials/exercises/basic_tunnel/receive_modified.py')\n",
    "h2.upload_file('scripts/send.py', 'tutorials/exercises/basic_tunnel/send_modified.py')\n",
    "h2.upload_file('scripts/receive.py', 'tutorials/exercises/basic_tunnel/receive_modified.py')\n",
    "h11.upload_file('scripts/send.py', 'tutorials/exercises/basic_tunnel/send_modified.py')\n",
    "h11.upload_file('scripts/receive.py', 'tutorials/exercises/basic_tunnel/receive_modified.py')\n",
    "h22.upload_file('scripts/send.py', 'tutorials/exercises/basic_tunnel/send_modified.py')\n",
    "h22.upload_file('scripts/receive.py', 'tutorials/exercises/basic_tunnel/receive_modified.py')"
   ]
  },
  {
   "cell_type": "code",
   "execution_count": 18,
   "metadata": {},
   "outputs": [
    {
     "name": "stdout",
     "output_type": "stream",
     "text": [
      "-----------------  ----------------------------------------------------------------------------------------------------------------------------------\n",
      "ID                 99eee603-8be9-4e80-88c8-29de0d562d5c\n",
      "Name               h1\n",
      "Cores              2\n",
      "RAM                8\n",
      "Disk               100\n",
      "Image              default_ubuntu_20\n",
      "Image Type         qcow2\n",
      "Host               max-w5.fabric-testbed.net\n",
      "Site               MAX\n",
      "Management IP      63.239.135.108\n",
      "Reservation State  Active\n",
      "Error Message\n",
      "SSH Command        ssh -i /home/fabric/work/fabric_config/.ssh/id_rsa -J durbek_gafurov_0000000854@bastion-1.fabric-testbed.net ubuntu@63.239.135.108\n",
      "-----------------  ----------------------------------------------------------------------------------------------------------------------------------\n"
     ]
    }
   ],
   "source": [
    "print(h1)"
   ]
  },
  {
   "cell_type": "markdown",
   "metadata": {},
   "source": [
    "## H1 sends packet, H2 recieves"
   ]
  },
  {
   "cell_type": "code",
   "execution_count": 19,
   "metadata": {},
   "outputs": [
    {
     "name": "stdout",
     "output_type": "stream",
     "text": [
      "sniffing on ens7\n",
      "\n"
     ]
    }
   ],
   "source": [
    "h1.execute('tmux new -d \\'timeout 30 watch -n 5 sudo python3 tutorials/exercises/basic_tunnel/send_modified.py 10.0.2.2 \"message100\" 50\\'')\n",
    "print(h2.execute('sudo timeout 30 sudo python3 tutorials/exercises/basic_tunnel/receive_modified.py')[0])"
   ]
  },
  {
   "cell_type": "markdown",
   "metadata": {},
   "source": [
    "## H1 sends packet, H11 recieves"
   ]
  },
  {
   "cell_type": "code",
   "execution_count": 24,
   "metadata": {},
   "outputs": [
    {
     "name": "stdout",
     "output_type": "stream",
     "text": [
      "sniffing on ens7\n",
      "\n"
     ]
    }
   ],
   "source": [
    "h1.execute('tmux new -d \\'timeout 30 watch -n 5 sudo python3 tutorials/exercises/basic_tunnel/send_modified.py 10.0.1.11 \"message100\" 50\\'')\n",
    "print(h11.execute('sudo timeout 30 sudo python3 tutorials/exercises/basic_tunnel/receive_modified.py')[0])"
   ]
  },
  {
   "cell_type": "markdown",
   "metadata": {},
   "source": [
    "## H2 sends packet, H1 recieves"
   ]
  },
  {
   "cell_type": "code",
   "execution_count": 21,
   "metadata": {},
   "outputs": [
    {
     "name": "stdout",
     "output_type": "stream",
     "text": [
      "sniffing on ens7\n",
      "\n"
     ]
    }
   ],
   "source": [
    "h2.execute('tmux new -d \\'timeout 30 watch -n 5 sudo python3 tutorials/exercises/basic_tunnel/send_modified.py --dst_id 1 10.0.1.1 \"message100\"\\'')\n",
    "print(h1.execute('sudo timeout 30 sudo python3 tutorials/exercises/basic_tunnel/receive_modified.py')[0])"
   ]
  },
  {
   "cell_type": "markdown",
   "metadata": {},
   "source": [
    "## H22 sends packet, H11 recieves"
   ]
  },
  {
   "cell_type": "code",
   "execution_count": 22,
   "metadata": {},
   "outputs": [
    {
     "name": "stdout",
     "output_type": "stream",
     "text": [
      "sniffing on ens7\n",
      "\n"
     ]
    }
   ],
   "source": [
    "\n",
    "h22.execute('tmux new -d \\'timeout 30 watch -n 5 sudo python3 tutorials/exercises/basic_tunnel/send_modified.py --dst_id 1 10.0.1.1 \"message100\"\\'')\n",
    "print(h1.execute('sudo timeout 30 sudo python3 tutorials/exercises/basic_tunnel/receive_modified.py')[0])"
   ]
  },
  {
   "cell_type": "code",
   "execution_count": 23,
   "metadata": {},
   "outputs": [
    {
     "ename": "KeyboardInterrupt",
     "evalue": "",
     "output_type": "error",
     "traceback": [
      "\u001b[0;31m---------------------------------------------------------------------------\u001b[0m",
      "\u001b[0;31mKeyboardInterrupt\u001b[0m                         Traceback (most recent call last)",
      "\u001b[0;32m/tmp/ipykernel_17442/457652730.py\u001b[0m in \u001b[0;36m<module>\u001b[0;34m\u001b[0m\n\u001b[0;32m----> 1\u001b[0;31m \u001b[0mprint\u001b[0m\u001b[0;34m(\u001b[0m\u001b[0mh1\u001b[0m\u001b[0;34m.\u001b[0m\u001b[0mexecute\u001b[0m\u001b[0;34m(\u001b[0m\u001b[0;34m\"ping 10.0.2.2\"\u001b[0m\u001b[0;34m)\u001b[0m\u001b[0;34m)\u001b[0m\u001b[0;34m\u001b[0m\u001b[0;34m\u001b[0m\u001b[0m\n\u001b[0m",
      "\u001b[0;32m/opt/conda/lib/python3.9/site-packages/fabrictestbed_extensions/fablib/node.py\u001b[0m in \u001b[0;36mexecute\u001b[0;34m(self, command, retry, retry_interval, username, private_key_file, private_key_passphrase)\u001b[0m\n\u001b[1;32m    694\u001b[0m \u001b[0;34m\u001b[0m\u001b[0m\n\u001b[1;32m    695\u001b[0m                 \u001b[0mstdin\u001b[0m\u001b[0;34m,\u001b[0m \u001b[0mstdout\u001b[0m\u001b[0;34m,\u001b[0m \u001b[0mstderr\u001b[0m \u001b[0;34m=\u001b[0m \u001b[0mclient\u001b[0m\u001b[0;34m.\u001b[0m\u001b[0mexec_command\u001b[0m\u001b[0;34m(\u001b[0m\u001b[0mcommand\u001b[0m\u001b[0;34m)\u001b[0m\u001b[0;34m\u001b[0m\u001b[0;34m\u001b[0m\u001b[0m\n\u001b[0;32m--> 696\u001b[0;31m                 \u001b[0mrtn_stdout\u001b[0m \u001b[0;34m=\u001b[0m \u001b[0mstr\u001b[0m\u001b[0;34m(\u001b[0m\u001b[0mstdout\u001b[0m\u001b[0;34m.\u001b[0m\u001b[0mread\u001b[0m\u001b[0;34m(\u001b[0m\u001b[0;34m)\u001b[0m\u001b[0;34m,\u001b[0m\u001b[0;34m'utf-8'\u001b[0m\u001b[0;34m)\u001b[0m\u001b[0;34m.\u001b[0m\u001b[0mreplace\u001b[0m\u001b[0;34m(\u001b[0m\u001b[0;34m'\\\\n'\u001b[0m\u001b[0;34m,\u001b[0m\u001b[0;34m'\\n'\u001b[0m\u001b[0;34m)\u001b[0m\u001b[0;34m\u001b[0m\u001b[0;34m\u001b[0m\u001b[0m\n\u001b[0m\u001b[1;32m    697\u001b[0m                 \u001b[0mrtn_stderr\u001b[0m \u001b[0;34m=\u001b[0m \u001b[0mstr\u001b[0m\u001b[0;34m(\u001b[0m\u001b[0mstderr\u001b[0m\u001b[0;34m.\u001b[0m\u001b[0mread\u001b[0m\u001b[0;34m(\u001b[0m\u001b[0;34m)\u001b[0m\u001b[0;34m,\u001b[0m\u001b[0;34m'utf-8'\u001b[0m\u001b[0;34m)\u001b[0m\u001b[0;34m.\u001b[0m\u001b[0mreplace\u001b[0m\u001b[0;34m(\u001b[0m\u001b[0;34m'\\\\n'\u001b[0m\u001b[0;34m,\u001b[0m\u001b[0;34m'\\n'\u001b[0m\u001b[0;34m)\u001b[0m\u001b[0;34m\u001b[0m\u001b[0;34m\u001b[0m\u001b[0m\n\u001b[1;32m    698\u001b[0m \u001b[0;34m\u001b[0m\u001b[0m\n",
      "\u001b[0;32m/opt/conda/lib/python3.9/site-packages/paramiko/file.py\u001b[0m in \u001b[0;36mread\u001b[0;34m(self, size)\u001b[0m\n\u001b[1;32m    198\u001b[0m             \u001b[0;32mwhile\u001b[0m \u001b[0;32mTrue\u001b[0m\u001b[0;34m:\u001b[0m\u001b[0;34m\u001b[0m\u001b[0;34m\u001b[0m\u001b[0m\n\u001b[1;32m    199\u001b[0m                 \u001b[0;32mtry\u001b[0m\u001b[0;34m:\u001b[0m\u001b[0;34m\u001b[0m\u001b[0;34m\u001b[0m\u001b[0m\n\u001b[0;32m--> 200\u001b[0;31m                     \u001b[0mnew_data\u001b[0m \u001b[0;34m=\u001b[0m \u001b[0mself\u001b[0m\u001b[0;34m.\u001b[0m\u001b[0m_read\u001b[0m\u001b[0;34m(\u001b[0m\u001b[0mself\u001b[0m\u001b[0;34m.\u001b[0m\u001b[0m_DEFAULT_BUFSIZE\u001b[0m\u001b[0;34m)\u001b[0m\u001b[0;34m\u001b[0m\u001b[0;34m\u001b[0m\u001b[0m\n\u001b[0m\u001b[1;32m    201\u001b[0m                 \u001b[0;32mexcept\u001b[0m \u001b[0mEOFError\u001b[0m\u001b[0;34m:\u001b[0m\u001b[0;34m\u001b[0m\u001b[0;34m\u001b[0m\u001b[0m\n\u001b[1;32m    202\u001b[0m                     \u001b[0mnew_data\u001b[0m \u001b[0;34m=\u001b[0m \u001b[0;32mNone\u001b[0m\u001b[0;34m\u001b[0m\u001b[0;34m\u001b[0m\u001b[0m\n",
      "\u001b[0;32m/opt/conda/lib/python3.9/site-packages/paramiko/channel.py\u001b[0m in \u001b[0;36m_read\u001b[0;34m(self, size)\u001b[0m\n\u001b[1;32m   1359\u001b[0m \u001b[0;34m\u001b[0m\u001b[0m\n\u001b[1;32m   1360\u001b[0m     \u001b[0;32mdef\u001b[0m \u001b[0m_read\u001b[0m\u001b[0;34m(\u001b[0m\u001b[0mself\u001b[0m\u001b[0;34m,\u001b[0m \u001b[0msize\u001b[0m\u001b[0;34m)\u001b[0m\u001b[0;34m:\u001b[0m\u001b[0;34m\u001b[0m\u001b[0;34m\u001b[0m\u001b[0m\n\u001b[0;32m-> 1361\u001b[0;31m         \u001b[0;32mreturn\u001b[0m \u001b[0mself\u001b[0m\u001b[0;34m.\u001b[0m\u001b[0mchannel\u001b[0m\u001b[0;34m.\u001b[0m\u001b[0mrecv\u001b[0m\u001b[0;34m(\u001b[0m\u001b[0msize\u001b[0m\u001b[0;34m)\u001b[0m\u001b[0;34m\u001b[0m\u001b[0;34m\u001b[0m\u001b[0m\n\u001b[0m\u001b[1;32m   1362\u001b[0m \u001b[0;34m\u001b[0m\u001b[0m\n\u001b[1;32m   1363\u001b[0m     \u001b[0;32mdef\u001b[0m \u001b[0m_write\u001b[0m\u001b[0;34m(\u001b[0m\u001b[0mself\u001b[0m\u001b[0;34m,\u001b[0m \u001b[0mdata\u001b[0m\u001b[0;34m)\u001b[0m\u001b[0;34m:\u001b[0m\u001b[0;34m\u001b[0m\u001b[0;34m\u001b[0m\u001b[0m\n",
      "\u001b[0;32m/opt/conda/lib/python3.9/site-packages/paramiko/channel.py\u001b[0m in \u001b[0;36mrecv\u001b[0;34m(self, nbytes)\u001b[0m\n\u001b[1;32m    697\u001b[0m         \"\"\"\n\u001b[1;32m    698\u001b[0m         \u001b[0;32mtry\u001b[0m\u001b[0;34m:\u001b[0m\u001b[0;34m\u001b[0m\u001b[0;34m\u001b[0m\u001b[0m\n\u001b[0;32m--> 699\u001b[0;31m             \u001b[0mout\u001b[0m \u001b[0;34m=\u001b[0m \u001b[0mself\u001b[0m\u001b[0;34m.\u001b[0m\u001b[0min_buffer\u001b[0m\u001b[0;34m.\u001b[0m\u001b[0mread\u001b[0m\u001b[0;34m(\u001b[0m\u001b[0mnbytes\u001b[0m\u001b[0;34m,\u001b[0m \u001b[0mself\u001b[0m\u001b[0;34m.\u001b[0m\u001b[0mtimeout\u001b[0m\u001b[0;34m)\u001b[0m\u001b[0;34m\u001b[0m\u001b[0;34m\u001b[0m\u001b[0m\n\u001b[0m\u001b[1;32m    700\u001b[0m         \u001b[0;32mexcept\u001b[0m \u001b[0mPipeTimeout\u001b[0m\u001b[0;34m:\u001b[0m\u001b[0;34m\u001b[0m\u001b[0;34m\u001b[0m\u001b[0m\n\u001b[1;32m    701\u001b[0m             \u001b[0;32mraise\u001b[0m \u001b[0msocket\u001b[0m\u001b[0;34m.\u001b[0m\u001b[0mtimeout\u001b[0m\u001b[0;34m(\u001b[0m\u001b[0;34m)\u001b[0m\u001b[0;34m\u001b[0m\u001b[0;34m\u001b[0m\u001b[0m\n",
      "\u001b[0;32m/opt/conda/lib/python3.9/site-packages/paramiko/buffered_pipe.py\u001b[0m in \u001b[0;36mread\u001b[0;34m(self, nbytes, timeout)\u001b[0m\n\u001b[1;32m    158\u001b[0m                 \u001b[0;32mwhile\u001b[0m \u001b[0;34m(\u001b[0m\u001b[0mlen\u001b[0m\u001b[0;34m(\u001b[0m\u001b[0mself\u001b[0m\u001b[0;34m.\u001b[0m\u001b[0m_buffer\u001b[0m\u001b[0;34m)\u001b[0m \u001b[0;34m==\u001b[0m \u001b[0;36m0\u001b[0m\u001b[0;34m)\u001b[0m \u001b[0;32mand\u001b[0m \u001b[0;32mnot\u001b[0m \u001b[0mself\u001b[0m\u001b[0;34m.\u001b[0m\u001b[0m_closed\u001b[0m\u001b[0;34m:\u001b[0m\u001b[0;34m\u001b[0m\u001b[0;34m\u001b[0m\u001b[0m\n\u001b[1;32m    159\u001b[0m                     \u001b[0mthen\u001b[0m \u001b[0;34m=\u001b[0m \u001b[0mtime\u001b[0m\u001b[0;34m.\u001b[0m\u001b[0mtime\u001b[0m\u001b[0;34m(\u001b[0m\u001b[0;34m)\u001b[0m\u001b[0;34m\u001b[0m\u001b[0;34m\u001b[0m\u001b[0m\n\u001b[0;32m--> 160\u001b[0;31m                     \u001b[0mself\u001b[0m\u001b[0;34m.\u001b[0m\u001b[0m_cv\u001b[0m\u001b[0;34m.\u001b[0m\u001b[0mwait\u001b[0m\u001b[0;34m(\u001b[0m\u001b[0mtimeout\u001b[0m\u001b[0;34m)\u001b[0m\u001b[0;34m\u001b[0m\u001b[0;34m\u001b[0m\u001b[0m\n\u001b[0m\u001b[1;32m    161\u001b[0m                     \u001b[0;32mif\u001b[0m \u001b[0mtimeout\u001b[0m \u001b[0;32mis\u001b[0m \u001b[0;32mnot\u001b[0m \u001b[0;32mNone\u001b[0m\u001b[0;34m:\u001b[0m\u001b[0;34m\u001b[0m\u001b[0;34m\u001b[0m\u001b[0m\n\u001b[1;32m    162\u001b[0m                         \u001b[0mtimeout\u001b[0m \u001b[0;34m-=\u001b[0m \u001b[0mtime\u001b[0m\u001b[0;34m.\u001b[0m\u001b[0mtime\u001b[0m\u001b[0;34m(\u001b[0m\u001b[0;34m)\u001b[0m \u001b[0;34m-\u001b[0m \u001b[0mthen\u001b[0m\u001b[0;34m\u001b[0m\u001b[0;34m\u001b[0m\u001b[0m\n",
      "\u001b[0;32m/opt/conda/lib/python3.9/threading.py\u001b[0m in \u001b[0;36mwait\u001b[0;34m(self, timeout)\u001b[0m\n\u001b[1;32m    310\u001b[0m         \u001b[0;32mtry\u001b[0m\u001b[0;34m:\u001b[0m    \u001b[0;31m# restore state no matter what (e.g., KeyboardInterrupt)\u001b[0m\u001b[0;34m\u001b[0m\u001b[0;34m\u001b[0m\u001b[0m\n\u001b[1;32m    311\u001b[0m             \u001b[0;32mif\u001b[0m \u001b[0mtimeout\u001b[0m \u001b[0;32mis\u001b[0m \u001b[0;32mNone\u001b[0m\u001b[0;34m:\u001b[0m\u001b[0;34m\u001b[0m\u001b[0;34m\u001b[0m\u001b[0m\n\u001b[0;32m--> 312\u001b[0;31m                 \u001b[0mwaiter\u001b[0m\u001b[0;34m.\u001b[0m\u001b[0macquire\u001b[0m\u001b[0;34m(\u001b[0m\u001b[0;34m)\u001b[0m\u001b[0;34m\u001b[0m\u001b[0;34m\u001b[0m\u001b[0m\n\u001b[0m\u001b[1;32m    313\u001b[0m                 \u001b[0mgotit\u001b[0m \u001b[0;34m=\u001b[0m \u001b[0;32mTrue\u001b[0m\u001b[0;34m\u001b[0m\u001b[0;34m\u001b[0m\u001b[0m\n\u001b[1;32m    314\u001b[0m             \u001b[0;32melse\u001b[0m\u001b[0;34m:\u001b[0m\u001b[0;34m\u001b[0m\u001b[0;34m\u001b[0m\u001b[0m\n",
      "\u001b[0;31mKeyboardInterrupt\u001b[0m: "
     ]
    }
   ],
   "source": [
    "print(h1.execute(\"ping 10.0.1.11\"))"
   ]
  },
  {
   "cell_type": "markdown",
   "metadata": {},
   "source": [
    "## Delete Slice"
   ]
  },
  {
   "cell_type": "code",
   "execution_count": null,
   "metadata": {},
   "outputs": [],
   "source": [
    "# try:\n",
    "#     slice = fablib.get_slice(name=slice_name)\n",
    "#     slice.delete()\n",
    "# except Exception as e:\n",
    "#     print(f\"Fail: {e}\")\n",
    "#     traceback.print_exc()"
   ]
  },
  {
   "cell_type": "code",
   "execution_count": null,
   "metadata": {},
   "outputs": [],
   "source": []
  }
 ],
 "metadata": {
  "kernelspec": {
   "display_name": "Python 3 (ipykernel)",
   "language": "python",
   "name": "python3"
  },
  "language_info": {
   "codemirror_mode": {
    "name": "ipython",
    "version": 3
   },
   "file_extension": ".py",
   "mimetype": "text/x-python",
   "name": "python",
   "nbconvert_exporter": "python",
   "pygments_lexer": "ipython3",
   "version": "3.9.7"
  }
 },
 "nbformat": 4,
 "nbformat_minor": 4
}
