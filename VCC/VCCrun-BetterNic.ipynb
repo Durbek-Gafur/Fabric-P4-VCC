{
 "cells": [
  {
   "cell_type": "markdown",
   "metadata": {},
   "source": [
    "# P4Lang Tutorials of FABRIC\n",
    "\n",
    "This notebook walks the user through setting up a FABRIC eperiment that is suitiable for completing the P4 tutorials created by [P4Lang](https://github.com/p4lang/tutorials). The tutorials were origianlly designed to use a mininet topology. This example replaces the mininet topology with a FABRIC experiemnt topology that may span multiple sites across the FABRIC testbed.\n",
    "\n",
    "Additional resources:\n",
    "- [FABRIC Knowledge Base](https://learn.fabric-testbed.net/)\n",
    "- [FABRIC Forums](https://learn.fabric-testbed.net/forums/)\n",
    "- [P4Lang Tutorials](https://github.com/p4lang/tutorials)\n",
    "- [P4Lang YouTube Presentations](https://www.youtube.com/channel/UCOQAFkDKucJWr-KafdJsdIQ)"
   ]
  },
  {
   "cell_type": "markdown",
   "metadata": {},
   "source": [
    "## Basic FABRIC Slice Configuration"
   ]
  },
  {
   "cell_type": "code",
   "execution_count": 1,
   "metadata": {},
   "outputs": [],
   "source": [
    "import json\n",
    "import traceback\n",
    "from fabrictestbed_extensions.fablib.fablib import fablib"
   ]
  },
  {
   "cell_type": "code",
   "execution_count": 2,
   "metadata": {},
   "outputs": [
    {
     "name": "stdout",
     "output_type": "stream",
     "text": [
      "Name      CPUs  Cores    RAM (G)    Disk (G)       Basic (100 Gbps NIC)    ConnectX-6 (100 Gbps x2 NIC)    ConnectX-5 (25 Gbps x2 NIC)    P4510 (NVMe 1TB)    Tesla T4 (GPU)    RTX6000 (GPU)\n",
      "------  ------  -------  ---------  -------------  ----------------------  ------------------------------  -----------------------------  ------------------  ----------------  ---------------\n",
      "MASS         4  125/128  1016/1024  55750/55800    253/254                 2/2                             0/0                            6/6                 0/0               3/3\n",
      "MAX         10  194/320  2110/2560  114902/116400  564/635                 2/2                             1/4                            16/16               4/4               4/6\n",
      "TACC        10  288/320  2420/2560  116176/116400  618/635                 0/2                             1/4                            15/16               4/4               6/6\n",
      "MICH         6  188/192  1520/1536  60500/60600    381/381                 0/2                             2/2                            10/10               2/2               3/3\n",
      "SALT         6  160/192  1408/1536  60500/60600    380/381                 2/2                             2/2                            10/10               2/2               3/3\n",
      "STAR        12  369/384  3016/3072  121010/121200  759/762                 1/2                             4/6                            20/20               6/6               6/6\n",
      "UTAH        10  266/320  2356/2560  116146/116400  620/635                 2/2                             1/4                            16/16               4/4               5/5\n",
      "UCSD        10  320/320  2560/2560  116400/116400  635/635                 2/2                             4/4                            16/16               4/4               6/6\n",
      "FIU         10  320/320  2560/2560  116400/116400  635/635                 2/2                             4/4                            16/16               4/4               6/6\n",
      "WASH         6  190/192  1528/1536  60590/60600    379/381                 2/2                             2/2                            10/10               2/2               3/3\n",
      "DALL         6  160/192  1504/1536  60590/60600    380/381                 2/2                             2/2                            10/10               2/2               3/3\n",
      "NCSA         6  188/192  1520/1536  60500/60600    380/381                 2/2                             2/2                            10/10               2/2               3/3\n"
     ]
    }
   ],
   "source": [
    "try:\n",
    "    print(f\"{fablib.list_sites()}\")\n",
    "except Exception as e:\n",
    "    print(f\"Exception: {e}\")"
   ]
  },
  {
   "cell_type": "code",
   "execution_count": 5,
   "metadata": {},
   "outputs": [
    {
     "name": "stdout",
     "output_type": "stream",
     "text": [
      "Name      CPUs  Cores    RAM (G)    Disk (G)       Basic (100 Gbps NIC)    ConnectX-6 (100 Gbps x2 NIC)    ConnectX-5 (25 Gbps x2 NIC)    P4510 (NVMe 1TB)    Tesla T4 (GPU)    RTX6000 (GPU)\n",
      "------  ------  -------  ---------  -------------  ----------------------  ------------------------------  -----------------------------  ------------------  ----------------  ---------------\n",
      "MASS         4  125/128  1016/1024  55750/55800    253/254                 2/2                             0/0                            6/6                 0/0               3/3\n",
      "MAX         10  194/320  2110/2560  114902/116400  564/635                 2/2                             1/4                            16/16               4/4               4/6\n",
      "TACC        10  288/320  2420/2560  116176/116400  618/635                 0/2                             1/4                            15/16               4/4               6/6\n",
      "MICH         6  188/192  1520/1536  60500/60600    381/381                 0/2                             2/2                            10/10               2/2               3/3\n",
      "SALT         6  160/192  1408/1536  60500/60600    380/381                 2/2                             2/2                            10/10               2/2               3/3\n",
      "STAR        12  369/384  3016/3072  121010/121200  759/762                 1/2                             4/6                            20/20               6/6               6/6\n",
      "UTAH        10  266/320  2356/2560  116146/116400  620/635                 2/2                             1/4                            16/16               4/4               5/5\n",
      "UCSD        10  320/320  2560/2560  116400/116400  635/635                 2/2                             4/4                            16/16               4/4               6/6\n",
      "FIU         10  320/320  2560/2560  116400/116400  635/635                 2/2                             4/4                            16/16               4/4               6/6\n",
      "WASH         6  190/192  1528/1536  60590/60600    379/381                 2/2                             2/2                            10/10               2/2               3/3\n",
      "DALL         6  160/192  1504/1536  60590/60600    380/381                 2/2                             2/2                            10/10               2/2               3/3\n",
      "NCSA         6  188/192  1520/1536  60500/60600    380/381                 2/2                             2/2                            10/10               2/2               3/3\n"
     ]
    }
   ],
   "source": [
    "try:\n",
    "    print(f\"{fablib.list_sites()}\")\n",
    "except Exception as e:\n",
    "    print(f\"Exception: {e}\")"
   ]
  },
  {
   "cell_type": "markdown",
   "metadata": {
    "tags": []
   },
   "source": [
    "## Configure Slice Parameters\n",
    "\n",
    "This section builds the experiment slice \n",
    "\n",
    "<img src=\"figs/fabric_slice.png\" width=\"800\"/>\n",
    "\n"
   ]
  },
  {
   "cell_type": "code",
   "execution_count": 3,
   "metadata": {},
   "outputs": [],
   "source": [
    "from ipaddress import ip_address, IPv4Address, IPv6Address, IPv4Network, IPv6Network\n",
    "\n",
    "# Slice \n",
    "slice_name = 'VCC3_2'\n",
    "\n",
    "# Switches\n",
    "s1_name = \"s1\"\n",
    "s2_name = \"s2\"\n",
    "s3_name = \"s3\"\n",
    "\n",
    "switch_cores = 2\n",
    "switch_ram = 8\n",
    "switch_disk = 40\n",
    "\n",
    "# Hosts\n",
    "h1_name = \"h1\"\n",
    "h2_name = \"h2\"\n",
    "\n",
    "h1_ip=\"10.0.1.1\"\n",
    "h2_ip=\"10.0.1.2\"\n",
    "\n",
    "host_cores = 2\n",
    "host_ram = 8\n",
    "host_disk = 10\n",
    "# Sites\n",
    "site_1 = 'MAX' # 'SALT' # 'NCSA' # s'WASH' # 'MAX' # 'STAR' # 'NCSA' # 'MAX' # 'UTAH' # 'DALL' # 'TACC' # 'MAX'\n",
    "site_2 = 'TACC' # 'SALT' # 'NCSA' # s'WASH' # 'MAX' # 'STAR' # 'NCSA' # 'MAX' # 'UTAH' # 'DALL' # 'TACC' # 'MAX'\n",
    "\n",
    "net_h1_name = 'net_h1'\n",
    "net_h2_name = 'net_h2'\n",
    "\n",
    "\n",
    "# All node properties\n",
    "#username = 'ubuntu'\n",
    "image = 'default_ubuntu_20'\n",
    "vlan = '1000'\n",
    "#image_type = 'qcow2'\n",
    "\n"
   ]
  },
  {
   "cell_type": "code",
   "execution_count": 8,
   "metadata": {},
   "outputs": [],
   "source": [
    "# slice = fablib.get_slice(name=slice_name)"
   ]
  },
  {
   "cell_type": "markdown",
   "metadata": {},
   "source": [
    "### Create the Slice"
   ]
  },
  {
   "cell_type": "code",
   "execution_count": 4,
   "metadata": {},
   "outputs": [
    {
     "name": "stdout",
     "output_type": "stream",
     "text": [
      "\n",
      "-----------  ------------------------------------\n",
      "Slice Name   VCC3_2\n",
      "Slice ID     a84d0ba0-95ac-46aa-a6b3-0d11a4a4f84d\n",
      "Slice State  StableOK\n",
      "Lease End    2022-09-08 04:05:11 +0000\n",
      "-----------  ------------------------------------\n",
      "\n",
      "Retry: 11, Time: 139 sec\n",
      "\n",
      "ID                                    Name    Site    Host                          Cores    RAM    Disk  Image              Management IP    State    Error\n",
      "------------------------------------  ------  ------  --------------------------  -------  -----  ------  -----------------  ---------------  -------  -------\n",
      "4f750a76-0c6c-4c3c-bc00-5f2a070e2714  s1      MAX     max-w3.fabric-testbed.net         2      8     100  default_ubuntu_20  63.239.135.70    Active\n",
      "86dfdd18-46fa-4752-910e-3a1811ad2809  h1      MAX     max-w3.fabric-testbed.net         2      8      10  default_ubuntu_20  63.239.135.116   Active\n",
      "20f4704b-0586-44d2-a00a-058b5688b4d4  h2      TACC    tacc-w5.fabric-testbed.net        2      8      10  default_ubuntu_20  129.114.110.119  Active\n",
      "\n",
      "Time to stable 139 seconds\n",
      "Running post_boot_config ... Time to post boot config 153 seconds\n",
      "\n",
      "Name                 Node    Network      Bandwidth    VLAN  MAC                Physical OS Interface    OS Interface\n",
      "-------------------  ------  ---------  -----------  ------  -----------------  -----------------------  --------------\n",
      "s1-s1_switch_nic-p1  s1      net_h1             100    1000  04:3F:72:FE:9F:E0  ens7                     ens7.1000\n",
      "s1-s1_switch_nic-p2  s1      net_h2             100    1000  04:3F:72:FE:9F:E1  ens8                     ens8.1000\n",
      "h1-h1_nic-p1         h1      net_h1             100          04:3F:72:FE:A6:70  ens7                     ens7\n",
      "h1-h1_nic-p2         h1                         100          04:3F:72:FE:A6:71  ens8                     ens8\n",
      "h2-h2_nic-p1         h2      net_h2              25          B8:CE:F6:18:F8:FA  ens7                     ens7\n",
      "h2-h2_nic-p2         h2                          25          B8:CE:F6:18:F8:FB  ens8                     ens8\n",
      "\n",
      "Time to print interfaces 160 seconds\n"
     ]
    }
   ],
   "source": [
    "try:\n",
    "    #Create Slice\n",
    "    slice = fablib.new_slice(name=slice_name)\n",
    "    \n",
    "    # Add switch node s1\n",
    "    s1 = slice.add_node(name=s1_name, site=site_1)\n",
    "    s1.set_capacities(cores=switch_cores, ram=switch_ram, disk=switch_disk)\n",
    "    s1.set_image(image)\n",
    "    [s1_iface_h1, s1_iface_h2] = s1.add_component(model='NIC_ConnectX_6', name=\"s1_switch_nic\").get_interfaces()\n",
    "    s1_iface_h1.set_vlan(vlan=vlan)\n",
    "    s1_iface_h2.set_vlan(vlan=vlan)\n",
    "\n",
    "\n",
    "    \n",
    "    # Add host node h1\n",
    "    h1 = slice.add_node(name=h1_name, site=site_1)\n",
    "    h1.set_capacities(cores=host_cores, ram=host_ram, disk=host_disk)\n",
    "    h1.set_image(image)\n",
    "    [h1_iface,_] = h1.add_component(model='NIC_ConnectX_6', name=\"h1_nic\").get_interfaces()\n",
    "    \n",
    "    # Add host node h2\n",
    "    h2 = slice.add_node(name=h2_name, site=site_2)\n",
    "    h2.set_capacities(cores=host_cores, ram=host_ram, disk=host_disk)\n",
    "    h2.set_image(image)\n",
    "    [h2_iface,_] = h2.add_component(model='NIC_ConnectX_5', name=\"h2_nic\").get_interfaces()\n",
    "\n",
    "    #Add host networks \n",
    "    host_net1 = slice.add_l2network(name=net_h1_name, interfaces=[s1_iface_h1, h1_iface])\n",
    "    host_net2 = slice.add_l2network(name=net_h2_name, interfaces=[s1_iface_h2, h2_iface])\n",
    "    \n",
    "    #Submit Slice Request\n",
    "    slice.submit() #(wait_progress=True)\n",
    "except Exception as e:\n",
    "    print(f\"Error: {e}\")\n",
    "    traceback.print_exc()\n",
    "    "
   ]
  },
  {
   "cell_type": "code",
   "execution_count": 10,
   "metadata": {},
   "outputs": [
    {
     "name": "stdout",
     "output_type": "stream",
     "text": [
      "-----------------  ------\n",
      "ID\n",
      "Name               net_h1\n",
      "Layer\n",
      "Type\n",
      "Site\n",
      "Gateway\n",
      "L3 Subnet\n",
      "Reservation State\n",
      "Error Message\n",
      "-----------------  ------\n",
      "-----------------  -------\n",
      "ID\n",
      "Name               net_h11\n",
      "Layer\n",
      "Type\n",
      "Site\n",
      "Gateway\n",
      "L3 Subnet\n",
      "Reservation State\n",
      "Error Message\n",
      "-----------------  -------\n"
     ]
    }
   ],
   "source": [
    "print(host_net1)\n",
    "print(host_net11)"
   ]
  },
  {
   "cell_type": "code",
   "execution_count": 6,
   "metadata": {},
   "outputs": [],
   "source": [
    "def checkInetConnection(node):\n",
    "    try:\n",
    "\n",
    "        #If the node is an IPv6 Node then configure NAT64\n",
    "        if type(ip_address(node.get_management_ip())) is IPv6Address:\n",
    "            print(\"This code only works with ip4, reconfigure nodes\")\n",
    "            return\n",
    "\n",
    "        #Access non-IPv6 Services\n",
    "        stdout, stderr = node.execute(f'sudo apt-get update -qq && sudo apt install net-tools && git clone https://github.com/fabric-testbed/jupyter-examples.git')\n",
    "        # print(stdout)\n",
    "        # print(stderr)\n",
    "\n",
    "        stdout, stderr = node.execute(f'ls jupyter-examples')\n",
    "        print(stdout)\n",
    "        print(stderr)\n",
    "        \n",
    "        stdout, stderr = node.execute(f'ifconfig | grep ens')\n",
    "        print(stdout)\n",
    "        print(stderr)\n",
    "\n",
    "\n",
    "    except Exception as e:\n",
    "        print(f\"Exception: {e}\")"
   ]
  },
  {
   "cell_type": "code",
   "execution_count": 7,
   "metadata": {},
   "outputs": [
    {
     "name": "stdout",
     "output_type": "stream",
     "text": [
      "Node:\n",
      "   Name              : s1\n",
      "LICENSE\n",
      "Readme.md\n",
      "fabric_examples\n",
      "start_here.ipynb\n",
      "\n",
      "\n",
      "ens3: flags=4163<UP,BROADCAST,RUNNING,MULTICAST>  mtu 9000\n",
      "ens7: flags=4163<UP,BROADCAST,RUNNING,MULTICAST>  mtu 1500\n",
      "ens8: flags=4163<UP,BROADCAST,RUNNING,MULTICAST>  mtu 1500\n",
      "ens7.1000: flags=4163<UP,BROADCAST,RUNNING,MULTICAST>  mtu 1500\n",
      "ens8.1000: flags=4163<UP,BROADCAST,RUNNING,MULTICAST>  mtu 1500\n",
      "\n",
      "\n",
      "Node:\n",
      "   Name              : h1\n",
      "LICENSE\n",
      "Readme.md\n",
      "fabric_examples\n",
      "start_here.ipynb\n",
      "\n",
      "\n",
      "ens3: flags=4163<UP,BROADCAST,RUNNING,MULTICAST>  mtu 9000\n",
      "ens7: flags=4163<UP,BROADCAST,RUNNING,MULTICAST>  mtu 1500\n",
      "\n",
      "\n",
      "Node:\n",
      "   Name              : h2\n",
      "LICENSE\n",
      "Readme.md\n",
      "fabric_examples\n",
      "start_here.ipynb\n",
      "\n",
      "\n",
      "ens3: flags=4163<UP,BROADCAST,RUNNING,MULTICAST>  mtu 9000\n",
      "ens7: flags=4163<UP,BROADCAST,RUNNING,MULTICAST>  mtu 1500\n",
      "\n",
      "\n"
     ]
    }
   ],
   "source": [
    "try:\n",
    "    slice = fablib.get_slice(name=slice_name)\n",
    "    for node in slice.get_nodes():\n",
    "        print(\"Node:\")\n",
    "        print(f\"   Name              : {node.get_name()}\")\n",
    "        checkInetConnection(node)\n",
    "except Exception as e:\n",
    "    print(f\"Fail: {e}\")\n",
    "    traceback.print_exc()"
   ]
  },
  {
   "cell_type": "markdown",
   "metadata": {
    "tags": []
   },
   "source": [
    "### Print Details"
   ]
  },
  {
   "cell_type": "code",
   "execution_count": 8,
   "metadata": {},
   "outputs": [
    {
     "name": "stdout",
     "output_type": "stream",
     "text": [
      "----\n",
      "Node:\n",
      "   Name              : s1\n",
      "   SSH Command       : ./connect.sh ubuntu@63.239.135.70\n",
      "   Interfaces        :   ens7.1000 ens8.1000 ----\n",
      "Node:\n",
      "   Name              : h1\n",
      "   SSH Command       : ./connect.sh ubuntu@63.239.135.116\n",
      "   Interfaces        :   ens7 ens8 ----\n",
      "Node:\n",
      "   Name              : h2\n",
      "   SSH Command       : ./connect.sh ubuntu@129.114.110.119\n",
      "   Interfaces        :   ens8 ens7 "
     ]
    }
   ],
   "source": [
    "try:\n",
    "    slice = fablib.get_slice(name=slice_name)\n",
    "    for node in slice.get_nodes():\n",
    "        print(\"----\")\n",
    "        print(\"Node:\")\n",
    "        print(f\"   Name              : {node.get_name()}\")\n",
    "        # print(f\"   Cores             : {node.get_cores()}\")\n",
    "        # print(f\"   RAM               : {node.get_ram()}\")\n",
    "        # print(f\"   Disk              : {node.get_disk()}\")\n",
    "        # print(f\"   Image             : {node.get_image()}\")\n",
    "        # print(f\"   Image Type        : {node.get_image_type()}\")\n",
    "        # print(f\"   Host              : {node.get_host()}\")\n",
    "        # print(f\"   Site              : {node.get_site()}\")\n",
    "        # print(f\"   Management IP     : {node.get_management_ip()}\")\n",
    "        # print(f\"   Reservation ID    : {node.get_reservation_id()}\")\n",
    "        # print(f\"   Reservation State : {node.get_reservation_state()}\")\n",
    "        ssh = node.get_ssh_command().replace(\"ssh -i /home/fabric/work/fabric_config/.ssh/id_rsa -J durbek_gafurov_0000000854@bastion-1.fabric-testbed.net\",\"./connect.sh\")\n",
    "        print(f\"   SSH Command       : {ssh}\")\n",
    "        # print(f\"   Components        :  \")\n",
    "        # for component in node.get_components():\n",
    "        #     print(f\"      Name             : {component.get_name()}\")\n",
    "        #     print(f\"      Details          : {component.get_details()}\")\n",
    "        #     print(f\"      Disk (G)         : {component.get_disk()}\")\n",
    "        #     print(f\"      Units            : {component.get_unit()}\")\n",
    "        #     print(f\"      PCI Address      : {component.get_pci_addr()}\")\n",
    "        #     print(f\"      Model            : {component.get_model()}\")\n",
    "        #     print(f\"      Type             : {component.get_type()}\") \n",
    "        print(f\"   Interfaces        :  \", end = \" \")\n",
    "        for interface in node.get_interfaces():\n",
    "        #     print(f\"       Name                : {interface.get_name()}\")\n",
    "        #     print(f\"           Bandwidth           : {interface.get_bandwidth()}\")\n",
    "            # print(f\"           VLAN                : {interface.get_vlan()}\")  \n",
    "            # print(f\"           MAC                 : {interface.get_mac()}\") \n",
    "            print(interface.get_os_interface(), end =\" \")\n",
    "    # for network in slice.get_l2networks():\n",
    "    #     print(\"Network:\")\n",
    "    #     print(f\"    Name:            {network.get_name()}\")\n",
    "    # print(f\"Interface Map: {slice.get_interface_map()}\")\n",
    "except Exception as e:\n",
    "    print(f\"Fail: {e}\")\n",
    "    traceback.print_exc()"
   ]
  },
  {
   "cell_type": "markdown",
   "metadata": {},
   "source": [
    "## Configure Nodes\n"
   ]
  },
  {
   "cell_type": "code",
   "execution_count": 11,
   "metadata": {},
   "outputs": [],
   "source": [
    "config_threads = {}"
   ]
  },
  {
   "cell_type": "code",
   "execution_count": 12,
   "metadata": {},
   "outputs": [],
   "source": [
    "host_config_script = \"sudo apt-get update -qq && sudo apt-get install -qq -y python3-scapy && git clone https://github.com/p4lang/tutorials.git/\" \n",
    "def addIP(name,net_name,node_addr,node_subnet):\n",
    "    node = slice.get_node(name=name)        \n",
    "    h1_os_iface = node.get_interface(network_name=net_name).ip_addr_add(addr=node_addr, subnet=node_subnet)\n",
    "    config_thread = node.execute_thread(host_config_script)\n",
    "    config_threads[node]=config_thread\n",
    "    return node\n",
    "    \n",
    "try:\n",
    "    h1_subnet=IPv4Network('10.0.1.0/24')\n",
    "    h1 = addIP(h1_name,net_h1_name,h1_ip,h1_subnet)\n",
    "    h2 = addIP(h2_name,net_h2_name,h2_ip,h1_subnet)\n",
    "\n",
    "\n",
    "except Exception as e:\n",
    "    print(f\"Error: {e}\")\n",
    "    traceback.print_exc()"
   ]
  },
  {
   "cell_type": "code",
   "execution_count": 13,
   "metadata": {},
   "outputs": [],
   "source": [
    "def checkIP(node):\n",
    "    try:        \n",
    "        stdout, stderr = node.execute(f'ifconfig | grep \"inet 10.0.\"')\n",
    "        print(stdout)\n",
    "        print(stderr)\n",
    "    except Exception as e:\n",
    "        print(f\"Exception: {e}\")"
   ]
  },
  {
   "cell_type": "code",
   "execution_count": 14,
   "metadata": {},
   "outputs": [
    {
     "name": "stdout",
     "output_type": "stream",
     "text": [
      "Config thread node h1 complete\n",
      "        inet 10.0.1.1  netmask 255.255.255.0  broadcast 0.0.0.0\n",
      "\n",
      "\n",
      "Config thread node h2 complete\n",
      "        inet 10.0.1.2  netmask 255.255.255.0  broadcast 0.0.0.0\n",
      "\n",
      "\n"
     ]
    }
   ],
   "source": [
    "try: \n",
    "    for node, thread in config_threads.items():\n",
    "        stdout, stderr = thread.result()\n",
    "        print(f\"Config thread node {node.get_name()} complete\")\n",
    "        checkIP(node)\n",
    "        # print(f\"stdout: {stdout}\")\n",
    "        # print(f\"stderr: {stderr}\")\n",
    "except Exception as e:\n",
    "    print(f\"Error: {e}\")\n",
    "    traceback.print_exc() \n",
    "config_threads = {}"
   ]
  },
  {
   "cell_type": "markdown",
   "metadata": {},
   "source": [
    "## Configure Switches\n",
    "\n",
    "Use ssh to configure the ifaces on the switches. This step requires testing the interfaces to figure out which interface is connected to which network.\n"
   ]
  },
  {
   "cell_type": "markdown",
   "metadata": {},
   "source": [
    "#### Setup P4 Docker\n",
    "\n"
   ]
  },
  {
   "cell_type": "markdown",
   "metadata": {},
   "source": [
    "Below are commands to let sudo work with the global proxy."
   ]
  },
  {
   "cell_type": "code",
   "execution_count": 15,
   "metadata": {},
   "outputs": [
    {
     "name": "stdout",
     "output_type": "stream",
     "text": [
      "04:3F:72:FE:A6:70 B8:CE:F6:18:F8:FA\n",
      "table_clear MyEgress.swtrace\n",
      "table_clear MyIngress.ipv4_lpm \n",
      "table_set_default MyEgress.swtrace add_swtrace 1\n",
      "table_add MyIngress.ipv4_lpm ipv4_forward 10.0.1.1/32 => 04:3F:72:FE:A6:70 1\n",
      "table_add MyIngress.ipv4_lpm ipv4_forward 10.0.1.2/32 => B8:CE:F6:18:F8:FA 2\n",
      " ./scripts/s1command.txt\n"
     ]
    }
   ],
   "source": [
    "h1Mac = h1.get_interface(network_name=net_h1_name).get_mac()\n",
    "h2Mac = h2.get_interface(network_name=net_h2_name).get_mac()\n",
    "\n",
    "\n",
    "print(h1Mac,h2Mac)\n",
    "def printToFile(text,filename):\n",
    "    text_file = open(filename, \"w\")\n",
    "    n = text_file.write(text)\n",
    "    text_file.close()\n",
    "s1_command = \"\"\"table_clear MyEgress.swtrace\n",
    "table_clear MyIngress.ipv4_lpm \n",
    "table_set_default MyEgress.swtrace add_swtrace 1\n",
    "table_add MyIngress.ipv4_lpm ipv4_forward 10.0.1.1/32 => {} 1\n",
    "table_add MyIngress.ipv4_lpm ipv4_forward 10.0.1.2/32 => {} 2\n",
    "\"\"\".format(h1Mac, h2Mac)\n",
    "\n",
    "printToFile(s1_command, \"./scripts/s1__command.txt\")\n",
    "print(s1_command, \"./scripts/s1command.txt\")"
   ]
  },
  {
   "cell_type": "code",
   "execution_count": 16,
   "metadata": {},
   "outputs": [],
   "source": [
    "def configureSwitch(name,network_names):\n",
    "    try:\n",
    "        node = slice.get_node(name=name)\n",
    "        os_ifaces = \"\"\n",
    "        for net_name in network_names:\n",
    "            iface = node.get_interface(network_name=net_name).get_os_interface()\n",
    "            if iface is None:\n",
    "                print(\"iface is none\")\n",
    "                return\n",
    "            os_ifaces=os_ifaces+iface+\" \"\n",
    "\n",
    "        file_attributes = node.upload_file('./scripts/router_setup_p4_bmv2_container.sh','router_setup_p4_bmv2_container.sh')\n",
    "        command=f\"chmod +x router_setup_p4_bmv2_container.sh && sudo sh -c './router_setup_p4_bmv2_container.sh {os_ifaces}  > /tmp/script.log 2>&1' && tail /tmp/script.log\"\n",
    "        config_threads[node] = node.execute_thread(command)\n",
    "        print(command)\n",
    "\n",
    "\n",
    "    except Exception as e:\n",
    "        print(f\"Error: {e}\")\n",
    "        traceback.print_exc()"
   ]
  },
  {
   "cell_type": "code",
   "execution_count": 17,
   "metadata": {},
   "outputs": [
    {
     "name": "stdout",
     "output_type": "stream",
     "text": [
      "chmod +x router_setup_p4_bmv2_container.sh && sudo sh -c './router_setup_p4_bmv2_container.sh ens7.1000 ens8.1000   > /tmp/script.log 2>&1' && tail /tmp/script.log\n"
     ]
    }
   ],
   "source": [
    "configureSwitch(s1_name,[net_h1_name,net_h2_name]) \n"
   ]
  },
  {
   "cell_type": "code",
   "execution_count": 18,
   "metadata": {},
   "outputs": [
    {
     "name": "stdout",
     "output_type": "stream",
     "text": [
      "Config thread node s1 complete\n",
      "stdout: V1Switch(\n",
      "MyParser(),\n",
      "MyVerifyChecksum(),\n",
      "MyIngress(),\n",
      "MyEgress(),\n",
      "MyComputeChecksum(),\n",
      "MyDeparser()\n",
      ") main;\n",
      "simple_switch --interface 1@ens7.1000 --interface 2@ens8.1000 ~/P4-VCC/exercises/mri_port_forward/mri.json\n",
      "done!\n",
      "\n",
      "stderr: \n"
     ]
    }
   ],
   "source": [
    "try: \n",
    "    for node, thread in config_threads.items():\n",
    "        stdout, stderr = thread.result()\n",
    "        print(f\"Config thread node {node.get_name()} complete\")\n",
    "        print(f\"stdout: {stdout}\")\n",
    "        print(f\"stderr: {stderr}\")\n",
    "except Exception as e:\n",
    "    print(f\"Error: {e}\")\n",
    "    traceback.print_exc() \n"
   ]
  },
  {
   "cell_type": "markdown",
   "metadata": {},
   "source": [
    "### Confgure P4 Switch Tables\n",
    "\n",
    "Edit sX_commands.txt to change the values"
   ]
  },
  {
   "cell_type": "code",
   "execution_count": 19,
   "metadata": {},
   "outputs": [
    {
     "name": "stdout",
     "output_type": "stream",
     "text": [
      "Swtitch Name        : s1\n",
      "Management IP    : 63.239.135.70\n",
      "s1__command.txt\n",
      "file_attributes: -rw-rw-r--   1 1000     1000          264 07 Sep 04:21 ?\n",
      "stdout: ('Obtaining JSON from switch...\\nDone\\nControl utility for runtime P4 table manipulation\\nRuntimeCmd: RuntimeCmd: RuntimeCmd: Setting default action of MyEgress.swtrace\\naction:              add_swtrace\\nruntime data:        00:00:00:01\\nRuntimeCmd: Adding entry to lpm match table MyIngress.ipv4_lpm\\nmatch key:           LPM-0a:00:01:01/32\\naction:              ipv4_forward\\nruntime data:        04:3f:72:fe:a6:70\\t00:01\\nEntry has been added with handle 0\\nRuntimeCmd: Adding entry to lpm match table MyIngress.ipv4_lpm\\nmatch key:           LPM-0a:00:01:02/32\\naction:              ipv4_forward\\nruntime data:        b8:ce:f6:18:f8:fa\\t00:02\\nEntry has been added with handle 1\\nRuntimeCmd: \\n', '')\n"
     ]
    }
   ],
   "source": [
    "\n",
    "for switch_name in [s1_name]:\n",
    "    switch_node = slice.get_node(name=switch_name)\n",
    "    management_ip_switch = str(switch_node.get_management_ip())\n",
    "    print(\"Swtitch Name        : {}\".format(switch_node.get_name()))\n",
    "    print(\"Management IP    : {}\".format(management_ip_switch))\n",
    "    \n",
    "    #Configure P4 Tables\n",
    "    cmd_file=f'{switch_name}__command.txt'\n",
    "    print(cmd_file)\n",
    "    file_attributes = switch_node.upload_file(f'scripts/{cmd_file}',cmd_file)\n",
    "    print(\"file_attributes: {}\".format(file_attributes))\n",
    "\n",
    "    stdout = switch_node.execute(f\"sudo sh -c 'cat {cmd_file} | docker exec -i fabric_p4 simple_switch_CLI'\")\n",
    "    print(\"stdout: {}\".format(stdout))"
   ]
  },
  {
   "cell_type": "markdown",
   "metadata": {},
   "source": [
    "## The switches are now configured and running. Now we are going to send packets over the switches."
   ]
  },
  {
   "cell_type": "markdown",
   "metadata": {},
   "source": [
    "We are going to use `send.py` and `receive.py`. We are going to re-upload them to the servers and use them. Make sure to modify the interface names in the script accordingly."
   ]
  },
  {
   "cell_type": "code",
   "execution_count": 20,
   "metadata": {},
   "outputs": [
    {
     "data": {
      "text/plain": [
       "<SFTPAttributes: [ size=1498 uid=1000 gid=1000 mode=0o100664 atime=1662524514 mtime=1662524514 ]>"
      ]
     },
     "execution_count": 20,
     "metadata": {},
     "output_type": "execute_result"
    }
   ],
   "source": [
    "h1.upload_file('scripts/send.py', 'tutorials/exercises/basic_tunnel/send_modified.py')\n",
    "h1.upload_file('scripts/receive.py', 'tutorials/exercises/basic_tunnel/receive_modified.py')\n",
    "h2.upload_file('scripts/send.py', 'tutorials/exercises/basic_tunnel/send_modified.py')\n",
    "h2.upload_file('scripts/receive.py', 'tutorials/exercises/basic_tunnel/receive_modified.py')"
   ]
  },
  {
   "cell_type": "markdown",
   "metadata": {},
   "source": [
    "## H1 sends packet, H2 recieves"
   ]
  },
  {
   "cell_type": "code",
   "execution_count": 25,
   "metadata": {},
   "outputs": [
    {
     "name": "stdout",
     "output_type": "stream",
     "text": [
      "sniffing on ens7\n",
      "\n"
     ]
    }
   ],
   "source": [
    "h1.execute('tmux new -d \\'timeout 30 watch -n 5 sudo python3 tutorials/exercises/basic_tunnel/send_modified.py 10.0.1.2 \"message100\" 50\\'')\n",
    "print(h2.execute('sudo timeout 30 sudo python3 tutorials/exercises/basic_tunnel/receive_modified.py')[0])"
   ]
  },
  {
   "cell_type": "markdown",
   "metadata": {},
   "source": [
    "## H1 sends packet, H11 recieves"
   ]
  },
  {
   "cell_type": "code",
   "execution_count": 26,
   "metadata": {},
   "outputs": [
    {
     "name": "stdout",
     "output_type": "stream",
     "text": [
      "sniffing on ens7\n",
      "\n"
     ]
    }
   ],
   "source": [
    "h1.execute('tmux new -d \\'timeout 30 watch -n 5 sudo python3 tutorials/exercises/basic_tunnel/send_modified.py 10.0.1.11 \"message100\" 50\\'')\n",
    "print(h11.execute('sudo timeout 30 sudo python3 tutorials/exercises/basic_tunnel/receive_modified.py')[0])"
   ]
  },
  {
   "cell_type": "markdown",
   "metadata": {},
   "source": [
    "## H2 sends packet, H1 recieves"
   ]
  },
  {
   "cell_type": "code",
   "execution_count": 27,
   "metadata": {},
   "outputs": [
    {
     "name": "stdout",
     "output_type": "stream",
     "text": [
      "sniffing on ens7\n",
      "\n"
     ]
    }
   ],
   "source": [
    "h2.execute('tmux new -d \\'timeout 30 watch -n 5 sudo python3 tutorials/exercises/basic_tunnel/send_modified.py 10.0.1.1 \"message100\" 50\\'')\n",
    "print(h1.execute('sudo timeout 30 sudo python3 tutorials/exercises/basic_tunnel/receive_modified.py')[0])"
   ]
  },
  {
   "cell_type": "markdown",
   "metadata": {},
   "source": [
    "## H22 sends packet, H11 recieves"
   ]
  },
  {
   "cell_type": "code",
   "execution_count": 28,
   "metadata": {},
   "outputs": [
    {
     "name": "stdout",
     "output_type": "stream",
     "text": [
      "sniffing on ens7\n",
      "\n"
     ]
    }
   ],
   "source": [
    "\n",
    "h22.execute('tmux new -d \\'timeout 30 watch -n 5 sudo python3 tutorials/exercises/basic_tunnel/send_modified.py 10.0.1.11 \"message100\" 50\\'')\n",
    "print(h11.execute('sudo timeout 30 sudo python3 tutorials/exercises/basic_tunnel/receive_modified.py')[0])"
   ]
  },
  {
   "cell_type": "code",
   "execution_count": 30,
   "metadata": {},
   "outputs": [
    {
     "name": "stdout",
     "output_type": "stream",
     "text": [
      "sniffing on ens7\n",
      "\n"
     ]
    }
   ],
   "source": [
    "\n",
    "h1.execute('tmux new -d \\'timeout 30 watch -n 5 sudo python3 tutorials/exercises/basic_tunnel/send_modified.py 10.0.1.11 \"message100\" 50\\'')\n",
    "print(h11.execute('sudo timeout 30 sudo python3 tutorials/exercises/basic_tunnel/receive_modified.py')[0])"
   ]
  },
  {
   "cell_type": "markdown",
   "metadata": {},
   "source": [
    "## Delete Slice"
   ]
  },
  {
   "cell_type": "code",
   "execution_count": null,
   "metadata": {},
   "outputs": [],
   "source": [
    "# try:\n",
    "#     slice = fablib.get_slice(name=slice_name)\n",
    "#     slice.delete()\n",
    "# except Exception as e:\n",
    "#     print(f\"Fail: {e}\")\n",
    "#     traceback.print_exc()"
   ]
  },
  {
   "cell_type": "code",
   "execution_count": null,
   "metadata": {},
   "outputs": [],
   "source": []
  }
 ],
 "metadata": {
  "kernelspec": {
   "display_name": "Python 3 (ipykernel)",
   "language": "python",
   "name": "python3"
  },
  "language_info": {
   "codemirror_mode": {
    "name": "ipython",
    "version": 3
   },
   "file_extension": ".py",
   "mimetype": "text/x-python",
   "name": "python",
   "nbconvert_exporter": "python",
   "pygments_lexer": "ipython3",
   "version": "3.9.7"
  }
 },
 "nbformat": 4,
 "nbformat_minor": 4
}
