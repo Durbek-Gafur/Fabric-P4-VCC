{
 "cells": [
  {
   "cell_type": "markdown",
   "metadata": {},
   "source": [
    "# P4Lang Tutorials of FABRIC\n",
    "\n",
    "This notebook walks the user through setting up a FABRIC eperiment that is suitiable for completing the P4 tutorials created by [P4Lang](https://github.com/p4lang/tutorials). The tutorials were origianlly designed to use a mininet topology. This example replaces the mininet topology with a FABRIC experiemnt topology that may span multiple sites across the FABRIC testbed.\n",
    "\n",
    "Additional resources:\n",
    "- [FABRIC Knowledge Base](https://learn.fabric-testbed.net/)\n",
    "- [FABRIC Forums](https://learn.fabric-testbed.net/forums/)\n",
    "- [P4Lang Tutorials](https://github.com/p4lang/tutorials)\n",
    "- [P4Lang YouTube Presentations](https://www.youtube.com/channel/UCOQAFkDKucJWr-KafdJsdIQ)"
   ]
  },
  {
   "cell_type": "markdown",
   "metadata": {},
   "source": [
    "## Basic FABRIC Slice Configuration"
   ]
  },
  {
   "cell_type": "code",
   "execution_count": 1,
   "metadata": {},
   "outputs": [],
   "source": [
    "import json\n",
    "import traceback\n",
    "from fabrictestbed_extensions.fablib.fablib import fablib"
   ]
  },
  {
   "cell_type": "code",
   "execution_count": 2,
   "metadata": {},
   "outputs": [
    {
     "name": "stdout",
     "output_type": "stream",
     "text": [
      "Name      CPUs  Cores    RAM (G)    Disk (G)       Basic (100 Gbps NIC)    ConnectX-6 (100 Gbps x2 NIC)    ConnectX-5 (25 Gbps x2 NIC)    P4510 (NVMe 1TB)    Tesla T4 (GPU)    RTX6000 (GPU)\n",
      "------  ------  -------  ---------  -------------  ----------------------  ------------------------------  -----------------------------  ------------------  ----------------  ---------------\n",
      "MASS         4  125/128  1016/1024  55750/55800    253/254                 2/2                             0/0                            6/6                 0/0               3/3\n",
      "MAX         10  248/320  2326/2560  115058/116400  579/635                 2/2                             4/4                            16/16               4/4               6/6\n",
      "TACC        10  320/320  2560/2560  116400/116400  635/635                 2/2                             4/4                            16/16               4/4               6/6\n",
      "MICH         6  192/192  1536/1536  60600/60600    381/381                 2/2                             2/2                            10/10               2/2               3/3\n",
      "SALT         6  192/192  1536/1536  60600/60600    381/381                 2/2                             2/2                            10/10               2/2               3/3\n",
      "STAR        12  379/384  3056/3072  121140/121200  759/762                 2/2                             6/6                            20/20               6/6               6/6\n",
      "UTAH        10  306/320  2516/2560  116350/116400  633/635                 0/2                             1/4                            16/16               4/4               5/5\n",
      "UCSD        10  320/320  2560/2560  116400/116400  635/635                 2/2                             4/4                            16/16               4/4               6/6\n",
      "FIU         10  320/320  2560/2560  116400/116400  635/635                 2/2                             4/4                            16/16               4/4               6/6\n",
      "WASH         6  190/192  1528/1536  60590/60600    379/381                 2/2                             2/2                            10/10               2/2               3/3\n",
      "DALL         6  192/192  1536/1536  60600/60600    381/381                 2/2                             2/2                            10/10               2/2               3/3\n",
      "NCSA         6  192/192  1536/1536  60600/60600    381/381                 2/2                             2/2                            10/10               2/2               3/3\n"
     ]
    }
   ],
   "source": [
    "try:\n",
    "    print(f\"{fablib.list_sites()}\")\n",
    "except Exception as e:\n",
    "    print(f\"Exception: {e}\")"
   ]
  },
  {
   "cell_type": "markdown",
   "metadata": {
    "tags": []
   },
   "source": [
    "## Configure Slice Parameters\n",
    "\n",
    "This section builds the experiment slice \n",
    "\n",
    "<img src=\"figs/fabric_slice.png\" width=\"800\"/>\n",
    "\n"
   ]
  },
  {
   "cell_type": "code",
   "execution_count": 3,
   "metadata": {},
   "outputs": [
    {
     "name": "stdout",
     "output_type": "stream",
     "text": [
      "Sites: MAX,MAX,MAX\n"
     ]
    }
   ],
   "source": [
    "from ipaddress import ip_address, IPv4Address, IPv6Address, IPv6Network, IPv4Network\n",
    "\n",
    "# Slice \n",
    "slice_name = 'VCCchernovik'\n",
    "\n",
    "# [site1,site2,site3] = fablib.get_random_sites(count=3)\n",
    "site1 = site2 = site3 = 'MAX'\n",
    "print(f\"Sites: {site1},{site2},{site3}\")\n",
    "\n",
    "\n",
    "# Switches\n",
    "s1_name = \"s1\"\n",
    "s2_name = \"s2\"\n",
    "s3_name = \"s3\"\n",
    "\n",
    "switch_cores = 2\n",
    "switch_ram = 8\n",
    "switch_disk = 100\n",
    "\n",
    "# Hosts\n",
    "h1_name = \"h1\"\n",
    "h11_name = \"h11\"\n",
    "h2_name = \"h2\"\n",
    "h22_name = \"h22\"\n",
    "\n",
    "\n",
    "# h1_subnet=IPv4Network('10.0.0.0/16')\n",
    "# h1_addr=IPv4Address('10.0.1.1')\n",
    "# h11_addr=IPv4Address('10.0.1.11')\n",
    "\n",
    "# h2_subnet=h1_subnet #IPv4Network('10.0.0.0/16')\n",
    "# h2_addr=IPv4Address('10.0.2.2')\n",
    "# h22_addr=IPv4Address('10.0.2.22')\n",
    "\n",
    "host_cores = 2\n",
    "host_ram = 8\n",
    "host_disk = 20\n",
    "\n",
    "net_h1_name = 'net_h1'\n",
    "net_h11_name = 'net_h11'\n",
    "net_h2_name = 'net_h2'\n",
    "net_h22_name = 'net_h22'\n",
    "\n",
    "net_s1_s2_name = 'net_s1_s2'\n",
    "net_s2_s3_name = 'net_s2_s3'\n",
    "net_s1_s3_name = 'net_s1_s3'\n",
    "\n",
    "s1_iface_h1,s1_iface_h11,s1_iface_to_s2,s1_iface_to_s3 = \"s1_iface_h1\",\"s1_iface_h11\",\"s1_iface_to_s2\",\"s1_iface_to_s3\"  \n",
    "s2_iface_h2,s2_iface_h22,s2_iface_to_s1,s2_iface_to_s3 = \"s2_iface_h2\",\"s2_iface_h22\",\"s2_iface_to_s1\",\"s2_iface_to_s3\" \n",
    "s3_iface_to_s1,s3_iface_to_s2 = \"s3_iface_to_s1\",\"s3_iface_to_s2\"\n",
    "\n",
    "# All node properties\n",
    "image = 'default_ubuntu_20'"
   ]
  },
  {
   "cell_type": "code",
   "execution_count": 4,
   "metadata": {},
   "outputs": [],
   "source": [
    "# slice = fablib.get_slice(name=slice_name)"
   ]
  },
  {
   "cell_type": "markdown",
   "metadata": {},
   "source": [
    "### Create the Slice"
   ]
  },
  {
   "cell_type": "code",
   "execution_count": 5,
   "metadata": {},
   "outputs": [
    {
     "name": "stdout",
     "output_type": "stream",
     "text": [
      "\n",
      "-----------  ------------------------------------\n",
      "Slice Name   VCCchernovik\n",
      "Slice ID     e26440b3-80e2-4202-b6da-39e767469f65\n",
      "Slice State  StableOK\n",
      "Lease End    2022-09-05 07:55:50 +0000\n",
      "-----------  ------------------------------------\n",
      "\n",
      "Retry: 17, Time: 237 sec\n",
      "\n",
      "ID                                    Name    Site    Host                         Cores    RAM    Disk  Image              Management IP    State    Error\n",
      "------------------------------------  ------  ------  -------------------------  -------  -----  ------  -----------------  ---------------  -------  -------\n",
      "beac1d2d-ef12-4e19-b31b-9fd3bb23eb03  s1      MAX     max-w5.fabric-testbed.net        2      8     100  default_ubuntu_20  63.239.135.72    Active\n",
      "5fb2fe60-5743-49c2-8df4-ab58658f2159  s2      MAX     max-w5.fabric-testbed.net        2      8     100  default_ubuntu_20  63.239.135.89    Active\n",
      "da464564-7091-4a7d-b7ef-c3cd3c23804f  s3      MAX     max-w5.fabric-testbed.net        2      8     100  default_ubuntu_20  63.239.135.113   Active\n",
      "4e6b574d-12d5-4078-8b12-2e2977773182  h1      MAX     max-w5.fabric-testbed.net        2      8     100  default_ubuntu_20  63.239.135.120   Active\n",
      "3dd28697-fbef-4069-82f1-a04148a544ad  h11     MAX     max-w5.fabric-testbed.net        2      8     100  default_ubuntu_20  63.239.135.75    Active\n",
      "0fca5514-efeb-4122-9a10-6197f8d0bfc6  h2      MAX     max-w5.fabric-testbed.net        2      8     100  default_ubuntu_20  63.239.135.121   Active\n",
      "bf11f9ea-7b87-4a63-82f2-c098ba42e6e1  h22     MAX     max-w5.fabric-testbed.net        2      8     100  default_ubuntu_20  63.239.135.85    Active\n",
      "\n",
      "Time to stable 237 seconds\n",
      "Running post_boot_config ... Time to post boot config 259 seconds\n",
      "\n",
      "Name                  Node    Network      Bandwidth  VLAN    MAC                Physical OS Interface    OS Interface\n",
      "--------------------  ------  ---------  -----------  ------  -----------------  -----------------------  --------------\n",
      "s1-s1_iface_to_s2-p1  s1      net_s1_s2            0          1E:98:AB:0A:2D:14  ens7                     ens7\n",
      "s1-s1_iface_h1-p1     s1      net_h1               0          1E:E5:29:B4:DF:4F  ens9                     ens9\n",
      "s1-s1_iface_to_s3-p1  s1      net_s1_s3            0          22:55:F3:E1:8C:7C  ens10                    ens10\n",
      "s1-s1_iface_h11-p1    s1      net_h11              0          1E:DA:33:F9:21:68  ens8                     ens8\n",
      "s2-s2_iface_h2-p1     s2      net_h2               0          26:51:CC:A6:E6:9E  ens10                    ens10\n",
      "s2-s2_iface_to_s3-p1  s2      net_s2_s3            0          22:FF:DE:ED:FA:15  ens7                     ens7\n",
      "s2-s2_iface_h22-p1    s2      net_h22              0          26:0E:91:21:49:0A  ens8                     ens8\n",
      "s2-s2_iface_to_s1-p1  s2      net_s1_s2            0          26:1E:1E:F8:9E:F8  ens9                     ens9\n",
      "s3-s3_iface_to_s2-p1  s3      net_s2_s3            0          26:EE:CE:BD:92:82  ens7                     ens7\n",
      "s3-s3_iface_to_s1-p1  s3      net_s1_s3            0          26:F7:5A:56:28:4C  ens8                     ens8\n",
      "h1-h1_nic-p1          h1      net_h1               0          2A:5F:FB:92:07:F6  ens7                     ens7\n",
      "h11-h11_nic-p1        h11     net_h11              0          2A:AE:C2:4C:53:D0  ens7                     ens7\n",
      "h2-h2_nic-p1          h2      net_h2               0          2E:FB:22:D0:52:69  ens7                     ens7\n",
      "h22-h22_nic-p1        h22     net_h22              0          32:38:2E:A2:3A:F5  ens7                     ens7\n",
      "\n",
      "Time to print interfaces 281 seconds\n"
     ]
    }
   ],
   "source": [
    "import datetime\n",
    "try:\n",
    "    slice = fablib.get_slice(name=slice_name)\n",
    "    slice.delete()\n",
    "except Exception as e:\n",
    "    print(f\"Fail: {e}\")\n",
    "    traceback.print_exc()\n",
    "\n",
    "try:\n",
    "    #Create Slice\n",
    "    slice = fablib.new_slice(name=slice_name)\n",
    "    \n",
    "    def addSwitchNIC(nodeName,site,ifaceNames):\n",
    "        node = slice.add_node(name=nodeName, site=site,  image=image, cores=switch_cores, ram=switch_ram, disk=switch_disk)\n",
    "        ifaceObj = {}\n",
    "        for name in ifaceNames:\n",
    "            iface =  node.add_component(model='NIC_Basic', name=name).get_interfaces()[0]\n",
    "            ifaceObj[name] = iface\n",
    "        return node, ifaceObj\n",
    "    \n",
    "    # Add switch node s1\n",
    "    s1, s1_ifaces = addSwitchNIC(s1_name,site1,[s1_iface_h1,s1_iface_h11,s1_iface_to_s2,s1_iface_to_s3])\n",
    "\n",
    "    # Add switch node s2\n",
    "    s2, s2_ifaces = addSwitchNIC(s2_name,site2,[s2_iface_h2,s2_iface_h22,s2_iface_to_s1,s2_iface_to_s3])\n",
    "    \n",
    "    # Add switch node s3\n",
    "    s3, s3_ifaces = addSwitchNIC(s3_name,site3,[s3_iface_to_s1,s3_iface_to_s2])\n",
    "    \n",
    "    def addHostNIC(nodeName,componentName,site):\n",
    "        node = slice.add_node(name=nodeName, site=site, image=image, cores=host_cores, ram=host_ram, disk=host_disk)\n",
    "        iface = node.add_component(model='NIC_Basic', name=componentName).get_interfaces()[0]\n",
    "        return node,iface\n",
    "    \n",
    "    # Add host node h1\n",
    "    h1,h1_iface = addHostNIC(h1_name,\"h1_nic\",site1)\n",
    "\n",
    "    # Add host node h11\n",
    "    h11 , h11_iface = addHostNIC(h11_name,\"h11_nic\",site1)\n",
    "    \n",
    "    # Add host node h2\n",
    "    h2, h2_iface = addHostNIC(h2_name,\"h2_nic\",site2)\n",
    "    \n",
    "    # Add host node h3\n",
    "    h22, h22_iface = addHostNIC(h22_name,\"h22_nic\",site2)\n",
    "    \n",
    "    #Add swtich networks\n",
    "    switch_net1 = slice.add_l3network(name=net_s1_s2_name, interfaces=[s1_ifaces[s1_iface_to_s2], s2_ifaces[s2_iface_to_s1]], type='IPv4')\n",
    "    swtich_net2 = slice.add_l3network(name=net_s2_s3_name, interfaces=[s2_ifaces[s2_iface_to_s3], s3_ifaces[s3_iface_to_s2]], type='IPv4')\n",
    "    swtich_net3 = slice.add_l3network(name=net_s1_s3_name, interfaces=[s3_ifaces[s3_iface_to_s1], s1_ifaces[s1_iface_to_s3]], type='IPv4')\n",
    "\n",
    "    #Add host networks \n",
    "    host_net1 = slice.add_l3network(name=net_h1_name, interfaces=[s1_ifaces[s1_iface_h1], h1_iface], type='IPv4')\n",
    "    host_net11 = slice.add_l3network(name=net_h11_name, interfaces=[s1_ifaces[s1_iface_h11], h11_iface], type='IPv4')\n",
    "    host_net2 = slice.add_l3network(name=net_h2_name, interfaces=[s2_ifaces[s2_iface_h2], h2_iface], type='IPv4')\n",
    "    host_net22 = slice.add_l3network(name=net_h22_name, interfaces=[s2_ifaces[s2_iface_h22], h22_iface], type='IPv4')\n",
    "    \n",
    "    #Submit Slice Request\n",
    "    slice.submit() \n",
    "except Exception as e:\n",
    "    print(f\"Error: {e}\")\n",
    "    traceback.print_exc()\n",
    "    "
   ]
  },
  {
   "cell_type": "code",
   "execution_count": 25,
   "metadata": {},
   "outputs": [
    {
     "ename": "NameError",
     "evalue": "name 'network1_name' is not defined",
     "output_type": "error",
     "traceback": [
      "\u001b[0;31m---------------------------------------------------------------------------\u001b[0m",
      "\u001b[0;31mNameError\u001b[0m                                 Traceback (most recent call last)",
      "\u001b[0;32m/tmp/ipykernel_3439/915732697.py\u001b[0m in \u001b[0;36m<module>\u001b[0;34m\u001b[0m\n\u001b[0;32m----> 1\u001b[0;31m \u001b[0mnetwork1\u001b[0m \u001b[0;34m=\u001b[0m \u001b[0mslice\u001b[0m\u001b[0;34m.\u001b[0m\u001b[0mget_network\u001b[0m\u001b[0;34m(\u001b[0m\u001b[0mname\u001b[0m\u001b[0;34m=\u001b[0m\u001b[0mnetwork1_name\u001b[0m\u001b[0;34m)\u001b[0m\u001b[0;34m\u001b[0m\u001b[0;34m\u001b[0m\u001b[0m\n\u001b[0m",
      "\u001b[0;31mNameError\u001b[0m: name 'network1_name' is not defined"
     ]
    }
   ],
   "source": [
    "# network1 = slice.get_network(name=network1_name)\n",
    "#     switch_net1 = slice.get_network(name=net_s1_s2_name, interfaces=[s1_ifaces[s1_iface_to_s2], s2_ifaces[s2_iface_to_s1]], type='IPv4')\n",
    "#     swtich_net2 = slice.get_network(name=net_s2_s3_name, interfaces=[s2_ifaces[s2_iface_to_s3], s3_ifaces[s3_iface_to_s2]], type='IPv4')\n",
    "#     swtich_net3 = slice.get_network(name=net_s1_s3_name, interfaces=[s3_ifaces[s3_iface_to_s1], s1_ifaces[s1_iface_to_s3]], type='IPv4')\n",
    "\n",
    "#     #Add host networks \n",
    "#     host_net1 = slice.get_network(name=net_h1_name, interfaces=[s1_ifaces[s1_iface_h1], h1_iface], type='IPv4')\n",
    "#     host_net11 = slice.get_network(name=net_h11_name, interfaces=[s1_ifaces[s1_iface_h11], h11_iface], type='IPv4')\n",
    "#     host_net2 = slice.get_network(name=net_h2_name, interfaces=[s2_ifaces[s2_iface_h2], h2_iface], type='IPv4')\n",
    "#     host_net22 = slice.get_network(name=net_h22_name, interfaces=[s2_ifaces[s2_iface_h22], h22_iface], type='IPv4')"
   ]
  },
  {
   "cell_type": "code",
   "execution_count": 6,
   "metadata": {},
   "outputs": [
    {
     "name": "stdout",
     "output_type": "stream",
     "text": [
      "-----------------  ------------------------------------\n",
      "ID                 d50c0f45-24df-44af-a735-4097fc71e26a\n",
      "Name               net_h1\n",
      "Layer              L3\n",
      "Type               FABNetv4\n",
      "Site               MAX\n",
      "Gateway            10.130.4.1\n",
      "L3 Subnet          10.130.4.0/24\n",
      "Reservation State  Active\n",
      "Error Message\n",
      "-----------------  ------------------------------------\n"
     ]
    }
   ],
   "source": [
    "print(slice.get_network(name=net_h1_name))\n"
   ]
  },
  {
   "cell_type": "code",
   "execution_count": 7,
   "metadata": {},
   "outputs": [],
   "source": [
    "config_threads = {}"
   ]
  },
  {
   "cell_type": "code",
   "execution_count": 8,
   "metadata": {},
   "outputs": [],
   "source": [
    "def checkInetConnection(node):\n",
    "    try:\n",
    "        #If the node is an IPv4 Node then configure NAT64\n",
    "        if type(ip_address(node.get_management_ip())) is IPv6Address:\n",
    "            print(\"This code only works with ip4, reconfigure nodes\")\n",
    "            return\n",
    "\n",
    "        #Access non-IPv4 Services\n",
    "        config_thread = node.execute_thread(f'sudo apt-get update -qq && sudo apt install net-tools && git clone https://github.com/fabric-testbed/jupyter-examples.git && ls jupyter-examples')\n",
    "        config_threads[node]=config_thread\n",
    "\n",
    "    except Exception as e:\n",
    "        print(f\"Exception: {e}\")"
   ]
  },
  {
   "cell_type": "code",
   "execution_count": 9,
   "metadata": {},
   "outputs": [],
   "source": [
    "try:\n",
    "    slice = fablib.get_slice(name=slice_name)\n",
    "    for node in slice.get_nodes():\n",
    "        checkInetConnection(node)\n",
    "except Exception as e:\n",
    "    print(f\"Fail: {e}\")\n",
    "    traceback.print_exc()"
   ]
  },
  {
   "cell_type": "code",
   "execution_count": null,
   "metadata": {},
   "outputs": [],
   "source": [
    "def printThreadOutputs(con_threads):\n",
    "    try: \n",
    "        for node, thread in con_threads.items():\n",
    "            stdout, stderr = thread.result()\n",
    "            print(f\"Config thread node {node.get_name()} complete\")\n",
    "            # checkIP(node)\n",
    "    except Exception as e:\n",
    "        print(f\"Error: {e}\")\n",
    "        traceback.print_exc() \n",
    "printThreadOutputs(config_threads)\n",
    "config_threads = {}    "
   ]
  },
  {
   "cell_type": "markdown",
   "metadata": {
    "tags": []
   },
   "source": [
    "### Print Details"
   ]
  },
  {
   "cell_type": "code",
   "execution_count": null,
   "metadata": {},
   "outputs": [],
   "source": [
    "try:\n",
    "    slice = fablib.get_slice(name=slice_name)\n",
    "    for node in slice.get_nodes():\n",
    "        print(\"----\")\n",
    "        print(\"Node:\")\n",
    "        print(f\"   Name              : {node.get_name()}\")\n",
    "        # print(f\"   Cores             : {node.get_cores()}\")\n",
    "        # print(f\"   RAM               : {node.get_ram()}\")\n",
    "        # print(f\"   Disk              : {node.get_disk()}\")\n",
    "        # print(f\"   Image             : {node.get_image()}\")\n",
    "        # print(f\"   Image Type        : {node.get_image_type()}\")\n",
    "        # print(f\"   Host              : {node.get_host()}\")\n",
    "        # print(f\"   Site              : {node.get_site()}\")\n",
    "        # print(f\"   Management IP     : {node.get_management_ip()}\")\n",
    "        # print(f\"   Reservation ID    : {node.get_reservation_id()}\")\n",
    "        # print(f\"   Reservation State : {node.get_reservation_state()}\")\n",
    "        ssh = node.get_ssh_command().replace(\"ssh -i /home/fabric/work/fabric_config/.ssh/id_rsa -J durbek_gafurov_0000000854@bastion-1.fabric-testbed.net\",\"./connect.sh\")\n",
    "        print(f\"   SSH Command       : {ssh}\")\n",
    "        # print(f\"   Components        :  \")\n",
    "        # for component in node.get_components():\n",
    "        #     print(f\"      Name             : {component.get_name()}\")\n",
    "        #     print(f\"      Details          : {component.get_details()}\")\n",
    "        #     print(f\"      Disk (G)         : {component.get_disk()}\")\n",
    "        #     print(f\"      Units            : {component.get_unit()}\")\n",
    "        #     print(f\"      PCI Address      : {component.get_pci_addr()}\")\n",
    "        #     print(f\"      Model            : {component.get_model()}\")\n",
    "        #     print(f\"      Type             : {component.get_type()}\") \n",
    "        print(f\"   Interfaces        :  \", end = \" \")\n",
    "        for interface in node.get_interfaces():\n",
    "        #     print(f\"       Name                : {interface.get_name()}\")\n",
    "        #     print(f\"           Bandwidth           : {interface.get_bandwidth()}\")\n",
    "            # print(f\"           VLAN                : {interface.get_vlan()}\")  \n",
    "            # print(f\"           MAC                 : {interface.get_mac()}\") \n",
    "            print(interface.get_os_interface(), end =\" \")\n",
    "    # for network in slice.get_l2networks():\n",
    "    #     print(\"Network:\")\n",
    "    #     print(f\"    Name:            {network.get_name()}\")\n",
    "    # print(f\"Interface Map: {slice.get_interface_map()}\")\n",
    "except Exception as e:\n",
    "    print(f\"Fail: {e}\")\n",
    "    traceback.print_exc()"
   ]
  },
  {
   "cell_type": "markdown",
   "metadata": {},
   "source": [
    "## Configure Nodes\n"
   ]
  },
  {
   "cell_type": "code",
   "execution_count": null,
   "metadata": {},
   "outputs": [],
   "source": [
    "config_threads = {}"
   ]
  },
  {
   "cell_type": "code",
   "execution_count": null,
   "metadata": {},
   "outputs": [],
   "source": [
    "host_config_script = \"sudo apt-get update -qq && sudo apt-get install -qq -y python3-scapy && git clone https://github.com/p4lang/tutorials.git/\" \n",
    "def addIP(name,net_name,node_addr,node_subnet):\n",
    "    node = slice.get_node(name=name)        \n",
    "    h1_os_iface = node.get_interface(network_name=net_name).ip_addr_add(addr=node_addr, subnet=node_subnet)\n",
    "    config_thread = node.execute_thread(host_config_script)\n",
    "    config_threads[node]=config_thread\n",
    "    return node\n",
    "    \n",
    "try:\n",
    "    \n",
    "    h1 = addIP(h1_name,net_h1_name,h1_addr,h1_subnet)\n",
    "    # print(h1.execute(f'sudo arp -i ens7 -s 10.0.1.0 08:00:00:00:01:00 && arp -a'))\n",
    "    h11 = addIP(h11_name,net_h11_name,h11_addr,h1_subnet)\n",
    "    # print(h11.execute(f'sudo arp -i ens7 -s 10.0.1.10 08:00:00:00:01:00 && arp -a'))\n",
    "    h2 = addIP(h2_name,net_h2_name,h2_addr,h2_subnet)\n",
    "    # print(h2.execute(f'sudo arp -i ens7 -s 10.0.2.3 08:00:00:00:02:00 && arp -a'))\n",
    "    h22 = addIP(h22_name,net_h22_name,h22_addr,h2_subnet)\n",
    "    # print(h22.execute(f'sudo arp -i ens7 -s 10.0.2.23 08:00:00:00:02:00 && arp -a'))\n",
    "\n",
    "\n",
    "except Exception as e:\n",
    "    print(f\"Error: {e}\")\n",
    "    traceback.print_exc()"
   ]
  },
  {
   "cell_type": "code",
   "execution_count": null,
   "metadata": {},
   "outputs": [],
   "source": [
    "# def checkIP(node):\n",
    "#     try:        \n",
    "#         stdout, stderr = node.execute(f'ifconfig | grep \"inet 10.0.\"')\n",
    "#         print(stdout)\n",
    "#         print(stderr)\n",
    "#     except Exception as e:\n",
    "#         print(f\"Exception: {e}\")"
   ]
  },
  {
   "cell_type": "code",
   "execution_count": null,
   "metadata": {},
   "outputs": [],
   "source": [
    "printThreadOutputs(config_threads)\n",
    "config_threads = {}"
   ]
  },
  {
   "cell_type": "markdown",
   "metadata": {},
   "source": [
    "## Configure Switches\n",
    "\n",
    "Use ssh to configure the ifaces on the switches. This step requires testing the interfaces to figure out which interface is connected to which network.\n"
   ]
  },
  {
   "cell_type": "markdown",
   "metadata": {},
   "source": [
    "#### Setup P4 Docker\n",
    "\n"
   ]
  },
  {
   "cell_type": "markdown",
   "metadata": {},
   "source": [
    "Below are commands to let sudo work with the global proxy."
   ]
  },
  {
   "cell_type": "code",
   "execution_count": null,
   "metadata": {},
   "outputs": [],
   "source": [
    "print(slice.get_node(name=s1_name).get_interface(network_name=net_s1_s2_name))\n",
    "print(h1.get_interface(network_name=net_h1_name))"
   ]
  },
  {
   "cell_type": "code",
   "execution_count": null,
   "metadata": {},
   "outputs": [],
   "source": [
    "h1Mac = h1.get_interface(network_name=net_h1_name).get_mac()\n",
    "h11Mac = h11.get_interface(network_name=net_h11_name).get_mac()\n",
    "h2Mac = h2.get_interface(network_name=net_h2_name).get_mac()\n",
    "h22Mac = h22.get_interface(network_name=net_h22_name).get_mac()\n",
    "\n",
    "s1_net_s1_s2_Mac = slice.get_node(name=s1_name).get_interface(network_name=net_s1_s2_name).get_mac()\n",
    "s2_net_s1_s2_Mac = slice.get_node(name=s2_name).get_interface(network_name=net_s1_s2_name).get_mac()\n",
    "\n",
    "s1_net_s1_s3_Mac = slice.get_node(name=s1_name).get_interface(network_name=net_s1_s3_name).get_mac()\n",
    "s3_net_s1_s3_Mac = slice.get_node(name=s3_name).get_interface(network_name=net_s1_s3_name).get_mac()\n",
    "\n",
    "s2_net_s2_s3_Mac = slice.get_node(name=s2_name).get_interface(network_name=net_s2_s3_name).get_mac()\n",
    "s3_net_s2_s3_Mac = slice.get_node(name=s3_name).get_interface(network_name=net_s2_s3_name).get_mac()\n",
    "\n",
    "print(h1Mac,h11Mac,h2Mac,h22Mac)\n",
    "def printToFile(text,filename):\n",
    "    text_file = open(filename, \"w\")\n",
    "    n = text_file.write(text)\n",
    "    text_file.close()\n",
    "s1_command = \"\"\"table_clear MyEgress.swtrace\n",
    "table_clear MyIngress.ipv4_lpm \n",
    "table_set_default MyEgress.swtrace add_swtrace 1\n",
    "table_add MyIngress.ipv4_lpm ipv4_forward 10.0.1.1/32 => {} 1\n",
    "table_add MyIngress.ipv4_lpm ipv4_forward 10.0.1.11/32 => {} 2\n",
    "table_add MyIngress.ipv4_lpm ipv4_forward 10.0.2.2/32 => {} 3\n",
    "table_add MyIngress.ipv4_lpm ipv4_forward 10.0.2.22/32 => {} 4\n",
    "\"\"\".format(h1Mac, h11Mac,s2_net_s1_s2_Mac,s3_net_s1_s3_Mac)\n",
    "s2_command = \"\"\"table_clear MyEgress.swtrace\n",
    "table_clear MyIngress.ipv4_lpm \n",
    "table_set_default MyEgress.swtrace add_swtrace 2\n",
    "table_add MyIngress.ipv4_lpm ipv4_forward 10.0.1.1/32 => {} 3\n",
    "table_add MyIngress.ipv4_lpm ipv4_forward 10.0.1.11/32 => {} 4\n",
    "table_add MyIngress.ipv4_lpm ipv4_forward 10.0.2.2/32 => {} 1\n",
    "table_add MyIngress.ipv4_lpm ipv4_forward 10.0.2.22/32 => {} 2\n",
    "\"\"\".format(s1_net_s1_s2_Mac,s3_net_s2_s3_Mac,h2Mac,h22Mac)\n",
    "s3_command = \"\"\"table_clear MyEgress.swtrace\n",
    "table_clear MyIngress.ipv4_lpm \n",
    "table_set_default MyEgress.swtrace add_swtrace 3\n",
    "table_add MyIngress.ipv4_lpm ipv4_forward 10.0.1.0/24 => {} 1\n",
    "table_add MyIngress.ipv4_lpm ipv4_forward 10.0.2.0/24 => {} 2\n",
    "\"\"\".format(s1_net_s1_s3_Mac,s2_net_s2_s3_Mac)\n",
    "printToFile(s1_command, \"./scripts/s1command.txt\")\n",
    "printToFile(s2_command, \"./scripts/s2command.txt\")\n",
    "printToFile(s3_command, \"./scripts/s3command.txt\")\n",
    "print(s1_command, \"./scripts/s1command.txt\")\n",
    "print(s2_command, \"./scripts/s2command.txt\")\n",
    "print(s3_command, \"./scripts/s3command.txt\")"
   ]
  },
  {
   "cell_type": "code",
   "execution_count": null,
   "metadata": {},
   "outputs": [],
   "source": [
    "def configureSwitch(name,network_names):\n",
    "    try:\n",
    "        node = slice.get_node(name=name)\n",
    "        os_ifaces = \"\"\n",
    "        for net_name in network_names:\n",
    "            iface = node.get_interface(network_name=net_name).get_os_interface()\n",
    "            if iface is None:\n",
    "                print(\"iface is none\")\n",
    "                return\n",
    "            os_ifaces=os_ifaces+iface+\" \"\n",
    "\n",
    "        file_attributes = node.upload_file('./scripts/router_setup_p4_bmv2_container.sh','router_setup_p4_bmv2_container.sh')\n",
    "        command=f\"chmod +x router_setup_p4_bmv2_container.sh && sudo sh -c './router_setup_p4_bmv2_container.sh {os_ifaces}  > /tmp/script.log 2>&1' && tail /tmp/script.log\"\n",
    "        config_threads[node] = node.execute_thread(command)\n",
    "        print(command)\n",
    "\n",
    "\n",
    "    except Exception as e:\n",
    "        print(f\"Error: {e}\")\n",
    "        traceback.print_exc()"
   ]
  },
  {
   "cell_type": "code",
   "execution_count": null,
   "metadata": {},
   "outputs": [],
   "source": [
    "configureSwitch(s1_name,[net_h1_name,net_h11_name,net_s1_s2_name,net_s1_s3_name]) \n",
    "configureSwitch(s2_name,[net_h2_name,net_h22_name,net_s1_s2_name,net_s2_s3_name])\n",
    "configureSwitch(s3_name,[net_s1_s3_name,net_s2_s3_name])"
   ]
  },
  {
   "cell_type": "code",
   "execution_count": null,
   "metadata": {},
   "outputs": [],
   "source": [
    "printThreadOutputs(config_threads)\n",
    "config_threads = {}"
   ]
  },
  {
   "cell_type": "markdown",
   "metadata": {},
   "source": [
    "### Confgure P4 Switch Tables\n",
    "\n",
    "Edit sX_commands.txt to change the values"
   ]
  },
  {
   "cell_type": "code",
   "execution_count": null,
   "metadata": {},
   "outputs": [],
   "source": [
    "\n",
    "for switch_name in [s1_name, s2_name, s3_name]:\n",
    "    switch_node = slice.get_node(name=switch_name)\n",
    "    management_ip_switch = str(switch_node.get_management_ip())\n",
    "    print(\"Swtitch Name        : {}\".format(switch_node.get_name()))\n",
    "    print(\"Management IP    : {}\".format(management_ip_switch))\n",
    "    \n",
    "    #Configure P4 Tables\n",
    "    cmd_file=f'{switch_name}command.txt'\n",
    "    print(cmd_file)\n",
    "    file_attributes = switch_node.upload_file(f'scripts/{cmd_file}',cmd_file)\n",
    "    print(\"file_attributes: {}\".format(file_attributes))\n",
    "\n",
    "    stdout = switch_node.execute(f\"sudo sh -c 'cat {cmd_file} | docker exec -i fabric_p4 simple_switch_CLI'\")\n",
    "    print(\"stdout: {}\".format(stdout))"
   ]
  },
  {
   "cell_type": "markdown",
   "metadata": {},
   "source": [
    "## The switches are now configured and running. Now we are going to send packets over the switches."
   ]
  },
  {
   "cell_type": "markdown",
   "metadata": {},
   "source": [
    "We are going to use `send.py` and `receive.py`. We are going to re-upload them to the servers and use them. Make sure to modify the interface names in the script accordingly."
   ]
  },
  {
   "cell_type": "code",
   "execution_count": null,
   "metadata": {},
   "outputs": [],
   "source": [
    "h1.upload_file('scripts/send.py', 'tutorials/exercises/basic_tunnel/send_modified.py')\n",
    "h1.upload_file('scripts/receive.py', 'tutorials/exercises/basic_tunnel/receive_modified.py')\n",
    "h2.upload_file('scripts/send.py', 'tutorials/exercises/basic_tunnel/send_modified.py')\n",
    "h2.upload_file('scripts/receive.py', 'tutorials/exercises/basic_tunnel/receive_modified.py')\n",
    "h11.upload_file('scripts/send.py', 'tutorials/exercises/basic_tunnel/send_modified.py')\n",
    "h11.upload_file('scripts/receive.py', 'tutorials/exercises/basic_tunnel/receive_modified.py')\n",
    "h22.upload_file('scripts/send.py', 'tutorials/exercises/basic_tunnel/send_modified.py')\n",
    "h22.upload_file('scripts/receive.py', 'tutorials/exercises/basic_tunnel/receive_modified.py')"
   ]
  },
  {
   "cell_type": "code",
   "execution_count": null,
   "metadata": {},
   "outputs": [],
   "source": [
    "print(h1)"
   ]
  },
  {
   "cell_type": "markdown",
   "metadata": {},
   "source": [
    "## H1 sends packet, H2 recieves"
   ]
  },
  {
   "cell_type": "code",
   "execution_count": null,
   "metadata": {},
   "outputs": [],
   "source": [
    "h1.execute('tmux new -d \\'timeout 30 watch -n 5 sudo python3 tutorials/exercises/basic_tunnel/send_modified.py 10.0.2.2 \"message100\" 50\\'')\n",
    "print(h2.execute('sudo timeout 30 sudo python3 tutorials/exercises/basic_tunnel/receive_modified.py')[0])"
   ]
  },
  {
   "cell_type": "markdown",
   "metadata": {},
   "source": [
    "## H1 sends packet, H11 recieves"
   ]
  },
  {
   "cell_type": "code",
   "execution_count": null,
   "metadata": {},
   "outputs": [],
   "source": [
    "h1.execute('tmux new -d \\'timeout 30 watch -n 5 sudo python3 tutorials/exercises/basic_tunnel/send_modified.py 10.0.1.11 \"message100\" 50\\'')\n",
    "print(h11.execute('sudo timeout 30 sudo python3 tutorials/exercises/basic_tunnel/receive_modified.py')[0])"
   ]
  },
  {
   "cell_type": "markdown",
   "metadata": {},
   "source": [
    "## H2 sends packet, H1 recieves"
   ]
  },
  {
   "cell_type": "code",
   "execution_count": null,
   "metadata": {},
   "outputs": [],
   "source": [
    "h2.execute('tmux new -d \\'timeout 30 watch -n 5 sudo python3 tutorials/exercises/basic_tunnel/send_modified.py 10.0.1.1 \"message100\" 50\\'')\n",
    "print(h1.execute('sudo timeout 30 sudo python3 tutorials/exercises/basic_tunnel/receive_modified.py')[0])"
   ]
  },
  {
   "cell_type": "markdown",
   "metadata": {},
   "source": [
    "## H22 sends packet, H11 recieves"
   ]
  },
  {
   "cell_type": "code",
   "execution_count": null,
   "metadata": {},
   "outputs": [],
   "source": [
    "\n",
    "h22.execute('tmux new -d \\'timeout 30 watch -n 5 sudo python3 tutorials/exercises/basic_tunnel/send_modified.py 10.0.1.11 \"message100\" 50\\'')\n",
    "print(h11.execute('sudo timeout 30 sudo python3 tutorials/exercises/basic_tunnel/receive_modified.py')[0])"
   ]
  },
  {
   "cell_type": "markdown",
   "metadata": {},
   "source": [
    "## Delete Slice"
   ]
  },
  {
   "cell_type": "code",
   "execution_count": null,
   "metadata": {},
   "outputs": [],
   "source": [
    "# try:\n",
    "#     slice = fablib.get_slice(name=slice_name)\n",
    "#     slice.delete()\n",
    "# except Exception as e:\n",
    "#     print(f\"Fail: {e}\")\n",
    "#     traceback.print_exc()"
   ]
  },
  {
   "cell_type": "code",
   "execution_count": null,
   "metadata": {},
   "outputs": [],
   "source": []
  }
 ],
 "metadata": {
  "kernelspec": {
   "display_name": "Python 3 (ipykernel)",
   "language": "python",
   "name": "python3"
  },
  "language_info": {
   "codemirror_mode": {
    "name": "ipython",
    "version": 3
   },
   "file_extension": ".py",
   "mimetype": "text/x-python",
   "name": "python",
   "nbconvert_exporter": "python",
   "pygments_lexer": "ipython3",
   "version": "3.9.7"
  }
 },
 "nbformat": 4,
 "nbformat_minor": 4
}
