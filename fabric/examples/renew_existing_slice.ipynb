{
 "cells": [
  {
   "cell_type": "markdown",
   "id": "60e3fd3a-d102-4626-9849-755cfdd24948",
   "metadata": {},
   "source": [
    "# This notebook shows how to renew an existing slice"
   ]
  },
  {
   "cell_type": "markdown",
   "id": "39d63200-f6fe-420a-977c-04ad25186f65",
   "metadata": {},
   "source": [
    "## Configure the environment"
   ]
  },
  {
   "cell_type": "code",
   "execution_count": 23,
   "id": "4f28a966-d33c-4cd5-a7a6-80c546cc2010",
   "metadata": {},
   "outputs": [
    {
     "name": "stdout",
     "output_type": "stream",
     "text": [
      "CM Host: beta-2.fabric-testbed.net Orchestrator Host: beta-7.fabric-testbed.net\n",
      "Fabric Refresh Token NB2HI4DTHIXS6Y3JNRXWO33OFZXXEZZPN5QXK5DIGIXTGZDCHE4TGZBSG5RTKMRYGE2WCMDGGJSGIYTGGE4DQOLGHBRWCMR7OR4XAZJ5OJSWM4TFONUFI33LMVXCM5DTHUYTMMRSGA2DGOJVGM3DMMZGOZSXE43JN5XD25RSFYYCM3DJMZSXI2LNMU6TQNRUGAYDAMBQ\n",
      "CILOGON_REFRESH_TOKEN environment variable: NB2HI4DTHIXS6Y3JNRXWO33OFZXXEZZPN5QXK5DIGIXWGMZYG4YTAMLGHE2DOMBTGQYTIZLFHE3DGMRWGUZDKZBTHEYGMP3UPFYGKPLSMVTHEZLTNBKG623FNYTHI4Z5GE3DEMRQGA2DIMBWGU4DKJTWMVZHG2LPNY6XMMROGATGY2LGMV2GS3LFHU4DMNBQGAYDAMA\n"
     ]
    }
   ],
   "source": [
    "import os\n",
    "from fabrictestbed.slice_manager import SliceManager, Status\n",
    "import json\n",
    "\n",
    "credmgr_host = os.environ['FABRIC_CREDMGR_HOST']\n",
    "orchestrator_host = os.environ['FABRIC_ORCHESTRATOR_HOST']\n",
    "print(f\"CM Host: {credmgr_host} Orchestrator Host: {orchestrator_host}\")\n",
    "\n",
    "not_found=False\n",
    "fabric_refresh_token=None\n",
    "%store -r fabric_refresh_token\n",
    "\n",
    "if fabric_refresh_token is None:\n",
    "    fabric_refresh_token=os.environ['CILOGON_REFRESH_TOKEN']\n",
    "    %store fabric_refresh_token\n",
    "print(\"Fabric Refresh Token {}\".format(fabric_refresh_token))\n",
    "print(\"CILOGON_REFRESH_TOKEN environment variable: {}\".format(os.environ['CILOGON_REFRESH_TOKEN']))"
   ]
  },
  {
   "cell_type": "markdown",
   "id": "f44435c0-eef3-4a0d-a0f4-b97470ceccfd",
   "metadata": {},
   "source": [
    "## Create slice manager object"
   ]
  },
  {
   "cell_type": "code",
   "execution_count": 24,
   "id": "50dc65b2-0166-4eb1-a7e5-7e5d63ab29d4",
   "metadata": {},
   "outputs": [],
   "source": [
    "slice_manager = SliceManager(oc_host=orchestrator_host, cm_host=credmgr_host,refresh_token=fabric_refresh_token, project_name='all', scope='all')"
   ]
  },
  {
   "cell_type": "markdown",
   "id": "742b8a58-cc9a-4a50-815e-c9211a036836",
   "metadata": {},
   "source": [
    "## Refresh the ID Token"
   ]
  },
  {
   "cell_type": "code",
   "execution_count": 25,
   "id": "29f20151-6e31-47ae-9cb0-3984e3be117d",
   "metadata": {},
   "outputs": [
    {
     "name": "stdout",
     "output_type": "stream",
     "text": [
      "New Refresh Token: NB2HI4DTHIXS6Y3JNRXWO33OFZXXEZZPN5QXK5DIGIXTONJVG5SGKNJSMVRDONDBMRTDQYZXGQYDQNZRMRSGCZJUGVSWIMJ7OR4XAZJ5OJSWM4TFONUFI33LMVXCM5DTHUYTMMRSGA2DINRWGU4DMNRGOZSXE43JN5XD25RSFYYCM3DJMZSXI2LNMU6TQNRUGAYDAMBQ\n",
      "Stored new Refresh Token\n",
      "Stored 'fabric_refresh_token' (str)\n"
     ]
    }
   ],
   "source": [
    "try:\n",
    "    id_token, refresh_token = slice_manager.refresh_tokens()\n",
    "except Exception as e:\n",
    "    print(\"Exception occurred while getting tokens:{}\".format(e))\n",
    "\n",
    "fabric_refresh_token=slice_manager.get_refresh_token()\n",
    "print(\"New Refresh Token: {}\".format(fabric_refresh_token))\n",
    "print(\"Stored new Refresh Token\")\n",
    "%store fabric_refresh_token"
   ]
  },
  {
   "cell_type": "markdown",
   "id": "6fb75c5d-2352-402d-81b4-d4f2d3c76603",
   "metadata": {},
   "source": [
    "## Query existing Slices"
   ]
  },
  {
   "cell_type": "code",
   "execution_count": 26,
   "id": "f4fdb285-9af4-4992-ac71-2db3007d5aec",
   "metadata": {},
   "outputs": [
    {
     "name": "stdout",
     "output_type": "stream",
     "text": [
      "Response Status Status.OK\n",
      "Slices [{\n",
      "    \"graph_id\": \"27a459ba-15ad-46ea-8f28-bf1102a48884\",\n",
      "    \"slice_id\": \"b131992d-7fc1-42c3-b77e-6fb0e4f2baa5\",\n",
      "    \"slice_name\": \"ToBeRemoved\",\n",
      "    \"slice_state\": \"StableOK\"\n",
      "}, {\n",
      "    \"graph_id\": \"f6b7ff90-0c37-4457-95c3-de91c92d6810\",\n",
      "    \"slice_id\": \"31370a62-71b4-42ee-9f3a-0799ffb0aa22\",\n",
      "    \"slice_name\": \"ExampleSlice\",\n",
      "    \"slice_state\": \"Configuring\"\n",
      "}]\n"
     ]
    }
   ],
   "source": [
    "status, slices = slice_manager.slices()\n",
    "\n",
    "print(\"Response Status {}\".format(status))\n",
    "if status == Status.OK:\n",
    "    print(\"Slices {}\".format(slices))"
   ]
  },
  {
   "cell_type": "markdown",
   "id": "4a680116-85fc-451d-9d28-3b33f3df2469",
   "metadata": {},
   "source": [
    "## Retrieve Slice ID"
   ]
  },
  {
   "cell_type": "code",
   "execution_count": 27,
   "id": "9512499e-123e-4eb8-887a-e8f1e9dd6d8c",
   "metadata": {},
   "outputs": [
    {
     "name": "stdout",
     "output_type": "stream",
     "text": [
      "31370a62-71b4-42ee-9f3a-0799ffb0aa22\n"
     ]
    }
   ],
   "source": [
    "#Name of slice to be renewed\n",
    "TargetSliceName = \"ExampleSlice\"\n",
    "\n",
    "#Search for Slice ID from Slice Name\n",
    "slice_id = list(filter(lambda slices: slices.slice_name == TargetSliceName, slices))[0].slice_id\n",
    "\n",
    "print(slice_id)"
   ]
  },
  {
   "cell_type": "markdown",
   "id": "d852df40-46e0-487a-ac7c-1e802c48c548",
   "metadata": {},
   "source": [
    "## Renew Slice"
   ]
  },
  {
   "cell_type": "code",
   "execution_count": 30,
   "id": "a3a30bad-c968-4ddd-9fb1-998caba9360e",
   "metadata": {},
   "outputs": [
    {
     "name": "stdout",
     "output_type": "stream",
     "text": [
      "Response Status (500)\n",
      "Reason: INTERNAL SERVER ERROR\n",
      "HTTP response headers: HTTPHeaderDict({'Server': 'nginx/1.19.8', 'Date': 'Wed, 26 May 2021 15:59:36 GMT', 'Content-Type': 'application/json', 'Content-Length': '102', 'Connection': 'keep-alive'})\n",
      "HTTP response body: \"Unable to renew Slice# 31370a62-71b4-42ee-9f3a-0799ffb0aa22 that is not yet stable, try again later\"\n",
      "\n",
      "\n"
     ]
    }
   ],
   "source": [
    "import datetime\n",
    "\n",
    "#Slice renew to end in 1 day\n",
    "end_date = (datetime.datetime.now() + datetime.timedelta(days=1)).strftime(\"%Y-%m-%d %H:%M:%S\")\n",
    "\n",
    "status, result = slice_manager.renew(slice_id=slice_id,new_lease_end_time = end_date)\n",
    "\n",
    "print(\"Response Status {}\".format(result))"
   ]
  },
  {
   "cell_type": "code",
   "execution_count": null,
   "id": "30131fe5-63dc-4c52-a512-3be477150453",
   "metadata": {},
   "outputs": [],
   "source": []
  }
 ],
 "metadata": {
  "kernelspec": {
   "display_name": "Python 3",
   "language": "python",
   "name": "python3"
  },
  "language_info": {
   "codemirror_mode": {
    "name": "ipython",
    "version": 3
   },
   "file_extension": ".py",
   "mimetype": "text/x-python",
   "name": "python",
   "nbconvert_exporter": "python",
   "pygments_lexer": "ipython3",
   "version": "3.8.8"
  }
 },
 "nbformat": 4,
 "nbformat_minor": 5
}
