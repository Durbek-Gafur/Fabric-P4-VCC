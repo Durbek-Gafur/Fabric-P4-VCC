{
 "cells": [
  {
   "cell_type": "code",
   "execution_count": 1,
   "metadata": {},
   "outputs": [
    {
     "name": "stdout",
     "output_type": "stream",
     "text": [
      "dev-2.fabric-testbed.net\n"
     ]
    }
   ],
   "source": [
    "export FABRIC_PROJECT_NAME=\"RENCI-TEST\"\n",
    "echo $FABRIC_CREDMGR_HOST"
   ]
  },
  {
   "cell_type": "code",
   "execution_count": 2,
   "metadata": {},
   "outputs": [
    {
     "name": "stdout",
     "output_type": "stream",
     "text": [
      "Usage: fabric-cli [OPTIONS] COMMAND [ARGS]...\n",
      "\n",
      "Options:\n",
      "  -v, --verbose\n",
      "  --help         Show this message and exit.\n",
      "\n",
      "Commands:\n",
      "  resources  Query Resources (set $FABRIC_ORCHESTRATOR_HOST to the Control...\n",
      "  slice      slice management\n",
      "  token      issue/get/refresh/revoke FABRIC tokens.\n"
     ]
    }
   ],
   "source": [
    "fabric-cli"
   ]
  },
  {
   "cell_type": "code",
   "execution_count": 3,
   "metadata": {},
   "outputs": [
    {
     "name": "stdout",
     "output_type": "stream",
     "text": [
      "Usage: fabric-cli token issue [OPTIONS]\n",
      "\n",
      "  issue token with projectname and scope\n",
      "\n",
      "Options:\n",
      "  --projectname TEXT              project name\n",
      "  --scope [control|measurement|all]\n",
      "                                  scope\n",
      "  --help                          Show this message and exit.\n"
     ]
    }
   ],
   "source": [
    "fabric-cli token issue --help"
   ]
  },
  {
   "cell_type": "code",
   "execution_count": 4,
   "metadata": {},
   "outputs": [
    {
     "name": "stdout",
     "output_type": "stream",
     "text": [
      "After visiting the URL: https://dev-2.fabric-testbed.net:8443/ui/, use POST /tokens/create command to generate fabric tokens\n",
      "Set up the environment variables for FABRIC_ID_TOKEN and FABRIC_REFRESH_TOKEN\n"
     ]
    }
   ],
   "source": [
    "fabric-cli token issue"
   ]
  },
  {
   "cell_type": "code",
   "execution_count": 5,
   "metadata": {},
   "outputs": [
    {
     "name": "stdout",
     "output_type": "stream",
     "text": [
      "\n"
     ]
    }
   ],
   "source": [
    "echo $CILOGON_REFRESH_TOKEN"
   ]
  },
  {
   "cell_type": "code",
   "execution_count": 6,
   "metadata": {},
   "outputs": [
    {
     "name": "stdout",
     "output_type": "stream",
     "text": [
      "Error: --refreshtoken option requires an argument\n"
     ]
    },
    {
     "ename": "",
     "evalue": "2",
     "output_type": "error",
     "traceback": []
    }
   ],
   "source": [
    "fabric-cli token refresh --refreshtoken $CILOGON_REFRESH_TOKEN"
   ]
  },
  {
   "cell_type": "code",
   "execution_count": 6,
   "metadata": {},
   "outputs": [],
   "source": [
    "perl -n -e 'print $1 if (/\\\"refresh_token\\\": \\\"([^\\\"]+)\\\"/);' < token-response.txt > refresh-token.txt\n",
    "perl -n -e 'print $1 if (/\\\"id_token\\\": \\\"([^\\\"]+)\\\"/);' < token-response.txt > id-token.txt\n",
    "export USER_REFRESH_TOKEN=`cat refresh-token.txt`\n",
    "export FABRIC_ID_TOKEN=`cat id-token.txt`"
   ]
  },
  {
   "cell_type": "code",
   "execution_count": 7,
   "metadata": {},
   "outputs": [
    {
     "name": "stdout",
     "output_type": "stream",
     "text": [
      "https://cilogon.org/oauth2/refreshToken/63dae288056a9f5059892b9c7aec6ced/1588607899045\n"
     ]
    }
   ],
   "source": [
    "echo $USER_REFRESH_TOKEN"
   ]
  },
  {
   "cell_type": "code",
   "execution_count": 8,
   "metadata": {},
   "outputs": [
    {
     "name": "stdout",
     "output_type": "stream",
     "text": [
      "eyJ0eXAiOiJKV1QiLCJhbGciOiJSUzI1NiJ9.eyJpc3MiOiJodHRwczovL2NpbG9nb24ub3JnIiwic3ViIjoiaHR0cDovL2NpbG9nb24ub3JnL3NlcnZlclQvdXNlcnMvMTUwNDU4OTMiLCJhdWQiOiJjaWxvZ29uOi9jbGllbnRfaWQvNmZiZWEyZWY0YjRiYjlhYjY4ZjljMzU5NTg1MGNhNzkiLCJhdXRoX3RpbWUiOiIxNTg4NjA1OTU0IiwiZXhwIjoxNTg4NjA4Nzk5LCJpYXQiOjE1ODg2MDc4OTksImVtYWlsIjoiZXJpY2FmdUByZW5jaS5vcmciLCJjZXJ0X3N1YmplY3RfZG4iOiIvREM9b3JnL0RDPWNpbG9nb24vQz1VUy9PPVVuaXZlcnNpdHkgb2YgTm9ydGggQ2Fyb2xpbmEgYXQgQ2hhcGVsIEhpbGwvQ049U2hpaCBXZW4gRnUgVDE1MDQ1ODkzIiwiaWRwIjoidXJuOm1hY2U6aW5jb21tb246dW5jLmVkdSIsImlkcF9uYW1lIjoiVW5pdmVyc2l0eSBvZiBOb3J0aCBDYXJvbGluYSBhdCBDaGFwZWwgSGlsbCIsImVwcG4iOiJlcmljYWZ1QHVuYy5lZHUiLCJhZmZpbGlhdGlvbiI6ImVtcGxveWVlQHVuYy5lZHU7c3RhZmZAdW5jLmVkdTttZW1iZXJAdW5jLmVkdSIsIm5hbWUiOiJFcmljYSBGdSIsImFjciI6InVybjpvYXNpczpuYW1lczp0YzpTQU1MOjIuMDphYzpjbGFzc2VzOlBhc3N3b3JkUHJvdGVjdGVkVHJhbnNwb3J0IiwiZW50aXRsZW1lbnQiOiJ1cm46bWFjZTpkaXI6ZW50aXRsZW1lbnQ6Y29tbW9uLWxpYi10ZXJtcyIsImlzTWVtYmVyT2YiOlsiQ086Q09VOlJFTkNJLVRFU1Q6bWVtYmVyczphY3RpdmUiXSwic2NvcGUiOiJhbGwiLCJwcm9qZWN0IjoiUkVOQ0ktVEVTVCJ9.ZGzYgNsX6FgQnZDdtfLX37X6-M3n_MmAw6DbOr05FeR-YMWG09VeLAZ4ExyH3U7F4DCBHdas1mVrqKfiyM3U96M_g0JGby_rqCusdLAaXNYA5yrozXIcpUl80Kb_40bPThuiffXyxSitQ394aReMpCGuplAugIIy07AOakpTEpccMj4UpCM7qa6TJUXUj7mcxzF_Y2FOzhlpYA2BS5ICN9peylxJaajNpgw8RRxVbp4AT2iUYk8hdjblEwgXK5ggf1TV8HhuGOE4mmaRNhy3z3PrW6qCJ4F1PF4caA8EnLrnTbN8nESz5WKNX19FwMqBQwHavohw08jCc5ArYx9C7g\n"
     ]
    }
   ],
   "source": [
    "echo $FABRIC_ID_TOKEN"
   ]
  },
  {
   "cell_type": "code",
   "execution_count": null,
   "metadata": {},
   "outputs": [],
   "source": []
  }
 ],
 "metadata": {
  "kernelspec": {
   "display_name": "Bash",
   "language": "bash",
   "name": "bash"
  },
  "language_info": {
   "codemirror_mode": "shell",
   "file_extension": ".sh",
   "mimetype": "text/x-sh",
   "name": "bash"
  }
 },
 "nbformat": 4,
 "nbformat_minor": 4
}
