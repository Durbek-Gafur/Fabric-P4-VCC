{
 "cells": [
  {
   "cell_type": "markdown",
   "metadata": {},
   "source": [
    "## This notebook shows how to use get FABRIC tokens for Jupyterhub users"
   ]
  },
  {
   "cell_type": "code",
   "execution_count": 2,
   "metadata": {},
   "outputs": [],
   "source": [
    "import os\n",
    "from fabric_cli.cli.credential import CredMgr\n",
    "from fabric_cli.cli.orchestrator import Orchestrator\n",
    "import json"
   ]
  },
  {
   "cell_type": "markdown",
   "metadata": {},
   "source": [
    "### Fabric Tokens\n",
    "Fabric has 2 kinds of tokens:<br>\n",
    "- Identity : required for Control/Measurement Framework APIs. Identity Token is valid upto an hour.\n",
    "- Refresh : required to generate new Identity Tokens valid. Refresh Token is valid for 24 hours.\n",
    "\n",
    "Fabric Identity token is required for Control/Measurement Framework APIs.<br>\n",
    "\n",
    "When user logins to Jupyterhub after authenticating against CILogon, OIDC refresh token is derived. <br>\n",
    "This token is available as the environment variable `CILOGON_REFRESH_TOKEN`.<br>\n",
    "\n",
    "On the first login, we use `CILOGON_REFRESH_TOKEN` to generate new Fabric Identity Token and Fabric Refresh Token.<br>\n",
    "For any subsequent use, we use Fabric Refresh Token. On every refresh, Fabric Refresh Token is changed and updated.<br>\n",
    "\n",
    "NOTE: These steps are required for any experiments on Fabric Testbed.<br>"
   ]
  },
  {
   "cell_type": "code",
   "execution_count": 3,
   "metadata": {},
   "outputs": [
    {
     "name": "stdout",
     "output_type": "stream",
     "text": [
      "no stored variable or alias fabric_refresh_token\n",
      "Stored 'fabric_refresh_token' (str)\n",
      "Fabric Refresh Token https://cilogon.org/oauth2/refreshToken/2e7db1c1abdae5c8f64d9b1893accbb/1609861275809\n",
      "CILOGON_REFRESH_TOKEN environment variable: https://cilogon.org/oauth2/refreshToken/2e7db1c1abdae5c8f64d9b1893accbb/1609861275809\n"
     ]
    }
   ],
   "source": [
    "not_found=False\n",
    "fabric_refresh_token=None\n",
    "%store -r fabric_refresh_token\n",
    "\n",
    "if fabric_refresh_token is None:\n",
    "    fabric_refresh_token=os.environ['CILOGON_REFRESH_TOKEN']\n",
    "    %store fabric_refresh_token\n",
    "print(\"Fabric Refresh Token {}\".format(fabric_refresh_token))\n",
    "print(\"CILOGON_REFRESH_TOKEN environment variable: {}\".format(os.environ['CILOGON_REFRESH_TOKEN']))"
   ]
  },
  {
   "cell_type": "markdown",
   "metadata": {},
   "source": [
    "### Get new Fabric Identity Token and update Fabric Refresh Token"
   ]
  },
  {
   "cell_type": "code",
   "execution_count": 4,
   "metadata": {},
   "outputs": [
    {
     "name": "stdout",
     "output_type": "stream",
     "text": [
      "New Tokens received: {\"id_token\": \"eyJ0eXAiOiJKV1QiLCJhbGciOiJSUzI1NiIsImtpZCI6ImI0MTUxNjcyMTExOTFlMmUwNWIyMmI1NGIxZDNiNzY2N2U3NjRhNzQ3NzIyMTg1ZTcyMmU1MmUxNDZmZTQzYWEifQ.eyJlbWFpbCI6Imt0aGFyZTEwQGVtYWlsLnVuYy5lZHUiLCJnaXZlbl9uYW1lIjoiS29tYWwiLCJmYW1pbHlfbmFtZSI6IlRoYXJlamEiLCJuYW1lIjoiS29tYWwgVGhhcmVqYSIsImlzcyI6Imh0dHBzOi8vY2lsb2dvbi5vcmciLCJzdWIiOiJodHRwOi8vY2lsb2dvbi5vcmcvc2VydmVyQS91c2Vycy8xMTkwNDEwMSIsImF1ZCI6ImNpbG9nb246L2NsaWVudF9pZC8yZjQ1NGU4YzUzMWJhMDNkOTczNGZhNjg3YzMyYTE5IiwidG9rZW5faWQiOiJodHRwczovL2NpbG9nb24ub3JnL29hdXRoMi9pZFRva2VuLzQ0YzNlZjQ4OGQ1MGY0NWRhODQwNTY0MjUxZDRjMWYzLzE2MDk4NjEyNzU1OTUiLCJhdXRoX3RpbWUiOiIxNjA5ODYxMjc1IiwiZXhwIjoxNjA5ODY0OTIxLCJpYXQiOjE2MDk4NjEzMjEsInByb2plY3RzIjp7fSwicm9sZXMiOlsicHJvamVjdC1sZWFkcyIsImFiZjAwMTRlLTcyZjUtNDRhYi1hYzYzLTVlYzVhNWRlYmJiOC1wbyIsImFiZjAwMTRlLTcyZjUtNDRhYi1hYzYzLTVlYzVhNWRlYmJiOC1wbSJdLCJzY29wZSI6ImFsbCJ9.ksQtAq6PBFE_E64MAqbDl9yPmv0jc7mJN27sjVekrjxiIk0rXPHoh8bImNnzLlru2fezckbd_q4iN43r8dMV3FPlFtQrUuvxbUtq9ZxJy2srNXqmYfPBhrnYGAzij2hulQRkD9uTLO5D7mStFq9UddcFyReaN3Yo0Q8paW-0go5Za5zW1jC7kedygI1VNmSsyxPkhlGTV0SPJS8Z3WlIUgdDLab9jQcbv6WJIVofyb9Kp1Sf2kaBGWGAC3HoBvD9ZIUVV46OVChfr0dO8QsSUGoGpGOvPDDvPjZ9XDtT82Zzzf6b4s2oNsy3ho1_fLgepBZaewzSVdCQSEJ2tKSBPw\", \"refresh_token\": \"https://cilogon.org/oauth2/refreshToken/54a4f3e9e2314f682b9e88b3df4ed47c/1609861320762\"}\n",
      "\n",
      "New Refresh Token: https://cilogon.org/oauth2/refreshToken/54a4f3e9e2314f682b9e88b3df4ed47c/1609861320762\n",
      "\n",
      "Stored new Refresh Token\n",
      "Stored 'fabric_refresh_token' (str)\n"
     ]
    }
   ],
   "source": [
    "try:\n",
    "    refresh_res = CredMgr.refresh_token(project_name='all', scope='all', refresh_token=fabric_refresh_token)\n",
    "    print(\"New Tokens received: {}\".format(json.dumps(refresh_res)))\n",
    "    fabric_id_token=refresh_res['id_token']\n",
    "    fabric_refresh_token=refresh_res['refresh_token']\n",
    "    print()\n",
    "    print(\"New Refresh Token: {}\".format(fabric_refresh_token))\n",
    "    print()\n",
    "    print(\"Stored new Refresh Token\")\n",
    "    %store fabric_refresh_token\n",
    "except Exception as e:\n",
    "    print(\"Exception occurred while getting tokens:{}\".format(e))"
   ]
  },
  {
   "cell_type": "code",
   "execution_count": null,
   "metadata": {},
   "outputs": [],
   "source": []
  }
 ],
 "metadata": {
  "kernelspec": {
   "display_name": "Python 3",
   "language": "python",
   "name": "python3"
  },
  "language_info": {
   "codemirror_mode": {
    "name": "ipython",
    "version": 3
   },
   "file_extension": ".py",
   "mimetype": "text/x-python",
   "name": "python",
   "nbconvert_exporter": "python",
   "pygments_lexer": "ipython3",
   "version": "3.7.4"
  }
 },
 "nbformat": 4,
 "nbformat_minor": 4
}
