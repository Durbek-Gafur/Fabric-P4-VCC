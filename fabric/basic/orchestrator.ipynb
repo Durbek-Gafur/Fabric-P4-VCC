{
 "cells": [
  {
   "cell_type": "markdown",
   "metadata": {},
   "source": [
    "## This notebook shows how to use Orchestrator APIs for user experiments"
   ]
  },
  {
   "cell_type": "code",
   "execution_count": 9,
   "metadata": {},
   "outputs": [],
   "source": [
    "import os\n",
    "from fabric_cm.credmgr.credmgr_proxy import CredmgrProxy\n",
    "from fabric_cf.orchestrator.orchestrator_proxy import OrchestratorProxy\n",
    "import json"
   ]
  },
  {
   "cell_type": "code",
   "execution_count": 10,
   "metadata": {},
   "outputs": [],
   "source": [
    "credmgr_host = os.environ['FABRIC_CREDMGR_HOST']\n",
    "credmgr_proxy = CredmgrProxy(credmgr_host=credmgr_host)\n",
    "orchestrator_host = os.environ['FABRIC_ORCHESTRATOR_HOST']\n",
    "orchestrator_proxy = OrchestratorProxy(orchestrator_host=orchestrator_host)"
   ]
  },
  {
   "cell_type": "markdown",
   "metadata": {},
   "source": [
    "### Fabric Tokens\n",
    "Fabric has 2 kinds of tokens:<br>\n",
    "- Identity : required for Control/Measurement Framework APIs. Identity Token is valid upto an hour.\n",
    "- Refresh : required to generate new Identity Tokens valid. Refresh Token is valid for 24 hours.\n",
    "\n",
    "Fabric Identity token is required for Control/Measurement Framework APIs.<br>\n",
    "\n",
    "When user logins to Jupyterhub after authenticating against CILogon, OIDC refresh token is derived. <br>\n",
    "This token is available as the environment variable `CILOGON_REFRESH_TOKEN`.<br>\n",
    "\n",
    "On the first login, we use `CILOGON_REFRESH_TOKEN` to generate new Fabric Identity Token and Fabric Refresh Token.<br>\n",
    "For any subsequent use, we use Fabric Refresh Token. On every refresh, Fabric Refresh Token is changed and updated.<br>\n",
    "\n",
    "NOTE: These steps are required for any experiments on Fabric Testbed.<br>"
   ]
  },
  {
   "cell_type": "code",
   "execution_count": 11,
   "metadata": {},
   "outputs": [
    {
     "name": "stdout",
     "output_type": "stream",
     "text": [
      "Fabric Refresh Token https://cilogon.org/oauth2/refreshToken/7f2ad4afef90d12c29e0a2e0bab99939/1616081938121\n",
      "CILOGON_REFRESH_TOKEN environment variable: https://cilogon.org/oauth2/refreshToken/7b2e6b40be5071fa4658a1c53d2ed2a/1616081867347\n"
     ]
    }
   ],
   "source": [
    "not_found=False\n",
    "fabric_refresh_token=None\n",
    "%store -r fabric_refresh_token\n",
    "\n",
    "if fabric_refresh_token is None:\n",
    "    fabric_refresh_token=os.environ['CILOGON_REFRESH_TOKEN']\n",
    "    %store fabric_refresh_token\n",
    "print(\"Fabric Refresh Token {}\".format(fabric_refresh_token))\n",
    "print(\"CILOGON_REFRESH_TOKEN environment variable: {}\".format(os.environ['CILOGON_REFRESH_TOKEN']))"
   ]
  },
  {
   "cell_type": "markdown",
   "metadata": {},
   "source": [
    "### Get new Fabric Identity Token and update Fabric Refresh Token\n",
    "\n",
    "Users can request tokens with different Project and Scopes by altering `project_name` and `scope` parameters in the refresh call below."
   ]
  },
  {
   "cell_type": "code",
   "execution_count": 12,
   "metadata": {},
   "outputs": [
    {
     "name": "stdout",
     "output_type": "stream",
     "text": [
      "New Tokens received: {\"id_token\": \"eyJ0eXAiOiJKV1QiLCJhbGciOiJSUzI1NiIsImtpZCI6ImI0MTUxNjcyMTExOTFlMmUwNWIyMmI1NGIxZDNiNzY2N2U3NjRhNzQ3NzIyMTg1ZTcyMmU1MmUxNDZmZTQzYWEifQ.eyJlbWFpbCI6Imt0aGFyZTEwQGVtYWlsLnVuYy5lZHUiLCJjZXJ0X3N1YmplY3RfZG4iOiIvREM9b3JnL0RDPWNpbG9nb24vQz1VUy9PPVVuaXZlcnNpdHkgb2YgTm9ydGggQ2Fyb2xpbmEgYXQgQ2hhcGVsIEhpbGwvQ049S29tYWwgVGhhcmVqYSBBMTE5MDQxMDYiLCJpZHAiOiJ1cm46bWFjZTppbmNvbW1vbjp1bmMuZWR1IiwiaWRwX25hbWUiOiJVbml2ZXJzaXR5IG9mIE5vcnRoIENhcm9saW5hIGF0IENoYXBlbCBIaWxsIiwiZXBwbiI6Imt0aGFyZTEwQHVuYy5lZHUiLCJhZmZpbGlhdGlvbiI6ImVtcGxveWVlQHVuYy5lZHU7c3RhZmZAdW5jLmVkdTttZW1iZXJAdW5jLmVkdSIsIm5hbWUiOiJLb21hbCBUaGFyZWphIiwiYWNyIjoidXJuOm9hc2lzOm5hbWVzOnRjOlNBTUw6Mi4wOmFjOmNsYXNzZXM6UGFzc3dvcmRQcm90ZWN0ZWRUcmFuc3BvcnQiLCJlbnRpdGxlbWVudCI6InVybjptYWNlOmRpcjplbnRpdGxlbWVudDpjb21tb24tbGliLXRlcm1zIiwiaXNzIjoiaHR0cHM6Ly9jaWxvZ29uLm9yZyIsInN1YiI6Imh0dHA6Ly9jaWxvZ29uLm9yZy9zZXJ2ZXJBL3VzZXJzLzExOTA0MTAxIiwiYXVkIjoiY2lsb2dvbjovY2xpZW50X2lkLzczYmI1MDM4MjlmZjk2YWQ5NDhmNDFiMWQ4ZTJhMmE1IiwidG9rZW5faWQiOiJodHRwczovL2NpbG9nb24ub3JnL29hdXRoMi9pZFRva2VuLzFmMDQ3N2ZkM2RjNmI4Y2Q4YzEyZmRjNTQwNDg2ODUyLzE2MTYwODE4NjcxMzUiLCJhdXRoX3RpbWUiOiIxNjE2MDgxODY2IiwiZXhwIjoxNjE2MDg1NjE2LCJpYXQiOjE2MTYwODIwMTYsInByb2plY3RzIjp7IkNPbWFuYWdlIFRlc3QiOlsiY29tYW5hZ2UiXSwiRkFCUklDIERlbW8iOlsiREVNTyIsIkZBQlJJQyJdfSwicm9sZXMiOlsicHJvamVjdC1sZWFkcyIsImZhYnJpYy1hY3RpdmUtdXNlcnMiLCI1ODVhYzc1ZS1iYTBiLTQ3ZjItODU3OS0wZTFlN2I0ZDQ2MTItcG8iLCI1ODVhYzc1ZS1iYTBiLTQ3ZjItODU3OS0wZTFlN2I0ZDQ2MTItcG0iLCJjOTQ4MDM1Zi1hNDU3LTRmNjQtOThlOC03YjQ3MWVhNzBiOWYtcG0iXSwic2NvcGUiOiJhbGwifQ.HDQfNuSpngsKGMHNLYVNyuo2lU79ei4-rHDzRk9vEuvm2sW4nKD6yXhxblALF5QQJfE9YWQ8dpdSdwO_Wv_JBpT9sglyG2UH2TP0vnZj9Bn5Jtig30CbIg34rAlWuzPDDPiYOJV4YNJZcFrNRgk_9TgUUTwB9nZgRM3fLFoOmDFNwzj_cCGgo87-hp3t-n3o3xOZaCn7A80cdR6taGbcITAA501qrHh7F5M9MwoIex6hP_86K4odfQLl-YLNLVvz0Bv9OpWtJHUldb34Waa0VMTUnAOvQMps3qBfQwQV9dOBLvMwRMQEHu-wAdDQNqqc9Wn8piNPXofvTML4blqxog\", \"refresh_token\": \"https://cilogon.org/oauth2/refreshToken/51a150d5bf2f9a01d226a749ccdda16f/1616082016102\"}\n",
      "\n",
      "New Refresh Token: https://cilogon.org/oauth2/refreshToken/51a150d5bf2f9a01d226a749ccdda16f/1616082016102\n",
      "\n",
      "Stored new Refresh Token\n",
      "Stored 'fabric_refresh_token' (str)\n"
     ]
    }
   ],
   "source": [
    "try:\n",
    "    refresh_res = credmgr_proxy.refresh(project_name='all', scope='all', refresh_token=fabric_refresh_token)\n",
    "    print(\"New Tokens received: {}\".format(json.dumps(refresh_res)))\n",
    "    fabric_id_token=refresh_res['id_token']\n",
    "    fabric_refresh_token=refresh_res['refresh_token']\n",
    "    print()\n",
    "    print(\"New Refresh Token: {}\".format(fabric_refresh_token))\n",
    "    print()\n",
    "    print(\"Stored new Refresh Token\")\n",
    "    %store fabric_refresh_token\n",
    "except Exception as e:\n",
    "    print(\"Exception occurred while getting tokens:{}\".format(e))"
   ]
  },
  {
   "cell_type": "markdown",
   "metadata": {},
   "source": [
    "### Orchestrator API example to query for available resources"
   ]
  },
  {
   "cell_type": "code",
   "execution_count": 13,
   "metadata": {},
   "outputs": [
    {
     "name": "stdout",
     "output_type": "stream",
     "text": [
      "Status: Status.OK\n",
      "Toplogy: RENC: { cpu: 6 core: 96 ram: 1536G disk: 209600G unit: 5 }\n",
      "\tNVME-P4510:  NVME P4510 { disk: 10000G unit: 10 }\n",
      "\tGPU-RTX6000:  GPU RTX6000 { unit: 2 }\n",
      "\tGPU-Tesla T4:  GPU Tesla T4 { unit: 4 }\n",
      "\tSharedNIC-ConnectX-6:  SharedNIC ConnectX-6 { unit: 3 }\n",
      "\tSmartNIC-ConnectX-6:  SmartNIC ConnectX-6 { unit: 2 }\n",
      "\tSmartNIC-ConnectX-5:  SmartNIC ConnectX-5 { unit: 2 }\n",
      "\n"
     ]
    }
   ],
   "source": [
    "status, advertised_topology = orchestrator_proxy.resources(token=fabric_id_token)\n",
    "\n",
    "print(f\"Status: {status}\")\n",
    "print(f\"Toplogy: {advertised_topology}\")"
   ]
  },
  {
   "cell_type": "code",
   "execution_count": 14,
   "metadata": {},
   "outputs": [
    {
     "data": {
      "image/png": "[encoded data removed]",
      "text/plain": [
       "<Figure size 432x288 with 1 Axes>"
      ]
     },
     "metadata": {},
     "output_type": "display_data"
    }
   ],
   "source": [
    "advertised_topology.draw()"
   ]
  },
  {
   "cell_type": "markdown",
   "metadata": {},
   "source": [
    "## Create Slice"
   ]
  },
  {
   "cell_type": "code",
   "execution_count": 15,
   "metadata": {},
   "outputs": [
    {
     "name": "stdout",
     "output_type": "stream",
     "text": [
      "Response Status Status.OK\n",
      "Reservations created [{\"graph_node_id\": \"5439c742-1ae7-409b-8dc2-923a3f190908\", \"join_state\": \"None_\", \"reservation_id\": \"df99cdb1-96ae-4ca0-a1de-54c3f4e71fd2\", \"reservation_state\": \"Unknown\", \"resource_type\": \"VM\", \"slice_id\": \"3556b2de-68ee-41cc-800a-eac9d7c23f05\"}, {\"graph_node_id\": \"01b28777-7bb8-4d32-9757-2f374babc941\", \"join_state\": \"None_\", \"reservation_id\": \"fe32217d-65b0-4da5-8475-e91dc31b8d75\", \"reservation_state\": \"Unknown\", \"resource_type\": \"VM\", \"slice_id\": \"3556b2de-68ee-41cc-800a-eac9d7c23f05\"}]\n"
     ]
    }
   ],
   "source": [
    "import fim.user as fu\n",
    "# Create topology\n",
    "t = fu.ExperimentTopology()\n",
    "\n",
    "# Add node\n",
    "n1 = t.add_node(name='n1', site='RENC')\n",
    "\n",
    "# Set capacities\n",
    "cap = fu.Capacities()\n",
    "cap.set_fields(core=4, ram=64, disk=500)\n",
    "\n",
    "# Set Properties\n",
    "n1.set_properties(capacities=cap, image_type='qcow2', image_ref='default_centos_8')\n",
    "\n",
    "# Add PCI devices\n",
    "n1.add_component(ctype=fu.ComponentType.SmartNIC, model='ConnectX-6', name='nic1')\n",
    "\n",
    "# Add node\n",
    "n2 = t.add_node(name='n2', site='RENC')\n",
    "\n",
    "# Set properties\n",
    "n2.set_properties(capacities=cap, image_type='qcow2', image_ref='default_centos_8')\n",
    "\n",
    "# Add PCI devices\n",
    "n2.add_component(ctype=fu.ComponentType.GPU, model='Tesla T4', name='nic2')\n",
    "\n",
    "# Generate Slice Graph\n",
    "slice_graph = t.serialize()\n",
    "\n",
    "ssh_key = None\n",
    "with open (\"/home/fabric/.ssh/id_rsa.pub\", \"r\") as myfile:\n",
    "    ssh_key=myfile.read()\n",
    "    ssh_key=ssh_key.strip()\n",
    "\n",
    "# Request slice from Orchestrator\n",
    "status, reservations = orchestrator_proxy.create(token=fabric_id_token, slice_name='JupyterSlice2', slice_graph=slice_graph, ssh_key=ssh_key)\n",
    "\n",
    "print(\"Response Status {}\".format(status))\n",
    "print(\"Reservations created {}\".format(reservations))"
   ]
  },
  {
   "cell_type": "code",
   "execution_count": 16,
   "metadata": {},
   "outputs": [],
   "source": [
    "# Set the Slice ID from output of the above command\n",
    "slice_id=reservations[0].slice_id"
   ]
  },
  {
   "cell_type": "markdown",
   "metadata": {},
   "source": [
    "## Query Slices"
   ]
  },
  {
   "cell_type": "code",
   "execution_count": 17,
   "metadata": {},
   "outputs": [
    {
     "name": "stdout",
     "output_type": "stream",
     "text": [
      "Response Status Status.OK\n",
      "Slices [{\"graph_id\": \"1686a0ae-5dbe-4859-a912-b12f85b5a30e\", \"slice_id\": \"8229af73-c2f5-4407-9846-7ec25ec3ac46\", \"slice_name\": \"JupyterSlice1\", \"slice_state\": \"StableOK\"}, {\"graph_id\": \"f370a411-5194-486c-9d78-320dd7608407\", \"slice_id\": \"3556b2de-68ee-41cc-800a-eac9d7c23f05\", \"slice_name\": \"JupyterSlice2\", \"slice_state\": \"Configuring\"}]\n"
     ]
    }
   ],
   "source": [
    "status, slices = orchestrator_proxy.slices(token=fabric_id_token)\n",
    "\n",
    "print(\"Response Status {}\".format(status))\n",
    "print(\"Slices {}\".format(slices))"
   ]
  },
  {
   "cell_type": "markdown",
   "metadata": {},
   "source": [
    "## Query Slice"
   ]
  },
  {
   "cell_type": "code",
   "execution_count": 18,
   "metadata": {},
   "outputs": [
    {
     "name": "stdout",
     "output_type": "stream",
     "text": [
      "Response Status Status.OK\n",
      "Response received n1[VM]: { core: 4 ram: 64G disk: 500G }\n",
      "n2[VM]: { core: 4 ram: 64G disk: 500G }\n",
      "\n"
     ]
    }
   ],
   "source": [
    "status, slice_obj = orchestrator_proxy.get_slice(token=fabric_id_token, slice_id=slice_id)\n",
    "\n",
    "print(\"Response Status {}\".format(status))\n",
    "print(\"Response received {}\".format(slice_obj))"
   ]
  },
  {
   "cell_type": "code",
   "execution_count": 19,
   "metadata": {},
   "outputs": [
    {
     "data": {
      "image/png": "[encoded data removed]",
      "text/plain": [
       "<Figure size 432x288 with 1 Axes>"
      ]
     },
     "metadata": {},
     "output_type": "display_data"
    }
   ],
   "source": [
    "slice_obj.draw()"
   ]
  },
  {
   "cell_type": "markdown",
   "metadata": {},
   "source": [
    "## Query Slivers"
   ]
  },
  {
   "cell_type": "code",
   "execution_count": 24,
   "metadata": {},
   "outputs": [
    {
     "name": "stdout",
     "output_type": "stream",
     "text": [
      "Response Status Status.OK\n",
      "Reservations [{\"capacities\": \"{\\\"core\\\": 4, \\\"disk\\\": 500, \\\"ram\\\": 64}\", \"graph_node_id\": \"5439c742-1ae7-409b-8dc2-923a3f190908\", \"join_state\": \"NoJoin\", \"labels\": \"\", \"management_ip\": \"152.54.15.36\", \"name\": \"n1\", \"reservation_id\": \"df99cdb1-96ae-4ca0-a1de-54c3f4e71fd2\", \"reservation_state\": \"Active\", \"resource_type\": \"VM\", \"site\": \"RENC\", \"slice_id\": \"3556b2de-68ee-41cc-800a-eac9d7c23f05\"}, {\"capacities\": \"{\\\"core\\\": 4, \\\"disk\\\": 500, \\\"ram\\\": 64}\", \"graph_node_id\": \"01b28777-7bb8-4d32-9757-2f374babc941\", \"join_state\": \"NoJoin\", \"labels\": \"\", \"management_ip\": \"152.54.15.59\", \"name\": \"n2\", \"reservation_id\": \"fe32217d-65b0-4da5-8475-e91dc31b8d75\", \"reservation_state\": \"Active\", \"resource_type\": \"VM\", \"site\": \"RENC\", \"slice_id\": \"3556b2de-68ee-41cc-800a-eac9d7c23f05\"}]\n"
     ]
    }
   ],
   "source": [
    "status, reservations = orchestrator_proxy.slivers(token=fabric_id_token, slice_id=slice_id)\n",
    "\n",
    "print(\"Response Status {}\".format(status))\n",
    "print(\"Reservations {}\".format(reservations))"
   ]
  },
  {
   "cell_type": "code",
   "execution_count": 25,
   "metadata": {},
   "outputs": [],
   "source": [
    "# Set the Sliver ID from output of the above command by capturing reservation_id\n",
    "sliver_id=reservations[0].reservation_id"
   ]
  },
  {
   "cell_type": "markdown",
   "metadata": {},
   "source": [
    "## Query Sliver"
   ]
  },
  {
   "cell_type": "code",
   "execution_count": 26,
   "metadata": {},
   "outputs": [
    {
     "name": "stdout",
     "output_type": "stream",
     "text": [
      "Response Status Status.OK\n",
      "Reservation [{\"capacities\": \"{\\\"core\\\": 4, \\\"disk\\\": 500, \\\"ram\\\": 64}\", \"graph_node_id\": \"5439c742-1ae7-409b-8dc2-923a3f190908\", \"join_state\": \"NoJoin\", \"labels\": \"\", \"management_ip\": \"152.54.15.36\", \"name\": \"n1\", \"reservation_id\": \"df99cdb1-96ae-4ca0-a1de-54c3f4e71fd2\", \"reservation_state\": \"Active\", \"resource_type\": \"VM\", \"site\": \"RENC\", \"slice_id\": \"3556b2de-68ee-41cc-800a-eac9d7c23f05\"}]\n"
     ]
    }
   ],
   "source": [
    "status, reservation = orchestrator_proxy.slivers(token=fabric_id_token, slice_id=slice_id, sliver_id=sliver_id)\n",
    "\n",
    "print(\"Response Status {}\".format(status))\n",
    "print(\"Reservation {}\".format(reservation))"
   ]
  },
  {
   "cell_type": "markdown",
   "metadata": {},
   "source": [
    "## Slice Status"
   ]
  },
  {
   "cell_type": "code",
   "execution_count": 27,
   "metadata": {},
   "outputs": [
    {
     "name": "stdout",
     "output_type": "stream",
     "text": [
      "Response Status Status.OK\n",
      "Slice Status {\"graph_id\": \"f370a411-5194-486c-9d78-320dd7608407\", \"slice_id\": \"3556b2de-68ee-41cc-800a-eac9d7c23f05\", \"slice_name\": \"JupyterSlice2\", \"slice_state\": \"StableOK\"}\n"
     ]
    }
   ],
   "source": [
    "status, slice_status = orchestrator_proxy.slice_status(token=fabric_id_token, slice_id=slice_id)\n",
    "\n",
    "print(\"Response Status {}\".format(status))\n",
    "print(\"Slice Status {}\".format(slice_status))"
   ]
  },
  {
   "cell_type": "markdown",
   "metadata": {},
   "source": [
    "## Sliver Status"
   ]
  },
  {
   "cell_type": "code",
   "execution_count": 28,
   "metadata": {},
   "outputs": [
    {
     "name": "stdout",
     "output_type": "stream",
     "text": [
      "Response Status Status.OK\n",
      "Reservation Status {\"capacities\": \"{\\\"core\\\": 4, \\\"disk\\\": 500, \\\"ram\\\": 64}\", \"graph_node_id\": \"5439c742-1ae7-409b-8dc2-923a3f190908\", \"join_state\": \"NoJoin\", \"labels\": \"\", \"management_ip\": \"152.54.15.36\", \"name\": \"n1\", \"notices\": \"Reservation df99cdb1-96ae-4ca0-a1de-54c3f4e71fd2 (Slice JupyterSlice2(3556b2de-68ee-41cc-800a-eac9d7c23f05) Graph Id:f370a411-5194-486c-9d78-320dd7608407 ) is in state [Active,None_]\\n\\nLast ticket update: \\nTicket events: \\nLast ticket update: \\nTicket events: \", \"reservation_id\": \"df99cdb1-96ae-4ca0-a1de-54c3f4e71fd2\", \"reservation_state\": \"Active\", \"resource_type\": \"VM\", \"site\": \"RENC\", \"slice_id\": \"3556b2de-68ee-41cc-800a-eac9d7c23f05\"}\n"
     ]
    }
   ],
   "source": [
    "status, reservation_status = orchestrator_proxy.sliver_status(token=fabric_id_token, slice_id=slice_id, sliver_id=sliver_id)\n",
    "\n",
    "print(\"Response Status {}\".format(status))\n",
    "print(\"Reservation Status {}\".format(reservation_status))"
   ]
  },
  {
   "cell_type": "markdown",
   "metadata": {},
   "source": [
    "## Delete Slice"
   ]
  },
  {
   "cell_type": "code",
   "execution_count": 29,
   "metadata": {},
   "outputs": [
    {
     "name": "stdout",
     "output_type": "stream",
     "text": [
      "Response Status Status.OK\n",
      "Response received {'value': None}\n"
     ]
    }
   ],
   "source": [
    "status, result = orchestrator_proxy.delete(token=fabric_id_token, slice_id=slice_id)\n",
    "\n",
    "print(\"Response Status {}\".format(status))\n",
    "print(\"Response received {}\".format(result))"
   ]
  },
  {
   "cell_type": "code",
   "execution_count": null,
   "metadata": {},
   "outputs": [],
   "source": []
  }
 ],
 "metadata": {
  "kernelspec": {
   "display_name": "Python 3",
   "language": "python",
   "name": "python3"
  },
  "language_info": {
   "codemirror_mode": {
    "name": "ipython",
    "version": 3
   },
   "file_extension": ".py",
   "mimetype": "text/x-python",
   "name": "python",
   "nbconvert_exporter": "python",
   "pygments_lexer": "ipython3",
   "version": "3.8.6"
  }
 },
 "nbformat": 4,
 "nbformat_minor": 4
}
