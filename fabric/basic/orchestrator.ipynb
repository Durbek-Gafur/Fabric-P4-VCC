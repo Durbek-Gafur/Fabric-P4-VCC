{
 "cells": [
  {
   "cell_type": "markdown",
   "metadata": {},
   "source": [
    "## This notebook shows how to use Orchestrator APIs for user experiments"
   ]
  },
  {
   "cell_type": "code",
   "execution_count": 1,
   "metadata": {},
   "outputs": [],
   "source": [
    "import os\n",
    "from fabric_cm.credmgr.credmgr_proxy import CredmgrProxy\n",
    "from fabric_cf.orchestrator.orchestrator_proxy import OrchestratorProxy\n",
    "import json"
   ]
  },
  {
   "cell_type": "code",
   "execution_count": 2,
   "metadata": {},
   "outputs": [],
   "source": [
    "credmgr_host = os.environ['FABRIC_CREDMGR_HOST']\n",
    "credmgr_proxy = CredmgrProxy(credmgr_host=credmgr_host)\n",
    "orchestrator_host = os.environ['FABRIC_ORCHESTRATOR_HOST']\n",
    "orchestrator_proxy = OrchestratorProxy(orchestrator_host=orchestrator_host)"
   ]
  },
  {
   "cell_type": "markdown",
   "metadata": {},
   "source": [
    "### Fabric Tokens\n",
    "Fabric has 2 kinds of tokens:<br>\n",
    "- Identity : required for Control/Measurement Framework APIs. Identity Token is valid upto an hour.\n",
    "- Refresh : required to generate new Identity Tokens valid. Refresh Token is valid for 24 hours.\n",
    "\n",
    "Fabric Identity token is required for Control/Measurement Framework APIs.<br>\n",
    "\n",
    "When user logins to Jupyterhub after authenticating against CILogon, OIDC refresh token is derived. <br>\n",
    "This token is available as the environment variable `CILOGON_REFRESH_TOKEN`.<br>\n",
    "\n",
    "On the first login, we use `CILOGON_REFRESH_TOKEN` to generate new Fabric Identity Token and Fabric Refresh Token.<br>\n",
    "For any subsequent use, we use Fabric Refresh Token. On every refresh, Fabric Refresh Token is changed and updated.<br>\n",
    "\n",
    "NOTE: These steps are required for any experiments on Fabric Testbed.<br>"
   ]
  },
  {
   "cell_type": "code",
   "execution_count": 3,
   "metadata": {},
   "outputs": [
    {
     "name": "stdout",
     "output_type": "stream",
     "text": [
      "no stored variable or alias fabric_refresh_token\n",
      "Stored 'fabric_refresh_token' (str)\n",
      "Fabric Refresh Token https://cilogon.org/oauth2/refreshToken/a4daebe8a6d30ae933cf430424d180/1617204698250\n",
      "CILOGON_REFRESH_TOKEN environment variable: https://cilogon.org/oauth2/refreshToken/a4daebe8a6d30ae933cf430424d180/1617204698250\n"
     ]
    }
   ],
   "source": [
    "not_found=False\n",
    "fabric_refresh_token=None\n",
    "%store -r fabric_refresh_token\n",
    "\n",
    "if fabric_refresh_token is None:\n",
    "    fabric_refresh_token=os.environ['CILOGON_REFRESH_TOKEN']\n",
    "    %store fabric_refresh_token\n",
    "print(\"Fabric Refresh Token {}\".format(fabric_refresh_token))\n",
    "print(\"CILOGON_REFRESH_TOKEN environment variable: {}\".format(os.environ['CILOGON_REFRESH_TOKEN']))"
   ]
  },
  {
   "cell_type": "markdown",
   "metadata": {},
   "source": [
    "### Get new Fabric Identity Token and update Fabric Refresh Token\n",
    "\n",
    "Users can request tokens with different Project and Scopes by altering `project_name` and `scope` parameters in the refresh call below."
   ]
  },
  {
   "cell_type": "code",
   "execution_count": 4,
   "metadata": {},
   "outputs": [
    {
     "name": "stdout",
     "output_type": "stream",
     "text": [
      "New Tokens received: {\"id_token\": \"eyJ0eXAiOiJKV1QiLCJhbGciOiJSUzI1NiIsImtpZCI6ImI0MTUxNjcyMTExOTFlMmUwNWIyMmI1NGIxZDNiNzY2N2U3NjRhNzQ3NzIyMTg1ZTcyMmU1MmUxNDZmZTQzYWEifQ.eyJlbWFpbCI6Imt0aGFyZTEwQGVtYWlsLnVuYy5lZHUiLCJjZXJ0X3N1YmplY3RfZG4iOiIvREM9b3JnL0RDPWNpbG9nb24vQz1VUy9PPVVuaXZlcnNpdHkgb2YgTm9ydGggQ2Fyb2xpbmEgYXQgQ2hhcGVsIEhpbGwvQ049S29tYWwgVGhhcmVqYSBBMTE5MDQxMDYiLCJpZHAiOiJ1cm46bWFjZTppbmNvbW1vbjp1bmMuZWR1IiwiaWRwX25hbWUiOiJVbml2ZXJzaXR5IG9mIE5vcnRoIENhcm9saW5hIGF0IENoYXBlbCBIaWxsIiwiZXBwbiI6Imt0aGFyZTEwQHVuYy5lZHUiLCJhZmZpbGlhdGlvbiI6InN0YWZmQHVuYy5lZHU7bWVtYmVyQHVuYy5lZHU7ZW1wbG95ZWVAdW5jLmVkdSIsIm5hbWUiOiJLb21hbCBUaGFyZWphIiwiYWNyIjoidXJuOm9hc2lzOm5hbWVzOnRjOlNBTUw6Mi4wOmFjOmNsYXNzZXM6UGFzc3dvcmRQcm90ZWN0ZWRUcmFuc3BvcnQiLCJlbnRpdGxlbWVudCI6InVybjptYWNlOmRpcjplbnRpdGxlbWVudDpjb21tb24tbGliLXRlcm1zIiwiaXNzIjoiaHR0cHM6Ly9jaWxvZ29uLm9yZyIsInN1YiI6Imh0dHA6Ly9jaWxvZ29uLm9yZy9zZXJ2ZXJBL3VzZXJzLzExOTA0MTAxIiwiYXVkIjoiY2lsb2dvbjovY2xpZW50X2lkLzFmMTFmODI5ZWMxZjRmMjIzMzU4ZjQzYjJjNjA3Yjg0IiwidG9rZW5faWQiOiJodHRwczovL2NpbG9nb24ub3JnL29hdXRoMi9pZFRva2VuLzY2YzgyMjNjNDU2YjQwYTdmNWUwYzI1OTVjM2NlZjVmLzE2MTcyMDQ2OTc5NzMiLCJhdXRoX3RpbWUiOiIxNjE3MjA0Njk3IiwiZXhwIjoxNjE3MjA4MzgzLCJpYXQiOjE2MTcyMDQ3ODMsInByb2plY3RzIjp7IlByb2plY3QtQ0YiOltdfSwicm9sZXMiOlsicHJvamVjdC1sZWFkcyIsImZhYnJpYy1hY3RpdmUtdXNlcnMiLCJlNmY3NzIwZS1hM2UzLTQ1MjAtOWFmNy0wYjk5ZmRiMDJjN2QtcGMiLCJlNmY3NzIwZS1hM2UzLTQ1MjAtOWFmNy0wYjk5ZmRiMDJjN2QtcG8iLCJlNmY3NzIwZS1hM2UzLTQ1MjAtOWFmNy0wYjk5ZmRiMDJjN2QtcG0iXSwic2NvcGUiOiJhbGwifQ.pDbXEe6LebBY9wWTFQIiA0QCSsi_CwZ_EjP-AoSTXNHpQ63HNE6EEnKYk6Xg112xX82mo26kdgGN7kBZZXfllf4pNemT4JIYYPx6A3CZAEyI4CgRPQm4gpEBUFQYgBlm23ee9rPADJiruvvaWRlb_6MfqV7FENjyUBldkMVUwfVBX36V1MzhJu-9OBRl6VPwM7THHT37b93BZRiRpTZvBKG5zcpzKwodQ0K5vPMJqHEXONZ3eYaxNWHAXFUbK05mobnqzcU08ZJlQ0tv_r0gGTDKQ2Ohrh4p55h6XS9J4SdbiTHgki9CbhuIkn_00uu3JJMtGiUORHsEneHY9sln5Qc2r0yUYBRAS_7ZNebFgcBe2UqHq3YkTrWpAlcJugVo1vo9mO_FhKxJPJ9iJwxQxwCk7bwQkwwbaiW-U7d0RjGehr6KfPa7fl04FbdVfBFs3ioVNET0QAsOCUXG9azFtS7sdgqImvbvef4nzkcegOVq9eglVQIcHpqpkHy9Mw0xckSx94K4cQU6_I2nxWnfBBHSmdrTGtCQZ3vX7MEilb0K5LVxskv0V1Ilsq2FyVP1zJaYP_3LxUuuFvlp5zs6qw36n64s7R9SVr4ABcPt0BSPIXm4ECWJx8WPDhzpodP8c5RtvVRpXBc8ZKovgIi-NbsAvJXzyOC0vg_vWs9A2iw\", \"refresh_token\": \"https://cilogon.org/oauth2/refreshToken/af3fb6a0c9ee33a94ed4642d9501a5d/1617204782006\"}\n",
      "\n",
      "New Refresh Token: https://cilogon.org/oauth2/refreshToken/af3fb6a0c9ee33a94ed4642d9501a5d/1617204782006\n",
      "\n",
      "Stored new Refresh Token\n",
      "Stored 'fabric_refresh_token' (str)\n"
     ]
    }
   ],
   "source": [
    "try:\n",
    "    refresh_res = credmgr_proxy.refresh(project_name='all', scope='all', refresh_token=fabric_refresh_token)\n",
    "    print(\"New Tokens received: {}\".format(json.dumps(refresh_res)))\n",
    "    fabric_id_token=refresh_res['id_token']\n",
    "    fabric_refresh_token=refresh_res['refresh_token']\n",
    "    print()\n",
    "    print(\"New Refresh Token: {}\".format(fabric_refresh_token))\n",
    "    print()\n",
    "    print(\"Stored new Refresh Token\")\n",
    "    %store fabric_refresh_token\n",
    "except Exception as e:\n",
    "    print(\"Exception occurred while getting tokens:{}\".format(e))"
   ]
  },
  {
   "cell_type": "markdown",
   "metadata": {},
   "source": [
    "### Orchestrator API example to query for available resources"
   ]
  },
  {
   "cell_type": "code",
   "execution_count": 5,
   "metadata": {},
   "outputs": [
    {
     "name": "stdout",
     "output_type": "stream",
     "text": [
      "Status: Status.OK\n",
      "Toplogy: LBNL: { cpu: 6/6, core: 96/96, ram: 1536/1536G, disk: 109600/109600G, unit: 3/3, }\n",
      "\tComponents:\n",
      "\t\tNVME-P4510:  NVME P4510 { disk: 10000/10000G, unit: 10/10, }\n",
      "\t\tGPU-RTX6000:  GPU RTX6000 { unit: 2/2, }\n",
      "\t\tGPU-Tesla T4:  GPU Tesla T4 { unit: 4/4, }\n",
      "\t\tSharedNIC-ConnectX-6:  SharedNIC ConnectX-6 { unit: 3/3, }\n",
      "\t\tSmartNIC-ConnectX-6:  SmartNIC ConnectX-6 { unit: 2/2, }\n",
      "\t\tSmartNIC-ConnectX-5:  SmartNIC ConnectX-5 { unit: 2/2, }\n",
      "\tSite Interfaces:\n",
      "RENC: { cpu: 6/6, core: 96/96, ram: 1536/1536G, disk: 109600/109600G, unit: 3/3, }\n",
      "\tComponents:\n",
      "\t\tSmartNIC-ConnectX-5:  SmartNIC ConnectX-5 { unit: 2/2, }\n",
      "\t\tNVME-P4510:  NVME P4510 { disk: 10000/10000G, unit: 10/10, }\n",
      "\t\tGPU-RTX6000:  GPU RTX6000 { unit: 2/2, }\n",
      "\t\tGPU-Tesla T4:  GPU Tesla T4 { unit: 4/4, }\n",
      "\t\tSharedNIC-ConnectX-6:  SharedNIC ConnectX-6 { unit: 3/3, }\n",
      "\t\tSmartNIC-ConnectX-6:  SmartNIC ConnectX-6 { unit: 2/2, }\n",
      "\tSite Interfaces:\n",
      "UKY: { cpu: 6/6, core: 96/96, ram: 1536/1536G, disk: 109600/109600G, unit: 3/3, }\n",
      "\tComponents:\n",
      "\t\tNVME-P4510:  NVME P4510 { disk: 10000/10000G, unit: 10/10, }\n",
      "\t\tGPU-RTX6000:  GPU RTX6000 { unit: 2/2, }\n",
      "\t\tGPU-Tesla T4:  GPU Tesla T4 { unit: 4/4, }\n",
      "\t\tSharedNIC-ConnectX-6:  SharedNIC ConnectX-6 { unit: 3/3, }\n",
      "\t\tSmartNIC-ConnectX-6:  SmartNIC ConnectX-6 { unit: 2/2, }\n",
      "\t\tSmartNIC-ConnectX-5:  SmartNIC ConnectX-5 { unit: 2/2, }\n",
      "\tSite Interfaces:\n",
      "Links:\n"
     ]
    }
   ],
   "source": [
    "status, advertised_topology = orchestrator_proxy.resources(token=fabric_id_token)\n",
    "\n",
    "print(f\"Status: {status}\")\n",
    "print(f\"Toplogy: {advertised_topology}\")"
   ]
  },
  {
   "cell_type": "code",
   "execution_count": 6,
   "metadata": {},
   "outputs": [
    {
     "data": {
      "image/png": "[encoded data removed]",
      "text/plain": [
       "<Figure size 432x288 with 1 Axes>"
      ]
     },
     "metadata": {},
     "output_type": "display_data"
    }
   ],
   "source": [
    "advertised_topology.draw()"
   ]
  },
  {
   "cell_type": "markdown",
   "metadata": {},
   "source": [
    "## Create Slice"
   ]
  },
  {
   "cell_type": "code",
   "execution_count": 7,
   "metadata": {},
   "outputs": [
    {
     "name": "stdout",
     "output_type": "stream",
     "text": [
      "Response Status Status.OK\n",
      "Reservations created [{\"graph_node_id\": \"9114b5e1-7368-4818-a452-a490c1f468d6\", \"join_state\": \"None_\", \"lease_end\": \"2021-04-01 15:33:23\", \"reservation_id\": \"c337087f-8414-4b56-960f-aed6b71f419f\", \"reservation_state\": \"Unknown\", \"resource_type\": \"VM\", \"slice_id\": \"c2778326-3922-4d99-852f-10025df42fb4\"}, {\"graph_node_id\": \"30865588-a3e9-48b3-9072-8126c1747804\", \"join_state\": \"None_\", \"lease_end\": \"2021-04-01 15:33:23\", \"reservation_id\": \"920f5665-c58c-4479-ae9e-5e45f1f29acc\", \"reservation_state\": \"Unknown\", \"resource_type\": \"VM\", \"slice_id\": \"c2778326-3922-4d99-852f-10025df42fb4\"}, {\"graph_node_id\": \"19e9198d-9fb8-41c7-afa5-98998e2c175b\", \"join_state\": \"None_\", \"lease_end\": \"2021-04-01 15:33:23\", \"reservation_id\": \"33c4e977-a197-47b5-8403-6376f357ae60\", \"reservation_state\": \"Unknown\", \"resource_type\": \"VM\", \"slice_id\": \"c2778326-3922-4d99-852f-10025df42fb4\"}]\n"
     ]
    }
   ],
   "source": [
    "import fim.user as fu\n",
    "# Create topology\n",
    "t = fu.ExperimentTopology()\n",
    "\n",
    "# Add node\n",
    "n1 = t.add_node(name='n1', site='RENC')\n",
    "\n",
    "# Set capacities\n",
    "cap = fu.Capacities()\n",
    "cap.set_fields(core=4, ram=64, disk=500)\n",
    "\n",
    "# Set Properties\n",
    "n1.set_properties(capacities=cap, image_type='qcow2', image_ref='default_centos_8')\n",
    "\n",
    "# Add PCI devices\n",
    "n1.add_component(ctype=fu.ComponentType.SmartNIC, model='ConnectX-5', name='nic1')\n",
    "\n",
    "# Add node\n",
    "n2 = t.add_node(name='n2', site='UKY')\n",
    "\n",
    "# Set properties\n",
    "n2.set_properties(capacities=cap, image_type='qcow2', image_ref='default_centos_8')\n",
    "\n",
    "# Add PCI devices\n",
    "n2.add_component(ctype=fu.ComponentType.GPU, model='Tesla T4', name='nic2')\n",
    "\n",
    "# Add node\n",
    "n3 = t.add_node(name='n3', site='LBNL')\n",
    "\n",
    "# Set properties\n",
    "n3.set_properties(capacities=cap, image_type='qcow2', image_ref='default_centos_8')\n",
    "\n",
    "# Add PCI devices\n",
    "n3.add_component(ctype=fu.ComponentType.GPU, model='Tesla T4', name='nic3')\n",
    "\n",
    "# Generate Slice Graph\n",
    "slice_graph = t.serialize()\n",
    "\n",
    "ssh_key = None\n",
    "with open (\"/home/fabric/.ssh/id_rsa.pub\", \"r\") as myfile:\n",
    "    ssh_key=myfile.read()\n",
    "    ssh_key=ssh_key.strip()\n",
    "\n",
    "# Request slice from Orchestrator\n",
    "status, reservations = orchestrator_proxy.create(token=fabric_id_token, slice_name='JupyterSlice2', slice_graph=slice_graph, ssh_key=ssh_key)\n",
    "\n",
    "print(\"Response Status {}\".format(status))\n",
    "print(\"Reservations created {}\".format(reservations))"
   ]
  },
  {
   "cell_type": "code",
   "execution_count": 20,
   "metadata": {},
   "outputs": [],
   "source": [
    "# Set the Slice ID from output of the above command\n",
    "slice_id=reservations[0].slice_id"
   ]
  },
  {
   "cell_type": "markdown",
   "metadata": {},
   "source": [
    "## Query Slices"
   ]
  },
  {
   "cell_type": "code",
   "execution_count": 21,
   "metadata": {},
   "outputs": [
    {
     "name": "stdout",
     "output_type": "stream",
     "text": [
      "Response Status Status.OK\n",
      "Slices [{\"graph_id\": \"4ca58e51-87dd-4854-8a86-60b50deca055\", \"slice_id\": \"c2778326-3922-4d99-852f-10025df42fb4\", \"slice_name\": \"JupyterSlice2\", \"slice_state\": \"StableOK\"}]\n"
     ]
    }
   ],
   "source": [
    "status, slices = orchestrator_proxy.slices(token=fabric_id_token)\n",
    "\n",
    "print(\"Response Status {}\".format(status))\n",
    "print(\"Slices {}\".format(slices))"
   ]
  },
  {
   "cell_type": "markdown",
   "metadata": {},
   "source": [
    "## Query Slice"
   ]
  },
  {
   "cell_type": "code",
   "execution_count": 22,
   "metadata": {},
   "outputs": [
    {
     "name": "stdout",
     "output_type": "stream",
     "text": [
      "Response Status Status.OK\n",
      "Response received n1[VM]: { core: 4, ram: 64G, disk: 500G, }\n",
      "n2[VM]: { core: 4, ram: 64G, disk: 500G, }\n",
      "n3[VM]: { core: 4, ram: 64G, disk: 500G, }\n",
      "Links:\n"
     ]
    }
   ],
   "source": [
    "status, slice_obj = orchestrator_proxy.get_slice(token=fabric_id_token, slice_id=slice_id)\n",
    "\n",
    "print(\"Response Status {}\".format(status))\n",
    "print(\"Response received {}\".format(slice_obj))"
   ]
  },
  {
   "cell_type": "code",
   "execution_count": 23,
   "metadata": {},
   "outputs": [
    {
     "data": {
      "image/png": "[encoded data removed]",
      "text/plain": [
       "<Figure size 432x288 with 1 Axes>"
      ]
     },
     "metadata": {},
     "output_type": "display_data"
    }
   ],
   "source": [
    "slice_obj.draw()"
   ]
  },
  {
   "cell_type": "markdown",
   "metadata": {},
   "source": [
    "## Query Slivers"
   ]
  },
  {
   "cell_type": "code",
   "execution_count": 24,
   "metadata": {},
   "outputs": [
    {
     "name": "stdout",
     "output_type": "stream",
     "text": [
      "Response Status Status.OK\n",
      "Reservations [{\"capacities\": \"{\\\"core\\\": 4, \\\"disk\\\": 500, \\\"ram\\\": 64}\", \"graph_node_id\": \"30865588-a3e9-48b3-9072-8126c1747804\", \"join_state\": \"NoJoin\", \"labels\": \"\", \"lease_end\": \"2021-04-01 15:33:23\", \"management_ip\": \"128.163.179.48\", \"name\": \"n2\", \"reservation_id\": \"920f5665-c58c-4479-ae9e-5e45f1f29acc\", \"reservation_state\": \"Active\", \"resource_type\": \"VM\", \"site\": \"UKY\", \"slice_id\": \"c2778326-3922-4d99-852f-10025df42fb4\"}, {\"capacities\": \"{\\\"core\\\": 4, \\\"disk\\\": 500, \\\"ram\\\": 64}\", \"graph_node_id\": \"9114b5e1-7368-4818-a452-a490c1f468d6\", \"join_state\": \"NoJoin\", \"labels\": \"\", \"lease_end\": \"2021-04-01 15:33:23\", \"management_ip\": \"152.54.15.36\", \"name\": \"n1\", \"reservation_id\": \"c337087f-8414-4b56-960f-aed6b71f419f\", \"reservation_state\": \"Active\", \"resource_type\": \"VM\", \"site\": \"RENC\", \"slice_id\": \"c2778326-3922-4d99-852f-10025df42fb4\"}, {\"capacities\": \"{\\\"core\\\": 4, \\\"disk\\\": 500, \\\"ram\\\": 64}\", \"graph_node_id\": \"19e9198d-9fb8-41c7-afa5-98998e2c175b\", \"join_state\": \"NoJoin\", \"labels\": \"\", \"lease_end\": \"2021-04-01 15:33:23\", \"management_ip\": \"198.129.61.56\", \"name\": \"n3\", \"reservation_id\": \"33c4e977-a197-47b5-8403-6376f357ae60\", \"reservation_state\": \"Active\", \"resource_type\": \"VM\", \"site\": \"LBNL\", \"slice_id\": \"c2778326-3922-4d99-852f-10025df42fb4\"}]\n"
     ]
    }
   ],
   "source": [
    "status, reservations = orchestrator_proxy.slivers(token=fabric_id_token, slice_id=slice_id)\n",
    "\n",
    "print(\"Response Status {}\".format(status))\n",
    "print(\"Reservations {}\".format(reservations))"
   ]
  },
  {
   "cell_type": "code",
   "execution_count": 25,
   "metadata": {},
   "outputs": [],
   "source": [
    "# Set the Sliver ID from output of the above command by capturing reservation_id\n",
    "sliver_id=reservations[0].reservation_id"
   ]
  },
  {
   "cell_type": "markdown",
   "metadata": {},
   "source": [
    "## Query Sliver"
   ]
  },
  {
   "cell_type": "code",
   "execution_count": 26,
   "metadata": {},
   "outputs": [
    {
     "name": "stdout",
     "output_type": "stream",
     "text": [
      "Response Status Status.OK\n",
      "Reservation [{\"capacities\": \"{\\\"core\\\": 4, \\\"disk\\\": 500, \\\"ram\\\": 64}\", \"graph_node_id\": \"5439c742-1ae7-409b-8dc2-923a3f190908\", \"join_state\": \"NoJoin\", \"labels\": \"\", \"management_ip\": \"152.54.15.36\", \"name\": \"n1\", \"reservation_id\": \"df99cdb1-96ae-4ca0-a1de-54c3f4e71fd2\", \"reservation_state\": \"Active\", \"resource_type\": \"VM\", \"site\": \"RENC\", \"slice_id\": \"3556b2de-68ee-41cc-800a-eac9d7c23f05\"}]\n"
     ]
    }
   ],
   "source": [
    "status, reservation = orchestrator_proxy.slivers(token=fabric_id_token, slice_id=slice_id, sliver_id=sliver_id)\n",
    "\n",
    "print(\"Response Status {}\".format(status))\n",
    "print(\"Reservation {}\".format(reservation))"
   ]
  },
  {
   "cell_type": "markdown",
   "metadata": {},
   "source": [
    "## Slice Status"
   ]
  },
  {
   "cell_type": "code",
   "execution_count": 27,
   "metadata": {},
   "outputs": [
    {
     "name": "stdout",
     "output_type": "stream",
     "text": [
      "Response Status Status.OK\n",
      "Slice Status {\"graph_id\": \"f370a411-5194-486c-9d78-320dd7608407\", \"slice_id\": \"3556b2de-68ee-41cc-800a-eac9d7c23f05\", \"slice_name\": \"JupyterSlice2\", \"slice_state\": \"StableOK\"}\n"
     ]
    }
   ],
   "source": [
    "status, slice_status = orchestrator_proxy.slice_status(token=fabric_id_token, slice_id=slice_id)\n",
    "\n",
    "print(\"Response Status {}\".format(status))\n",
    "print(\"Slice Status {}\".format(slice_status))"
   ]
  },
  {
   "cell_type": "markdown",
   "metadata": {},
   "source": [
    "## Sliver Status"
   ]
  },
  {
   "cell_type": "code",
   "execution_count": 28,
   "metadata": {},
   "outputs": [
    {
     "name": "stdout",
     "output_type": "stream",
     "text": [
      "Response Status Status.OK\n",
      "Reservation Status {\"capacities\": \"{\\\"core\\\": 4, \\\"disk\\\": 500, \\\"ram\\\": 64}\", \"graph_node_id\": \"5439c742-1ae7-409b-8dc2-923a3f190908\", \"join_state\": \"NoJoin\", \"labels\": \"\", \"management_ip\": \"152.54.15.36\", \"name\": \"n1\", \"notices\": \"Reservation df99cdb1-96ae-4ca0-a1de-54c3f4e71fd2 (Slice JupyterSlice2(3556b2de-68ee-41cc-800a-eac9d7c23f05) Graph Id:f370a411-5194-486c-9d78-320dd7608407 ) is in state [Active,None_]\\n\\nLast ticket update: \\nTicket events: \\nLast ticket update: \\nTicket events: \", \"reservation_id\": \"df99cdb1-96ae-4ca0-a1de-54c3f4e71fd2\", \"reservation_state\": \"Active\", \"resource_type\": \"VM\", \"site\": \"RENC\", \"slice_id\": \"3556b2de-68ee-41cc-800a-eac9d7c23f05\"}\n"
     ]
    }
   ],
   "source": [
    "status, reservation_status = orchestrator_proxy.sliver_status(token=fabric_id_token, slice_id=slice_id, sliver_id=sliver_id)\n",
    "\n",
    "print(\"Response Status {}\".format(status))\n",
    "print(\"Reservation Status {}\".format(reservation_status))"
   ]
  },
  {
   "cell_type": "markdown",
   "metadata": {},
   "source": [
    "## Delete Slice"
   ]
  },
  {
   "cell_type": "code",
   "execution_count": 29,
   "metadata": {},
   "outputs": [
    {
     "name": "stdout",
     "output_type": "stream",
     "text": [
      "Response Status Status.OK\n",
      "Response received {'value': None}\n"
     ]
    }
   ],
   "source": [
    "status, result = orchestrator_proxy.delete(token=fabric_id_token, slice_id=slice_id)\n",
    "\n",
    "print(\"Response Status {}\".format(status))\n",
    "print(\"Response received {}\".format(result))"
   ]
  },
  {
   "cell_type": "code",
   "execution_count": null,
   "metadata": {},
   "outputs": [],
   "source": []
  }
 ],
 "metadata": {
  "kernelspec": {
   "display_name": "Python 3",
   "language": "python",
   "name": "python3"
  },
  "language_info": {
   "codemirror_mode": {
    "name": "ipython",
    "version": 3
   },
   "file_extension": ".py",
   "mimetype": "text/x-python",
   "name": "python",
   "nbconvert_exporter": "python",
   "pygments_lexer": "ipython3",
   "version": "3.8.6"
  }
 },
 "nbformat": 4,
 "nbformat_minor": 4
}
