{
 "cells": [
  {
   "cell_type": "markdown",
   "metadata": {},
   "source": [
    "## This notebook shows how to use get FABRIC tokens for Jupyterhub users"
   ]
  },
  {
   "cell_type": "code",
   "execution_count": 5,
   "metadata": {},
   "outputs": [],
   "source": [
    "import os\n",
    "from fabric.cli.credential import CredMgr"
   ]
  },
  {
   "cell_type": "markdown",
   "metadata": {},
   "source": [
    "#### Use $CILOGON_REFRESH_TOKEN to get FABRIC Tokens \n",
    "\n",
    "When user logins to Jupyterhub and authenticates herself against CILogon, OIDC refresh token is derived. <br>\n",
    "Use this $CILOGON_REFRESH_TOKEN as parameter to get the FABRIC tokens.<br>\n",
    "The FABRIC Identity Token is the token to use when communicating with Control Framework/Measurement Framework. <br>"
   ]
  },
  {
   "cell_type": "code",
   "execution_count": 7,
   "metadata": {},
   "outputs": [
    {
     "ename": "Exception",
     "evalue": "('INTERNAL SERVER ERROR', '\"(\\\\\"server_error\\\\\"\\\\nerror_description=\\\\\"Error: a null identifier was supplied\\\\\"\\\\n) \"\\n')",
     "output_type": "error",
     "traceback": [
      "\u001b[0;31m---------------------------------------------------------------------------\u001b[0m",
      "\u001b[0;31mApiException\u001b[0m                              Traceback (most recent call last)",
      "\u001b[0;32m/opt/conda/lib/python3.7/site-packages/fabric/cli/credential.py\u001b[0m in \u001b[0;36mrefresh_token\u001b[0;34m(project_name, scope, refresh_token)\u001b[0m\n\u001b[1;32m     94\u001b[0m                                                           \u001b[0mproject_name\u001b[0m\u001b[0;34m=\u001b[0m\u001b[0mproject_name\u001b[0m\u001b[0;34m,\u001b[0m\u001b[0;34m\u001b[0m\u001b[0;34m\u001b[0m\u001b[0m\n\u001b[0;32m---> 95\u001b[0;31m                                                           scope=scope)\n\u001b[0m\u001b[1;32m     96\u001b[0m \u001b[0;34m\u001b[0m\u001b[0m\n",
      "\u001b[0;32m/opt/conda/lib/python3.7/site-packages/fabric/credmgr/swagger_client/api/tokens_api.py\u001b[0m in \u001b[0;36mtokens_refresh_post\u001b[0;34m(self, **kwargs)\u001b[0m\n\u001b[1;32m    150\u001b[0m         \u001b[0;32melse\u001b[0m\u001b[0;34m:\u001b[0m\u001b[0;34m\u001b[0m\u001b[0;34m\u001b[0m\u001b[0m\n\u001b[0;32m--> 151\u001b[0;31m             \u001b[0;34m(\u001b[0m\u001b[0mdata\u001b[0m\u001b[0;34m)\u001b[0m \u001b[0;34m=\u001b[0m \u001b[0mself\u001b[0m\u001b[0;34m.\u001b[0m\u001b[0mtokens_refresh_post_with_http_info\u001b[0m\u001b[0;34m(\u001b[0m\u001b[0;34m**\u001b[0m\u001b[0mkwargs\u001b[0m\u001b[0;34m)\u001b[0m  \u001b[0;31m# noqa: E501\u001b[0m\u001b[0;34m\u001b[0m\u001b[0;34m\u001b[0m\u001b[0m\n\u001b[0m\u001b[1;32m    152\u001b[0m             \u001b[0;32mreturn\u001b[0m \u001b[0mdata\u001b[0m\u001b[0;34m\u001b[0m\u001b[0;34m\u001b[0m\u001b[0m\n",
      "\u001b[0;32m/opt/conda/lib/python3.7/site-packages/fabric/credmgr/swagger_client/api/tokens_api.py\u001b[0m in \u001b[0;36mtokens_refresh_post_with_http_info\u001b[0;34m(self, **kwargs)\u001b[0m\n\u001b[1;32m    230\u001b[0m             \u001b[0m_request_timeout\u001b[0m\u001b[0;34m=\u001b[0m\u001b[0mparams\u001b[0m\u001b[0;34m.\u001b[0m\u001b[0mget\u001b[0m\u001b[0;34m(\u001b[0m\u001b[0;34m'_request_timeout'\u001b[0m\u001b[0;34m)\u001b[0m\u001b[0;34m,\u001b[0m\u001b[0;34m\u001b[0m\u001b[0;34m\u001b[0m\u001b[0m\n\u001b[0;32m--> 231\u001b[0;31m             collection_formats=collection_formats)\n\u001b[0m\u001b[1;32m    232\u001b[0m \u001b[0;34m\u001b[0m\u001b[0m\n",
      "\u001b[0;32m/opt/conda/lib/python3.7/site-packages/fabric/credmgr/swagger_client/api_client.py\u001b[0m in \u001b[0;36mcall_api\u001b[0;34m(self, resource_path, method, path_params, query_params, header_params, body, post_params, files, response_type, auth_settings, async_req, _return_http_data_only, collection_formats, _preload_content, _request_timeout)\u001b[0m\n\u001b[1;32m    320\u001b[0m                                    \u001b[0m_return_http_data_only\u001b[0m\u001b[0;34m,\u001b[0m \u001b[0mcollection_formats\u001b[0m\u001b[0;34m,\u001b[0m\u001b[0;34m\u001b[0m\u001b[0;34m\u001b[0m\u001b[0m\n\u001b[0;32m--> 321\u001b[0;31m                                    _preload_content, _request_timeout)\n\u001b[0m\u001b[1;32m    322\u001b[0m         \u001b[0;32melse\u001b[0m\u001b[0;34m:\u001b[0m\u001b[0;34m\u001b[0m\u001b[0;34m\u001b[0m\u001b[0m\n",
      "\u001b[0;32m/opt/conda/lib/python3.7/site-packages/fabric/credmgr/swagger_client/api_client.py\u001b[0m in \u001b[0;36m__call_api\u001b[0;34m(self, resource_path, method, path_params, query_params, header_params, body, post_params, files, response_type, auth_settings, _return_http_data_only, collection_formats, _preload_content, _request_timeout)\u001b[0m\n\u001b[1;32m    151\u001b[0m             \u001b[0m_preload_content\u001b[0m\u001b[0;34m=\u001b[0m\u001b[0m_preload_content\u001b[0m\u001b[0;34m,\u001b[0m\u001b[0;34m\u001b[0m\u001b[0;34m\u001b[0m\u001b[0m\n\u001b[0;32m--> 152\u001b[0;31m             _request_timeout=_request_timeout)\n\u001b[0m\u001b[1;32m    153\u001b[0m \u001b[0;34m\u001b[0m\u001b[0m\n",
      "\u001b[0;32m/opt/conda/lib/python3.7/site-packages/fabric/credmgr/swagger_client/api_client.py\u001b[0m in \u001b[0;36mrequest\u001b[0;34m(self, method, url, query_params, headers, post_params, body, _preload_content, _request_timeout)\u001b[0m\n\u001b[1;32m    363\u001b[0m                                          \u001b[0m_request_timeout\u001b[0m\u001b[0;34m=\u001b[0m\u001b[0m_request_timeout\u001b[0m\u001b[0;34m,\u001b[0m\u001b[0;34m\u001b[0m\u001b[0;34m\u001b[0m\u001b[0m\n\u001b[0;32m--> 364\u001b[0;31m                                          body=body)\n\u001b[0m\u001b[1;32m    365\u001b[0m         \u001b[0;32melif\u001b[0m \u001b[0mmethod\u001b[0m \u001b[0;34m==\u001b[0m \u001b[0;34m\"PUT\"\u001b[0m\u001b[0;34m:\u001b[0m\u001b[0;34m\u001b[0m\u001b[0;34m\u001b[0m\u001b[0m\n",
      "\u001b[0;32m/opt/conda/lib/python3.7/site-packages/fabric/credmgr/swagger_client/rest.py\u001b[0m in \u001b[0;36mPOST\u001b[0;34m(self, url, headers, query_params, post_params, body, _preload_content, _request_timeout)\u001b[0m\n\u001b[1;32m    273\u001b[0m                             \u001b[0m_request_timeout\u001b[0m\u001b[0;34m=\u001b[0m\u001b[0m_request_timeout\u001b[0m\u001b[0;34m,\u001b[0m\u001b[0;34m\u001b[0m\u001b[0;34m\u001b[0m\u001b[0m\n\u001b[0;32m--> 274\u001b[0;31m                             body=body)\n\u001b[0m\u001b[1;32m    275\u001b[0m \u001b[0;34m\u001b[0m\u001b[0m\n",
      "\u001b[0;32m/opt/conda/lib/python3.7/site-packages/fabric/credmgr/swagger_client/rest.py\u001b[0m in \u001b[0;36mrequest\u001b[0;34m(self, method, url, query_params, headers, body, post_params, _preload_content, _request_timeout)\u001b[0m\n\u001b[1;32m    226\u001b[0m         \u001b[0;32mif\u001b[0m \u001b[0;32mnot\u001b[0m \u001b[0;36m200\u001b[0m \u001b[0;34m<=\u001b[0m \u001b[0mr\u001b[0m\u001b[0;34m.\u001b[0m\u001b[0mstatus\u001b[0m \u001b[0;34m<=\u001b[0m \u001b[0;36m299\u001b[0m\u001b[0;34m:\u001b[0m\u001b[0;34m\u001b[0m\u001b[0;34m\u001b[0m\u001b[0m\n\u001b[0;32m--> 227\u001b[0;31m             \u001b[0;32mraise\u001b[0m \u001b[0mApiException\u001b[0m\u001b[0;34m(\u001b[0m\u001b[0mhttp_resp\u001b[0m\u001b[0;34m=\u001b[0m\u001b[0mr\u001b[0m\u001b[0;34m)\u001b[0m\u001b[0;34m\u001b[0m\u001b[0;34m\u001b[0m\u001b[0m\n\u001b[0m\u001b[1;32m    228\u001b[0m \u001b[0;34m\u001b[0m\u001b[0m\n",
      "\u001b[0;31mApiException\u001b[0m: (500)\nReason: INTERNAL SERVER ERROR\nHTTP response headers: HTTPHeaderDict({'Content-Length': '85', 'Content-Type': 'application/json', 'Date': 'Thu, 05 Nov 2020 19:58:12 GMT', 'Server': 'waitress'})\nHTTP response body: \"(\\\"server_error\\\"\\nerror_description=\\\"Error: a null identifier was supplied\\\"\\n) \"\n\n",
      "\nDuring handling of the above exception, another exception occurred:\n",
      "\u001b[0;31mException\u001b[0m                                 Traceback (most recent call last)",
      "\u001b[0;32m<ipython-input-7-c67fa606b4ae>\u001b[0m in \u001b[0;36m<module>\u001b[0;34m\u001b[0m\n\u001b[0;32m----> 1\u001b[0;31m \u001b[0mrefresh_res\u001b[0m \u001b[0;34m=\u001b[0m \u001b[0mCredMgr\u001b[0m\u001b[0;34m.\u001b[0m\u001b[0mrefresh_token\u001b[0m\u001b[0;34m(\u001b[0m\u001b[0mproject_name\u001b[0m\u001b[0;34m=\u001b[0m\u001b[0;34m'all'\u001b[0m\u001b[0;34m,\u001b[0m \u001b[0mscope\u001b[0m\u001b[0;34m=\u001b[0m\u001b[0;34m'all'\u001b[0m\u001b[0;34m,\u001b[0m \u001b[0mrefresh_token\u001b[0m\u001b[0;34m=\u001b[0m\u001b[0mos\u001b[0m\u001b[0;34m.\u001b[0m\u001b[0menviron\u001b[0m\u001b[0;34m[\u001b[0m\u001b[0;34m'CILOGON_REFRESH_TOKEN'\u001b[0m\u001b[0;34m]\u001b[0m\u001b[0;34m)\u001b[0m\u001b[0;34m\u001b[0m\u001b[0;34m\u001b[0m\u001b[0m\n\u001b[0m\u001b[1;32m      2\u001b[0m \u001b[0mprint\u001b[0m\u001b[0;34m(\u001b[0m\u001b[0mrefresh_res\u001b[0m\u001b[0;34m)\u001b[0m\u001b[0;34m\u001b[0m\u001b[0;34m\u001b[0m\u001b[0m\n\u001b[1;32m      3\u001b[0m \u001b[0mfabric_id_token\u001b[0m\u001b[0;34m=\u001b[0m\u001b[0mrefresh_res\u001b[0m\u001b[0;34m[\u001b[0m\u001b[0;34m'id_token'\u001b[0m\u001b[0;34m]\u001b[0m\u001b[0;34m\u001b[0m\u001b[0;34m\u001b[0m\u001b[0m\n\u001b[1;32m      4\u001b[0m \u001b[0mfabric_refresh_token\u001b[0m\u001b[0;34m=\u001b[0m\u001b[0mrefresh_res\u001b[0m\u001b[0;34m[\u001b[0m\u001b[0;34m'refresh_token'\u001b[0m\u001b[0;34m]\u001b[0m\u001b[0;34m\u001b[0m\u001b[0;34m\u001b[0m\u001b[0m\n\u001b[1;32m      5\u001b[0m \u001b[0mget_ipython\u001b[0m\u001b[0;34m(\u001b[0m\u001b[0;34m)\u001b[0m\u001b[0;34m.\u001b[0m\u001b[0mrun_line_magic\u001b[0m\u001b[0;34m(\u001b[0m\u001b[0;34m'env'\u001b[0m\u001b[0;34m,\u001b[0m \u001b[0;34m\"CILOGON_REFRESH_TOKEN=refresh_res['refresh_token']\"\u001b[0m\u001b[0;34m)\u001b[0m\u001b[0;34m\u001b[0m\u001b[0;34m\u001b[0m\u001b[0m\n",
      "\u001b[0;32m/opt/conda/lib/python3.7/site-packages/fabric/cli/credential.py\u001b[0m in \u001b[0;36mrefresh_token\u001b[0;34m(project_name, scope, refresh_token)\u001b[0m\n\u001b[1;32m     99\u001b[0m         \u001b[0;32mexcept\u001b[0m \u001b[0mCredMgrException\u001b[0m \u001b[0;32mas\u001b[0m \u001b[0me\u001b[0m\u001b[0;34m:\u001b[0m\u001b[0;34m\u001b[0m\u001b[0;34m\u001b[0m\u001b[0m\n\u001b[1;32m    100\u001b[0m             \u001b[0;31m#traceback.print_exc()\u001b[0m\u001b[0;34m\u001b[0m\u001b[0;34m\u001b[0m\u001b[0;34m\u001b[0m\u001b[0m\n\u001b[0;32m--> 101\u001b[0;31m             \u001b[0;32mraise\u001b[0m \u001b[0mException\u001b[0m\u001b[0;34m(\u001b[0m\u001b[0me\u001b[0m\u001b[0;34m.\u001b[0m\u001b[0mreason\u001b[0m\u001b[0;34m,\u001b[0m \u001b[0me\u001b[0m\u001b[0;34m.\u001b[0m\u001b[0mbody\u001b[0m\u001b[0;34m)\u001b[0m\u001b[0;34m\u001b[0m\u001b[0;34m\u001b[0m\u001b[0m\n\u001b[0m",
      "\u001b[0;31mException\u001b[0m: ('INTERNAL SERVER ERROR', '\"(\\\\\"server_error\\\\\"\\\\nerror_description=\\\\\"Error: a null identifier was supplied\\\\\"\\\\n) \"\\n')"
     ]
    }
   ],
   "source": [
    "refresh_res = CredMgr.refresh_token(project_name='all', scope='all', refresh_token=os.environ['CILOGON_REFRESH_TOKEN'])\n",
    "print(refresh_res)\n",
    "fabric_id_token=refresh_res['id_token']\n",
    "fabric_refresh_token=refresh_res['refresh_token']\n",
    "%env CILOGON_REFRESH_TOKEN=refresh_res['refresh_token']"
   ]
  },
  {
   "cell_type": "code",
   "execution_count": 3,
   "metadata": {},
   "outputs": [
    {
     "name": "stdout",
     "output_type": "stream",
     "text": [
      "Stored 'fabric_refresh_token' (str)\n"
     ]
    }
   ],
   "source": [
    "%store fabric_refresh_token"
   ]
  },
  {
   "cell_type": "code",
   "execution_count": 3,
   "metadata": {},
   "outputs": [
    {
     "name": "stdout",
     "output_type": "stream",
     "text": [
      "refresh_res.tokens['refresh_token']\n"
     ]
    }
   ],
   "source": [
    "print(os.environ['CILOGON_REFRESH_TOKEN'])"
   ]
  },
  {
   "cell_type": "code",
   "execution_count": null,
   "metadata": {},
   "outputs": [],
   "source": []
  },
  {
   "cell_type": "markdown",
   "metadata": {},
   "source": [
    "\n",
    "#### Refresh tokens again when necessary. (Identity token is short-lived and will expired. )"
   ]
  },
  {
   "cell_type": "code",
   "execution_count": 4,
   "metadata": {},
   "outputs": [
    {
     "name": "stdout",
     "output_type": "stream",
     "text": [
      "{'id_token': 'eyJ0eXAiOiJKV1QiLCJhbGciOiJSUzI1NiJ9.eyJpc3MiOiJodHRwczovL2NpbG9nb24ub3JnIiwic3ViIjoiaHR0cDovL2NpbG9nb24ub3JnL3NlcnZlclQvdXNlcnMvMTUwNDU4OTMiLCJhdWQiOiJjaWxvZ29uOi9jbGllbnRfaWQvNmZiZWEyZWY0YjRiYjlhYjY4ZjljMzU5NTg1MGNhNzkiLCJhdXRoX3RpbWUiOiIxNTg4OTUxMzMxIiwiZXhwIjoxNTg4OTUzNzExLCJpYXQiOjE1ODg5NTI4MTEsImVtYWlsIjoiZXJpY2FmdUByZW5jaS5vcmciLCJjZXJ0X3N1YmplY3RfZG4iOiIvREM9b3JnL0RDPWNpbG9nb24vQz1VUy9PPVVuaXZlcnNpdHkgb2YgTm9ydGggQ2Fyb2xpbmEgYXQgQ2hhcGVsIEhpbGwvQ049U2hpaCBXZW4gRnUgVDE1MDQ1ODkzIiwiaWRwIjoidXJuOm1hY2U6aW5jb21tb246dW5jLmVkdSIsImlkcF9uYW1lIjoiVW5pdmVyc2l0eSBvZiBOb3J0aCBDYXJvbGluYSBhdCBDaGFwZWwgSGlsbCIsImVwcG4iOiJlcmljYWZ1QHVuYy5lZHUiLCJhZmZpbGlhdGlvbiI6ImVtcGxveWVlQHVuYy5lZHU7c3RhZmZAdW5jLmVkdTttZW1iZXJAdW5jLmVkdSIsIm5hbWUiOiJFcmljYSBGdSIsImFjciI6InVybjpvYXNpczpuYW1lczp0YzpTQU1MOjIuMDphYzpjbGFzc2VzOlBhc3N3b3JkUHJvdGVjdGVkVHJhbnNwb3J0IiwiZW50aXRsZW1lbnQiOiJ1cm46bWFjZTpkaXI6ZW50aXRsZW1lbnQ6Y29tbW9uLWxpYi10ZXJtcyIsImlzTWVtYmVyT2YiOlsiQ086bWVtYmVyczphY3RpdmUiLCJDTzpDT1U6SnVweXRlcmh1YjptZW1iZXJzOmFjdGl2ZSIsIkNPOkNPVTpSRU5DSS1URVNUOm1lbWJlcnM6YWN0aXZlIl0sInNjb3BlIjoiYWxsIiwicHJvamVjdCI6ImFsbCJ9.g9Ua04ZaidrRMiYN3NQBfF2-uKRuzTKN30CHPHrDN33NvdNgP78brdq4SgdfvxNOZc0W4yUySUoK2hDwqryZ32baGz5yERBSxeg0SXUp2zoAQbOiPQjfVgB2wsFz691W7xVZU34XPYu93goeWSmADB3E340HvNj_FuAe6c_wFQ5MStb9Us7OZ5WIynTNKVzlzbiLN7UXI2hD42VHEtezTWKTktDSd2bWQEWkp9-mv8zhynKTuW5-E3O7MfUe-k9yNfFg_5WKyFiV9va6pEie9LpSpmrWxKeFTF_cL4BoJvL8FYasCd6RmI93pI_OBdtQ29hd9SnPOkSvAhs-Jz_SSg', 'refresh_token': 'https://cilogon.org/oauth2/refreshToken/4742c72ee0b0996ce55337ea2b54dfcc/1588952811808'}\n",
      "env: CILOGON_REFRESH_TOKEN=refresh_res.tokens['refresh_token']\n"
     ]
    }
   ],
   "source": [
    "refresh_res = CredMgr.refresh_token(project_name='all', scope='all', refresh_token=fabric_refresh_token)\n",
    "print(refresh_res)\n",
    "fabric_id_token=refresh_res['id_token']\n",
    "fabric_refresh_token=refresh_res['refresh_token']\n",
    "%env CILOGON_REFRESH_TOKEN=refresh_res['refresh_token']"
   ]
  },
  {
   "cell_type": "markdown",
   "metadata": {},
   "source": [
    "#### Alternative: \n",
    "Visit URL: https://dev-2.fabric-testbed.net:8443/ui/, use POST /tokens/create command to generate fabric tokens\n",
    "Set up the environment variables for FABRIC_ID_TOKEN and FABRIC_REFRESH_TOKEN/CILOGON_REFRESH_TOKEN"
   ]
  },
  {
   "cell_type": "code",
   "execution_count": null,
   "metadata": {},
   "outputs": [],
   "source": [
    "echo $CILOGON_REFRESH_TOKEN"
   ]
  },
  {
   "cell_type": "code",
   "execution_count": null,
   "metadata": {},
   "outputs": [],
   "source": [
    "print(os.environ['CILOGON_REFRESH_TOKEN'])"
   ]
  },
  {
   "cell_type": "code",
   "execution_count": null,
   "metadata": {},
   "outputs": [],
   "source": []
  }
 ],
 "metadata": {
  "kernelspec": {
   "display_name": "Python 3",
   "language": "python",
   "name": "python3"
  },
  "language_info": {
   "codemirror_mode": {
    "name": "ipython",
    "version": 3
   },
   "file_extension": ".py",
   "mimetype": "text/x-python",
   "name": "python",
   "nbconvert_exporter": "python",
   "pygments_lexer": "ipython3",
   "version": "3.7.4"
  }
 },
 "nbformat": 4,
 "nbformat_minor": 4
}
