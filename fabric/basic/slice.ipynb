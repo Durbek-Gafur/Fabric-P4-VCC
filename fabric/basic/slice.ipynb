{
 "cells": [
  {
   "cell_type": "markdown",
   "id": "pressed-fitting",
   "metadata": {},
   "source": [
    "# This notebook depicts how to construct a slice using Fabric Information Model"
   ]
  },
  {
   "cell_type": "code",
   "execution_count": 3,
   "id": "synthetic-allowance",
   "metadata": {},
   "outputs": [
    {
     "data": {
      "application/vnd.jupyter.widget-view+json": {
       "model_id": "ce750e0b67b74b6ab91a23ebe33c5fc0",
       "version_major": 2,
       "version_minor": 0
      },
      "text/plain": [
       "Canvas(toolbar=Toolbar(toolitems=[('Home', 'Reset original view', 'home', 'home'), ('Back', 'Back to previous …"
      ]
     },
     "metadata": {},
     "output_type": "display_data"
    }
   ],
   "source": [
    "%matplotlib widget\n",
    "import fim.user as fu\n",
    "t = fu.ExperimentTopology()\n",
    "n1 = t.add_node(name='n1', site='RENC')\n",
    "# Attach Capacities\n",
    "cap = fu.Capacities()\n",
    "cap.set_fields(core=1, ram=128, disk=1000)\n",
    "# Specify the Image to use \n",
    "n1.set_properties(capacities=cap, image_type='qcow2', image_ref='default_centos_8')\n",
    "n2 = t.add_node(name='n2', site='RENC')\n",
    "n2.set_properties(capacities=cap, image_type='qcow2', image_ref='default_centos_8')\n",
    "\n",
    "# Add NIC\n",
    "n1.add_component(ctype=fu.ComponentType.SharedNIC, model='ConnectX-6', name='nic1')\n",
    "n2.add_component(ctype=fu.ComponentType.SharedNIC, model='ConnectX-6', name='nic2')\n",
    "\n",
    "# Add a link\n",
    "t.add_link(name='l1', interfaces=list(t.interfaces.values()), ltype=fu.LinkType.Wave)\n",
    "\n",
    "# Draw the slice graph\n",
    "t.draw()\n",
    "\n",
    "# Serialize to a file\n",
    "t.serialize('test_slice.graphml')"
   ]
  },
  {
   "cell_type": "code",
   "execution_count": null,
   "id": "knowing-belfast",
   "metadata": {},
   "outputs": [],
   "source": []
  }
 ],
 "metadata": {
  "kernelspec": {
   "display_name": "Python 3",
   "language": "python",
   "name": "python3"
  },
  "language_info": {
   "codemirror_mode": {
    "name": "ipython",
    "version": 3
   },
   "file_extension": ".py",
   "mimetype": "text/x-python",
   "name": "python",
   "nbconvert_exporter": "python",
   "pygments_lexer": "ipython3",
   "version": "3.8.6"
  }
 },
 "nbformat": 4,
 "nbformat_minor": 5
}
