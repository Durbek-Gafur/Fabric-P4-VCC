{
 "cells": [
  {
   "cell_type": "markdown",
   "metadata": {},
   "source": [
    "# FABRIC Experimenters Workshop: Directional Latency Demo\n",
    "\n",
    "## Experiment Description\n",
    "\n",
    "<img src=\"./figs/Latency-DemoExperiment.png\" width=\"40%\"><br>\n",
    "\n",
    "\n",
    "\n",
    "## Configure the Environment\n",
    "\n",
    "### Create the FABRIC Proxies"
   ]
  },
  {
   "cell_type": "code",
   "execution_count": null,
   "metadata": {},
   "outputs": [],
   "source": [
    "import os\n",
    "import json\n",
    "\n",
    "from fabric_cm.credmgr.credmgr_proxy import CredmgrProxy\n",
    "from fabric_cf.orchestrator.orchestrator_proxy import OrchestratorProxy\n",
    "\n",
    "#Create a FABRIC Orchestrator Proxy.\n",
    "orchestrator_proxy = OrchestratorProxy(orchestrator_host=os.environ['FABRIC_ORCHESTRATOR_HOST'])\n",
    "\n",
    "#Create a Credential Manager Proxy \n",
    "credmgr_proxy = CredmgrProxy(credmgr_host=os.environ['FABRIC_CREDMGR_HOST'])\n",
    "\n",
    "#Cofigure SSH Key\n",
    "ssh_key = None\n",
    "with open (\"/home/fabric/.ssh/id_rsa.pub\", \"r\") as myfile:\n",
    "    ssh_key=myfile.read().strip()\n",
    "    #ssh_key=ssh_key.strip()"
   ]
  },
  {
   "cell_type": "markdown",
   "metadata": {},
   "source": [
    "### Set the Refresh Token"
   ]
  },
  {
   "cell_type": "code",
   "execution_count": null,
   "metadata": {},
   "outputs": [],
   "source": [
    "#Retrieve or set the refresh token (exprires 24 hours after login)\n",
    "fabric_refresh_token=None\n",
    "%store -r fabric_refresh_token\n",
    "if fabric_refresh_token is None:\n",
    "    fabric_refresh_token=os.environ['CILOGON_REFRESH_TOKEN']\n",
    "    %store fabric_refresh_token\n",
    "\n",
    "print(\"Refresh Token: {}\".format(fabric_refresh_token))"
   ]
  },
  {
   "cell_type": "markdown",
   "metadata": {},
   "source": [
    "### Refresh the ID Token\n",
    "\n",
    "ID Tokens exprire one hour after refresh. "
   ]
  },
  {
   "cell_type": "code",
   "execution_count": null,
   "metadata": {},
   "outputs": [],
   "source": [
    "try:\n",
    "    refresh_res = credmgr_proxy.refresh(project_name='all', scope='all', refresh_token=fabric_refresh_token)\n",
    "\n",
    "    fabric_id_token=refresh_res['id_token']\n",
    "    fabric_refresh_token=refresh_res['refresh_token']\n",
    "    print(\"New Refreash Token: {}\\n\".format(fabric_refresh_token))\n",
    "    print(\"New ID Token: {}\".format(fabric_id_token))\n",
    "    %store fabric_refresh_token\n",
    "\n",
    "except Exception as e:\n",
    "    print(\"Exception occurred while getting tokens:{}\".format(e))\n",
    "    \n"
   ]
  },
  {
   "cell_type": "markdown",
   "metadata": {},
   "source": [
    "## Build Slice Request\n",
    "\n",
    "\n",
    "<img src=\"./figs/Latency-DemoTopo.png\" width=\"95%\"><br>\n",
    "\n"
   ]
  },
  {
   "cell_type": "code",
   "execution_count": null,
   "metadata": {},
   "outputs": [],
   "source": [
    "import fim.user as fu\n",
    "\n",
    "# Create Experiment Topology\n",
    "experiemnt = fu.ExperimentTopology()\n",
    "\n",
    "slice_name=\"LatencyDemo\""
   ]
  },
  {
   "cell_type": "code",
   "execution_count": null,
   "metadata": {},
   "outputs": [],
   "source": [
    "uky1-demo1 = experiemnt.add_node(name='uky1-demo1', site='UKY')\n",
    "\n",
    "uky1-demo1_capacity = fu.Capacities()\n",
    "uky1-demo1_capacity.set_fields(core=4, ram=32, disk=500)\n",
    "uky1-demo1.set_properties(capacities=uky1-demo1_capacity, image_type='qcow2', image_ref='default_ubuntu_20')\n",
    "\n",
    "uky1-demo1_nic = uky1-demo1.add_component(ctype=fu.ComponentType.SharedNIC, model='ConnectX-6', name='uky1-demo1_nic')"
   ]
  },
  {
   "cell_type": "code",
   "execution_count": null,
   "metadata": {},
   "outputs": [],
   "source": [
    "renc1-demo1 = experiemnt.add_node(name='renc1-demo1', site='RENC')\n",
    "\n",
    "renc1-demo1_capacity = fu.Capacities()\n",
    "renc1-demo1_capacity.set_fields(core=4, ram=32, disk=500)\n",
    "renc1-demo1.set_properties(capacities=renc1-demo1_capacity, image_type='qcow2', image_ref='default_ubuntu_20')\n",
    "\n",
    "renc1-demo1_nic  = renc1-demo1.add_component(ctype=fu.ComponentType.SharedNIC, model='ConnectX-6', name='renc1-demo1_nic')"
   ]
  },
  {
   "cell_type": "code",
   "execution_count": null,
   "metadata": {},
   "outputs": [],
   "source": [
    "uky2-demo1 = experiemnt.add_node(name='uky2-demo1', site='UKY')\n",
    "\n",
    "uky2-demo1_capacity = fu.Capacities()\n",
    "uky2-demo1_capacity.set_fields(core=4, ram=32, disk=500)\n",
    "uky2-demo1.set_properties(capacities=uky2-demo1_capacity, image_type='qcow2', image_ref='default_ubuntu_20')\n",
    "\n",
    "uky2-demo1_nic  = uky2-demo1.add_component(ctype=fu.ComponentType.SharedNIC, model='ConnectX-6', name='uky2-demo1_nic')"
   ]
  },
  {
   "cell_type": "code",
   "execution_count": null,
   "metadata": {},
   "outputs": [],
   "source": [
    "# Generate Slice Graph\n",
    "#slice_graph = t.serialize()\n",
    "experiemnt.draw()"
   ]
  },
  {
   "cell_type": "markdown",
   "metadata": {},
   "source": [
    "## Submit the Request"
   ]
  },
  {
   "cell_type": "code",
   "execution_count": null,
   "metadata": {},
   "outputs": [],
   "source": [
    "slice_graph = experiemnt.serialize()\n",
    "\n",
    "# Request slice from Orchestrator\n",
    "status, reservations = orchestrator_proxy.create(token=fabric_id_token, slice_name=slice_name, slice_graph=slice_graph, ssh_key=ssh_key)\n",
    "\n",
    "\n",
    "print(\"Response Status {}\".format(status))\n",
    "slice_id=reservations[0].slice_id\n",
    "\n",
    "print(\"Reservations: {}\".format(reservations))\n",
    "print(\"Slice ID: {}\".format(slice_id))"
   ]
  },
  {
   "cell_type": "markdown",
   "metadata": {},
   "source": [
    "## Query Slices"
   ]
  },
  {
   "cell_type": "code",
   "execution_count": null,
   "metadata": {},
   "outputs": [],
   "source": [
    "status, slices = orchestrator_proxy.slices(token=fabric_id_token)\n",
    "\n",
    "print(\"Response Status {}\".format(status))\n",
    "print(\"Slices {}\".format(slices))"
   ]
  },
  {
   "cell_type": "markdown",
   "metadata": {},
   "source": [
    "## Slice Status"
   ]
  },
  {
   "cell_type": "code",
   "execution_count": null,
   "metadata": {},
   "outputs": [],
   "source": [
    "import time\n",
    "\n",
    "slice_state=None\n",
    "while slice_state != 'StableOK':\n",
    "    status, slice_status = orchestrator_proxy.slice_status(token=fabric_id_token, slice_id=slice_id)\n",
    "    slice_state = slice_status.slice_state\n",
    "    print(\"Slice State: {}\".format(slices[0].slice_state))\n",
    "    time.sleep(20)\n",
    "\n",
    "#status, slice_status = orchestrator_proxy.slice_status(token=fabric_id_token, slice_id=slice_id)\n",
    "\n",
    "print(\"Response Status {}\".format(status))\n",
    "print(\"Slice Status {}\".format(slice_status))"
   ]
  },
  {
   "cell_type": "markdown",
   "metadata": {},
   "source": [
    "## Query Slivers"
   ]
  },
  {
   "cell_type": "code",
   "execution_count": null,
   "metadata": {},
   "outputs": [],
   "source": [
    "status, slivers = orchestrator_proxy.slivers(token=fabric_id_token, slice_id=slice_id)\n",
    "\n",
    "print(\"Response Status {}\".format(status))\n",
    "print(\"Slivers {}\".format(reservations))"
   ]
  },
  {
   "cell_type": "markdown",
   "metadata": {},
   "source": [
    "## Sliver Status"
   ]
  },
  {
   "cell_type": "code",
   "execution_count": null,
   "metadata": {},
   "outputs": [],
   "source": [
    "for sliver in slivers:\n",
    "    sliver_id=sliver.reservation_id\n",
    "    status, reservation_status = orchestrator_proxy.sliver_status(token=fabric_id_token, slice_id=slice_id, sliver_id=sliver_id)\n",
    "\n",
    "    print(\"Response Status {}\".format(status))\n",
    "    print(\"Reservation Status {}\".format(reservation_status))"
   ]
  },
  {
   "cell_type": "markdown",
   "metadata": {},
   "source": [
    "## Configure the Experiment Nodes"
   ]
  },
  {
   "cell_type": "code",
   "execution_count": null,
   "metadata": {},
   "outputs": [],
   "source": [
    "script= '#!/bin/bash  \\n' \\\n",
    "        'lspci  \\n'"
   ]
  },
  {
   "cell_type": "code",
   "execution_count": null,
   "metadata": {},
   "outputs": [],
   "source": [
    "import paramiko \n",
    "#from scp import SCPClient, SCPException\n",
    "\n",
    "key = paramiko.RSAKey.from_private_key_file(\"/home/fabric/.ssh/id_rsa\")\n",
    "client = paramiko.SSHClient()\n",
    "client.load_system_host_keys()\n",
    "client.set_missing_host_key_policy(paramiko.MissingHostKeyPolicy())\n",
    "\n",
    "client.set_missing_host_key_policy(paramiko.AutoAddPolicy())\n",
    "\n",
    "for sliver in slivers:\n",
    "    sliver_id=sliver.reservation_id\n",
    "    node_name = sliver.name\n",
    "    management_ip = sliver.management_ip\n",
    "    \n",
    "    print(\"Node {0} IP {1}\".format(node_name, management_ip))\n",
    "    \n",
    "    client.connect(management_ip,username='ubuntu',pkey = key)\n",
    "\n",
    "    stdin, stdout, stderr = client.exec_command('echo \\\"' + script + '\\\" > script.sh; chmod +x script.sh; sudo ./script.sh')\n",
    "    #print (stdout.read())\n",
    "    #print (stderr.read())\n",
    "    print ('')\n",
    "    print (str(stdout.read(),'utf-8').replace('\\\\n','\\n'))\n",
    "    #print ('stderr:')\n",
    "    #print (str(stderr.read(),'utf-8').replace('\\\\n','\\n'))\n",
    "\n",
    "    client.close()"
   ]
  },
  {
   "cell_type": "markdown",
   "metadata": {},
   "source": [
    "## Delete Slice"
   ]
  },
  {
   "cell_type": "code",
   "execution_count": null,
   "metadata": {},
   "outputs": [],
   "source": [
    "#status, result = orchestrator_proxy.delete(token=fabric_id_token, slice_id=slice_id)\n",
    "status, result = orchestrator_proxy.delete(token=fabric_id_token, slice_id='dcdb996a-9739-4cb5-b6ee-07753d5fd323')\n",
    "\n",
    "print(\"Response Status {}\".format(status))\n",
    "print(\"Response received {}\".format(result))"
   ]
  }
 ],
 "metadata": {
  "kernelspec": {
   "display_name": "Python 3",
   "language": "python",
   "name": "python3"
  },
  "language_info": {
   "codemirror_mode": {
    "name": "ipython",
    "version": 3
   },
   "file_extension": ".py",
   "mimetype": "text/x-python",
   "name": "python",
   "nbconvert_exporter": "python",
   "pygments_lexer": "ipython3",
   "version": "3.8.6"
  }
 },
 "nbformat": 4,
 "nbformat_minor": 4
}
