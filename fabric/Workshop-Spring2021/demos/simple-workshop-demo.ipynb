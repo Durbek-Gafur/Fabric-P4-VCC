{
 "cells": [
  {
   "cell_type": "markdown",
   "metadata": {},
   "source": [
    "# FABRIC Experimenters Workshop: Jupyter/API Demo\n",
    "\n",
    "\n",
    "## Configure the Environment\n",
    "\n",
    "### Create the FABRIC Proxies\n",
    "\n",
    "The FABRIC API is used via proxy objects that manage conections to the control framework. \n",
    "\n",
    "#### Orchestrator Proxy\n",
    "\n",
    "Manages requests and queries for FABRIC resources. \n",
    "\n",
    "#### Credential Manager Proxy\n",
    "\n",
    "Manages tokens that authorize requests. \n",
    "\n",
    "Fabric uses two kinds of tokens:\n",
    "\n",
    "- Refresh Token: When user logins to Jupyterhub after authenticating against CILogon, an initial refresh token is derived. This token is available as the environment variable `CILOGON_REFRESH_TOKEN` and is used to generate the initial Identity Token. On every refresh, Fabric Refresh Token is changed and updated. each Refresh Token is valid for 24 hours.\n",
    "\n",
    "- Identity Token: The control/measurement framework APIs require an Identity Token. Identity tokens can be gereated from a vailid Refreach Token at any time. Each Identity Token is valid upto an hour.\n",
    "\n",
    "\n",
    "\n",
    "\n",
    "\n"
   ]
  },
  {
   "cell_type": "code",
   "execution_count": 33,
   "metadata": {},
   "outputs": [],
   "source": [
    "import os\n",
    "import json\n",
    "\n",
    "from fabric_cm.credmgr.credmgr_proxy import CredmgrProxy\n",
    "from fabric_cf.orchestrator.orchestrator_proxy import OrchestratorProxy\n",
    "\n",
    "#Create a FABRIC Orchestrator Proxy.\n",
    "orchestrator_proxy = OrchestratorProxy(orchestrator_host=os.environ['FABRIC_ORCHESTRATOR_HOST'])\n",
    "\n",
    "#Create a Credential Manager Proxy \n",
    "credmgr_proxy = CredmgrProxy(credmgr_host=os.environ['FABRIC_CREDMGR_HOST'])\n",
    "\n",
    "#Cofigure SSH Key\n",
    "ssh_key = None\n",
    "with open (\"/home/fabric/.ssh/id_rsa.pub\", \"r\") as myfile:\n",
    "    ssh_key=myfile.read().strip()\n"
   ]
  },
  {
   "cell_type": "markdown",
   "metadata": {},
   "source": [
    "### Save the Initial Refresh Token"
   ]
  },
  {
   "cell_type": "code",
   "execution_count": 34,
   "metadata": {},
   "outputs": [
    {
     "name": "stdout",
     "output_type": "stream",
     "text": [
      "Refresh Token: https://cilogon.org/oauth2/refreshToken/465ee0a8377ab0cbba28620a36d3a9bd/1617633572367\n"
     ]
    }
   ],
   "source": [
    "#Retrieve or set the refresh token (exprires 24 hours after login)\n",
    "fabric_refresh_token=None\n",
    "%store -r fabric_refresh_token\n",
    "if fabric_refresh_token is None:\n",
    "    fabric_refresh_token=os.environ['CILOGON_REFRESH_TOKEN']\n",
    "    %store fabric_refresh_token\n",
    "\n",
    "print(\"Refresh Token: {}\".format(fabric_refresh_token))"
   ]
  },
  {
   "cell_type": "markdown",
   "metadata": {},
   "source": [
    "### Refresh the ID Token\n",
    "\n",
    "ID Tokens exprire one hour after refresh. "
   ]
  },
  {
   "cell_type": "code",
   "execution_count": 35,
   "metadata": {},
   "outputs": [
    {
     "name": "stdout",
     "output_type": "stream",
     "text": [
      "New Refreash Token: https://cilogon.org/oauth2/refreshToken/67c50c1a42290132dbe45018f07dd409/1617633993448\n",
      "\n",
      "New ID Token: eyJ0eXAiOiJKV1QiLCJhbGciOiJSUzI1NiIsImtpZCI6ImI0MTUxNjcyMTExOTFlMmUwNWIyMmI1NGIxZDNiNzY2N2U3NjRhNzQ3NzIyMTg1ZTcyMmU1MmUxNDZmZTQzYWEifQ.eyJlbWFpbCI6InBydXRoQGVtYWlsLnVuYy5lZHUiLCJjZXJ0X3N1YmplY3RfZG4iOiIvREM9b3JnL0RDPWNpbG9nb24vQz1VUy9PPVVuaXZlcnNpdHkgb2YgTm9ydGggQ2Fyb2xpbmEgYXQgQ2hhcGVsIEhpbGwvQ049UGF1bCBSdXRoIEEzMTM3OTg0MSIsImlkcCI6InVybjptYWNlOmluY29tbW9uOnVuYy5lZHUiLCJpZHBfbmFtZSI6IlVuaXZlcnNpdHkgb2YgTm9ydGggQ2Fyb2xpbmEgYXQgQ2hhcGVsIEhpbGwiLCJlcHBuIjoicHJ1dGhAdW5jLmVkdSIsImFmZmlsaWF0aW9uIjoic3RhZmZAdW5jLmVkdTttZW1iZXJAdW5jLmVkdTtlbXBsb3llZUB1bmMuZWR1IiwibmFtZSI6IlBhdWwgUnV0aCIsImFjciI6InVybjpvYXNpczpuYW1lczp0YzpTQU1MOjIuMDphYzpjbGFzc2VzOlBhc3N3b3JkUHJvdGVjdGVkVHJhbnNwb3J0IiwiZW50aXRsZW1lbnQiOiJ1cm46bWFjZTpkaXI6ZW50aXRsZW1lbnQ6Y29tbW9uLWxpYi10ZXJtcyIsImlzcyI6Imh0dHBzOi8vY2lsb2dvbi5vcmciLCJzdWIiOiJodHRwOi8vY2lsb2dvbi5vcmcvc2VydmVyQS91c2Vycy8zMTM3OTg0MSIsImF1ZCI6ImNpbG9nb246L2NsaWVudF9pZC8xZjExZjgyOWVjMWY0ZjIyMzM1OGY0M2IyYzYwN2I4NCIsInRva2VuX2lkIjoiaHR0cHM6Ly9jaWxvZ29uLm9yZy9vYXV0aDIvaWRUb2tlbi9lMGUzM2M5OTZhNjc3OTk5ZDBhYzQ4NDFmMDJhNjk4LzE2MTc2MzI0NDMyNDQiLCJhdXRoX3RpbWUiOiIxNjE3NjMyMDU1IiwiZXhwIjoxNjE3NjM3NTk3LCJpYXQiOjE2MTc2MzM5OTcsInByb2plY3RzIjp7IlN0dWRlbnQgVGVzdGluZyI6WyJncHUiLCJwZWVyaW5nIiwic3R1ZGVudHMiXSwidGVzdCI6W119LCJyb2xlcyI6WyJwcm9qZWN0LWxlYWRzIiwiZmFjaWxpdHktb3BlcmF0b3JzIiwiZmFicmljLWFjdGl2ZS11c2VycyIsImUzZDVkMzcyLTdiMzAtNDZhNS05YjU5LTM5YTFlYzQwNjYwZS1wYyIsImUzZDVkMzcyLTdiMzAtNDZhNS05YjU5LTM5YTFlYzQwNjYwZS1wbyIsImUzZDVkMzcyLTdiMzAtNDZhNS05YjU5LTM5YTFlYzQwNjYwZS1wbSIsIjI1OTY0MjYyLWZhZWUtNGQ0My1iNmJkLTYxZGJhZDUxOTY5Yi1wYyIsIjI1OTY0MjYyLWZhZWUtNGQ0My1iNmJkLTYxZGJhZDUxOTY5Yi1wbyIsIjI1OTY0MjYyLWZhZWUtNGQ0My1iNmJkLTYxZGJhZDUxOTY5Yi1wbSJdLCJzY29wZSI6ImFsbCJ9.GR8au3rw4x2iYbwtqft-I69v_S1X6-GB9mqS2r-kjuxwZmmt2D2Y4wwWwcxUIOO_GOi8qovJ_4JDg3zdD98uTU9jf47sZRJIN_nUticWQ3eolfKzZp5kmOlTZIvY5C57SyIqD_2-OJ-IxQ8b_v8TPflJ_AeJNMR1I6xqZZEekeMrXU4cwCAlL521HUW-t4dri3xOIPhK_5H1ocC4ZPr8aCUbagj27pOGFSOZu4JBg390duO8xMxpxzcYrsDw9GaE5ufk_xSjivBdGGfSBcfO-iNlxJLKEZjGJd8DrRTZlSNma0td6cbu9zLVnILnQpCLMOn6gH32Pn9TbD2nKDKJNywJyyeaymkipHThLxkcCyO_thl9Y2Rv5MaebNsDBoNoKZAnadE_M1FJ6RvNOXBj9MVeaTcxr5HVEdZfqiejWcBpQQewzvYzTNvmwF_SccgzjUoUdFamShAMCppVQ7CcgE8cL9b0Y46QXDlInT_ZKVfuoIxmwffTVKQG-KLrl6cYmviWBRUApJFjqQQrquEfEtroeJOxxq3i58en-Teo916_8ry_hFaBEU494Nk4rUv3vHXYaJDUpSlhBHAQ0geU_jc9B878ZZWf5VT4NQ_YT4e_ASHaQ3YSO-0Ums4biD_BwlD7KZiJwzX-UmlkgEf2S0AgaaprmMkqUBNuweU8fK8\n",
      "Stored 'fabric_refresh_token' (str)\n"
     ]
    }
   ],
   "source": [
    "try:\n",
    "    refresh_res = credmgr_proxy.refresh(project_name='all', scope='all', refresh_token=fabric_refresh_token)\n",
    "\n",
    "    fabric_id_token=refresh_res['id_token']\n",
    "    fabric_refresh_token=refresh_res['refresh_token']\n",
    "    print(\"New Refreash Token: {}\\n\".format(fabric_refresh_token))\n",
    "    print(\"New ID Token: {}\".format(fabric_id_token))\n",
    "    %store fabric_refresh_token\n",
    "\n",
    "except Exception as e:\n",
    "    print(\"Exception occurred while getting tokens:{}\".format(e))\n",
    "    \n"
   ]
  },
  {
   "cell_type": "markdown",
   "metadata": {},
   "source": [
    "## Query Resource Availabiliy \n",
    "\n",
    "### Get Advertisment from Proxy"
   ]
  },
  {
   "cell_type": "code",
   "execution_count": 36,
   "metadata": {},
   "outputs": [
    {
     "name": "stdout",
     "output_type": "stream",
     "text": [
      "Status: Status.OK\n",
      "Toplogy: LBNL: { cpu: 6/6, core: 96/96, ram: 1536/1536G, disk: 109600/109600G, unit: 3/3, }\n",
      "\tComponents:\n",
      "\t\tNVME-P4510:  NVME P4510 { disk: 10000/10000G, unit: 10/10, }\n",
      "\t\tGPU-RTX6000:  GPU RTX6000 { unit: 2/2, }\n",
      "\t\tGPU-Tesla T4:  GPU Tesla T4 { unit: 4/4, }\n",
      "\t\tSharedNIC-ConnectX-6:  SharedNIC ConnectX-6 { unit: 3/3, }\n",
      "\t\tSmartNIC-ConnectX-6:  SmartNIC ConnectX-6 { unit: 2/2, }\n",
      "\t\tSmartNIC-ConnectX-5:  SmartNIC ConnectX-5 { unit: 2/2, }\n",
      "\tSite Interfaces:\n",
      "RENC: { cpu: 6/6, core: 96/96, ram: 1536/1536G, disk: 109600/109600G, unit: 3/3, }\n",
      "\tComponents:\n",
      "\t\tGPU-RTX6000:  GPU RTX6000 { unit: 2/2, }\n",
      "\t\tGPU-Tesla T4:  GPU Tesla T4 { unit: 4/4, }\n",
      "\t\tSharedNIC-ConnectX-6:  SharedNIC ConnectX-6 { unit: 3/3, }\n",
      "\t\tSmartNIC-ConnectX-6:  SmartNIC ConnectX-6 { unit: 2/2, }\n",
      "\t\tSmartNIC-ConnectX-5:  SmartNIC ConnectX-5 { unit: 2/2, }\n",
      "\t\tNVME-P4510:  NVME P4510 { disk: 10000/10000G, unit: 10/10, }\n",
      "\tSite Interfaces:\n",
      "UKY: { cpu: 6/6, core: 96/96, ram: 1536/1536G, disk: 109600/109600G, unit: 3/3, }\n",
      "\tComponents:\n",
      "\t\tNVME-P4510:  NVME P4510 { disk: 10000/10000G, unit: 10/10, }\n",
      "\t\tGPU-RTX6000:  GPU RTX6000 { unit: 2/2, }\n",
      "\t\tGPU-Tesla T4:  GPU Tesla T4 { unit: 4/4, }\n",
      "\t\tSharedNIC-ConnectX-6:  SharedNIC ConnectX-6 { unit: 3/3, }\n",
      "\t\tSmartNIC-ConnectX-6:  SmartNIC ConnectX-6 { unit: 2/2, }\n",
      "\t\tSmartNIC-ConnectX-5:  SmartNIC ConnectX-5 { unit: 2/2, }\n",
      "\tSite Interfaces:\n",
      "Links:\n"
     ]
    }
   ],
   "source": [
    "status, advertised_topology = orchestrator_proxy.resources(token=fabric_id_token)\n",
    "\n",
    "print(f\"Status: {status}\")\n",
    "print(f\"Toplogy: {advertised_topology}\")"
   ]
  },
  {
   "cell_type": "markdown",
   "metadata": {},
   "source": [
    "### Display Resource Topology"
   ]
  },
  {
   "cell_type": "code",
   "execution_count": 37,
   "metadata": {},
   "outputs": [
    {
     "data": {
      "image/png": "[encoded data removed]",
      "text/plain": [
       "<Figure size 432x288 with 1 Axes>"
      ]
     },
     "metadata": {},
     "output_type": "display_data"
    }
   ],
   "source": [
    "advertised_topology.draw()"
   ]
  },
  {
   "cell_type": "markdown",
   "metadata": {},
   "source": [
    "## Build Slice Request\n",
    "\n",
    "\n",
    "<img src=\"./figs/node.png\" width=\"40%\"><br>\n",
    "\n"
   ]
  },
  {
   "cell_type": "code",
   "execution_count": 38,
   "metadata": {},
   "outputs": [],
   "source": [
    "import fim.user as fu\n",
    "\n",
    "# Create Experiment Topology\n",
    "experiemnt = fu.ExperimentTopology()\n",
    "\n",
    "slice_name=\"DemoSlice\""
   ]
  },
  {
   "cell_type": "code",
   "execution_count": 39,
   "metadata": {},
   "outputs": [],
   "source": [
    "# Add Node with: GPU: 1xSharedConnectX-6, 2xRTX6000, 2xP4510\n",
    "node1 = experiemnt.add_node(name='node1', site='RENC')\n",
    "\n",
    "node1_capacity = fu.Capacities()\n",
    "node1_capacity.set_fields(core=2, ram=16, disk=100)\n",
    "node1.set_properties(capacities=node1_capacity, image_type='qcow2', image_ref='default_ubuntu_20')\n",
    "\n",
    "node1_nvme = node1.add_component(ctype=fu.ComponentType.NVME, model='P4510', name='n1_nvme')\n",
    "node1_gpu  = node1.add_component(ctype=fu.ComponentType.GPU, model='RTX6000', name='n1_gpu')\n",
    "node1_nic = node1.add_component(ctype=fu.ComponentType.SharedNIC, model='ConnectX-6', name='n1_nic')"
   ]
  },
  {
   "cell_type": "code",
   "execution_count": 40,
   "metadata": {},
   "outputs": [],
   "source": [
    "# Add Node with: FastNet: 1xSharedConnectX-6, 2xConnectX-5, 2xT4, 4xP4510\n",
    "node2 = experiemnt.add_node(name='node2', site='LBNL')\n",
    "\n",
    "node2_capacity = fu.Capacities()\n",
    "node2_capacity.set_fields(core=4, ram=32, disk=200)\n",
    "node2.set_properties(capacities=node2_capacity, image_type='qcow2', image_ref='default_ubuntu_20')\n",
    "\n",
    "node2_nvme = node2.add_component(ctype=fu.ComponentType.NVME, model='P4510', name='n2_nvme')\n",
    "node2_gpu  = node2.add_component(ctype=fu.ComponentType.GPU, model='RTX6000', name='n2_gpu')\n",
    "node2_nic  = node2.add_component(ctype=fu.ComponentType.SharedNIC, model='ConnectX-6', name='n2_nic')\n",
    "#node2_nvme = node2.add_component(ctype=fu.ComponentType.SmartNIC, model='ConnectX-5', name='n2_nic2')"
   ]
  },
  {
   "cell_type": "code",
   "execution_count": 41,
   "metadata": {},
   "outputs": [],
   "source": [
    "# Add Node with: SlowNet: 2xConnectX-6, 2xT4, 4xP4510\n",
    "node3 = experiemnt.add_node(name='node3', site='UKY')\n",
    "\n",
    "node3_capacity = fu.Capacities()\n",
    "node3_capacity.set_fields(core=8, ram=64, disk=500)\n",
    "node3.set_properties(capacities=node3_capacity, image_type='qcow2', image_ref='default_ubuntu_20')\n",
    "\n",
    "node3_nvme = node3.add_component(ctype=fu.ComponentType.NVME, model='P4510', name='n3_nvme')\n",
    "node3_gpu  = node3.add_component(ctype=fu.ComponentType.GPU, model='Tesla T4', name='n3_gpu')\n",
    "node3_nic  = node3.add_component(ctype=fu.ComponentType.SharedNIC, model='ConnectX-6', name='n3_nic')\n",
    "#node3_nvme = node3.add_component(ctype=fu.ComponentType.SmartNIC, model='ConnectX-5', name='n3_nic2')"
   ]
  },
  {
   "cell_type": "code",
   "execution_count": 42,
   "metadata": {},
   "outputs": [
    {
     "data": {
      "image/png": "[encoded data removed]",
      "text/plain": [
       "<Figure size 432x288 with 1 Axes>"
      ]
     },
     "metadata": {},
     "output_type": "display_data"
    }
   ],
   "source": [
    "# Generate Slice Graph\n",
    "#slice_graph = t.serialize()\n",
    "experiemnt.draw()"
   ]
  },
  {
   "cell_type": "markdown",
   "metadata": {},
   "source": [
    "## Submit the Request"
   ]
  },
  {
   "cell_type": "code",
   "execution_count": 43,
   "metadata": {},
   "outputs": [
    {
     "name": "stdout",
     "output_type": "stream",
     "text": [
      "Request Status.OK\n",
      "Reservations: [{\n",
      "    \"graph_node_id\": \"c29a54f2-0ab6-40ed-8624-193baea6bb66\",\n",
      "    \"join_state\": \"None_\",\n",
      "    \"lease_end\": \"2021-04-06 14:46:54\",\n",
      "    \"reservation_id\": \"f8718ebe-536e-4eee-b5e1-163b04d2c658\",\n",
      "    \"reservation_state\": \"Unknown\",\n",
      "    \"resource_type\": \"VM\",\n",
      "    \"slice_id\": \"b15d46a5-c46d-406a-8157-4f2ae4ca0e09\"\n",
      "}, {\n",
      "    \"graph_node_id\": \"8cd4fbae-d136-4d89-89a5-27586e77d85a\",\n",
      "    \"join_state\": \"None_\",\n",
      "    \"lease_end\": \"2021-04-06 14:46:54\",\n",
      "    \"reservation_id\": \"e4842adf-d7e0-4538-b9ec-ed3d648fc4e3\",\n",
      "    \"reservation_state\": \"Unknown\",\n",
      "    \"resource_type\": \"VM\",\n",
      "    \"slice_id\": \"b15d46a5-c46d-406a-8157-4f2ae4ca0e09\"\n",
      "}, {\n",
      "    \"graph_node_id\": \"e7f1da4d-c594-44a0-bcea-f7f69401098e\",\n",
      "    \"join_state\": \"None_\",\n",
      "    \"lease_end\": \"2021-04-06 14:46:54\",\n",
      "    \"reservation_id\": \"f27d9b57-9546-4e81-8fe9-8070f88299a3\",\n",
      "    \"reservation_state\": \"Unknown\",\n",
      "    \"resource_type\": \"VM\",\n",
      "    \"slice_id\": \"b15d46a5-c46d-406a-8157-4f2ae4ca0e09\"\n",
      "}]\n",
      "Slice ID: b15d46a5-c46d-406a-8157-4f2ae4ca0e09\n"
     ]
    }
   ],
   "source": [
    "slice_graph = experiemnt.serialize()\n",
    "\n",
    "# Request slice from Orchestrator\n",
    "status, reservations = orchestrator_proxy.create(token=fabric_id_token, slice_name=slice_name, slice_graph=slice_graph, ssh_key=ssh_key)\n",
    "\n",
    "\n",
    "print(\"Request {}\".format(status))\n",
    "slice_id=reservations[0].slice_id\n",
    "\n",
    "print(\"Reservations: {}\".format(reservations))\n",
    "print(\"Slice ID: {}\".format(slice_id))"
   ]
  },
  {
   "cell_type": "markdown",
   "metadata": {},
   "source": [
    "## Query Slices"
   ]
  },
  {
   "cell_type": "code",
   "execution_count": 44,
   "metadata": {},
   "outputs": [
    {
     "name": "stdout",
     "output_type": "stream",
     "text": [
      "Response Status Status.OK\n",
      "Slices [{\n",
      "    \"graph_id\": \"c28a0888-9469-4cee-92f9-3232f793f19d\",\n",
      "    \"slice_id\": \"b15d46a5-c46d-406a-8157-4f2ae4ca0e09\",\n",
      "    \"slice_name\": \"DemoSlice\",\n",
      "    \"slice_state\": \"Configuring\"\n",
      "}]\n"
     ]
    }
   ],
   "source": [
    "status, slices = orchestrator_proxy.slices(token=fabric_id_token)\n",
    "\n",
    "print(\"Response Status {}\".format(status))\n",
    "print(\"Slices {}\".format(slices))"
   ]
  },
  {
   "cell_type": "markdown",
   "metadata": {},
   "source": [
    "## Slice Status"
   ]
  },
  {
   "cell_type": "code",
   "execution_count": 45,
   "metadata": {},
   "outputs": [
    {
     "name": "stdout",
     "output_type": "stream",
     "text": [
      "Slice State: Configuring\n",
      "Slice State: Configuring\n",
      "Slice State: Configuring\n",
      "Slice State: Configuring\n",
      "Slice State: Configuring\n",
      "Slice State: Configuring\n",
      "Slice State: Configuring\n",
      "Slice State: Configuring\n",
      "Slice State: Configuring\n",
      "Response Status Status.OK\n",
      "Slice Status {\n",
      "    \"graph_id\": \"c28a0888-9469-4cee-92f9-3232f793f19d\",\n",
      "    \"slice_id\": \"b15d46a5-c46d-406a-8157-4f2ae4ca0e09\",\n",
      "    \"slice_name\": \"DemoSlice\",\n",
      "    \"slice_state\": \"StableOK\"\n",
      "}\n"
     ]
    }
   ],
   "source": [
    "import time\n",
    "\n",
    "slice_state=None\n",
    "while slice_state != 'StableOK':\n",
    "    status, slice_status = orchestrator_proxy.slice_status(token=fabric_id_token, slice_id=slice_id)\n",
    "    slice_state = slice_status.slice_state\n",
    "    print(\"Slice State: {}\".format(slices[0].slice_state))\n",
    "    time.sleep(20)\n",
    "\n",
    "#status, slice_status = orchestrator_proxy.slice_status(token=fabric_id_token, slice_id=slice_id)\n",
    "\n",
    "print(\"Response Status {}\".format(status))\n",
    "print(\"Slice Status {}\".format(slice_status))"
   ]
  },
  {
   "cell_type": "markdown",
   "metadata": {},
   "source": [
    "## Query Slivers"
   ]
  },
  {
   "cell_type": "code",
   "execution_count": 46,
   "metadata": {},
   "outputs": [
    {
     "name": "stdout",
     "output_type": "stream",
     "text": [
      "Response Status Status.OK\n",
      "Slivers [{\n",
      "    \"graph_node_id\": \"c29a54f2-0ab6-40ed-8624-193baea6bb66\",\n",
      "    \"join_state\": \"None_\",\n",
      "    \"lease_end\": \"2021-04-06 14:46:54\",\n",
      "    \"reservation_id\": \"f8718ebe-536e-4eee-b5e1-163b04d2c658\",\n",
      "    \"reservation_state\": \"Unknown\",\n",
      "    \"resource_type\": \"VM\",\n",
      "    \"slice_id\": \"b15d46a5-c46d-406a-8157-4f2ae4ca0e09\"\n",
      "}, {\n",
      "    \"graph_node_id\": \"8cd4fbae-d136-4d89-89a5-27586e77d85a\",\n",
      "    \"join_state\": \"None_\",\n",
      "    \"lease_end\": \"2021-04-06 14:46:54\",\n",
      "    \"reservation_id\": \"e4842adf-d7e0-4538-b9ec-ed3d648fc4e3\",\n",
      "    \"reservation_state\": \"Unknown\",\n",
      "    \"resource_type\": \"VM\",\n",
      "    \"slice_id\": \"b15d46a5-c46d-406a-8157-4f2ae4ca0e09\"\n",
      "}, {\n",
      "    \"graph_node_id\": \"e7f1da4d-c594-44a0-bcea-f7f69401098e\",\n",
      "    \"join_state\": \"None_\",\n",
      "    \"lease_end\": \"2021-04-06 14:46:54\",\n",
      "    \"reservation_id\": \"f27d9b57-9546-4e81-8fe9-8070f88299a3\",\n",
      "    \"reservation_state\": \"Unknown\",\n",
      "    \"resource_type\": \"VM\",\n",
      "    \"slice_id\": \"b15d46a5-c46d-406a-8157-4f2ae4ca0e09\"\n",
      "}]\n"
     ]
    }
   ],
   "source": [
    "status, slivers = orchestrator_proxy.slivers(token=fabric_id_token, slice_id=slice_id)\n",
    "\n",
    "print(\"Response Status {}\".format(status))\n",
    "print(\"Slivers {}\".format(reservations))"
   ]
  },
  {
   "cell_type": "markdown",
   "metadata": {},
   "source": [
    "## Sliver Status"
   ]
  },
  {
   "cell_type": "code",
   "execution_count": 47,
   "metadata": {},
   "outputs": [
    {
     "name": "stdout",
     "output_type": "stream",
     "text": [
      "Response Status Status.OK\n",
      "Reservation Status {\n",
      "    \"capacities\": \"{\\\"core\\\": 8, \\\"disk\\\": 500, \\\"ram\\\": 64}\",\n",
      "    \"graph_node_id\": \"e7f1da4d-c594-44a0-bcea-f7f69401098e\",\n",
      "    \"join_state\": \"NoJoin\",\n",
      "    \"labels\": \"\",\n",
      "    \"lease_end\": \"2021-04-06 14:46:54\",\n",
      "    \"management_ip\": \"128.163.179.25\",\n",
      "    \"name\": \"node3\",\n",
      "    \"notices\": \"Reservation f27d9b57-9546-4e81-8fe9-8070f88299a3 (Slice DemoSlice(b15d46a5-c46d-406a-8157-4f2ae4ca0e09) Graph Id:c28a0888-9469-4cee-92f9-3232f793f19d ) is in state [Active,None_]\\n\\nLast ticket update: \\nTicket events: \\nLast ticket update: \\nTicket events: \",\n",
      "    \"reservation_id\": \"f27d9b57-9546-4e81-8fe9-8070f88299a3\",\n",
      "    \"reservation_state\": \"Active\",\n",
      "    \"resource_type\": \"VM\",\n",
      "    \"site\": \"UKY\",\n",
      "    \"slice_id\": \"b15d46a5-c46d-406a-8157-4f2ae4ca0e09\"\n",
      "}\n",
      "Response Status Status.OK\n",
      "Reservation Status {\n",
      "    \"capacities\": \"{\\\"core\\\": 4, \\\"disk\\\": 200, \\\"ram\\\": 32}\",\n",
      "    \"graph_node_id\": \"8cd4fbae-d136-4d89-89a5-27586e77d85a\",\n",
      "    \"join_state\": \"NoJoin\",\n",
      "    \"labels\": \"\",\n",
      "    \"lease_end\": \"2021-04-06 14:46:54\",\n",
      "    \"management_ip\": \"198.129.61.37\",\n",
      "    \"name\": \"node2\",\n",
      "    \"notices\": \"Reservation e4842adf-d7e0-4538-b9ec-ed3d648fc4e3 (Slice DemoSlice(b15d46a5-c46d-406a-8157-4f2ae4ca0e09) Graph Id:c28a0888-9469-4cee-92f9-3232f793f19d ) is in state [Active,None_]\\n\\nLast ticket update: \\nTicket events: \\nLast ticket update: \\nTicket events: \",\n",
      "    \"reservation_id\": \"e4842adf-d7e0-4538-b9ec-ed3d648fc4e3\",\n",
      "    \"reservation_state\": \"Active\",\n",
      "    \"resource_type\": \"VM\",\n",
      "    \"site\": \"LBNL\",\n",
      "    \"slice_id\": \"b15d46a5-c46d-406a-8157-4f2ae4ca0e09\"\n",
      "}\n",
      "Response Status Status.OK\n",
      "Reservation Status {\n",
      "    \"capacities\": \"{\\\"core\\\": 2, \\\"disk\\\": 100, \\\"ram\\\": 16}\",\n",
      "    \"graph_node_id\": \"c29a54f2-0ab6-40ed-8624-193baea6bb66\",\n",
      "    \"join_state\": \"NoJoin\",\n",
      "    \"labels\": \"\",\n",
      "    \"lease_end\": \"2021-04-06 14:46:54\",\n",
      "    \"management_ip\": \"152.54.15.40\",\n",
      "    \"name\": \"node1\",\n",
      "    \"notices\": \"Reservation f8718ebe-536e-4eee-b5e1-163b04d2c658 (Slice DemoSlice(b15d46a5-c46d-406a-8157-4f2ae4ca0e09) Graph Id:c28a0888-9469-4cee-92f9-3232f793f19d ) is in state [Active,None_]\\n\\nLast ticket update: \\nTicket events: \\nLast ticket update: \\nTicket events: \",\n",
      "    \"reservation_id\": \"f8718ebe-536e-4eee-b5e1-163b04d2c658\",\n",
      "    \"reservation_state\": \"Active\",\n",
      "    \"resource_type\": \"VM\",\n",
      "    \"site\": \"RENC\",\n",
      "    \"slice_id\": \"b15d46a5-c46d-406a-8157-4f2ae4ca0e09\"\n",
      "}\n"
     ]
    }
   ],
   "source": [
    "for sliver in slivers:\n",
    "    sliver_id=sliver.reservation_id\n",
    "    status, reservation_status = orchestrator_proxy.sliver_status(token=fabric_id_token, slice_id=slice_id, sliver_id=sliver_id)\n",
    "\n",
    "    print(\"Response Status {}\".format(status))\n",
    "    print(\"Reservation Status {}\".format(reservation_status))"
   ]
  },
  {
   "cell_type": "markdown",
   "metadata": {},
   "source": [
    "## Delete Slice"
   ]
  },
  {
   "cell_type": "code",
   "execution_count": 51,
   "metadata": {},
   "outputs": [
    {
     "name": "stdout",
     "output_type": "stream",
     "text": [
      "Response Status Status.OK\n",
      "Response received {'value': None}\n"
     ]
    }
   ],
   "source": [
    "status, result = orchestrator_proxy.delete(token=fabric_id_token, slice_id=slice_id)\n",
    "#status, result = orchestrator_proxy.delete(token=fabric_id_token, slice_id='ed126ff2-7c36-4524-8880-ba6fcf04b86b')\n",
    "\n",
    "print(\"Response Status {}\".format(status))\n",
    "print(\"Response received {}\".format(result))"
   ]
  },
  {
   "cell_type": "markdown",
   "metadata": {},
   "source": [
    "## Check out your new node"
   ]
  },
  {
   "cell_type": "code",
   "execution_count": 48,
   "metadata": {},
   "outputs": [],
   "source": [
    "script= '#!/bin/bash  \\n' \\\n",
    "        'lspci  \\n'"
   ]
  },
  {
   "cell_type": "code",
   "execution_count": 49,
   "metadata": {},
   "outputs": [
    {
     "name": "stdout",
     "output_type": "stream",
     "text": [
      "Node node3 IP 128.163.179.25\n",
      "\n",
      "00:00.0 Host bridge: Intel Corporation 440FX - 82441FX PMC [Natoma] (rev 02)\n",
      "00:01.0 ISA bridge: Intel Corporation 82371SB PIIX3 ISA [Natoma/Triton II]\n",
      "00:01.1 IDE interface: Intel Corporation 82371SB PIIX3 IDE [Natoma/Triton II]\n",
      "00:01.2 USB controller: Intel Corporation 82371SB PIIX3 USB [Natoma/Triton II] (rev 01)\n",
      "00:01.3 Bridge: Intel Corporation 82371AB/EB/MB PIIX4 ACPI (rev 03)\n",
      "00:02.0 VGA compatible controller: Cirrus Logic GD 5446\n",
      "00:03.0 Ethernet controller: Red Hat, Inc. Virtio network device\n",
      "00:04.0 SCSI storage controller: Red Hat, Inc. Virtio block device\n",
      "00:05.0 Unclassified device [00ff]: Red Hat, Inc. Virtio memory balloon\n",
      "00:06.0 Unclassified device [00ff]: Red Hat, Inc. Virtio RNG\n",
      "00:07.0 Non-Volatile memory controller: Intel Corporation NVMe Datacenter SSD [3DNAND, Beta Rock Controller]\n",
      "00:08.0 3D controller: NVIDIA Corporation TU104GL [Tesla T4] (rev a1)\n",
      "00:09.0 Ethernet controller: Mellanox Technologies MT28908 Family [ConnectX-6]\n",
      "\n",
      "Node node2 IP 198.129.61.37\n",
      "\n",
      "00:00.0 Host bridge: Intel Corporation 440FX - 82441FX PMC [Natoma] (rev 02)\n",
      "00:01.0 ISA bridge: Intel Corporation 82371SB PIIX3 ISA [Natoma/Triton II]\n",
      "00:01.1 IDE interface: Intel Corporation 82371SB PIIX3 IDE [Natoma/Triton II]\n",
      "00:01.2 USB controller: Intel Corporation 82371SB PIIX3 USB [Natoma/Triton II] (rev 01)\n",
      "00:01.3 Bridge: Intel Corporation 82371AB/EB/MB PIIX4 ACPI (rev 03)\n",
      "00:02.0 VGA compatible controller: Cirrus Logic GD 5446\n",
      "00:03.0 Ethernet controller: Red Hat, Inc. Virtio network device\n",
      "00:04.0 SCSI storage controller: Red Hat, Inc. Virtio block device\n",
      "00:05.0 Unclassified device [00ff]: Red Hat, Inc. Virtio memory balloon\n",
      "00:06.0 Unclassified device [00ff]: Red Hat, Inc. Virtio RNG\n",
      "00:07.0 Non-Volatile memory controller: Intel Corporation NVMe Datacenter SSD [3DNAND, Beta Rock Controller]\n",
      "00:08.0 3D controller: NVIDIA Corporation TU102GL [Quadro RTX 6000/8000] (rev a1)\n",
      "00:09.0 Ethernet controller: Mellanox Technologies MT28908 Family [ConnectX-6]\n",
      "\n",
      "Node node1 IP 152.54.15.40\n",
      "\n",
      "00:00.0 Host bridge: Intel Corporation 440FX - 82441FX PMC [Natoma] (rev 02)\n",
      "00:01.0 ISA bridge: Intel Corporation 82371SB PIIX3 ISA [Natoma/Triton II]\n",
      "00:01.1 IDE interface: Intel Corporation 82371SB PIIX3 IDE [Natoma/Triton II]\n",
      "00:01.2 USB controller: Intel Corporation 82371SB PIIX3 USB [Natoma/Triton II] (rev 01)\n",
      "00:01.3 Bridge: Intel Corporation 82371AB/EB/MB PIIX4 ACPI (rev 03)\n",
      "00:02.0 VGA compatible controller: Cirrus Logic GD 5446\n",
      "00:03.0 Ethernet controller: Red Hat, Inc. Virtio network device\n",
      "00:04.0 SCSI storage controller: Red Hat, Inc. Virtio block device\n",
      "00:05.0 Unclassified device [00ff]: Red Hat, Inc. Virtio memory balloon\n",
      "00:06.0 Unclassified device [00ff]: Red Hat, Inc. Virtio RNG\n",
      "00:07.0 Non-Volatile memory controller: Intel Corporation NVMe Datacenter SSD [3DNAND, Beta Rock Controller]\n",
      "00:08.0 3D controller: NVIDIA Corporation TU102GL [Quadro RTX 6000/8000] (rev a1)\n",
      "00:09.0 Ethernet controller: Mellanox Technologies MT28908 Family [ConnectX-6]\n",
      "\n"
     ]
    }
   ],
   "source": [
    "import paramiko \n",
    "#from scp import SCPClient, SCPException\n",
    "\n",
    "key = paramiko.RSAKey.from_private_key_file(\"/home/fabric/.ssh/id_rsa\")\n",
    "client = paramiko.SSHClient()\n",
    "client.load_system_host_keys()\n",
    "client.set_missing_host_key_policy(paramiko.MissingHostKeyPolicy())\n",
    "\n",
    "client.set_missing_host_key_policy(paramiko.AutoAddPolicy())\n",
    "\n",
    "for sliver in slivers:\n",
    "    sliver_id=sliver.reservation_id\n",
    "    node_name = sliver.name\n",
    "    management_ip = sliver.management_ip\n",
    "    \n",
    "    print(\"Node {0} IP {1}\".format(node_name, management_ip))\n",
    "    \n",
    "    client.connect(management_ip,username='ubuntu',pkey = key)\n",
    "\n",
    "    stdin, stdout, stderr = client.exec_command('echo \\\"' + script + '\\\" > script.sh; chmod +x script.sh; sudo ./script.sh')\n",
    "    #print (stdout.read())\n",
    "    #print (stderr.read())\n",
    "    print ('')\n",
    "    print (str(stdout.read(),'utf-8').replace('\\\\n','\\n'))\n",
    "    #print ('stderr:')\n",
    "    #print (str(stderr.read(),'utf-8').replace('\\\\n','\\n'))\n",
    "\n",
    "    client.close()"
   ]
  },
  {
   "cell_type": "code",
   "execution_count": null,
   "metadata": {},
   "outputs": [],
   "source": []
  }
 ],
 "metadata": {
  "kernelspec": {
   "display_name": "Python 3",
   "language": "python",
   "name": "python3"
  },
  "language_info": {
   "codemirror_mode": {
    "name": "ipython",
    "version": 3
   },
   "file_extension": ".py",
   "mimetype": "text/x-python",
   "name": "python",
   "nbconvert_exporter": "python",
   "pygments_lexer": "ipython3",
   "version": "3.8.6"
  }
 },
 "nbformat": 4,
 "nbformat_minor": 4
}
