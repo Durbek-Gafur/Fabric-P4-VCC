{
 "cells": [
  {
   "cell_type": "markdown",
   "metadata": {},
   "source": [
    "# FABRIC Experimenters Workshop: Jupyter/API Demo\n",
    "\n",
    "\n",
    "## Configure the Environment\n",
    "\n",
    "### Create the FABRIC Proxies\n",
    "\n",
    "The FABRIC API is used via proxy objects that manage connections to the control framework. \n",
    "\n",
    "#### Orchestrator Proxy\n",
    "\n",
    "Manages requests and queries for FABRIC resources. \n",
    "\n",
    "#### Credential Manager Proxy\n",
    "\n",
    "Manages tokens that authorize requests. \n",
    "\n",
    "Fabric uses two kinds of tokens:\n",
    "\n",
    "- Refresh Token: When user logins to Jupyterhub after authenticating against CILogon, an initial refresh token is derived. This token is available as the environment variable `CILOGON_REFRESH_TOKEN` and is used to generate the initial Identity Token. On every refresh, Fabric Refresh Token is changed and updated. Each Refresh Token is valid for 24 hours.\n",
    "\n",
    "- Identity Token: The control/measurement framework APIs require an Identity Token. Identity tokens can be generated from a valid Refresh Token at any time. Each Identity Token is valid upto an hour.\n",
    "\n"
   ]
  },
  {
   "cell_type": "code",
   "execution_count": 1,
   "metadata": {},
   "outputs": [],
   "source": [
    "import os\n",
    "import json\n",
    "\n",
    "from fabric_cm.credmgr.credmgr_proxy import CredmgrProxy\n",
    "from fabric_cf.orchestrator.orchestrator_proxy import OrchestratorProxy\n",
    "\n",
    "#Create a FABRIC Orchestrator Proxy.\n",
    "orchestrator_proxy = OrchestratorProxy(orchestrator_host=os.environ['FABRIC_ORCHESTRATOR_HOST'])\n",
    "\n",
    "#Create a Credential Manager Proxy \n",
    "credmgr_proxy = CredmgrProxy(credmgr_host=os.environ['FABRIC_CREDMGR_HOST'])\n",
    "\n",
    "#Cofigure SSH Key\n",
    "ssh_key = None\n",
    "with open (\"/home/fabric/.ssh/id_rsa.pub\", \"r\") as myfile:\n",
    "    ssh_key=myfile.read().strip()\n"
   ]
  },
  {
   "cell_type": "markdown",
   "metadata": {},
   "source": [
    "### Save the Initial Refresh Token"
   ]
  },
  {
   "cell_type": "code",
   "execution_count": 2,
   "metadata": {},
   "outputs": [
    {
     "name": "stdout",
     "output_type": "stream",
     "text": [
      "Refresh Token: https://cilogon.org/oauth2/refreshToken/470ef542f1fe0d3abb47fd45e9e44429/1617880455180\n"
     ]
    }
   ],
   "source": [
    "#Retrieve or set the refresh token (exprires 24 hours after login)\n",
    "fabric_refresh_token=None\n",
    "%store -r fabric_refresh_token\n",
    "if fabric_refresh_token is None:\n",
    "    fabric_refresh_token=os.environ['CILOGON_REFRESH_TOKEN']\n",
    "    %store fabric_refresh_token\n",
    "\n",
    "print(\"Refresh Token: {}\".format(fabric_refresh_token))"
   ]
  },
  {
   "cell_type": "markdown",
   "metadata": {},
   "source": [
    "### Refresh the ID Token\n",
    "\n",
    "ID Tokens expire one hour after refresh. "
   ]
  },
  {
   "cell_type": "code",
   "execution_count": 45,
   "metadata": {},
   "outputs": [
    {
     "name": "stdout",
     "output_type": "stream",
     "text": [
      "Exception occurred while getting tokens:('INTERNAL SERVER ERROR', '\"(\\\\\"server_error\\\\\"\\\\nerror_description=\\\\\"No transaction found for identifier \\\\\"https://cilogon.org/oauth2/refreshToken/d250626c4d9938462a2f527acfd2ef8/1617880572775\\\\\"\\\\\"\\\\n) \"\\n')\n"
     ]
    }
   ],
   "source": [
    "try:\n",
    "    refresh_res = credmgr_proxy.refresh(project_name='all', scope='all', refresh_token=fabric_refresh_token)\n",
    "\n",
    "    fabric_id_token=refresh_res['id_token']\n",
    "    fabric_refresh_token=refresh_res['refresh_token']\n",
    "    print(\"New Refreash Token: {}\\n\".format(fabric_refresh_token))\n",
    "    print(\"New ID Token: {}\".format(fabric_id_token))\n",
    "    %store fabric_refresh_token\n",
    "\n",
    "except Exception as e:\n",
    "    print(\"Exception occurred while getting tokens:{}\".format(e))\n",
    "    "
   ]
  },
  {
   "cell_type": "markdown",
   "metadata": {},
   "source": [
    "## Getting Help"
   ]
  },
  {
   "cell_type": "code",
   "execution_count": 4,
   "metadata": {},
   "outputs": [
    {
     "name": "stdout",
     "output_type": "stream",
     "text": [
      "Help on class CredmgrProxy in module fabric_cm.credmgr.credmgr_proxy:\n",
      "\n",
      "class CredmgrProxy(builtins.object)\n",
      " |  CredmgrProxy(credmgr_host: str)\n",
      " |  \n",
      " |  Credential Manager Proxy\n",
      " |  \n",
      " |  Methods defined here:\n",
      " |  \n",
      " |  __init__(self, credmgr_host: str)\n",
      " |      Initialize self.  See help(type(self)) for accurate signature.\n",
      " |  \n",
      " |  certs_get(self)\n",
      " |      Return certificates\n",
      " |  \n",
      " |  refresh(self, project_name: str, scope: str, refresh_token: str) -> dict\n",
      " |      Refresh token\n",
      " |      @param project_name project name\n",
      " |      @param scope scope\n",
      " |      @param refresh_token refresh token\n",
      " |      @returns the dictionary containing the tokens\n",
      " |      @raises Exception in case of failure\n",
      " |  \n",
      " |  revoke(self, refresh_token: str) -> str\n",
      " |      Revoke token\n",
      " |      @param refresh_token refresh token\n",
      " |      @returns response\n",
      " |      @raises Exception in case of failure\n",
      " |  \n",
      " |  version_get(self)\n",
      " |      Return Version\n",
      " |  \n",
      " |  ----------------------------------------------------------------------\n",
      " |  Data descriptors defined here:\n",
      " |  \n",
      " |  __dict__\n",
      " |      dictionary for instance variables (if defined)\n",
      " |  \n",
      " |  __weakref__\n",
      " |      list of weak references to the object (if defined)\n",
      "\n"
     ]
    }
   ],
   "source": [
    "help(CredmgrProxy)"
   ]
  },
  {
   "cell_type": "code",
   "execution_count": 5,
   "metadata": {},
   "outputs": [
    {
     "name": "stdout",
     "output_type": "stream",
     "text": [
      "Help on class OrchestratorProxy in module fabric_cf.orchestrator.orchestrator_proxy:\n",
      "\n",
      "class OrchestratorProxy(builtins.object)\n",
      " |  OrchestratorProxy(orchestrator_host: str)\n",
      " |  \n",
      " |  Orchestrator Proxy; must specify the orchestrator host details when instantiating the proxy object\n",
      " |  \n",
      " |  Methods defined here:\n",
      " |  \n",
      " |  __init__(self, orchestrator_host: str)\n",
      " |      Initialize self.  See help(type(self)) for accurate signature.\n",
      " |  \n",
      " |  create(self, *, token: str, slice_name: str, ssh_key: str, topology: fim.user.topology.ExperimentTopology = None, slice_graph: str = None) -> Tuple[fabric_cf.orchestrator.orchestrator_proxy.Status, Union[Exception, List[fabric_cf.orchestrator.elements.reservation.Reservation]]]\n",
      " |      Create a slice\n",
      " |      @param token fabric token\n",
      " |      @param slice_name slice name\n",
      " |      @param topology Experiment topology\n",
      " |      @param slice_graph Slice Graph string\n",
      " |      @return Tuple containing Status and Exception/Json containing slivers created\n",
      " |  \n",
      " |  delete(self, *, token: str, slice_id: str) -> Tuple[fabric_cf.orchestrator.orchestrator_proxy.Status, Union[Exception, dict]]\n",
      " |      Delete a slice\n",
      " |      @param token fabric token\n",
      " |      @param slice_id slice id\n",
      " |      @return Tuple containing Status and Exception/Json containing deletion status\n",
      " |  \n",
      " |  get_slice(self, *, token: str, slice_id: str = None) -> Tuple[fabric_cf.orchestrator.orchestrator_proxy.Status, Union[Exception, fim.user.topology.ExperimentTopology]]\n",
      " |      Get slice\n",
      " |      @param token fabric token\n",
      " |      @param slice_id slice id\n",
      " |      @return Tuple containing Status and Exception/Json containing slice\n",
      " |  \n",
      " |  renew(self, *, token: str, slice_id: str, new_lease_end_time: str) -> Tuple[fabric_cf.orchestrator.orchestrator_proxy.Status, Union[Exception, List, NoneType]]\n",
      " |      Renew a slice\n",
      " |      @param token fabric token\n",
      " |      @param slice_id slice_id\n",
      " |      @param new_lease_end_time new_lease_end_time\n",
      " |      @return Tuple containing Status and List of Reservation Id failed to extend\n",
      " |  \n",
      " |  resources(self, *, token: str, level: int = 1) -> Tuple[fabric_cf.orchestrator.orchestrator_proxy.Status, Union[Exception, fim.user.topology.AdvertizedTopology]]\n",
      " |      Get resources\n",
      " |      @param token fabric token\n",
      " |      @param level level\n",
      " |      @return Tuple containing Status and Exception/Json containing Resources\n",
      " |  \n",
      " |  slice_status(self, *, token: str, slice_id: str) -> Tuple[fabric_cf.orchestrator.orchestrator_proxy.Status, Union[Exception, fabric_cf.orchestrator.elements.slice.Slice]]\n",
      " |      Get slice status\n",
      " |      @param token fabric token\n",
      " |      @param slice_id slice id\n",
      " |      @return Tuple containing Status and Exception/Json containing slice status\n",
      " |  \n",
      " |  slices(self, *, token: str) -> Tuple[fabric_cf.orchestrator.orchestrator_proxy.Status, Union[Exception, List[fabric_cf.orchestrator.elements.slice.Slice]]]\n",
      " |      Get slices\n",
      " |      @param token fabric token\n",
      " |      @return Tuple containing Status and Exception/Json containing slices\n",
      " |  \n",
      " |  sliver_status(self, *, token: str, slice_id: str, sliver_id: str) -> Tuple[fabric_cf.orchestrator.orchestrator_proxy.Status, Union[Exception, fabric_cf.orchestrator.elements.reservation.Reservation]]\n",
      " |      Get slivers\n",
      " |      @param token fabric token\n",
      " |      @param slice_id slice id\n",
      " |      @param sliver_id slice sliver_id\n",
      " |      @return Tuple containing Status and Exception/Json containing Sliver status\n",
      " |  \n",
      " |  slivers(self, *, token: str, slice_id: str, sliver_id: str = None) -> Tuple[fabric_cf.orchestrator.orchestrator_proxy.Status, Union[Exception, List[fabric_cf.orchestrator.elements.reservation.Reservation]]]\n",
      " |      Get slivers\n",
      " |      @param token fabric token\n",
      " |      @param slice_id slice id\n",
      " |      @param sliver_id slice sliver_id\n",
      " |      @return Tuple containing Status and Exception/Json containing Sliver(s)\n",
      " |  \n",
      " |  ----------------------------------------------------------------------\n",
      " |  Data descriptors defined here:\n",
      " |  \n",
      " |  __dict__\n",
      " |      dictionary for instance variables (if defined)\n",
      " |  \n",
      " |  __weakref__\n",
      " |      list of weak references to the object (if defined)\n",
      " |  \n",
      " |  ----------------------------------------------------------------------\n",
      " |  Data and other attributes defined here:\n",
      " |  \n",
      " |  PROP_AUTHORIZATION = 'Authorization'\n",
      " |  \n",
      " |  PROP_BEARER = 'Bearer'\n",
      " |  \n",
      " |  RENEW_TIME_FORMAT = '%Y-%m-%d %H:%M:%S'\n",
      "\n"
     ]
    }
   ],
   "source": [
    "help(OrchestratorProxy)"
   ]
  },
  {
   "cell_type": "markdown",
   "metadata": {},
   "source": [
    "## Query Resource Availability \n",
    "\n",
    "### Get Advertisement from Proxy"
   ]
  },
  {
   "cell_type": "code",
   "execution_count": 6,
   "metadata": {},
   "outputs": [
    {
     "name": "stdout",
     "output_type": "stream",
     "text": [
      "Status: Status.OK\n",
      "Toplogy: LBNL: { cpu: 6/6, core: 92/96, ram: 1504/1536G, disk: 109400/109600G, unit: 3/3, }\n",
      "\tComponents:\n",
      "\t\tNVME-P4510:  NVME P4510 { disk: 10000/10000G, unit: 10/10, }\n",
      "\t\tGPU-RTX6000:  GPU RTX6000 { unit: 2/2, }\n",
      "\t\tGPU-Tesla T4:  GPU Tesla T4 { unit: 2/4, }\n",
      "\t\tSharedNIC-ConnectX-6:  SharedNIC ConnectX-6 { unit: 3/3, }\n",
      "\t\tSmartNIC-ConnectX-6:  SmartNIC ConnectX-6 { unit: 2/2, }\n",
      "\t\tSmartNIC-ConnectX-5:  SmartNIC ConnectX-5 { unit: 0/2, }\n",
      "\tSite Interfaces:\n",
      "RENC: { cpu: 6/6, core: 94/96, ram: 1520/1536G, disk: 109500/109600G, unit: 3/3, }\n",
      "\tComponents:\n",
      "\t\tSmartNIC-ConnectX-5:  SmartNIC ConnectX-5 { unit: 2/2, }\n",
      "\t\tNVME-P4510:  NVME P4510 { disk: 9000/10000G, unit: 9/10, }\n",
      "\t\tGPU-RTX6000:  GPU RTX6000 { unit: 1/2, }\n",
      "\t\tGPU-Tesla T4:  GPU Tesla T4 { unit: 4/4, }\n",
      "\t\tSharedNIC-ConnectX-6:  SharedNIC ConnectX-6 { unit: 2/3, }\n",
      "\t\tSmartNIC-ConnectX-6:  SmartNIC ConnectX-6 { unit: 2/2, }\n",
      "\tSite Interfaces:\n",
      "UKY: { cpu: 6/6, core: 88/96, ram: 1472/1536G, disk: 109100/109600G, unit: 3/3, }\n",
      "\tComponents:\n",
      "\t\tNVME-P4510:  NVME P4510 { disk: 6000/10000G, unit: 6/10, }\n",
      "\t\tGPU-RTX6000:  GPU RTX6000 { unit: 2/2, }\n",
      "\t\tGPU-Tesla T4:  GPU Tesla T4 { unit: 2/4, }\n",
      "\t\tSharedNIC-ConnectX-6:  SharedNIC ConnectX-6 { unit: 3/3, }\n",
      "\t\tSmartNIC-ConnectX-6:  SmartNIC ConnectX-6 { unit: 2/2, }\n",
      "\t\tSmartNIC-ConnectX-5:  SmartNIC ConnectX-5 { unit: 2/2, }\n",
      "\tSite Interfaces:\n",
      "Links:\n"
     ]
    }
   ],
   "source": [
    "status, advertised_topology = orchestrator_proxy.resources(token=fabric_id_token)\n",
    "\n",
    "print(f\"Status: {status}\")\n",
    "print(f\"Toplogy: {advertised_topology}\")"
   ]
  },
  {
   "cell_type": "markdown",
   "metadata": {},
   "source": [
    "### Display Resource Topology"
   ]
  },
  {
   "cell_type": "code",
   "execution_count": 7,
   "metadata": {},
   "outputs": [
    {
     "data": {
      "image/png": "[encoded data removed]",
      "text/plain": [
       "<Figure size 432x288 with 1 Axes>"
      ]
     },
     "metadata": {},
     "output_type": "display_data"
    }
   ],
   "source": [
    "advertised_topology.draw()"
   ]
  },
  {
   "cell_type": "markdown",
   "metadata": {},
   "source": [
    "## Build Slice Request\n",
    "\n",
    "<!---\n",
    "<img src=\"./figs/AllNodes.png\" width=\"90%\"><br>\n",
    "-->\n"
   ]
  },
  {
   "cell_type": "code",
   "execution_count": 28,
   "metadata": {},
   "outputs": [],
   "source": [
    "import fim.user as fu\n",
    "\n",
    "# Create Experiment Topology\n",
    "experiemnt = fu.ExperimentTopology()\n",
    "\n",
    "slice_name=\"DemoSlice\""
   ]
  },
  {
   "cell_type": "code",
   "execution_count": 29,
   "metadata": {},
   "outputs": [
    {
     "name": "stdout",
     "output_type": "stream",
     "text": [
      "Help on class ExperimentTopology in module fim.user.topology:\n",
      "\n",
      "class ExperimentTopology(Topology)\n",
      " |  ExperimentTopology(graph_file: str = None, graph_string: str = None, logger=None)\n",
      " |  \n",
      " |  Define an user topology model, inheriting behavior from Topology class.\n",
      " |  In addition to publicly visible methods the following calls can be made:\n",
      " |  topology.nodes - a read-only dictionary of nodes in the topology\n",
      " |  topology.links - a read-only dictionary of links in the topology\n",
      " |  topology.interface_list - a read-only list of all interfaces of all nodes\n",
      " |  If you want to operate on top of a Neo4j graph, use the cast() method.\n",
      " |  \n",
      " |  Method resolution order:\n",
      " |      ExperimentTopology\n",
      " |      Topology\n",
      " |      abc.ABC\n",
      " |      builtins.object\n",
      " |  \n",
      " |  Methods defined here:\n",
      " |  \n",
      " |  __init__(self, graph_file: str = None, graph_string: str = None, logger=None)\n",
      " |      Initialize self.  See help(type(self)) for accurate signature.\n",
      " |  \n",
      " |  cast(self, *, asm_graph: fim.graph.slices.abc_asm.ABCASMPropertyGraph)\n",
      " |      'Cast' an existing instance of ASM graph into a topology. This can create Neo4j or NetworkX-based\n",
      " |      topology classes\n",
      " |      :param asm_graph:\n",
      " |      :return:\n",
      " |  \n",
      " |  ----------------------------------------------------------------------\n",
      " |  Data and other attributes defined here:\n",
      " |  \n",
      " |  __abstractmethods__ = frozenset()\n",
      " |  \n",
      " |  ----------------------------------------------------------------------\n",
      " |  Methods inherited from Topology:\n",
      " |  \n",
      " |  __getattr__(self, item)\n",
      " |      Special handling for attributes like 'nodes' and 'links' -\n",
      " |      which query into the model. They return dicts and list\n",
      " |      containers. Modifying containers does not affect the underlying\n",
      " |      graph mode, but modifying elements of lists or values of dicts does.\n",
      " |      :param item:\n",
      " |      :return:\n",
      " |  \n",
      " |  __str__(self)\n",
      " |      Print topology in tabulated form - network nodes, their components, interfaces, then print links\n",
      " |      and their interfaces\n",
      " |      :return:\n",
      " |  \n",
      " |  add_link(self, *, name: str, node_id: str = None, ltype: fim.slivers.network_link.LinkType = None, interfaces: List[fim.user.interface.Interface], layer: fim.slivers.switch_fabric.SFLayer = None, technology: str = None, **kwargs) -> fim.user.link.Link\n",
      " |      Add link between listed interfaces with specified parameters\n",
      " |      :param name:\n",
      " |      :param node_id:\n",
      " |      :param ltype:\n",
      " |      :param interfaces:\n",
      " |      :param layer:\n",
      " |      :param technology:\n",
      " |      :param kwargs:\n",
      " |      :return:\n",
      " |  \n",
      " |  add_node(self, *, name: str, node_id: str = None, site: str, ntype: fim.slivers.network_node.NodeType = VM, **kwargs) -> fim.user.node.Node\n",
      " |      Add a network node into the substrate topology. Be sure to hardcode node_id - it should\n",
      " |      be consistent from revision to revision of the topology for the same objects.\n",
      " |      kwargs serve to add parameters to the node\n",
      " |      cpu_cores\n",
      " |      ram_size\n",
      " |      disk_size\n",
      " |      image_type\n",
      " |      image_ref\n",
      " |      :param name:\n",
      " |      :param node_id:\n",
      " |      :param site:\n",
      " |      :param ntype:\n",
      " |      :return:\n",
      " |  \n",
      " |  draw(self, *, file_name: str = None, interactive: bool = False, topo_detail: fim.user.topology.TopologyDetail = <TopologyDetail.Derived: 1>, layout=<function fruchterman_reingold_layout at 0x7fc592996ee0>)\n",
      " |      Use pyplot to draw the topology of specified level of detail.\n",
      " |      :param file_name: save figure to a file (drawing type is determined by extension, e.g. .png)\n",
      " |      :param interactive: use interactive pyplot mode (defaults to False)\n",
      " |      :param topo_detail: level of detail to use in drawing, defaults to Derived\n",
      " |      :param layout: use one of available layout algorithms in NetworkX (defaults to spring_layout)\n",
      " |      :return:\n",
      " |  \n",
      " |  load(self, *, file_name: str = None, graph_string: str = None)\n",
      " |      Load the topology from file or string\n",
      " |      :param file_name:\n",
      " |      :param graph_string:\n",
      " |      :return:\n",
      " |  \n",
      " |  remove_link(self, name: str)\n",
      " |      Remove a link between interfaces\n",
      " |      :param name:\n",
      " |      :return:\n",
      " |  \n",
      " |  remove_node(self, name: str)\n",
      " |      Remove node and all its components, its interfaces and interfaces of components\n",
      " |      :param name:\n",
      " |      :return:\n",
      " |  \n",
      " |  serialize(self, file_name=None) -> str\n",
      " |      Serialize to string or to file, depending on whether file_name\n",
      " |      is provided.\n",
      " |      :param file_name:\n",
      " |      :return string containing GraphML if file_name is None:\n",
      " |  \n",
      " |  ----------------------------------------------------------------------\n",
      " |  Data descriptors inherited from Topology:\n",
      " |  \n",
      " |  __dict__\n",
      " |      dictionary for instance variables (if defined)\n",
      " |  \n",
      " |  __weakref__\n",
      " |      list of weak references to the object (if defined)\n",
      "\n"
     ]
    }
   ],
   "source": [
    "help(fu.ExperimentTopology)"
   ]
  },
  {
   "cell_type": "markdown",
   "metadata": {},
   "source": [
    "### Add Node1 at RENC\n",
    "<img src=\"./figs/Node1.png\" width=\"40%\"><br>"
   ]
  },
  {
   "cell_type": "code",
   "execution_count": 30,
   "metadata": {},
   "outputs": [],
   "source": [
    "# Add Node1 with: GPU: 1xSharedConnectX-6, 1xRTX6000, 1xP4510\n",
    "node1 = experiemnt.add_node(name='node1', site='RENC')\n",
    "\n",
    "node1_capacity = fu.Capacities()\n",
    "node1_capacity.set_fields(core=2, ram=16, disk=100)\n",
    "node1.set_properties(capacities=node1_capacity, image_type='qcow2', image_ref='default_ubuntu_20')\n",
    "\n",
    "node1_nvme = node1.add_component(ctype=fu.ComponentType.NVME, model='P4510', name='n1_nvme')\n",
    "node1_gpu  = node1.add_component(ctype=fu.ComponentType.GPU, model='RTX6000', name='n1_gpu')\n",
    "node1_nic = node1.add_component(ctype=fu.ComponentType.SharedNIC, model='ConnectX-6', name='n1_nic')"
   ]
  },
  {
   "cell_type": "markdown",
   "metadata": {},
   "source": [
    "### Add Node2 at LBNL\n",
    "<img src=\"./figs/Node2.png\" width=\"40%\"><br>"
   ]
  },
  {
   "cell_type": "code",
   "execution_count": 31,
   "metadata": {},
   "outputs": [],
   "source": [
    "# Add Node2 with: FastNet: 2xConnectX-5, 2xT4\n",
    "node2 = experiemnt.add_node(name='node2', site='LBNL')\n",
    "\n",
    "node2_capacity = fu.Capacities()\n",
    "node2_capacity.set_fields(core=4, ram=32, disk=200)\n",
    "node2.set_properties(capacities=node2_capacity, image_type='qcow2', image_ref='default_ubuntu_20')\n",
    "\n",
    "node2_gpu1  = node2.add_component(ctype=fu.ComponentType.GPU, model='Tesla T4', name='n2_gpu1')\n",
    "node2_gpu2  = node2.add_component(ctype=fu.ComponentType.GPU, model='Tesla T4', name='n2_gpu2')\n",
    "node2_nvme1 = node2.add_component(ctype=fu.ComponentType.SmartNIC, model='ConnectX-5', name='n2_nic1')\n",
    "node2_nvme2 = node2.add_component(ctype=fu.ComponentType.SmartNIC, model='ConnectX-5', name='n2_nic2')"
   ]
  },
  {
   "cell_type": "markdown",
   "metadata": {},
   "source": [
    "### Add Node3 at UKY\n",
    "<img src=\"./figs/Node3.png\" width=\"40%\"><br>"
   ]
  },
  {
   "cell_type": "code",
   "execution_count": 32,
   "metadata": {},
   "outputs": [],
   "source": [
    "# Add Node with: SlowNet: 1xConnectX-6, 2xT4, 4xP4510\n",
    "node3 = experiemnt.add_node(name='node3', site='UKY')\n",
    "\n",
    "node3_capacity = fu.Capacities()\n",
    "node3_capacity.set_fields(core=8, ram=64, disk=500)\n",
    "node3.set_properties(capacities=node3_capacity, image_type='qcow2', image_ref='default_ubuntu_20')\n",
    "\n",
    "node3_nvme1 = node3.add_component(ctype=fu.ComponentType.NVME, model='P4510', name='n3_nvme1')\n",
    "node3_nvme2 = node3.add_component(ctype=fu.ComponentType.NVME, model='P4510', name='n3_nvme2')\n",
    "node3_nvme3 = node3.add_component(ctype=fu.ComponentType.NVME, model='P4510', name='n3_nvme3')\n",
    "node3_nvme4 = node3.add_component(ctype=fu.ComponentType.NVME, model='P4510', name='n3_nvme4')\n",
    "node3_gpu1  = node3.add_component(ctype=fu.ComponentType.GPU, model='Tesla T4', name='n3_gpu1')\n",
    "node3_gpu2  = node3.add_component(ctype=fu.ComponentType.GPU, model='Tesla T4', name='n3_gpu2')\n",
    "#node3_nic1 = node3.add_component(ctype=fu.ComponentType.SharedNIC, model='ConnectX-6', name='n3_nic1')"
   ]
  },
  {
   "cell_type": "code",
   "execution_count": 33,
   "metadata": {},
   "outputs": [
    {
     "data": {
      "image/png": "[encoded data removed]",
      "text/plain": [
       "<Figure size 432x288 with 1 Axes>"
      ]
     },
     "metadata": {},
     "output_type": "display_data"
    }
   ],
   "source": [
    "# Generate Slice Graph\n",
    "#slice_graph = t.serialize()\n",
    "experiemnt.draw()"
   ]
  },
  {
   "cell_type": "markdown",
   "metadata": {},
   "source": [
    "## Submit the Request"
   ]
  },
  {
   "cell_type": "code",
   "execution_count": 34,
   "metadata": {},
   "outputs": [
    {
     "name": "stdout",
     "output_type": "stream",
     "text": [
      "Request Status.OK\n",
      "Reservations: [{\n",
      "    \"graph_node_id\": \"f9288304-bc43-4438-a9b7-9433377425a3\",\n",
      "    \"join_state\": \"None_\",\n",
      "    \"lease_end\": \"2021-04-09 11:24:31\",\n",
      "    \"reservation_id\": \"2d5adf14-96b7-4f07-9c36-c639d39bc043\",\n",
      "    \"reservation_state\": \"Unknown\",\n",
      "    \"resource_type\": \"VM\",\n",
      "    \"slice_id\": \"a2d1e1a1-8e0e-45b2-875d-d000cfde6fb0\"\n",
      "}, {\n",
      "    \"graph_node_id\": \"2cb35a82-7347-4f8d-a415-5748139502a7\",\n",
      "    \"join_state\": \"None_\",\n",
      "    \"lease_end\": \"2021-04-09 11:24:31\",\n",
      "    \"reservation_id\": \"d09a7c96-1c39-4297-8be5-b068d165f468\",\n",
      "    \"reservation_state\": \"Unknown\",\n",
      "    \"resource_type\": \"VM\",\n",
      "    \"slice_id\": \"a2d1e1a1-8e0e-45b2-875d-d000cfde6fb0\"\n",
      "}, {\n",
      "    \"graph_node_id\": \"6b631617-10c8-4c6c-8675-344e9c17740f\",\n",
      "    \"join_state\": \"None_\",\n",
      "    \"lease_end\": \"2021-04-09 11:24:31\",\n",
      "    \"reservation_id\": \"8873450a-b3f4-4402-b998-34ab89bb8733\",\n",
      "    \"reservation_state\": \"Unknown\",\n",
      "    \"resource_type\": \"VM\",\n",
      "    \"slice_id\": \"a2d1e1a1-8e0e-45b2-875d-d000cfde6fb0\"\n",
      "}]\n",
      "Slice ID: a2d1e1a1-8e0e-45b2-875d-d000cfde6fb0\n"
     ]
    }
   ],
   "source": [
    "slice_graph = experiemnt.serialize()\n",
    "\n",
    "# Request slice from Orchestrator\n",
    "status, reservations = orchestrator_proxy.create(token=fabric_id_token, slice_name=slice_name, slice_graph=slice_graph, ssh_key=ssh_key)\n",
    "\n",
    "\n",
    "print(\"Request {}\".format(status))\n",
    "slice_id=reservations[0].slice_id\n",
    "\n",
    "print(\"Reservations: {}\".format(reservations))\n",
    "print(\"Slice ID: {}\".format(slice_id))"
   ]
  },
  {
   "cell_type": "markdown",
   "metadata": {},
   "source": [
    "## Query Slices"
   ]
  },
  {
   "cell_type": "code",
   "execution_count": 37,
   "metadata": {},
   "outputs": [
    {
     "name": "stdout",
     "output_type": "stream",
     "text": [
      "Response Status Status.OK\n",
      "Slices [{\n",
      "    \"graph_id\": \"c19ffdf2-36e5-4bf7-adcc-be4ba7c57dbe\",\n",
      "    \"slice_id\": \"a2d1e1a1-8e0e-45b2-875d-d000cfde6fb0\",\n",
      "    \"slice_name\": \"DemoSlice\",\n",
      "    \"slice_state\": \"StableOK\"\n",
      "}]\n"
     ]
    }
   ],
   "source": [
    "status, slices = orchestrator_proxy.slices(token=fabric_id_token)\n",
    "\n",
    "print(\"Response Status {}\".format(status))\n",
    "print(\"Slices {}\".format(slices))"
   ]
  },
  {
   "cell_type": "markdown",
   "metadata": {},
   "source": [
    "## Slice Status"
   ]
  },
  {
   "cell_type": "code",
   "execution_count": 38,
   "metadata": {},
   "outputs": [
    {
     "name": "stdout",
     "output_type": "stream",
     "text": [
      "Slice State: StableOK\n",
      "Response Status Status.OK\n",
      "Slice Status {\n",
      "    \"graph_id\": \"c19ffdf2-36e5-4bf7-adcc-be4ba7c57dbe\",\n",
      "    \"slice_id\": \"a2d1e1a1-8e0e-45b2-875d-d000cfde6fb0\",\n",
      "    \"slice_name\": \"DemoSlice\",\n",
      "    \"slice_state\": \"StableOK\"\n",
      "}\n"
     ]
    }
   ],
   "source": [
    "import time\n",
    "\n",
    "slice_state=None\n",
    "while slice_state != 'StableOK':\n",
    "    status, slice_status = orchestrator_proxy.slice_status(token=fabric_id_token, slice_id=slice_id)\n",
    "    slice_state = slice_status.slice_state\n",
    "    print(\"Response Status {}\".format(status))\n",
    "    print(\"Slice State: {}\".format(slices[0].slice_state))\n",
    "    time.sleep(20)\n",
    "\n",
    "#status, slice_status = orchestrator_proxy.slice_status(token=fabric_id_token, slice_id=slice_id)\n",
    "\n",
    "print(\"Response Status {}\".format(status))\n",
    "print(\"Slice Status {}\".format(slice_status))"
   ]
  },
  {
   "cell_type": "markdown",
   "metadata": {},
   "source": [
    "## Query Slivers"
   ]
  },
  {
   "cell_type": "code",
   "execution_count": 39,
   "metadata": {},
   "outputs": [
    {
     "name": "stdout",
     "output_type": "stream",
     "text": [
      "Response Status Status.OK\n",
      "Slivers [{\n",
      "    \"graph_node_id\": \"f9288304-bc43-4438-a9b7-9433377425a3\",\n",
      "    \"join_state\": \"None_\",\n",
      "    \"lease_end\": \"2021-04-09 11:24:31\",\n",
      "    \"reservation_id\": \"2d5adf14-96b7-4f07-9c36-c639d39bc043\",\n",
      "    \"reservation_state\": \"Unknown\",\n",
      "    \"resource_type\": \"VM\",\n",
      "    \"slice_id\": \"a2d1e1a1-8e0e-45b2-875d-d000cfde6fb0\"\n",
      "}, {\n",
      "    \"graph_node_id\": \"2cb35a82-7347-4f8d-a415-5748139502a7\",\n",
      "    \"join_state\": \"None_\",\n",
      "    \"lease_end\": \"2021-04-09 11:24:31\",\n",
      "    \"reservation_id\": \"d09a7c96-1c39-4297-8be5-b068d165f468\",\n",
      "    \"reservation_state\": \"Unknown\",\n",
      "    \"resource_type\": \"VM\",\n",
      "    \"slice_id\": \"a2d1e1a1-8e0e-45b2-875d-d000cfde6fb0\"\n",
      "}, {\n",
      "    \"graph_node_id\": \"6b631617-10c8-4c6c-8675-344e9c17740f\",\n",
      "    \"join_state\": \"None_\",\n",
      "    \"lease_end\": \"2021-04-09 11:24:31\",\n",
      "    \"reservation_id\": \"8873450a-b3f4-4402-b998-34ab89bb8733\",\n",
      "    \"reservation_state\": \"Unknown\",\n",
      "    \"resource_type\": \"VM\",\n",
      "    \"slice_id\": \"a2d1e1a1-8e0e-45b2-875d-d000cfde6fb0\"\n",
      "}]\n"
     ]
    }
   ],
   "source": [
    "status, slivers = orchestrator_proxy.slivers(token=fabric_id_token, slice_id=slice_id)\n",
    "\n",
    "print(\"Response Status {}\".format(status))\n",
    "print(\"Slivers {}\".format(reservations))"
   ]
  },
  {
   "cell_type": "markdown",
   "metadata": {},
   "source": [
    "## Sliver Status"
   ]
  },
  {
   "cell_type": "code",
   "execution_count": 41,
   "metadata": {},
   "outputs": [
    {
     "name": "stdout",
     "output_type": "stream",
     "text": [
      "Response Status Status.OK\n",
      "Reservation Status {\n",
      "    \"capacities\": \"{\\\"core\\\": 8, \\\"disk\\\": 500, \\\"ram\\\": 64}\",\n",
      "    \"graph_node_id\": \"6b631617-10c8-4c6c-8675-344e9c17740f\",\n",
      "    \"join_state\": \"NoJoin\",\n",
      "    \"labels\": \"\",\n",
      "    \"lease_end\": \"2021-04-09 11:24:31\",\n",
      "    \"management_ip\": \"128.163.179.35\",\n",
      "    \"name\": \"node3\",\n",
      "    \"notices\": \"Reservation 8873450a-b3f4-4402-b998-34ab89bb8733 (Slice DemoSlice(a2d1e1a1-8e0e-45b2-875d-d000cfde6fb0) Graph Id:c19ffdf2-36e5-4bf7-adcc-be4ba7c57dbe ) is in state [Active,None_]\\n\\nLast ticket update: \\nTicket events: \\nLast ticket update: \\nTicket events: \",\n",
      "    \"reservation_id\": \"8873450a-b3f4-4402-b998-34ab89bb8733\",\n",
      "    \"reservation_state\": \"Active\",\n",
      "    \"resource_type\": \"VM\",\n",
      "    \"site\": \"UKY\",\n",
      "    \"slice_id\": \"a2d1e1a1-8e0e-45b2-875d-d000cfde6fb0\"\n",
      "}\n",
      "Response Status Status.OK\n",
      "Reservation Status {\n",
      "    \"capacities\": \"{\\\"core\\\": 2, \\\"disk\\\": 100, \\\"ram\\\": 16}\",\n",
      "    \"graph_node_id\": \"f9288304-bc43-4438-a9b7-9433377425a3\",\n",
      "    \"join_state\": \"NoJoin\",\n",
      "    \"labels\": \"\",\n",
      "    \"lease_end\": \"2021-04-09 11:24:31\",\n",
      "    \"management_ip\": \"152.54.15.56\",\n",
      "    \"name\": \"node1\",\n",
      "    \"notices\": \"Reservation 2d5adf14-96b7-4f07-9c36-c639d39bc043 (Slice DemoSlice(a2d1e1a1-8e0e-45b2-875d-d000cfde6fb0) Graph Id:c19ffdf2-36e5-4bf7-adcc-be4ba7c57dbe ) is in state [Active,None_]\\n\\nLast ticket update: \\nTicket events: \\nLast ticket update: \\nTicket events: \",\n",
      "    \"reservation_id\": \"2d5adf14-96b7-4f07-9c36-c639d39bc043\",\n",
      "    \"reservation_state\": \"Active\",\n",
      "    \"resource_type\": \"VM\",\n",
      "    \"site\": \"RENC\",\n",
      "    \"slice_id\": \"a2d1e1a1-8e0e-45b2-875d-d000cfde6fb0\"\n",
      "}\n",
      "Response Status Status.OK\n",
      "Reservation Status {\n",
      "    \"capacities\": \"{\\\"core\\\": 4, \\\"disk\\\": 200, \\\"ram\\\": 32}\",\n",
      "    \"graph_node_id\": \"2cb35a82-7347-4f8d-a415-5748139502a7\",\n",
      "    \"join_state\": \"NoJoin\",\n",
      "    \"labels\": \"\",\n",
      "    \"lease_end\": \"2021-04-09 11:24:31\",\n",
      "    \"management_ip\": \"198.129.61.53\",\n",
      "    \"name\": \"node2\",\n",
      "    \"notices\": \"Reservation d09a7c96-1c39-4297-8be5-b068d165f468 (Slice DemoSlice(a2d1e1a1-8e0e-45b2-875d-d000cfde6fb0) Graph Id:c19ffdf2-36e5-4bf7-adcc-be4ba7c57dbe ) is in state [Active,None_]\\n\\nLast ticket update: \\nTicket events: \\nLast ticket update: \\nTicket events: \",\n",
      "    \"reservation_id\": \"d09a7c96-1c39-4297-8be5-b068d165f468\",\n",
      "    \"reservation_state\": \"Active\",\n",
      "    \"resource_type\": \"VM\",\n",
      "    \"site\": \"LBNL\",\n",
      "    \"slice_id\": \"a2d1e1a1-8e0e-45b2-875d-d000cfde6fb0\"\n",
      "}\n"
     ]
    }
   ],
   "source": [
    "for sliver in slivers:\n",
    "    sliver_id=sliver.reservation_id\n",
    "    status, reservation_status = orchestrator_proxy.sliver_status(token=fabric_id_token, slice_id=slice_id, sliver_id=sliver_id)\n",
    "\n",
    "    print(\"Response Status {}\".format(status))\n",
    "    print(\"Reservation Status {}\".format(reservation_status))"
   ]
  },
  {
   "cell_type": "markdown",
   "metadata": {},
   "source": [
    "## Configure the Nodes"
   ]
  },
  {
   "cell_type": "code",
   "execution_count": 43,
   "metadata": {},
   "outputs": [],
   "source": [
    "script= '#!/bin/bash  \\n' \\\n",
    "        'lspci  \\n'"
   ]
  },
  {
   "cell_type": "code",
   "execution_count": 44,
   "metadata": {},
   "outputs": [
    {
     "name": "stdout",
     "output_type": "stream",
     "text": [
      "Node node3 IP 128.163.179.35\n",
      "\n",
      "00:00.0 Host bridge: Intel Corporation 440FX - 82441FX PMC [Natoma] (rev 02)\n",
      "00:01.0 ISA bridge: Intel Corporation 82371SB PIIX3 ISA [Natoma/Triton II]\n",
      "00:01.1 IDE interface: Intel Corporation 82371SB PIIX3 IDE [Natoma/Triton II]\n",
      "00:01.2 USB controller: Intel Corporation 82371SB PIIX3 USB [Natoma/Triton II] (rev 01)\n",
      "00:01.3 Bridge: Intel Corporation 82371AB/EB/MB PIIX4 ACPI (rev 03)\n",
      "00:02.0 VGA compatible controller: Cirrus Logic GD 5446\n",
      "00:03.0 Ethernet controller: Red Hat, Inc. Virtio network device\n",
      "00:04.0 SCSI storage controller: Red Hat, Inc. Virtio block device\n",
      "00:05.0 Unclassified device [00ff]: Red Hat, Inc. Virtio memory balloon\n",
      "00:06.0 Unclassified device [00ff]: Red Hat, Inc. Virtio RNG\n",
      "00:07.0 Non-Volatile memory controller: Intel Corporation NVMe Datacenter SSD [3DNAND, Beta Rock Controller]\n",
      "00:08.0 Non-Volatile memory controller: Intel Corporation NVMe Datacenter SSD [3DNAND, Beta Rock Controller]\n",
      "00:09.0 Non-Volatile memory controller: Intel Corporation NVMe Datacenter SSD [3DNAND, Beta Rock Controller]\n",
      "00:0a.0 Non-Volatile memory controller: Intel Corporation NVMe Datacenter SSD [3DNAND, Beta Rock Controller]\n",
      "00:0b.0 3D controller: NVIDIA Corporation TU104GL [Tesla T4] (rev a1)\n",
      "00:0c.0 3D controller: NVIDIA Corporation TU104GL [Tesla T4] (rev a1)\n",
      "\n",
      "Node node1 IP 152.54.15.56\n",
      "\n",
      "00:00.0 Host bridge: Intel Corporation 440FX - 82441FX PMC [Natoma] (rev 02)\n",
      "00:01.0 ISA bridge: Intel Corporation 82371SB PIIX3 ISA [Natoma/Triton II]\n",
      "00:01.1 IDE interface: Intel Corporation 82371SB PIIX3 IDE [Natoma/Triton II]\n",
      "00:01.2 USB controller: Intel Corporation 82371SB PIIX3 USB [Natoma/Triton II] (rev 01)\n",
      "00:01.3 Bridge: Intel Corporation 82371AB/EB/MB PIIX4 ACPI (rev 03)\n",
      "00:02.0 VGA compatible controller: Cirrus Logic GD 5446\n",
      "00:03.0 Ethernet controller: Red Hat, Inc. Virtio network device\n",
      "00:04.0 SCSI storage controller: Red Hat, Inc. Virtio block device\n",
      "00:05.0 Unclassified device [00ff]: Red Hat, Inc. Virtio memory balloon\n",
      "00:06.0 Unclassified device [00ff]: Red Hat, Inc. Virtio RNG\n",
      "00:07.0 Non-Volatile memory controller: Intel Corporation NVMe Datacenter SSD [3DNAND, Beta Rock Controller]\n",
      "00:08.0 3D controller: NVIDIA Corporation TU102GL [Quadro RTX 6000/8000] (rev a1)\n",
      "00:09.0 Ethernet controller: Mellanox Technologies MT28908 Family [ConnectX-6]\n",
      "\n",
      "Node node2 IP 198.129.61.53\n",
      "\n",
      "00:00.0 Host bridge: Intel Corporation 440FX - 82441FX PMC [Natoma] (rev 02)\n",
      "00:01.0 ISA bridge: Intel Corporation 82371SB PIIX3 ISA [Natoma/Triton II]\n",
      "00:01.1 IDE interface: Intel Corporation 82371SB PIIX3 IDE [Natoma/Triton II]\n",
      "00:01.2 USB controller: Intel Corporation 82371SB PIIX3 USB [Natoma/Triton II] (rev 01)\n",
      "00:01.3 Bridge: Intel Corporation 82371AB/EB/MB PIIX4 ACPI (rev 03)\n",
      "00:02.0 VGA compatible controller: Cirrus Logic GD 5446\n",
      "00:03.0 Ethernet controller: Red Hat, Inc. Virtio network device\n",
      "00:04.0 SCSI storage controller: Red Hat, Inc. Virtio block device\n",
      "00:05.0 Unclassified device [00ff]: Red Hat, Inc. Virtio memory balloon\n",
      "00:06.0 Unclassified device [00ff]: Red Hat, Inc. Virtio RNG\n",
      "00:07.0 3D controller: NVIDIA Corporation TU104GL [Tesla T4] (rev a1)\n",
      "00:08.0 3D controller: NVIDIA Corporation TU104GL [Tesla T4] (rev a1)\n",
      "00:09.0 Ethernet controller: Mellanox Technologies MT27800 Family [ConnectX-5]\n",
      "00:0a.0 Ethernet controller: Mellanox Technologies MT27800 Family [ConnectX-5]\n",
      "00:0b.0 Ethernet controller: Mellanox Technologies MT27800 Family [ConnectX-5]\n",
      "00:0c.0 Ethernet controller: Mellanox Technologies MT27800 Family [ConnectX-5]\n",
      "\n"
     ]
    }
   ],
   "source": [
    "import paramiko \n",
    "#from scp import SCPClient, SCPException\n",
    "\n",
    "key = paramiko.RSAKey.from_private_key_file(\"/home/fabric/.ssh/id_rsa\")\n",
    "client = paramiko.SSHClient()\n",
    "client.load_system_host_keys()\n",
    "client.set_missing_host_key_policy(paramiko.MissingHostKeyPolicy())\n",
    "\n",
    "client.set_missing_host_key_policy(paramiko.AutoAddPolicy())\n",
    "\n",
    "for sliver in slivers:\n",
    "    node_name = sliver.name\n",
    "    management_ip = sliver.management_ip\n",
    "    \n",
    "    print(\"Node {0} IP {1}\".format(node_name, management_ip))\n",
    "    \n",
    "    client.connect(management_ip,username='ubuntu',pkey = key)\n",
    "\n",
    "    stdin, stdout, stderr = client.exec_command('echo \\\"' + script + '\\\" > script.sh; chmod +x script.sh; sudo ./script.sh')\n",
    "    print ('')\n",
    "    print (str(stdout.read(),'utf-8').replace('\\\\n','\\n'))\n",
    "\n",
    "    client.close()"
   ]
  },
  {
   "cell_type": "markdown",
   "metadata": {},
   "source": [
    "## Delete Slice"
   ]
  },
  {
   "cell_type": "code",
   "execution_count": 16,
   "metadata": {},
   "outputs": [
    {
     "ename": "NameError",
     "evalue": "name 'slice_id' is not defined",
     "output_type": "error",
     "traceback": [
      "\u001b[0;31m---------------------------------------------------------------------------\u001b[0m",
      "\u001b[0;31mNameError\u001b[0m                                 Traceback (most recent call last)",
      "\u001b[0;32m<ipython-input-16-e1a8a4333fb3>\u001b[0m in \u001b[0;36m<module>\u001b[0;34m\u001b[0m\n\u001b[0;32m----> 1\u001b[0;31m \u001b[0mstatus\u001b[0m\u001b[0;34m,\u001b[0m \u001b[0mresult\u001b[0m \u001b[0;34m=\u001b[0m \u001b[0morchestrator_proxy\u001b[0m\u001b[0;34m.\u001b[0m\u001b[0mdelete\u001b[0m\u001b[0;34m(\u001b[0m\u001b[0mtoken\u001b[0m\u001b[0;34m=\u001b[0m\u001b[0mfabric_id_token\u001b[0m\u001b[0;34m,\u001b[0m \u001b[0mslice_id\u001b[0m\u001b[0;34m=\u001b[0m\u001b[0mslice_id\u001b[0m\u001b[0;34m)\u001b[0m\u001b[0;34m\u001b[0m\u001b[0;34m\u001b[0m\u001b[0m\n\u001b[0m\u001b[1;32m      2\u001b[0m \u001b[0;34m\u001b[0m\u001b[0m\n\u001b[1;32m      3\u001b[0m \u001b[0mprint\u001b[0m\u001b[0;34m(\u001b[0m\u001b[0;34m\"Response Status {}\"\u001b[0m\u001b[0;34m.\u001b[0m\u001b[0mformat\u001b[0m\u001b[0;34m(\u001b[0m\u001b[0mstatus\u001b[0m\u001b[0;34m)\u001b[0m\u001b[0;34m)\u001b[0m\u001b[0;34m\u001b[0m\u001b[0;34m\u001b[0m\u001b[0m\n\u001b[1;32m      4\u001b[0m \u001b[0mprint\u001b[0m\u001b[0;34m(\u001b[0m\u001b[0;34m\"Response received {}\"\u001b[0m\u001b[0;34m.\u001b[0m\u001b[0mformat\u001b[0m\u001b[0;34m(\u001b[0m\u001b[0mresult\u001b[0m\u001b[0;34m)\u001b[0m\u001b[0;34m)\u001b[0m\u001b[0;34m\u001b[0m\u001b[0;34m\u001b[0m\u001b[0m\n",
      "\u001b[0;31mNameError\u001b[0m: name 'slice_id' is not defined"
     ]
    }
   ],
   "source": [
    "status, result = orchestrator_proxy.delete(token=fabric_id_token, slice_id=slice_id)\n",
    "\n",
    "print(\"Response Status {}\".format(status))\n",
    "print(\"Response received {}\".format(result))"
   ]
  },
  {
   "cell_type": "code",
   "execution_count": null,
   "metadata": {},
   "outputs": [],
   "source": []
  }
 ],
 "metadata": {
  "kernelspec": {
   "display_name": "Python 3",
   "language": "python",
   "name": "python3"
  },
  "language_info": {
   "codemirror_mode": {
    "name": "ipython",
    "version": 3
   },
   "file_extension": ".py",
   "mimetype": "text/x-python",
   "name": "python",
   "nbconvert_exporter": "python",
   "pygments_lexer": "ipython3",
   "version": "3.8.6"
  }
 },
 "nbformat": 4,
 "nbformat_minor": 4
}
