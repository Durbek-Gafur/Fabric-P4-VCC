{
 "cells": [
  {
   "cell_type": "markdown",
   "metadata": {},
   "source": [
    "## This notebook shows how to use Orchestrator APIs for user experiments"
   ]
  },
  {
   "cell_type": "code",
   "execution_count": 5,
   "metadata": {},
   "outputs": [],
   "source": [
    "import os\n",
    "import json\n",
    "\n",
    "from fabric_cm.credmgr.credmgr_proxy import CredmgrProxy\n",
    "from fabric_cf.orchestrator.orchestrator_proxy import OrchestratorProxy"
   ]
  },
  {
   "cell_type": "code",
   "execution_count": 6,
   "metadata": {},
   "outputs": [],
   "source": [
    "credmgr_host = os.environ['FABRIC_CREDMGR_HOST']\n",
    "credmgr_proxy = CredmgrProxy(credmgr_host=credmgr_host)\n",
    "orchestrator_host = os.environ['FABRIC_ORCHESTRATOR_HOST']\n",
    "orchestrator_proxy = OrchestratorProxy(orchestrator_host=orchestrator_host)"
   ]
  },
  {
   "cell_type": "markdown",
   "metadata": {},
   "source": [
    "### Fabric Tokens\n",
    "Fabric has 2 kinds of tokens:<br>\n",
    "- Identity : required for Control/Measurement Framework APIs. Identity Token is valid upto an hour.\n",
    "- Refresh : required to generate new Identity Tokens valid. Refresh Token is valid for 24 hours.\n",
    "\n",
    "Fabric Identity token is required for Control/Measurement Framework APIs.<br>\n",
    "\n",
    "When user logins to Jupyterhub after authenticating against CILogon, OIDC refresh token is derived. <br>\n",
    "This token is available as the environment variable `CILOGON_REFRESH_TOKEN`.<br>\n",
    "\n",
    "On the first login, we use `CILOGON_REFRESH_TOKEN` to generate new Fabric Identity Token and Fabric Refresh Token.<br>\n",
    "For any subsequent use, we use Fabric Refresh Token. On every refresh, Fabric Refresh Token is changed and updated.<br>\n",
    "\n",
    "NOTE: These steps are required for any experiments on Fabric Testbed.<br>"
   ]
  },
  {
   "cell_type": "code",
   "execution_count": 7,
   "metadata": {},
   "outputs": [
    {
     "name": "stdout",
     "output_type": "stream",
     "text": [
      "no stored variable or alias fabric_refresh_token\n",
      "Stored 'fabric_refresh_token' (str)\n",
      "Fabric Refresh Token https://cilogon.org/oauth2/refreshToken/309331f5a4f913044c5342ba6e68386a/1617115641828\n",
      "CILOGON_REFRESH_TOKEN environment variable: https://cilogon.org/oauth2/refreshToken/309331f5a4f913044c5342ba6e68386a/1617115641828\n"
     ]
    }
   ],
   "source": [
    "not_found=False\n",
    "fabric_refresh_token=None\n",
    "%store -r fabric_refresh_token\n",
    "\n",
    "if fabric_refresh_token is None:\n",
    "    fabric_refresh_token=os.environ['CILOGON_REFRESH_TOKEN']\n",
    "    %store fabric_refresh_token\n",
    "print(\"Fabric Refresh Token {}\".format(fabric_refresh_token))\n",
    "print(\"CILOGON_REFRESH_TOKEN environment variable: {}\".format(os.environ['CILOGON_REFRESH_TOKEN']))"
   ]
  },
  {
   "cell_type": "markdown",
   "metadata": {},
   "source": [
    "### Get new Fabric Identity Token and update Fabric Refresh Token\n",
    "\n",
    "Users can request tokens with different Project and Scopes by altering `project_name` and `scope` parameters in the refresh call below."
   ]
  },
  {
   "cell_type": "code",
   "execution_count": 8,
   "metadata": {},
   "outputs": [
    {
     "name": "stdout",
     "output_type": "stream",
     "text": [
      "New Tokens received: {\"id_token\": \"eyJ0eXAiOiJKV1QiLCJhbGciOiJSUzI1NiIsImtpZCI6ImI0MTUxNjcyMTExOTFlMmUwNWIyMmI1NGIxZDNiNzY2N2U3NjRhNzQ3NzIyMTg1ZTcyMmU1MmUxNDZmZTQzYWEifQ.eyJlbWFpbCI6InBydXRoQGVtYWlsLnVuYy5lZHUiLCJjZXJ0X3N1YmplY3RfZG4iOiIvREM9b3JnL0RDPWNpbG9nb24vQz1VUy9PPVVuaXZlcnNpdHkgb2YgTm9ydGggQ2Fyb2xpbmEgYXQgQ2hhcGVsIEhpbGwvQ049UGF1bCBSdXRoIEEzMTM3OTg0MSIsImlkcCI6InVybjptYWNlOmluY29tbW9uOnVuYy5lZHUiLCJpZHBfbmFtZSI6IlVuaXZlcnNpdHkgb2YgTm9ydGggQ2Fyb2xpbmEgYXQgQ2hhcGVsIEhpbGwiLCJlcHBuIjoicHJ1dGhAdW5jLmVkdSIsImFmZmlsaWF0aW9uIjoiZW1wbG95ZWVAdW5jLmVkdTtzdGFmZkB1bmMuZWR1O21lbWJlckB1bmMuZWR1IiwibmFtZSI6IlBhdWwgUnV0aCIsImFjciI6InVybjpvYXNpczpuYW1lczp0YzpTQU1MOjIuMDphYzpjbGFzc2VzOlBhc3N3b3JkUHJvdGVjdGVkVHJhbnNwb3J0IiwiZW50aXRsZW1lbnQiOiJ1cm46bWFjZTpkaXI6ZW50aXRsZW1lbnQ6Y29tbW9uLWxpYi10ZXJtcyIsImlzcyI6Imh0dHBzOi8vY2lsb2dvbi5vcmciLCJzdWIiOiJodHRwOi8vY2lsb2dvbi5vcmcvc2VydmVyQS91c2Vycy8zMTM3OTg0MSIsImF1ZCI6ImNpbG9nb246L2NsaWVudF9pZC8xZjExZjgyOWVjMWY0ZjIyMzM1OGY0M2IyYzYwN2I4NCIsInRva2VuX2lkIjoiaHR0cHM6Ly9jaWxvZ29uLm9yZy9vYXV0aDIvaWRUb2tlbi81YTZmZWUwN2VmZTVkYTlkNzM2ZWE5ZGJlODVmMjgxNy8xNjE3MTE1NjQxNTEyIiwiYXV0aF90aW1lIjoiMTYxNzExNDc2NyIsImV4cCI6MTYxNzEyMDEyOCwiaWF0IjoxNjE3MTE2NTI4LCJwcm9qZWN0cyI6eyJDT21hbmFnZSBUZXN0IjpbXSwicHJ1dGgxIjpbXSwidGVzdCdzIHRlc3QncyB0ZXN0J3Mgd2l0aCBhIGJ1bmNoIG9mIHMncyI6WyJ0ZXN0J3MgdGVzdCdzIl19LCJyb2xlcyI6WyJwcm9qZWN0LWxlYWRzIiwiZmFjaWxpdHktb3BlcmF0b3JzIiwiZmFicmljLWFjdGl2ZS11c2VycyIsIjEzOTNiMjExLTY5OWEtNDJjYi04NTgxLTMwMzQ5ZjMyOTZmZi1wbSIsImM5NDgwMzVmLWE0NTctNGY2NC05OGU4LTdiNDcxZWE3MGI5Zi1wbyIsImM5NDgwMzVmLWE0NTctNGY2NC05OGU4LTdiNDcxZWE3MGI5Zi1wbSIsIjY4ZjVhNTI5LWRjOTctNDUyYS1iMTJkLWU0Y2RjZmZiMTg3Yy1wYyIsIjY4ZjVhNTI5LWRjOTctNDUyYS1iMTJkLWU0Y2RjZmZiMTg3Yy1wbyIsIjY4ZjVhNTI5LWRjOTctNDUyYS1iMTJkLWU0Y2RjZmZiMTg3Yy1wbSIsImMzNmNkNTdkLWUxNWItNDNhMS1hNzY2LTYyOTE1MWIwYWNjZi1wbyIsImMzNmNkNTdkLWUxNWItNDNhMS1hNzY2LTYyOTE1MWIwYWNjZi1wbSJdLCJzY29wZSI6ImFsbCJ9.ar5oR7cULoA64ucLwK6Bu-UdByuaHVvCvWcSQt3U8GRCJP3ehWpB_dcT5JXVC4tImY30ivDFydHyFVutjVI3Aa27h9xZGbq2mdoMMhkFg2xs1-UBh9LTjWXnrmn5R0F6Z7vT0rjxFeWsHldxkSzcA7u0zdshHpbGY_ekEVPSSQpe8VzaLPEFRiT1oRDygwHAi3vmryOLreT8HXoGBa2ijnwe7FXzyqMsJscPfYtqgt1AKmu5jUiflxEyAK3DfBGQTYiI4iVtZtGRz88If_fetkbsNgb-P3ISWZ2EjB8a3H-moW4P_cO76pGrZwIWk0G2ZdwIOI-2yJL-U9L16Vhaz3JHYLsoIoZnozmUB9NkmlhTse1Q77QDmgP7pZj0Taa9SWOjPIns2FXaQ_XTS4yAptxjWjljX8cNYln51JLnL1chYvDx2imORnslEB2ddjQMwY4YGoFafhU_iHul0Y-PvKrPTxEnrK0Z42-HLxmXRerICWhjisni-D_7iXYjt03l9bPhUODUYamm_jPQrjift8jspuOjANvd2bMez0x3bzYM2XJGooE2cvl66kmzPpujvpFcWUl4PtfTBOGrlLHin_CK1BmX8ZM2tRnAYlEXYpb6ChjnjcM_NSAbRQ-0a_KJ2Ng6pdgz-2MG7Sl9Sxq4i8qhGJvxpo0EqhNfSoAdolg\", \"refresh_token\": \"https://cilogon.org/oauth2/refreshToken/3768f43bda92b4fca44e3b895b9adb3d/1617116527084\"}\n",
      "\n",
      "New Refresh Token: https://cilogon.org/oauth2/refreshToken/3768f43bda92b4fca44e3b895b9adb3d/1617116527084\n",
      "\n",
      "Stored new Refresh Token\n",
      "Stored 'fabric_refresh_token' (str)\n"
     ]
    }
   ],
   "source": [
    "try:\n",
    "    refresh_res = credmgr_proxy.refresh(project_name='all', scope='all', refresh_token=fabric_refresh_token)\n",
    "    print(\"New Tokens received: {}\".format(json.dumps(refresh_res)))\n",
    "    fabric_id_token=refresh_res['id_token']\n",
    "    fabric_refresh_token=refresh_res['refresh_token']\n",
    "    print()\n",
    "    print(\"New Refresh Token: {}\".format(fabric_refresh_token))\n",
    "    print()\n",
    "    print(\"Stored new Refresh Token\")\n",
    "    %store fabric_refresh_token\n",
    "except Exception as e:\n",
    "    print(\"Exception occurred while getting tokens:{}\".format(e))"
   ]
  },
  {
   "cell_type": "markdown",
   "metadata": {},
   "source": [
    "### Orchestrator API example to query for available resources"
   ]
  },
  {
   "cell_type": "code",
   "execution_count": 9,
   "metadata": {},
   "outputs": [
    {
     "name": "stdout",
     "output_type": "stream",
     "text": [
      "Status: Status.OK\n",
      "Toplogy: LBNL: { cpu: 6 core: 96 ram: 1536G disk: 209600G unit: 5 }\n",
      "\tNVME-P4510:  NVME P4510 { disk: 10000G unit: 10 }\n",
      "\tGPU-RTX6000:  GPU RTX6000 { unit: 2 }\n",
      "\tGPU-Tesla T4:  GPU Tesla T4 { unit: 4 }\n",
      "\tSharedNIC-ConnectX-6:  SharedNIC ConnectX-6 { unit: 3 }\n",
      "\tSmartNIC-ConnectX-6:  SmartNIC ConnectX-6 { unit: 2 }\n",
      "\tSmartNIC-ConnectX-5:  SmartNIC ConnectX-5 { unit: 2 }\n",
      "RENC: { cpu: 6 core: 96 ram: 1536G disk: 209600G unit: 5 }\n",
      "\tNVME-P4510:  NVME P4510 { disk: 10000G unit: 10 }\n",
      "\tGPU-RTX6000:  GPU RTX6000 { unit: 2 }\n",
      "\tGPU-Tesla T4:  GPU Tesla T4 { unit: 4 }\n",
      "\tSharedNIC-ConnectX-6:  SharedNIC ConnectX-6 { unit: 3 }\n",
      "\tSmartNIC-ConnectX-6:  SmartNIC ConnectX-6 { unit: 2 }\n",
      "\tSmartNIC-ConnectX-5:  SmartNIC ConnectX-5 { unit: 2 }\n",
      "UKY: { cpu: 6 core: 96 ram: 1536G disk: 209600G unit: 5 }\n",
      "\tNVME-P4510:  NVME P4510 { disk: 10000G unit: 10 }\n",
      "\tGPU-RTX6000:  GPU RTX6000 { unit: 2 }\n",
      "\tGPU-Tesla T4:  GPU Tesla T4 { unit: 4 }\n",
      "\tSharedNIC-ConnectX-6:  SharedNIC ConnectX-6 { unit: 3 }\n",
      "\tSmartNIC-ConnectX-6:  SmartNIC ConnectX-6 { unit: 2 }\n",
      "\tSmartNIC-ConnectX-5:  SmartNIC ConnectX-5 { unit: 2 }\n",
      "\n"
     ]
    }
   ],
   "source": [
    "status, advertised_topology = orchestrator_proxy.resources(token=fabric_id_token)\n",
    "\n",
    "print(f\"Status: {status}\")\n",
    "print(f\"Toplogy: {advertised_topology}\")"
   ]
  },
  {
   "cell_type": "code",
   "execution_count": 10,
   "metadata": {},
   "outputs": [
    {
     "data": {
      "image/png": "[encoded data removed]",
      "text/plain": [
       "<Figure size 432x288 with 1 Axes>"
      ]
     },
     "metadata": {},
     "output_type": "display_data"
    }
   ],
   "source": [
    "advertised_topology.draw()"
   ]
  },
  {
   "cell_type": "markdown",
   "metadata": {},
   "source": [
    "## Create Slice\n",
    "\n",
    "### Demo1 PTP"
   ]
  },
  {
   "cell_type": "code",
   "execution_count": 39,
   "metadata": {},
   "outputs": [
    {
     "name": "stdout",
     "output_type": "stream",
     "text": [
      "SmartNIC\n"
     ]
    }
   ],
   "source": [
    "import fim.user as fu\n",
    "\n",
    "print(fu.ComponentType.SmartNIC)"
   ]
  },
  {
   "cell_type": "code",
   "execution_count": 34,
   "metadata": {},
   "outputs": [
    {
     "name": "stdout",
     "output_type": "stream",
     "text": [
      "{'capacities': {\"bw\": 25}, 'labels': , 'name': 'nic1-p1', 'type': TrunkPort}\n",
      "{'capacities': {\"bw\": 25}, 'labels': , 'name': 'nic1-p1', 'type': TrunkPort}\n"
     ]
    },
    {
     "data": {
      "image/png": "[encoded data removed]",
      "text/plain": [
       "<Figure size 432x288 with 1 Axes>"
      ]
     },
     "metadata": {},
     "output_type": "display_data"
    }
   ],
   "source": [
    "import fim.user as fu\n",
    "\n",
    "\n",
    "\n",
    "# Create topology\n",
    "t = fu.ExperimentTopology()\n",
    "\n",
    "# Set capacities\n",
    "cap = fu.Capacities()\n",
    "cap.set_fields(core=4, ram=64, disk=500)\n",
    "\n",
    "# Add nodes\n",
    "node_uky1 = t.add_node(name='uky1_demo1', site='UKY')\n",
    "node_uky1.set_properties(capacities=cap, image_type='qcow2', image_ref='default_ubuntu_20')\n",
    "nic_uky1 = node_uky1.add_component(ctype=fu.ComponentType.SmartNIC, model='ConnectX-5', name='nic1')\n",
    "\n",
    "node_renc1 = t.add_node(name='renci1_demo1', site='RENC')\n",
    "node_renc1.set_properties(capacities=cap, image_type='qcow2', image_ref='default_centos_8')\n",
    "nic_renc1 = node_renc1.add_component(ctype=fu.ComponentType.SmartNIC, model='ConnectX-5', name='nic1')\n",
    "\n",
    "node_uky2 = t.add_node(name='uky2_demo1', site='UKY')\n",
    "node_uky2.set_properties(capacities=cap, image_type='qcow2', image_ref='default_centos_8')\n",
    "nic_uky2 = node_uky2.add_component(ctype=fu.ComponentType.SmartNIC, model='ConnectX-5', name='nic1')\n",
    "\n",
    "\n",
    "#print(nic_uky2)\n",
    "# Add links\n",
    "\n",
    "print(node_uky1.interfaces[nic_uky1.name+'-p1'])\n",
    "print(node_renc1.interfaces[nic_renc1.name+'-p1'])\n",
    "\n",
    "link1 = t.add_link(name='l1', interfaces=[node_uky1.interfaces[nic_uky1.name+'-p1'],node_renc1.interfaces[nic_renc1.name+'-p1']], ltype=fu.LinkType.Wave)\n",
    "\n",
    "\n",
    "\n",
    "# Generate Slice Graph\n",
    "#slice_graph = t.serialize()\n",
    "t.draw()\n",
    "\n",
    "ssh_key = None\n",
    "with open (\"/home/fabric/.ssh/id_rsa.pub\", \"r\") as myfile:\n",
    "    ssh_key=myfile.read()\n",
    "    ssh_key=ssh_key.strip()\n",
    "\n",
    "# Request slice from Orchestrator\n",
    "#status, reservations = orchestrator_proxy.create(token=fabric_id_token, slice_name='JupyterSlice2', slice_graph=slice_graph, ssh_key=ssh_key)\n",
    "\n",
    "#print(\"Response Status {}\".format(status))\n",
    "#print(\"Reservations created {}\".format(reservations))"
   ]
  },
  {
   "cell_type": "code",
   "execution_count": null,
   "metadata": {},
   "outputs": [],
   "source": [
    "import fim.user as fu\n",
    "# Create topology\n",
    "t = fu.ExperimentTopology()\n",
    "\n",
    "# Add node\n",
    "n1 = t.add_node(name='n1', site='RENC')\n",
    "\n",
    "# Set capacities\n",
    "cap = fu.Capacities()\n",
    "cap.set_fields(core=4, ram=64, disk=500)\n",
    "\n",
    "# Set Properties\n",
    "n1.set_properties(capacities=cap, image_type='qcow2', image_ref='default_centos_8')\n",
    "\n",
    "# Add PCI devices\n",
    "n1.add_component(ctype=fu.ComponentType.SmartNIC, model='ConnectX-5', name='nic1')\n",
    "\n",
    "# Add node\n",
    "n2 = t.add_node(name='n2', site='UKY')\n",
    "\n",
    "# Set properties\n",
    "n2.set_properties(capacities=cap, image_type='qcow2', image_ref='default_centos_8')\n",
    "\n",
    "# Add PCI devices\n",
    "n2.add_component(ctype=fu.ComponentType.GPU, model='Tesla T4', name='nic2')\n",
    "\n",
    "# Add node\n",
    "n3 = t.add_node(name='n3', site='LBNL')\n",
    "\n",
    "# Set properties\n",
    "n3.set_properties(capacities=cap, image_type='qcow2', image_ref='default_centos_8')\n",
    "\n",
    "# Add PCI devices\n",
    "n3.add_component(ctype=fu.ComponentType.GPU, model='Tesla T4', name='nic3')\n",
    "\n",
    "# Generate Slice Graph\n",
    "slice_graph = t.serialize()\n",
    "\n",
    "ssh_key = None\n",
    "with open (\"/home/fabric/.ssh/id_rsa.pub\", \"r\") as myfile:\n",
    "    ssh_key=myfile.read()\n",
    "    ssh_key=ssh_key.strip()\n",
    "\n",
    "# Request slice from Orchestrator\n",
    "status, reservations = orchestrator_proxy.create(token=fabric_id_token, slice_name='JupyterSlice2', slice_graph=slice_graph, ssh_key=ssh_key)\n",
    "\n",
    "print(\"Response Status {}\".format(status))\n",
    "print(\"Reservations created {}\".format(reservations))"
   ]
  },
  {
   "cell_type": "code",
   "execution_count": null,
   "metadata": {},
   "outputs": [],
   "source": [
    "# Set the Slice ID from output of the above command\n",
    "slice_id=reservations[0].slice_id"
   ]
  },
  {
   "cell_type": "markdown",
   "metadata": {},
   "source": [
    "## Query Slices"
   ]
  },
  {
   "cell_type": "code",
   "execution_count": null,
   "metadata": {},
   "outputs": [],
   "source": [
    "status, slices = orchestrator_proxy.slices(token=fabric_id_token)\n",
    "\n",
    "print(\"Response Status {}\".format(status))\n",
    "print(\"Slices {}\".format(slices))"
   ]
  },
  {
   "cell_type": "markdown",
   "metadata": {},
   "source": [
    "## Query Slice"
   ]
  },
  {
   "cell_type": "code",
   "execution_count": null,
   "metadata": {},
   "outputs": [],
   "source": [
    "status, slice_obj = orchestrator_proxy.get_slice(token=fabric_id_token, slice_id=slice_id)\n",
    "\n",
    "print(\"Response Status {}\".format(status))\n",
    "print(\"Response received {}\".format(slice_obj))"
   ]
  },
  {
   "cell_type": "code",
   "execution_count": null,
   "metadata": {},
   "outputs": [],
   "source": [
    "slice_obj.draw()"
   ]
  },
  {
   "cell_type": "markdown",
   "metadata": {},
   "source": [
    "## Query Slivers"
   ]
  },
  {
   "cell_type": "code",
   "execution_count": null,
   "metadata": {},
   "outputs": [],
   "source": [
    "status, reservations = orchestrator_proxy.slivers(token=fabric_id_token, slice_id=slice_id)\n",
    "\n",
    "print(\"Response Status {}\".format(status))\n",
    "print(\"Reservations {}\".format(reservations))"
   ]
  },
  {
   "cell_type": "code",
   "execution_count": null,
   "metadata": {},
   "outputs": [],
   "source": [
    "# Set the Sliver ID from output of the above command by capturing reservation_id\n",
    "sliver_id=reservations[0].reservation_id"
   ]
  },
  {
   "cell_type": "markdown",
   "metadata": {},
   "source": [
    "## Query Sliver"
   ]
  },
  {
   "cell_type": "code",
   "execution_count": null,
   "metadata": {},
   "outputs": [],
   "source": [
    "status, reservation = orchestrator_proxy.slivers(token=fabric_id_token, slice_id=slice_id, sliver_id=sliver_id)\n",
    "\n",
    "print(\"Response Status {}\".format(status))\n",
    "print(\"Reservation {}\".format(reservation))"
   ]
  },
  {
   "cell_type": "markdown",
   "metadata": {},
   "source": [
    "## Slice Status"
   ]
  },
  {
   "cell_type": "code",
   "execution_count": null,
   "metadata": {},
   "outputs": [],
   "source": [
    "status, slice_status = orchestrator_proxy.slice_status(token=fabric_id_token, slice_id=slice_id)\n",
    "\n",
    "print(\"Response Status {}\".format(status))\n",
    "print(\"Slice Status {}\".format(slice_status))"
   ]
  },
  {
   "cell_type": "markdown",
   "metadata": {},
   "source": [
    "## Sliver Status"
   ]
  },
  {
   "cell_type": "code",
   "execution_count": null,
   "metadata": {},
   "outputs": [],
   "source": [
    "status, reservation_status = orchestrator_proxy.sliver_status(token=fabric_id_token, slice_id=slice_id, sliver_id=sliver_id)\n",
    "\n",
    "print(\"Response Status {}\".format(status))\n",
    "print(\"Reservation Status {}\".format(reservation_status))"
   ]
  },
  {
   "cell_type": "markdown",
   "metadata": {},
   "source": [
    "## Delete Slice"
   ]
  },
  {
   "cell_type": "code",
   "execution_count": null,
   "metadata": {},
   "outputs": [],
   "source": [
    "status, result = orchestrator_proxy.delete(token=fabric_id_token, slice_id=slice_id)\n",
    "\n",
    "print(\"Response Status {}\".format(status))\n",
    "print(\"Response received {}\".format(result))"
   ]
  },
  {
   "cell_type": "code",
   "execution_count": null,
   "metadata": {},
   "outputs": [],
   "source": []
  }
 ],
 "metadata": {
  "kernelspec": {
   "display_name": "Python 3",
   "language": "python",
   "name": "python3"
  },
  "language_info": {
   "codemirror_mode": {
    "name": "ipython",
    "version": 3
   },
   "file_extension": ".py",
   "mimetype": "text/x-python",
   "name": "python",
   "nbconvert_exporter": "python",
   "pygments_lexer": "ipython3",
   "version": "3.8.6"
  }
 },
 "nbformat": 4,
 "nbformat_minor": 4
}
