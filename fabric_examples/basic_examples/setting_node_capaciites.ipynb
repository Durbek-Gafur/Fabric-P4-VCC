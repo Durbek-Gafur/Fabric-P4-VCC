{
 "cells": [
  {
   "cell_type": "markdown",
   "metadata": {},
   "source": [
    "# Setting Node Capacities\n",
    "\n",
    "Capacities of a FABRIC node are basic characteristics of the virtual machine including number of compute core, amount of memory, and amount of local disk.  This notebook will demonstrate the options for setting these node capciites.\n",
    "\n",
    "## Configure the Environment"
   ]
  },
  {
   "cell_type": "code",
   "execution_count": null,
   "metadata": {},
   "outputs": [],
   "source": [
    "import os\n",
    "from fabrictestbed.slice_manager import SliceManager, Status, SliceState\n",
    "import json"
   ]
  },
  {
   "cell_type": "code",
   "execution_count": null,
   "metadata": {},
   "outputs": [],
   "source": [
    "ssh_key_file_priv=os.environ['HOME']+\"/.ssh/id_rsa\"\n",
    "ssh_key_file_pub=os.environ['HOME']+\"/.ssh/id_rsa.pub\"\n",
    "\n",
    "ssh_key_pub = None\n",
    "with open (ssh_key_file_pub, \"r\") as myfile:\n",
    "    ssh_key_pub=myfile.read()\n",
    "    ssh_key_pub=ssh_key_pub.strip()"
   ]
  },
  {
   "cell_type": "code",
   "execution_count": null,
   "metadata": {},
   "outputs": [],
   "source": [
    "credmgr_host = os.environ['FABRIC_CREDMGR_HOST']\n",
    "print(f\"FABRIC Credential Manager   : {credmgr_host}\")\n",
    "\n",
    "orchestrator_host = os.environ['FABRIC_ORCHESTRATOR_HOST']\n",
    "print(f\"FABRIC Orchestrator         : {orchestrator_host}\")"
   ]
  },
  {
   "cell_type": "markdown",
   "metadata": {},
   "source": [
    "## Create Slice Manager Object"
   ]
  },
  {
   "cell_type": "code",
   "execution_count": null,
   "metadata": {},
   "outputs": [],
   "source": [
    "slice_manager = SliceManager(oc_host=orchestrator_host, \n",
    "                             cm_host=credmgr_host ,\n",
    "                             project_name='all', \n",
    "                             scope='all')\n",
    "\n",
    "# Initialize the slice manager\n",
    "slice_manager.initialize()"
   ]
  },
  {
   "cell_type": "markdown",
   "metadata": {},
   "source": [
    "## Setting Capacities\n",
    "\n",
    "We are going to be creating slices that contain one node each.\n",
    "\n",
    "We need to specify the resources (number of cores, amount of ram and amount of disk space) that we want to allocate to our node.\n",
    "\n",
    "We can do that in two ways:\n",
    " - Using Capacities()\n",
    " - Using capacity hints."
   ]
  },
  {
   "cell_type": "markdown",
   "metadata": {},
   "source": [
    "## Example 1: Exact Capacities\n",
    "\n",
    "Let's create our first slice that contains one node. We will use `Capacities()` to specify the resources that we want to allocate.\n",
    "\n",
    "The line `cap.set_fields(core=2, ram=8, disk=10)` specifies that we want to reserve a node with 2 cores, 8GB of RAM and 10GB of disk."
   ]
  },
  {
   "cell_type": "code",
   "execution_count": null,
   "metadata": {},
   "outputs": [],
   "source": [
    "from fabrictestbed.slice_editor import ExperimentTopology, Capacities, ComponentType\n",
    "# Create topology\n",
    "t = ExperimentTopology()\n",
    "\n",
    "# Add node\n",
    "n1 = t.add_node(name='n1', site='UKY')\n",
    "\n",
    "# Set capacities\n",
    "cap = Capacities()\n",
    "cap.set_fields(core=2, ram=8, disk=10)\n",
    "\n",
    "# Set Properties\n",
    "n1.set_properties(capacities=cap, image_type='qcow2', image_ref='default_ubuntu_20')\n",
    "\n",
    "# Generate Slice Graph\n",
    "slice_graph = t.serialize()\n",
    "\n",
    "# Request slice from Orchestrator\n",
    "status, reservations = slice_manager.create(slice_name='JupyterSlice1', slice_graph=slice_graph, ssh_key=ssh_key_pub)\n",
    "\n",
    "print(\"Response Status {}\".format(status))\n",
    "print(\"Reservations created {}\".format(reservations))"
   ]
  },
  {
   "cell_type": "code",
   "execution_count": null,
   "metadata": {},
   "outputs": [],
   "source": [
    "# Set the Slice ID from output of the above command\n",
    "slice_id=reservations[0].slice_id"
   ]
  },
  {
   "cell_type": "markdown",
   "metadata": {},
   "source": [
    "We have issued the request to create the slice with the node. Let's query our slices."
   ]
  },
  {
   "cell_type": "code",
   "execution_count": null,
   "metadata": {},
   "outputs": [],
   "source": [
    "status, slices = slice_manager.slices()\n",
    "\n",
    "print(\"Response Status {}\".format(status))\n",
    "if status == Status.OK:\n",
    "    print(\"Slices {}\".format(slices))"
   ]
  },
  {
   "cell_type": "markdown",
   "metadata": {},
   "source": [
    "Our slice is ready. Now we can query the slivers (nodes, etc...) that are inside the slice."
   ]
  },
  {
   "cell_type": "code",
   "execution_count": null,
   "metadata": {},
   "outputs": [],
   "source": [
    "status, slivers = slice_manager.slivers(slice_id=slice_id)\n",
    "\n",
    "print(\"Response Status {}\".format(status))\n",
    "if status == Status.OK:\n",
    "    print(\"Sliver {}\".format(slivers))"
   ]
  },
  {
   "cell_type": "markdown",
   "metadata": {},
   "source": [
    "Let's look carefully at the \"allocated_capacities\" variable."
   ]
  },
  {
   "cell_type": "code",
   "execution_count": null,
   "metadata": {},
   "outputs": [],
   "source": [
    "print(slivers[0].allocated_capacities)"
   ]
  },
  {
   "cell_type": "markdown",
   "metadata": {},
   "source": [
    "It says that our node has 2 cores, 8GB of RAM and 10GB of disk space, which is what we requested.\n",
    "\n",
    "Now let's delete the slice."
   ]
  },
  {
   "cell_type": "code",
   "execution_count": null,
   "metadata": {},
   "outputs": [],
   "source": [
    "slice_manager.delete(slice_id=slice_id)"
   ]
  },
  {
   "cell_type": "markdown",
   "metadata": {},
   "source": [
    "## Example 2: Rounded Capacities\n",
    "\n",
    "Now let's try something else. Let's try to request 2 cores, 8GB of RAM, and 50GB of disk space.\n",
    "\n",
    "Again, we are going to use `cap.set_fields(core=2, ram=8, disk=50)`."
   ]
  },
  {
   "cell_type": "code",
   "execution_count": null,
   "metadata": {},
   "outputs": [],
   "source": [
    "# Create topology\n",
    "t = ExperimentTopology()\n",
    "\n",
    "# Add node\n",
    "n1 = t.add_node(name='n1', site='UKY')\n",
    "\n",
    "# Set capacities\n",
    "cap = Capacities()\n",
    "cap.set_fields(core=2, ram=8, disk=50)\n",
    "\n",
    "# Set Properties\n",
    "n1.set_properties(capacities=cap, image_type='qcow2', image_ref='default_ubuntu_20')\n",
    "\n",
    "# Generate Slice Graph\n",
    "slice_graph = t.serialize()\n",
    "\n",
    "# Request slice from Orchestrator\n",
    "status, reservations = slice_manager.create(slice_name='JupyterSlice2', slice_graph=slice_graph, ssh_key=ssh_key_pub)\n",
    "\n",
    "print(\"Response Status {}\".format(status))\n",
    "print(\"Reservations created {}\".format(reservations))"
   ]
  },
  {
   "cell_type": "code",
   "execution_count": null,
   "metadata": {},
   "outputs": [],
   "source": [
    "# Set the Slice ID from output of the above command\n",
    "slice_id=reservations[0].slice_id"
   ]
  },
  {
   "cell_type": "markdown",
   "metadata": {},
   "source": [
    "We have issued the request. Let's check our slices again."
   ]
  },
  {
   "cell_type": "code",
   "execution_count": null,
   "metadata": {},
   "outputs": [],
   "source": [
    "status, slices = slice_manager.slices()\n",
    "\n",
    "print(\"Response Status {}\".format(status))\n",
    "if status == Status.OK:\n",
    "    print(\"Slices {}\".format(slices))"
   ]
  },
  {
   "cell_type": "markdown",
   "metadata": {},
   "source": [
    "And then query our slivers."
   ]
  },
  {
   "cell_type": "code",
   "execution_count": null,
   "metadata": {},
   "outputs": [],
   "source": [
    "status, slivers = slice_manager.slivers(slice_id=slice_id)\n",
    "\n",
    "print(\"Response Status {}\".format(status))\n",
    "if status == Status.OK:\n",
    "    print(\"Sliver {}\".format(slivers))"
   ]
  },
  {
   "cell_type": "markdown",
   "metadata": {},
   "source": [
    "And then we can look at the `allocated_capacities` variable."
   ]
  },
  {
   "cell_type": "code",
   "execution_count": null,
   "metadata": {},
   "outputs": [],
   "source": [
    "print(slivers[0].allocated_capacities)"
   ]
  },
  {
   "cell_type": "markdown",
   "metadata": {},
   "source": [
    "We can see that we were allocated 2 cores, 8GB of ram, but 100GB of disk space instead of 50GB.\n",
    "\n",
    "The reason for this is that we have discrete \"capacity hints\". The node can only be an instance of one of those capacity hints.\n",
    "\n",
    "See the very last cell in this notebook for the complete list of available capacity hints.\n",
    "\n",
    "This is an exerpt of the available capacity hints. Full list available [here](https://github.com/fabric-testbed/InformationModel/blob/master/fim/slivers/data/instance_sizes.json).\n",
    "\n",
    "    \"fabric.c16.m64.d10\": {\"core\":16, \"ram\":64, \"disk\": 10},\n",
    "    \"fabric.c32.m128.d10\": {\"core\":32, \"ram\":128, \"disk\": 10},\n",
    "    \"fabric.c1.m4.d100\": {\"core\":1, \"ram\":4, \"disk\": 100},\n",
    "    \"fabric.c2.m8.d100\": {\"core\":2, \"ram\":8, \"disk\": 100},\n",
    "    \"fabric.c4.m16.d100\": {\"core\":4, \"ram\":16, \"disk\": 100},\n",
    "\n",
    "We can see that the disk space can only be 10GB or 100GB. So when we requested 50GB, it was rounded up to 100GB."
   ]
  },
  {
   "cell_type": "markdown",
   "metadata": {},
   "source": [
    "### Now let's delete the slice."
   ]
  },
  {
   "cell_type": "code",
   "execution_count": null,
   "metadata": {},
   "outputs": [],
   "source": [
    "slice_manager.delete(slice_id=slice_id)"
   ]
  },
  {
   "cell_type": "markdown",
   "metadata": {},
   "source": [
    "## Example 3: Capacity Hints\n",
    "\n",
    "Finally, we can directly set the resources that we need using a \"capacity hint\" string. _Please see the very last cell in this notebook for the complete list of available capacity hints._\n",
    "\n",
    "We can set the needed resources like so:\n",
    "\n",
    "`capacity_hints=CapacityHints().set_fields(instance_type='fabric.c2.m8.d10')`.\n",
    "\n",
    "This would reserve a node with 2 processor cores, 8GB of memory and 10GB of disk space.\n",
    " - The number next to the `c` is the number of cores.\n",
    " - The number next to the `m` is the amount of memory in GB.\n",
    " - The number next to the `d` is the amount of disk space in GB.\n",
    "\n",
    "We can pick any capacity hint string from the list."
   ]
  },
  {
   "cell_type": "code",
   "execution_count": null,
   "metadata": {},
   "outputs": [],
   "source": [
    "from fabrictestbed.slice_editor import ExperimentTopology, Capacities, ComponentType, CapacityHints\n",
    "# Create topology\n",
    "t = ExperimentTopology()\n",
    "\n",
    "# Add node\n",
    "n1 = t.add_node(name='n1', site='UKY')\n",
    "\n",
    "# Set Properties\n",
    "n1.set_properties(capacity_hints=CapacityHints().set_fields(instance_type='fabric.c2.m8.d10'), image_type='qcow2', image_ref='default_ubuntu_20')\n",
    "\n",
    "# Generate Slice Graph\n",
    "slice_graph = t.serialize()\n",
    "\n",
    "ssh_key = None\n",
    "with open (\"/home/fabric/.ssh/id_rsa.pub\", \"r\") as myfile:\n",
    "    ssh_key=myfile.read()\n",
    "    ssh_key=ssh_key.strip()\n",
    "\n",
    "# Request slice from Orchestrator\n",
    "status, reservations = slice_manager.create(slice_name='JupyterSlice3', slice_graph=slice_graph, ssh_key=ssh_key)\n",
    "\n",
    "print(\"Response Status {}\".format(status))\n",
    "print(\"Reservations created {}\".format(reservations))"
   ]
  },
  {
   "cell_type": "code",
   "execution_count": null,
   "metadata": {},
   "outputs": [],
   "source": [
    "# Set the Slice ID from output of the above command\n",
    "slice_id=reservations[0].slice_id"
   ]
  },
  {
   "cell_type": "markdown",
   "metadata": {},
   "source": [
    "Let's check our slices"
   ]
  },
  {
   "cell_type": "code",
   "execution_count": null,
   "metadata": {},
   "outputs": [],
   "source": [
    "status, slices = slice_manager.slices()\n",
    "\n",
    "print(\"Response Status {}\".format(status))\n",
    "if status == Status.OK:\n",
    "    print(\"Slices {}\".format(slices))"
   ]
  },
  {
   "cell_type": "markdown",
   "metadata": {},
   "source": [
    "Now let's query the slivers in JupyterSlice3."
   ]
  },
  {
   "cell_type": "code",
   "execution_count": null,
   "metadata": {},
   "outputs": [],
   "source": [
    "status, slivers = slice_manager.slivers(slice_id=slice_id)\n",
    "\n",
    "print(\"Response Status {}\".format(status))\n",
    "if status == Status.OK:\n",
    "    print(\"Sliver {}\".format(slivers))"
   ]
  },
  {
   "cell_type": "markdown",
   "metadata": {},
   "source": [
    "Let's focus on the `allocated_capacities` varible."
   ]
  },
  {
   "cell_type": "code",
   "execution_count": null,
   "metadata": {},
   "outputs": [],
   "source": [
    "print(slivers[0].allocated_capacities)"
   ]
  },
  {
   "cell_type": "markdown",
   "metadata": {},
   "source": [
    "We can see that we got the resources that we requested."
   ]
  },
  {
   "cell_type": "markdown",
   "metadata": {},
   "source": [
    "Now let's delete the slice."
   ]
  },
  {
   "cell_type": "code",
   "execution_count": null,
   "metadata": {},
   "outputs": [],
   "source": [
    "slice_manager.delete(slice_id=slice_id)"
   ]
  },
  {
   "cell_type": "markdown",
   "metadata": {},
   "source": [
    "## Capacity hints (and their descriptions) below. \n",
    "\n",
    "Full list available [here](https://github.com/fabric-testbed/InformationModel/blob/master/fim/slivers/data/instance_sizes.json)."
   ]
  },
  {
   "cell_type": "markdown",
   "metadata": {},
   "source": [
    "    {\n",
    "      \"fabric.c1.m4.d10\": {\"core\":1, \"ram\":4, \"disk\": 10},\n",
    "      \"fabric.c2.m8.d10\": {\"core\":2, \"ram\":8, \"disk\": 10},\n",
    "      \"fabric.c4.m16.d10\": {\"core\":4, \"ram\":16, \"disk\": 10},\n",
    "      \"fabric.c8.m32.d10\": {\"core\":8, \"ram\":32, \"disk\": 10},\n",
    "      \"fabric.c16.m64.d10\": {\"core\":16, \"ram\":64, \"disk\": 10},\n",
    "      \"fabric.c32.m128.d10\": {\"core\":32, \"ram\":128, \"disk\": 10},\n",
    "      \"fabric.c1.m4.d100\": {\"core\":1, \"ram\":4, \"disk\": 100},\n",
    "      \"fabric.c2.m8.d100\": {\"core\":2, \"ram\":8, \"disk\": 100},\n",
    "      \"fabric.c4.m16.d100\": {\"core\":4, \"ram\":16, \"disk\": 100},\n",
    "      \"fabric.c8.m32.d100\": {\"core\":8, \"ram\":32, \"disk\": 100},\n",
    "      \"fabric.c16.m64.d100\": {\"core\":16, \"ram\":64, \"disk\": 100},\n",
    "      \"fabric.c32.m128.d100\": {\"core\":32, \"ram\":128, \"disk\": 100},\n",
    "      \"fabric.c1.m4.d500\": {\"core\":1, \"ram\":4, \"disk\": 500},\n",
    "      \"fabric.c2.m8.d500\": {\"core\":2, \"ram\":8, \"disk\": 500},\n",
    "      \"fabric.c4.m16.d500\": {\"core\":4, \"ram\":16, \"disk\": 500},\n",
    "      \"fabric.c8.m32.d500\": {\"core\":8, \"ram\":32, \"disk\": 500},\n",
    "      \"fabric.c16.m64.d500\": {\"core\":16, \"ram\":64, \"disk\": 500},\n",
    "      \"fabric.c32.m128.d500\": {\"core\":32, \"ram\":128, \"disk\": 500},\n",
    "      \"fabric.c1.m4.d2000\": {\"core\":1, \"ram\":4, \"disk\": 2000},\n",
    "      \"fabric.c2.m8.d2000\": {\"core\":2, \"ram\":8, \"disk\": 2000},\n",
    "      \"fabric.c4.m16.d2000\": {\"core\":4, \"ram\":16, \"disk\": 2000},\n",
    "      \"fabric.c8.m32.d2000\": {\"core\":8, \"ram\":32, \"disk\": 2000},\n",
    "      \"fabric.c16.m64.d2000\": {\"core\":16, \"ram\":64, \"disk\": 2000},\n",
    "      \"fabric.c32.m128.d2000\": {\"core\":32, \"ram\":128, \"disk\": 2000},\n",
    "      \"fabric.c64.m384.d4000\": {\"core\":64, \"ram\":384, \"disk\": 4000}\n",
    "    }"
   ]
  }
 ],
 "metadata": {
  "kernelspec": {
   "display_name": "Python 3 (ipykernel)",
   "language": "python",
   "name": "python3"
  },
  "language_info": {
   "codemirror_mode": {
    "name": "ipython",
    "version": 3
   },
   "file_extension": ".py",
   "mimetype": "text/x-python",
   "name": "python",
   "nbconvert_exporter": "python",
   "pygments_lexer": "ipython3",
   "version": "3.9.2"
  }
 },
 "nbformat": 4,
 "nbformat_minor": 4
}
