{
 "cells": [
  {
   "cell_type": "markdown",
   "metadata": {
    "tags": []
   },
   "source": [
    "# Setup a FABRIC Bastion Keypair\n",
    "\n",
    "In order to minimize security incidents on FABRIC, access to VMs and other resources administered by users is controlled by a bastion host. You will need to set up an ssh keypair that will be used to jump through the bastion host to your VMs and other resources. This keypair is unique to you and is only used to set up ssh proxy connections through the bastion host to your FABRIC resources. These proxies only setup secure paths through the bastion hosts. The paths are completed using additional ssh keys that are specified in the slice request and installed in the VMs.\n",
    "\n",
    "The following notebook walks through creating and submitting a bastion keypair necessary to use FABRIC.\n",
    "\n",
    "## Create the Keypair"
   ]
  },
  {
   "cell_type": "code",
   "execution_count": null,
   "metadata": {},
   "outputs": [],
   "source": [
    "ssh-keygen  -t rsa -f id_rsa_fabric -q -N \"\""
   ]
  },
  {
   "cell_type": "markdown",
   "metadata": {},
   "source": [
    "## Submit the Public Key to FABRIC\n",
    "\n",
    "<div class=\"alert alert-block alert-info\">\n",
    "<b>Note:</b> Currently this step is a manual process. It will be automated in the near future.\n",
    "</div>\n",
    "\n",
    "Create new topic on the [FABRIC Account Issues Forum](https://learn.fabric-testbed.net/forums/forum/fabric-account-issues/). In the message, include the public key printed by the following cell. \n",
    "\n",
    "Once we create your bastion account we will reply to you forum post with your assigned bastion username."
   ]
  },
  {
   "cell_type": "code",
   "execution_count": null,
   "metadata": {},
   "outputs": [],
   "source": [
    "cat id_rsa_fabric.pub"
   ]
  },
  {
   "cell_type": "markdown",
   "metadata": {},
   "source": [
    "## Place the Private Key\n",
    "\n",
    "<div class=\"alert alert-block alert-info\">\n",
    "<b>Tip:</b> All FABRIC example notebooks set bastion_key_filename to '~/work/id_rsa_fabric' by default. If you are using the FABRIC JupyterHub, you won't need to change this variable if you put your private bastion ssh key at this path. \n",
    ".</div>\n",
    "\n"
   ]
  },
  {
   "cell_type": "code",
   "execution_count": null,
   "metadata": {},
   "outputs": [],
   "source": [
    "cp id_rsa_fabric ${HOME}/work/id_rsa_fabric"
   ]
  },
  {
   "cell_type": "code",
   "execution_count": null,
   "metadata": {},
   "outputs": [],
   "source": []
  }
 ],
 "metadata": {
  "kernelspec": {
   "display_name": "Bash",
   "language": "bash",
   "name": "bash"
  },
  "language_info": {
   "codemirror_mode": "shell",
   "file_extension": ".sh",
   "mimetype": "text/x-sh",
   "name": "bash"
  }
 },
 "nbformat": 4,
 "nbformat_minor": 4
}
