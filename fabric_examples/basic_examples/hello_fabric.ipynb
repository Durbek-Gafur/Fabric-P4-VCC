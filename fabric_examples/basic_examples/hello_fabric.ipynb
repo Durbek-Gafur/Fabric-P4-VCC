{
 "cells": [
  {
   "cell_type": "markdown",
   "metadata": {},
   "source": [
    "# Hello, FABRIC: Create your first FABRIC slice\n",
    "\n",
    "\n",
    "## Configure the Environment\n",
    "\n",
    "### Create the FABRIC Proxies\n",
    "\n",
    "The FABRIC API is used via proxy objects that manage connections to the control framework. \n"
   ]
  },
  {
   "cell_type": "code",
   "execution_count": 1,
   "metadata": {},
   "outputs": [],
   "source": [
    "import os\n",
    "from fabrictestbed.slice_manager import SliceManager, Status, SliceState\n",
    "import json"
   ]
  },
  {
   "cell_type": "code",
   "execution_count": 2,
   "metadata": {},
   "outputs": [],
   "source": [
    "ssh_key_file_priv=os.environ['HOME']+\"/.ssh/id_rsa\"\n",
    "ssh_key_file_pub=os.environ['HOME']+\"/.ssh/id_rsa.pub\"\n",
    "\n",
    "ssh_key_pub = None\n",
    "with open (ssh_key_file_pub, \"r\") as myfile:\n",
    "    ssh_key_pub=myfile.read()\n",
    "    ssh_key_pub=ssh_key_pub.strip()"
   ]
  },
  {
   "cell_type": "code",
   "execution_count": 3,
   "metadata": {},
   "outputs": [
    {
     "name": "stdout",
     "output_type": "stream",
     "text": [
      "FABRIC Credential Manager   : beta-2.fabric-testbed.net\n",
      "FABRIC Orchestrator         : beta-7.fabric-testbed.net\n"
     ]
    }
   ],
   "source": [
    "credmgr_host = os.environ['FABRIC_CREDMGR_HOST']\n",
    "print(f\"FABRIC Credential Manager   : {credmgr_host}\")\n",
    "\n",
    "orchestrator_host = os.environ['FABRIC_ORCHESTRATOR_HOST']\n",
    "print(f\"FABRIC Orchestrator         : {orchestrator_host}\")"
   ]
  },
  {
   "cell_type": "markdown",
   "metadata": {},
   "source": [
    "## Create Slice Manager Object\n",
    "Users can request tokens with different Project and Scopes by altering `project_name` and `scope` parameters in the refresh call below."
   ]
  },
  {
   "cell_type": "code",
   "execution_count": 4,
   "metadata": {},
   "outputs": [],
   "source": [
    "slice_manager = SliceManager(oc_host=orchestrator_host, \n",
    "                             cm_host=credmgr_host ,\n",
    "                             project_name='all', \n",
    "                             scope='all')\n",
    "\n",
    "# Initialize the slice manager\n",
    "slice_manager.initialize()"
   ]
  },
  {
   "cell_type": "markdown",
   "metadata": {},
   "source": [
    "### Orchestrator API example to query for available resources"
   ]
  },
  {
   "cell_type": "code",
   "execution_count": 5,
   "metadata": {},
   "outputs": [
    {
     "name": "stdout",
     "output_type": "stream",
     "text": [
      "\n",
      "Link Name port+lbnl-data-sw:HundredGigE0/0/0/0.2400-link, Link: {'layer': 'L2', 'name': 'port+lbnl-data-sw:HundredGigE0/0/0/0.2400-link', 'type': 'L2Path'}['RENC_LBNL', 'LBNL_RENC']\n",
      "\n",
      "\n",
      " Interfaces [{'capacities': '{ bw: 10 Gbps}', 'name': 'RENC_LBNL', 'type': 'TrunkPort'}, {'capacities': '{ bw: 100 Gbps}', 'name': 'LBNL_RENC', 'type': 'TrunkPort'}]\n",
      "\n",
      " interface properties: ('capacities', 'capacity_allocations', 'capacity_delegations', 'capacity_hints', 'details', 'label_allocations', 'label_delegations', 'labels', 'model', 'name', 'node_map', 'reservation_info', 'stitch_node', 'structural_info', 'type')\n",
      "interface parent: {'name': 'RENC_ns', 'type': 'MPLS'}['RENC_UKY', 'RENC_LBNL']\n",
      "interface owwner: {'capacities': '{ cpu: 6 , core: 192 , ram: 1,536 G, disk: 14,400 G, unit: 3 }', 'capacity_allocations': '{ core: 18 , ram: 30 G, disk: 620 G}', 'location': '{\"postal\": \"100 Europa Dr., Chapel Hill, NC 27517\"}', 'name': 'RENC', 'site': 'RENC', 'type': 'Server'}\n",
      "\n",
      " interface properties: ('capacities', 'capacity_allocations', 'capacity_delegations', 'capacity_hints', 'details', 'label_allocations', 'label_delegations', 'labels', 'model', 'name', 'node_map', 'reservation_info', 'stitch_node', 'structural_info', 'type')\n",
      "interface parent: {'name': 'LBNL_ns', 'type': 'MPLS'}['LBNL_RENC', 'LBNL_UKY']\n",
      "interface owwner: {'capacities': '{ cpu: 6 , core: 192 , ram: 1,536 G, disk: 9,600 G, unit: 3 }', 'capacity_allocations': '{ core: 20 , ram: 34 G, disk: 510 G}', 'location': '{\"postal\": \"1 Cyclotron Rd, Berkeley, CA 94720\"}', 'name': 'LBNL', 'site': 'LBNL', 'type': 'Server'}\n",
      "\n",
      "Link Name port+lbnl-data-sw:HundredGigE0/0/0/0.2401-link, Link: {'layer': 'L2', 'name': 'port+lbnl-data-sw:HundredGigE0/0/0/0.2401-link', 'type': 'L2Path'}['UKY_LBNL', 'LBNL_UKY']\n",
      "\n",
      "\n",
      " Interfaces [{'capacities': '{ bw: 100 Gbps}', 'name': 'UKY_LBNL', 'type': 'TrunkPort'}, {'capacities': '{ bw: 100 Gbps}', 'name': 'LBNL_UKY', 'type': 'TrunkPort'}]\n",
      "\n",
      " interface properties: ('capacities', 'capacity_allocations', 'capacity_delegations', 'capacity_hints', 'details', 'label_allocations', 'label_delegations', 'labels', 'model', 'name', 'node_map', 'reservation_info', 'stitch_node', 'structural_info', 'type')\n",
      "interface parent: {'name': 'UKY_ns', 'type': 'MPLS'}['UKY_LBNL', 'UKY_RENC']\n",
      "interface owwner: {'capacities': '{ cpu: 6 , core: 192 , ram: 1,536 G, disk: 9,600 G, unit: 3 }', 'capacity_allocations': '{ core: 14 , ram: 50 G, disk: 800 G}', 'location': '{\"postal\": \"301 Hilltop Ave Lexington, KY 40506\"}', 'name': 'UKY', 'site': 'UKY', 'type': 'Server'}\n",
      "\n",
      " interface properties: ('capacities', 'capacity_allocations', 'capacity_delegations', 'capacity_hints', 'details', 'label_allocations', 'label_delegations', 'labels', 'model', 'name', 'node_map', 'reservation_info', 'stitch_node', 'structural_info', 'type')\n",
      "interface parent: {'name': 'LBNL_ns', 'type': 'MPLS'}['LBNL_RENC', 'LBNL_UKY']\n",
      "interface owwner: {'capacities': '{ cpu: 6 , core: 192 , ram: 1,536 G, disk: 9,600 G, unit: 3 }', 'capacity_allocations': '{ core: 20 , ram: 34 G, disk: 510 G}', 'location': '{\"postal\": \"1 Cyclotron Rd, Berkeley, CA 94720\"}', 'name': 'LBNL', 'site': 'LBNL', 'type': 'Server'}\n",
      "\n",
      "Link Name port+renc-data-sw:TenGigE0/0/0/2/0.3999-link, Link: {'layer': 'L2', 'name': 'port+renc-data-sw:TenGigE0/0/0/2/0.3999-link', 'type': 'L2Path'}['RENC_UKY', 'UKY_RENC']\n",
      "\n",
      "\n",
      " Interfaces [{'capacities': '{ bw: 10 Gbps}', 'name': 'RENC_UKY', 'type': 'TrunkPort'}, {'capacities': '{ bw: 100 Gbps}', 'name': 'UKY_RENC', 'type': 'TrunkPort'}]\n",
      "\n",
      " interface properties: ('capacities', 'capacity_allocations', 'capacity_delegations', 'capacity_hints', 'details', 'label_allocations', 'label_delegations', 'labels', 'model', 'name', 'node_map', 'reservation_info', 'stitch_node', 'structural_info', 'type')\n",
      "interface parent: {'name': 'RENC_ns', 'type': 'MPLS'}['RENC_UKY', 'RENC_LBNL']\n",
      "interface owwner: {'capacities': '{ cpu: 6 , core: 192 , ram: 1,536 G, disk: 14,400 G, unit: 3 }', 'capacity_allocations': '{ core: 18 , ram: 30 G, disk: 620 G}', 'location': '{\"postal\": \"100 Europa Dr., Chapel Hill, NC 27517\"}', 'name': 'RENC', 'site': 'RENC', 'type': 'Server'}\n",
      "\n",
      " interface properties: ('capacities', 'capacity_allocations', 'capacity_delegations', 'capacity_hints', 'details', 'label_allocations', 'label_delegations', 'labels', 'model', 'name', 'node_map', 'reservation_info', 'stitch_node', 'structural_info', 'type')\n",
      "interface parent: {'name': 'UKY_ns', 'type': 'MPLS'}['UKY_LBNL', 'UKY_RENC']\n",
      "interface owwner: {'capacities': '{ cpu: 6 , core: 192 , ram: 1,536 G, disk: 9,600 G, unit: 3 }', 'capacity_allocations': '{ core: 14 , ram: 50 G, disk: 800 G}', 'location': '{\"postal\": \"301 Hilltop Ave Lexington, KY 40506\"}', 'name': 'UKY', 'site': 'UKY', 'type': 'Server'}\n"
     ]
    }
   ],
   "source": [
    "return_status, advertised_topology = slice_manager.resources()\n",
    "\n",
    "\n",
    "advertised_topology.serialize(file_name=\"/Users/pruth/FABRIC/advertised_topo.graphml\")\n",
    "\n",
    "if return_status == Status.OK:\n",
    "    #print(f\"Toplogy: {advertised_topology}\")\n",
    "    pass\n",
    "else:\n",
    "    print(f\"Error: {advertised_topology}\")\n",
    "    \n",
    "\n",
    "\n",
    "for link_name, link in advertised_topology.links.items():\n",
    "   \n",
    "    print(\"\\nLink Name {}, Link: {}\".format(link_name,link))\n",
    "\n",
    "    print(\"\\n\\n Interfaces {}\".format(link.interface_list))\n",
    "    for interface in link.interface_list:\n",
    "        print(\"\\n interface properties: {}\".format(interface.list_properties()) )\n",
    "        parent = advertised_topology.get_parent_element(interface)\n",
    "        print(\"interface parent: {}\".format(parent))\n",
    "        owner_node=advertised_topology.get_owner_node(parent)\n",
    "        print(\"interface owwner: {}\".format(owner_node))\n",
    "\n"
   ]
  },
  {
   "cell_type": "code",
   "execution_count": 6,
   "metadata": {},
   "outputs": [
    {
     "data": {
      "image/png": "[encoded data removed]",
      "text/plain": [
       "<Figure size 432x288 with 1 Axes>"
      ]
     },
     "metadata": {},
     "output_type": "display_data"
    }
   ],
   "source": [
    "if return_status == Status.OK:\n",
    "    advertised_topology.draw()"
   ]
  },
  {
   "cell_type": "markdown",
   "metadata": {
    "tags": []
   },
   "source": [
    "## Configure Slice Parameters\n",
    "\n"
   ]
  },
  {
   "cell_type": "code",
   "execution_count": 7,
   "metadata": {},
   "outputs": [],
   "source": [
    "slice_name = 'MySlice'\n",
    "site = 'RENC'\n",
    "node_name = 'Node1'\n",
    "image = 'default_centos_8'\n",
    "image_type = 'qcow2'\n",
    "cores = 2\n",
    "ram = 16\n",
    "disk = 100"
   ]
  },
  {
   "cell_type": "markdown",
   "metadata": {
    "tags": []
   },
   "source": [
    "## Create Slice\n",
    "\n",
    "Creates a single node with basic compute capabilities.\n",
    "\n",
    "<img src=\"./figs/SingleNode.png\" width=\"40%\"><br>\n"
   ]
  },
  {
   "cell_type": "code",
   "execution_count": 8,
   "metadata": {},
   "outputs": [
    {
     "name": "stdout",
     "output_type": "stream",
     "text": [
      "Submitted slice creation request. Slice ID: b9f41812-7d6e-41f5-9ac7-65eace8c4263\n"
     ]
    }
   ],
   "source": [
    "from fabrictestbed.slice_editor import ExperimentTopology, Capacities, ComponentType, ComponentModelType, ServiceType\n",
    "# Create topology\n",
    "myExperiment = ExperimentTopology()\n",
    "\n",
    "# Add node\n",
    "myNode = myExperiment.add_node(name=node_name, site=site)\n",
    "\n",
    "# Set capacities\n",
    "cap = Capacities()\n",
    "cap.set_fields(core=cores, ram=ram, disk=disk)\n",
    "\n",
    "# Set Properties\n",
    "myNode.set_properties(capacities=cap, image_type=image_type, image_ref=image)\n",
    "\n",
    "# Generate Slice Graph\n",
    "slice_graph = myExperiment.serialize()\n",
    "\n",
    "# Request slice from Orchestrator\n",
    "return_status, slice_reservations = slice_manager.create(slice_name=slice_name, slice_graph=slice_graph, ssh_key=ssh_key_pub)\n",
    "\n",
    "if return_status == Status.OK:\n",
    "    slice_id = slice_reservations[0].get_slice_id()\n",
    "    print(\"Submitted slice creation request. Slice ID: {}\".format(slice_id))\n",
    "else:\n",
    "    print(f\"Failure: {slice_reservations}\")"
   ]
  },
  {
   "cell_type": "markdown",
   "metadata": {
    "tags": []
   },
   "source": [
    "## Query Slices\n",
    "\n",
    "You can get a list of all your slices from the slice manager. If this is your first slice, it should return only one slice.\n",
    "\n",
    "Note that the status returned by the call to slices indicates the success or failure of the call to the FABRIC control framework. The status is not the status of the slices.  The status of each slice is included in the list of slices."
   ]
  },
  {
   "cell_type": "code",
   "execution_count": 13,
   "metadata": {},
   "outputs": [],
   "source": [
    "return_status, slices = slice_manager.slices(excludes=[SliceState.Dead,SliceState.Closing])\n",
    "\n",
    "if return_status == Status.OK:\n",
    "    for slice in slices:\n",
    "        print(\"{}:\".format(slice.slice_name))\n",
    "        print(\"   ID         : {}\".format(slice.slice_id))\n",
    "        print(\"   State      : {}\".format(slice.slice_state))\n",
    "        print(\"   Lease End  : {}\".format(slice.lease_end))\n",
    "        print()\n",
    "else:\n",
    "    print(f\"Failure: {slices}\")"
   ]
  },
  {
   "cell_type": "markdown",
   "metadata": {},
   "source": [
    "## Get the New Slice\n",
    "\n",
    "You new slice is in the list of all your slices. You can loop through the list of slices to get the new slice. Python has a standard tool to filter lists. Try using a lambda function to filter out your slice using its name."
   ]
  },
  {
   "cell_type": "code",
   "execution_count": 14,
   "metadata": {},
   "outputs": [
    {
     "ename": "IndexError",
     "evalue": "list index out of range",
     "output_type": "error",
     "traceback": [
      "\u001b[0;31m---------------------------------------------------------------------------\u001b[0m",
      "\u001b[0;31mIndexError\u001b[0m                                Traceback (most recent call last)",
      "\u001b[0;32m/var/folders/_l/8dq3pgzx6bjgt8qrr1m9jgc80000gp/T/ipykernel_41171/1531309565.py\u001b[0m in \u001b[0;36m<module>\u001b[0;34m\u001b[0m\n\u001b[0;32m----> 1\u001b[0;31m \u001b[0mslice\u001b[0m \u001b[0;34m=\u001b[0m \u001b[0mlist\u001b[0m\u001b[0;34m(\u001b[0m\u001b[0mfilter\u001b[0m\u001b[0;34m(\u001b[0m\u001b[0;32mlambda\u001b[0m \u001b[0mx\u001b[0m\u001b[0;34m:\u001b[0m \u001b[0mx\u001b[0m\u001b[0;34m.\u001b[0m\u001b[0mslice_name\u001b[0m \u001b[0;34m==\u001b[0m \u001b[0mslice_name\u001b[0m\u001b[0;34m,\u001b[0m \u001b[0mslices\u001b[0m\u001b[0;34m)\u001b[0m\u001b[0;34m)\u001b[0m\u001b[0;34m[\u001b[0m\u001b[0;36m0\u001b[0m\u001b[0;34m]\u001b[0m\u001b[0;34m\u001b[0m\u001b[0;34m\u001b[0m\u001b[0m\n\u001b[0m\u001b[1;32m      2\u001b[0m \u001b[0;34m\u001b[0m\u001b[0m\n\u001b[1;32m      3\u001b[0m \u001b[0mprint\u001b[0m\u001b[0;34m(\u001b[0m\u001b[0;34m\"Slice Name : {}\"\u001b[0m\u001b[0;34m.\u001b[0m\u001b[0mformat\u001b[0m\u001b[0;34m(\u001b[0m\u001b[0mslice\u001b[0m\u001b[0;34m.\u001b[0m\u001b[0mslice_name\u001b[0m\u001b[0;34m)\u001b[0m\u001b[0;34m)\u001b[0m\u001b[0;34m\u001b[0m\u001b[0;34m\u001b[0m\u001b[0m\n\u001b[1;32m      4\u001b[0m \u001b[0mprint\u001b[0m\u001b[0;34m(\u001b[0m\u001b[0;34m\"ID         : {}\"\u001b[0m\u001b[0;34m.\u001b[0m\u001b[0mformat\u001b[0m\u001b[0;34m(\u001b[0m\u001b[0mslice\u001b[0m\u001b[0;34m.\u001b[0m\u001b[0mslice_id\u001b[0m\u001b[0;34m)\u001b[0m\u001b[0;34m)\u001b[0m\u001b[0;34m\u001b[0m\u001b[0;34m\u001b[0m\u001b[0m\n\u001b[1;32m      5\u001b[0m \u001b[0mprint\u001b[0m\u001b[0;34m(\u001b[0m\u001b[0;34m\"State      : {}\"\u001b[0m\u001b[0;34m.\u001b[0m\u001b[0mformat\u001b[0m\u001b[0;34m(\u001b[0m\u001b[0mslice\u001b[0m\u001b[0;34m.\u001b[0m\u001b[0mslice_state\u001b[0m\u001b[0;34m)\u001b[0m\u001b[0;34m)\u001b[0m\u001b[0;34m\u001b[0m\u001b[0;34m\u001b[0m\u001b[0m\n",
      "\u001b[0;31mIndexError\u001b[0m: list index out of range"
     ]
    }
   ],
   "source": [
    "slice = list(filter(lambda x: x.slice_name == slice_name, slices))[0]\n",
    "\n",
    "print(\"Slice Name : {}\".format(slice.slice_name))\n",
    "print(\"ID         : {}\".format(slice.slice_id))\n",
    "print(\"State      : {}\".format(slice.slice_state))\n",
    "print(\"Lease End  : {}\".format(slice.lease_end))"
   ]
  },
  {
   "cell_type": "markdown",
   "metadata": {},
   "source": [
    "## Wait for the Slice to Build"
   ]
  },
  {
   "cell_type": "code",
   "execution_count": 11,
   "metadata": {},
   "outputs": [
    {
     "name": "stdout",
     "output_type": "stream",
     "text": [
      "Waiting for slice ....."
     ]
    },
    {
     "ename": "IndexError",
     "evalue": "list index out of range",
     "output_type": "error",
     "traceback": [
      "\u001b[0;31m---------------------------------------------------------------------------\u001b[0m",
      "\u001b[0;31mIndexError\u001b[0m                                Traceback (most recent call last)",
      "\u001b[0;32m/var/folders/_l/8dq3pgzx6bjgt8qrr1m9jgc80000gp/T/ipykernel_41171/2266382773.py\u001b[0m in \u001b[0;36m<module>\u001b[0;34m\u001b[0m\n\u001b[1;32m     27\u001b[0m \u001b[0;34m\u001b[0m\u001b[0m\n\u001b[1;32m     28\u001b[0m \u001b[0;34m\u001b[0m\u001b[0m\n\u001b[0;32m---> 29\u001b[0;31m \u001b[0mslice\u001b[0m \u001b[0;34m=\u001b[0m \u001b[0mwait_for_slice\u001b[0m\u001b[0;34m(\u001b[0m\u001b[0mslice\u001b[0m\u001b[0;34m,\u001b[0m \u001b[0mprogress\u001b[0m\u001b[0;34m=\u001b[0m\u001b[0;32mTrue\u001b[0m\u001b[0;34m)\u001b[0m\u001b[0;34m\u001b[0m\u001b[0;34m\u001b[0m\u001b[0m\n\u001b[0m\u001b[1;32m     30\u001b[0m \u001b[0mprint\u001b[0m\u001b[0;34m(\u001b[0m\u001b[0;34m)\u001b[0m\u001b[0;34m\u001b[0m\u001b[0;34m\u001b[0m\u001b[0m\n\u001b[1;32m     31\u001b[0m \u001b[0;34m\u001b[0m\u001b[0m\n",
      "\u001b[0;32m/var/folders/_l/8dq3pgzx6bjgt8qrr1m9jgc80000gp/T/ipykernel_41171/2266382773.py\u001b[0m in \u001b[0;36mwait_for_slice\u001b[0;34m(slice, timeout, interval, progress)\u001b[0m\n\u001b[1;32m      8\u001b[0m \u001b[0;34m\u001b[0m\u001b[0m\n\u001b[1;32m      9\u001b[0m         \u001b[0;32mif\u001b[0m \u001b[0mreturn_status\u001b[0m \u001b[0;34m==\u001b[0m \u001b[0mStatus\u001b[0m\u001b[0;34m.\u001b[0m\u001b[0mOK\u001b[0m\u001b[0;34m:\u001b[0m\u001b[0;34m\u001b[0m\u001b[0;34m\u001b[0m\u001b[0m\n\u001b[0;32m---> 10\u001b[0;31m             \u001b[0mslice\u001b[0m \u001b[0;34m=\u001b[0m \u001b[0mlist\u001b[0m\u001b[0;34m(\u001b[0m\u001b[0mfilter\u001b[0m\u001b[0;34m(\u001b[0m\u001b[0;32mlambda\u001b[0m \u001b[0mx\u001b[0m\u001b[0;34m:\u001b[0m \u001b[0mx\u001b[0m\u001b[0;34m.\u001b[0m\u001b[0mslice_name\u001b[0m \u001b[0;34m==\u001b[0m \u001b[0mslice_name\u001b[0m\u001b[0;34m,\u001b[0m \u001b[0mslices\u001b[0m\u001b[0;34m)\u001b[0m\u001b[0;34m)\u001b[0m\u001b[0;34m[\u001b[0m\u001b[0;36m0\u001b[0m\u001b[0;34m]\u001b[0m\u001b[0;34m\u001b[0m\u001b[0;34m\u001b[0m\u001b[0m\n\u001b[0m\u001b[1;32m     11\u001b[0m             \u001b[0;32mif\u001b[0m \u001b[0mslice\u001b[0m\u001b[0;34m.\u001b[0m\u001b[0mslice_state\u001b[0m \u001b[0;34m==\u001b[0m \u001b[0;34m\"StableOK\"\u001b[0m\u001b[0;34m:\u001b[0m\u001b[0;34m\u001b[0m\u001b[0;34m\u001b[0m\u001b[0m\n\u001b[1;32m     12\u001b[0m                 \u001b[0;32mif\u001b[0m \u001b[0mprogress\u001b[0m\u001b[0;34m:\u001b[0m \u001b[0mprint\u001b[0m\u001b[0;34m(\u001b[0m\u001b[0;34m\" Slice state: {}\"\u001b[0m\u001b[0;34m.\u001b[0m\u001b[0mformat\u001b[0m\u001b[0;34m(\u001b[0m\u001b[0mslice\u001b[0m\u001b[0;34m.\u001b[0m\u001b[0mslice_state\u001b[0m\u001b[0;34m)\u001b[0m\u001b[0;34m)\u001b[0m\u001b[0;34m\u001b[0m\u001b[0;34m\u001b[0m\u001b[0m\n",
      "\u001b[0;31mIndexError\u001b[0m: list index out of range"
     ]
    }
   ],
   "source": [
    "import time\n",
    "def wait_for_slice(slice,timeout=180,interval=10,progress=False):\n",
    "    timeout_start = time.time()\n",
    "\n",
    "    if progress: print(\"Waiting for slice .\", end = '')\n",
    "    while time.time() < timeout_start + timeout:\n",
    "        return_status, slices = slice_manager.slices(excludes=[SliceState.Dead,SliceState.Closing])\n",
    "\n",
    "        if return_status == Status.OK:\n",
    "            slice = list(filter(lambda x: x.slice_name == slice_name, slices))[0]\n",
    "            if slice.slice_state == \"StableOK\":\n",
    "                if progress: print(\" Slice state: {}\".format(slice.slice_state))\n",
    "                return slice\n",
    "            if slice.slice_state == \"Closing\" or slice.slice_state == \"Dead\":\n",
    "                if progress: print(\" Slice state: {}\".format(slice.slice_state))\n",
    "                return slice    \n",
    "        else:\n",
    "            print(f\"Failure: {slices}\")\n",
    "        \n",
    "        if progress: print(\".\", end = '')\n",
    "        time.sleep(interval)\n",
    "    \n",
    "    if time.time() >= timeout_start + timeout:\n",
    "        if progress: print(\" Timeout exceeded ({} sec). Slice: {} ({})\".format(timeout,slice.slice_name,slice.slice_state))\n",
    "        return slice    \n",
    "\n",
    "            \n",
    "            \n",
    "slice = wait_for_slice(slice, progress=True)\n",
    "print()\n",
    "\n",
    "print(\"Slice Name : {}\".format(slice.slice_name))\n",
    "print(\"ID         : {}\".format(slice.slice_id))\n",
    "print(\"State      : {}\".format(slice.slice_state))\n",
    "print(\"Lease End  : {}\".format(slice.lease_end))"
   ]
  },
  {
   "cell_type": "markdown",
   "metadata": {
    "tags": []
   },
   "source": [
    "## Get the Slice Topology"
   ]
  },
  {
   "cell_type": "code",
   "execution_count": null,
   "metadata": {},
   "outputs": [],
   "source": [
    "return_status, experiment_topology = slice_manager.get_slice_topology(slice_object=slice)\n",
    "\n",
    "for node_name, node in experiment_topology.nodes.items():\n",
    "    print(\"Node:\")\n",
    "    print(\"   Name              : {}\".format(node.name))\n",
    "    print(\"   Cores             : {}\".format(node.get_property(pname='capacity_allocations').core))\n",
    "    print(\"   RAM               : {}\".format(node.get_property(pname='capacity_allocations').ram))\n",
    "    print(\"   Disk              : {}\".format(node.get_property(pname='capacity_allocations').disk))\n",
    "    print(\"   Image             : {}\".format(node.get_property(pname='image_ref')))\n",
    "    print(\"   Image Type        : {}\".format(node.get_property(pname='image_type')))\n",
    "    print(\"   Host              : {}\".format(node.get_property(pname='label_allocations').instance_parent))\n",
    "    print(\"   Site              : {}\".format(node.get_property(pname='site')))\n",
    "    print(\"   Management IP     : {}\".format(node.get_property(pname='management_ip')))\n",
    "    print(\"   Reservation ID    : {}\".format(node.get_property(pname='reservation_info').reservation_id))\n",
    "    print(\"   Reservation State : {}\".format(node.get_property(pname='reservation_info').reservation_state))\n",
    "    print(\"   Components        : {}\".format(node.components))\n",
    "    print(\"   Interfaces        : {}\".format(node.interfaces))\n",
    "    print()    "
   ]
  },
  {
   "cell_type": "markdown",
   "metadata": {},
   "source": [
    "## Log into the nodes"
   ]
  },
  {
   "cell_type": "code",
   "execution_count": null,
   "metadata": {},
   "outputs": [],
   "source": [
    "script= '#!/bin/bash  \\n' \\\n",
    "        'echo Hello, FABRIC from node `hostname -s`   \\n'"
   ]
  },
  {
   "cell_type": "code",
   "execution_count": null,
   "metadata": {},
   "outputs": [],
   "source": [
    "import paramiko \n",
    "\n",
    "key = paramiko.RSAKey.from_private_key_file(ssh_key_file_priv)\n",
    "client = paramiko.SSHClient()\n",
    "client.load_system_host_keys()\n",
    "client.set_missing_host_key_policy(paramiko.MissingHostKeyPolicy())\n",
    "client.set_missing_host_key_policy(paramiko.AutoAddPolicy())\n",
    "\n",
    "for node_name, node in experiment_topology.nodes.items():\n",
    "    management_ip = str(node.get_property(pname='management_ip'))\n",
    "    print(\"Node {0} IP {1}\".format(node_name, management_ip))\n",
    "    \n",
    "    client.connect(management_ip,username='centos',pkey = key)\n",
    "\n",
    "    stdin, stdout, stderr = client.exec_command('echo \\\"' + script + '\\\" > script.sh; chmod +x script.sh; sudo ./script.sh')\n",
    "    print ('')\n",
    "    print (str(stdout.read(),'utf-8').replace('\\\\n','\\n'))\n",
    "\n",
    "    client.close()"
   ]
  },
  {
   "cell_type": "markdown",
   "metadata": {
    "tags": []
   },
   "source": [
    "## Delete Slice"
   ]
  },
  {
   "cell_type": "code",
   "execution_count": null,
   "metadata": {},
   "outputs": [],
   "source": [
    "#return_status, result = slice_manager.delete(slice_object=slice)\n",
    "\n",
    "#print(\"Response Status {}\".format(return_status))\n",
    "#print(\"Response received {}\".format(result))"
   ]
  },
  {
   "cell_type": "code",
   "execution_count": null,
   "metadata": {},
   "outputs": [],
   "source": []
  }
 ],
 "metadata": {
  "kernelspec": {
   "display_name": "Python 3 (ipykernel)",
   "language": "python",
   "name": "python3"
  },
  "language_info": {
   "codemirror_mode": {
    "name": "ipython",
    "version": 3
   },
   "file_extension": ".py",
   "mimetype": "text/x-python",
   "name": "python",
   "nbconvert_exporter": "python",
   "pygments_lexer": "ipython3",
   "version": "3.9.2"
  }
 },
 "nbformat": 4,
 "nbformat_minor": 4
}
