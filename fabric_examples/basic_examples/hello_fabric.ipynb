{
 "cells": [
  {
   "cell_type": "markdown",
   "metadata": {},
   "source": [
    "# Hello, FABRIC: Create your first FABRIC slice\n",
    "\n",
    "\n",
    "## Configure the Environment\n",
    "\n",
    "### Create the FABRIC Proxies\n",
    "\n",
    "The FABRIC API is used via proxy objects that manage connections to the control framework. \n"
   ]
  },
  {
   "cell_type": "code",
   "execution_count": 1,
   "metadata": {},
   "outputs": [],
   "source": [
    "import os\n",
    "from fabrictestbed.slice_manager import SliceManager, Status, SliceState\n",
    "import json"
   ]
  },
  {
   "cell_type": "code",
   "execution_count": 2,
   "metadata": {},
   "outputs": [],
   "source": [
    "ssh_key_file_priv=os.environ['HOME']+\"/.ssh/id_rsa\"\n",
    "ssh_key_file_pub=os.environ['HOME']+\"/.ssh/id_rsa.pub\"\n",
    "\n",
    "ssh_key_pub = None\n",
    "with open (ssh_key_file_pub, \"r\") as myfile:\n",
    "    ssh_key_pub=myfile.read()\n",
    "    ssh_key_pub=ssh_key_pub.strip()"
   ]
  },
  {
   "cell_type": "code",
   "execution_count": 3,
   "metadata": {},
   "outputs": [
    {
     "name": "stdout",
     "output_type": "stream",
     "text": [
      "FABRIC Credential Manager   : beta-2.fabric-testbed.net\n",
      "FABRIC Orchestrator         : beta-7.fabric-testbed.net\n"
     ]
    }
   ],
   "source": [
    "credmgr_host = os.environ['FABRIC_CREDMGR_HOST']\n",
    "print(f\"FABRIC Credential Manager   : {credmgr_host}\")\n",
    "\n",
    "orchestrator_host = os.environ['FABRIC_ORCHESTRATOR_HOST']\n",
    "print(f\"FABRIC Orchestrator         : {orchestrator_host}\")"
   ]
  },
  {
   "cell_type": "markdown",
   "metadata": {},
   "source": [
    "## Create Slice Manager Object\n",
    "Users can request tokens with different Project and Scopes by altering `project_name` and `scope` parameters in the refresh call below."
   ]
  },
  {
   "cell_type": "code",
   "execution_count": 4,
   "metadata": {},
   "outputs": [],
   "source": [
    "slice_manager = SliceManager(oc_host=orchestrator_host, \n",
    "                             cm_host=credmgr_host ,\n",
    "                             project_name='all', \n",
    "                             scope='all')\n",
    "\n",
    "# Initialize the slice manager\n",
    "slice_manager.initialize()"
   ]
  },
  {
   "cell_type": "markdown",
   "metadata": {},
   "source": [
    "### Orchestrator API example to query for available resources"
   ]
  },
  {
   "cell_type": "code",
   "execution_count": 31,
   "metadata": {},
   "outputs": [
    {
     "name": "stdout",
     "output_type": "stream",
     "text": [
      "Toplogy: UKY: { cpu: 6/6 , core: 180/192 , ram: 1,440/1,536 G, disk: 9,000/9,600 G, unit: 3/3 }\n",
      "\tComponents:\n",
      "\t\tNVME-P4510:  NVME P4510 { disk: 10,000/10,000 G, unit: 10/10 }\n",
      "\t\tSharedNIC-ConnectX-6:  SharedNIC ConnectX-6 { unit: 378/381 }\n",
      "\t\tSmartNIC-ConnectX-6:  SmartNIC ConnectX-6 { unit: 1/2 }\n",
      "\t\tSmartNIC-ConnectX-5:  SmartNIC ConnectX-5 { unit: 2/2 }\n",
      "\t\tGPU-Tesla T4:  GPU Tesla T4 { unit: 4/4 }\n",
      "\t\tGPU-RTX6000:  GPU RTX6000 { unit: 2/2 }\n",
      "\tSite Interfaces:\n",
      "\t\tUKY_LBNL: TrunkPort { bw: 100/100 Gbps}\n",
      "\t\tUKY_RENC: TrunkPort { bw: 100/100 Gbps}\n",
      "LBNL: { cpu: 6/6 , core: 184/192 , ram: 1,514/1,536 G, disk: 9,490/9,600 G, unit: 3/3 }\n",
      "\tComponents:\n",
      "\t\tGPU-RTX6000:  GPU RTX6000 { unit: 2/2 }\n",
      "\t\tGPU-Tesla T4:  GPU Tesla T4 { unit: 4/4 }\n",
      "\t\tSharedNIC-ConnectX-6:  SharedNIC ConnectX-6 { unit: 380/381 }\n",
      "\t\tNVME-P4510:  NVME P4510 { disk: 10,000/10,000 G, unit: 10/10 }\n",
      "\t\tSmartNIC-ConnectX-6:  SmartNIC ConnectX-6 { unit: 2/2 }\n",
      "\t\tSmartNIC-ConnectX-5:  SmartNIC ConnectX-5 { unit: 2/2 }\n",
      "\tSite Interfaces:\n",
      "\t\tLBNL_RENC: TrunkPort { bw: 100/100 Gbps}\n",
      "\t\tLBNL_UKY: TrunkPort { bw: 100/100 Gbps}\n",
      "RENC: { cpu: 6/6 , core: 190/192 , ram: 1,520/1,536 G, disk: 14,300/14,400 G, unit: 3/3 }\n",
      "\tComponents:\n",
      "\t\tSmartNIC-ConnectX-5:  SmartNIC ConnectX-5 { unit: 2/2 }\n",
      "\t\tSmartNIC-ConnectX-6:  SmartNIC ConnectX-6 { unit: 2/2 }\n",
      "\t\tGPU-Tesla T4:  GPU Tesla T4 { unit: 4/4 }\n",
      "\t\tGPU-RTX6000:  GPU RTX6000 { unit: 2/2 }\n",
      "\t\tNVME-P4510:  NVME P4510 { disk: 10,000/10,000 G, unit: 10/10 }\n",
      "\t\tSharedNIC-ConnectX-6:  SharedNIC ConnectX-6 { unit: 381/381 }\n",
      "\tSite Interfaces:\n",
      "\t\tRENC_UKY: TrunkPort { bw: 10/10 Gbps}\n",
      "\t\tRENC_LBNL: TrunkPort { bw: 10/10 Gbps}\n",
      "Links:\n",
      "\tport+lbnl-data-sw:HundredGigE0/0/0/0.2401-link[L2Path]: ['UKY_LBNL', 'LBNL_UKY']\n",
      "\tport+renc-data-sw:TenGigE0/0/0/2/0.3999-link[L2Path]: ['UKY_RENC', 'RENC_UKY']\n",
      "\tport+lbnl-data-sw:HundredGigE0/0/0/0.2400-link[L2Path]: ['RENC_LBNL', 'LBNL_RENC']\n"
     ]
    }
   ],
   "source": [
    "return_status, advertised_topology = slice_manager.resources()\n",
    "\n",
    "if return_status == Status.OK:\n",
    "    print(f\"Toplogy: {advertised_topology}\")\n",
    "else:\n",
    "    print(f\"Error: {advertised_topology}\")"
   ]
  },
  {
   "cell_type": "code",
   "execution_count": 32,
   "metadata": {},
   "outputs": [
    {
     "data": {
      "image/png": "[encoded data removed]",
      "text/plain": [
       "<Figure size 432x288 with 1 Axes>"
      ]
     },
     "metadata": {},
     "output_type": "display_data"
    }
   ],
   "source": [
    "if return_status == Status.OK:\n",
    "    advertised_topology.draw()"
   ]
  },
  {
   "cell_type": "markdown",
   "metadata": {
    "tags": []
   },
   "source": [
    "## Configure Slice Parameters\n",
    "\n"
   ]
  },
  {
   "cell_type": "code",
   "execution_count": 33,
   "metadata": {},
   "outputs": [],
   "source": [
    "slice_name = 'MySlice2'\n",
    "site = 'RENC'\n",
    "node_name = 'Node1'\n",
    "image = 'default_centos_8'\n",
    "image_type = 'qcow2'\n",
    "cores = 2\n",
    "ram = 16\n",
    "disk = 100"
   ]
  },
  {
   "cell_type": "markdown",
   "metadata": {
    "tags": []
   },
   "source": [
    "## Create Slice\n",
    "\n",
    "Creates a single node with basic compute capabilities.\n",
    "\n",
    "<img src=\"./figs/SingleNode.png\" width=\"40%\"><br>\n"
   ]
  },
  {
   "cell_type": "code",
   "execution_count": 34,
   "metadata": {},
   "outputs": [
    {
     "name": "stdout",
     "output_type": "stream",
     "text": [
      "Failure: (500)\n",
      "Reason: INTERNAL SERVER ERROR\n",
      "HTTP response headers: HTTPHeaderDict({'Server': 'nginx/1.19.8', 'Date': 'Wed, 22 Sep 2021 16:08:56 GMT', 'Content-Type': 'text/html; charset=utf-8', 'Content-Length': '29', 'Connection': 'keep-alive', 'Access-Control-Allow-Credentials': 'true', 'Access-Control-Allow-Headers': 'DNT, User-Agent, X-Requested-With, If-Modified-Since, Cache-Control, Content-Type, Range', 'Access-Control-Allow-Methods': 'GET, POST, PUT, DELETE, OPTIONS', 'Access-Control-Allow-Origin': '*', 'Access-Control-Expose-Headers': 'Content-Length, Content-Range, X-Error', 'X-Error': 'Slice MySlice2 already exists'})\n",
      "HTTP response body: Slice MySlice2 already exists\n",
      "\n"
     ]
    }
   ],
   "source": [
    "from fabrictestbed.slice_editor import ExperimentTopology, Capacities, ComponentType, ComponentModelType, ServiceType\n",
    "# Create topology\n",
    "myExperiment = ExperimentTopology()\n",
    "\n",
    "# Add node\n",
    "myNode = myExperiment.add_node(name=node_name, site=site)\n",
    "\n",
    "# Set capacities\n",
    "cap = Capacities()\n",
    "cap.set_fields(core=cores, ram=ram, disk=disk)\n",
    "\n",
    "# Set Properties\n",
    "myNode.set_properties(capacities=cap, image_type=image_type, image_ref=image)\n",
    "\n",
    "# Generate Slice Graph\n",
    "slice_graph = myExperiment.serialize()\n",
    "\n",
    "# Request slice from Orchestrator\n",
    "return_status, slice_reservations = slice_manager.create(slice_name=slice_name, slice_graph=slice_graph, ssh_key=ssh_key_pub)\n",
    "\n",
    "if return_status == Status.OK:\n",
    "    slice_id = slice_reservations[0].get_slice_id()\n",
    "    print(\"Submitted slice creation request. Slice ID: {}\".format(slice_id))\n",
    "else:\n",
    "    print(f\"Failure: {slice_reservations}\")"
   ]
  },
  {
   "cell_type": "markdown",
   "metadata": {
    "tags": []
   },
   "source": [
    "## Query Slices\n",
    "\n",
    "You can get a list of all your slices from the slice manager. If this is your first slice, it should return only one slice.\n",
    "\n",
    "Note that the status returned by the call to slices indicates the success or failure of the call to the FABRIC control framework. The status is not the status of the slices.  The status of each slice is included in the list of slices."
   ]
  },
  {
   "cell_type": "code",
   "execution_count": 6,
   "metadata": {},
   "outputs": [
    {
     "name": "stdout",
     "output_type": "stream",
     "text": [
      "MySlice1:\n",
      "   ID         : 86a2a8c4-892b-448a-be14-1a538ea3824d\n",
      "   State      : Closing\n",
      "   Lease End  : 2021-09-18 14:43:56\n",
      "\n",
      "MySlice1:\n",
      "   ID         : c90f42ac-f43d-4b4d-b8c3-9c45a73bac59\n",
      "   State      : Closing\n",
      "   Lease End  : 2021-09-21 19:41:33\n",
      "\n",
      "MySlice3:\n",
      "   ID         : 229bc3e1-5b3c-45a6-aa26-04beb2af6bd4\n",
      "   State      : StableOK\n",
      "   Lease End  : 2021-09-23 16:28:43\n",
      "\n",
      "MySlice4:\n",
      "   ID         : c8ea4f55-8b6c-4da8-a63c-d43b42d91753\n",
      "   State      : StableOK\n",
      "   Lease End  : 2021-09-23 16:32:52\n",
      "\n"
     ]
    }
   ],
   "source": [
    "return_status, slices = slice_manager.slices(excludes=[SliceState.Dead])\n",
    "\n",
    "if return_status == Status.OK:\n",
    "    for slice in slices:\n",
    "        print(\"{}:\".format(slice.slice_name))\n",
    "        print(\"   ID         : {}\".format(slice.slice_id))\n",
    "        print(\"   State      : {}\".format(slice.slice_state))\n",
    "        print(\"   Lease End  : {}\".format(slice.lease_end))\n",
    "        print()\n",
    "else:\n",
    "    print(f\"Failure: {slices}\")"
   ]
  },
  {
   "cell_type": "markdown",
   "metadata": {},
   "source": [
    "## Get the New Slice\n",
    "\n",
    "You new slice is in the list of all your slices. You can loop through the list of slices to get the new slice. Python has a standard tool to filter lists. Try using a lambda function to filter out your slice using its name."
   ]
  },
  {
   "cell_type": "code",
   "execution_count": 25,
   "metadata": {},
   "outputs": [
    {
     "name": "stdout",
     "output_type": "stream",
     "text": [
      "Slice Name : MySlice2\n",
      "ID         : 946e696c-7613-4b36-b918-19130c8086e5\n",
      "State      : Configuring\n",
      "Lease End  : 2021-09-23 16:07:21\n"
     ]
    }
   ],
   "source": [
    "slice = list(filter(lambda x: x.slice_name == slice_name, slices))[0]\n",
    "\n",
    "print(\"Slice Name : {}\".format(slice.slice_name))\n",
    "print(\"ID         : {}\".format(slice.slice_id))\n",
    "print(\"State      : {}\".format(slice.slice_state))\n",
    "print(\"Lease End  : {}\".format(slice.lease_end))"
   ]
  },
  {
   "cell_type": "markdown",
   "metadata": {},
   "source": [
    "## Wait for the Slice to Build"
   ]
  },
  {
   "cell_type": "code",
   "execution_count": 26,
   "metadata": {},
   "outputs": [
    {
     "name": "stdout",
     "output_type": "stream",
     "text": [
      "Waiting for slice ..... Slice state: StableOK\n",
      "\n",
      "Slice Name : MySlice2\n",
      "ID         : 946e696c-7613-4b36-b918-19130c8086e5\n",
      "State      : StableOK\n",
      "Lease End  : 2021-09-23 16:07:21\n"
     ]
    }
   ],
   "source": [
    "import time\n",
    "def wait_for_slice(slice,timeout=180,interval=10,progress=False):\n",
    "    timeout_start = time.time()\n",
    "\n",
    "    if progress: print(\"Waiting for slice .\", end = '')\n",
    "    while time.time() < timeout_start + timeout:\n",
    "        return_status, slices = slice_manager.slices(excludes=[SliceState.Dead])\n",
    "\n",
    "        if return_status == Status.OK:\n",
    "            slice = list(filter(lambda x: x.slice_name == slice_name, slices))[0]\n",
    "            if slice.slice_state == \"StableOK\":\n",
    "                if progress: print(\" Slice state: {}\".format(slice.slice_state))\n",
    "                return slice\n",
    "            if slice.slice_state == \"Closing\" or slice.slice_state == \"Dead\":\n",
    "                if progress: print(\" Slice state: {}\".format(slice.slice_state))\n",
    "                return slice    \n",
    "        else:\n",
    "            print(f\"Failure: {slices}\")\n",
    "        \n",
    "        if progress: print(\".\", end = '')\n",
    "        time.sleep(interval)\n",
    "    \n",
    "    if time.time() >= timeout_start + timeout:\n",
    "        if progress: print(\" Timeout exceeded ({} sec). Slice: {} ({})\".format(timeout,slice.slice_name,slice.slice_state))\n",
    "        return slice    \n",
    "\n",
    "            \n",
    "            \n",
    "slice = wait_for_slice(slice, progress=True)\n",
    "print()\n",
    "\n",
    "print(\"Slice Name : {}\".format(slice.slice_name))\n",
    "print(\"ID         : {}\".format(slice.slice_id))\n",
    "print(\"State      : {}\".format(slice.slice_state))\n",
    "print(\"Lease End  : {}\".format(slice.lease_end))"
   ]
  },
  {
   "cell_type": "markdown",
   "metadata": {
    "tags": []
   },
   "source": [
    "## Get the Slice Topology"
   ]
  },
  {
   "cell_type": "code",
   "execution_count": null,
   "metadata": {},
   "outputs": [],
   "source": [
    "return_status, experiment_topology = slice_manager.get_slice_topology(slice_object=slice)\n",
    "\n",
    "for node_name, node in experiment_topology.nodes.items():\n",
    "    print(\"Node:\")\n",
    "    print(\"   Name              : {}\".format(node.name))\n",
    "    print(\"   Cores             : {}\".format(node.get_property(pname='capacity_allocations').core))\n",
    "    print(\"   RAM               : {}\".format(node.get_property(pname='capacity_allocations').ram))\n",
    "    print(\"   Disk              : {}\".format(node.get_property(pname='capacity_allocations').disk))\n",
    "    print(\"   Image             : {}\".format(node.get_property(pname='image_ref')))\n",
    "    print(\"   Image Type        : {}\".format(node.get_property(pname='image_type')))\n",
    "    print(\"   Host              : {}\".format(node.get_property(pname='label_allocations').instance_parent))\n",
    "    print(\"   Site              : {}\".format(node.get_property(pname='site')))\n",
    "    print(\"   Management IP     : {}\".format(node.get_property(pname='management_ip')))\n",
    "    print(\"   Reservation ID    : {}\".format(node.get_property(pname='reservation_info').reservation_id))\n",
    "    print(\"   Reservation State : {}\".format(node.get_property(pname='reservation_info').reservation_state))\n",
    "    print(\"   Components        : {}\".format(node.components))\n",
    "    print(\"   Interfaces        : {}\".format(node.interfaces))\n",
    "    print()    "
   ]
  },
  {
   "cell_type": "markdown",
   "metadata": {},
   "source": [
    "## Log into the nodes"
   ]
  },
  {
   "cell_type": "code",
   "execution_count": null,
   "metadata": {},
   "outputs": [],
   "source": [
    "script= '#!/bin/bash  \\n' \\\n",
    "        'echo Hello, FABRIC from node `hostname -s`   \\n'"
   ]
  },
  {
   "cell_type": "code",
   "execution_count": null,
   "metadata": {},
   "outputs": [],
   "source": [
    "import paramiko \n",
    "\n",
    "key = paramiko.RSAKey.from_private_key_file(ssh_key_file_priv)\n",
    "client = paramiko.SSHClient()\n",
    "client.load_system_host_keys()\n",
    "client.set_missing_host_key_policy(paramiko.MissingHostKeyPolicy())\n",
    "client.set_missing_host_key_policy(paramiko.AutoAddPolicy())\n",
    "\n",
    "for node_name, node in experiment_topology.nodes.items():\n",
    "    management_ip = str(node.get_property(pname='management_ip'))\n",
    "    print(\"Node {0} IP {1}\".format(node_name, management_ip))\n",
    "    \n",
    "    client.connect(management_ip,username='centos',pkey = key)\n",
    "\n",
    "    stdin, stdout, stderr = client.exec_command('echo \\\"' + script + '\\\" > script.sh; chmod +x script.sh; sudo ./script.sh')\n",
    "    print ('')\n",
    "    print (str(stdout.read(),'utf-8').replace('\\\\n','\\n'))\n",
    "\n",
    "    client.close()"
   ]
  },
  {
   "cell_type": "markdown",
   "metadata": {
    "tags": []
   },
   "source": [
    "## Delete Slice"
   ]
  },
  {
   "cell_type": "code",
   "execution_count": null,
   "metadata": {},
   "outputs": [],
   "source": [
    "return_status, result = slice_manager.delete(slice_object=slice)\n",
    "\n",
    "print(\"Response Status {}\".format(return_status))\n",
    "print(\"Response received {}\".format(result))"
   ]
  },
  {
   "cell_type": "code",
   "execution_count": null,
   "metadata": {},
   "outputs": [],
   "source": []
  }
 ],
 "metadata": {
  "kernelspec": {
   "display_name": "Python 3 (ipykernel)",
   "language": "python",
   "name": "python3"
  },
  "language_info": {
   "codemirror_mode": {
    "name": "ipython",
    "version": 3
   },
   "file_extension": ".py",
   "mimetype": "text/x-python",
   "name": "python",
   "nbconvert_exporter": "python",
   "pygments_lexer": "ipython3",
   "version": "3.9.2"
  }
 },
 "nbformat": 4,
 "nbformat_minor": 4
}
