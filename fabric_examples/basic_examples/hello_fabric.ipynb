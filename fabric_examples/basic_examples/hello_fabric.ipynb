{
 "cells": [
  {
   "cell_type": "markdown",
   "metadata": {},
   "source": [
    "# Hello, FABRIC: Create your first FABRIC slice\n",
    "\n",
    "## Configure the Environment\n",
    "\n",
    "Set the environment variable that will be used by this notebook. If you are using the FABRIC JupyterHub most of the environment will be automatically configured for you.  You will only need to set your bastion username, upload your bastion private key, and set the path to where you put your bastion private key. Your bastion username and private key should already be in your possession.  If you do not have a bastion username and private key, please contact the FABRIC admins using the [FABRIC User Forum](https://learn.fabric-testbed.net/forums/) \n",
    "\n",
    "If you are using the FABRIC API outside of the JupyterHub you will need to configure all of the environment variables. Defaults below will be correct in many situations but you will need to confirm your configuration.  If you have questions about this configuration, please contact the FABRIC admins using the [FABRIC User Forum](https://learn.fabric-testbed.net/forums/) \n",
    "\n",
    "More information about accessing your experiments through the FABRIC bastion hosts can be found [here](https://learn.fabric-testbed.net/knowledge-base/logging-into-fabric-vms/)."
   ]
  },
  {
   "cell_type": "code",
   "execution_count": 5,
   "metadata": {},
   "outputs": [],
   "source": [
    "import os\n",
    "\n",
    "os.environ['FABRIC_CREDMGR_HOST']='cm.fabric-testbed.net'\n",
    "os.environ['FABRIC_ORCHESTRATOR_HOST']='orchestrator.fabric-testbed.net'\n",
    "os.environ['FABRIC_TOKEN_LOCATION']=os.environ['HOME']+'/work/fabric_token.json'\n",
    "\n",
    "os.environ['FABRIC_BASTION_USERNAME']='pruth'\n",
    "os.environ['FABRIC_BASTION_KEY_LOCATION']=os.environ['HOME']+'/work/.ssh/id_rsa_fabric'\n",
    "\n",
    "os.environ['FABRIC_SLICE_PRIVATE_KEY_FILE']=os.environ['HOME']+'/.ssh/id_rsa'\n",
    "os.environ['FABRCI_SLICE_PUBLIC_KEY_FILE']=os.environ['HOME']+'/.ssh/id_rsa.pub'\n",
    "\n",
    "os.environ['FABRIC_BASTION_HOST'] = 'bastion-1.fabric-testbed.net'\n",
    "os.environ['FABRIC_BASTION_HOST_PRIVATE_IPV4'] = '192.168.11.226'\n",
    "os.environ['FABRIC_BASTION_HOST_PRIVATE_IPV6'] = '2600:2701:5000:a902::c'"
   ]
  },
  {
   "cell_type": "markdown",
   "metadata": {},
   "source": [
    "#### Read the SSH Key File"
   ]
  },
  {
   "cell_type": "code",
   "execution_count": 6,
   "metadata": {},
   "outputs": [],
   "source": [
    "slice_private_key_file=os.environ['FABRIC_SLICE_PRIVATE_KEY_FILE']\n",
    "slice_public_key_file=os.environ['FABRCI_SLICE_PUBLIC_KEY_FILE']\n",
    "\n",
    "slice_public_key = None\n",
    "with open (slice_public_key_file, \"r\") as myfile:\n",
    "    slice_public_key=myfile.read().strip()\n",
    "    "
   ]
  },
  {
   "cell_type": "markdown",
   "metadata": {},
   "source": [
    "## Setup the Experiment\n",
    "\n",
    "#### Import FABRIC API"
   ]
  },
  {
   "cell_type": "code",
   "execution_count": 7,
   "metadata": {},
   "outputs": [],
   "source": [
    "import os\n",
    "from fabrictestbed.slice_manager import SliceManager, Status, SliceState\n",
    "import json"
   ]
  },
  {
   "cell_type": "markdown",
   "metadata": {},
   "source": [
    "#### Create the FABRIC Proxies\n",
    "\n",
    "The FABRIC API is used via proxy objects that manage connections to the control framework.  "
   ]
  },
  {
   "cell_type": "code",
   "execution_count": 8,
   "metadata": {},
   "outputs": [],
   "source": [
    "slice_manager = SliceManager(oc_host=os.environ['FABRIC_ORCHESTRATOR_HOST'], \n",
    "                             cm_host=os.environ['FABRIC_CREDMGR_HOST'] ,\n",
    "                             project_name='all', \n",
    "                             scope='all')\n",
    "\n",
    "# Initialize the slice manager\n",
    "slice_manager.initialize()"
   ]
  },
  {
   "cell_type": "markdown",
   "metadata": {},
   "source": [
    "#### (Optional) Query Available Resources\n",
    "\n",
    "This optional command queries the FABRIC services to find the available resources. It may be useful for finding a site with available capacity."
   ]
  },
  {
   "cell_type": "code",
   "execution_count": 9,
   "metadata": {},
   "outputs": [
    {
     "name": "stdout",
     "output_type": "stream",
     "text": [
      "Toplogy: NCSA: { cpu: 6/6 , core: 180/192 , ram: 1,476/1,536 G, disk: 60,300/60,600 G, unit: 3/3 }\n",
      "\tComponents:\n",
      "\t\tNVME-P4510:  NVME P4510 { disk: 8,640/9,600 G, unit: 9/10 }\n",
      "\t\tGPU-Tesla T4:  GPU Tesla T4 { unit: 2/2 }\n",
      "\t\tGPU-RTX6000:  GPU RTX6000 { unit: 3/3 }\n",
      "\t\tSmartNIC-ConnectX-5:  SmartNIC ConnectX-5 { unit: 2/2 }\n",
      "\t\tSmartNIC-ConnectX-6:  SmartNIC ConnectX-6 { unit: 2/2 }\n",
      "\t\tSharedNIC-ConnectX-6:  SharedNIC ConnectX-6 { unit: 378/381 }\n",
      "\tSite Interfaces:\n",
      "\t\tNCSA_STAR: TrunkPort { bw: 100/100 Gbps}\n",
      "TACC: { cpu: 10/10 , core: 320/320 , ram: 2,560/2,560 G, disk: 116,400/116,400 G, unit: 5/5 }\n",
      "\tComponents:\n",
      "\t\tSmartNIC-ConnectX-5:  SmartNIC ConnectX-5 { unit: 4/4 }\n",
      "\t\tGPU-RTX6000:  GPU RTX6000 { unit: 6/6 }\n",
      "\t\tGPU-Tesla T4:  GPU Tesla T4 { unit: 4/4 }\n",
      "\t\tNVME-P4510:  NVME P4510 { disk: 15,360/15,360 G, unit: 16/16 }\n",
      "\t\tSharedNIC-ConnectX-6:  SharedNIC ConnectX-6 { unit: 635/635 }\n",
      "\t\tSmartNIC-ConnectX-6:  SmartNIC ConnectX-6 { unit: 2/2 }\n",
      "\tSite Interfaces:\n",
      "\t\tTACC_UTAH: TrunkPort { bw: 100/100 Gbps}\n",
      "\t\tTACC_MAX: TrunkPort { bw: 100/100 Gbps}\n",
      "UTAH: { cpu: 10/10 , core: 320/320 , ram: 2,560/2,560 G, disk: 116,400/116,400 G, unit: 5/5 }\n",
      "\tComponents:\n",
      "\t\tGPU-RTX6000:  GPU RTX6000 { unit: 5/5 }\n",
      "\t\tGPU-Tesla T4:  GPU Tesla T4 { unit: 4/4 }\n",
      "\t\tNVME-P4510:  NVME P4510 { disk: 15,360/15,360 G, unit: 16/16 }\n",
      "\t\tSharedNIC-ConnectX-6:  SharedNIC ConnectX-6 { unit: 635/635 }\n",
      "\t\tSmartNIC-ConnectX-6:  SmartNIC ConnectX-6 { unit: 2/2 }\n",
      "\t\tSmartNIC-ConnectX-5:  SmartNIC ConnectX-5 { unit: 4/4 }\n",
      "\tSite Interfaces:\n",
      "\t\tUTAH_TACC: TrunkPort { bw: 100/100 Gbps}\n",
      "\t\tUTAH_STAR: TrunkPort { bw: 100/100 Gbps}\n",
      "MAX: { cpu: 10/10 , core: 300/320 , ram: 2,460/2,560 G, disk: 115,900/116,400 G, unit: 5/5 }\n",
      "\tComponents:\n",
      "\t\tSharedNIC-ConnectX-6:  SharedNIC ConnectX-6 { unit: 630/635 }\n",
      "\t\tGPU-Tesla T4:  GPU Tesla T4 { unit: 4/4 }\n",
      "\t\tGPU-RTX6000:  GPU RTX6000 { unit: 6/6 }\n",
      "\t\tSmartNIC-ConnectX-5:  SmartNIC ConnectX-5 { unit: 4/4 }\n",
      "\t\tSmartNIC-ConnectX-6:  SmartNIC ConnectX-6 { unit: 2/2 }\n",
      "\t\tNVME-P4510:  NVME P4510 { disk: 13,440/15,360 G, unit: 14/16 }\n",
      "\tSite Interfaces:\n",
      "\t\tMAX_TACC: TrunkPort { bw: 100/100 Gbps}\n",
      "\t\tMAX_STAR: TrunkPort { bw: 100/100 Gbps}\n",
      "SALT\n",
      "\tComponents:\n",
      "\tSite Interfaces:\n",
      "STAR: { cpu: 12/12 , core: 376/384 , ram: 3,028/3,072 G, disk: 120,900/121,200 G, unit: 6/6 }\n",
      "\tComponents:\n",
      "\t\tNVME-P4510:  NVME P4510 { disk: 20,000/20,000 G, unit: 20/20 }\n",
      "\t\tGPU-Tesla T4:  GPU Tesla T4 { unit: 6/6 }\n",
      "\t\tGPU-RTX6000:  GPU RTX6000 { unit: 6/6 }\n",
      "\t\tSmartNIC-ConnectX-5:  SmartNIC ConnectX-5 { unit: 6/6 }\n",
      "\t\tSmartNIC-ConnectX-6:  SmartNIC ConnectX-6 { unit: 2/2 }\n",
      "\t\tSharedNIC-ConnectX-6:  SharedNIC ConnectX-6 { unit: 761/762 }\n",
      "\tSite Interfaces:\n",
      "\t\tSTAR_UTAH: TrunkPort { bw: 100/100 Gbps}\n",
      "\t\tSTAR_MAX: TrunkPort { bw: 100/100 Gbps}\n",
      "\t\tSTAR_NCSA: TrunkPort { bw: 100/100 Gbps}\n",
      "WASH\n",
      "\tComponents:\n",
      "\tSite Interfaces:\n",
      "DALL\n",
      "\tComponents:\n",
      "\tSite Interfaces:\n",
      "MICH\n",
      "\tComponents:\n",
      "\tSite Interfaces:\n",
      "Links:\n",
      "\tport+max-data-sw:HundredGigE0/0/0/22.2051 to port+tacc-data-sw:HundredGigE0/0/0/23.3160[L2Path]: ['TACC_MAX', 'MAX_TACC']\n",
      "\tport+tacc-data-sw:HundredGigE0/0/0/23.3161 to port+utah-data-sw:HundredGigE0/0/0/22.2091[L2Path]: ['UTAH_TACC', 'TACC_UTAH']\n",
      "\tport+star-data-sw:HundredGigE0/0/0/30.3722 to port+utah-data-sw:HundredGigE0/0/0/22.2090[L2Path]: ['STAR_UTAH', 'UTAH_STAR']\n",
      "\tport+max-data-sw:HundredGigE0/0/0/22.2052 to port+star-data-sw:HundredGigE0/0/0/30.3721[L2Path]: ['STAR_MAX', 'MAX_STAR']\n",
      "\tport+ncsa-data-sw:HundredGigE0/0/0/23.3710 to port+star-data-sw:HundredGigE0/0/0/30.3710[L2Path]: ['STAR_NCSA', 'NCSA_STAR']\n"
     ]
    }
   ],
   "source": [
    "return_status, advertised_topology = slice_manager.resources()\n",
    "\n",
    "if return_status == Status.OK:\n",
    "    print(f\"Toplogy: {advertised_topology}\")\n",
    "else:\n",
    "    print(f\"Error: {advertised_topology}\")"
   ]
  },
  {
   "cell_type": "code",
   "execution_count": 10,
   "metadata": {},
   "outputs": [
    {
     "data": {
      "image/png": "[encoded data removed]",
      "text/plain": [
       "<Figure size 432x288 with 1 Axes>"
      ]
     },
     "metadata": {},
     "output_type": "display_data"
    }
   ],
   "source": [
    "if return_status == Status.OK:\n",
    "    advertised_topology.draw()"
   ]
  },
  {
   "cell_type": "markdown",
   "metadata": {
    "tags": []
   },
   "source": [
    "## Create the Experiment Slice"
   ]
  },
  {
   "cell_type": "markdown",
   "metadata": {
    "tags": []
   },
   "source": [
    "#### Configure the Experiment Parameters\n",
    "\n"
   ]
  },
  {
   "cell_type": "code",
   "execution_count": 11,
   "metadata": {},
   "outputs": [],
   "source": [
    "slice_name = 'MySlice'\n",
    "site = 'MAX'\n",
    "node_name = 'Node1'\n",
    "username = 'centos'\n",
    "image = 'default_centos_8'\n",
    "image_type = 'qcow2'\n",
    "cores = 2\n",
    "ram = 2\n",
    "disk = 2"
   ]
  },
  {
   "cell_type": "markdown",
   "metadata": {
    "tags": []
   },
   "source": [
    "### Create Slice\n",
    "\n",
    "Creates a single node with basic compute capabilities.\n",
    "\n",
    "<img src=\"./figs/SingleNode.png\" width=\"40%\"><br>\n"
   ]
  },
  {
   "cell_type": "code",
   "execution_count": 12,
   "metadata": {},
   "outputs": [
    {
     "name": "stdout",
     "output_type": "stream",
     "text": [
      "Submitted slice creation request. Slice ID: 31c2ee41-0a73-458c-bb10-650e255cee28\n"
     ]
    }
   ],
   "source": [
    "from fabrictestbed.slice_editor import ExperimentTopology, Capacities, ComponentType, ComponentModelType, ServiceType, Labels\n",
    "# Create topology\n",
    "experiment = ExperimentTopology()\n",
    "\n",
    "# Add node\n",
    "node = experiment.add_node(name=node_name, site=site)\n",
    "\n",
    "# Set capacities\n",
    "cap = Capacities()\n",
    "cap.set_fields(core=cores, ram=ram, disk=disk)\n",
    "\n",
    "# Set Properties\n",
    "node.set_properties(capacities=cap, image_type=image_type, image_ref=image)\n",
    "\n",
    "# Generate Slice Graph\n",
    "slice_graph = experiment.serialize()\n",
    "\n",
    "# Request slice from Orchestrator\n",
    "return_status, slice_reservations = slice_manager.create(slice_name=slice_name, slice_graph=slice_graph, ssh_key=slice_public_key)\n",
    "\n",
    "if return_status == Status.OK:\n",
    "    slice_id = slice_reservations[0].get_slice_id()\n",
    "    print(\"Submitted slice creation request. Slice ID: {}\".format(slice_id))\n",
    "else:\n",
    "    print(f\"Failure: {slice_reservations}\")"
   ]
  },
  {
   "cell_type": "markdown",
   "metadata": {
    "tags": []
   },
   "source": [
    "### Query Slices\n",
    "\n",
    "You can get a list of all your slices from the slice manager. If this is your first slice, it should return only one slice.\n",
    "\n",
    "<div class=\"alert alert-block alert-info\">\n",
    "<b>Note:</b> The status returned by the call to slices indicates the success or failure of the call to the FABRIC control framework. The status is not the status of the slices.  The status of each slice is included in the list of slices.\n",
    "</div>\n",
    "\n",
    "\n",
    "\n",
    " "
   ]
  },
  {
   "cell_type": "code",
   "execution_count": 13,
   "metadata": {},
   "outputs": [
    {
     "name": "stdout",
     "output_type": "stream",
     "text": [
      "MySliceUbuntu1:\n",
      "   ID         : eff7edf3-335f-4a3b-aa49-78ec0cf96a90\n",
      "   State      : StableOK\n",
      "   Lease End  : 2021-12-15 16:36:43\n",
      "\n",
      "MySlice:\n",
      "   ID         : 31c2ee41-0a73-458c-bb10-650e255cee28\n",
      "   State      : Configuring\n",
      "   Lease End  : 2021-12-15 19:16:11\n",
      "\n"
     ]
    }
   ],
   "source": [
    "return_status, slices = slice_manager.slices(excludes=[SliceState.Dead,SliceState.Closing])\n",
    "\n",
    "if return_status == Status.OK:\n",
    "    for slice in slices:\n",
    "        print(\"{}:\".format(slice.slice_name))\n",
    "        print(\"   ID         : {}\".format(slice.slice_id))\n",
    "        print(\"   State      : {}\".format(slice.slice_state))\n",
    "        print(\"   Lease End  : {}\".format(slice.lease_end))\n",
    "        print()\n",
    "else:\n",
    "    print(f\"Failure: {slices}\")"
   ]
  },
  {
   "cell_type": "markdown",
   "metadata": {},
   "source": [
    "### Get the New Slice\n",
    "\n",
    "Your new slice is in the list of all your slices. You can loop through the list of slices to get the new slice. Python has a standard tool to filter lists. Try using a lambda function to filter out your slice using its name."
   ]
  },
  {
   "cell_type": "code",
   "execution_count": 14,
   "metadata": {},
   "outputs": [
    {
     "name": "stdout",
     "output_type": "stream",
     "text": [
      "Slice Name : MySlice\n",
      "ID         : 31c2ee41-0a73-458c-bb10-650e255cee28\n",
      "State      : Configuring\n",
      "Lease End  : 2021-12-15 19:16:11\n"
     ]
    }
   ],
   "source": [
    "slice = list(filter(lambda x: x.slice_name == slice_name, slices))[0]\n",
    "\n",
    "print(\"Slice Name : {}\".format(slice.slice_name))\n",
    "print(\"ID         : {}\".format(slice.slice_id))\n",
    "print(\"State      : {}\".format(slice.slice_state))\n",
    "print(\"Lease End  : {}\".format(slice.lease_end))"
   ]
  },
  {
   "cell_type": "markdown",
   "metadata": {},
   "source": [
    "### Wait for the Slice to Build"
   ]
  },
  {
   "cell_type": "code",
   "execution_count": 15,
   "metadata": {},
   "outputs": [
    {
     "name": "stdout",
     "output_type": "stream",
     "text": [
      "Waiting for slice ...... Slice state: StableOK\n",
      "\n",
      "Slice Name : MySlice\n",
      "ID         : 31c2ee41-0a73-458c-bb10-650e255cee28\n",
      "State      : StableOK\n",
      "Lease End  : 2021-12-15 19:16:11\n"
     ]
    }
   ],
   "source": [
    "import time\n",
    "def wait_for_slice(slice,timeout=180,interval=10,progress=False):\n",
    "    timeout_start = time.time()\n",
    "\n",
    "    if progress: print(\"Waiting for slice .\", end = '')\n",
    "    while time.time() < timeout_start + timeout:\n",
    "        return_status, slices = slice_manager.slices(excludes=[SliceState.Dead,SliceState.Closing])\n",
    "\n",
    "        if return_status == Status.OK:\n",
    "            slice = list(filter(lambda x: x.slice_name == slice_name, slices))[0]\n",
    "            if slice.slice_state == \"StableOK\":\n",
    "                if progress: print(\" Slice state: {}\".format(slice.slice_state))\n",
    "                return slice\n",
    "            if slice.slice_state == \"Closing\" or slice.slice_state == \"Dead\":\n",
    "                if progress: print(\" Slice state: {}\".format(slice.slice_state))\n",
    "                return slice    \n",
    "        else:\n",
    "            print(f\"Failure: {slices}\")\n",
    "        \n",
    "        if progress: print(\".\", end = '')\n",
    "        time.sleep(interval)\n",
    "    \n",
    "    if time.time() >= timeout_start + timeout:\n",
    "        if progress: print(\" Timeout exceeded ({} sec). Slice: {} ({})\".format(timeout,slice.slice_name,slice.slice_state))\n",
    "        return slice    \n",
    "\n",
    "            \n",
    "            \n",
    "slice = wait_for_slice(slice, progress=True)\n",
    "print()\n",
    "\n",
    "print(\"Slice Name : {}\".format(slice.slice_name))\n",
    "print(\"ID         : {}\".format(slice.slice_id))\n",
    "print(\"State      : {}\".format(slice.slice_state))\n",
    "print(\"Lease End  : {}\".format(slice.lease_end))"
   ]
  },
  {
   "cell_type": "markdown",
   "metadata": {
    "tags": []
   },
   "source": [
    "### Get the Slice Topology"
   ]
  },
  {
   "cell_type": "code",
   "execution_count": null,
   "metadata": {},
   "outputs": [],
   "source": [
    "return_status, experiment_topology = slice_manager.get_slice_topology(slice_object=slice)\n",
    "\n",
    "for node_name, node in experiment_topology.nodes.items():\n",
    "    print(\"Node:\")\n",
    "    print(\"   Name              : {}\".format(node.name))\n",
    "    print(\"   Cores             : {}\".format(node.get_property(pname='capacity_allocations').core))\n",
    "    print(\"   RAM               : {}\".format(node.get_property(pname='capacity_allocations').ram))\n",
    "    print(\"   Disk              : {}\".format(node.get_property(pname='capacity_allocations').disk))\n",
    "    print(\"   Image             : {}\".format(node.image_ref))\n",
    "    print(\"   Image Type        : {}\".format(node.image_type))\n",
    "    print(\"   Host              : {}\".format(node.get_property(pname='label_allocations').instance_parent))\n",
    "    print(\"   Site              : {}\".format(node.site))\n",
    "    print(\"   Management IP     : {}\".format(node.management_ip))\n",
    "    print(\"   Reservation ID    : {}\".format(node.get_property(pname='reservation_info').reservation_id))\n",
    "    print(\"   Reservation State : {}\".format(node.get_property(pname='reservation_info').reservation_state))\n",
    "    print(\"   Components        : {}\".format(node.components))\n",
    "    print(\"   Interfaces        : {}\".format(node.interfaces))\n",
    "    print()    \n"
   ]
  },
  {
   "cell_type": "markdown",
   "metadata": {},
   "source": [
    "## Accessing the VM\n",
    "\n",
    "#### Terminal SSH Command\n",
    "\n",
    "Connecting to your VMs requests you to jump through the bastion host to the VM using the keys configured above. From a terminal you can ssh to the VM using the command generated by the following command.\n"
   ]
  },
  {
   "cell_type": "code",
   "execution_count": null,
   "metadata": {},
   "outputs": [],
   "source": [
    "print('ssh -i {} -J {}@{} {}@{}'.format(slice_private_key_file,\n",
    "                                           os.environ['FABRIC_BASTION_USERNAME'],\n",
    "                                           os.environ['FABRIC_BASTION_HOST'],\n",
    "                                           username,\n",
    "                                           node.management_ip))"
   ]
  },
  {
   "cell_type": "markdown",
   "metadata": {},
   "source": [
    "#### SSH with Python (paramiko)\n",
    "\n",
    "Most experiments will require automated configuration and execution. You can use the paramiko Python library to execute arbitrary commands on your VMs. \n",
    "\n",
    "The following cells use paramiko to execute a \"Hello, FABRIC\" bash script. The cell uses the bastion and VM keys defined at the top of this notebook to jump through the bastion host and execute the script.\n"
   ]
  },
  {
   "cell_type": "code",
   "execution_count": null,
   "metadata": {},
   "outputs": [],
   "source": [
    "script= '#!/bin/bash  \\n' \\\n",
    "        'echo Hello, FABRIC from node `hostname -s`   \\n'"
   ]
  },
  {
   "cell_type": "code",
   "execution_count": null,
   "metadata": {},
   "outputs": [],
   "source": [
    "from ipaddress import ip_address, IPv4Address\n",
    "def validIPAddress(IP: str) -> str:\n",
    "    try:\n",
    "        return \"IPv4\" if type(ip_address(IP)) is IPv4Address else \"IPv6\"\n",
    "    except ValueError:\n",
    "        return \"Invalid\"\n",
    "\n",
    "import paramiko\n",
    "for node_name, node in experiment_topology.nodes.items():\n",
    "    try:\n",
    "        management_ip = str(node.get_property(pname='management_ip'))\n",
    "        print(\"Node {0} IP {1}\".format(node_name, management_ip))\n",
    "\n",
    "        key = paramiko.RSAKey.from_private_key_file(slice_private_key_file)\n",
    "\n",
    "        bastion=paramiko.SSHClient()\n",
    "        bastion.set_missing_host_key_policy(paramiko.AutoAddPolicy())\n",
    "        bastion.connect(os.environ['FABRIC_BASTION_HOST'], \n",
    "                        username=os.environ['FABRIC_BASTION_USERNAME'], \n",
    "                        key_filename=os.environ['FABRIC_BASTION_KEY_LOCATION'])\n",
    "\n",
    "    \n",
    "        bastion_transport = bastion.get_transport()\n",
    "        if validIPAddress(management_ip) == 'IPv4':\n",
    "            src_addr = (os.environ['FABRIC_BASTION_HOST_PRIVATE_IPV4'], 22)\n",
    "        elif validIPAddress(management_ip) == 'IPv6':\n",
    "            src_addr = (os.environ['FABRIC_BASTION_HOST_PRIVATE_IPV6'], 22)\n",
    "        else:\n",
    "            print('Management IP Invalid: {}'.format(management_ip))\n",
    "\n",
    "        dest_addr = (management_ip, 22)\n",
    "        bastion_channel = bastion_transport.open_channel(\"direct-tcpip\", dest_addr, src_addr)\n",
    "\n",
    "\n",
    "        client = paramiko.SSHClient()\n",
    "        client.load_system_host_keys()\n",
    "        client.set_missing_host_key_policy(paramiko.MissingHostKeyPolicy())\n",
    "        client.set_missing_host_key_policy(paramiko.AutoAddPolicy())\n",
    "\n",
    "        client.connect(management_ip,username=username,pkey = key, sock=bastion_channel)\n",
    "\n",
    "        stdin, stdout, stderr = client.exec_command('echo \\\"' + script + '\\\" > script.sh; chmod +x script.sh; sudo ./script.sh')\n",
    "        print ('')\n",
    "        print (str(stdout.read(),'utf-8').replace('\\\\n','\\n'))\n",
    "\n",
    "        client.close()\n",
    "    except Exception as e:\n",
    "        print(str(e))\n",
    "\n"
   ]
  },
  {
   "cell_type": "markdown",
   "metadata": {
    "tags": []
   },
   "source": [
    "## Delete Slice"
   ]
  },
  {
   "cell_type": "code",
   "execution_count": null,
   "metadata": {},
   "outputs": [],
   "source": [
    "return_status, result = slice_manager.delete(slice_object=slice)\n",
    "\n",
    "print(\"Response Status {}\".format(return_status))\n",
    "print(\"Response received {}\".format(result))"
   ]
  },
  {
   "cell_type": "code",
   "execution_count": null,
   "metadata": {},
   "outputs": [],
   "source": []
  }
 ],
 "metadata": {
  "kernelspec": {
   "display_name": "Python 3 (ipykernel)",
   "language": "python",
   "name": "python3"
  },
  "language_info": {
   "codemirror_mode": {
    "name": "ipython",
    "version": 3
   },
   "file_extension": ".py",
   "mimetype": "text/x-python",
   "name": "python",
   "nbconvert_exporter": "python",
   "pygments_lexer": "ipython3",
   "version": "3.9.2"
  }
 },
 "nbformat": 4,
 "nbformat_minor": 4
}
