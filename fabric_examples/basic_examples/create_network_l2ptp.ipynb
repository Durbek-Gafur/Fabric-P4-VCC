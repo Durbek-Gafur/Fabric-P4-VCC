{
 "cells": [
  {
   "cell_type": "markdown",
   "metadata": {},
   "source": [
    "## This notebook shows how to use Orchestrator APIs for user experiments"
   ]
  },
  {
   "cell_type": "code",
   "execution_count": 1,
   "metadata": {},
   "outputs": [],
   "source": [
    "import os\n",
    "from fabrictestbed.slice_manager import SliceManager, Status, SliceState\n",
    "import json"
   ]
  },
  {
   "cell_type": "code",
   "execution_count": 2,
   "metadata": {},
   "outputs": [],
   "source": [
    "ssh_key_file_priv=os.environ['HOME']+\"/.ssh/id_rsa\"\n",
    "ssh_key_file_pub=os.environ['HOME']+\"/.ssh/id_rsa.pub\"\n",
    "\n",
    "ssh_key_pub = None\n",
    "with open (ssh_key_file_pub, \"r\") as myfile:\n",
    "    ssh_key_pub=myfile.read()\n",
    "    ssh_key_pub=ssh_key_pub.strip()"
   ]
  },
  {
   "cell_type": "code",
   "execution_count": 3,
   "metadata": {},
   "outputs": [
    {
     "name": "stdout",
     "output_type": "stream",
     "text": [
      "FABRIC Credential Manager   : cm.fabric-testbed.net\n",
      "FABRIC Orchestrator         : orchestrator.fabric-testbed.net\n"
     ]
    }
   ],
   "source": [
    "credmgr_host = os.environ['FABRIC_CREDMGR_HOST']\n",
    "print(f\"FABRIC Credential Manager   : {credmgr_host}\")\n",
    "\n",
    "orchestrator_host = os.environ['FABRIC_ORCHESTRATOR_HOST']\n",
    "print(f\"FABRIC Orchestrator         : {orchestrator_host}\")"
   ]
  },
  {
   "cell_type": "markdown",
   "metadata": {},
   "source": [
    "## Create Slice Manager Object\n",
    "Users can request tokens with different Project and Scopes by altering `project_name` and `scope` parameters in the refresh call below."
   ]
  },
  {
   "cell_type": "code",
   "execution_count": 4,
   "metadata": {},
   "outputs": [],
   "source": [
    "slice_manager = SliceManager(oc_host=orchestrator_host, \n",
    "                             cm_host=credmgr_host ,\n",
    "                             project_name='all', \n",
    "                             scope='all')\n",
    "\n",
    "# Initialize the slice manager\n",
    "slice_manager.initialize()"
   ]
  },
  {
   "cell_type": "markdown",
   "metadata": {},
   "source": [
    "### Orchestrator API example to query for available resources"
   ]
  },
  {
   "cell_type": "code",
   "execution_count": 5,
   "metadata": {},
   "outputs": [
    {
     "name": "stdout",
     "output_type": "stream",
     "text": [
      "Status: Status.OK\n",
      "Toplogy: TACC: { cpu: 10/10 , core: 320/320 , ram: 2,560/2,560 G, disk: 116,400/116,400 G, unit: 5/5 }\n",
      "\tComponents:\n",
      "\t\tSmartNIC-ConnectX-6:  SmartNIC ConnectX-6 { unit: 2/2 }\n",
      "\t\tSmartNIC-ConnectX-5:  SmartNIC ConnectX-5 { unit: 4/4 }\n",
      "\t\tNVME-P4510:  NVME P4510 { disk: 15,360/15,360 G, unit: 16/16 }\n",
      "\t\tSharedNIC-ConnectX-6:  SharedNIC ConnectX-6 { unit: 635/635 }\n",
      "\t\tGPU-Tesla T4:  GPU Tesla T4 { unit: 4/4 }\n",
      "\t\tGPU-RTX6000:  GPU RTX6000 { unit: 6/6 }\n",
      "\tSite Interfaces:\n",
      "\t\tTACC_UTAH: TrunkPort { bw: 100/100 Gbps}\n",
      "\t\tTACC_MAX: TrunkPort { bw: 100/100 Gbps}\n",
      "NCSA: { cpu: 6/6 , core: 192/192 , ram: 1,536/1,536 G, disk: 60,600/60,600 G, unit: 3/3 }\n",
      "\tComponents:\n",
      "\t\tSharedNIC-ConnectX-6:  SharedNIC ConnectX-6 { unit: 381/381 }\n",
      "\t\tNVME-P4510:  NVME P4510 { disk: 9,600/9,600 G, unit: 10/10 }\n",
      "\t\tSmartNIC-ConnectX-5:  SmartNIC ConnectX-5 { unit: 2/2 }\n",
      "\t\tSmartNIC-ConnectX-6:  SmartNIC ConnectX-6 { unit: 2/2 }\n",
      "\t\tGPU-Tesla T4:  GPU Tesla T4 { unit: 2/2 }\n",
      "\t\tGPU-RTX6000:  GPU RTX6000 { unit: 3/3 }\n",
      "\tSite Interfaces:\n",
      "\t\tNCSA_STAR: TrunkPort { bw: 100/100 Gbps}\n",
      "DALL\n",
      "\tComponents:\n",
      "\tSite Interfaces:\n",
      "UTAH: { cpu: 10/10 , core: 316/320 , ram: 2,528/2,560 G, disk: 116,200/116,400 G, unit: 5/5 }\n",
      "\tComponents:\n",
      "\t\tGPU-Tesla T4:  GPU Tesla T4 { unit: 4/4 }\n",
      "\t\tGPU-RTX6000:  GPU RTX6000 { unit: 5/5 }\n",
      "\t\tSharedNIC-ConnectX-6:  SharedNIC ConnectX-6 { unit: 635/635 }\n",
      "\t\tNVME-P4510:  NVME P4510 { disk: 15,360/15,360 G, unit: 16/16 }\n",
      "\t\tSmartNIC-ConnectX-5:  SmartNIC ConnectX-5 { unit: 3/4 }\n",
      "\t\tSmartNIC-ConnectX-6:  SmartNIC ConnectX-6 { unit: 1/2 }\n",
      "\tSite Interfaces:\n",
      "\t\tUTAH_TACC: TrunkPort { bw: 100/100 Gbps}\n",
      "\t\tUTAH_STAR: TrunkPort { bw: 100/100 Gbps}\n",
      "MAX: { cpu: 10/10 , core: 316/320 , ram: 2,528/2,560 G, disk: 116,200/116,400 G, unit: 5/5 }\n",
      "\tComponents:\n",
      "\t\tSharedNIC-ConnectX-6:  SharedNIC ConnectX-6 { unit: 635/635 }\n",
      "\t\tGPU-Tesla T4:  GPU Tesla T4 { unit: 4/4 }\n",
      "\t\tGPU-RTX6000:  GPU RTX6000 { unit: 6/6 }\n",
      "\t\tNVME-P4510:  NVME P4510 { disk: 15,360/15,360 G, unit: 16/16 }\n",
      "\t\tSmartNIC-ConnectX-6:  SmartNIC ConnectX-6 { unit: 1/2 }\n",
      "\t\tSmartNIC-ConnectX-5:  SmartNIC ConnectX-5 { unit: 3/4 }\n",
      "\tSite Interfaces:\n",
      "\t\tMAX_STAR: TrunkPort { bw: 100/100 Gbps}\n",
      "\t\tMAX_TACC: TrunkPort { bw: 100/100 Gbps}\n",
      "MICH: { cpu: 6/6 , core: 192/192 , ram: 1,536/1,536 G, disk: 60,600/60,600 G, unit: 3/3 }\n",
      "\tComponents:\n",
      "\t\tNVME-P4510:  NVME P4510 { disk: 9,600/9,600 G, unit: 10/10 }\n",
      "\t\tGPU-Tesla T4:  GPU Tesla T4 { unit: 2/2 }\n",
      "\t\tGPU-RTX6000:  GPU RTX6000 { unit: 3/3 }\n",
      "\t\tSharedNIC-ConnectX-6:  SharedNIC ConnectX-6 { unit: 381/381 }\n",
      "\t\tSmartNIC-ConnectX-5:  SmartNIC ConnectX-5 { unit: 2/2 }\n",
      "\t\tSmartNIC-ConnectX-6:  SmartNIC ConnectX-6 { unit: 2/2 }\n",
      "\tSite Interfaces:\n",
      "SALT\n",
      "\tComponents:\n",
      "\tSite Interfaces:\n",
      "STAR: { cpu: 12/12 , core: 332/384 , ram: 3,020/3,072 G, disk: 121,154/121,200 G, unit: 6/6 }\n",
      "\tComponents:\n",
      "\t\tGPU-Tesla T4:  GPU Tesla T4 { unit: 6/6 }\n",
      "\t\tSharedNIC-ConnectX-6:  SharedNIC ConnectX-6 { unit: 745/762 }\n",
      "\t\tNVME-P4510:  NVME P4510 { disk: 20,000/20,000 G, unit: 20/20 }\n",
      "\t\tSmartNIC-ConnectX-6:  SmartNIC ConnectX-6 { unit: 0/2 }\n",
      "\t\tGPU-RTX6000:  GPU RTX6000 { unit: 6/6 }\n",
      "\tSite Interfaces:\n",
      "\t\tSTAR_UTAH: TrunkPort { bw: 100/100 Gbps}\n",
      "\t\tSTAR_MAX: TrunkPort { bw: 100/100 Gbps}\n",
      "\t\tSTAR_NCSA: TrunkPort { bw: 100/100 Gbps}\n",
      "WASH\n",
      "\tComponents:\n",
      "\tSite Interfaces:\n",
      "Links:\n",
      "\tport+max-data-sw:HundredGigE0/0/0/22.2051 to port+tacc-data-sw:HundredGigE0/0/0/23.3160[L2Path]: ['TACC_MAX', 'MAX_TACC']\n",
      "\tport+max-data-sw:HundredGigE0/0/0/22.2052 to port+star-data-sw:HundredGigE0/0/0/30.3721[L2Path]: ['STAR_MAX', 'MAX_STAR']\n",
      "\tport+ncsa-data-sw:HundredGigE0/0/0/23.3710 to port+star-data-sw:HundredGigE0/0/0/30.3710[L2Path]: ['STAR_NCSA', 'NCSA_STAR']\n",
      "\tport+star-data-sw:HundredGigE0/0/0/30.3722 to port+utah-data-sw:HundredGigE0/0/0/22.2090[L2Path]: ['STAR_UTAH', 'UTAH_STAR']\n",
      "\tport+tacc-data-sw:HundredGigE0/0/0/23.3161 to port+utah-data-sw:HundredGigE0/0/0/22.2091[L2Path]: ['UTAH_TACC', 'TACC_UTAH']\n"
     ]
    }
   ],
   "source": [
    "status, advertised_topology = slice_manager.resources()\n",
    "\n",
    "print(f\"Status: {status}\")\n",
    "if status == Status.OK:\n",
    "    print(f\"Toplogy: {advertised_topology}\")\n",
    "else:\n",
    "    print(f\"Error: {advertised_topology}\")"
   ]
  },
  {
   "cell_type": "code",
   "execution_count": 6,
   "metadata": {},
   "outputs": [
    {
     "data": {
      "image/png": "[encoded data removed]",
      "text/plain": [
       "<Figure size 432x288 with 1 Axes>"
      ]
     },
     "metadata": {},
     "output_type": "display_data"
    }
   ],
   "source": [
    "if status == Status.OK:\n",
    "    advertised_topology.draw()"
   ]
  },
  {
   "cell_type": "markdown",
   "metadata": {
    "tags": []
   },
   "source": [
    "## Create Slice\n",
    "In Release 1.0, user is expected to create tagged interface and assign the IP addresses manually. Please use the example comands indicated below:"
   ]
  },
  {
   "cell_type": "markdown",
   "metadata": {
    "tags": []
   },
   "source": [
    "## Configure Slice Parameters\n",
    "\n"
   ]
  },
  {
   "cell_type": "code",
   "execution_count": 7,
   "metadata": {},
   "outputs": [],
   "source": [
    "slice_name = 'MySlice_6s_a'\n",
    "node1_site = 'MAX'\n",
    "node2_site = 'UTAH'\n",
    "node1_name = 'Node1'\n",
    "node2_name = 'Node2'\n",
    "network_service_name='bridge1'\n",
    "nic1_name = 'node1-nic1'\n",
    "nic2_name = 'node2-nic1'\n",
    "image = 'default_centos_8'\n",
    "image_type = 'qcow2'\n",
    "cores = 2\n",
    "ram = 16\n",
    "disk = 100"
   ]
  },
  {
   "cell_type": "code",
   "execution_count": 8,
   "metadata": {},
   "outputs": [
    {
     "name": "stdout",
     "output_type": "stream",
     "text": [
      "Submitted slice creation request. Slice ID: 72181460-7cf1-49fe-9882-9945f19c2482\n"
     ]
    }
   ],
   "source": [
    "from fabrictestbed.slice_editor import ExperimentTopology, Capacities, ComponentType, ComponentModelType, ServiceType\n",
    "# Create topology\n",
    "t = ExperimentTopology()\n",
    "\n",
    "# Add node\n",
    "n1 = t.add_node(name=node1_name, site=node1_site)\n",
    "\n",
    "# Set capacities\n",
    "cap = Capacities()\n",
    "cap.set_fields(core=cores, ram=ram, disk=disk)\n",
    "\n",
    "# Set Properties\n",
    "n1.set_properties(capacities=cap, image_type=image_type, image_ref=image)\n",
    "\n",
    "# Add node\n",
    "n2 = t.add_node(name=node2_name, site=node2_site)\n",
    "\n",
    "# Set properties\n",
    "n2.set_properties(capacities=cap, image_type=image_type, image_ref=image)\n",
    "\n",
    "# Shared Cards\n",
    "n1.add_component(model_type=ComponentModelType.SmartNIC_ConnectX_6, name=nic1_name)\n",
    "n2.add_component(model_type=ComponentModelType.SmartNIC_ConnectX_6, name=nic2_name)\n",
    "\n",
    "if_labels = n1.interface_list[0].get_property(pname=\"labels\")\n",
    "if_labels.vlan = \"200\"\n",
    "n1.interface_list[0].set_properties(labels=if_labels)\n",
    "if_labels = n2.interface_list[0].get_property(pname=\"labels\")\n",
    "if_labels.vlan = \"200\"\n",
    "n2.interface_list[0].set_properties(labels=if_labels)\n",
    "\n",
    "# L2PTP Service\n",
    "t.add_network_service(name='ptp1', nstype=ServiceType.L2PTP,\n",
    "                      interfaces=[n1.interface_list[0], n2.interface_list[0]])\n",
    "\n",
    "\n",
    "\n",
    "# Generate Slice Graph\n",
    "slice_graph = t.serialize()\n",
    "\n",
    "# Request slice from Orchestrator\n",
    "return_status, slice_reservations = slice_manager.create(slice_name=slice_name, \n",
    "                                            slice_graph=slice_graph, \n",
    "                                            ssh_key=ssh_key_pub)\n",
    "\n",
    "if return_status == Status.OK:\n",
    "    slice_id = slice_reservations[0].get_slice_id()\n",
    "    print(\"Submitted slice creation request. Slice ID: {}\".format(slice_id))\n",
    "else:\n",
    "    print(f\"Failure: {slice_reservations}\")"
   ]
  },
  {
   "cell_type": "markdown",
   "metadata": {
    "tags": []
   },
   "source": [
    "## Get the Slice"
   ]
  },
  {
   "cell_type": "code",
   "execution_count": 9,
   "metadata": {
    "tags": []
   },
   "outputs": [
    {
     "name": "stdout",
     "output_type": "stream",
     "text": [
      "Waiting for slice ................... Timeout exceeded (180 sec). Slice: MySlice_6s_a (Configuring)\n",
      "\n",
      "Slice Name : MySlice_6s_a\n",
      "ID         : 72181460-7cf1-49fe-9882-9945f19c2482\n",
      "State      : Configuring\n",
      "Lease End  : 2021-10-22 19:05:17\n"
     ]
    }
   ],
   "source": [
    "import time\n",
    "def wait_for_slice(slice,timeout=180,interval=10,progress=False):\n",
    "    timeout_start = time.time()\n",
    "\n",
    "    if progress: print(\"Waiting for slice .\", end = '')\n",
    "    while time.time() < timeout_start + timeout:\n",
    "        return_status, slices = slice_manager.slices(excludes=[SliceState.Dead,SliceState.Closing])\n",
    "\n",
    "        if return_status == Status.OK:\n",
    "            slice = list(filter(lambda x: x.slice_name == slice_name, slices))[0]\n",
    "            if slice.slice_state == \"StableOK\":\n",
    "                if progress: print(\" Slice state: {}\".format(slice.slice_state))\n",
    "                return slice\n",
    "            if slice.slice_state == \"Closing\" or slice.slice_state == \"Dead\":\n",
    "                if progress: print(\" Slice state: {}\".format(slice.slice_state))\n",
    "                return slice    \n",
    "        else:\n",
    "            print(f\"Failure: {slices}\")\n",
    "        \n",
    "        if progress: print(\".\", end = '')\n",
    "        time.sleep(interval)\n",
    "    \n",
    "    if time.time() >= timeout_start + timeout:\n",
    "        if progress: print(\" Timeout exceeded ({} sec). Slice: {} ({})\".format(timeout,slice.slice_name,slice.slice_state))\n",
    "        return slice    \n",
    "\n",
    "\n",
    "return_status, slices = slice_manager.slices(excludes=[SliceState.Dead,SliceState.Closing])\n",
    "\n",
    "if return_status == Status.OK:\n",
    "    slice = list(filter(lambda x: x.slice_name == slice_name, slices))[0]\n",
    "    slice = wait_for_slice(slice, progress=True)\n",
    "\n",
    "print()\n",
    "print(\"Slice Name : {}\".format(slice.slice_name))\n",
    "print(\"ID         : {}\".format(slice.slice_id))\n",
    "print(\"State      : {}\".format(slice.slice_state))\n",
    "print(\"Lease End  : {}\".format(slice.lease_end))"
   ]
  },
  {
   "cell_type": "markdown",
   "metadata": {
    "tags": []
   },
   "source": [
    "## Get the Nodes\n",
    "\n",
    "Retrieve the node information and save the management IP address.\n"
   ]
  },
  {
   "cell_type": "markdown",
   "metadata": {},
   "source": [
    "### Get the Topology"
   ]
  },
  {
   "cell_type": "code",
   "execution_count": 11,
   "metadata": {},
   "outputs": [],
   "source": [
    "return_status, experiment_topology = slice_manager.get_slice_topology(slice_object=slice)"
   ]
  },
  {
   "cell_type": "markdown",
   "metadata": {},
   "source": [
    "### Configure Node1\n",
    "\n",
    "Use ssh to configure eth1 on  node 1.  \n",
    "\n",
    "```\n",
    "ip addr add 192.168.10.51/24 dev eth1\n",
    "```"
   ]
  },
  {
   "cell_type": "code",
   "execution_count": 12,
   "metadata": {},
   "outputs": [
    {
     "name": "stdout",
     "output_type": "stream",
     "text": [
      "Node Name        : Node1\n",
      "Management IP    : 63.239.135.86\n",
      "\n"
     ]
    }
   ],
   "source": [
    "node1 = experiment_topology.nodes[node1_name]\n",
    "\n",
    "management_ip_node1 = str(node1.get_property(pname='management_ip'))\n",
    "print(\"Node Name        : {}\".format(node1.name))\n",
    "print(\"Management IP    : {}\".format(management_ip_node1))\n",
    "print()\n"
   ]
  },
  {
   "cell_type": "code",
   "execution_count": 40,
   "metadata": {},
   "outputs": [
    {
     "name": "stdout",
     "output_type": "stream",
     "text": [
      "eth1: flags=4163<UP,BROADCAST,RUNNING,MULTICAST>  mtu 1500\n",
      "        inet 192.168.10.51  netmask 255.255.255.0  broadcast 0.0.0.0\n",
      "        inet6 fe80::31b6:9bd3:6e97:af4f  prefixlen 64  scopeid 0x20<link>\n",
      "        ether 04:3f:72:fa:78:00  txqueuelen 1000  (Ethernet)\n",
      "        RX packets 1  bytes 86 (86.0 B)\n",
      "        RX errors 0  dropped 0  overruns 0  frame 0\n",
      "        TX packets 15  bytes 2678 (2.6 KiB)\n",
      "        TX errors 0  dropped 0 overruns 0  carrier 0  collisions 0\n",
      "\n",
      "\n"
     ]
    }
   ],
   "source": [
    "import paramiko\n",
    "\n",
    "key = paramiko.RSAKey.from_private_key_file(ssh_key_file_priv)\n",
    "client = paramiko.SSHClient()\n",
    "client.load_system_host_keys()\n",
    "client.set_missing_host_key_policy(paramiko.MissingHostKeyPolicy())\n",
    "\n",
    "client.set_missing_host_key_policy(paramiko.AutoAddPolicy())\n",
    "client.connect(management_ip_node1,username='centos',pkey = key)\n",
    "\n",
    "stdin, stdout, stderr = client.exec_command('sudo ip addr add 192.168.10.51/24 dev eth1')\n",
    "\n",
    "stdin, stdout, stderr = client.exec_command('ifconfig eth1')\n",
    "print (str(stdout.read(),'utf-8').replace('\\\\n','\\n'))\n"
   ]
  },
  {
   "cell_type": "markdown",
   "metadata": {},
   "source": [
    "### Configure Node2\n",
    "\n",
    "Use ssh to configure eth1 on each Node 2.  \n",
    "\n",
    "```\n",
    "ip addr add 192.168.10.51/24 dev eth1\n",
    "```"
   ]
  },
  {
   "cell_type": "code",
   "execution_count": 13,
   "metadata": {},
   "outputs": [
    {
     "name": "stdout",
     "output_type": "stream",
     "text": [
      "Node Name        : Node2\n",
      "Management IP    : 2001:1948:417:7:f816:3eff:fe0b:a561\n",
      "\n"
     ]
    }
   ],
   "source": [
    "node2 = experiment_topology.nodes[node2_name]\n",
    "\n",
    "management_ip_node2 = str(node2.get_property(pname='management_ip'))\n",
    "print(\"Node Name        : {}\".format(node2.name))\n",
    "print(\"Management IP    : {}\".format(management_ip_node2))\n",
    "print()\n"
   ]
  },
  {
   "cell_type": "code",
   "execution_count": 42,
   "metadata": {},
   "outputs": [
    {
     "ename": "NoValidConnectionsError",
     "evalue": "[Errno None] Unable to connect to port 22 on 2001:1948:417:7:f816:3eff:fec9:9d90",
     "output_type": "error",
     "traceback": [
      "\u001b[0;31m---------------------------------------------------------------------------\u001b[0m",
      "\u001b[0;31mNoValidConnectionsError\u001b[0m                   Traceback (most recent call last)",
      "\u001b[0;32m/var/folders/_l/8dq3pgzx6bjgt8qrr1m9jgc80000gp/T/ipykernel_68622/3592427811.py\u001b[0m in \u001b[0;36m<module>\u001b[0;34m\u001b[0m\n\u001b[1;32m      7\u001b[0m \u001b[0;34m\u001b[0m\u001b[0m\n\u001b[1;32m      8\u001b[0m \u001b[0mclient\u001b[0m\u001b[0;34m.\u001b[0m\u001b[0mset_missing_host_key_policy\u001b[0m\u001b[0;34m(\u001b[0m\u001b[0mparamiko\u001b[0m\u001b[0;34m.\u001b[0m\u001b[0mAutoAddPolicy\u001b[0m\u001b[0;34m(\u001b[0m\u001b[0;34m)\u001b[0m\u001b[0;34m)\u001b[0m\u001b[0;34m\u001b[0m\u001b[0;34m\u001b[0m\u001b[0m\n\u001b[0;32m----> 9\u001b[0;31m \u001b[0mclient\u001b[0m\u001b[0;34m.\u001b[0m\u001b[0mconnect\u001b[0m\u001b[0;34m(\u001b[0m\u001b[0mmanagement_ip_node2\u001b[0m\u001b[0;34m,\u001b[0m\u001b[0musername\u001b[0m\u001b[0;34m=\u001b[0m\u001b[0;34m'centos'\u001b[0m\u001b[0;34m,\u001b[0m\u001b[0mpkey\u001b[0m \u001b[0;34m=\u001b[0m \u001b[0mkey\u001b[0m\u001b[0;34m)\u001b[0m\u001b[0;34m\u001b[0m\u001b[0;34m\u001b[0m\u001b[0m\n\u001b[0m\u001b[1;32m     10\u001b[0m \u001b[0;34m\u001b[0m\u001b[0m\n\u001b[1;32m     11\u001b[0m \u001b[0mstdin\u001b[0m\u001b[0;34m,\u001b[0m \u001b[0mstdout\u001b[0m\u001b[0;34m,\u001b[0m \u001b[0mstderr\u001b[0m \u001b[0;34m=\u001b[0m \u001b[0mclient\u001b[0m\u001b[0;34m.\u001b[0m\u001b[0mexec_command\u001b[0m\u001b[0;34m(\u001b[0m\u001b[0;34m'sudo ip addr add 192.168.10.51/24 dev eth1'\u001b[0m\u001b[0;34m)\u001b[0m\u001b[0;34m\u001b[0m\u001b[0;34m\u001b[0m\u001b[0m\n",
      "\u001b[0;32m~/FABRIC/TESTING/fabric-jupyter/lib/python3.9/site-packages/paramiko/client.py\u001b[0m in \u001b[0;36mconnect\u001b[0;34m(self, hostname, port, username, password, pkey, key_filename, timeout, allow_agent, look_for_keys, compress, sock, gss_auth, gss_kex, gss_deleg_creds, gss_host, banner_timeout, auth_timeout, gss_trust_dns, passphrase, disabled_algorithms)\u001b[0m\n\u001b[1;32m    366\u001b[0m             \u001b[0;31m# (socket.error)\u001b[0m\u001b[0;34m\u001b[0m\u001b[0;34m\u001b[0m\u001b[0;34m\u001b[0m\u001b[0m\n\u001b[1;32m    367\u001b[0m             \u001b[0;32mif\u001b[0m \u001b[0mlen\u001b[0m\u001b[0;34m(\u001b[0m\u001b[0merrors\u001b[0m\u001b[0;34m)\u001b[0m \u001b[0;34m==\u001b[0m \u001b[0mlen\u001b[0m\u001b[0;34m(\u001b[0m\u001b[0mto_try\u001b[0m\u001b[0;34m)\u001b[0m\u001b[0;34m:\u001b[0m\u001b[0;34m\u001b[0m\u001b[0;34m\u001b[0m\u001b[0m\n\u001b[0;32m--> 368\u001b[0;31m                 \u001b[0;32mraise\u001b[0m \u001b[0mNoValidConnectionsError\u001b[0m\u001b[0;34m(\u001b[0m\u001b[0merrors\u001b[0m\u001b[0;34m)\u001b[0m\u001b[0;34m\u001b[0m\u001b[0;34m\u001b[0m\u001b[0m\n\u001b[0m\u001b[1;32m    369\u001b[0m \u001b[0;34m\u001b[0m\u001b[0m\n\u001b[1;32m    370\u001b[0m         t = self._transport = Transport(\n",
      "\u001b[0;31mNoValidConnectionsError\u001b[0m: [Errno None] Unable to connect to port 22 on 2001:1948:417:7:f816:3eff:fec9:9d90"
     ]
    }
   ],
   "source": [
    "import paramiko\n",
    "\n",
    "key = paramiko.RSAKey.from_private_key_file(ssh_key_file_priv)\n",
    "client = paramiko.SSHClient()\n",
    "client.load_system_host_keys()\n",
    "client.set_missing_host_key_policy(paramiko.MissingHostKeyPolicy())\n",
    "\n",
    "client.set_missing_host_key_policy(paramiko.AutoAddPolicy())\n",
    "client.connect(management_ip_node2,username='centos',pkey = key)\n",
    "\n",
    "stdin, stdout, stderr = client.exec_command('sudo ip addr add 192.168.10.51/24 dev eth1')\n",
    "\n",
    "stdin, stdout, stderr = client.exec_command('ifconfig eth1')\n",
    "print (str(stdout.read(),'utf-8').replace('\\\\n','\\n'))\n"
   ]
  },
  {
   "cell_type": "markdown",
   "metadata": {},
   "source": [
    "## Delete Slice"
   ]
  },
  {
   "cell_type": "code",
   "execution_count": 14,
   "metadata": {},
   "outputs": [
    {
     "name": "stdout",
     "output_type": "stream",
     "text": [
      "Response Status Status.OK\n",
      "Response received None\n"
     ]
    }
   ],
   "source": [
    "return_status, result = slice_manager.delete(slice_object=slice)\n",
    "\n",
    "print(\"Response Status {}\".format(return_status))\n",
    "print(\"Response received {}\".format(result))"
   ]
  },
  {
   "cell_type": "code",
   "execution_count": null,
   "metadata": {},
   "outputs": [],
   "source": []
  }
 ],
 "metadata": {
  "kernelspec": {
   "display_name": "Python 3 (ipykernel)",
   "language": "python",
   "name": "python3"
  },
  "language_info": {
   "codemirror_mode": {
    "name": "ipython",
    "version": 3
   },
   "file_extension": ".py",
   "mimetype": "text/x-python",
   "name": "python",
   "nbconvert_exporter": "python",
   "pygments_lexer": "ipython3",
   "version": "3.9.2"
  }
 },
 "nbformat": 4,
 "nbformat_minor": 4
}
