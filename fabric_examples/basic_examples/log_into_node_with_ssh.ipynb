{
 "cells": [
  {
   "cell_type": "markdown",
   "metadata": {},
   "source": [
    "# Log into an Existing FABRIC node\n",
    "\n",
    "This notebook will show you how to get an existing slice, get a node from the slice, get the IP and make the ssh command that you can use to access the node.\n",
    "\n",
    "## Existing Slice\n",
    "\n",
    "The rest of this notebook assumes you have an existing slice named \"MySlice\" that includes a node named \"Node1\". Set the varialbe betlow to match your slice."
   ]
  },
  {
   "cell_type": "code",
   "execution_count": null,
   "metadata": {},
   "outputs": [],
   "source": [
    "slice_name=\"MySlice\"\n",
    "node_name=\"Node1\""
   ]
  },
  {
   "cell_type": "markdown",
   "metadata": {},
   "source": [
    "## Configure the Environment"
   ]
  },
  {
   "cell_type": "code",
   "execution_count": null,
   "metadata": {},
   "outputs": [],
   "source": [
    "import os\n",
    "from fabrictestbed.slice_manager import SliceManager, Status\n",
    "import json"
   ]
  },
  {
   "cell_type": "code",
   "execution_count": null,
   "metadata": {},
   "outputs": [],
   "source": [
    "ssh_key_file_priv=os.environ['HOME']+\"/.ssh/id_rsa\"\n",
    "ssh_key_file_pub=os.environ['HOME']+\"/.ssh/id_rsa.pub\"\n",
    "\n",
    "ssh_key_pub = None\n",
    "with open (ssh_key_file_pub, \"r\") as myfile:\n",
    "    ssh_key_pub=myfile.read()\n",
    "    ssh_key_pub=ssh_key_pub.strip()"
   ]
  },
  {
   "cell_type": "code",
   "execution_count": null,
   "metadata": {},
   "outputs": [],
   "source": [
    "credmgr_host = os.environ['FABRIC_CREDMGR_HOST']\n",
    "orchestrator_host = os.environ['FABRIC_ORCHESTRATOR_HOST']\n",
    "print(f\"CM Host: {credmgr_host} Orchestrator Host: {orchestrator_host}\")"
   ]
  },
  {
   "cell_type": "markdown",
   "metadata": {},
   "source": [
    "## Create slice manager object"
   ]
  },
  {
   "cell_type": "code",
   "execution_count": null,
   "metadata": {},
   "outputs": [],
   "source": [
    "slice_manager = SliceManager(oc_host=orchestrator_host, cm_host=credmgr_host, project_name='all', scope='all')\n",
    "\n",
    "# Initialize the slice manager\n",
    "slice_manager.initialize()"
   ]
  },
  {
   "cell_type": "markdown",
   "metadata": {},
   "source": [
    "## Get the Slice ID"
   ]
  },
  {
   "cell_type": "code",
   "execution_count": null,
   "metadata": {},
   "outputs": [],
   "source": [
    "status, slices = slice_manager.slices(state=\"All\")\n",
    "\n",
    "print(\"Response Status {}\".format(status))\n",
    "if status == Status.OK:\n",
    "    print(\"Slices {}\".format(slices))"
   ]
  },
  {
   "cell_type": "markdown",
   "metadata": {},
   "source": [
    "Use a lambda filter to find all slices with the slice name. If there are mulitple slices with the same name this will assume the first one is the one want."
   ]
  },
  {
   "cell_type": "code",
   "execution_count": null,
   "metadata": {},
   "outputs": [],
   "source": [
    "slice = list(filter(lambda slices: slices.slice_name == slice_name, slices))[0]\n",
    "\n",
    "slice_id = slice.slice_id\n",
    "\n",
    "print(\"Slice {}\".format(slice))\n",
    "print(\"Slice ID {}\".format(slice_id))"
   ]
  },
  {
   "cell_type": "markdown",
   "metadata": {},
   "source": [
    "# Get the node's management IP"
   ]
  },
  {
   "cell_type": "code",
   "execution_count": null,
   "metadata": {},
   "outputs": [],
   "source": [
    "status, slivers = slice_manager.slivers(slice_id=slice_id)\n",
    "\n",
    "print(\"Response Status {}\".format(status))\n",
    "if status == Status.OK:\n",
    "    print(\"Slivers {}\".format(slivers))\n",
    "    \n",
    "management_ip = slivers[0].management_ip\n",
    "print(\"Management IP: {}\".format(management_ip))"
   ]
  },
  {
   "cell_type": "markdown",
   "metadata": {},
   "source": [
    "## Create the ssh command\n",
    "\n",
    "We have the management_ip. Now we print the SSH command that we can use to access the machine. We need to use the key path variable that we've defined at the time of slice creation. We have the path to our key stored in the \"ssh_key_file_priv\" variable.\n",
    "\n",
    "The result of the command produced by the cell can be use a terminal to access the VM."
   ]
  },
  {
   "cell_type": "code",
   "execution_count": null,
   "metadata": {},
   "outputs": [],
   "source": [
    "print(\"ssh -i \" + ssh_key_file_priv + \" ubuntu@\" + management_ip)"
   ]
  }
 ],
 "metadata": {
  "kernelspec": {
   "display_name": "Python 3 (ipykernel)",
   "language": "python",
   "name": "python3"
  },
  "language_info": {
   "codemirror_mode": {
    "name": "ipython",
    "version": 3
   },
   "file_extension": ".py",
   "mimetype": "text/x-python",
   "name": "python",
   "nbconvert_exporter": "python",
   "pygments_lexer": "ipython3",
   "version": "3.9.2"
  }
 },
 "nbformat": 4,
 "nbformat_minor": 4
}
