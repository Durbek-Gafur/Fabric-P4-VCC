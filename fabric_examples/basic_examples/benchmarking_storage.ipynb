{
 "cells": [
  {
   "cell_type": "markdown",
   "metadata": {},
   "source": [
    "#  FABRIC Storage: Reserve and Benchmark\n",
    "\n",
    "FABRIC has three types of reservable storage:\n",
    " - Local Disk (VM)\n",
    " - NVMe (dedicated PCI device)\n",
    " - Network Storage -- Coming Soon\n",
    "\n",
    "This example notebook will demonstrate how to reserve and use each type of storage. The example will also benchmark each type of storage in order to show its performance.\n",
    "\n",
    "## Configure the Environment"
   ]
  },
  {
   "cell_type": "code",
   "execution_count": null,
   "metadata": {},
   "outputs": [],
   "source": [
    "import os\n",
    "from fabrictestbed.slice_manager import SliceManager, Status\n",
    "import json"
   ]
  },
  {
   "cell_type": "code",
   "execution_count": null,
   "metadata": {},
   "outputs": [],
   "source": [
    "ssh_key_file_priv=\"/home/fabric/.ssh/id_rsa\"\n",
    "ssh_key_file_pub=\"/home/fabric/.ssh/id_rsa.pub\"\n",
    "\n",
    "ssh_key_pub = None\n",
    "with open (ssh_key_file_pub, \"r\") as myfile:\n",
    "    ssh_key_pub=myfile.read()\n",
    "    ssh_key_pub=ssh_key_pub.strip()"
   ]
  },
  {
   "cell_type": "code",
   "execution_count": null,
   "metadata": {},
   "outputs": [],
   "source": [
    "credmgr_host = os.environ['FABRIC_CREDMGR_HOST']\n",
    "orchestrator_host = os.environ['FABRIC_ORCHESTRATOR_HOST']\n",
    "print(f\"CM Host: {credmgr_host} Orchestrator Host: {orchestrator_host}\")"
   ]
  },
  {
   "cell_type": "markdown",
   "metadata": {},
   "source": [
    "## Create Slice Manager Object"
   ]
  },
  {
   "cell_type": "code",
   "execution_count": null,
   "metadata": {},
   "outputs": [],
   "source": [
    "slice_manager = SliceManager(oc_host=orchestrator_host, cm_host=credmgr_host ,project_name='all', scope='all')\n",
    "\n",
    "# Initialize the slice manager\n",
    "slice_manager.initialize()"
   ]
  },
  {
   "cell_type": "markdown",
   "metadata": {},
   "source": [
    "## Create a Node\n",
    "\n",
    "The cell below creates a slice that contains a single node. The node has 1 TB of local disk storage and an PCI NVMe drive. \n",
    "\n",
    "- Local disk is specified in the line:  `cap.set_fields(core=8, ram=16, disk=1000)`. The parameter \"disk\" is equal to 100.\n",
    "- The NVMe storage is specified in the line `n1.add_component(ctype=ComponentType.NVME, model='P4510', name='nvme1')`\n",
    " \n",
    "Note that you need some amount of local storage when creating any node. If you specify \"disk=0\", some amount of local disk storage will still be assigned to you. However, you can omit the NVMe component.\n",
    "\n",
    "### Set the Slice Name and FABRIC Site"
   ]
  },
  {
   "cell_type": "code",
   "execution_count": null,
   "metadata": {},
   "outputs": [],
   "source": [
    "slice_name=\"StorageTest\"\n",
    "site_name=\"UKY\"\n",
    "node_name='storage-node'"
   ]
  },
  {
   "cell_type": "code",
   "execution_count": null,
   "metadata": {},
   "outputs": [],
   "source": [
    "from fabrictestbed.slice_editor import ExperimentTopology, Capacities, ComponentType\n",
    "# Create topology\n",
    "t = ExperimentTopology()\n",
    "\n",
    "# Add node\n",
    "n1 = t.add_node(name=node_name, site=site_name)\n",
    "\n",
    "# Set capacities\n",
    "cap = Capacities()\n",
    "cap.set_fields(core=8, ram=16, disk=1000)\n",
    "\n",
    "# Set Properties\n",
    "n1.set_properties(capacities=cap, image_type='qcow2', image_ref='default_ubuntu_20')\n",
    "\n",
    "# Add the PCI NVMe device\n",
    "n1.add_component(ctype=ComponentType.NVME, model='P4510', name='nvme1')\n",
    "\n",
    "# Generate Slice Graph\n",
    "slice_graph = t.serialize()\n",
    "\n",
    "# Request slice from Orchestrator\n",
    "status, reservations = slice_manager.create(slice_name=slice_name, slice_graph=slice_graph, ssh_key=ssh_key_pub)\n",
    "\n",
    "print(\"Response Status {}\".format(status))\n",
    "print(\"Reservations created {}\".format(reservations))"
   ]
  },
  {
   "cell_type": "code",
   "execution_count": null,
   "metadata": {},
   "outputs": [],
   "source": [
    "# Set the Slice ID from output of the above command\n",
    "slice_id=reservations[0].slice_id"
   ]
  },
  {
   "cell_type": "markdown",
   "metadata": {},
   "source": [
    "## Get the Node\n",
    "\n",
    "Retrieve the node information, check the state of the node, and save the management IP address.\n",
    "\n",
    "Re-run this cell until the node status is Active."
   ]
  },
  {
   "cell_type": "code",
   "execution_count": null,
   "metadata": {},
   "outputs": [],
   "source": [
    "status, slivers = slice_manager.slivers(slice_id=slice_id)\n",
    "\n",
    "# Check the return value of the slivers call\n",
    "if status != Status.OK:\n",
    "    print(\"Failed to get slivers\")\n",
    "\n",
    "# Get the node with name node_name\n",
    "node = list(filter(lambda slivers: slivers.name == node_name, slivers))[0]\n",
    "\n",
    "node_status=node.reservation_state\n",
    "node_management_ip=node.management_ip\n",
    "\n",
    "print(\"node_status: {}\".format(node_status))\n",
    "print(\"node_management_ip: {}\".format(node_management_ip))\n"
   ]
  },
  {
   "cell_type": "markdown",
   "metadata": {},
   "source": [
    "## Setup SSH Connection for Commands\n",
    "\n",
    "Setup <code>paramiko</code> to send commands to the node using <code>ssh</code>."
   ]
  },
  {
   "cell_type": "code",
   "execution_count": null,
   "metadata": {},
   "outputs": [],
   "source": [
    "import paramiko\n",
    "\n",
    "key = paramiko.RSAKey.from_private_key_file(ssh_key_file_priv)\n",
    "client = paramiko.SSHClient()\n",
    "client.load_system_host_keys()\n",
    "client.set_missing_host_key_policy(paramiko.MissingHostKeyPolicy())\n",
    "\n",
    "client.set_missing_host_key_policy(paramiko.AutoAddPolicy())\n",
    "client.connect(node_management_ip,username='ubuntu',pkey = key)"
   ]
  },
  {
   "cell_type": "markdown",
   "metadata": {},
   "source": [
    "## Configure the Node's Storage\n",
    "\n",
    "### Local Disk\n",
    "\n",
    "Run the command <code>df -h /</code> on the node. You should see a 1 TB root file system on the the local disk. This is the local disk used by the VM and is mounted at <code>/</code>.  \n",
    "\n",
    "There is no need to configure the local disk."
   ]
  },
  {
   "cell_type": "code",
   "execution_count": null,
   "metadata": {},
   "outputs": [],
   "source": [
    "stdin, stdout, stderr = client.exec_command('df -h /')\n",
    "\n",
    "print (str(stdout.read(),'utf-8').replace('\\\\n','\\n'))"
   ]
  },
  {
   "cell_type": "markdown",
   "metadata": {},
   "source": [
    "### NVMe PCI Device\n",
    "\n",
    "Run the command <code>lspci</code> to see your NVMe PCI device. This is the raw NVMe PCI device that is not yet formated or mounted."
   ]
  },
  {
   "cell_type": "code",
   "execution_count": null,
   "metadata": {},
   "outputs": [],
   "source": [
    "stdin, stdout, stderr = client.exec_command('lspci | grep NVMe')\n",
    "\n",
    "print (str(stdout.read(),'utf-8').replace('\\\\n','\\n'))"
   ]
  },
  {
   "cell_type": "markdown",
   "metadata": {},
   "source": [
    "Run <code>fdisk</code> to see the NVMe block device. This device is not yet formated. We will partition and format this device later."
   ]
  },
  {
   "cell_type": "code",
   "execution_count": null,
   "metadata": {},
   "outputs": [],
   "source": [
    "stdin, stdout, stderr = client.exec_command('sudo fdisk -l /dev/nvme*')\n",
    "\n",
    "print (str(stdout.read(),'utf-8').replace('\\\\n','\\n'))"
   ]
  },
  {
   "cell_type": "markdown",
   "metadata": {},
   "source": [
    "### Network Attached Storage\n",
    "\n",
    "Network attached storage is not yet available on FABRIC. This notebook will be updated to when it becomes available."
   ]
  },
  {
   "cell_type": "markdown",
   "metadata": {},
   "source": [
    "## Configure and Benchmark the Storage Devices\n",
    "\n",
    "We will use <code>dd</code> to perform a simple benchmark of the different storage devices.  \n",
    "\n",
    "Note that this is not a complete evaluation of  FABRIC storage devices and is meant more as a exercise for learning about using FABRIC storage and its performance.\n",
    "\n",
    "### Local Disk"
   ]
  },
  {
   "cell_type": "markdown",
   "metadata": {},
   "source": [
    "As seen above the local disk (`/dev/vda1`) is mounted at `/`.  We can read/write to the `/tmp` directory to benchmark this disk.\n",
    "\n",
    "We can verify that `/tmp` is part of `/dev/vda1` by issuing the command below."
   ]
  },
  {
   "cell_type": "code",
   "execution_count": null,
   "metadata": {},
   "outputs": [],
   "source": [
    "stdin, stdout, stderr = client.exec_command('df /tmp')\n",
    "print(stdout.read().decode(\"utf-8\"))\n",
    "print(stderr.read().decode(\"utf-8\"))"
   ]
  },
  {
   "cell_type": "markdown",
   "metadata": {},
   "source": [
    "Now lets try writing a modest 1G file to the local disk using a simple `dd` command. We will use a 1G block size to simulate a full 1G file being written. If you would like to simulate a lot of smaller files you should reduce the value of `bs` to the size of the files and increase `count` to the number of files."
   ]
  },
  {
   "cell_type": "code",
   "execution_count": null,
   "metadata": {},
   "outputs": [],
   "source": [
    "command='dd if=/dev/zero of=/tmp/output bs=1G count=1'\n",
    "stdin, stdout, stderr = client.exec_command(command)\n",
    "print(stdout.read().decode(\"utf-8\"))\n",
    "print(stderr.read().decode(\"utf-8\"))"
   ]
  },
  {
   "cell_type": "markdown",
   "metadata": {},
   "source": [
    "The 1G file was probably written at over 1 GB/s. This is much faster than the local disk. How did this happen? The answer is that there the OS and VM hypervisor both have buffers in memory that allow bursts of file writes to be quickly written memory and, later, transfered to disk. This optimization helps many applications but is limited by the memory available for disk caching. \n",
    "\n",
    "Typically, storage benchmarking aims to test performance of the stoarge, not the OS buffering system. Some `dd` options can help with this.  Let's try again but add the `oflag=direct` option that will skip the file system buffer used by the VM's OS."
   ]
  },
  {
   "cell_type": "code",
   "execution_count": null,
   "metadata": {},
   "outputs": [],
   "source": [
    "command='dd if=/dev/zero of=/tmp/output bs=1G count=1 oflag=direct'\n",
    "stdin, stdout, stderr = client.exec_command(command)\n",
    "print(stdout.read().decode(\"utf-8\"))\n",
    "print(stderr.read().decode(\"utf-8\"))"
   ]
  },
  {
   "cell_type": "markdown",
   "metadata": {},
   "source": [
    "What did you find? Often, this produces a counterintuitive result. It is not surprising to see speeds over 2.5 GB/s.  What is happening here?  \n",
    "\n",
    "The increased performance is due to the hypervisor's virtual block device cache. Although this cache was also used in the previous step, it seems that it can enable higher bandwidth on its own than when used in combination with the VM's file system cache. \n",
    "\n",
    "Skipping this cache and writing directly to the physical block device is not possible without re-configuring the hypervisor. You will not be able to perform this test on FABRIC. You can, however, write a large enough file that the cache fills early in the write and the amortized performance approaches the block devices' write performance.\n",
    "\n",
    "Try writing larger files. Note these tests could take tens of minutes so be patient.\n",
    "\n",
    "Write a 10G file:"
   ]
  },
  {
   "cell_type": "code",
   "execution_count": null,
   "metadata": {},
   "outputs": [],
   "source": [
    "command='dd if=/dev/zero of=/tmp/output bs=5G count=1 oflag=direct'\n",
    "stdin, stdout, stderr = client.exec_command(command)\n",
    "print(stdout.read().decode(\"utf-8\"))\n",
    "print(stderr.read().decode(\"utf-8\"))"
   ]
  },
  {
   "cell_type": "markdown",
   "metadata": {},
   "source": [
    "Write a 20G file:"
   ]
  },
  {
   "cell_type": "code",
   "execution_count": null,
   "metadata": {},
   "outputs": [],
   "source": [
    "command='dd if=/dev/zero of=/tmp/output bs=25G count=1 oflag=direct'\n",
    "stdin, stdout, stderr = client.exec_command(command)\n",
    "print(stdout.read().decode(\"utf-8\"))\n",
    "print(stderr.read().decode(\"utf-8\"))"
   ]
  },
  {
   "cell_type": "markdown",
   "metadata": {},
   "source": [
    "The maximum value of `bs` is limited by the size of the VM's memory. Very large write tests must have reasonable values of `bs` and increased `count`. \n",
    "\n",
    "Try larger write tests. These tests may take some time. Be patient. "
   ]
  },
  {
   "cell_type": "code",
   "execution_count": null,
   "metadata": {},
   "outputs": [],
   "source": [
    "stdin, stdout, stderr = client.exec_command('dd if=/dev/zero of=/tmp/output bs=25G count=16 oflag=direct')\n",
    "print(stdout.read().decode(\"utf-8\"))\n",
    "print(stderr.read().decode(\"utf-8\"))"
   ]
  },
  {
   "cell_type": "markdown",
   "metadata": {},
   "source": [
    "If you tests were large enough you will approach the write bandwidth of the disk. In our tests, this should be a bit under 200 MB/s."
   ]
  },
  {
   "cell_type": "markdown",
   "metadata": {},
   "source": [
    "### NVMe storage.\n",
    "\n",
    "NVMe storage is provided as bare PCI block devices and will likely need to be partitioned and formated before use.\n",
    "\n",
    "Find the NVMe block device."
   ]
  },
  {
   "cell_type": "code",
   "execution_count": null,
   "metadata": {},
   "outputs": [],
   "source": [
    "stdin, stdout, stderr = client.exec_command('sudo fdisk -l /dev/nvme*')\n",
    "\n",
    "print (str(stdout.read(),'utf-8').replace('\\\\n','\\n'))"
   ]
  },
  {
   "cell_type": "markdown",
   "metadata": {},
   "source": [
    "There are no partitions or files systems on this device. First, let's partition the disk."
   ]
  },
  {
   "cell_type": "code",
   "execution_count": null,
   "metadata": {},
   "outputs": [],
   "source": [
    "stdin, stdout, stderr = client.exec_command('sudo parted /dev/nvme0n1 mklabel gpt')\n",
    "print(stdout.read().decode(\"utf-8\"))\n",
    "print(stderr.read().decode(\"utf-8\"))"
   ]
  },
  {
   "cell_type": "markdown",
   "metadata": {},
   "source": [
    "We can check that it has been created using the command below."
   ]
  },
  {
   "cell_type": "code",
   "execution_count": null,
   "metadata": {},
   "outputs": [],
   "source": [
    "stdin, stdout, stderr = client.exec_command('sudo parted /dev/nvme0n1 print')\n",
    "print(stdout.read().decode(\"utf-8\"))\n",
    "print(stderr.read().decode(\"utf-8\"))"
   ]
  },
  {
   "cell_type": "markdown",
   "metadata": {},
   "source": [
    "Next, let's print the free space in the NVMe drive in megabytes."
   ]
  },
  {
   "cell_type": "code",
   "execution_count": null,
   "metadata": {},
   "outputs": [],
   "source": [
    "stdin, stdout, stderr = client.exec_command('sudo parted /dev/nvme0n1 print unit MB print free')\n",
    "print(stdout.read().decode(\"utf-8\"))\n",
    "print(stderr.read().decode(\"utf-8\"))"
   ]
  },
  {
   "cell_type": "markdown",
   "metadata": {},
   "source": [
    "We can see that the disk is 1GB. Next, let's create a partition that uses up this entire space."
   ]
  },
  {
   "cell_type": "code",
   "execution_count": null,
   "metadata": {},
   "outputs": [],
   "source": [
    "stdin, stdout, stderr = client.exec_command('sudo parted --align optimal /dev/nvme0n1 mkpart primary ext4 0% 1000205MB')\n",
    "print(stdout.read().decode(\"utf-8\"))\n",
    "print(stderr.read().decode(\"utf-8\"))"
   ]
  },
  {
   "cell_type": "markdown",
   "metadata": {},
   "source": [
    "Let's examine the partitions one more time to see the partition we created."
   ]
  },
  {
   "cell_type": "code",
   "execution_count": null,
   "metadata": {},
   "outputs": [],
   "source": [
    "stdin, stdout, stderr = client.exec_command('lsblk /dev/nvme0n1')\n",
    "print(stdout.read().decode(\"utf-8\"))\n",
    "print(stderr.read().decode(\"utf-8\"))"
   ]
  },
  {
   "cell_type": "markdown",
   "metadata": {},
   "source": [
    "Now, let's format the disk with a `ext4` file system."
   ]
  },
  {
   "cell_type": "code",
   "execution_count": null,
   "metadata": {},
   "outputs": [],
   "source": [
    "stdin, stdout, stderr = client.exec_command('sudo mkfs.ext4 /dev/nvme0n1p1')\n",
    "print(stdout.read().decode(\"utf-8\"))\n",
    "print(stderr.read().decode(\"utf-8\"))"
   ]
  },
  {
   "cell_type": "markdown",
   "metadata": {},
   "source": [
    "Next, we need to mount the file system. "
   ]
  },
  {
   "cell_type": "code",
   "execution_count": null,
   "metadata": {
    "scrolled": true
   },
   "outputs": [],
   "source": [
    "stdin, stdout, stderr = client.exec_command('sudo mkdir /mnt/nvme_mount && sudo mount /dev/nvme0n1p1 /mnt/nvme_mount')\n",
    "print(stdout.read().decode(\"utf-8\"))\n",
    "print(stderr.read().decode(\"utf-8\"))"
   ]
  },
  {
   "cell_type": "markdown",
   "metadata": {},
   "source": [
    "Confirm that the file system is mounted and the correct size."
   ]
  },
  {
   "cell_type": "code",
   "execution_count": null,
   "metadata": {},
   "outputs": [],
   "source": [
    "stdin, stdout, stderr = client.exec_command('df -h /mnt/nvme_mount')\n",
    "print(stdout.read().decode(\"utf-8\"))\n",
    "print(stderr.read().decode(\"utf-8\"))"
   ]
  },
  {
   "cell_type": "markdown",
   "metadata": {},
   "source": [
    "Now we can use `dd` command to benchmark the NVMe drive just like we did the local disk. Unlike the local disk, our VMs have direct control of the NVMe PCI devices so there is no hypervisor cache. Using `oflag=direct` will get closet to the actual performance of the NVMe block device.\n",
    " \n",
    "Try a 1G file without `oflag=direct`:"
   ]
  },
  {
   "cell_type": "code",
   "execution_count": null,
   "metadata": {},
   "outputs": [],
   "source": [
    "command='sudo dd if=/dev/zero of=/mnt/nvme_mount/output bs=1G count=1'\n",
    "stdin, stdout, stderr = client.exec_command(command)\n",
    "print(stdout.read().decode(\"utf-8\"))\n",
    "print(stderr.read().decode(\"utf-8\"))"
   ]
  },
  {
   "cell_type": "markdown",
   "metadata": {},
   "source": [
    "Try a 1G file with `oflag=direct`:"
   ]
  },
  {
   "cell_type": "code",
   "execution_count": null,
   "metadata": {
    "scrolled": false
   },
   "outputs": [],
   "source": [
    "command='sudo dd if=/dev/zero of=/mnt/nvme_mount/output bs=1G count=1 oflag=direct'\n",
    "stdin, stdout, stderr = client.exec_command(command)\n",
    "print(stdout.read().decode(\"utf-8\"))\n",
    "print(stderr.read().decode(\"utf-8\"))"
   ]
  },
  {
   "cell_type": "markdown",
   "metadata": {},
   "source": [
    "Try a 5G file with `oflag=direct`:"
   ]
  },
  {
   "cell_type": "code",
   "execution_count": null,
   "metadata": {
    "scrolled": false
   },
   "outputs": [],
   "source": [
    "command='sudo dd if=/dev/zero of=/mnt/nvme_mount/output bs=5G count=1 oflag=direct'\n",
    "stdin, stdout, stderr = client.exec_command(command)\n",
    "print(stdout.read().decode(\"utf-8\"))\n",
    "print(stderr.read().decode(\"utf-8\"))"
   ]
  },
  {
   "cell_type": "markdown",
   "metadata": {},
   "source": [
    "Try a larger files with `oflag=direct`:"
   ]
  },
  {
   "cell_type": "code",
   "execution_count": null,
   "metadata": {},
   "outputs": [],
   "source": [
    "command='sudo dd if=/dev/zero of=/mnt/nvme_mount/output bs=1G count=100 oflag=direct'\n",
    "stdin, stdout, stderr = client.exec_command(command)\n",
    "print(stdout.read().decode(\"utf-8\"))\n",
    "print(stderr.read().decode(\"utf-8\"))"
   ]
  },
  {
   "cell_type": "markdown",
   "metadata": {},
   "source": [
    "You should be seeing much higher bandwidths than with the local disk.\n",
    "\n",
    "## Cleanup Your Experiment"
   ]
  },
  {
   "cell_type": "code",
   "execution_count": null,
   "metadata": {},
   "outputs": [],
   "source": [
    "status, result = slice_manager.delete(slice_id=slice_id)\n",
    "\n",
    "print(\"Response Status {}\".format(status))\n",
    "print(\"Response received {}\".format(result))"
   ]
  }
 ],
 "metadata": {
  "kernelspec": {
   "display_name": "Python 3 (ipykernel)",
   "language": "python",
   "name": "python3"
  },
  "language_info": {
   "codemirror_mode": {
    "name": "ipython",
    "version": 3
   },
   "file_extension": ".py",
   "mimetype": "text/x-python",
   "name": "python",
   "nbconvert_exporter": "python",
   "pygments_lexer": "ipython3",
   "version": "3.9.2"
  }
 },
 "nbformat": 4,
 "nbformat_minor": 4
}
