{
 "cells": [
  {
   "cell_type": "markdown",
   "metadata": {},
   "source": [
    "# P4Lang Tutorials of FABRIC\n",
    "\n",
    "This notebook walks the user through setting up a FABRIC eperiment that is suitiable for completing the P4 tutorials created by [P4Lang](https://github.com/p4lang/tutorials). The tutorials were origianlly designed to use a mininet topology. This example replaces the mininet topology with a FABRIC experiemnt topology that may span multiple sites across the FABRIC testbed.\n",
    "\n",
    "Additional resources:\n",
    "- [FABRIC Knowledge Base](https://learn.fabric-testbed.net/)\n",
    "- [FABRIC Forums](https://learn.fabric-testbed.net/forums/)\n",
    "- [P4Lang Tutorials](https://github.com/p4lang/tutorials)\n",
    "- [P4Lang YouTube Presentations](https://www.youtube.com/channel/UCOQAFkDKucJWr-KafdJsdIQ)"
   ]
  },
  {
   "cell_type": "markdown",
   "metadata": {},
   "source": [
    "## Basic FABRIC Slice Configuration"
   ]
  },
  {
   "cell_type": "code",
   "execution_count": 1,
   "metadata": {},
   "outputs": [],
   "source": [
    "import json\n",
    "import traceback\n",
    "from fabrictestbed_extensions.fablib.fablib import fablib"
   ]
  },
  {
   "cell_type": "code",
   "execution_count": 2,
   "metadata": {},
   "outputs": [
    {
     "name": "stdout",
     "output_type": "stream",
     "text": [
      "Name      CPUs  Cores    RAM (G)    Disk (G)       Basic (100 Gbps NIC)    ConnectX-6 (100 Gbps x2 NIC)    ConnectX-5 (25 Gbps x2 NIC)    P4510 (NVMe 1TB)    Tesla T4 (GPU)    RTX6000 (GPU)\n",
      "------  ------  -------  ---------  -------------  ----------------------  ------------------------------  -----------------------------  ------------------  ----------------  ---------------\n",
      "MICH         6  188/192  1520/1536  60490/60600    377/381                 2/2                             2/2                            10/10               2/2               3/3\n",
      "UTAH        10  300/320  2480/2560  116190/116400  631/635                 1/2                             4/4                            16/16               4/4               5/5\n",
      "TACC        10  280/320  2472/2560  115850/116400  629/635                 2/2                             4/4                            16/16               4/4               6/6\n",
      "WASH         6  188/192  1520/1536  60490/60600    377/381                 2/2                             2/2                            10/10               2/2               3/3\n",
      "NCSA         6  192/192  1536/1536  60600/60600    381/381                 2/2                             2/2                            10/10               2/2               3/3\n",
      "DALL         6  192/192  1536/1536  60600/60600    381/381                 2/2                             2/2                            10/10               2/2               3/3\n",
      "MAX         10  276/320  2426/2560  116180/116400  600/635                 2/2                             4/4                            16/16               4/4               6/6\n",
      "MASS         4  128/128  1024/1024  55800/55800    254/254                 2/2                             0/0                            6/6                 0/0               3/3\n",
      "SALT         6  176/192  1472/1536  60500/60600    381/381                 1/2                             2/2                            10/10               2/2               3/3\n",
      "STAR        12  380/384  3056/3072  121180/121200  762/762                 2/2                             6/6                            20/20               6/6               6/6\n"
     ]
    }
   ],
   "source": [
    "try:\n",
    "    print(f\"{fablib.list_sites()}\")\n",
    "except Exception as e:\n",
    "    print(f\"Exception: {e}\")"
   ]
  },
  {
   "cell_type": "markdown",
   "metadata": {
    "tags": []
   },
   "source": [
    "## Configure Slice Parameters\n",
    "\n",
    "This section builds the experiment slice \n",
    "\n",
    "<img src=\"figs/fabric_slice.png\" width=\"800\"/>\n",
    "\n"
   ]
  },
  {
   "cell_type": "code",
   "execution_count": 3,
   "metadata": {},
   "outputs": [
    {
     "name": "stdout",
     "output_type": "stream",
     "text": [
      "Sites: TACC,MICH,MAX\n"
     ]
    }
   ],
   "source": [
    "from ipaddress import ip_address, IPv4Address, IPv6Address, IPv4Network, IPv6Network\n",
    "\n",
    "# Slice \n",
    "slice_name = 'P4Lang_Tutorial'\n",
    "\n",
    "[site1,site2,site3] = fablib.get_random_sites(count=3)\n",
    "print(f\"Sites: {site1},{site2},{site3}\")\n",
    "\n",
    "# Switches\n",
    "s1_name = \"s1\"\n",
    "s2_name = \"s2\"\n",
    "s3_name = \"s3\"\n",
    "\n",
    "switch_cores = 2\n",
    "switch_ram = 8\n",
    "switch_disk = 100\n",
    "\n",
    "# Hosts\n",
    "h1_name = \"h1\"\n",
    "h2_name = \"h2\"\n",
    "h3_name = \"h3\"\n",
    "\n",
    "h1_subnet=IPv4Network('10.0.1.0/24')\n",
    "h1_addr=IPv4Address('10.0.1.1')\n",
    "\n",
    "h2_subnet=IPv4Network('10.0.2.0/24')\n",
    "h2_addr=IPv4Address('10.0.2.2')\n",
    "\n",
    "h3_subnet=IPv4Network('10.0.3.0/24')\n",
    "h3_addr=IPv4Address('10.0.3.3')\n",
    "\n",
    "host_cores = 2\n",
    "host_ram = 8\n",
    "host_disk = 10\n",
    "\n",
    "net_h1_name = 'net_h1'\n",
    "net_h2_name = 'net_h2'\n",
    "net_h3_name = 'net_h3'\n",
    "\n",
    "net_s1_s2_name = 'net_s1_s2'\n",
    "net_s2_s3_name = 'net_s2_s3'\n",
    "net_s1_s3_name = 'net_s1_s3'\n",
    "\n",
    "# All node properties\n",
    "image = 'default_ubuntu_20'"
   ]
  },
  {
   "cell_type": "markdown",
   "metadata": {},
   "source": [
    "### Create the Slice"
   ]
  },
  {
   "cell_type": "code",
   "execution_count": 4,
   "metadata": {},
   "outputs": [
    {
     "name": "stdout",
     "output_type": "stream",
     "text": [
      "\n",
      "---------------  ------------------------------------\n",
      "Slice Name       P4Lang_Tutorial\n",
      "Slice ID         9e461518-0aec-4426-abed-716df458a9dd\n",
      "Slice State      StableOK\n",
      "Lease End (UTC)  2022-07-17 17:12:00 +0000\n",
      "---------------  ------------------------------------\n",
      "\n",
      "Retry: 15, Time: 189 sec\n",
      "\n",
      "ID                                    Name    Site    Host                          Cores    RAM    Disk  Image              Management IP                         State    Error\n",
      "------------------------------------  ------  ------  --------------------------  -------  -----  ------  -----------------  ------------------------------------  -------  -------\n",
      "15bc9ac2-0cbe-4380-85b5-732e3244b563  s1      TACC    tacc-w2.fabric-testbed.net        2      8     100  default_ubuntu_20  129.114.110.94                        Active\n",
      "71a81342-27ab-4a6f-9c1f-dfc58cc96d5f  s2      MICH    mich-w3.fabric-testbed.net        2      8     100  default_ubuntu_20  2607:f018:110:11:f816:3eff:fea4:bcfd  Active\n",
      "2b5ffc11-27e0-4690-a983-eaf68c95c06c  s3      MAX     max-w4.fabric-testbed.net         2      8     100  default_ubuntu_20  63.239.135.69                         Active\n",
      "388cef72-cc48-4bee-8ee3-00ecf5a05216  h1      TACC    tacc-w2.fabric-testbed.net        2      8      10  default_ubuntu_20  129.114.110.84                        Active\n",
      "46708100-fb4f-47e9-a3c8-1b497441f527  h2      MICH    mich-w3.fabric-testbed.net        2      8      10  default_ubuntu_20  2607:f018:110:11:f816:3eff:fe8b:b2c4  Active\n",
      "fdea8af0-4ad6-4eff-a139-ef7bdf08621c  h3      MAX     max-w4.fabric-testbed.net         2      8      10  default_ubuntu_20  63.239.135.104                        Active\n",
      "\n",
      "Time to stable 189 seconds\n",
      "Running post_boot_config ... Time to post boot config 238 seconds\n",
      "\n",
      "Name                  Node    Network      Bandwidth  VLAN    MAC                Physical OS Interface    OS Interface\n",
      "--------------------  ------  ---------  -----------  ------  -----------------  -----------------------  --------------\n",
      "s1-s1_switch_nic2-p1  s1      net_s1_s3            0          0A:F5:FA:00:2F:ED  ens9                     ens9\n",
      "s1-s1_local_nic-p1    s1      net_h1               0          0A:A6:17:C6:65:D0  ens8                     ens8\n",
      "s1-s1_switch_nic1-p1  s1      net_s1_s2            0          0A:7C:D4:F9:5A:E4  ens7                     ens7\n",
      "s2-s2_switch_nic1-p1  s2      net_s1_s2            0          02:F4:1E:C2:CA:7E  ens7                     ens7\n",
      "s2-s2_switch_nic2-p1  s2      net_s2_s3            0          06:E4:7F:53:21:7E  ens8                     ens8\n",
      "s2-s2_local_nic-p1    s2      net_h2               0          06:F9:69:42:68:F1  ens9                     ens9\n",
      "s3-s3_local_nic-p1    s3      net_h3               0          06:D4:B6:EE:FB:C6  ens8                     ens8\n",
      "s3-s3_switch_nic1-p1  s3      net_s1_s3            0          02:22:E6:D4:D4:F1  ens7                     ens7\n",
      "s3-s3_switch_nic2-p1  s3      net_s2_s3            0          0A:37:C2:6D:8F:39  ens9                     ens9\n",
      "h1-h1_nic-p1          h1      net_h1               0          0E:CB:A6:A3:19:2F  ens7                     ens7\n",
      "h2-h2_nic-p1          h2      net_h2               0          0A:3C:A2:3E:7A:06  ens7                     ens7\n",
      "h3-h3_nic-p1          h3      net_h3               0          0A:6F:B0:40:4B:14  ens7                     ens7\n",
      "\n",
      "Time to print interfaces 263 seconds\n"
     ]
    }
   ],
   "source": [
    "try:\n",
    "    #Create Slice\n",
    "    slice = fablib.new_slice(name=slice_name)\n",
    "    \n",
    "    # Add switch node s1\n",
    "    s1 = slice.add_node(name=s1_name, site=site1,  image=image, \n",
    "                        cores=switch_cores, ram=switch_ram, disk=switch_disk)\n",
    "    s1.set_capacities(cores=switch_cores, ram=switch_ram, disk=switch_disk)\n",
    "    s1_iface_local = s1.add_component(model='NIC_Basic', name=\"s1_local_nic\").get_interfaces()[0]\n",
    "    s1_iface_to_s2 = s1.add_component(model='NIC_Basic', name=\"s1_switch_nic1\").get_interfaces()[0]\n",
    "    s1_iface_to_s3 = s1.add_component(model='NIC_Basic', name=\"s1_switch_nic2\").get_interfaces()[0]\n",
    "\n",
    "    # Add switch node s2\n",
    "    s2 = slice.add_node(name=s2_name, site=site2,  image=image, \n",
    "                        cores=switch_cores, ram=switch_ram, disk=switch_disk)\n",
    "    s2_iface_local = s2.add_component(model='NIC_Basic', name=\"s2_local_nic\").get_interfaces()[0]\n",
    "    s2_iface_to_s1 = s2.add_component(model='NIC_Basic', name=\"s2_switch_nic1\").get_interfaces()[0]\n",
    "    s2_iface_to_s3 = s2.add_component(model='NIC_Basic', name=\"s2_switch_nic2\").get_interfaces()[0]\n",
    "    \n",
    "    # Add switch node s3\n",
    "    s3 = slice.add_node(name=s3_name, site=site3,  image=image, \n",
    "                        cores=switch_cores, ram=switch_ram, disk=switch_disk)\n",
    "    s3_iface_local = s3.add_component(model='NIC_Basic', name=\"s3_local_nic\").get_interfaces()[0]\n",
    "    s3_iface_to_s1 = s3.add_component(model='NIC_Basic', name=\"s3_switch_nic1\").get_interfaces()[0]\n",
    "    s3_iface_to_s2 = s3.add_component(model='NIC_Basic', name=\"s3_switch_nic2\").get_interfaces()[0]    \n",
    "    \n",
    "    # Add host node h1\n",
    "    h1 = slice.add_node(name=h1_name, site=site1, image=image,\n",
    "                        cores=host_cores, ram=host_ram, disk=host_disk)\n",
    "    h1_iface = h1.add_component(model='NIC_Basic', name=\"h1_nic\").get_interfaces()[0]\n",
    "    \n",
    "    # Add host node h2\n",
    "    h2 = slice.add_node(name=h2_name, site=site2, image=image,\n",
    "                        cores=host_cores, ram=host_ram, disk=host_disk)\n",
    "    h2_iface = h2.add_component(model='NIC_Basic', name=\"h2_nic\").get_interfaces()[0]\n",
    "    \n",
    "    # Add host node h3\n",
    "    h3 = slice.add_node(name=h3_name, site=site3, image=image,\n",
    "                        cores=host_cores, ram=host_ram, disk=host_disk)\n",
    "    h3_iface = h3.add_component(model='NIC_Basic', name=\"h3_nic\").get_interfaces()[0]\n",
    "    \n",
    "    #Add swtich networks\n",
    "    switch_net1 = slice.add_l2network(name=net_s1_s2_name, interfaces=[s1_iface_to_s2, s2_iface_to_s1])\n",
    "    swtich_net2 = slice.add_l2network(name=net_s2_s3_name, interfaces=[s2_iface_to_s3, s3_iface_to_s2])\n",
    "    swtich_net3 = slice.add_l2network(name=net_s1_s3_name, interfaces=[s3_iface_to_s1, s1_iface_to_s3])\n",
    "\n",
    "    #Add host networks \n",
    "    host_net1 = slice.add_l2network(name=net_h1_name, interfaces=[s1_iface_local, h1_iface])\n",
    "    host_net2 = slice.add_l2network(name=net_h2_name, interfaces=[s2_iface_local, h2_iface])\n",
    "    host_net3 = slice.add_l2network(name=net_h3_name, interfaces=[s3_iface_local, h3_iface])\n",
    "    \n",
    "    #Submit Slice Request\n",
    "    slice.submit() \n",
    "except Exception as e:\n",
    "    print(f\"Error: {e}\")\n",
    "    traceback.print_exc()\n",
    "    "
   ]
  },
  {
   "cell_type": "markdown",
   "metadata": {
    "tags": []
   },
   "source": [
    "## Step 5: Observe the Slice's Attributes\n",
    "\n",
    "### Print the slice"
   ]
  },
  {
   "cell_type": "code",
   "execution_count": 5,
   "metadata": {},
   "outputs": [
    {
     "name": "stdout",
     "output_type": "stream",
     "text": [
      "---------------  ------------------------------------\n",
      "Slice Name       P4Lang_Tutorial\n",
      "Slice ID         9e461518-0aec-4426-abed-716df458a9dd\n",
      "Slice State      StableOK\n",
      "Lease End (UTC)  2022-07-17 17:12:00 +0000\n",
      "---------------  ------------------------------------\n"
     ]
    }
   ],
   "source": [
    "try:\n",
    "    slice = fablib.get_slice(name=slice_name)\n",
    "    print(f\"{slice}\")\n",
    "except Exception as e:\n",
    "    print(f\"Exception: {e}\")"
   ]
  },
  {
   "cell_type": "markdown",
   "metadata": {
    "tags": []
   },
   "source": [
    "### Print the Node List"
   ]
  },
  {
   "cell_type": "code",
   "execution_count": 6,
   "metadata": {},
   "outputs": [
    {
     "name": "stdout",
     "output_type": "stream",
     "text": [
      "ID                                    Name    Site    Host                          Cores    RAM    Disk  Image              Management IP                         State    Error\n",
      "------------------------------------  ------  ------  --------------------------  -------  -----  ------  -----------------  ------------------------------------  -------  -------\n",
      "15bc9ac2-0cbe-4380-85b5-732e3244b563  s1      TACC    tacc-w2.fabric-testbed.net        2      8     100  default_ubuntu_20  129.114.110.94                        Active\n",
      "71a81342-27ab-4a6f-9c1f-dfc58cc96d5f  s2      MICH    mich-w3.fabric-testbed.net        2      8     100  default_ubuntu_20  2607:f018:110:11:f816:3eff:fea4:bcfd  Active\n",
      "2b5ffc11-27e0-4690-a983-eaf68c95c06c  s3      MAX     max-w4.fabric-testbed.net         2      8     100  default_ubuntu_20  63.239.135.69                         Active\n",
      "388cef72-cc48-4bee-8ee3-00ecf5a05216  h1      TACC    tacc-w2.fabric-testbed.net        2      8      10  default_ubuntu_20  129.114.110.84                        Active\n",
      "46708100-fb4f-47e9-a3c8-1b497441f527  h2      MICH    mich-w3.fabric-testbed.net        2      8      10  default_ubuntu_20  2607:f018:110:11:f816:3eff:fe8b:b2c4  Active\n",
      "fdea8af0-4ad6-4eff-a139-ef7bdf08621c  h3      MAX     max-w4.fabric-testbed.net         2      8      10  default_ubuntu_20  63.239.135.104                        Active\n"
     ]
    }
   ],
   "source": [
    "try:\n",
    "    slice = fablib.get_slice(name=slice_name)\n",
    "\n",
    "    print(f\"{slice.list_nodes()}\")\n",
    "except Exception as e:\n",
    "    print(f\"Exception: {e}\")"
   ]
  },
  {
   "cell_type": "markdown",
   "metadata": {},
   "source": [
    "### Print the Node Details"
   ]
  },
  {
   "cell_type": "code",
   "execution_count": 7,
   "metadata": {},
   "outputs": [
    {
     "name": "stdout",
     "output_type": "stream",
     "text": [
      "-----------------  -------------------------------------------------------------------------------------------------------------------------------\n",
      "ID                 15bc9ac2-0cbe-4380-85b5-732e3244b563\n",
      "Name               s1\n",
      "Cores              2\n",
      "RAM                8\n",
      "Disk               100\n",
      "Image              default_ubuntu_20\n",
      "Image Type         qcow2\n",
      "Host               tacc-w2.fabric-testbed.net\n",
      "Site               TACC\n",
      "Management IP      129.114.110.94\n",
      "Reservation State  Active\n",
      "Error Message\n",
      "SSH Command        ssh -i /Users/pruth/work/fabric_config/slice-private-key -J pruth_0031379841@bastion-1.fabric-testbed.net ubuntu@129.114.110.94\n",
      "-----------------  -------------------------------------------------------------------------------------------------------------------------------\n",
      "-----------------  -----------------------------------------------------------------------------------------------------------------------------------------------------\n",
      "ID                 71a81342-27ab-4a6f-9c1f-dfc58cc96d5f\n",
      "Name               s2\n",
      "Cores              2\n",
      "RAM                8\n",
      "Disk               100\n",
      "Image              default_ubuntu_20\n",
      "Image Type         qcow2\n",
      "Host               mich-w3.fabric-testbed.net\n",
      "Site               MICH\n",
      "Management IP      2607:f018:110:11:f816:3eff:fea4:bcfd\n",
      "Reservation State  Active\n",
      "Error Message\n",
      "SSH Command        ssh -i /Users/pruth/work/fabric_config/slice-private-key -J pruth_0031379841@bastion-1.fabric-testbed.net ubuntu@2607:f018:110:11:f816:3eff:fea4:bcfd\n",
      "-----------------  -----------------------------------------------------------------------------------------------------------------------------------------------------\n",
      "-----------------  ------------------------------------------------------------------------------------------------------------------------------\n",
      "ID                 2b5ffc11-27e0-4690-a983-eaf68c95c06c\n",
      "Name               s3\n",
      "Cores              2\n",
      "RAM                8\n",
      "Disk               100\n",
      "Image              default_ubuntu_20\n",
      "Image Type         qcow2\n",
      "Host               max-w4.fabric-testbed.net\n",
      "Site               MAX\n",
      "Management IP      63.239.135.69\n",
      "Reservation State  Active\n",
      "Error Message\n",
      "SSH Command        ssh -i /Users/pruth/work/fabric_config/slice-private-key -J pruth_0031379841@bastion-1.fabric-testbed.net ubuntu@63.239.135.69\n",
      "-----------------  ------------------------------------------------------------------------------------------------------------------------------\n",
      "-----------------  -------------------------------------------------------------------------------------------------------------------------------\n",
      "ID                 388cef72-cc48-4bee-8ee3-00ecf5a05216\n",
      "Name               h1\n",
      "Cores              2\n",
      "RAM                8\n",
      "Disk               10\n",
      "Image              default_ubuntu_20\n",
      "Image Type         qcow2\n",
      "Host               tacc-w2.fabric-testbed.net\n",
      "Site               TACC\n",
      "Management IP      129.114.110.84\n",
      "Reservation State  Active\n",
      "Error Message\n",
      "SSH Command        ssh -i /Users/pruth/work/fabric_config/slice-private-key -J pruth_0031379841@bastion-1.fabric-testbed.net ubuntu@129.114.110.84\n",
      "-----------------  -------------------------------------------------------------------------------------------------------------------------------\n",
      "-----------------  -----------------------------------------------------------------------------------------------------------------------------------------------------\n",
      "ID                 46708100-fb4f-47e9-a3c8-1b497441f527\n",
      "Name               h2\n",
      "Cores              2\n",
      "RAM                8\n",
      "Disk               10\n",
      "Image              default_ubuntu_20\n",
      "Image Type         qcow2\n",
      "Host               mich-w3.fabric-testbed.net\n",
      "Site               MICH\n",
      "Management IP      2607:f018:110:11:f816:3eff:fe8b:b2c4\n",
      "Reservation State  Active\n",
      "Error Message\n",
      "SSH Command        ssh -i /Users/pruth/work/fabric_config/slice-private-key -J pruth_0031379841@bastion-1.fabric-testbed.net ubuntu@2607:f018:110:11:f816:3eff:fe8b:b2c4\n",
      "-----------------  -----------------------------------------------------------------------------------------------------------------------------------------------------\n",
      "-----------------  -------------------------------------------------------------------------------------------------------------------------------\n",
      "ID                 fdea8af0-4ad6-4eff-a139-ef7bdf08621c\n",
      "Name               h3\n",
      "Cores              2\n",
      "RAM                8\n",
      "Disk               10\n",
      "Image              default_ubuntu_20\n",
      "Image Type         qcow2\n",
      "Host               max-w4.fabric-testbed.net\n",
      "Site               MAX\n",
      "Management IP      63.239.135.104\n",
      "Reservation State  Active\n",
      "Error Message\n",
      "SSH Command        ssh -i /Users/pruth/work/fabric_config/slice-private-key -J pruth_0031379841@bastion-1.fabric-testbed.net ubuntu@63.239.135.104\n",
      "-----------------  -------------------------------------------------------------------------------------------------------------------------------\n"
     ]
    }
   ],
   "source": [
    "try:\n",
    "    slice = fablib.get_slice(name=slice_name)\n",
    "    for node in slice.get_nodes():\n",
    "        print(f\"{node}\")\n",
    "except Exception as e:\n",
    "    print(f\"Exception: {e}\")"
   ]
  },
  {
   "cell_type": "markdown",
   "metadata": {},
   "source": [
    "### Print the Node SSH Commands"
   ]
  },
  {
   "cell_type": "code",
   "execution_count": 8,
   "metadata": {},
   "outputs": [
    {
     "name": "stdout",
     "output_type": "stream",
     "text": [
      "s1: ssh -i /Users/pruth/work/fabric_config/slice-private-key -J pruth_0031379841@bastion-1.fabric-testbed.net ubuntu@129.114.110.94\n",
      "s2: ssh -i /Users/pruth/work/fabric_config/slice-private-key -J pruth_0031379841@bastion-1.fabric-testbed.net ubuntu@2607:f018:110:11:f816:3eff:fea4:bcfd\n",
      "s3: ssh -i /Users/pruth/work/fabric_config/slice-private-key -J pruth_0031379841@bastion-1.fabric-testbed.net ubuntu@63.239.135.69\n",
      "h1: ssh -i /Users/pruth/work/fabric_config/slice-private-key -J pruth_0031379841@bastion-1.fabric-testbed.net ubuntu@129.114.110.84\n",
      "h2: ssh -i /Users/pruth/work/fabric_config/slice-private-key -J pruth_0031379841@bastion-1.fabric-testbed.net ubuntu@2607:f018:110:11:f816:3eff:fe8b:b2c4\n",
      "h3: ssh -i /Users/pruth/work/fabric_config/slice-private-key -J pruth_0031379841@bastion-1.fabric-testbed.net ubuntu@63.239.135.104\n"
     ]
    }
   ],
   "source": [
    "try:\n",
    "    slice = fablib.get_slice(name=slice_name)\n",
    "    for node in slice.get_nodes():\n",
    "        print(f\"{node.get_name()}: {node.get_ssh_command()}\")\n",
    "except Exception as e:\n",
    "    print(f\"Exception: {e}\")"
   ]
  },
  {
   "cell_type": "markdown",
   "metadata": {},
   "source": [
    "### Print the Interfaces"
   ]
  },
  {
   "cell_type": "code",
   "execution_count": 9,
   "metadata": {
    "tags": []
   },
   "outputs": [
    {
     "name": "stdout",
     "output_type": "stream",
     "text": [
      "Name                  Node    Network      Bandwidth  VLAN    MAC                Physical OS Interface    OS Interface\n",
      "--------------------  ------  ---------  -----------  ------  -----------------  -----------------------  --------------\n",
      "s1-s1_switch_nic2-p1  s1      net_s1_s3            0          0A:F5:FA:00:2F:ED  ens9                     ens9\n",
      "s1-s1_local_nic-p1    s1      net_h1               0          0A:A6:17:C6:65:D0  ens8                     ens8\n",
      "s1-s1_switch_nic1-p1  s1      net_s1_s2            0          0A:7C:D4:F9:5A:E4  ens7                     ens7\n",
      "s2-s2_switch_nic1-p1  s2      net_s1_s2            0          02:F4:1E:C2:CA:7E  ens7                     ens7\n",
      "s2-s2_switch_nic2-p1  s2      net_s2_s3            0          06:E4:7F:53:21:7E  ens8                     ens8\n",
      "s2-s2_local_nic-p1    s2      net_h2               0          06:F9:69:42:68:F1  ens9                     ens9\n",
      "s3-s3_local_nic-p1    s3      net_h3               0          06:D4:B6:EE:FB:C6  ens8                     ens8\n",
      "s3-s3_switch_nic1-p1  s3      net_s1_s3            0          02:22:E6:D4:D4:F1  ens7                     ens7\n",
      "s3-s3_switch_nic2-p1  s3      net_s2_s3            0          0A:37:C2:6D:8F:39  ens9                     ens9\n",
      "h1-h1_nic-p1          h1      net_h1               0          0E:CB:A6:A3:19:2F  ens7                     ens7\n",
      "h2-h2_nic-p1          h2      net_h2               0          0A:3C:A2:3E:7A:06  ens7                     ens7\n",
      "h3-h3_nic-p1          h3      net_h3               0          0A:6F:B0:40:4B:14  ens7                     ens7\n"
     ]
    }
   ],
   "source": [
    "try:\n",
    "    slice = fablib.get_slice(name=slice_name)\n",
    "    \n",
    "    print(f\"{slice.list_interfaces()}\")\n",
    "except Exception as e:\n",
    "    print(f\"Exception: {e}\")"
   ]
  },
  {
   "cell_type": "markdown",
   "metadata": {},
   "source": [
    "## Configure Nodes\n"
   ]
  },
  {
   "cell_type": "code",
   "execution_count": 10,
   "metadata": {},
   "outputs": [],
   "source": [
    "config_threads = {}"
   ]
  },
  {
   "cell_type": "code",
   "execution_count": 11,
   "metadata": {},
   "outputs": [],
   "source": [
    "host_config_script = \"sudo apt-get update -qq && sudo apt-get install -qq -y python3-scapy && git clone https://github.com/p4lang/tutorials.git/\" \n",
    "\n",
    "try:\n",
    "    \n",
    "    \n",
    "    h1 = slice.get_node(name=h1_name)        \n",
    "    if type(ip_address(h1.get_management_ip())) is IPv6Address:\n",
    "        h1.execute(\"sudo sed -i '/nameserver/d' /etc/resolv.conf && sudo sh -c 'echo nameserver 2a00:1098:2c::1 >> /etc/resolv.conf' && sudo sh -c 'echo nameserver 2a01:4f8:c2c:123f::1 >> /etc/resolv.conf' && sudo sh -c 'echo nameserver 2a00:1098:2b::1 >> /etc/resolv.conf'\")\n",
    "       \n",
    "    h1_os_iface = h1.get_interface(network_name=net_h1_name)\n",
    "    h1_os_iface.ip_addr_add(addr=h1_addr, subnet=h1_subnet)\n",
    "    h1_config_thread = h1.execute_thread(host_config_script)\n",
    "    config_threads[h1] = h1_config_thread\n",
    "\n",
    "    \n",
    "    h2 = slice.get_node(name=h2_name)\n",
    "    if type(ip_address(h2.get_management_ip())) is IPv6Address:\n",
    "        h2.execute(\"sudo sed -i '/nameserver/d' /etc/resolv.conf && sudo sh -c 'echo nameserver 2a00:1098:2c::1 >> /etc/resolv.conf' && sudo sh -c 'echo nameserver 2a01:4f8:c2c:123f::1 >> /etc/resolv.conf' && sudo sh -c 'echo nameserver 2a00:1098:2b::1 >> /etc/resolv.conf'\")\n",
    " \n",
    "    h2_os_iface = h2.get_interface(network_name=net_h2_name)\n",
    "    h2_os_iface.ip_addr_add(addr=h2_addr, subnet=h2_subnet)\n",
    "    h2_config_thread = h2.execute_thread(host_config_script)\n",
    "    config_threads[h2] = h2_config_thread\n",
    "\n",
    "    h3 = slice.get_node(name=h3_name)\n",
    "    if type(ip_address(h3.get_management_ip())) is IPv6Address:\n",
    "        h3.execute(\"sudo sed -i '/nameserver/d' /etc/resolv.conf && sudo sh -c 'echo nameserver 2a00:1098:2c::1 >> /etc/resolv.conf' && sudo sh -c 'echo nameserver 2a01:4f8:c2c:123f::1 >> /etc/resolv.conf' && sudo sh -c 'echo nameserver 2a00:1098:2b::1 >> /etc/resolv.conf'\")\n",
    " \n",
    "    h3_os_iface = h3.get_interface(network_name=net_h3_name)\n",
    "    h3_os_iface.ip_addr_add(addr=h3_addr, subnet=h3_subnet)\n",
    "    h3_config_thread = h3.execute_thread(host_config_script)\n",
    "    config_threads[h3] = h3_config_thread\n",
    "\n",
    "except Exception as e:\n",
    "    print(f\"Error: {e}\")\n",
    "    traceback.print_exc()"
   ]
  },
  {
   "cell_type": "markdown",
   "metadata": {},
   "source": [
    "## Configure Switches\n",
    "\n",
    "Use ssh to configure the ifaces on the switches. This step requires testing the interfaces to figure out which interface is connected to which network.\n"
   ]
  },
  {
   "cell_type": "markdown",
   "metadata": {},
   "source": [
    "#### Setup P4 Docker\n",
    "\n"
   ]
  },
  {
   "cell_type": "markdown",
   "metadata": {},
   "source": [
    "Below are commands to let sudo work with the global proxy."
   ]
  },
  {
   "cell_type": "code",
   "execution_count": 12,
   "metadata": {},
   "outputs": [],
   "source": [
    "try:\n",
    "    s1 = slice.get_node(name=s1_name)\n",
    "    s1_h1_os_iface = s1.get_interface(network_name=net_h1_name)\n",
    "    s1_s2_os_iface = s1.get_interface(network_name=net_s1_s2_name)\n",
    "    s1_s3_os_iface = s1.get_interface(network_name=net_s1_s3_name)\n",
    "        \n",
    "    if type(ip_address(s1.get_management_ip())) is IPv4Address:\n",
    "        management_ip_type = \"IPv4\"\n",
    "    else:\n",
    "        management_ip_type = \"IPv6\"\n",
    "    \n",
    "    file_attributes = s1.upload_file('./scripts/router_setup_p4_bmv2_container.sh','router_setup_p4_bmv2_container.sh')\n",
    "    command=f\"chmod +x router_setup_p4_bmv2_container.sh && sudo sh -c './router_setup_p4_bmv2_container.sh  {management_ip_type} {s1_h1_os_iface.get_os_interface()} {s1_s2_os_iface.get_os_interface()} {s1_s3_os_iface.get_os_interface()}  > /tmp/script.log 2>&1'\"\n",
    "    s1_config_thread = s1.execute_thread(command)\n",
    "    config_threads[s1] = s1_config_thread\n",
    "\n",
    "\n",
    "except Exception as e:\n",
    "    print(f\"Error: {e}\")\n",
    "    traceback.print_exc()"
   ]
  },
  {
   "cell_type": "code",
   "execution_count": 13,
   "metadata": {},
   "outputs": [],
   "source": [
    "try:\n",
    "    s2 = slice.get_node(name=s2_name)\n",
    "    s2_h2_os_iface = s2.get_interface(network_name=net_h2_name)\n",
    "    s2_s1_os_iface = s2.get_interface(network_name=net_s1_s2_name)\n",
    "    s2_s3_os_iface = s2.get_interface(network_name=net_s2_s3_name)\n",
    "\n",
    "    if type(ip_address(s2.get_management_ip())) is IPv4Address:\n",
    "        management_ip_type = \"IPv4\"\n",
    "    else:\n",
    "        management_ip_type = \"IPv6\"\n",
    "    \n",
    "    file_attributes = s2.upload_file('scripts/router_setup_p4_bmv2_container.sh','router_setup_p4_bmv2_container.sh')\n",
    "    command= f\"chmod +x router_setup_p4_bmv2_container.sh && sudo sh -c './router_setup_p4_bmv2_container.sh  {management_ip_type} {s2_h2_os_iface.get_os_interface()} {s2_s1_os_iface.get_os_interface()} {s2_s3_os_iface.get_os_interface()}  > /tmp/script.log 2>&1'\"\n",
    "    s2_config_thread = s2.execute_thread(command)\n",
    "    config_threads[s2] = s2_config_thread\n",
    "\n",
    "except Exception as e:\n",
    "    print(f\"Error: {e}\")\n",
    "    traceback.print_exc() "
   ]
  },
  {
   "cell_type": "code",
   "execution_count": 14,
   "metadata": {},
   "outputs": [],
   "source": [
    "try:\n",
    "    s3 = slice.get_node(name=s3_name)\n",
    "    s3_h3_os_iface = s3.get_interface(network_name=net_h3_name)\n",
    "    s3_s1_os_iface = s3.get_interface(network_name=net_s1_s3_name)\n",
    "    s3_s2_os_iface = s3.get_interface(network_name=net_s2_s3_name)\n",
    "\n",
    "    if type(ip_address(s3.get_management_ip())) is IPv4Address:\n",
    "        management_ip_type = \"IPv4\"\n",
    "    else:\n",
    "        management_ip_type = \"IPv6\"\n",
    "     \n",
    "    file_attributes = s3.upload_file('scripts/router_setup_p4_bmv2_container.sh','router_setup_p4_bmv2_container.sh')\n",
    "    command = f\"chmod +x router_setup_p4_bmv2_container.sh && sudo sh -c './router_setup_p4_bmv2_container.sh  {management_ip_type} {s3_h3_os_iface.get_os_interface()} {s3_s1_os_iface.get_os_interface()} {s3_s2_os_iface.get_os_interface()} > /tmp/script.log 2>&1'\"\n",
    "    s3_config_thread = s3.execute_thread(command)\n",
    "    config_threads[s3] = s3_config_thread\n",
    "\n",
    "\n",
    "except Exception as e:\n",
    "    print(f\"Error: {e}\")\n",
    "    traceback.print_exc() "
   ]
  },
  {
   "cell_type": "code",
   "execution_count": 15,
   "metadata": {},
   "outputs": [
    {
     "name": "stdout",
     "output_type": "stream",
     "text": [
      "Config thread node h1 complete\n",
      "stdout: Selecting previously unselected package python3-backcall.\n",
      "(Reading database ... 63577 files and directories currently installed.)\n",
      "Preparing to unpack .../00-python3-backcall_0.1.0-2_all.deb ...\n",
      "Unpacking python3-backcall (0.1.0-2) ...\n",
      "Selecting previously unselected package python3-decorator.\n",
      "Preparing to unpack .../01-python3-decorator_4.4.2-0ubuntu1_all.deb ...\n",
      "Unpacking python3-decorator (4.4.2-0ubuntu1) ...\n",
      "Selecting previously unselected package python3-parso.\n",
      "Preparing to unpack .../02-python3-parso_0.5.2-1ubuntu1_all.deb ...\n",
      "Unpacking python3-parso (0.5.2-1ubuntu1) ...\n",
      "Selecting previously unselected package python3-jedi.\n",
      "Preparing to unpack .../03-python3-jedi_0.15.2-1_all.deb ...\n",
      "Unpacking python3-jedi (0.15.2-1) ...\n",
      "Selecting previously unselected package python3-pickleshare.\n",
      "Preparing to unpack .../04-python3-pickleshare_0.7.5-2_all.deb ...\n",
      "Unpacking python3-pickleshare (0.7.5-2) ...\n",
      "Selecting previously unselected package python3-wcwidth.\n",
      "Preparing to unpack .../05-python3-wcwidth_0.1.8+dfsg1-3_all.deb ...\n",
      "Unpacking python3-wcwidth (0.1.8+dfsg1-3) ...\n",
      "Selecting previously unselected package python3-prompt-toolkit.\n",
      "Preparing to unpack .../06-python3-prompt-toolkit_2.0.10-2_all.deb ...\n",
      "Unpacking python3-prompt-toolkit (2.0.10-2) ...\n",
      "Selecting previously unselected package python3-pygments.\n",
      "Preparing to unpack .../07-python3-pygments_2.3.1+dfsg-1ubuntu2.2_all.deb ...\n",
      "Unpacking python3-pygments (2.3.1+dfsg-1ubuntu2.2) ...\n",
      "Selecting previously unselected package python3-ipython-genutils.\n",
      "Preparing to unpack .../08-python3-ipython-genutils_0.2.0-1ubuntu1_all.deb ...\n",
      "Unpacking python3-ipython-genutils (0.2.0-1ubuntu1) ...\n",
      "Selecting previously unselected package python3-traitlets.\n",
      "Preparing to unpack .../09-python3-traitlets_4.3.3-3_all.deb ...\n",
      "Unpacking python3-traitlets (4.3.3-3) ...\n",
      "Selecting previously unselected package python3-ipython.\n",
      "Preparing to unpack .../10-python3-ipython_7.13.0-1_all.deb ...\n",
      "Unpacking python3-ipython (7.13.0-1) ...\n",
      "Selecting previously unselected package ipython3.\n",
      "Preparing to unpack .../11-ipython3_7.13.0-1_all.deb ...\n",
      "Unpacking ipython3 (7.13.0-1) ...\n",
      "Selecting previously unselected package python3-scapy.\n",
      "Preparing to unpack .../12-python3-scapy_2.4.3-4_all.deb ...\n",
      "Unpacking python3-scapy (2.4.3-4) ...\n",
      "Setting up python3-backcall (0.1.0-2) ...\n",
      "Setting up python3-parso (0.5.2-1ubuntu1) ...\n",
      "Setting up python3-ipython-genutils (0.2.0-1ubuntu1) ...\n",
      "Setting up python3-decorator (4.4.2-0ubuntu1) ...\n",
      "Setting up python3-pygments (2.3.1+dfsg-1ubuntu2.2) ...\n",
      "Setting up python3-wcwidth (0.1.8+dfsg1-3) ...\n",
      "Setting up python3-pickleshare (0.7.5-2) ...\n",
      "Setting up python3-scapy (2.4.3-4) ...\n",
      "Setting up python3-traitlets (4.3.3-3) ...\n",
      "Setting up python3-prompt-toolkit (2.0.10-2) ...\n",
      "Setting up python3-jedi (0.15.2-1) ...\n",
      "Setting up python3-ipython (7.13.0-1) ...\n",
      "Setting up ipython3 (7.13.0-1) ...\n",
      "Processing triggers for man-db (2.9.1-1) ...\n",
      "\n",
      "stderr: debconf: unable to initialize frontend: Dialog\n",
      "debconf: (Dialog frontend will not work on a dumb terminal, an emacs shell buffer, or without a controlling terminal.)\n",
      "debconf: falling back to frontend: Readline\n",
      "debconf: unable to initialize frontend: Readline\n",
      "debconf: (This frontend requires a controlling tty.)\n",
      "debconf: falling back to frontend: Teletype\n",
      "dpkg-preconfigure: unable to re-open stdin: \n",
      "Cloning into 'tutorials'...\n",
      "\n",
      "Config thread node h2 complete\n",
      "stdout: Selecting previously unselected package python3-backcall.\n",
      "(Reading database ... 63577 files and directories currently installed.)\n",
      "Preparing to unpack .../00-python3-backcall_0.1.0-2_all.deb ...\n",
      "Unpacking python3-backcall (0.1.0-2) ...\n",
      "Selecting previously unselected package python3-decorator.\n",
      "Preparing to unpack .../01-python3-decorator_4.4.2-0ubuntu1_all.deb ...\n",
      "Unpacking python3-decorator (4.4.2-0ubuntu1) ...\n",
      "Selecting previously unselected package python3-parso.\n",
      "Preparing to unpack .../02-python3-parso_0.5.2-1ubuntu1_all.deb ...\n",
      "Unpacking python3-parso (0.5.2-1ubuntu1) ...\n",
      "Selecting previously unselected package python3-jedi.\n",
      "Preparing to unpack .../03-python3-jedi_0.15.2-1_all.deb ...\n",
      "Unpacking python3-jedi (0.15.2-1) ...\n",
      "Selecting previously unselected package python3-pickleshare.\n",
      "Preparing to unpack .../04-python3-pickleshare_0.7.5-2_all.deb ...\n",
      "Unpacking python3-pickleshare (0.7.5-2) ...\n",
      "Selecting previously unselected package python3-wcwidth.\n",
      "Preparing to unpack .../05-python3-wcwidth_0.1.8+dfsg1-3_all.deb ...\n",
      "Unpacking python3-wcwidth (0.1.8+dfsg1-3) ...\n",
      "Selecting previously unselected package python3-prompt-toolkit.\n",
      "Preparing to unpack .../06-python3-prompt-toolkit_2.0.10-2_all.deb ...\n",
      "Unpacking python3-prompt-toolkit (2.0.10-2) ...\n",
      "Selecting previously unselected package python3-pygments.\n",
      "Preparing to unpack .../07-python3-pygments_2.3.1+dfsg-1ubuntu2.2_all.deb ...\n",
      "Unpacking python3-pygments (2.3.1+dfsg-1ubuntu2.2) ...\n",
      "Selecting previously unselected package python3-ipython-genutils.\n",
      "Preparing to unpack .../08-python3-ipython-genutils_0.2.0-1ubuntu1_all.deb ...\n",
      "Unpacking python3-ipython-genutils (0.2.0-1ubuntu1) ...\n",
      "Selecting previously unselected package python3-traitlets.\n",
      "Preparing to unpack .../09-python3-traitlets_4.3.3-3_all.deb ...\n",
      "Unpacking python3-traitlets (4.3.3-3) ...\n",
      "Selecting previously unselected package python3-ipython.\n",
      "Preparing to unpack .../10-python3-ipython_7.13.0-1_all.deb ...\n",
      "Unpacking python3-ipython (7.13.0-1) ...\n",
      "Selecting previously unselected package ipython3.\n",
      "Preparing to unpack .../11-ipython3_7.13.0-1_all.deb ...\n",
      "Unpacking ipython3 (7.13.0-1) ...\n",
      "Selecting previously unselected package python3-scapy.\n",
      "Preparing to unpack .../12-python3-scapy_2.4.3-4_all.deb ...\n",
      "Unpacking python3-scapy (2.4.3-4) ...\n",
      "Setting up python3-backcall (0.1.0-2) ...\n",
      "Setting up python3-parso (0.5.2-1ubuntu1) ...\n",
      "Setting up python3-ipython-genutils (0.2.0-1ubuntu1) ...\n",
      "Setting up python3-decorator (4.4.2-0ubuntu1) ...\n",
      "Setting up python3-pygments (2.3.1+dfsg-1ubuntu2.2) ...\n",
      "Setting up python3-wcwidth (0.1.8+dfsg1-3) ...\n",
      "Setting up python3-pickleshare (0.7.5-2) ...\n",
      "Setting up python3-scapy (2.4.3-4) ...\n",
      "Setting up python3-traitlets (4.3.3-3) ...\n",
      "Setting up python3-prompt-toolkit (2.0.10-2) ...\n",
      "Setting up python3-jedi (0.15.2-1) ...\n",
      "Setting up python3-ipython (7.13.0-1) ...\n",
      "Setting up ipython3 (7.13.0-1) ...\n",
      "Processing triggers for man-db (2.9.1-1) ...\n",
      "\n",
      "stderr: sudo: unable to resolve host 46708100-fb4f-47e9-a3c8-1b497441f527-h2: Name or service not known\n",
      "sudo: unable to resolve host 46708100-fb4f-47e9-a3c8-1b497441f527-h2: Name or service not known\n",
      "debconf: unable to initialize frontend: Dialog\n",
      "debconf: (Dialog frontend will not work on a dumb terminal, an emacs shell buffer, or without a controlling terminal.)\n",
      "debconf: falling back to frontend: Readline\n",
      "debconf: unable to initialize frontend: Readline\n",
      "debconf: (This frontend requires a controlling tty.)\n",
      "debconf: falling back to frontend: Teletype\n",
      "dpkg-preconfigure: unable to re-open stdin: \n",
      "Cloning into 'tutorials'...\n",
      "\n",
      "Config thread node h3 complete\n",
      "stdout: Selecting previously unselected package python3-backcall.\n",
      "(Reading database ... 63577 files and directories currently installed.)\n",
      "Preparing to unpack .../00-python3-backcall_0.1.0-2_all.deb ...\n",
      "Unpacking python3-backcall (0.1.0-2) ...\n",
      "Selecting previously unselected package python3-decorator.\n",
      "Preparing to unpack .../01-python3-decorator_4.4.2-0ubuntu1_all.deb ...\n",
      "Unpacking python3-decorator (4.4.2-0ubuntu1) ...\n",
      "Selecting previously unselected package python3-parso.\n",
      "Preparing to unpack .../02-python3-parso_0.5.2-1ubuntu1_all.deb ...\n",
      "Unpacking python3-parso (0.5.2-1ubuntu1) ...\n",
      "Selecting previously unselected package python3-jedi.\n",
      "Preparing to unpack .../03-python3-jedi_0.15.2-1_all.deb ...\n",
      "Unpacking python3-jedi (0.15.2-1) ...\n",
      "Selecting previously unselected package python3-pickleshare.\n",
      "Preparing to unpack .../04-python3-pickleshare_0.7.5-2_all.deb ...\n",
      "Unpacking python3-pickleshare (0.7.5-2) ...\n",
      "Selecting previously unselected package python3-wcwidth.\n",
      "Preparing to unpack .../05-python3-wcwidth_0.1.8+dfsg1-3_all.deb ...\n",
      "Unpacking python3-wcwidth (0.1.8+dfsg1-3) ...\n",
      "Selecting previously unselected package python3-prompt-toolkit.\n",
      "Preparing to unpack .../06-python3-prompt-toolkit_2.0.10-2_all.deb ...\n",
      "Unpacking python3-prompt-toolkit (2.0.10-2) ...\n",
      "Selecting previously unselected package python3-pygments.\n",
      "Preparing to unpack .../07-python3-pygments_2.3.1+dfsg-1ubuntu2.2_all.deb ...\n",
      "Unpacking python3-pygments (2.3.1+dfsg-1ubuntu2.2) ...\n",
      "Selecting previously unselected package python3-ipython-genutils.\n",
      "Preparing to unpack .../08-python3-ipython-genutils_0.2.0-1ubuntu1_all.deb ...\n",
      "Unpacking python3-ipython-genutils (0.2.0-1ubuntu1) ...\n",
      "Selecting previously unselected package python3-traitlets.\n",
      "Preparing to unpack .../09-python3-traitlets_4.3.3-3_all.deb ...\n",
      "Unpacking python3-traitlets (4.3.3-3) ...\n",
      "Selecting previously unselected package python3-ipython.\n",
      "Preparing to unpack .../10-python3-ipython_7.13.0-1_all.deb ...\n",
      "Unpacking python3-ipython (7.13.0-1) ...\n",
      "Selecting previously unselected package ipython3.\n",
      "Preparing to unpack .../11-ipython3_7.13.0-1_all.deb ...\n",
      "Unpacking ipython3 (7.13.0-1) ...\n",
      "Selecting previously unselected package python3-scapy.\n",
      "Preparing to unpack .../12-python3-scapy_2.4.3-4_all.deb ...\n",
      "Unpacking python3-scapy (2.4.3-4) ...\n",
      "Setting up python3-backcall (0.1.0-2) ...\n",
      "Setting up python3-parso (0.5.2-1ubuntu1) ...\n",
      "Setting up python3-ipython-genutils (0.2.0-1ubuntu1) ...\n",
      "Setting up python3-decorator (4.4.2-0ubuntu1) ...\n",
      "Setting up python3-pygments (2.3.1+dfsg-1ubuntu2.2) ...\n",
      "Setting up python3-wcwidth (0.1.8+dfsg1-3) ...\n",
      "Setting up python3-pickleshare (0.7.5-2) ...\n",
      "Setting up python3-scapy (2.4.3-4) ...\n",
      "Setting up python3-traitlets (4.3.3-3) ...\n",
      "Setting up python3-prompt-toolkit (2.0.10-2) ...\n",
      "Setting up python3-jedi (0.15.2-1) ...\n",
      "Setting up python3-ipython (7.13.0-1) ...\n",
      "Setting up ipython3 (7.13.0-1) ...\n",
      "Processing triggers for man-db (2.9.1-1) ...\n",
      "\n",
      "stderr: debconf: unable to initialize frontend: Dialog\n",
      "debconf: (Dialog frontend will not work on a dumb terminal, an emacs shell buffer, or without a controlling terminal.)\n",
      "debconf: falling back to frontend: Readline\n",
      "debconf: unable to initialize frontend: Readline\n",
      "debconf: (This frontend requires a controlling tty.)\n",
      "debconf: falling back to frontend: Teletype\n",
      "dpkg-preconfigure: unable to re-open stdin: \n",
      "Cloning into 'tutorials'...\n",
      "\n",
      "Config thread node s1 complete\n",
      "stdout: \n",
      "stderr: \n",
      "Config thread node s2 complete\n",
      "stdout: \n",
      "stderr: \n",
      "Config thread node s3 complete\n",
      "stdout: \n",
      "stderr: \n"
     ]
    }
   ],
   "source": [
    "try:\n",
    "    for node, thread in config_threads.items():\n",
    "        stdout, stderr = thread.result()\n",
    "        print(f\"Config thread node {node.get_name()} complete\")\n",
    "        print(f\"stdout: {stdout}\")\n",
    "        print(f\"stderr: {stderr}\")\n",
    "except Exception as e:\n",
    "    print(f\"Error: {e}\")\n",
    "    traceback.print_exc() \n"
   ]
  },
  {
   "cell_type": "markdown",
   "metadata": {},
   "source": [
    "### Confgure P4 Switch Tables\n",
    "\n",
    "Edit sX_commands.txt to change the values"
   ]
  },
  {
   "cell_type": "code",
   "execution_count": 16,
   "metadata": {},
   "outputs": [
    {
     "name": "stdout",
     "output_type": "stream",
     "text": [
      "Swtitch Name        : s1\n",
      "Management IP    : 129.114.110.94\n",
      "s1_commands.txt\n",
      "file_attributes: -rw-rw-r--   1 1000     1000          185 16 Jul 13:22 ?\n",
      "stdout: ('Obtaining JSON from switch...\\nDone\\nControl utility for runtime P4 table manipulation\\nRuntimeCmd: Setting default action of myTunnel_exact\\naction:              drop\\nruntime data:        \\nRuntimeCmd: Adding entry to exact match table myTunnel_exact\\nmatch key:           EXACT-00:01\\naction:              myTunnel_forward\\nruntime data:        00:01\\nEntry has been added with handle 0\\nRuntimeCmd: Adding entry to exact match table myTunnel_exact\\nmatch key:           EXACT-00:02\\naction:              myTunnel_forward\\nruntime data:        00:02\\nEntry has been added with handle 1\\nRuntimeCmd: Adding entry to exact match table myTunnel_exact\\nmatch key:           EXACT-00:03\\naction:              myTunnel_forward\\nruntime data:        00:03\\nEntry has been added with handle 2\\nRuntimeCmd: \\n', '')\n",
      "Swtitch Name        : s2\n",
      "Management IP    : 2607:f018:110:11:f816:3eff:fea4:bcfd\n",
      "s2_commands.txt\n",
      "file_attributes: -rw-rw-r--   1 1000     1000          185 16 Jul 13:23 ?\n",
      "stdout: ('Obtaining JSON from switch...\\nDone\\nControl utility for runtime P4 table manipulation\\nRuntimeCmd: Setting default action of myTunnel_exact\\naction:              drop\\nruntime data:        \\nRuntimeCmd: Adding entry to exact match table myTunnel_exact\\nmatch key:           EXACT-00:01\\naction:              myTunnel_forward\\nruntime data:        00:02\\nEntry has been added with handle 0\\nRuntimeCmd: Adding entry to exact match table myTunnel_exact\\nmatch key:           EXACT-00:02\\naction:              myTunnel_forward\\nruntime data:        00:01\\nEntry has been added with handle 1\\nRuntimeCmd: Adding entry to exact match table myTunnel_exact\\nmatch key:           EXACT-00:03\\naction:              myTunnel_forward\\nruntime data:        00:03\\nEntry has been added with handle 2\\nRuntimeCmd: \\n', 'sudo: unable to resolve host 71a81342-27ab-4a6f-9c1f-dfc58cc96d5f-s2: Name or service not known\\n')\n",
      "Swtitch Name        : s3\n",
      "Management IP    : 63.239.135.69\n",
      "s3_commands.txt\n",
      "file_attributes: -rw-rw-r--   1 1000     1000          185 16 Jul 13:23 ?\n",
      "stdout: ('Obtaining JSON from switch...\\nDone\\nControl utility for runtime P4 table manipulation\\nRuntimeCmd: Setting default action of myTunnel_exact\\naction:              drop\\nruntime data:        \\nRuntimeCmd: Adding entry to exact match table myTunnel_exact\\nmatch key:           EXACT-00:01\\naction:              myTunnel_forward\\nruntime data:        00:02\\nEntry has been added with handle 0\\nRuntimeCmd: Adding entry to exact match table myTunnel_exact\\nmatch key:           EXACT-00:02\\naction:              myTunnel_forward\\nruntime data:        00:03\\nEntry has been added with handle 1\\nRuntimeCmd: Adding entry to exact match table myTunnel_exact\\nmatch key:           EXACT-00:03\\naction:              myTunnel_forward\\nruntime data:        00:01\\nEntry has been added with handle 2\\nRuntimeCmd: \\n', '')\n"
     ]
    }
   ],
   "source": [
    "for switch_name in [s1_name, s2_name, s3_name]:\n",
    "    switch_node = slice.get_node(name=switch_name)\n",
    "    management_ip_switch = str(switch_node.get_management_ip())\n",
    "    print(\"Swtitch Name        : {}\".format(switch_node.get_name()))\n",
    "    print(\"Management IP    : {}\".format(management_ip_switch))\n",
    "    \n",
    "    #Configure P4 Tables\n",
    "    cmd_file=f'{switch_name}_commands.txt'\n",
    "    print(cmd_file)\n",
    "    file_attributes = switch_node.upload_file(f'scripts/{cmd_file}',cmd_file)\n",
    "    print(\"file_attributes: {}\".format(file_attributes))\n",
    "\n",
    "    stdout = switch_node.execute(f\"sudo sh -c 'cat {cmd_file} | docker exec -i fabric_p4 simple_switch_CLI'\")\n",
    "    print(\"stdout: {}\".format(stdout))"
   ]
  },
  {
   "cell_type": "markdown",
   "metadata": {},
   "source": [
    "## The switches are now configured and running. Now we are going to send packets over the switches."
   ]
  },
  {
   "cell_type": "markdown",
   "metadata": {},
   "source": [
    "We are going to use `send.py` and `receive.py`. We are going to re-upload them to the servers and use them. Make sure to modify the interface names in the script accordingly."
   ]
  },
  {
   "cell_type": "code",
   "execution_count": 17,
   "metadata": {},
   "outputs": [
    {
     "name": "stdout",
     "output_type": "stream",
     "text": [
      "SCP upload fail. Slice: P4Lang_Tutorial, Node: h1, trying again\n",
      "Fail: [Errno 2] No such file or directory: 'scripts/send.py'\n",
      "SCP upload fail. Slice: P4Lang_Tutorial, Node: h1, trying again\n",
      "Fail: [Errno 2] No such file or directory: 'scripts/send.py'\n"
     ]
    },
    {
     "ename": "FileNotFoundError",
     "evalue": "[Errno 2] No such file or directory: 'scripts/send.py'",
     "output_type": "error",
     "traceback": [
      "\u001b[0;31m---------------------------------------------------------------------------\u001b[0m",
      "\u001b[0;31mFileNotFoundError\u001b[0m                         Traceback (most recent call last)",
      "\u001b[0;32m/var/folders/_l/8dq3pgzx6bjgt8qrr1m9jgc80000gp/T/ipykernel_7139/1994896550.py\u001b[0m in \u001b[0;36m<module>\u001b[0;34m\u001b[0m\n\u001b[0;32m----> 1\u001b[0;31m \u001b[0mh1\u001b[0m\u001b[0;34m.\u001b[0m\u001b[0mupload_file\u001b[0m\u001b[0;34m(\u001b[0m\u001b[0;34m'scripts/send.py'\u001b[0m\u001b[0;34m,\u001b[0m \u001b[0;34m'tutorials/exercises/basic_tunnel/send_modified.py'\u001b[0m\u001b[0;34m)\u001b[0m\u001b[0;34m\u001b[0m\u001b[0;34m\u001b[0m\u001b[0m\n\u001b[0m\u001b[1;32m      2\u001b[0m \u001b[0mh2\u001b[0m\u001b[0;34m.\u001b[0m\u001b[0mupload_file\u001b[0m\u001b[0;34m(\u001b[0m\u001b[0;34m'scripts/receive.py'\u001b[0m\u001b[0;34m,\u001b[0m \u001b[0;34m'tutorials/exercises/basic_tunnel/receive_modified.py'\u001b[0m\u001b[0;34m)\u001b[0m\u001b[0;34m\u001b[0m\u001b[0;34m\u001b[0m\u001b[0m\n\u001b[1;32m      3\u001b[0m \u001b[0;34m\u001b[0m\u001b[0m\n\u001b[1;32m      4\u001b[0m \u001b[0;31m#h1.execute('sudo mv send.py tutorials/exercises/basic_tunnel/send_modified.py')\u001b[0m\u001b[0;34m\u001b[0m\u001b[0;34m\u001b[0m\u001b[0;34m\u001b[0m\u001b[0m\n\u001b[1;32m      5\u001b[0m \u001b[0;31m#h2.execute('sudo mv receive.py tutorials/exercises/basic_tunnel/receive_modified.py')\u001b[0m\u001b[0;34m\u001b[0m\u001b[0;34m\u001b[0m\u001b[0;34m\u001b[0m\u001b[0m\n",
      "\u001b[0;32m/usr/local/lib/python3.9/site-packages/fabrictestbed_extensions/fablib/node.py\u001b[0m in \u001b[0;36mupload_file\u001b[0;34m(self, local_file_path, remote_file_path, retry, retry_interval)\u001b[0m\n\u001b[1;32m    848\u001b[0m \u001b[0;34m\u001b[0m\u001b[0m\n\u001b[1;32m    849\u001b[0m                 \u001b[0;32mif\u001b[0m \u001b[0mattempt\u001b[0m\u001b[0;34m+\u001b[0m\u001b[0;36m1\u001b[0m \u001b[0;34m==\u001b[0m \u001b[0mretry\u001b[0m\u001b[0;34m:\u001b[0m\u001b[0;34m\u001b[0m\u001b[0;34m\u001b[0m\u001b[0m\n\u001b[0;32m--> 850\u001b[0;31m                     \u001b[0;32mraise\u001b[0m \u001b[0me\u001b[0m\u001b[0;34m\u001b[0m\u001b[0;34m\u001b[0m\u001b[0m\n\u001b[0m\u001b[1;32m    851\u001b[0m \u001b[0;34m\u001b[0m\u001b[0m\n\u001b[1;32m    852\u001b[0m                 \u001b[0;31m#Fail, try again\u001b[0m\u001b[0;34m\u001b[0m\u001b[0;34m\u001b[0m\u001b[0;34m\u001b[0m\u001b[0m\n",
      "\u001b[0;32m/usr/local/lib/python3.9/site-packages/fabrictestbed_extensions/fablib/node.py\u001b[0m in \u001b[0;36mupload_file\u001b[0;34m(self, local_file_path, remote_file_path, retry, retry_interval)\u001b[0m\n\u001b[1;32m    823\u001b[0m \u001b[0;34m\u001b[0m\u001b[0m\n\u001b[1;32m    824\u001b[0m                 \u001b[0mftp_client\u001b[0m\u001b[0;34m=\u001b[0m\u001b[0mclient\u001b[0m\u001b[0;34m.\u001b[0m\u001b[0mopen_sftp\u001b[0m\u001b[0;34m(\u001b[0m\u001b[0;34m)\u001b[0m\u001b[0;34m\u001b[0m\u001b[0;34m\u001b[0m\u001b[0m\n\u001b[0;32m--> 825\u001b[0;31m                 \u001b[0mfile_attributes\u001b[0m \u001b[0;34m=\u001b[0m \u001b[0mftp_client\u001b[0m\u001b[0;34m.\u001b[0m\u001b[0mput\u001b[0m\u001b[0;34m(\u001b[0m\u001b[0mlocal_file_path\u001b[0m\u001b[0;34m,\u001b[0m \u001b[0mremote_file_path\u001b[0m\u001b[0;34m)\u001b[0m\u001b[0;34m\u001b[0m\u001b[0;34m\u001b[0m\u001b[0m\n\u001b[0m\u001b[1;32m    826\u001b[0m                 \u001b[0mftp_client\u001b[0m\u001b[0;34m.\u001b[0m\u001b[0mclose\u001b[0m\u001b[0;34m(\u001b[0m\u001b[0;34m)\u001b[0m\u001b[0;34m\u001b[0m\u001b[0;34m\u001b[0m\u001b[0m\n\u001b[1;32m    827\u001b[0m \u001b[0;34m\u001b[0m\u001b[0m\n",
      "\u001b[0;32m/usr/local/lib/python3.9/site-packages/paramiko/sftp_client.py\u001b[0m in \u001b[0;36mput\u001b[0;34m(self, localpath, remotepath, callback, confirm)\u001b[0m\n\u001b[1;32m    755\u001b[0m             \u001b[0;31m`\u001b[0m\u001b[0;31m`\u001b[0m\u001b[0mconfirm\u001b[0m\u001b[0;31m`\u001b[0m\u001b[0;31m`\u001b[0m \u001b[0mparam\u001b[0m \u001b[0madded\u001b[0m\u001b[0;34m.\u001b[0m\u001b[0;34m\u001b[0m\u001b[0;34m\u001b[0m\u001b[0m\n\u001b[1;32m    756\u001b[0m         \"\"\"\n\u001b[0;32m--> 757\u001b[0;31m         \u001b[0mfile_size\u001b[0m \u001b[0;34m=\u001b[0m \u001b[0mos\u001b[0m\u001b[0;34m.\u001b[0m\u001b[0mstat\u001b[0m\u001b[0;34m(\u001b[0m\u001b[0mlocalpath\u001b[0m\u001b[0;34m)\u001b[0m\u001b[0;34m.\u001b[0m\u001b[0mst_size\u001b[0m\u001b[0;34m\u001b[0m\u001b[0;34m\u001b[0m\u001b[0m\n\u001b[0m\u001b[1;32m    758\u001b[0m         \u001b[0;32mwith\u001b[0m \u001b[0mopen\u001b[0m\u001b[0;34m(\u001b[0m\u001b[0mlocalpath\u001b[0m\u001b[0;34m,\u001b[0m \u001b[0;34m\"rb\"\u001b[0m\u001b[0;34m)\u001b[0m \u001b[0;32mas\u001b[0m \u001b[0mfl\u001b[0m\u001b[0;34m:\u001b[0m\u001b[0;34m\u001b[0m\u001b[0;34m\u001b[0m\u001b[0m\n\u001b[1;32m    759\u001b[0m             \u001b[0;32mreturn\u001b[0m \u001b[0mself\u001b[0m\u001b[0;34m.\u001b[0m\u001b[0mputfo\u001b[0m\u001b[0;34m(\u001b[0m\u001b[0mfl\u001b[0m\u001b[0;34m,\u001b[0m \u001b[0mremotepath\u001b[0m\u001b[0;34m,\u001b[0m \u001b[0mfile_size\u001b[0m\u001b[0;34m,\u001b[0m \u001b[0mcallback\u001b[0m\u001b[0;34m,\u001b[0m \u001b[0mconfirm\u001b[0m\u001b[0;34m)\u001b[0m\u001b[0;34m\u001b[0m\u001b[0;34m\u001b[0m\u001b[0m\n",
      "\u001b[0;31mFileNotFoundError\u001b[0m: [Errno 2] No such file or directory: 'scripts/send.py'"
     ]
    }
   ],
   "source": [
    "h1.upload_file('scripts/send.py', 'tutorials/exercises/basic_tunnel/send_modified.py')\n",
    "h2.upload_file('scripts/receive.py', 'tutorials/exercises/basic_tunnel/receive_modified.py')\n",
    "\n",
    "#h1.execute('sudo mv send.py tutorials/exercises/basic_tunnel/send_modified.py')\n",
    "#h2.execute('sudo mv receive.py tutorials/exercises/basic_tunnel/receive_modified.py')"
   ]
  },
  {
   "cell_type": "markdown",
   "metadata": {},
   "source": [
    "## Below, we send a few packets."
   ]
  },
  {
   "cell_type": "code",
   "execution_count": 18,
   "metadata": {},
   "outputs": [
    {
     "data": {
      "text/plain": [
       "('', '')"
      ]
     },
     "execution_count": 18,
     "metadata": {},
     "output_type": "execute_result"
    }
   ],
   "source": [
    "h1.execute('tmux new -d \\'timeout 30 watch -n 5 sudo python3 tutorials/exercises/basic_tunnel/send_modified.py --dst_id 2 10.10.2.2 \"message100\"\\'')"
   ]
  },
  {
   "cell_type": "markdown",
   "metadata": {},
   "source": [
    "## And below we receive them."
   ]
  },
  {
   "cell_type": "code",
   "execution_count": 19,
   "metadata": {},
   "outputs": [
    {
     "name": "stdout",
     "output_type": "stream",
     "text": [
      "\n"
     ]
    }
   ],
   "source": [
    "print(h2.execute('sudo timeout 30 sudo python3 tutorials/exercises/basic_tunnel/receive_modified.py')[0])"
   ]
  },
  {
   "cell_type": "markdown",
   "metadata": {},
   "source": [
    "## Delete Slice"
   ]
  },
  {
   "cell_type": "code",
   "execution_count": 33,
   "metadata": {},
   "outputs": [],
   "source": [
    "try:\n",
    "    slice = fablib.get_slice(name=slice_name)\n",
    "    slice.delete()\n",
    "except Exception as e:\n",
    "    print(f\"Fail: {e}\")\n",
    "    traceback.print_exc()"
   ]
  },
  {
   "cell_type": "code",
   "execution_count": null,
   "metadata": {},
   "outputs": [],
   "source": []
  }
 ],
 "metadata": {
  "kernelspec": {
   "display_name": "Python 3 (ipykernel)",
   "language": "python",
   "name": "python3"
  },
  "language_info": {
   "codemirror_mode": {
    "name": "ipython",
    "version": 3
   },
   "file_extension": ".py",
   "mimetype": "text/x-python",
   "name": "python",
   "nbconvert_exporter": "python",
   "pygments_lexer": "ipython3",
   "version": "3.9.2"
  }
 },
 "nbformat": 4,
 "nbformat_minor": 4
}
