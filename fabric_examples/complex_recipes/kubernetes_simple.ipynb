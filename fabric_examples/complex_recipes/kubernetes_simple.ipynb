{
 "cells": [
  {
   "cell_type": "markdown",
   "metadata": {
    "tags": []
   },
   "source": [
    "# Hello, FABRIC: Create your first FABRIC slice\n",
    "\n",
    "## Configure the Environment\n",
    "\n",
    "Set the environment variable that will be used by this notebook. If you are using the FABRIC, JupyterHub some of the environment will be automatically configured for you.  You will only need to set your bastion username, upload your bastion private key, and set the path to where you put your bastion private key. Your bastion username and private key should already be in your possession.  If you do not have a bastion username and private key, please contact the FABRIC admins using the [FABRIC User Forum](https://learn.fabric-testbed.net/forums/) \n",
    "\n",
    "If you are using the FABRIC API outside of the JupyterHub you will need to configure all of the environment variables. Defaults below will be correct in many situations but you will need to confirm your configuration.  If you have questions about this configuration, please contact the FABRIC admins using the [FABRIC User Forum](https://learn.fabric-testbed.net/forums/) \n",
    "\n",
    "More information about accessing your experiments through the FABRIC bastion hosts can be found [here](https://learn.fabric-testbed.net/knowledge-base/logging-into-fabric-vms/)."
   ]
  },
  {
   "cell_type": "code",
   "execution_count": 1,
   "metadata": {},
   "outputs": [],
   "source": [
    " import os\n",
    "\n",
    "# If you are using the FABRIC JupyterHub, the following three evnrionment vars\n",
    "# were automatically provided when you logged in.\n",
    "#os.environ['FABRIC_CREDMGR_HOST']='cm.fabric-testbed.net'\n",
    "#os.environ['FABRIC_ORCHESTRATOR_HOST']='orchestrator.fabric-testbed.net'\n",
    "#os.environ['FABRIC_TOKEN_LOCATION']=os.environ['HOME']+'/work/fabric_token.json'\n",
    "\n",
    "# Bastion IPs\n",
    "os.environ['FABRIC_BASTION_HOST'] = 'bastion-1.fabric-testbed.net'\n",
    "\n",
    "# Set your Bastion username and private key\n",
    "os.environ['FABRIC_BASTION_USERNAME']=<username>\n",
    "os.environ['FABRIC_BASTION_KEY_LOCATION']=os.environ['HOME']+'id_rsa_fabric'\n",
    "\n",
    "# Set the keypair FABRIC will install in your slice. \n",
    "os.environ['FABRIC_SLICE_PRIVATE_KEY_FILE']=os.environ['HOME']+'/.ssh/id_rsa'\n",
    "os.environ['FABRIC_SLICE_PUBLIC_KEY_FILE']=os.environ['HOME']+'/.ssh/id_rsa.pub'\n",
    "\n",
    "# If your slice private key uses a passphrase, set the passphrase\n",
    "#from getpass import getpass\n",
    "#print('Please input private key passphrase. Press enter for no passphrase.')\n",
    "#os.environ['FABRIC_SLICE_PRIVATE_KEY_PASSPHRASE']=getpass()"
   ]
  },
  {
   "cell_type": "markdown",
   "metadata": {
    "tags": []
   },
   "source": [
    "## Setup the Experiment\n",
    "\n",
    "#### Import the FABRIC API"
   ]
  },
  {
   "cell_type": "code",
   "execution_count": 2,
   "metadata": {
    "tags": []
   },
   "outputs": [],
   "source": [
    "import json\n",
    "import traceback\n",
    "from fabrictestbed_extensions.fablib.fablib import fablib"
   ]
  },
  {
   "cell_type": "markdown",
   "metadata": {},
   "source": [
    "#### Create the FABRIC Proxies\n",
    "\n",
    "The FABRIC API is used via proxy objects that manage connections to the control framework.  "
   ]
  },
  {
   "cell_type": "markdown",
   "metadata": {
    "tags": []
   },
   "source": [
    "#### (Optional) Query Available Resources\n",
    "\n",
    "This optional command queries the FABRIC services to find the available resources. It may be useful for finding a site with available capacity."
   ]
  },
  {
   "cell_type": "code",
   "execution_count": 3,
   "metadata": {},
   "outputs": [
    {
     "name": "stdout",
     "output_type": "stream",
     "text": [
      "Available Resources: Name      CPUs  Cores    RAM (G)    Disk (G)       Basic (100 Gbps NIC)    ConnectX-6 (100 Gbps x2 NIC)    ConnectX-5 (25 Gbps x2 NIC)    P4510 (NVMe 1TB)    Tesla T4 (GPU)    RTX6000 (GPU)\n",
      "------  ------  -------  ---------  -------------  ----------------------  ------------------------------  -----------------------------  ------------------  ----------------  ---------------\n",
      "TACC        10  314/320  2536/2560  116370/116400  633/635                 2/2                             3/4                            16/16               4/4               6/6\n",
      "UTAH        10  302/320  2488/2560  116250/116400  632/635                 2/2                             1/4                            16/16               4/4               5/5\n",
      "WASH         6  188/192  1520/1536  60580/60600    379/381                 2/2                             2/2                            10/10               2/2               3/3\n",
      "MICH         6  188/192  1520/1536  60580/60600    379/381                 2/2                             2/2                            10/10               2/2               3/3\n",
      "SALT         6  188/192  1520/1536  60580/60600    379/381                 2/2                             2/2                            10/10               2/2               3/3\n",
      "STAR        12  344/384  2916/3072  120860/121200  748/762                 2/2                             3/6                            20/20               6/6               6/6\n",
      "NCSA         6  188/192  1520/1536  60580/60600    379/381                 2/2                             2/2                            10/10               2/2               3/3\n",
      "MAX         10  314/320  2536/2560  116370/116400  633/635                 2/2                             4/4                            16/16               4/4               6/6\n",
      "DALL         6  186/192  1512/1536  60570/60600    379/381                 2/2                             2/2                            10/10               2/2               3/3\n",
      "MASS         4  128/128  1024/1024  55800/55800    254/254                 2/2                             0/0                            6/6                 0/0               3/3\n",
      "Error: 'Resources' object has no attribute 'draw'\n"
     ]
    }
   ],
   "source": [
    "try:\n",
    "    available_resources = fablib.get_available_resources()\n",
    "    print(f\"Available Resources: {available_resources}\")\n",
    "    available_resources.draw()\n",
    "except Exception as e:\n",
    "    print(f\"Error: {e}\")"
   ]
  },
  {
   "cell_type": "markdown",
   "metadata": {
    "tags": []
   },
   "source": [
    "## Create the Experiment Slice"
   ]
  },
  {
   "cell_type": "markdown",
   "metadata": {
    "tags": []
   },
   "source": [
    "#### Configure the Experiment Parameters\n",
    "\n"
   ]
  },
  {
   "cell_type": "code",
   "execution_count": 138,
   "metadata": {},
   "outputs": [],
   "source": [
    "slice_name = 'MySlice1'\n",
    "site = 'MAX'\n",
    "node1_name = 'Node1'\n",
    "node2_name = 'Node2'\n",
    "image = 'default_ubuntu_20'\n",
    "cores = 2\n",
    "ram = 8\n",
    "disk = 10\n",
    "node1_nic_name = 'NIC1'\n",
    "node2_nic_name = 'NIC2'\n",
    "network_name = 'NET1'"
   ]
  },
  {
   "cell_type": "markdown",
   "metadata": {
    "tags": []
   },
   "source": [
    "### Create Slice\n",
    "\n",
    "<img src=\"./figs/SingleNode.png\" width=\"20%\"><br>\n",
    "\n",
    "Create a single node with basic compute capabilities. The submit function will block until the node is ready and will display a progress bar.\n"
   ]
  },
  {
   "cell_type": "code",
   "execution_count": 140,
   "metadata": {},
   "outputs": [
    {
     "name": "stdout",
     "output_type": "stream",
     "text": [
      "Waiting for slice ................... Slice state: StableOK\n",
      "Waiting for ssh in slice .. ssh successful\n",
      "Running post boot config ... Done!\n"
     ]
    }
   ],
   "source": [
    "try:\n",
    "    #Create Slice\n",
    "    slice1 = fablib.new_slice(slice_name)\n",
    "\n",
    "    # Add node\n",
    "    node1 = slice1.add_node(name=node1_name, site=site)\n",
    "    node1.set_capacities(cores=cores, ram=ram, disk=disk)\n",
    "    node1.set_image(image)\n",
    "    iface1 = node1.add_component(model='NIC_ConnectX_5', name=node1_nic_name).get_interfaces()[0]\n",
    "    \n",
    "    # Add node\n",
    "    node2 = slice1.add_node(name=node2_name, site=site)\n",
    "    node2.set_capacities(cores=cores, ram=ram, disk=disk)\n",
    "    node2.set_image(image)\n",
    "    iface2 = node2.add_component(model='NIC_ConnectX_5', name=node2_nic_name).get_interfaces()[0]\n",
    "    #iface2.set_vlan(vlan='1000')\n",
    "    \n",
    "    # Network\n",
    "    net1 = slice1.add_l2network(name=network_name, interfaces=[iface1, iface2])\n",
    "    \n",
    "    #Submit Slice Request\n",
    "    slice1.submit()\n",
    "    \n",
    "    slice_id = slice1.get_slice_id()\n",
    "except Exception as e:\n",
    "    print(f\"{e}\")"
   ]
  },
  {
   "cell_type": "markdown",
   "metadata": {
    "tags": []
   },
   "source": [
    "### Query Slices\n",
    "\n",
    "You can get a list of all your slices from the slice manager. If this is your first slice, it should return only one slice.\n",
    " "
   ]
  },
  {
   "cell_type": "code",
   "execution_count": 141,
   "metadata": {},
   "outputs": [
    {
     "name": "stdout",
     "output_type": "stream",
     "text": [
      "MySlice1, c5233d8c-e24d-4b68-91d1-2c337a1ce390, StableOK\n"
     ]
    }
   ],
   "source": [
    "try:\n",
    "    slices = fablib.get_slices()\n",
    "    for slice in slices:\n",
    "        print(f\"{slice.get_name()}, {slice.get_slice_id()}, {slice.get_state()}\")\n",
    "except Exception as e:\n",
    "    print(f\"Get Slices Fail: {e}\")"
   ]
  },
  {
   "cell_type": "markdown",
   "metadata": {
    "tags": []
   },
   "source": [
    "### Print the Node's Attributes\n",
    "\n",
    "Each node in the slice has a set of get functions that return the node's attributes."
   ]
  },
  {
   "cell_type": "code",
   "execution_count": 142,
   "metadata": {},
   "outputs": [
    {
     "name": "stdout",
     "output_type": "stream",
     "text": [
      "Node:\n",
      "   Name              : Node1\n",
      "   Cores             : 2\n",
      "   RAM               : 8\n",
      "   Disk              : 10\n",
      "   Image             : default_ubuntu_20\n",
      "   Image Type        : qcow2\n",
      "   Host              : max-w4.fabric-testbed.net\n",
      "   Site              : MAX\n",
      "   Management IP     : 63.239.135.99\n",
      "   Reservation ID    : 34bd975b-571c-4735-b15f-b820ad33e5e5\n",
      "   Reservation State : Active\n",
      "   Error Message     : \n",
      "   Components        : [<fabrictestbed_extensions.fablib.component.Component object at 0x7f00fc0328e0>]\n",
      "   Interfaces        : [<fabrictestbed_extensions.fablib.interface.Interface object at 0x7f00fc169100>, <fabrictestbed_extensions.fablib.interface.Interface object at 0x7f00fc05b040>]\n",
      "   SSH Command       : ssh -i /home/fabric/.ssh/id_rsa -J minawm_0041350787@bastion-1.fabric-testbed.net ubuntu@63.239.135.99\n",
      "\n",
      "Node:\n",
      "   Name              : Node2\n",
      "   Cores             : 2\n",
      "   RAM               : 8\n",
      "   Disk              : 10\n",
      "   Image             : default_ubuntu_20\n",
      "   Image Type        : qcow2\n",
      "   Host              : max-w4.fabric-testbed.net\n",
      "   Site              : MAX\n",
      "   Management IP     : 63.239.135.124\n",
      "   Reservation ID    : 4439cb97-d6c3-497c-b864-206c5e356948\n",
      "   Reservation State : Active\n",
      "   Error Message     : \n",
      "   Components        : [<fabrictestbed_extensions.fablib.component.Component object at 0x7f00fc223fd0>]\n",
      "   Interfaces        : [<fabrictestbed_extensions.fablib.interface.Interface object at 0x7f00ec70eeb0>, <fabrictestbed_extensions.fablib.interface.Interface object at 0x7f00fc096970>]\n",
      "   SSH Command       : ssh -i /home/fabric/.ssh/id_rsa -J minawm_0041350787@bastion-1.fabric-testbed.net ubuntu@63.239.135.124\n",
      "\n"
     ]
    }
   ],
   "source": [
    "try:\n",
    "    slice1 = fablib.get_slice(slice_id=slice_id)\n",
    "    \n",
    "    #print(f\"notices = {slice.get_notices()}\")\n",
    "    #print(f\"errors  = {slice.get_error_messages()}\")\n",
    "    \n",
    "    for node in slice1.get_nodes():\n",
    "        print(\"Node:\")\n",
    "        print(f\"   Name              : {node.get_name()}\")\n",
    "        print(f\"   Cores             : {node.get_cores()}\")\n",
    "        print(f\"   RAM               : {node.get_ram()}\")\n",
    "        print(f\"   Disk              : {node.get_disk()}\")\n",
    "        print(f\"   Image             : {node.get_image()}\")\n",
    "        print(f\"   Image Type        : {node.get_image_type()}\")\n",
    "        print(f\"   Host              : {node.get_host()}\")\n",
    "        print(f\"   Site              : {node.get_site()}\")\n",
    "        print(f\"   Management IP     : {node.get_management_ip()}\")\n",
    "        print(f\"   Reservation ID    : {node.get_reservation_id()}\")\n",
    "        print(f\"   Reservation State : {node.get_reservation_state()}\")\n",
    "        print(f\"   Error Message     : {node.get_error_message()}\")\n",
    "        print(f\"   Components        : {node.get_components()}\")\n",
    "        print(f\"   Interfaces        : {node.get_interfaces()}\")\n",
    "        print(f\"   SSH Command       : {node.get_ssh_command()}\")\n",
    "        print()    \n",
    "except Exception as e:\n",
    "    print(f\"Fail: {e}\")\n",
    "    traceback.print_exc()"
   ]
  },
  {
   "cell_type": "code",
   "execution_count": 164,
   "metadata": {},
   "outputs": [
    {
     "name": "stdout",
     "output_type": "stream",
     "text": [
      "iface: Node1-NIC1-p1\n",
      "ifname: ens7\n",
      "mac: 04:3f:72:fa:75:60\n",
      "3: ens7: <BROADCAST,MULTICAST,UP,LOWER_UP> mtu 1500 qdisc mq state UP group default qlen 1000\n",
      "    link/ether 04:3f:72:fa:75:60 brd ff:ff:ff:ff:ff:ff\n",
      "    inet 192.168.1.10/24 scope global ens7\n",
      "       valid_lft forever preferred_lft forever\n",
      "\n",
      "\n"
     ]
    }
   ],
   "source": [
    "ip_n1 = \"192.168.1.10\"\n",
    "try:\n",
    "    n1 = slice1.get_node(node1_name)\n",
    "    iface1 = n1.get_interface(network_name=network_name)\n",
    "    \n",
    "    print(f\"iface: {iface1.get_name()}\")\n",
    "    \n",
    "    iface1.set_ip(ip=ip_n1, cidr=\"24\")\n",
    "\n",
    "    print(f\"ifname: {iface1.get_os_interface()}\")\n",
    "    print(f\"mac: {iface1.get_mac()}\")\n",
    "    stdout, stderr = n1.execute(f'sudo ip addr list {iface1.get_os_interface()}')\n",
    "    print (stdout)\n",
    "    print (stderr)\n",
    "    \n",
    "except Exception as e:\n",
    "    print(f\"Fail: {e}\")\n",
    "    traceback.print_exc()"
   ]
  },
  {
   "cell_type": "code",
   "execution_count": 165,
   "metadata": {},
   "outputs": [
    {
     "name": "stdout",
     "output_type": "stream",
     "text": [
      "ifname: ens7\n",
      "mac: 04:3f:72:fa:78:00\n",
      "stdout: 3: ens7: <BROADCAST,MULTICAST,UP,LOWER_UP> mtu 1500 qdisc mq state UP group default qlen 1000\n",
      "    link/ether 04:3f:72:fa:78:00 brd ff:ff:ff:ff:ff:ff\n",
      "    inet 192.168.1.11/24 scope global ens7\n",
      "       valid_lft forever preferred_lft forever\n",
      "\n",
      "stderr: \n"
     ]
    }
   ],
   "source": [
    "ip_n2 = \"192.168.1.11\"\n",
    "try:\n",
    "    n2 = slice1.get_node(node2_name)\n",
    "    iface1 = n2.get_interface(network_name=network_name)\n",
    "    \n",
    "    iface1.set_ip(ip=ip_n2, cidr=\"24\")\n",
    "\n",
    "    print(f\"ifname: {iface1.get_os_interface()}\")\n",
    "    print(f\"mac: {iface1.get_mac()}\")\n",
    "    stdout, stderr = n2.execute(f'sudo ip addr list {iface1.get_os_interface()}')\n",
    "    print (f\"stdout: {stdout}\")\n",
    "    print (f\"stderr: {stderr}\")\n",
    "    \n",
    "except Exception as e:\n",
    "    print(f\"Fail: {e}\")\n",
    "    traceback.print_exc()"
   ]
  },
  {
   "cell_type": "code",
   "execution_count": 143,
   "metadata": {},
   "outputs": [],
   "source": [
    "n1 = slice1.get_node(name=\"Node1\")\n",
    "n2 = slice1.get_node(name=\"Node2\")"
   ]
  },
  {
   "cell_type": "markdown",
   "metadata": {
    "tags": []
   },
   "source": [
    "## Let's do a quick ping experiment. We'll let each node ping the other."
   ]
  },
  {
   "cell_type": "code",
   "execution_count": 170,
   "metadata": {},
   "outputs": [
    {
     "name": "stdout",
     "output_type": "stream",
     "text": [
      "PING 192.168.1.11 (192.168.1.11) 56(84) bytes of data.\n",
      "64 bytes from 192.168.1.11: icmp_seq=1 ttl=64 time=0.638 ms\n",
      "64 bytes from 192.168.1.11: icmp_seq=2 ttl=64 time=0.076 ms\n",
      "64 bytes from 192.168.1.11: icmp_seq=3 ttl=64 time=0.057 ms\n",
      "64 bytes from 192.168.1.11: icmp_seq=4 ttl=64 time=0.075 ms\n",
      "64 bytes from 192.168.1.11: icmp_seq=5 ttl=64 time=0.095 ms\n",
      "\n",
      "--- 192.168.1.11 ping statistics ---\n",
      "5 packets transmitted, 5 received, 0% packet loss, time 4089ms\n",
      "rtt min/avg/max/mdev = 0.057/0.188/0.638/0.225 ms\n",
      "\n"
     ]
    }
   ],
   "source": [
    "print(n1.execute(\"ping -c 5 \" + ip_n2)[0])"
   ]
  },
  {
   "cell_type": "code",
   "execution_count": 171,
   "metadata": {},
   "outputs": [
    {
     "name": "stdout",
     "output_type": "stream",
     "text": [
      "PING 192.168.1.10 (192.168.1.10) 56(84) bytes of data.\n",
      "64 bytes from 192.168.1.10: icmp_seq=1 ttl=64 time=0.121 ms\n",
      "64 bytes from 192.168.1.10: icmp_seq=2 ttl=64 time=0.067 ms\n",
      "64 bytes from 192.168.1.10: icmp_seq=3 ttl=64 time=0.061 ms\n",
      "64 bytes from 192.168.1.10: icmp_seq=4 ttl=64 time=0.070 ms\n",
      "64 bytes from 192.168.1.10: icmp_seq=5 ttl=64 time=0.131 ms\n",
      "\n",
      "--- 192.168.1.10 ping statistics ---\n",
      "5 packets transmitted, 5 received, 0% packet loss, time 4086ms\n",
      "rtt min/avg/max/mdev = 0.061/0.090/0.131/0.029 ms\n",
      "\n"
     ]
    }
   ],
   "source": [
    "print(n2.execute(\"ping -c 5 \" + ip_n1)[0])"
   ]
  },
  {
   "cell_type": "markdown",
   "metadata": {},
   "source": [
    "## Ping experiment complete. Both nodes can see each other.\n",
    "\n",
    "## Now let's start a kubernetes cluster on the two nodes. First node is the master. Second node is the worker.\n",
    "\n",
    "We follow the instructions that we have here: https://github.com/apache/openwhisk-deploy-kube/blob/master/docs/k8s-diy-ubuntu.md"
   ]
  },
  {
   "cell_type": "code",
   "execution_count": 172,
   "metadata": {},
   "outputs": [
    {
     "name": "stdout",
     "output_type": "stream",
     "text": [
      "Hit:1 http://security.ubuntu.com/ubuntu focal-security InRelease\n",
      "Hit:3 http://nova.clouds.archive.ubuntu.com/ubuntu focal InRelease\n",
      "Hit:2 https://packages.cloud.google.com/apt kubernetes-xenial InRelease\n",
      "Hit:4 http://nova.clouds.archive.ubuntu.com/ubuntu focal-updates InRelease\n",
      "Hit:5 http://nova.clouds.archive.ubuntu.com/ubuntu focal-backports InRelease\n",
      "Reading package lists...\n",
      "Building dependency tree...\n",
      "Reading state information...\n",
      "64 packages can be upgraded. Run 'apt list --upgradable' to see them.\n",
      "\n"
     ]
    }
   ],
   "source": [
    "print(n1.execute(\"sudo apt update\")[0])"
   ]
  },
  {
   "cell_type": "code",
   "execution_count": 173,
   "metadata": {},
   "outputs": [
    {
     "name": "stdout",
     "output_type": "stream",
     "text": [
      "Reading package lists...\n",
      "Building dependency tree...\n",
      "Reading state information...\n",
      "docker.io is already the newest version (20.10.7-0ubuntu5~20.04.2).\n",
      "0 upgraded, 0 newly installed, 0 to remove and 64 not upgraded.\n",
      "\n"
     ]
    }
   ],
   "source": [
    "print(n1.execute(\"sudo apt install -y docker.io\")[0])"
   ]
  },
  {
   "cell_type": "code",
   "execution_count": 174,
   "metadata": {},
   "outputs": [
    {
     "name": "stdout",
     "output_type": "stream",
     "text": [
      "Reading package lists...\n",
      "Building dependency tree...\n",
      "Reading state information...\n",
      "curl is already the newest version (7.68.0-1ubuntu2.7).\n",
      "apt-transport-https is already the newest version (2.0.6).\n",
      "0 upgraded, 0 newly installed, 0 to remove and 64 not upgraded.\n",
      "\n"
     ]
    }
   ],
   "source": [
    "print(n1.execute(\"sudo apt install -y apt-transport-https curl\")[0])"
   ]
  },
  {
   "cell_type": "code",
   "execution_count": 175,
   "metadata": {},
   "outputs": [
    {
     "name": "stdout",
     "output_type": "stream",
     "text": [
      "OK\n",
      "\n"
     ]
    }
   ],
   "source": [
    "print(n1.execute(\"curl -s https://packages.cloud.google.com/apt/doc/apt-key.gpg | sudo apt-key add -\")[0])"
   ]
  },
  {
   "cell_type": "code",
   "execution_count": 150,
   "metadata": {},
   "outputs": [
    {
     "name": "stdout",
     "output_type": "stream",
     "text": [
      "deb https://apt.kubernetes.io/ kubernetes-xenial main\n",
      "\n"
     ]
    }
   ],
   "source": [
    "print(n1.execute(\"cat <<EOF | sudo tee /etc/apt/sources.list.d/kubernetes.list\\ndeb https://apt.kubernetes.io/ kubernetes-xenial main\\nEOF\\n\")[0])"
   ]
  },
  {
   "cell_type": "code",
   "execution_count": 151,
   "metadata": {},
   "outputs": [
    {
     "name": "stdout",
     "output_type": "stream",
     "text": [
      "deb https://apt.kubernetes.io/ kubernetes-xenial main\n",
      "\n"
     ]
    }
   ],
   "source": [
    "print(n1.execute(\"cat /etc/apt/sources.list.d/kubernetes.list\")[0])"
   ]
  },
  {
   "cell_type": "code",
   "execution_count": 152,
   "metadata": {},
   "outputs": [
    {
     "name": "stdout",
     "output_type": "stream",
     "text": [
      "Hit:1 http://nova.clouds.archive.ubuntu.com/ubuntu focal InRelease\n",
      "Hit:2 http://nova.clouds.archive.ubuntu.com/ubuntu focal-updates InRelease\n",
      "Hit:4 http://nova.clouds.archive.ubuntu.com/ubuntu focal-backports InRelease\n",
      "Hit:5 http://security.ubuntu.com/ubuntu focal-security InRelease\n",
      "Get:3 https://packages.cloud.google.com/apt kubernetes-xenial InRelease [9383 B]\n",
      "Get:6 https://packages.cloud.google.com/apt kubernetes-xenial/main amd64 Packages [54.7 kB]\n",
      "Fetched 64.1 kB in 2s (29.0 kB/s)\n",
      "Reading package lists...\n",
      "Building dependency tree...\n",
      "Reading state information...\n",
      "64 packages can be upgraded. Run 'apt list --upgradable' to see them.\n",
      "\n"
     ]
    }
   ],
   "source": [
    "print(n1.execute(\"sudo apt update\")[0])"
   ]
  },
  {
   "cell_type": "code",
   "execution_count": 153,
   "metadata": {},
   "outputs": [
    {
     "name": "stdout",
     "output_type": "stream",
     "text": [
      "Reading package lists...\n",
      "Building dependency tree...\n",
      "Reading state information...\n",
      "The following additional packages will be installed:\n",
      "  conntrack cri-tools ebtables kubernetes-cni socat\n",
      "Suggested packages:\n",
      "  nftables\n",
      "The following NEW packages will be installed:\n",
      "  conntrack cri-tools ebtables kubeadm kubectl kubelet kubernetes-cni socat\n",
      "0 upgraded, 8 newly installed, 0 to remove and 64 not upgraded.\n",
      "Need to get 77.7 MB of archives.\n",
      "After this operation, 335 MB of additional disk space will be used.\n",
      "Get:5 http://nova.clouds.archive.ubuntu.com/ubuntu focal/main amd64 conntrack amd64 1:1.4.5-2 [30.3 kB]\n",
      "Get:1 https://packages.cloud.google.com/apt kubernetes-xenial/main amd64 cri-tools amd64 1.23.0-00 [15.3 MB]\n",
      "Get:7 http://nova.clouds.archive.ubuntu.com/ubuntu focal/main amd64 ebtables amd64 2.0.11-3build1 [80.3 kB]\n",
      "Get:8 http://nova.clouds.archive.ubuntu.com/ubuntu focal/main amd64 socat amd64 1.7.3.3-2 [323 kB]\n",
      "Get:2 https://packages.cloud.google.com/apt kubernetes-xenial/main amd64 kubernetes-cni amd64 0.8.7-00 [25.0 MB]\n",
      "Get:3 https://packages.cloud.google.com/apt kubernetes-xenial/main amd64 kubelet amd64 1.23.5-00 [19.5 MB]\n",
      "Get:4 https://packages.cloud.google.com/apt kubernetes-xenial/main amd64 kubectl amd64 1.23.5-00 [8931 kB]\n",
      "Get:6 https://packages.cloud.google.com/apt kubernetes-xenial/main amd64 kubeadm amd64 1.23.5-00 [8582 kB]\n",
      "Fetched 77.7 MB in 3s (29.5 MB/s)\n",
      "Selecting previously unselected package conntrack.\n",
      "(Reading database ... 63935 files and directories currently installed.)\n",
      "Preparing to unpack .../0-conntrack_1%3a1.4.5-2_amd64.deb ...\n",
      "Unpacking conntrack (1:1.4.5-2) ...\n",
      "Selecting previously unselected package cri-tools.\n",
      "Preparing to unpack .../1-cri-tools_1.23.0-00_amd64.deb ...\n",
      "Unpacking cri-tools (1.23.0-00) ...\n",
      "Selecting previously unselected package ebtables.\n",
      "Preparing to unpack .../2-ebtables_2.0.11-3build1_amd64.deb ...\n",
      "Unpacking ebtables (2.0.11-3build1) ...\n",
      "Selecting previously unselected package kubernetes-cni.\n",
      "Preparing to unpack .../3-kubernetes-cni_0.8.7-00_amd64.deb ...\n",
      "Unpacking kubernetes-cni (0.8.7-00) ...\n",
      "Selecting previously unselected package socat.\n",
      "Preparing to unpack .../4-socat_1.7.3.3-2_amd64.deb ...\n",
      "Unpacking socat (1.7.3.3-2) ...\n",
      "Selecting previously unselected package kubelet.\n",
      "Preparing to unpack .../5-kubelet_1.23.5-00_amd64.deb ...\n",
      "Unpacking kubelet (1.23.5-00) ...\n",
      "Selecting previously unselected package kubectl.\n",
      "Preparing to unpack .../6-kubectl_1.23.5-00_amd64.deb ...\n",
      "Unpacking kubectl (1.23.5-00) ...\n",
      "Selecting previously unselected package kubeadm.\n",
      "Preparing to unpack .../7-kubeadm_1.23.5-00_amd64.deb ...\n",
      "Unpacking kubeadm (1.23.5-00) ...\n",
      "Setting up conntrack (1:1.4.5-2) ...\n",
      "Setting up kubectl (1.23.5-00) ...\n",
      "Setting up ebtables (2.0.11-3build1) ...\n",
      "Setting up socat (1.7.3.3-2) ...\n",
      "Setting up cri-tools (1.23.0-00) ...\n",
      "Setting up kubernetes-cni (0.8.7-00) ...\n",
      "Setting up kubelet (1.23.5-00) ...\n",
      "Created symlink /etc/systemd/system/multi-user.target.wants/kubelet.service → /lib/systemd/system/kubelet.service.\n",
      "Setting up kubeadm (1.23.5-00) ...\n",
      "Processing triggers for man-db (2.9.1-1) ...\n",
      "\n"
     ]
    }
   ],
   "source": [
    "print(n1.execute(\"sudo apt-get install -y kubelet kubeadm kubectl\")[0])"
   ]
  },
  {
   "cell_type": "code",
   "execution_count": 154,
   "metadata": {},
   "outputs": [
    {
     "name": "stdout",
     "output_type": "stream",
     "text": [
      "kubelet set on hold.\n",
      "kubeadm set on hold.\n",
      "kubectl set on hold.\n",
      "\n"
     ]
    }
   ],
   "source": [
    "print(n1.execute(\"sudo apt-mark hold kubelet kubeadm kubectl\")[0])"
   ]
  },
  {
   "cell_type": "code",
   "execution_count": 155,
   "metadata": {},
   "outputs": [
    {
     "name": "stdout",
     "output_type": "stream",
     "text": [
      "\n"
     ]
    }
   ],
   "source": [
    "print(n1.execute(\"sudo swapoff -a\")[0])"
   ]
  },
  {
   "cell_type": "code",
   "execution_count": 156,
   "metadata": {},
   "outputs": [
    {
     "name": "stdout",
     "output_type": "stream",
     "text": [
      "{\n",
      "\"exec-opts\": [\"native.cgroupdriver=systemd\"]\n",
      "}\n",
      "\n"
     ]
    }
   ],
   "source": [
    "print(n1.execute('cat <<EOF | sudo tee /etc/docker/daemon.json\\n{\\n\\\\\"exec-opts\\\\\": [\\\\\"native.cgroupdriver=systemd\\\\\"]\\n}\\nEOF\\n')[0])"
   ]
  },
  {
   "cell_type": "code",
   "execution_count": 157,
   "metadata": {},
   "outputs": [
    {
     "name": "stdout",
     "output_type": "stream",
     "text": [
      "('', '')\n"
     ]
    }
   ],
   "source": [
    "print(n1.execute(\"sudo systemctl enable docker\"))"
   ]
  },
  {
   "cell_type": "code",
   "execution_count": 158,
   "metadata": {},
   "outputs": [
    {
     "name": "stdout",
     "output_type": "stream",
     "text": [
      "('', '')\n"
     ]
    }
   ],
   "source": [
    "print(n1.execute(\"sudo systemctl daemon-reload\"))"
   ]
  },
  {
   "cell_type": "code",
   "execution_count": 159,
   "metadata": {},
   "outputs": [
    {
     "name": "stdout",
     "output_type": "stream",
     "text": [
      "('', '')\n"
     ]
    }
   ],
   "source": [
    "print(n1.execute(\"sudo systemctl restart docker\"))"
   ]
  },
  {
   "cell_type": "markdown",
   "metadata": {},
   "source": [
    "## The setup part is complete. Now we start running the kubernetes cluster."
   ]
  },
  {
   "cell_type": "code",
   "execution_count": 131,
   "metadata": {},
   "outputs": [
    {
     "data": {
      "text/plain": [
       "('[reset] Reading configuration from the cluster...\\n[reset] FYI: You can look at this config file with \\'kubectl -n kube-system get cm kubeadm-config -o yaml\\'\\n[reset] WARNING: Changes made to this host by \\'kubeadm init\\' or \\'kubeadm join\\' will be reverted.\\n[reset] Are you sure you want to proceed? [y/N]: [preflight] Running pre-flight checks\\n[reset] Stopping the kubelet service\\n[reset] Unmounting mounted directories in \"/var/lib/kubelet\"\\n[reset] Deleting contents of config directories: [/etc/kubernetes/manifests /etc/kubernetes/pki]\\n[reset] Deleting files: [/etc/kubernetes/admin.conf /etc/kubernetes/kubelet.conf /etc/kubernetes/bootstrap-kubelet.conf /etc/kubernetes/controller-manager.conf /etc/kubernetes/scheduler.conf]\\n[reset] Deleting contents of stateful directories: [/var/lib/etcd /var/lib/kubelet /var/lib/dockershim /var/run/kubernetes /var/lib/cni]\\n\\nThe reset process does not clean CNI configuration. To do so, you must remove /etc/cni/net.d\\n\\nThe reset process does not reset or clean up iptables rules or IPVS tables.\\nIf you wish to reset iptables, you must do so manually by using the \"iptables\" command.\\n\\nIf your cluster was setup to utilize IPVS, run ipvsadm --clear (or similar)\\nto reset your system\\'s IPVS tables.\\n\\nThe reset process does not clean your kubeconfig files and you must remove them manually.\\nPlease, check the contents of the $HOME/.kube/config file.\\n',\n",
       " 'W0324 14:03:33.540781  100977 reset.go:101] [reset] Unable to fetch the kubeadm-config ConfigMap from cluster: failed to get config map: Get \"https://63.239.135.68:6443/api/v1/namespaces/kube-system/configmaps/kubeadm-config?timeout=10s\": net/http: request canceled while waiting for connection (Client.Timeout exceeded while awaiting headers)\\nW0324 14:03:33.541127  100977 removeetcdmember.go:80] [reset] No kubeadm config, using etcd pod spec to get data directory\\n')"
      ]
     },
     "execution_count": 131,
     "metadata": {},
     "output_type": "execute_result"
    }
   ],
   "source": [
    "n1.execute(\"yes | sudo kubeadm reset\")"
   ]
  },
  {
   "cell_type": "code",
   "execution_count": 179,
   "metadata": {},
   "outputs": [
    {
     "name": "stdout",
     "output_type": "stream",
     "text": [
      "[init] Using Kubernetes version: v1.23.5\n",
      "[preflight] Running pre-flight checks\n",
      "[preflight] Pulling images required for setting up a Kubernetes cluster\n",
      "[preflight] This might take a minute or two, depending on the speed of your internet connection\n",
      "[preflight] You can also perform this action in beforehand using 'kubeadm config images pull'\n",
      "[certs] Using certificateDir folder \"/etc/kubernetes/pki\"\n",
      "[certs] Generating \"ca\" certificate and key\n",
      "[certs] Generating \"apiserver\" certificate and key\n",
      "[certs] apiserver serving cert is signed for DNS names [34bd975b-571c-4735-b15f-b820ad33e5e5-node1 kubernetes kubernetes.default kubernetes.default.svc kubernetes.default.svc.cluster.local] and IPs [10.96.0.1 192.168.1.10]\n",
      "[certs] Generating \"apiserver-kubelet-client\" certificate and key\n",
      "[certs] Generating \"front-proxy-ca\" certificate and key\n",
      "[certs] Generating \"front-proxy-client\" certificate and key\n",
      "[certs] Generating \"etcd/ca\" certificate and key\n",
      "[certs] Generating \"etcd/server\" certificate and key\n",
      "[certs] etcd/server serving cert is signed for DNS names [34bd975b-571c-4735-b15f-b820ad33e5e5-node1 localhost] and IPs [192.168.1.10 127.0.0.1 ::1]\n",
      "[certs] Generating \"etcd/peer\" certificate and key\n",
      "[certs] etcd/peer serving cert is signed for DNS names [34bd975b-571c-4735-b15f-b820ad33e5e5-node1 localhost] and IPs [192.168.1.10 127.0.0.1 ::1]\n",
      "[certs] Generating \"etcd/healthcheck-client\" certificate and key\n",
      "[certs] Generating \"apiserver-etcd-client\" certificate and key\n",
      "[certs] Generating \"sa\" key and public key\n",
      "[kubeconfig] Using kubeconfig folder \"/etc/kubernetes\"\n",
      "[kubeconfig] Writing \"admin.conf\" kubeconfig file\n",
      "[kubeconfig] Writing \"kubelet.conf\" kubeconfig file\n",
      "[kubeconfig] Writing \"controller-manager.conf\" kubeconfig file\n",
      "[kubeconfig] Writing \"scheduler.conf\" kubeconfig file\n",
      "[kubelet-start] Writing kubelet environment file with flags to file \"/var/lib/kubelet/kubeadm-flags.env\"\n",
      "[kubelet-start] Writing kubelet configuration to file \"/var/lib/kubelet/config.yaml\"\n",
      "[kubelet-start] Starting the kubelet\n",
      "[control-plane] Using manifest folder \"/etc/kubernetes/manifests\"\n",
      "[control-plane] Creating static Pod manifest for \"kube-apiserver\"\n",
      "[control-plane] Creating static Pod manifest for \"kube-controller-manager\"\n",
      "[control-plane] Creating static Pod manifest for \"kube-scheduler\"\n",
      "[etcd] Creating static Pod manifest for local etcd in \"/etc/kubernetes/manifests\"\n",
      "[wait-control-plane] Waiting for the kubelet to boot up the control plane as static Pods from directory \"/etc/kubernetes/manifests\". This can take up to 4m0s\n",
      "[apiclient] All control plane components are healthy after 8.502647 seconds\n",
      "[upload-config] Storing the configuration used in ConfigMap \"kubeadm-config\" in the \"kube-system\" Namespace\n",
      "[kubelet] Creating a ConfigMap \"kubelet-config-1.23\" in namespace kube-system with the configuration for the kubelets in the cluster\n",
      "NOTE: The \"kubelet-config-1.23\" naming of the kubelet ConfigMap is deprecated. Once the UnversionedKubeletConfigMap feature gate graduates to Beta the default name will become just \"kubelet-config\". Kubeadm upgrade will handle this transition transparently.\n",
      "[upload-certs] Skipping phase. Please see --upload-certs\n",
      "[mark-control-plane] Marking the node 34bd975b-571c-4735-b15f-b820ad33e5e5-node1 as control-plane by adding the labels: [node-role.kubernetes.io/master(deprecated) node-role.kubernetes.io/control-plane node.kubernetes.io/exclude-from-external-load-balancers]\n",
      "[mark-control-plane] Marking the node 34bd975b-571c-4735-b15f-b820ad33e5e5-node1 as control-plane by adding the taints [node-role.kubernetes.io/master:NoSchedule]\n",
      "[bootstrap-token] Using token: 6lnr2t.111a83z168va4w7a\n",
      "[bootstrap-token] Configuring bootstrap tokens, cluster-info ConfigMap, RBAC Roles\n",
      "[bootstrap-token] configured RBAC rules to allow Node Bootstrap tokens to get nodes\n",
      "[bootstrap-token] configured RBAC rules to allow Node Bootstrap tokens to post CSRs in order for nodes to get long term certificate credentials\n",
      "[bootstrap-token] configured RBAC rules to allow the csrapprover controller automatically approve CSRs from a Node Bootstrap Token\n",
      "[bootstrap-token] configured RBAC rules to allow certificate rotation for all node client certificates in the cluster\n",
      "[bootstrap-token] Creating the \"cluster-info\" ConfigMap in the \"kube-public\" namespace\n",
      "[kubelet-finalize] Updating \"/etc/kubernetes/kubelet.conf\" to point to a rotatable kubelet client certificate and key\n",
      "[addons] Applied essential addon: CoreDNS\n",
      "[addons] Applied essential addon: kube-proxy\n",
      "\n",
      "Your Kubernetes control-plane has initialized successfully!\n",
      "\n",
      "To start using your cluster, you need to run the following as a regular user:\n",
      "\n",
      "  mkdir -p $HOME/.kube\n",
      "  sudo cp -i /etc/kubernetes/admin.conf $HOME/.kube/config\n",
      "  sudo chown $(id -u):$(id -g) $HOME/.kube/config\n",
      "\n",
      "Alternatively, if you are the root user, you can run:\n",
      "\n",
      "  export KUBECONFIG=/etc/kubernetes/admin.conf\n",
      "\n",
      "You should now deploy a pod network to the cluster.\n",
      "Run \"kubectl apply -f [podnetwork].yaml\" with one of the options listed at:\n",
      "  https://kubernetes.io/docs/concepts/cluster-administration/addons/\n",
      "\n",
      "Then you can join any number of worker nodes by running the following on each as root:\n",
      "\n",
      "kubeadm join 192.168.1.10:6443 --token 6lnr2t.111a83z168va4w7a \\\n",
      "\t--discovery-token-ca-cert-hash sha256:a473c0a0ee8641d477f324a4bfe98dcba02ae4f36fff449532aa31f2d9a20167 \n",
      "\n"
     ]
    }
   ],
   "source": [
    "print(n1.execute(\"sudo kubeadm init --pod-network-cidr=192.168.0.0/16 --apiserver-advertise-address=\" + ip_n1)[0])"
   ]
  },
  {
   "cell_type": "markdown",
   "metadata": {},
   "source": [
    "## Initialization successful. We need to save the join command somewhere, because we will need to use it later at the client."
   ]
  },
  {
   "cell_type": "code",
   "execution_count": 180,
   "metadata": {},
   "outputs": [
    {
     "name": "stdout",
     "output_type": "stream",
     "text": [
      "\n"
     ]
    }
   ],
   "source": [
    "print(n1.execute(\"mkdir -p $HOME/.kube\")[0])"
   ]
  },
  {
   "cell_type": "code",
   "execution_count": 181,
   "metadata": {},
   "outputs": [
    {
     "name": "stdout",
     "output_type": "stream",
     "text": [
      "\n"
     ]
    }
   ],
   "source": [
    "print(n1.execute(\"sudo cp -i /etc/kubernetes/admin.conf $HOME/.kube/config\")[0])"
   ]
  },
  {
   "cell_type": "code",
   "execution_count": 182,
   "metadata": {},
   "outputs": [
    {
     "name": "stdout",
     "output_type": "stream",
     "text": [
      "\n"
     ]
    }
   ],
   "source": [
    "print(n1.execute(\"sudo chown $(id -u):$(id -g) $HOME/.kube/config\")[0])"
   ]
  },
  {
   "cell_type": "code",
   "execution_count": 183,
   "metadata": {},
   "outputs": [
    {
     "name": "stdout",
     "output_type": "stream",
     "text": [
      "configmap/calico-config created\n",
      "customresourcedefinition.apiextensions.k8s.io/bgpconfigurations.crd.projectcalico.org created\n",
      "customresourcedefinition.apiextensions.k8s.io/bgppeers.crd.projectcalico.org created\n",
      "customresourcedefinition.apiextensions.k8s.io/blockaffinities.crd.projectcalico.org created\n",
      "customresourcedefinition.apiextensions.k8s.io/caliconodestatuses.crd.projectcalico.org created\n",
      "customresourcedefinition.apiextensions.k8s.io/clusterinformations.crd.projectcalico.org created\n",
      "customresourcedefinition.apiextensions.k8s.io/felixconfigurations.crd.projectcalico.org created\n",
      "customresourcedefinition.apiextensions.k8s.io/globalnetworkpolicies.crd.projectcalico.org created\n",
      "customresourcedefinition.apiextensions.k8s.io/globalnetworksets.crd.projectcalico.org created\n",
      "customresourcedefinition.apiextensions.k8s.io/hostendpoints.crd.projectcalico.org created\n",
      "customresourcedefinition.apiextensions.k8s.io/ipamblocks.crd.projectcalico.org created\n",
      "customresourcedefinition.apiextensions.k8s.io/ipamconfigs.crd.projectcalico.org created\n",
      "customresourcedefinition.apiextensions.k8s.io/ipamhandles.crd.projectcalico.org created\n",
      "customresourcedefinition.apiextensions.k8s.io/ippools.crd.projectcalico.org created\n",
      "customresourcedefinition.apiextensions.k8s.io/ipreservations.crd.projectcalico.org created\n",
      "customresourcedefinition.apiextensions.k8s.io/kubecontrollersconfigurations.crd.projectcalico.org created\n",
      "customresourcedefinition.apiextensions.k8s.io/networkpolicies.crd.projectcalico.org created\n",
      "customresourcedefinition.apiextensions.k8s.io/networksets.crd.projectcalico.org created\n",
      "clusterrole.rbac.authorization.k8s.io/calico-kube-controllers created\n",
      "clusterrolebinding.rbac.authorization.k8s.io/calico-kube-controllers created\n",
      "clusterrole.rbac.authorization.k8s.io/calico-node created\n",
      "clusterrolebinding.rbac.authorization.k8s.io/calico-node created\n",
      "daemonset.apps/calico-node created\n",
      "serviceaccount/calico-node created\n",
      "deployment.apps/calico-kube-controllers created\n",
      "serviceaccount/calico-kube-controllers created\n",
      "poddisruptionbudget.policy/calico-kube-controllers created\n",
      "\n"
     ]
    }
   ],
   "source": [
    "print(n1.execute(\"kubectl apply -f https://docs.projectcalico.org/manifests/calico.yaml\")[0])"
   ]
  },
  {
   "cell_type": "code",
   "execution_count": 184,
   "metadata": {},
   "outputs": [
    {
     "name": "stdout",
     "output_type": "stream",
     "text": [
      "NAME                                         STATUS     ROLES                  AGE   VERSION\n",
      "34bd975b-571c-4735-b15f-b820ad33e5e5-node1   NotReady   control-plane,master   26s   v1.23.5\n",
      "\n"
     ]
    }
   ],
   "source": [
    "print(n1.execute(\"kubectl get nodes\")[0])"
   ]
  },
  {
   "cell_type": "markdown",
   "metadata": {},
   "source": [
    "## Node status is \"Ready\".\n",
    "\n",
    "# Client side setup."
   ]
  },
  {
   "cell_type": "code",
   "execution_count": 185,
   "metadata": {},
   "outputs": [
    {
     "name": "stdout",
     "output_type": "stream",
     "text": [
      "Hit:1 http://nova.clouds.archive.ubuntu.com/ubuntu focal InRelease\n",
      "Get:2 http://security.ubuntu.com/ubuntu focal-security InRelease [114 kB]\n",
      "Get:3 http://nova.clouds.archive.ubuntu.com/ubuntu focal-updates InRelease [114 kB]\n",
      "Get:4 http://nova.clouds.archive.ubuntu.com/ubuntu focal-backports InRelease [108 kB]\n",
      "Get:5 http://security.ubuntu.com/ubuntu focal-security/main amd64 Packages [1347 kB]\n",
      "Get:6 http://nova.clouds.archive.ubuntu.com/ubuntu focal/universe amd64 Packages [8628 kB]\n",
      "Get:7 http://security.ubuntu.com/ubuntu focal-security/main Translation-en [234 kB]\n",
      "Get:8 http://security.ubuntu.com/ubuntu focal-security/main amd64 c-n-f Metadata [9796 B]\n",
      "Get:9 http://security.ubuntu.com/ubuntu focal-security/restricted amd64 Packages [831 kB]\n",
      "Get:10 http://security.ubuntu.com/ubuntu focal-security/restricted Translation-en [118 kB]\n",
      "Get:11 http://security.ubuntu.com/ubuntu focal-security/restricted amd64 c-n-f Metadata [532 B]\n",
      "Get:12 http://security.ubuntu.com/ubuntu focal-security/universe amd64 Packages [695 kB]\n",
      "Get:13 http://security.ubuntu.com/ubuntu focal-security/universe Translation-en [122 kB]\n",
      "Get:14 http://security.ubuntu.com/ubuntu focal-security/universe amd64 c-n-f Metadata [14.1 kB]\n",
      "Get:15 http://security.ubuntu.com/ubuntu focal-security/multiverse amd64 Packages [20.7 kB]\n",
      "Get:16 http://security.ubuntu.com/ubuntu focal-security/multiverse Translation-en [5196 B]\n",
      "Get:17 http://security.ubuntu.com/ubuntu focal-security/multiverse amd64 c-n-f Metadata [500 B]\n",
      "Get:18 http://nova.clouds.archive.ubuntu.com/ubuntu focal/universe Translation-en [5124 kB]\n",
      "Get:19 http://nova.clouds.archive.ubuntu.com/ubuntu focal/universe amd64 c-n-f Metadata [265 kB]\n",
      "Get:20 http://nova.clouds.archive.ubuntu.com/ubuntu focal/multiverse amd64 Packages [144 kB]\n",
      "Get:21 http://nova.clouds.archive.ubuntu.com/ubuntu focal/multiverse Translation-en [104 kB]\n",
      "Get:22 http://nova.clouds.archive.ubuntu.com/ubuntu focal/multiverse amd64 c-n-f Metadata [9136 B]\n",
      "Get:23 http://nova.clouds.archive.ubuntu.com/ubuntu focal-updates/main amd64 Packages [1674 kB]\n",
      "Get:24 http://nova.clouds.archive.ubuntu.com/ubuntu focal-updates/main Translation-en [316 kB]\n",
      "Get:25 http://nova.clouds.archive.ubuntu.com/ubuntu focal-updates/main amd64 c-n-f Metadata [14.9 kB]\n",
      "Get:26 http://nova.clouds.archive.ubuntu.com/ubuntu focal-updates/restricted amd64 Packages [887 kB]\n",
      "Get:27 http://nova.clouds.archive.ubuntu.com/ubuntu focal-updates/restricted Translation-en [127 kB]\n",
      "Get:28 http://nova.clouds.archive.ubuntu.com/ubuntu focal-updates/restricted amd64 c-n-f Metadata [528 B]\n",
      "Get:29 http://nova.clouds.archive.ubuntu.com/ubuntu focal-updates/universe amd64 Packages [913 kB]\n",
      "Get:30 http://nova.clouds.archive.ubuntu.com/ubuntu focal-updates/universe Translation-en [203 kB]\n",
      "Get:31 http://nova.clouds.archive.ubuntu.com/ubuntu focal-updates/universe amd64 c-n-f Metadata [20.3 kB]\n",
      "Get:32 http://nova.clouds.archive.ubuntu.com/ubuntu focal-updates/multiverse amd64 Packages [24.4 kB]\n",
      "Get:33 http://nova.clouds.archive.ubuntu.com/ubuntu focal-updates/multiverse Translation-en [7336 B]\n",
      "Get:34 http://nova.clouds.archive.ubuntu.com/ubuntu focal-updates/multiverse amd64 c-n-f Metadata [592 B]\n",
      "Get:35 http://nova.clouds.archive.ubuntu.com/ubuntu focal-backports/main amd64 Packages [42.2 kB]\n",
      "Get:36 http://nova.clouds.archive.ubuntu.com/ubuntu focal-backports/main Translation-en [10.1 kB]\n",
      "Get:37 http://nova.clouds.archive.ubuntu.com/ubuntu focal-backports/main amd64 c-n-f Metadata [864 B]\n",
      "Get:38 http://nova.clouds.archive.ubuntu.com/ubuntu focal-backports/restricted amd64 c-n-f Metadata [116 B]\n",
      "Get:39 http://nova.clouds.archive.ubuntu.com/ubuntu focal-backports/universe amd64 Packages [22.7 kB]\n",
      "Get:40 http://nova.clouds.archive.ubuntu.com/ubuntu focal-backports/universe Translation-en [15.4 kB]\n",
      "Get:41 http://nova.clouds.archive.ubuntu.com/ubuntu focal-backports/universe amd64 c-n-f Metadata [804 B]\n",
      "Get:42 http://nova.clouds.archive.ubuntu.com/ubuntu focal-backports/multiverse amd64 c-n-f Metadata [116 B]\n",
      "Fetched 22.3 MB in 4s (5841 kB/s)\n",
      "Reading package lists...\n",
      "Building dependency tree...\n",
      "Reading state information...\n",
      "64 packages can be upgraded. Run 'apt list --upgradable' to see them.\n",
      "\n"
     ]
    }
   ],
   "source": [
    "print(n2.execute(\"sudo apt update\")[0])"
   ]
  },
  {
   "cell_type": "code",
   "execution_count": 186,
   "metadata": {},
   "outputs": [
    {
     "name": "stdout",
     "output_type": "stream",
     "text": [
      "Reading package lists...\n",
      "Building dependency tree...\n",
      "Reading state information...\n",
      "The following additional packages will be installed:\n",
      "  bridge-utils containerd dns-root-data dnsmasq-base libidn11 pigz runc\n",
      "  ubuntu-fan\n",
      "Suggested packages:\n",
      "  ifupdown aufs-tools cgroupfs-mount | cgroup-lite debootstrap docker-doc\n",
      "  rinse zfs-fuse | zfsutils\n",
      "The following NEW packages will be installed:\n",
      "  bridge-utils containerd dns-root-data dnsmasq-base docker.io libidn11 pigz\n",
      "  runc ubuntu-fan\n",
      "0 upgraded, 9 newly installed, 0 to remove and 64 not upgraded.\n",
      "Need to get 74.5 MB of archives.\n",
      "After this operation, 361 MB of additional disk space will be used.\n",
      "Get:1 http://nova.clouds.archive.ubuntu.com/ubuntu focal/universe amd64 pigz amd64 2.4-1 [57.4 kB]\n",
      "Get:2 http://nova.clouds.archive.ubuntu.com/ubuntu focal/main amd64 bridge-utils amd64 1.6-2ubuntu1 [30.5 kB]\n",
      "Get:3 http://nova.clouds.archive.ubuntu.com/ubuntu focal-updates/main amd64 runc amd64 1.0.1-0ubuntu2~20.04.1 [4155 kB]\n",
      "Get:4 http://nova.clouds.archive.ubuntu.com/ubuntu focal-updates/main amd64 containerd amd64 1.5.5-0ubuntu3~20.04.2 [33.0 MB]\n",
      "Get:5 http://nova.clouds.archive.ubuntu.com/ubuntu focal/main amd64 dns-root-data all 2019052802 [5300 B]\n",
      "Get:6 http://nova.clouds.archive.ubuntu.com/ubuntu focal/main amd64 libidn11 amd64 1.33-2.2ubuntu2 [46.2 kB]\n",
      "Get:7 http://nova.clouds.archive.ubuntu.com/ubuntu focal-updates/main amd64 dnsmasq-base amd64 2.80-1.1ubuntu1.4 [315 kB]\n",
      "Get:8 http://nova.clouds.archive.ubuntu.com/ubuntu focal-updates/universe amd64 docker.io amd64 20.10.7-0ubuntu5~20.04.2 [36.9 MB]\n",
      "Get:9 http://nova.clouds.archive.ubuntu.com/ubuntu focal/main amd64 ubuntu-fan all 0.12.13 [34.5 kB]\n",
      "Fetched 74.5 MB in 3s (26.0 MB/s)\n",
      "Selecting previously unselected package pigz.\n",
      "(Reading database ... 63577 files and directories currently installed.)\n",
      "Preparing to unpack .../0-pigz_2.4-1_amd64.deb ...\n",
      "Unpacking pigz (2.4-1) ...\n",
      "Selecting previously unselected package bridge-utils.\n",
      "Preparing to unpack .../1-bridge-utils_1.6-2ubuntu1_amd64.deb ...\n",
      "Unpacking bridge-utils (1.6-2ubuntu1) ...\n",
      "Selecting previously unselected package runc.\n",
      "Preparing to unpack .../2-runc_1.0.1-0ubuntu2~20.04.1_amd64.deb ...\n",
      "Unpacking runc (1.0.1-0ubuntu2~20.04.1) ...\n",
      "Selecting previously unselected package containerd.\n",
      "Preparing to unpack .../3-containerd_1.5.5-0ubuntu3~20.04.2_amd64.deb ...\n",
      "Unpacking containerd (1.5.5-0ubuntu3~20.04.2) ...\n",
      "Selecting previously unselected package dns-root-data.\n",
      "Preparing to unpack .../4-dns-root-data_2019052802_all.deb ...\n",
      "Unpacking dns-root-data (2019052802) ...\n",
      "Selecting previously unselected package libidn11:amd64.\n",
      "Preparing to unpack .../5-libidn11_1.33-2.2ubuntu2_amd64.deb ...\n",
      "Unpacking libidn11:amd64 (1.33-2.2ubuntu2) ...\n",
      "Selecting previously unselected package dnsmasq-base.\n",
      "Preparing to unpack .../6-dnsmasq-base_2.80-1.1ubuntu1.4_amd64.deb ...\n",
      "Unpacking dnsmasq-base (2.80-1.1ubuntu1.4) ...\n",
      "Selecting previously unselected package docker.io.\n",
      "Preparing to unpack .../7-docker.io_20.10.7-0ubuntu5~20.04.2_amd64.deb ...\n",
      "Unpacking docker.io (20.10.7-0ubuntu5~20.04.2) ...\n",
      "Selecting previously unselected package ubuntu-fan.\n",
      "Preparing to unpack .../8-ubuntu-fan_0.12.13_all.deb ...\n",
      "Unpacking ubuntu-fan (0.12.13) ...\n",
      "Setting up runc (1.0.1-0ubuntu2~20.04.1) ...\n",
      "Setting up dns-root-data (2019052802) ...\n",
      "Setting up libidn11:amd64 (1.33-2.2ubuntu2) ...\n",
      "Setting up bridge-utils (1.6-2ubuntu1) ...\n",
      "debconf: unable to initialize frontend: Dialog\n",
      "debconf: (Dialog frontend will not work on a dumb terminal, an emacs shell buffer, or without a controlling terminal.)\n",
      "debconf: falling back to frontend: Readline\n",
      "Setting up pigz (2.4-1) ...\n",
      "Setting up containerd (1.5.5-0ubuntu3~20.04.2) ...\n",
      "Created symlink /etc/systemd/system/multi-user.target.wants/containerd.service → /lib/systemd/system/containerd.service.\n",
      "Setting up docker.io (20.10.7-0ubuntu5~20.04.2) ...\n",
      "debconf: unable to initialize frontend: Dialog\n",
      "debconf: (Dialog frontend will not work on a dumb terminal, an emacs shell buffer, or without a controlling terminal.)\n",
      "debconf: falling back to frontend: Readline\n",
      "Adding group `docker' (GID 119) ...\n",
      "Done.\n",
      "Created symlink /etc/systemd/system/multi-user.target.wants/docker.service → /lib/systemd/system/docker.service.\n",
      "Created symlink /etc/systemd/system/sockets.target.wants/docker.socket → /lib/systemd/system/docker.socket.\n",
      "Setting up dnsmasq-base (2.80-1.1ubuntu1.4) ...\n",
      "Setting up ubuntu-fan (0.12.13) ...\n",
      "Created symlink /etc/systemd/system/multi-user.target.wants/ubuntu-fan.service → /lib/systemd/system/ubuntu-fan.service.\n",
      "Processing triggers for systemd (245.4-4ubuntu3.15) ...\n",
      "Processing triggers for man-db (2.9.1-1) ...\n",
      "Processing triggers for dbus (1.12.16-2ubuntu2.1) ...\n",
      "Processing triggers for libc-bin (2.31-0ubuntu9.2) ...\n",
      "\n"
     ]
    }
   ],
   "source": [
    "print(n2.execute(\"sudo apt install -y docker.io\")[0])"
   ]
  },
  {
   "cell_type": "code",
   "execution_count": 187,
   "metadata": {},
   "outputs": [
    {
     "name": "stdout",
     "output_type": "stream",
     "text": [
      "Reading package lists...\n",
      "Building dependency tree...\n",
      "Reading state information...\n",
      "curl is already the newest version (7.68.0-1ubuntu2.7).\n",
      "curl set to manually installed.\n",
      "The following NEW packages will be installed:\n",
      "  apt-transport-https\n",
      "0 upgraded, 1 newly installed, 0 to remove and 64 not upgraded.\n",
      "Need to get 4680 B of archives.\n",
      "After this operation, 162 kB of additional disk space will be used.\n",
      "Get:1 http://nova.clouds.archive.ubuntu.com/ubuntu focal-updates/universe amd64 apt-transport-https all 2.0.6 [4680 B]\n",
      "Fetched 4680 B in 0s (28.6 kB/s)\n",
      "Selecting previously unselected package apt-transport-https.\n",
      "(Reading database ... 63931 files and directories currently installed.)\n",
      "Preparing to unpack .../apt-transport-https_2.0.6_all.deb ...\n",
      "Unpacking apt-transport-https (2.0.6) ...\n",
      "Setting up apt-transport-https (2.0.6) ...\n",
      "\n"
     ]
    }
   ],
   "source": [
    "print(n2.execute(\"sudo apt install -y apt-transport-https curl\")[0])"
   ]
  },
  {
   "cell_type": "code",
   "execution_count": 188,
   "metadata": {},
   "outputs": [
    {
     "name": "stdout",
     "output_type": "stream",
     "text": [
      "OK\n",
      "\n"
     ]
    }
   ],
   "source": [
    "print(n2.execute(\"curl -s https://packages.cloud.google.com/apt/doc/apt-key.gpg | sudo apt-key add -\")[0])"
   ]
  },
  {
   "cell_type": "code",
   "execution_count": 189,
   "metadata": {},
   "outputs": [
    {
     "name": "stdout",
     "output_type": "stream",
     "text": [
      "deb https://apt.kubernetes.io/ kubernetes-xenial main\n",
      "\n"
     ]
    }
   ],
   "source": [
    "print(n2.execute(\"cat <<EOF | sudo tee /etc/apt/sources.list.d/kubernetes.list\\ndeb https://apt.kubernetes.io/ kubernetes-xenial main\\nEOF\\n\")[0])"
   ]
  },
  {
   "cell_type": "code",
   "execution_count": 190,
   "metadata": {},
   "outputs": [
    {
     "name": "stdout",
     "output_type": "stream",
     "text": [
      "deb https://apt.kubernetes.io/ kubernetes-xenial main\n",
      "\n"
     ]
    }
   ],
   "source": [
    "print(n2.execute(\"cat /etc/apt/sources.list.d/kubernetes.list\")[0])"
   ]
  },
  {
   "cell_type": "code",
   "execution_count": 191,
   "metadata": {},
   "outputs": [
    {
     "name": "stdout",
     "output_type": "stream",
     "text": [
      "Hit:1 http://nova.clouds.archive.ubuntu.com/ubuntu focal InRelease\n",
      "Hit:2 http://security.ubuntu.com/ubuntu focal-security InRelease\n",
      "Hit:4 http://nova.clouds.archive.ubuntu.com/ubuntu focal-updates InRelease\n",
      "Hit:5 http://nova.clouds.archive.ubuntu.com/ubuntu focal-backports InRelease\n",
      "Get:3 https://packages.cloud.google.com/apt kubernetes-xenial InRelease [9383 B]\n",
      "Get:6 https://packages.cloud.google.com/apt kubernetes-xenial/main amd64 Packages [54.7 kB]\n",
      "Fetched 64.1 kB in 1s (122 kB/s)\n",
      "Reading package lists...\n",
      "Building dependency tree...\n",
      "Reading state information...\n",
      "64 packages can be upgraded. Run 'apt list --upgradable' to see them.\n",
      "\n"
     ]
    }
   ],
   "source": [
    "print(n2.execute(\"sudo apt update\")[0])"
   ]
  },
  {
   "cell_type": "code",
   "execution_count": 192,
   "metadata": {},
   "outputs": [
    {
     "name": "stdout",
     "output_type": "stream",
     "text": [
      "Reading package lists...\n",
      "Building dependency tree...\n",
      "Reading state information...\n",
      "The following additional packages will be installed:\n",
      "  conntrack cri-tools ebtables kubernetes-cni socat\n",
      "Suggested packages:\n",
      "  nftables\n",
      "The following NEW packages will be installed:\n",
      "  conntrack cri-tools ebtables kubeadm kubectl kubelet kubernetes-cni socat\n",
      "0 upgraded, 8 newly installed, 0 to remove and 64 not upgraded.\n",
      "Need to get 77.7 MB of archives.\n",
      "After this operation, 335 MB of additional disk space will be used.\n",
      "Get:1 https://packages.cloud.google.com/apt kubernetes-xenial/main amd64 cri-tools amd64 1.23.0-00 [15.3 MB]\n",
      "Get:5 http://nova.clouds.archive.ubuntu.com/ubuntu focal/main amd64 conntrack amd64 1:1.4.5-2 [30.3 kB]\n",
      "Get:7 http://nova.clouds.archive.ubuntu.com/ubuntu focal/main amd64 ebtables amd64 2.0.11-3build1 [80.3 kB]\n",
      "Get:8 http://nova.clouds.archive.ubuntu.com/ubuntu focal/main amd64 socat amd64 1.7.3.3-2 [323 kB]\n",
      "Get:2 https://packages.cloud.google.com/apt kubernetes-xenial/main amd64 kubernetes-cni amd64 0.8.7-00 [25.0 MB]\n",
      "Get:3 https://packages.cloud.google.com/apt kubernetes-xenial/main amd64 kubelet amd64 1.23.5-00 [19.5 MB]\n",
      "Get:4 https://packages.cloud.google.com/apt kubernetes-xenial/main amd64 kubectl amd64 1.23.5-00 [8931 kB]\n",
      "Get:6 https://packages.cloud.google.com/apt kubernetes-xenial/main amd64 kubeadm amd64 1.23.5-00 [8582 kB]\n",
      "Fetched 77.7 MB in 2s (33.1 MB/s)\n",
      "Selecting previously unselected package conntrack.\n",
      "(Reading database ... 63935 files and directories currently installed.)\n",
      "Preparing to unpack .../0-conntrack_1%3a1.4.5-2_amd64.deb ...\n",
      "Unpacking conntrack (1:1.4.5-2) ...\n",
      "Selecting previously unselected package cri-tools.\n",
      "Preparing to unpack .../1-cri-tools_1.23.0-00_amd64.deb ...\n",
      "Unpacking cri-tools (1.23.0-00) ...\n",
      "Selecting previously unselected package ebtables.\n",
      "Preparing to unpack .../2-ebtables_2.0.11-3build1_amd64.deb ...\n",
      "Unpacking ebtables (2.0.11-3build1) ...\n",
      "Selecting previously unselected package kubernetes-cni.\n",
      "Preparing to unpack .../3-kubernetes-cni_0.8.7-00_amd64.deb ...\n",
      "Unpacking kubernetes-cni (0.8.7-00) ...\n",
      "Selecting previously unselected package socat.\n",
      "Preparing to unpack .../4-socat_1.7.3.3-2_amd64.deb ...\n",
      "Unpacking socat (1.7.3.3-2) ...\n",
      "Selecting previously unselected package kubelet.\n",
      "Preparing to unpack .../5-kubelet_1.23.5-00_amd64.deb ...\n",
      "Unpacking kubelet (1.23.5-00) ...\n",
      "Selecting previously unselected package kubectl.\n",
      "Preparing to unpack .../6-kubectl_1.23.5-00_amd64.deb ...\n",
      "Unpacking kubectl (1.23.5-00) ...\n",
      "Selecting previously unselected package kubeadm.\n",
      "Preparing to unpack .../7-kubeadm_1.23.5-00_amd64.deb ...\n",
      "Unpacking kubeadm (1.23.5-00) ...\n",
      "Setting up conntrack (1:1.4.5-2) ...\n",
      "Setting up kubectl (1.23.5-00) ...\n",
      "Setting up ebtables (2.0.11-3build1) ...\n",
      "Setting up socat (1.7.3.3-2) ...\n",
      "Setting up cri-tools (1.23.0-00) ...\n",
      "Setting up kubernetes-cni (0.8.7-00) ...\n",
      "Setting up kubelet (1.23.5-00) ...\n",
      "Created symlink /etc/systemd/system/multi-user.target.wants/kubelet.service → /lib/systemd/system/kubelet.service.\n",
      "Setting up kubeadm (1.23.5-00) ...\n",
      "Processing triggers for man-db (2.9.1-1) ...\n",
      "\n"
     ]
    }
   ],
   "source": [
    "print(n2.execute(\"sudo apt install -y kubelet kubeadm kubectl\")[0])"
   ]
  },
  {
   "cell_type": "code",
   "execution_count": 193,
   "metadata": {},
   "outputs": [
    {
     "name": "stdout",
     "output_type": "stream",
     "text": [
      "kubelet set on hold.\n",
      "kubeadm set on hold.\n",
      "kubectl set on hold.\n",
      "\n"
     ]
    }
   ],
   "source": [
    "print(n2.execute(\"sudo apt-mark hold kubelet kubeadm kubectl\")[0])"
   ]
  },
  {
   "cell_type": "code",
   "execution_count": 194,
   "metadata": {},
   "outputs": [
    {
     "name": "stdout",
     "output_type": "stream",
     "text": [
      "\n"
     ]
    }
   ],
   "source": [
    "print(n2.execute(\"sudo swapoff -a\")[0])"
   ]
  },
  {
   "cell_type": "code",
   "execution_count": 195,
   "metadata": {},
   "outputs": [
    {
     "name": "stdout",
     "output_type": "stream",
     "text": [
      "{\n",
      "\"exec-opts\": [\"native.cgroupdriver=systemd\"]\n",
      "}\n",
      "\n"
     ]
    }
   ],
   "source": [
    "print(n2.execute('cat <<EOF | sudo tee /etc/docker/daemon.json\\n{\\n\\\\\"exec-opts\\\\\": [\\\\\"native.cgroupdriver=systemd\\\\\"]\\n}\\nEOF\\n')[0])"
   ]
  },
  {
   "cell_type": "code",
   "execution_count": 196,
   "metadata": {},
   "outputs": [
    {
     "name": "stdout",
     "output_type": "stream",
     "text": [
      "('', '')\n"
     ]
    }
   ],
   "source": [
    "print(n2.execute(\"sudo systemctl enable docker\"))"
   ]
  },
  {
   "cell_type": "code",
   "execution_count": 197,
   "metadata": {},
   "outputs": [
    {
     "name": "stdout",
     "output_type": "stream",
     "text": [
      "('', '')\n"
     ]
    }
   ],
   "source": [
    "print(n2.execute(\"sudo systemctl daemon-reload\"))"
   ]
  },
  {
   "cell_type": "code",
   "execution_count": 198,
   "metadata": {},
   "outputs": [
    {
     "name": "stdout",
     "output_type": "stream",
     "text": [
      "('', '')\n"
     ]
    }
   ],
   "source": [
    "print(n2.execute(\"sudo systemctl restart docker\"))"
   ]
  },
  {
   "cell_type": "markdown",
   "metadata": {},
   "source": [
    "## The setup part is complete. Now we need to do the join command. We do it like this:\n",
    "\n",
    "As a note. When we do \"kubeadm init\" in the server, it prints the join command for us. What we do is that we copy it and paste it in the client. And don't forget to add sudo."
   ]
  },
  {
   "cell_type": "code",
   "execution_count": 206,
   "metadata": {},
   "outputs": [
    {
     "name": "stdout",
     "output_type": "stream",
     "text": [
      "[reset] WARNING: Changes made to this host by 'kubeadm init' or 'kubeadm join' will be reverted.\n",
      "[reset] Are you sure you want to proceed? [y/N]: [preflight] Running pre-flight checks\n",
      "[reset] No etcd config found. Assuming external etcd\n",
      "[reset] Please, manually reset etcd to prevent further issues\n",
      "[reset] Stopping the kubelet service\n",
      "[reset] Unmounting mounted directories in \"/var/lib/kubelet\"\n",
      "[reset] Deleting contents of config directories: [/etc/kubernetes/manifests /etc/kubernetes/pki]\n",
      "[reset] Deleting files: [/etc/kubernetes/admin.conf /etc/kubernetes/kubelet.conf /etc/kubernetes/bootstrap-kubelet.conf /etc/kubernetes/controller-manager.conf /etc/kubernetes/scheduler.conf]\n",
      "[reset] Deleting contents of stateful directories: [/var/lib/kubelet /var/lib/dockershim /var/run/kubernetes /var/lib/cni]\n",
      "\n",
      "The reset process does not clean CNI configuration. To do so, you must remove /etc/cni/net.d\n",
      "\n",
      "The reset process does not reset or clean up iptables rules or IPVS tables.\n",
      "If you wish to reset iptables, you must do so manually by using the \"iptables\" command.\n",
      "\n",
      "If your cluster was setup to utilize IPVS, run ipvsadm --clear (or similar)\n",
      "to reset your system's IPVS tables.\n",
      "\n",
      "The reset process does not clean your kubeconfig files and you must remove them manually.\n",
      "Please, check the contents of the $HOME/.kube/config file.\n",
      "\n"
     ]
    }
   ],
   "source": [
    "print(n2.execute(\"yes | sudo kubeadm reset\")[0])"
   ]
  },
  {
   "cell_type": "code",
   "execution_count": 207,
   "metadata": {},
   "outputs": [
    {
     "name": "stdout",
     "output_type": "stream",
     "text": [
      "[preflight] Running pre-flight checks\n",
      "[preflight] Reading configuration from the cluster...\n",
      "[preflight] FYI: You can look at this config file with 'kubectl -n kube-system get cm kubeadm-config -o yaml'\n",
      "[kubelet-start] Writing kubelet configuration to file \"/var/lib/kubelet/config.yaml\"\n",
      "[kubelet-start] Writing kubelet environment file with flags to file \"/var/lib/kubelet/kubeadm-flags.env\"\n",
      "[kubelet-start] Starting the kubelet\n",
      "[kubelet-start] Waiting for the kubelet to perform the TLS Bootstrap...\n",
      "\n",
      "This node has joined the cluster:\n",
      "* Certificate signing request was sent to apiserver and a response was received.\n",
      "* The Kubelet was informed of the new secure connection details.\n",
      "\n",
      "Run 'kubectl get nodes' on the control-plane to see this node join the cluster.\n",
      "\n",
      "\n",
      "W0324 15:02:11.072721   24673 utils.go:69] The recommended value for \"resolvConf\" in \"KubeletConfiguration\" is: /run/systemd/resolve/resolv.conf; the provided value is: /run/systemd/resolve/resolv.conf\n",
      "\n"
     ]
    }
   ],
   "source": [
    "output = n2.execute(\"sudo kubeadm join 192.168.1.10:6443 --token 6lnr2t.111a83z168va4w7a --discovery-token-ca-cert-hash sha256:a473c0a0ee8641d477f324a4bfe98dcba02ae4f36fff449532aa31f2d9a20167\")\n",
    "print(output[0])\n",
    "print(output[1])"
   ]
  },
  {
   "cell_type": "markdown",
   "metadata": {},
   "source": [
    "## Let's check back at the server."
   ]
  },
  {
   "cell_type": "code",
   "execution_count": 208,
   "metadata": {},
   "outputs": [
    {
     "name": "stdout",
     "output_type": "stream",
     "text": [
      "NAME                                         STATUS   ROLES                  AGE     VERSION\n",
      "34bd975b-571c-4735-b15f-b820ad33e5e5-node1   Ready    control-plane,master   6m25s   v1.23.5\n",
      "4439cb97-d6c3-497c-b864-206c5e356948-node2   Ready    <none>                 2m26s   v1.23.5\n",
      "\n"
     ]
    }
   ],
   "source": [
    "print(n1.execute(\"kubectl get nodes\")[0])"
   ]
  },
  {
   "cell_type": "markdown",
   "metadata": {},
   "source": [
    "## Node has successfully joined the cluster.\n",
    "\n",
    "# Deploying a hello world application."
   ]
  },
  {
   "cell_type": "markdown",
   "metadata": {},
   "source": [
    "## First, we pull a hello world image and create a \"deployment\"."
   ]
  },
  {
   "cell_type": "code",
   "execution_count": 209,
   "metadata": {},
   "outputs": [
    {
     "name": "stdout",
     "output_type": "stream",
     "text": [
      "deployment.apps/kubernetes-bootcamp created\n",
      "\n"
     ]
    }
   ],
   "source": [
    "print(n1.execute(\"kubectl create deployment kubernetes-bootcamp --image=gcr.io/google-samples/kubernetes-bootcamp:v1\")[0])"
   ]
  },
  {
   "cell_type": "markdown",
   "metadata": {},
   "source": [
    "## Now let's do some status commands."
   ]
  },
  {
   "cell_type": "code",
   "execution_count": 210,
   "metadata": {},
   "outputs": [
    {
     "name": "stdout",
     "output_type": "stream",
     "text": [
      "NAMESPACE     NAME                                                                 READY   STATUS    RESTARTS   AGE\n",
      "default       kubernetes-bootcamp-65d5b99f84-s2gcb                                 1/1     Running   0          110s\n",
      "kube-system   calico-kube-controllers-56fcbf9d6b-8l4vw                             1/1     Running   0          19m\n",
      "kube-system   calico-node-ppv8k                                                    1/1     Running   0          19m\n",
      "kube-system   calico-node-spxc2                                                    1/1     Running   1          15m\n",
      "kube-system   coredns-64897985d-gg4rp                                              1/1     Running   0          19m\n",
      "kube-system   coredns-64897985d-sf467                                              1/1     Running   0          19m\n",
      "kube-system   etcd-34bd975b-571c-4735-b15f-b820ad33e5e5-node1                      1/1     Running   0          19m\n",
      "kube-system   kube-apiserver-34bd975b-571c-4735-b15f-b820ad33e5e5-node1            1/1     Running   0          19m\n",
      "kube-system   kube-controller-manager-34bd975b-571c-4735-b15f-b820ad33e5e5-node1   1/1     Running   0          19m\n",
      "kube-system   kube-proxy-n2gh7                                                     1/1     Running   1          15m\n",
      "kube-system   kube-proxy-tcdck                                                     1/1     Running   0          19m\n",
      "kube-system   kube-scheduler-34bd975b-571c-4735-b15f-b820ad33e5e5-node1            1/1     Running   0          19m\n",
      "\n"
     ]
    }
   ],
   "source": [
    "print(n1.execute(\"kubectl get pods --all-namespaces\")[0])"
   ]
  },
  {
   "cell_type": "markdown",
   "metadata": {},
   "source": [
    "## Pick the correct pod name and run the command below."
   ]
  },
  {
   "cell_type": "code",
   "execution_count": 212,
   "metadata": {},
   "outputs": [
    {
     "name": "stdout",
     "output_type": "stream",
     "text": [
      "Name:         kubernetes-bootcamp-65d5b99f84-s2gcb\n",
      "Namespace:    default\n",
      "Priority:     0\n",
      "Node:         4439cb97-d6c3-497c-b864-206c5e356948-node2/10.20.4.132\n",
      "Start Time:   Thu, 24 Mar 2022 15:13:57 +0000\n",
      "Labels:       app=kubernetes-bootcamp\n",
      "              pod-template-hash=65d5b99f84\n",
      "Annotations:  cni.projectcalico.org/containerID: 7de5129549a327f3045b06c89ec9cb11b96652b19cb99ebdc205d89808c2c0f1\n",
      "              cni.projectcalico.org/podIP: 192.168.122.129/32\n",
      "              cni.projectcalico.org/podIPs: 192.168.122.129/32\n",
      "Status:       Running\n",
      "IP:           192.168.122.129\n",
      "IPs:\n",
      "  IP:           192.168.122.129\n",
      "Controlled By:  ReplicaSet/kubernetes-bootcamp-65d5b99f84\n",
      "Containers:\n",
      "  kubernetes-bootcamp:\n",
      "    Container ID:   docker://7c24b3f3cfdf9ead89758ba12ffd9afa33449af87381bb59adff7a40f07d0853\n",
      "    Image:          gcr.io/google-samples/kubernetes-bootcamp:v1\n",
      "    Image ID:       docker-pullable://gcr.io/google-samples/kubernetes-bootcamp@sha256:0d6b8ee63bb57c5f5b6156f446b3bc3b3c143d233037f3a2f00e279c8fcc64af\n",
      "    Port:           <none>\n",
      "    Host Port:      <none>\n",
      "    State:          Running\n",
      "      Started:      Thu, 24 Mar 2022 15:14:03 +0000\n",
      "    Ready:          True\n",
      "    Restart Count:  0\n",
      "    Environment:    <none>\n",
      "    Mounts:\n",
      "      /var/run/secrets/kubernetes.io/serviceaccount from kube-api-access-rpwfq (ro)\n",
      "Conditions:\n",
      "  Type              Status\n",
      "  Initialized       True \n",
      "  Ready             True \n",
      "  ContainersReady   True \n",
      "  PodScheduled      True \n",
      "Volumes:\n",
      "  kube-api-access-rpwfq:\n",
      "    Type:                    Projected (a volume that contains injected data from multiple sources)\n",
      "    TokenExpirationSeconds:  3607\n",
      "    ConfigMapName:           kube-root-ca.crt\n",
      "    ConfigMapOptional:       <nil>\n",
      "    DownwardAPI:             true\n",
      "QoS Class:                   BestEffort\n",
      "Node-Selectors:              <none>\n",
      "Tolerations:                 node.kubernetes.io/not-ready:NoExecute op=Exists for 300s\n",
      "                             node.kubernetes.io/unreachable:NoExecute op=Exists for 300s\n",
      "Events:\n",
      "  Type    Reason     Age   From               Message\n",
      "  ----    ------     ----  ----               -------\n",
      "  Normal  Scheduled  5m8s  default-scheduler  Successfully assigned default/kubernetes-bootcamp-65d5b99f84-s2gcb to 4439cb97-d6c3-497c-b864-206c5e356948-node2\n",
      "  Normal  Pulling    5m7s  kubelet            Pulling image \"gcr.io/google-samples/kubernetes-bootcamp:v1\"\n",
      "  Normal  Pulled     5m2s  kubelet            Successfully pulled image \"gcr.io/google-samples/kubernetes-bootcamp:v1\" in 5.189259552s\n",
      "  Normal  Created    5m2s  kubelet            Created container kubernetes-bootcamp\n",
      "  Normal  Started    5m2s  kubelet            Started container kubernetes-bootcamp\n",
      "\n"
     ]
    }
   ],
   "source": [
    "print(n1.execute(\"kubectl describe pod kubernetes-bootcamp-65d5b99f84-s2gcb\")[0])"
   ]
  },
  {
   "cell_type": "markdown",
   "metadata": {},
   "source": [
    "## The next thing we need to do is to create what is called a \"service\".\n",
    "\n",
    "We are going to use it to expose the deployment to the outside, through a port, which is 8080. Like this:\n",
    "\n",
    "Note that the service itself will still need to be exposed. There's another \"expose\" step that we need to make."
   ]
  },
  {
   "cell_type": "code",
   "execution_count": 214,
   "metadata": {},
   "outputs": [
    {
     "name": "stdout",
     "output_type": "stream",
     "text": [
      "service/kubernetes-bootcamp exposed\n",
      "\n"
     ]
    }
   ],
   "source": [
    "print(n1.execute('kubectl expose deployment/kubernetes-bootcamp --type=\"ClusterIP\" --port 8080')[0])"
   ]
  },
  {
   "cell_type": "markdown",
   "metadata": {},
   "source": [
    "## Let's check if the service was created."
   ]
  },
  {
   "cell_type": "code",
   "execution_count": 215,
   "metadata": {},
   "outputs": [
    {
     "name": "stdout",
     "output_type": "stream",
     "text": [
      "NAME                  TYPE        CLUSTER-IP    EXTERNAL-IP   PORT(S)    AGE\n",
      "kubernetes-bootcamp   ClusterIP   10.108.6.42   <none>        8080/TCP   57s\n",
      "\n"
     ]
    }
   ],
   "source": [
    "print(n1.execute(\"kubectl get service kubernetes-bootcamp\")[0])"
   ]
  },
  {
   "cell_type": "markdown",
   "metadata": {},
   "source": [
    "## Finally, we need to run a port forwarding command in order to expose the service to the outside.\n",
    "\n",
    "Modify the --address flag. Use the \"CLUSTER-IP\" that is output form the command above."
   ]
  },
  {
   "cell_type": "code",
   "execution_count": 225,
   "metadata": {},
   "outputs": [
    {
     "name": "stdout",
     "output_type": "stream",
     "text": [
      "('', '')\n"
     ]
    }
   ],
   "source": [
    "print(n1.execute(\"kubectl port-forward --address 10.108.6.42 service/kubernetes-bootcamp 8080:8080 > /dev/null 2>&1 &\"))"
   ]
  },
  {
   "cell_type": "markdown",
   "metadata": {},
   "source": [
    "## Now our application should finally be visible. Let's test the deployment on the master machine itself."
   ]
  },
  {
   "cell_type": "code",
   "execution_count": 227,
   "metadata": {},
   "outputs": [
    {
     "name": "stdout",
     "output_type": "stream",
     "text": [
      "Hello Kubernetes bootcamp! | Running on: kubernetes-bootcamp-65d5b99f84-s2gcb | v=1\n",
      "\n"
     ]
    }
   ],
   "source": [
    "print(n1.execute(\"curl 10.108.6.42:8080\")[0])"
   ]
  },
  {
   "cell_type": "markdown",
   "metadata": {
    "tags": []
   },
   "source": [
    "## Delete Slice\n",
    "\n",
    "Please delete your slicd when you are done with your experiment."
   ]
  },
  {
   "cell_type": "code",
   "execution_count": 135,
   "metadata": {},
   "outputs": [],
   "source": [
    "try:\n",
    "    slice = fablib.get_slice(slice_name)\n",
    "    slice.delete()\n",
    "except Exception as e:\n",
    "    print(f\"Fail: {e}\")"
   ]
  },
  {
   "cell_type": "code",
   "execution_count": null,
   "metadata": {},
   "outputs": [],
   "source": []
  },
  {
   "cell_type": "code",
   "execution_count": null,
   "metadata": {},
   "outputs": [],
   "source": []
  }
 ],
 "metadata": {
  "kernelspec": {
   "display_name": "Python 3 (ipykernel)",
   "language": "python",
   "name": "python3"
  },
  "language_info": {
   "codemirror_mode": {
    "name": "ipython",
    "version": 3
   },
   "file_extension": ".py",
   "mimetype": "text/x-python",
   "name": "python",
   "nbconvert_exporter": "python",
   "pygments_lexer": "ipython3",
   "version": "3.9.2"
  }
 },
 "nbformat": 4,
 "nbformat_minor": 4
}
