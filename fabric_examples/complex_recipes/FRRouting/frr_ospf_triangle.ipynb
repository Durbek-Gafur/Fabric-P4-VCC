{
 "cells": [
  {
   "cell_type": "markdown",
   "metadata": {},
   "source": [
    "# Routing Topology: OSPF using FRRouting\n",
    "\n",
    "This notebook is an example of how to create a FABRIC routing experiment topology comprising nodes at three different sites. Each site has a local layer 2 (Ethernet) network connecting a set of local nodes and one gateway router. The three gateway routers connect to each other and use the [FRRouting](https://frrouting.org/) protocol suite to deploy [OSPF](https://en.wikipedia.org/wiki/Open_Shortest_Path_First) dameons to propagate route updates across the topology.\n",
    "\n",
    "You might be familiar with the [Quagga](https://www.quagga.net/) router suite.  FRRouting is based on Quagga but has a more active upstream community including many large companies working on cloud networking.\n",
    "\n",
    "\n",
    "## Step 1:  Configure the Environment\n"
   ]
  },
  {
   "cell_type": "markdown",
   "metadata": {},
   "source": [
    "## Step 2: Import the FABLlib Library\n"
   ]
  },
  {
   "cell_type": "code",
   "execution_count": 24,
   "metadata": {},
   "outputs": [
    {
     "name": "stdout",
     "output_type": "stream",
     "text": [
      "-----------------------------------  --------------------------------------------------\n",
      "credmgr_host                         cm.fabric-testbed.net\n",
      "orchestrator_host                    orchestrator.fabric-testbed.net\n",
      "fabric_token                         /Users/pruth/work/fabric_config/fabric_token.json\n",
      "project_id                           990d8a8b-7e50-4d13-a3be-0f133ffa8653\n",
      "bastion_username                     pruth_0031379841\n",
      "bastion_key_filename                 /Users/pruth/work/fabric_config/fabric_bastion_key\n",
      "bastion_public_addr                  bastion-1.fabric-testbed.net\n",
      "bastion_passphrase                   None\n",
      "slice_public_key_file                /Users/pruth/work/fabric_config/slice-public-key\n",
      "slice_private_key_file               /Users/pruth/work/fabric_config/slice-private-key\n",
      "fabric_slice_private_key_passphrase  None\n",
      "fablib_log_file                      /tmp/fablib/fablib.log\n",
      "fablib_log_level                     INFO\n",
      "-----------------------------------  --------------------------------------------------\n"
     ]
    }
   ],
   "source": [
    "from fabrictestbed_extensions.fablib.fablib import FablibManager as fablib_manager\n",
    "\n",
    "fablib = fablib_manager()\n",
    "                     \n",
    "fablib.show_config()"
   ]
  },
  {
   "cell_type": "markdown",
   "metadata": {
    "tags": []
   },
   "source": [
    "## Step 3 (Optional): Query for Available Tesbed Resources and Settings\n",
    "\n",
    "This optional command queries the FABRIC services to find the available resources. It may be useful for finding a site with available capacity."
   ]
  },
  {
   "cell_type": "code",
   "execution_count": 25,
   "metadata": {},
   "outputs": [
    {
     "name": "stdout",
     "output_type": "stream",
     "text": [
      "Name      CPUs  Cores    RAM (G)    Disk (G)       Basic (100 Gbps NIC)    ConnectX-6 (100 Gbps x2 NIC)    ConnectX-5 (25 Gbps x2 NIC)    P4510 (NVMe 1TB)    Tesla T4 (GPU)    RTX6000 (GPU)\n",
      "------  ------  -------  ---------  -------------  ----------------------  ------------------------------  -----------------------------  ------------------  ----------------  ---------------\n",
      "MICH         6  192/192  1536/1536  60600/60600    381/381                 2/2                             2/2                            10/10               2/2               3/3\n",
      "UTAH        10  320/320  2560/2560  116400/116400  635/635                 2/2                             4/4                            16/16               4/4               5/5\n",
      "TACC        10  316/320  2520/2560  116370/116400  631/635                 2/2                             4/4                            16/16               4/4               6/6\n",
      "WASH         6  192/192  1536/1536  60600/60600    381/381                 2/2                             2/2                            10/10               2/2               3/3\n",
      "NCSA         6  192/192  1536/1536  60600/60600    381/381                 2/2                             2/2                            10/10               2/2               3/3\n",
      "DALL         6  192/192  1536/1536  60600/60600    381/381                 2/2                             2/2                            10/10               2/2               3/3\n",
      "MAX         10  308/320  2512/2560  116250/116400  629/635                 1/2                             2/4                            16/16               4/4               6/6\n",
      "MASS         4  128/128  1024/1024  55800/55800    254/254                 2/2                             0/0                            6/6                 0/0               3/3\n",
      "SALT         6  192/192  1536/1536  60600/60600    381/381                 2/2                             2/2                            10/10               2/2               3/3\n",
      "STAR        12  384/384  3072/3072  121200/121200  762/762                 2/2                             6/6                            20/20               6/6               6/6\n"
     ]
    }
   ],
   "source": [
    "try:\n",
    "    print(f\"{fablib.list_sites()}\")\n",
    "except Exception as e:\n",
    "    print(f\"Exception: {e}\")"
   ]
  },
  {
   "cell_type": "markdown",
   "metadata": {},
   "source": [
    "## Step 4: Create the Experiment Slice\n",
    "\n",
    "The following creates private layer 2 networks on three sites including a OSPF gateway routers that propogate routes acrross the topology. \n"
   ]
  },
  {
   "cell_type": "code",
   "execution_count": 26,
   "metadata": {},
   "outputs": [
    {
     "name": "stdout",
     "output_type": "stream",
     "text": [
      "Sites: TACC,SALT,STAR\n"
     ]
    }
   ],
   "source": [
    "slice_name = 'OSPF_Routing_Topology'\n",
    "\n",
    "[site1,site2,site3] = fablib.get_random_sites(count=3)\n",
    "#[site1,site2,site3]=['RENC','RENC','RENC']\n",
    "print(f\"Sites: {site1},{site2},{site3}\")\n",
    "\n",
    "router_base_name='router'\n",
    "router_link_base_name='router_link'\n",
    "\n",
    "node_base_name='node'\n",
    "local_network_base_name='net_local'\n",
    "\n",
    "site_node_count=2\n"
   ]
  },
  {
   "cell_type": "code",
   "execution_count": 27,
   "metadata": {
    "tags": []
   },
   "outputs": [
    {
     "name": "stdout",
     "output_type": "stream",
     "text": [
      "\n",
      "---------------  ------------------------------------\n",
      "Slice Name       OSPF_Routing_Topology\n",
      "Slice ID         63a1e150-1d70-4c83-a257-ce1a2c0eac80\n",
      "Slice State      StableOK\n",
      "Lease End (UTC)  2022-07-18 14:53:41 +0000\n",
      "---------------  ------------------------------------\n",
      "\n",
      "Retry: 20, Time: 241 sec\n",
      "\n",
      "ID                                    Name          Site    Host                          Cores    RAM    Disk  Image            Management IP                           State    Error\n",
      "------------------------------------  ------------  ------  --------------------------  -------  -----  ------  ---------------  --------------------------------------  -------  -------\n",
      "a723533c-b4ba-495c-9301-b976f24c8d72  router1       TACC    tacc-w2.fabric-testbed.net        2      8      10  default_rocky_8  129.114.110.96                          Active\n",
      "eb415dbf-fed4-4320-afaa-120fb6193c0b  router2       SALT    salt-w1.fabric-testbed.net        2      8      10  default_rocky_8  2001:400:a100:3010:f816:3eff:fee6:a37   Active\n",
      "3fb55f13-758a-41b8-9d7a-408dcf86056f  router3       STAR    star-w4.fabric-testbed.net        2      8      10  default_rocky_8  2001:400:a100:3030:f816:3eff:fe55:14d4  Active\n",
      "62667c14-2ae2-4c74-96c1-55eec67f9de1  node_site1_1  TACC    tacc-w2.fabric-testbed.net        2      8      10  default_rocky_8  129.114.110.97                          Active\n",
      "a6b39ad8-386a-46df-a588-067daee31eb2  node_site1_2  TACC    tacc-w2.fabric-testbed.net        2      8      10  default_rocky_8  129.114.110.84                          Active\n",
      "7ee090f0-50b8-4b02-b258-c3f3d5e11cef  node_site2_1  SALT    salt-w1.fabric-testbed.net        2      8      10  default_rocky_8  2001:400:a100:3010:f816:3eff:fe2d:c97a  Active\n",
      "f101cdba-f8f9-4602-8518-5cf85fcb69ea  node_site2_2  SALT    salt-w1.fabric-testbed.net        2      8      10  default_rocky_8  2001:400:a100:3010:f816:3eff:fe2e:d2fc  Active\n",
      "1d27f12a-8938-45ef-ac16-e582c5ba472a  node_site3_1  STAR    star-w4.fabric-testbed.net        2      8      10  default_rocky_8  2001:400:a100:3030:f816:3eff:fe30:37e2  Active\n",
      "ee472855-15f8-4612-a6b4-0aca375986be  node_site3_2  STAR    star-w4.fabric-testbed.net        2      8      10  default_rocky_8  2001:400:a100:3030:f816:3eff:fe67:145f  Active\n",
      "\n",
      "Time to stable 241 seconds\n",
      "Running post_boot_config ... Time to post boot config 301 seconds\n",
      "\n",
      "Name                  Node          Network         Bandwidth  VLAN    MAC                Physical OS Interface    OS Interface\n",
      "--------------------  ------------  ------------  -----------  ------  -----------------  -----------------------  --------------\n",
      "router1-nic2-p1       router1       router_link3            0          0A:03:0A:F5:B1:53  eth2                     eth2\n",
      "router1-nic_local-p1  router1       net_local1              0          06:A8:0F:D7:32:FB  eth1                     eth1\n",
      "router1-nic1-p1       router1       router_link1            0          0A:7C:D4:F9:5A:E4  eth3                     eth3\n",
      "router2-nic1-p1       router2       router_link2            0          02:43:FC:D8:5D:CF  eth3                     eth3\n",
      "router2-nic2-p1       router2       router_link1            0          02:09:16:54:61:EB  eth1                     eth1\n",
      "router2-nic_local-p1  router2       net_local2              0          02:25:EF:C4:AE:D0  eth2                     eth2\n",
      "router3-nic_local-p1  router3       net_local3              0          06:1A:F5:20:B9:CC  eth3                     eth3\n",
      "router3-nic1-p1       router3       router_link3            0          02:D2:B7:36:8C:AD  eth2                     eth2\n",
      "router3-nic2-p1       router3       router_link2            0          02:5F:99:98:3D:1D  eth1                     eth1\n",
      "node_site1_1-nic1-p1  node_site1_1  net_local1              0          0A:A6:17:C6:65:D0  eth1                     eth1\n",
      "node_site1_2-nic1-p1  node_site1_2  net_local1              0          0A:F5:FA:00:2F:ED  eth1                     eth1\n",
      "node_site2_1-nic1-p1  node_site2_1  net_local2              0          02:9E:91:AF:75:2D  eth1                     eth1\n",
      "node_site2_2-nic1-p1  node_site2_2  net_local2              0          02:E4:7F:7A:ED:D7  eth1                     eth1\n",
      "node_site3_1-nic1-p1  node_site3_1  net_local3              0          06:32:A6:54:3C:75  eth1                     eth1\n",
      "node_site3_2-nic1-p1  node_site3_2  net_local3              0          06:46:A8:C8:A5:82  eth1                     eth1\n",
      "\n",
      "Time to print interfaces 340 seconds\n"
     ]
    }
   ],
   "source": [
    "try:\n",
    "    #Create Slice\n",
    "    slice = fablib.new_slice(name=slice_name)\n",
    "    \n",
    "    #Create Router1\n",
    "    router1_name = f\"{router_base_name}1\"\n",
    "    router1 = slice.add_node(name=router1_name, site=site1)\n",
    "    router1_iface1 = router1.add_component(model='NIC_Basic', name='nic1').get_interfaces()[0]\n",
    "    router1_iface2 = router1.add_component(model='NIC_Basic', name='nic2').get_interfaces()[0]\n",
    "    router1_local_iface = router1.add_component(model='NIC_Basic', name='nic_local').get_interfaces()[0]\n",
    "\n",
    "\n",
    "    #Create Router2\n",
    "    router2_name = f\"{router_base_name}2\"\n",
    "    router2 = slice.add_node(name=router2_name, site=site2)\n",
    "    router2_iface1 = router2.add_component(model='NIC_Basic', name='nic1').get_interfaces()[0]\n",
    "    router2_iface2 = router2.add_component(model='NIC_Basic', name='nic2').get_interfaces()[0]\n",
    "    router2_local_iface = router2.add_component(model='NIC_Basic', name='nic_local').get_interfaces()[0]\n",
    "\n",
    "\n",
    "    #Create Router3\n",
    "    router3_name = f\"{router_base_name}3\"\n",
    "    router3 = slice.add_node(name=router3_name, site=site3)\n",
    "    router3_iface1 = router3.add_component(model='NIC_Basic', name='nic1').get_interfaces()[0]\n",
    "    router3_iface2 = router3.add_component(model='NIC_Basic', name='nic2').get_interfaces()[0]\n",
    "    router3_local_iface = router3.add_component(model='NIC_Basic', name='nic_local').get_interfaces()[0]\n",
    "\n",
    "\n",
    "    #Create Router Links\n",
    "    route_link1_name = f'{router_link_base_name}1'\n",
    "    router_link1 = slice.add_l2network(name=route_link1_name, interfaces=[router1_iface1, router2_iface2])\n",
    "    \n",
    "    route_link2_name = f'{router_link_base_name}2'\n",
    "    router_link2 = slice.add_l2network(name=route_link2_name, interfaces=[router2_iface1, router3_iface2])\n",
    "    \n",
    "    route_link3_name = f'{router_link_base_name}3'\n",
    "    router_link3 = slice.add_l2network(name=route_link3_name, interfaces=[router3_iface1, router1_iface2])\n",
    "\n",
    "    #Create Site1 Nodes\n",
    "    site1_local_ifaces = [ router1_local_iface ]\n",
    "    for i in range(site_node_count):\n",
    "        node = slice.add_node(name=f'{node_base_name}_site1_{i+1}', site=site1)\n",
    "        site1_local_ifaces.append(node.add_component(model='NIC_Basic', name='nic1').get_interfaces()[0])\n",
    "        \n",
    "    #Create Site2 Nodes\n",
    "    site2_local_ifaces = [ router2_local_iface ]\n",
    "    for i in range(site_node_count):\n",
    "        node = slice.add_node(name=f'{node_base_name}_site2_{i+1}', site=site2)\n",
    "        site2_local_ifaces.append(node.add_component(model='NIC_Basic', name='nic1').get_interfaces()[0])\n",
    "\n",
    "    #Create Site1 Nodes\n",
    "    site3_local_ifaces = [ router3_local_iface ]\n",
    "    for i in range(site_node_count):\n",
    "        node = slice.add_node(name=f'{node_base_name}_site3_{i+1}', site=site3)\n",
    "        site3_local_ifaces.append(node.add_component(model='NIC_Basic', name='nic1').get_interfaces()[0])\n",
    "        \n",
    "    #Create Site Local Networks\n",
    "    site1_local_net_name = f'{local_network_base_name}1'\n",
    "    site2_local_net_name = f'{local_network_base_name}2'\n",
    "    site3_local_net_name = f'{local_network_base_name}3'\n",
    "    \n",
    "    site1_local_net = slice.add_l2network(name=site1_local_net_name, interfaces=site1_local_ifaces)\n",
    "    site2_local_net = slice.add_l2network(name=site2_local_net_name, interfaces=site2_local_ifaces)\n",
    "    site2_local_net = slice.add_l2network(name=site3_local_net_name, interfaces=site3_local_ifaces)\n",
    "\n",
    "    #Submit Slice Request\n",
    "    slice_id = slice.submit()\n",
    "\n",
    "except Exception as e:\n",
    "    print(f\"Slice Fail: {e}\")"
   ]
  },
  {
   "cell_type": "markdown",
   "metadata": {
    "tags": []
   },
   "source": [
    "## Step 5: Observe the Slice's Attributes\n",
    "\n",
    "### Print the slice"
   ]
  },
  {
   "cell_type": "code",
   "execution_count": 28,
   "metadata": {},
   "outputs": [
    {
     "name": "stdout",
     "output_type": "stream",
     "text": [
      "---------------  ------------------------------------\n",
      "Slice Name       OSPF_Routing_Topology\n",
      "Slice ID         63a1e150-1d70-4c83-a257-ce1a2c0eac80\n",
      "Slice State      StableOK\n",
      "Lease End (UTC)  2022-07-18 14:53:41 +0000\n",
      "---------------  ------------------------------------\n"
     ]
    }
   ],
   "source": [
    "try:\n",
    "    slice = fablib.get_slice(name=slice_name)\n",
    "    print(f\"{slice}\")\n",
    "except Exception as e:\n",
    "    print(f\"Exception: {e}\")"
   ]
  },
  {
   "cell_type": "markdown",
   "metadata": {
    "tags": []
   },
   "source": [
    "### Print the Node List"
   ]
  },
  {
   "cell_type": "code",
   "execution_count": 29,
   "metadata": {},
   "outputs": [
    {
     "name": "stdout",
     "output_type": "stream",
     "text": [
      "ID                                    Name          Site    Host                          Cores    RAM    Disk  Image            Management IP                           State    Error\n",
      "------------------------------------  ------------  ------  --------------------------  -------  -----  ------  ---------------  --------------------------------------  -------  -------\n",
      "a723533c-b4ba-495c-9301-b976f24c8d72  router1       TACC    tacc-w2.fabric-testbed.net        2      8      10  default_rocky_8  129.114.110.96                          Active\n",
      "eb415dbf-fed4-4320-afaa-120fb6193c0b  router2       SALT    salt-w1.fabric-testbed.net        2      8      10  default_rocky_8  2001:400:a100:3010:f816:3eff:fee6:a37   Active\n",
      "3fb55f13-758a-41b8-9d7a-408dcf86056f  router3       STAR    star-w4.fabric-testbed.net        2      8      10  default_rocky_8  2001:400:a100:3030:f816:3eff:fe55:14d4  Active\n",
      "62667c14-2ae2-4c74-96c1-55eec67f9de1  node_site1_1  TACC    tacc-w2.fabric-testbed.net        2      8      10  default_rocky_8  129.114.110.97                          Active\n",
      "a6b39ad8-386a-46df-a588-067daee31eb2  node_site1_2  TACC    tacc-w2.fabric-testbed.net        2      8      10  default_rocky_8  129.114.110.84                          Active\n",
      "7ee090f0-50b8-4b02-b258-c3f3d5e11cef  node_site2_1  SALT    salt-w1.fabric-testbed.net        2      8      10  default_rocky_8  2001:400:a100:3010:f816:3eff:fe2d:c97a  Active\n",
      "f101cdba-f8f9-4602-8518-5cf85fcb69ea  node_site2_2  SALT    salt-w1.fabric-testbed.net        2      8      10  default_rocky_8  2001:400:a100:3010:f816:3eff:fe2e:d2fc  Active\n",
      "1d27f12a-8938-45ef-ac16-e582c5ba472a  node_site3_1  STAR    star-w4.fabric-testbed.net        2      8      10  default_rocky_8  2001:400:a100:3030:f816:3eff:fe30:37e2  Active\n",
      "ee472855-15f8-4612-a6b4-0aca375986be  node_site3_2  STAR    star-w4.fabric-testbed.net        2      8      10  default_rocky_8  2001:400:a100:3030:f816:3eff:fe67:145f  Active\n"
     ]
    }
   ],
   "source": [
    "try:\n",
    "    slice = fablib.get_slice(name=slice_name)\n",
    "\n",
    "    print(f\"{slice.list_nodes()}\")\n",
    "except Exception as e:\n",
    "    print(f\"Exception: {e}\")"
   ]
  },
  {
   "cell_type": "markdown",
   "metadata": {},
   "source": [
    "### Print the Node Details"
   ]
  },
  {
   "cell_type": "code",
   "execution_count": 30,
   "metadata": {},
   "outputs": [
    {
     "name": "stdout",
     "output_type": "stream",
     "text": [
      "-----------------  ------------------------------------------------------------------------------------------------------------------------------\n",
      "ID                 a723533c-b4ba-495c-9301-b976f24c8d72\n",
      "Name               router1\n",
      "Cores              2\n",
      "RAM                8\n",
      "Disk               10\n",
      "Image              default_rocky_8\n",
      "Image Type         qcow2\n",
      "Host               tacc-w2.fabric-testbed.net\n",
      "Site               TACC\n",
      "Management IP      129.114.110.96\n",
      "Reservation State  Active\n",
      "Error Message\n",
      "SSH Command        ssh -i /Users/pruth/work/fabric_config/slice-private-key -J pruth_0031379841@bastion-1.fabric-testbed.net rocky@129.114.110.96\n",
      "-----------------  ------------------------------------------------------------------------------------------------------------------------------\n",
      "-----------------  -----------------------------------------------------------------------------------------------------------------------------------------------------\n",
      "ID                 eb415dbf-fed4-4320-afaa-120fb6193c0b\n",
      "Name               router2\n",
      "Cores              2\n",
      "RAM                8\n",
      "Disk               10\n",
      "Image              default_rocky_8\n",
      "Image Type         qcow2\n",
      "Host               salt-w1.fabric-testbed.net\n",
      "Site               SALT\n",
      "Management IP      2001:400:a100:3010:f816:3eff:fee6:a37\n",
      "Reservation State  Active\n",
      "Error Message\n",
      "SSH Command        ssh -i /Users/pruth/work/fabric_config/slice-private-key -J pruth_0031379841@bastion-1.fabric-testbed.net rocky@2001:400:a100:3010:f816:3eff:fee6:a37\n",
      "-----------------  -----------------------------------------------------------------------------------------------------------------------------------------------------\n",
      "-----------------  ------------------------------------------------------------------------------------------------------------------------------------------------------\n",
      "ID                 3fb55f13-758a-41b8-9d7a-408dcf86056f\n",
      "Name               router3\n",
      "Cores              2\n",
      "RAM                8\n",
      "Disk               10\n",
      "Image              default_rocky_8\n",
      "Image Type         qcow2\n",
      "Host               star-w4.fabric-testbed.net\n",
      "Site               STAR\n",
      "Management IP      2001:400:a100:3030:f816:3eff:fe55:14d4\n",
      "Reservation State  Active\n",
      "Error Message\n",
      "SSH Command        ssh -i /Users/pruth/work/fabric_config/slice-private-key -J pruth_0031379841@bastion-1.fabric-testbed.net rocky@2001:400:a100:3030:f816:3eff:fe55:14d4\n",
      "-----------------  ------------------------------------------------------------------------------------------------------------------------------------------------------\n",
      "-----------------  ------------------------------------------------------------------------------------------------------------------------------\n",
      "ID                 62667c14-2ae2-4c74-96c1-55eec67f9de1\n",
      "Name               node_site1_1\n",
      "Cores              2\n",
      "RAM                8\n",
      "Disk               10\n",
      "Image              default_rocky_8\n",
      "Image Type         qcow2\n",
      "Host               tacc-w2.fabric-testbed.net\n",
      "Site               TACC\n",
      "Management IP      129.114.110.97\n",
      "Reservation State  Active\n",
      "Error Message\n",
      "SSH Command        ssh -i /Users/pruth/work/fabric_config/slice-private-key -J pruth_0031379841@bastion-1.fabric-testbed.net rocky@129.114.110.97\n",
      "-----------------  ------------------------------------------------------------------------------------------------------------------------------\n",
      "-----------------  ------------------------------------------------------------------------------------------------------------------------------\n",
      "ID                 a6b39ad8-386a-46df-a588-067daee31eb2\n",
      "Name               node_site1_2\n",
      "Cores              2\n",
      "RAM                8\n",
      "Disk               10\n",
      "Image              default_rocky_8\n",
      "Image Type         qcow2\n",
      "Host               tacc-w2.fabric-testbed.net\n",
      "Site               TACC\n",
      "Management IP      129.114.110.84\n",
      "Reservation State  Active\n",
      "Error Message\n",
      "SSH Command        ssh -i /Users/pruth/work/fabric_config/slice-private-key -J pruth_0031379841@bastion-1.fabric-testbed.net rocky@129.114.110.84\n",
      "-----------------  ------------------------------------------------------------------------------------------------------------------------------\n",
      "-----------------  ------------------------------------------------------------------------------------------------------------------------------------------------------\n",
      "ID                 7ee090f0-50b8-4b02-b258-c3f3d5e11cef\n",
      "Name               node_site2_1\n",
      "Cores              2\n",
      "RAM                8\n",
      "Disk               10\n",
      "Image              default_rocky_8\n",
      "Image Type         qcow2\n",
      "Host               salt-w1.fabric-testbed.net\n",
      "Site               SALT\n",
      "Management IP      2001:400:a100:3010:f816:3eff:fe2d:c97a\n",
      "Reservation State  Active\n",
      "Error Message\n",
      "SSH Command        ssh -i /Users/pruth/work/fabric_config/slice-private-key -J pruth_0031379841@bastion-1.fabric-testbed.net rocky@2001:400:a100:3010:f816:3eff:fe2d:c97a\n",
      "-----------------  ------------------------------------------------------------------------------------------------------------------------------------------------------\n",
      "-----------------  ------------------------------------------------------------------------------------------------------------------------------------------------------\n",
      "ID                 f101cdba-f8f9-4602-8518-5cf85fcb69ea\n",
      "Name               node_site2_2\n",
      "Cores              2\n",
      "RAM                8\n",
      "Disk               10\n",
      "Image              default_rocky_8\n",
      "Image Type         qcow2\n",
      "Host               salt-w1.fabric-testbed.net\n",
      "Site               SALT\n",
      "Management IP      2001:400:a100:3010:f816:3eff:fe2e:d2fc\n",
      "Reservation State  Active\n",
      "Error Message\n",
      "SSH Command        ssh -i /Users/pruth/work/fabric_config/slice-private-key -J pruth_0031379841@bastion-1.fabric-testbed.net rocky@2001:400:a100:3010:f816:3eff:fe2e:d2fc\n",
      "-----------------  ------------------------------------------------------------------------------------------------------------------------------------------------------\n",
      "-----------------  ------------------------------------------------------------------------------------------------------------------------------------------------------\n",
      "ID                 1d27f12a-8938-45ef-ac16-e582c5ba472a\n",
      "Name               node_site3_1\n",
      "Cores              2\n",
      "RAM                8\n",
      "Disk               10\n",
      "Image              default_rocky_8\n",
      "Image Type         qcow2\n",
      "Host               star-w4.fabric-testbed.net\n",
      "Site               STAR\n",
      "Management IP      2001:400:a100:3030:f816:3eff:fe30:37e2\n",
      "Reservation State  Active\n",
      "Error Message\n",
      "SSH Command        ssh -i /Users/pruth/work/fabric_config/slice-private-key -J pruth_0031379841@bastion-1.fabric-testbed.net rocky@2001:400:a100:3030:f816:3eff:fe30:37e2\n",
      "-----------------  ------------------------------------------------------------------------------------------------------------------------------------------------------\n",
      "-----------------  ------------------------------------------------------------------------------------------------------------------------------------------------------\n",
      "ID                 ee472855-15f8-4612-a6b4-0aca375986be\n",
      "Name               node_site3_2\n",
      "Cores              2\n",
      "RAM                8\n",
      "Disk               10\n",
      "Image              default_rocky_8\n",
      "Image Type         qcow2\n",
      "Host               star-w4.fabric-testbed.net\n",
      "Site               STAR\n",
      "Management IP      2001:400:a100:3030:f816:3eff:fe67:145f\n",
      "Reservation State  Active\n",
      "Error Message\n",
      "SSH Command        ssh -i /Users/pruth/work/fabric_config/slice-private-key -J pruth_0031379841@bastion-1.fabric-testbed.net rocky@2001:400:a100:3030:f816:3eff:fe67:145f\n",
      "-----------------  ------------------------------------------------------------------------------------------------------------------------------------------------------\n"
     ]
    }
   ],
   "source": [
    "try:\n",
    "    slice = fablib.get_slice(name=slice_name)\n",
    "    for node in slice.get_nodes():\n",
    "        print(f\"{node}\")\n",
    "except Exception as e:\n",
    "    print(f\"Exception: {e}\")"
   ]
  },
  {
   "cell_type": "markdown",
   "metadata": {},
   "source": [
    "### Print the Node SSH Commands"
   ]
  },
  {
   "cell_type": "code",
   "execution_count": 31,
   "metadata": {},
   "outputs": [
    {
     "name": "stdout",
     "output_type": "stream",
     "text": [
      "router1: ssh -i /Users/pruth/work/fabric_config/slice-private-key -J pruth_0031379841@bastion-1.fabric-testbed.net rocky@129.114.110.96\n",
      "router2: ssh -i /Users/pruth/work/fabric_config/slice-private-key -J pruth_0031379841@bastion-1.fabric-testbed.net rocky@2001:400:a100:3010:f816:3eff:fee6:a37\n",
      "router3: ssh -i /Users/pruth/work/fabric_config/slice-private-key -J pruth_0031379841@bastion-1.fabric-testbed.net rocky@2001:400:a100:3030:f816:3eff:fe55:14d4\n",
      "node_site1_1: ssh -i /Users/pruth/work/fabric_config/slice-private-key -J pruth_0031379841@bastion-1.fabric-testbed.net rocky@129.114.110.97\n",
      "node_site1_2: ssh -i /Users/pruth/work/fabric_config/slice-private-key -J pruth_0031379841@bastion-1.fabric-testbed.net rocky@129.114.110.84\n",
      "node_site2_1: ssh -i /Users/pruth/work/fabric_config/slice-private-key -J pruth_0031379841@bastion-1.fabric-testbed.net rocky@2001:400:a100:3010:f816:3eff:fe2d:c97a\n",
      "node_site2_2: ssh -i /Users/pruth/work/fabric_config/slice-private-key -J pruth_0031379841@bastion-1.fabric-testbed.net rocky@2001:400:a100:3010:f816:3eff:fe2e:d2fc\n",
      "node_site3_1: ssh -i /Users/pruth/work/fabric_config/slice-private-key -J pruth_0031379841@bastion-1.fabric-testbed.net rocky@2001:400:a100:3030:f816:3eff:fe30:37e2\n",
      "node_site3_2: ssh -i /Users/pruth/work/fabric_config/slice-private-key -J pruth_0031379841@bastion-1.fabric-testbed.net rocky@2001:400:a100:3030:f816:3eff:fe67:145f\n"
     ]
    }
   ],
   "source": [
    "try:\n",
    "    slice = fablib.get_slice(name=slice_name)\n",
    "    for node in slice.get_nodes():\n",
    "        print(f\"{node.get_name()}: {node.get_ssh_command()}\")\n",
    "except Exception as e:\n",
    "    print(f\"Exception: {e}\")"
   ]
  },
  {
   "cell_type": "markdown",
   "metadata": {},
   "source": [
    "### Print the Interfaces"
   ]
  },
  {
   "cell_type": "code",
   "execution_count": 32,
   "metadata": {},
   "outputs": [
    {
     "name": "stdout",
     "output_type": "stream",
     "text": [
      "Name                  Node          Network         Bandwidth  VLAN    MAC                Physical OS Interface    OS Interface\n",
      "--------------------  ------------  ------------  -----------  ------  -----------------  -----------------------  --------------\n",
      "router1-nic_local-p1  router1       net_local1              0          06:A8:0F:D7:32:FB  eth1                     eth1\n",
      "router1-nic1-p1       router1       router_link1            0          0A:7C:D4:F9:5A:E4  eth3                     eth3\n",
      "router1-nic2-p1       router1       router_link3            0          0A:03:0A:F5:B1:53  eth2                     eth2\n",
      "router2-nic_local-p1  router2       net_local2              0          02:25:EF:C4:AE:D0  eth2                     eth2\n",
      "router2-nic1-p1       router2       router_link2            0          02:43:FC:D8:5D:CF  eth3                     eth3\n",
      "router2-nic2-p1       router2       router_link1            0          02:09:16:54:61:EB  eth1                     eth1\n",
      "router3-nic2-p1       router3       router_link2            0          02:5F:99:98:3D:1D  eth1                     eth1\n",
      "router3-nic_local-p1  router3       net_local3              0          06:1A:F5:20:B9:CC  eth3                     eth3\n",
      "router3-nic1-p1       router3       router_link3            0          02:D2:B7:36:8C:AD  eth2                     eth2\n",
      "node_site1_1-nic1-p1  node_site1_1  net_local1              0          0A:A6:17:C6:65:D0  eth1                     eth1\n",
      "node_site1_2-nic1-p1  node_site1_2  net_local1              0          0A:F5:FA:00:2F:ED  eth1                     eth1\n",
      "node_site2_1-nic1-p1  node_site2_1  net_local2              0          02:9E:91:AF:75:2D  eth1                     eth1\n",
      "node_site2_2-nic1-p1  node_site2_2  net_local2              0          02:E4:7F:7A:ED:D7  eth1                     eth1\n",
      "node_site3_1-nic1-p1  node_site3_1  net_local3              0          06:32:A6:54:3C:75  eth1                     eth1\n",
      "node_site3_2-nic1-p1  node_site3_2  net_local3              0          06:46:A8:C8:A5:82  eth1                     eth1\n"
     ]
    }
   ],
   "source": [
    "try:\n",
    "    slice = fablib.get_slice(name=slice_name)\n",
    "    \n",
    "    print(f\"{slice.list_interfaces()}\")\n",
    "except Exception as e:\n",
    "    print(f\"Exception: {e}\")"
   ]
  },
  {
   "cell_type": "markdown",
   "metadata": {},
   "source": [
    "## Step 6: Configure IP Addresses\n",
    "\n",
    "This experiment includes six different networks, each of which need to have a distinct subnet. The following cells show how to pick IPv4 subnets for each network and assign addresses from those subnets to the appropriate interfaces on the nodes and routers.\n",
    "\n",
    "\n",
    "### Pick Subnets\n",
    "\n",
    "Pick the subnet for the routing links. Each routing link connects a pair of routers. Although these links always have exactly two interfaces, we choose a /24 subnet for easy readability. For each link we create a subnet and a list of available IPs for that subnet. These will be used later to configure the router interfaces connected to these links. "
   ]
  },
  {
   "cell_type": "code",
   "execution_count": 33,
   "metadata": {},
   "outputs": [
    {
     "name": "stdout",
     "output_type": "stream",
     "text": [
      "Router Link 1: subnet: 192.168.101.0/24, addr1: 192.168.101.1, addr2: 192.168.101.2\n",
      "Router Link 2: subnet: 192.168.102.0/24, addr1: 192.168.102.1, addr2: 192.168.102.2\n",
      "Router Link 3: subnet: 192.168.103.0/24, addr1: 192.168.103.1, addr2: 192.168.103.2\n"
     ]
    }
   ],
   "source": [
    "from ipaddress import ip_address, IPv4Address, IPv6Address, IPv4Network, IPv6Network\n",
    "\n",
    "try:\n",
    "    # Route Link Subnets\n",
    "    route_link1_subnet = IPv4Network(\"192.168.101.0/24\")\n",
    "    route_link1_available_ips = list(route_link1_subnet)[1:]\n",
    "    route_link1_addr1 = route_link1_available_ips.pop(0)\n",
    "    route_link1_addr2 = route_link1_available_ips.pop(0)\n",
    "    \n",
    "    route_link2_subnet = IPv4Network(\"192.168.102.0/24\")\n",
    "    route_link2_available_ips = list(route_link2_subnet)[1:]\n",
    "    route_link2_addr1 = route_link2_available_ips.pop(0)\n",
    "    route_link2_addr2 = route_link2_available_ips.pop(0)\n",
    "    \n",
    "    route_link3_subnet = IPv4Network(\"192.168.103.0/24\")\n",
    "    route_link3_available_ips = list(route_link3_subnet)[1:]\n",
    "    route_link3_addr1 = route_link3_available_ips.pop(0)\n",
    "    route_link3_addr2 = route_link3_available_ips.pop(0)\n",
    "    \n",
    "    print(f\"Router Link 1: subnet: {route_link1_subnet}, addr1: {route_link1_addr1}, addr2: {route_link1_addr2}\")\n",
    "    print(f\"Router Link 2: subnet: {route_link2_subnet}, addr1: {route_link2_addr1}, addr2: {route_link2_addr2}\")\n",
    "    print(f\"Router Link 3: subnet: {route_link3_subnet}, addr1: {route_link3_addr1}, addr2: {route_link3_addr2}\")\n",
    "\n",
    "except Exception as e:\n",
    "    print(f\"Exception: {e}\")\n",
    "   "
   ]
  },
  {
   "cell_type": "markdown",
   "metadata": {},
   "source": [
    "Pick the subnet for the local networks.  The /24 subnets can support up to 254 locally connected nodes plus the gateway. \n"
   ]
  },
  {
   "cell_type": "code",
   "execution_count": 34,
   "metadata": {},
   "outputs": [
    {
     "name": "stdout",
     "output_type": "stream",
     "text": [
      "Site1: subnet: 192.168.1.0/24, gateway: 192.168.1.1\n",
      "Site2: subnet: 192.168.2.0/24, gateway: 192.168.2.1\n",
      "Site3: subnet: 192.168.3.0/24, gateway: 192.168.3.1\n"
     ]
    }
   ],
   "source": [
    "try:\n",
    "    # Local Subnets\n",
    "    net_local1_subnet = IPv4Network(\"192.168.1.0/24\")\n",
    "    net_local1_available_ips = list(net_local1_subnet)[1:]\n",
    "    net_local1_gateway = net_local1_available_ips.pop(0)\n",
    "        \n",
    "    net_local2_subnet = IPv4Network(\"192.168.2.0/24\")\n",
    "    net_local2_available_ips = list(net_local2_subnet)[1:]\n",
    "    net_local2_gateway = net_local2_available_ips.pop(0)\n",
    "\n",
    "\n",
    "    net_local3_subnet = IPv4Network(\"192.168.3.0/24\")\n",
    "    net_local3_available_ips = list(net_local3_subnet)[1:]\n",
    "    net_local3_gateway = net_local3_available_ips.pop(0)\n",
    "\n",
    "    print(f\"Site1: subnet: {net_local1_subnet}, gateway: {net_local1_gateway}\")\n",
    "    print(f\"Site2: subnet: {net_local2_subnet}, gateway: {net_local2_gateway}\")\n",
    "    print(f\"Site3: subnet: {net_local3_subnet}, gateway: {net_local3_gateway}\")\n",
    "\n",
    "except Exception as e:\n",
    "    print(f\"Exception: {e}\")"
   ]
  },
  {
   "cell_type": "markdown",
   "metadata": {
    "tags": []
   },
   "source": [
    "### Configure Router IPs\n",
    "\n",
    "Add the IPs to the corrisponing interfaces."
   ]
  },
  {
   "cell_type": "code",
   "execution_count": 35,
   "metadata": {},
   "outputs": [],
   "source": [
    "try:\n",
    "    # Config Router1 IPs\n",
    "    router1 = slice.get_node(name=router1_name)  \n",
    "    router1_iface1 = router1.get_interface(network_name=route_link1_name)  \n",
    "    router1_iface2 = router1.get_interface(network_name=route_link3_name)  \n",
    "    router1_local_iface = router1.get_interface(network_name=site1_local_net_name)     \n",
    "    router1_iface1.ip_addr_add(addr=route_link1_addr1, subnet=route_link1_subnet)\n",
    "    router1_iface2.ip_addr_add(addr=route_link3_addr2, subnet=route_link3_subnet)\n",
    "    router1_local_iface.ip_addr_add(addr=net_local1_gateway, subnet=net_local1_subnet)\n",
    "    \n",
    "    # Config Router2 IPs\n",
    "    router2 = slice.get_node(name=router2_name)  \n",
    "    router2_iface1 = router2.get_interface(network_name=route_link2_name)  \n",
    "    router2_iface2 = router2.get_interface(network_name=route_link1_name)  \n",
    "    router2_local_iface = router2.get_interface(network_name=site2_local_net_name)     \n",
    "    router2_iface1.ip_addr_add(addr=route_link2_addr1, subnet=route_link2_subnet)\n",
    "    router2_iface2.ip_addr_add(addr=route_link1_addr2, subnet=route_link1_subnet)\n",
    "    router2_local_iface.ip_addr_add(addr=net_local2_gateway, subnet=net_local2_subnet)\n",
    "    \n",
    "    # Config Router3 IPs\n",
    "    router3 = slice.get_node(name=router3_name) \n",
    "    router3_iface1 = router3.get_interface(network_name=route_link3_name)  \n",
    "    router3_iface2 = router3.get_interface(network_name=route_link2_name)  \n",
    "    router3_local_iface = router3.get_interface(network_name=site3_local_net_name)     \n",
    "    router3_iface1.ip_addr_add(addr=route_link3_addr1, subnet=route_link3_subnet)\n",
    "    router3_iface2.ip_addr_add(addr=route_link2_addr2, subnet=route_link2_subnet)\n",
    "    router3_local_iface.ip_addr_add(addr=net_local3_gateway, subnet=net_local3_subnet)\n",
    "except Exception as e:\n",
    "    print(f\"Exception: {e}\")\n",
    "    traceback.print_exc()\n",
    "    "
   ]
  },
  {
   "cell_type": "markdown",
   "metadata": {},
   "source": [
    "(Optional) Print the network interface configuration for each router."
   ]
  },
  {
   "cell_type": "code",
   "execution_count": 36,
   "metadata": {},
   "outputs": [
    {
     "name": "stdout",
     "output_type": "stream",
     "text": [
      "router1:\n",
      "1: lo: <LOOPBACK,UP,LOWER_UP> mtu 65536 qdisc noqueue state UNKNOWN group default qlen 1000\n",
      "    link/loopback 00:00:00:00:00:00 brd 00:00:00:00:00:00\n",
      "    inet 127.0.0.1/8 scope host lo\n",
      "       valid_lft forever preferred_lft forever\n",
      "    inet6 ::1/128 scope host \n",
      "       valid_lft forever preferred_lft forever\n",
      "2: eth0: <BROADCAST,MULTICAST,UP,LOWER_UP> mtu 9000 qdisc fq_codel state UP group default qlen 1000\n",
      "    link/ether fa:16:3e:a8:c1:78 brd ff:ff:ff:ff:ff:ff\n",
      "    inet 10.20.5.191/23 brd 10.20.5.255 scope global dynamic noprefixroute eth0\n",
      "       valid_lft 86056sec preferred_lft 86056sec\n",
      "    inet6 fe80::f816:3eff:fea8:c178/64 scope link \n",
      "       valid_lft forever preferred_lft forever\n",
      "3: eth1: <BROADCAST,MULTICAST,UP,LOWER_UP> mtu 1500 qdisc mq state UP group default qlen 1000\n",
      "    link/ether 06:a8:0f:d7:32:fb brd ff:ff:ff:ff:ff:ff\n",
      "    inet 192.168.1.1/24 scope global eth1\n",
      "       valid_lft forever preferred_lft forever\n",
      "4: eth2: <BROADCAST,MULTICAST,UP,LOWER_UP> mtu 1500 qdisc mq state UP group default qlen 1000\n",
      "    link/ether 0a:03:0a:f5:b1:53 brd ff:ff:ff:ff:ff:ff\n",
      "    inet 192.168.103.2/24 scope global eth2\n",
      "       valid_lft forever preferred_lft forever\n",
      "5: eth3: <BROADCAST,MULTICAST,UP,LOWER_UP> mtu 1500 qdisc mq state UP group default qlen 1000\n",
      "    link/ether 0a:7c:d4:f9:5a:e4 brd ff:ff:ff:ff:ff:ff\n",
      "    inet 192.168.101.1/24 scope global eth3\n",
      "       valid_lft forever preferred_lft forever\n",
      "\n",
      "\n",
      "router2:\n",
      "1: lo: <LOOPBACK,UP,LOWER_UP> mtu 65536 qdisc noqueue state UNKNOWN group default qlen 1000\n",
      "    link/loopback 00:00:00:00:00:00 brd 00:00:00:00:00:00\n",
      "    inet 127.0.0.1/8 scope host lo\n",
      "       valid_lft forever preferred_lft forever\n",
      "    inet6 ::1/128 scope host \n",
      "       valid_lft forever preferred_lft forever\n",
      "2: eth0: <BROADCAST,MULTICAST,UP,LOWER_UP> mtu 9000 qdisc fq_codel state UP group default qlen 1000\n",
      "    link/ether fa:16:3e:e6:0a:37 brd ff:ff:ff:ff:ff:ff\n",
      "    inet 10.20.5.110/23 brd 10.20.5.255 scope global dynamic noprefixroute eth0\n",
      "       valid_lft 86132sec preferred_lft 86132sec\n",
      "    inet6 2001:400:a100:3010:f816:3eff:fee6:a37/64 scope global dynamic noprefixroute \n",
      "       valid_lft 86194sec preferred_lft 14194sec\n",
      "    inet6 fe80::f816:3eff:fee6:a37/64 scope link noprefixroute \n",
      "       valid_lft forever preferred_lft forever\n",
      "3: eth1: <BROADCAST,MULTICAST,UP,LOWER_UP> mtu 1500 qdisc mq state UP group default qlen 1000\n",
      "    link/ether 02:09:16:54:61:eb brd ff:ff:ff:ff:ff:ff\n",
      "    inet 192.168.101.2/24 scope global eth1\n",
      "       valid_lft forever preferred_lft forever\n",
      "4: eth2: <BROADCAST,MULTICAST,UP,LOWER_UP> mtu 1500 qdisc mq state UP group default qlen 1000\n",
      "    link/ether 02:25:ef:c4:ae:d0 brd ff:ff:ff:ff:ff:ff\n",
      "    inet 192.168.2.1/24 scope global eth2\n",
      "       valid_lft forever preferred_lft forever\n",
      "5: eth3: <BROADCAST,MULTICAST,UP,LOWER_UP> mtu 1500 qdisc mq state UP group default qlen 1000\n",
      "    link/ether 02:43:fc:d8:5d:cf brd ff:ff:ff:ff:ff:ff\n",
      "    inet 192.168.102.1/24 scope global eth3\n",
      "       valid_lft forever preferred_lft forever\n",
      "\n",
      "\n",
      "router3:\n",
      "1: lo: <LOOPBACK,UP,LOWER_UP> mtu 65536 qdisc noqueue state UNKNOWN group default qlen 1000\n",
      "    link/loopback 00:00:00:00:00:00 brd 00:00:00:00:00:00\n",
      "    inet 127.0.0.1/8 scope host lo\n",
      "       valid_lft forever preferred_lft forever\n",
      "    inet6 ::1/128 scope host \n",
      "       valid_lft forever preferred_lft forever\n",
      "2: eth0: <BROADCAST,MULTICAST,UP,LOWER_UP> mtu 9000 qdisc fq_codel state UP group default qlen 1000\n",
      "    link/ether fa:16:3e:55:14:d4 brd ff:ff:ff:ff:ff:ff\n",
      "    inet 10.20.5.102/23 brd 10.20.5.255 scope global dynamic noprefixroute eth0\n",
      "       valid_lft 86040sec preferred_lft 86040sec\n",
      "    inet6 2001:400:a100:3030:f816:3eff:fe55:14d4/64 scope global dynamic noprefixroute \n",
      "       valid_lft 86197sec preferred_lft 14197sec\n",
      "    inet6 fe80::f816:3eff:fe55:14d4/64 scope link noprefixroute \n",
      "       valid_lft forever preferred_lft forever\n",
      "3: eth1: <BROADCAST,MULTICAST,UP,LOWER_UP> mtu 1500 qdisc mq state UP group default qlen 1000\n",
      "    link/ether 02:5f:99:98:3d:1d brd ff:ff:ff:ff:ff:ff\n",
      "    inet 192.168.102.2/24 scope global eth1\n",
      "       valid_lft forever preferred_lft forever\n",
      "4: eth2: <BROADCAST,MULTICAST,UP,LOWER_UP> mtu 1500 qdisc mq state UP group default qlen 1000\n",
      "    link/ether 02:d2:b7:36:8c:ad brd ff:ff:ff:ff:ff:ff\n",
      "    inet 192.168.103.1/24 scope global eth2\n",
      "       valid_lft forever preferred_lft forever\n",
      "5: eth3: <BROADCAST,MULTICAST,UP,LOWER_UP> mtu 1500 qdisc mq state UP group default qlen 1000\n",
      "    link/ether 06:1a:f5:20:b9:cc brd ff:ff:ff:ff:ff:ff\n",
      "    inet 192.168.3.1/24 scope global eth3\n",
      "       valid_lft forever preferred_lft forever\n",
      "\n",
      "\n"
     ]
    }
   ],
   "source": [
    "try:\n",
    "    for router in [router1, router2, router3]:\n",
    "        print(f'{router.get_name()}:')\n",
    "        stdout, stderr = router.execute(f'ip addr list')\n",
    "        print (stdout)\n",
    "        print (stderr)\n",
    "except Exception as e:\n",
    "    print(f\"Exception: {e}\")\n",
    "    traceback.print_exc()"
   ]
  },
  {
   "cell_type": "markdown",
   "metadata": {},
   "source": [
    "### Configure Local Node IPs\n",
    "\n",
    "Configure the local nodes with addresses from the local subnet available address list. Add routes to the other local subnets via the local gateway.  \n",
    "\n",
    "Add the router link subnets if you want to access the routers (i.e. if you want to `ping` the routers or find paths with `tracepath`)\n",
    "\n",
    "Collect a list of local dataplane IPs to target for testing"
   ]
  },
  {
   "cell_type": "code",
   "execution_count": 37,
   "metadata": {},
   "outputs": [],
   "source": [
    "local_dataplane_ips = {}"
   ]
  },
  {
   "cell_type": "code",
   "execution_count": 38,
   "metadata": {},
   "outputs": [
    {
     "name": "stdout",
     "output_type": "stream",
     "text": [
      "Exception: Node not found: node_TACC1_1\n"
     ]
    }
   ],
   "source": [
    "try:    \n",
    "    #Create Site1 Nodes\n",
    "    for i in range(site_node_count):\n",
    "        name=f'{node_base_name}_{site1}1_{i+1}'\n",
    "        node = slice.get_node(name=name)\n",
    "        node_addr = net_local1_available_ips.pop(0)\n",
    "        node_iface = node.get_interface(network_name=site1_local_net_name)  \n",
    "        node_iface.ip_addr_add(addr=node_addr, subnet=net_local1_subnet)\n",
    "        \n",
    "        #Add routes to other local subnets\n",
    "        node.ip_route_add(subnet=net_local2_subnet, gateway=net_local1_gateway)\n",
    "        node.ip_route_add(subnet=net_local3_subnet, gateway=net_local1_gateway)\n",
    "        \n",
    "        #Add routes to router subnets (used for tracepath and pinging router interfaces)\n",
    "        node.ip_route_add(subnet=route_link1_subnet, gateway=net_local1_gateway)\n",
    "        node.ip_route_add(subnet=route_link2_subnet, gateway=net_local1_gateway)\n",
    "        node.ip_route_add(subnet=route_link3_subnet, gateway=net_local1_gateway)\n",
    "        \n",
    "        #Collect dataplane IP for testing\n",
    "        local_dataplane_ips[name] = node_addr\n",
    "        \n",
    "        print(f\"Node {name} dataplane IP: {node_addr}\")    \n",
    "        stdout, stderr = node.execute(f'ip addr show {node_iface.get_os_interface()}')\n",
    "        print (stdout)\n",
    "except Exception as e:\n",
    "    print(f\"Exception: {e}\")\n",
    "    "
   ]
  },
  {
   "cell_type": "code",
   "execution_count": 39,
   "metadata": {},
   "outputs": [
    {
     "name": "stdout",
     "output_type": "stream",
     "text": [
      "Exception: Node not found: node_SALT2_1\n"
     ]
    }
   ],
   "source": [
    "try:\n",
    "    #Create Site2 Nodes\n",
    "    for i in range(site_node_count):\n",
    "        name=f'{node_base_name}_{site2}2_{i+1}'\n",
    "        node = slice.get_node(name=name)\n",
    "        node_addr = net_local2_available_ips.pop(0)\n",
    "        node_iface = node.get_interface(network_name=site2_local_net_name)  \n",
    "        node_iface.ip_addr_add(addr=node_addr, subnet=net_local2_subnet)\n",
    "        \n",
    "        #Add routes to other local subnets\n",
    "        node.ip_route_add(subnet=net_local1_subnet, gateway=net_local2_gateway)\n",
    "        node.ip_route_add(subnet=net_local3_subnet, gateway=net_local2_gateway)\n",
    "        \n",
    "         #Add routes to router subnets (used for tracepath and pinging router interfaces)\n",
    "        node.ip_route_add(subnet=route_link1_subnet, gateway=net_local2_gateway)\n",
    "        node.ip_route_add(subnet=route_link2_subnet, gateway=net_local2_gateway)\n",
    "        node.ip_route_add(subnet=route_link3_subnet, gateway=net_local2_gateway)\n",
    "        \n",
    "        #Collect dataplane IP for testing\n",
    "        local_dataplane_ips[name] = node_addr\n",
    "\n",
    "        print(f\"Node {name} dataplane IP: {node_addr}\")\n",
    "        stdout, stderr = node.execute(f'ip addr list')\n",
    "        print (stdout)\n",
    "        \n",
    "        stdout, stderr = ndoe.execute(f'ip addr show {node_iface.get_os_interface()}')\n",
    "        print (stdout)\n",
    "except Exception as e:\n",
    "    print(f\"Exception: {e}\")"
   ]
  },
  {
   "cell_type": "code",
   "execution_count": 40,
   "metadata": {},
   "outputs": [
    {
     "name": "stdout",
     "output_type": "stream",
     "text": [
      "Exception: Node not found: node_STAR3_1\n"
     ]
    }
   ],
   "source": [
    "try:\n",
    "    #Create Site3 Nodes\n",
    "    for i in range(site_node_count):\n",
    "        name=f'{node_base_name}_{site3}3_{i+1}'\n",
    "        node = slice.get_node(name=name)\n",
    "        node_addr = net_local3_available_ips.pop(0)\n",
    "        node_iface = node.get_interface(network_name=site3_local_net_name)  \n",
    "        node_iface.ip_addr_add(addr=node_addr, subnet=net_local3_subnet)\n",
    "        \n",
    "        #Add routes to other local subnets\n",
    "        node.ip_route_add(subnet=net_local1_subnet, gateway=net_local3_gateway)\n",
    "        node.ip_route_add(subnet=net_local2_subnet, gateway=net_local3_gateway)\n",
    "        \n",
    "        #Add routes to router subnets (used for tracepath and pinging router interfaces)\n",
    "        node.ip_route_add(subnet=route_link1_subnet, gateway=net_local3_gateway)\n",
    "        node.ip_route_add(subnet=route_link2_subnet, gateway=net_local3_gateway)\n",
    "        node.ip_route_add(subnet=route_link3_subnet, gateway=net_local3_gateway)\n",
    "        \n",
    "        #Collect dataplane IP for testing\n",
    "        local_dataplane_ips[name] = node_addr\n",
    "        \n",
    "        print(f\"Node {name} dataplane IP: {node_addr}\")\n",
    "        stdout, stderr = node.execute(f'ip addr show {node_iface.get_os_interface()}')\n",
    "        print (stdout)\n",
    "    \n",
    "except Exception as e:\n",
    "    print(f\"Exception: {e}\")"
   ]
  },
  {
   "cell_type": "markdown",
   "metadata": {},
   "source": [
    "##  Step 7: Configure FRRouting on each router. \n",
    "\n",
    "This complex configuration is handled through a bash script `frr_config.sh` that resides in the folder containing this notebook. The script is executed by, first, uploading the script with the `node.upload_file()` FABLib method.  Then the script is executed using the `node.execute()` FABLib method.  Note that the script passes the OS interfaces names and configured IPs as arguments from the notebook to the script.  \n",
    "\n",
    "These scripts take a while to run. You may wish to use a separate terminal window to ssh to the routers and tail the log file to watch the progess with: `tail -F frr_config.log`."
   ]
  },
  {
   "cell_type": "code",
   "execution_count": 41,
   "metadata": {},
   "outputs": [
    {
     "name": "stdout",
     "output_type": "stream",
     "text": [
      "Config Router1\n",
      "Config Router2\n",
      "Config Router3\n",
      "Joining Threads\n",
      "Router1:  Importing GPG key 0x6D745A60:\n",
      " Userid     : \"Release Engineering <infrastructure@rockylinux.org>\"\n",
      " Fingerprint: 7051 C470 A929 F454 CEBE 37B7 15AF 5DAC 6D74 5A60\n",
      " From       : /etc/pki/rpm-gpg/RPM-GPG-KEY-rockyofficial\n",
      " \n",
      "Router2:  Importing GPG key 0x6D745A60:\n",
      " Userid     : \"Release Engineering <infrastructure@rockylinux.org>\"\n",
      " Fingerprint: 7051 C470 A929 F454 CEBE 37B7 15AF 5DAC 6D74 5A60\n",
      " From       : /etc/pki/rpm-gpg/RPM-GPG-KEY-rockyofficial\n",
      " \n",
      "Router3:  Importing GPG key 0x6D745A60:\n",
      " Userid     : \"Release Engineering <infrastructure@rockylinux.org>\"\n",
      " Fingerprint: 7051 C470 A929 F454 CEBE 37B7 15AF 5DAC 6D74 5A60\n",
      " From       : /etc/pki/rpm-gpg/RPM-GPG-KEY-rockyofficial\n",
      " \n"
     ]
    }
   ],
   "source": [
    "try: \n",
    "    #thread1 = execute.thread()\n",
    "    #stdout, stderr = thread1.result()\n",
    "    \n",
    "    # Config Router1\n",
    "    print('Config Router1')\n",
    "    router1.upload_file('./frr_config.sh','frr_config.sh')\n",
    "    router1_config_thread = router1.execute_thread(f'chmod +x frr_config.sh && sudo ./frr_config.sh {router1_iface1.get_os_interface()} {route_link1_addr1} {router1_iface2.get_os_interface()} {route_link3_addr2} {router1_local_iface.get_os_interface()} {net_local1_gateway} 192.168.0.0')\n",
    "\n",
    "    # Config Router2\n",
    "    print('Config Router2')\n",
    "    router2.upload_file('./frr_config.sh','frr_config.sh')   \n",
    "    router2_config_thread = router2.execute_thread(f'chmod +x frr_config.sh && sudo ./frr_config.sh {router2_iface1.get_os_interface()} {route_link2_addr1} {router2_iface2.get_os_interface()} {route_link1_addr2} {router2_local_iface.get_os_interface()} {net_local2_gateway} 192.168.0.0')\n",
    "    \n",
    "    # Config Router3\n",
    "    print('Config Router3')\n",
    "    router3.upload_file('./frr_config.sh','frr_config.sh')\n",
    "    router3_config_thread = router3.execute_thread(f'chmod +x frr_config.sh && sudo ./frr_config.sh {router3_iface1.get_os_interface()} {route_link3_addr1} {router3_iface2.get_os_interface()} {route_link2_addr2} {router3_local_iface.get_os_interface()} {net_local3_gateway} 192.168.0.0')\n",
    "\n",
    "    #Join Threads\n",
    "    print(f\"Joining Threads\")\n",
    "    stdout, stderr = router1_config_thread.result() \n",
    "    print(f\"Router1: \", stdout, stderr)\n",
    "    stdout, stderr = router2_config_thread.result() \n",
    "    print(f\"Router2: \", stdout, stderr)\n",
    "    stdout, stderr = router3_config_thread.result() \n",
    "    print(f\"Router3: \", stdout, stderr)\n",
    "\n",
    "except Exception as e:\n",
    "    print(f\"Exception: {e}\")\n",
    "    traceback.print_exc()            \n",
    "     "
   ]
  },
  {
   "cell_type": "markdown",
   "metadata": {},
   "source": [
    "## Step 8: Run the Experiment\n",
    "\n",
    "We will just test `ping` RTT and look at `tracepath`. Your experiment should be more interesting!\n",
    "\n",
    "Notice that if you run this quickly and repeatedly run this test against a specific target, you may see changes to the tracepath.  Initially the ping may even fail.  Why do you think this is happening?\n"
   ]
  },
  {
   "cell_type": "code",
   "execution_count": 42,
   "metadata": {},
   "outputs": [],
   "source": [
    "try:\n",
    "    source_node_name =  f'{node_base_name}_site1_1'\n",
    "   \n",
    "    source_node = slice.get_node(name=source_node_name)\n",
    "    for node_name,target_ip in local_dataplane_ips.items():\n",
    "        print(f\"Testing target node: {node_name}, target IP: {target_ip}\")\n",
    "    \n",
    "        stdout, stderr = node.execute(f'ping -c 5 {target_ip}')\n",
    "        print (stdout, stderr)\n",
    "\n",
    "        stdout, stderr = node.execute(f'tracepath {target_ip}')\n",
    "        print (stdout, stderr)\n",
    "    \n",
    "except Exception as e:\n",
    "    print(f\"Exception: {e}\")"
   ]
  },
  {
   "cell_type": "code",
   "execution_count": null,
   "metadata": {},
   "outputs": [],
   "source": [
    "try:\n",
    "    slice.save(\"ospf.graphml\")\n",
    "except Exception as e:\n",
    "    print(f\"Exception: {e}\")"
   ]
  },
  {
   "cell_type": "markdown",
   "metadata": {},
   "source": [
    "## Step 9: Delete the Slice\n",
    "\n",
    "Please delete your slice when you are done with your experiment."
   ]
  },
  {
   "cell_type": "code",
   "execution_count": 23,
   "metadata": {},
   "outputs": [],
   "source": [
    "try:\n",
    "    slice = fablib.get_slice(name=slice_name)\n",
    "    slice.delete()\n",
    "except Exception as e:\n",
    "    print(f\"Exception: {e}\")"
   ]
  },
  {
   "cell_type": "code",
   "execution_count": null,
   "metadata": {},
   "outputs": [],
   "source": []
  }
 ],
 "metadata": {
  "kernelspec": {
   "display_name": "Python 3 (ipykernel)",
   "language": "python",
   "name": "python3"
  },
  "language_info": {
   "codemirror_mode": {
    "name": "ipython",
    "version": 3
   },
   "file_extension": ".py",
   "mimetype": "text/x-python",
   "name": "python",
   "nbconvert_exporter": "python",
   "pygments_lexer": "ipython3",
   "version": "3.9.2"
  }
 },
 "nbformat": 4,
 "nbformat_minor": 4
}
