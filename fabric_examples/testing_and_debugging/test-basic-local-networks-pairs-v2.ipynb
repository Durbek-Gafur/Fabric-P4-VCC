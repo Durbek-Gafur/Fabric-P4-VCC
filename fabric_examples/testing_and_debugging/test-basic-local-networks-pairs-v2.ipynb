{
 "cells": [
  {
   "cell_type": "markdown",
   "metadata": {
    "tags": []
   },
   "source": [
    "# Hello, FABRIC: Create your first FABRIC slice\n",
    "\n",
    "## Configure the Environment\n",
    "\n",
    "Set the environment variable that will be used by this notebook. If you are using the FABRIC, JupyterHub some of the environment will be automatically configured for you.  You will only need to set your bastion username, upload your bastion private key, and set the path to where you put your bastion private key. Your bastion username and private key should already be in your possession.  If you do not have a bastion username and private key, please contact the FABRIC admins using the [FABRIC User Forum](https://learn.fabric-testbed.net/forums/) \n",
    "\n",
    "If you are using the FABRIC API outside of the JupyterHub you will need to configure all of the environment variables. Defaults below will be correct in many situations but you will need to confirm your configuration.  If you have questions about this configuration, please contact the FABRIC admins using the [FABRIC User Forum](https://learn.fabric-testbed.net/forums/) \n",
    "\n",
    "More information about accessing your experiments through the FABRIC bastion hosts can be found [here](https://learn.fabric-testbed.net/knowledge-base/logging-into-fabric-vms/)."
   ]
  },
  {
   "cell_type": "markdown",
   "metadata": {
    "tags": []
   },
   "source": [
    "#### Configure the Experiment Parameters\n",
    "\n"
   ]
  },
  {
   "cell_type": "code",
   "execution_count": 1,
   "metadata": {},
   "outputs": [],
   "source": [
    "slice_name_base = 'MySlice_Components_Test'\n",
    "#test_sites = [ 'UKY', 'RENC', 'LBNL' ]\n",
    "#test_sites = [ 'TACC', 'MAX', 'UTAH', 'NCSA', 'MICH', 'WASH', 'DALL', 'SALT', 'STAR']\n",
    "#test_sites = [ 'UTAH', 'NCSA', 'WASH', 'DALL', 'SALT', 'STAR']\n",
    "\n",
    "\n",
    "#test_sites =[ 'MAX', 'UTAH', 'WASH', 'DALL', 'SALT', 'STAR', 'NCSA']\n",
    "\n",
    "#test_sites = [ 'DALL', 'TACC', 'NCSA',  'MAX'] \n",
    "test_sites = [   'UTAH']\n",
    "\n",
    "\n",
    "#test_sites = [  'DALL' ]\n",
    "\n",
    "node_name_base = 'node'\n"
   ]
  },
  {
   "cell_type": "code",
   "execution_count": 2,
   "metadata": {},
   "outputs": [],
   "source": [
    "import os\n",
    "\n",
    "# If you are using the FABRIC JupyterHub, the following three evnrionment vars\n",
    "# were automatically provided when you logged in.\n",
    "#os.environ['FABRIC_CREDMGR_HOST']='cm.fabric-testbed.net'\n",
    "#os.environ['FABRIC_ORCHESTRATOR_HOST']='orchestrator.fabric-testbed.net'\n",
    "#os.environ['FABRIC_TOKEN_LOCATION']=os.environ['HOME']+'/work/fabric_token.json'\n",
    "\n",
    "# Bastion IPs\n",
    "os.environ['FABRIC_BASTION_HOST'] = 'bastion-1.fabric-testbed.net'\n",
    "\n",
    "# Set your Bastion username and private key\n",
    "os.environ['FABRIC_BASTION_USERNAME']='pruth_0031379841'\n",
    "os.environ['FABRIC_BASTION_KEY_LOCATION']=os.environ['HOME']+'/work/fabric_bastion_key'\n",
    "\n",
    "# Set the keypair FABRIC will install in your slice. \n",
    "os.environ['FABRIC_SLICE_PRIVATE_KEY_FILE']=os.environ['HOME']+'/.ssh/id_rsa'\n",
    "os.environ['FABRIC_SLICE_PUBLIC_KEY_FILE']=os.environ['HOME']+'/.ssh/id_rsa.pub'\n",
    "\n",
    "# If your slice private key uses a passphrase, set the passphrase\n",
    "#from getpass import getpass\n",
    "#print('Please input private key passphrase. Press enter for no passphrase.')\n",
    "#os.environ['FABRIC_SLICE_PRIVATE_KEY_PASSPHRASE']=getpass()"
   ]
  },
  {
   "cell_type": "markdown",
   "metadata": {
    "tags": []
   },
   "source": [
    "## Setup the Experiment\n",
    "\n",
    "#### Import the FABRIC API"
   ]
  },
  {
   "cell_type": "code",
   "execution_count": 3,
   "metadata": {
    "tags": []
   },
   "outputs": [],
   "source": [
    "import json\n",
    "import traceback\n",
    "from fabrictestbed_extensions.fablib.fablib import fablib"
   ]
  },
  {
   "cell_type": "markdown",
   "metadata": {},
   "source": [
    "#### Create the FABRIC Proxies\n",
    "\n",
    "The FABRIC API is used via proxy objects that manage connections to the control framework.  "
   ]
  },
  {
   "cell_type": "markdown",
   "metadata": {
    "tags": []
   },
   "source": [
    "#### (Optional) Query Available Resources\n",
    "\n",
    "This optional command queries the FABRIC services to find the available resources. It may be useful for finding a site with available capacity."
   ]
  },
  {
   "cell_type": "code",
   "execution_count": 4,
   "metadata": {},
   "outputs": [
    {
     "name": "stdout",
     "output_type": "stream",
     "text": [
      "Available Resources: TACC [Site] : { cpu: 10/10 , core: 304/320 , ram: 2,508/2,560 G, disk: 116,340/116,400 G, unit: 5/5 }\n",
      "\tComponents:\n",
      "\t\tNVME-P4510:  NVME P4510 { disk: 15,360/15,360 G, unit: 16/16 }\n",
      "\t\tGPU-RTX6000:  GPU RTX6000 { unit: 6/6 }\n",
      "\t\tGPU-Tesla T4:  GPU Tesla T4 { unit: 4/4 }\n",
      "\t\tSharedNIC-ConnectX-6:  SharedNIC ConnectX-6 { unit: 633/635 }\n",
      "\t\tSmartNIC-ConnectX-6:  SmartNIC ConnectX-6 { unit: 0/2 }\n",
      "\t\tSmartNIC-ConnectX-5:  SmartNIC ConnectX-5 { unit: 1/4 }\n",
      "\tSite Interfaces:\n",
      "\t\tTACC_DALL: TrunkPort { bw: 100/100 Gbps}\n",
      "UTAH [Site] : { cpu: 10/10 , core: 306/320 , ram: 2,516/2,560 G, disk: 116,350/116,400 G, unit: 5/5 }\n",
      "\tComponents:\n",
      "\t\tSmartNIC-ConnectX-5:  SmartNIC ConnectX-5 { unit: 1/4 }\n",
      "\t\tNVME-P4510:  NVME P4510 { disk: 15,360/15,360 G, unit: 16/16 }\n",
      "\t\tSharedNIC-ConnectX-6:  SharedNIC ConnectX-6 { unit: 633/635 }\n",
      "\t\tGPU-RTX6000:  GPU RTX6000 { unit: 5/5 }\n",
      "\t\tGPU-Tesla T4:  GPU Tesla T4 { unit: 4/4 }\n",
      "\t\tSmartNIC-ConnectX-6:  SmartNIC ConnectX-6 { unit: 0/2 }\n",
      "\tSite Interfaces:\n",
      "\t\tUTAH_STAR: TrunkPort { bw: 100/100 Gbps}\n",
      "WASH [Site] : { cpu: 6/6 , core: 192/192 , ram: 1,536/1,536 G, disk: 60,600/60,600 G, unit: 3/3 }\n",
      "\tComponents:\n",
      "\t\tNVME-P4510:  NVME P4510 { disk: 9,600/9,600 G, unit: 10/10 }\n",
      "\t\tGPU-RTX6000:  GPU RTX6000 { unit: 3/3 }\n",
      "\t\tGPU-Tesla T4:  GPU Tesla T4 { unit: 2/2 }\n",
      "\t\tSharedNIC-ConnectX-6:  SharedNIC ConnectX-6 { unit: 381/381 }\n",
      "\t\tSmartNIC-ConnectX-6:  SmartNIC ConnectX-6 { unit: 2/2 }\n",
      "\t\tSmartNIC-ConnectX-5:  SmartNIC ConnectX-5 { unit: 2/2 }\n",
      "\tSite Interfaces:\n",
      "\t\tWASH_STAR: TrunkPort { bw: 100/100 Gbps}\n",
      "\t\tWASH_MAX: TrunkPort { bw: 10/10 Gbps}\n",
      "\t\tWASH_DALL: TrunkPort { bw: 10/10 Gbps}\n",
      "MICH [Site] : { cpu: 6/6 , core: 192/192 , ram: 1,536/1,536 G, disk: 60,600/60,600 G, unit: 3/3 }\n",
      "\tComponents:\n",
      "\t\tSharedNIC-ConnectX-6:  SharedNIC ConnectX-6 { unit: 381/381 }\n",
      "\t\tNVME-P4510:  NVME P4510 { disk: 9,600/9,600 G, unit: 10/10 }\n",
      "\t\tGPU-Tesla T4:  GPU Tesla T4 { unit: 2/2 }\n",
      "\t\tGPU-RTX6000:  GPU RTX6000 { unit: 3/3 }\n",
      "\t\tSmartNIC-ConnectX-5:  SmartNIC ConnectX-5 { unit: 2/2 }\n",
      "\t\tSmartNIC-ConnectX-6:  SmartNIC ConnectX-6 { unit: 2/2 }\n",
      "\tSite Interfaces:\n",
      "\t\tMICH_STAR: TrunkPort { bw: 100/100 Gbps}\n",
      "SALT [Site] : { cpu: 6/6 , core: 192/192 , ram: 1,536/1,536 G, disk: 60,600/60,600 G, unit: 3/3 }\n",
      "\tComponents:\n",
      "\t\tNVME-P4510:  NVME P4510 { disk: 9,600/9,600 G, unit: 10/10 }\n",
      "\t\tGPU-Tesla T4:  GPU Tesla T4 { unit: 2/2 }\n",
      "\t\tGPU-RTX6000:  GPU RTX6000 { unit: 3/3 }\n",
      "\t\tSharedNIC-ConnectX-6:  SharedNIC ConnectX-6 { unit: 381/381 }\n",
      "\t\tSmartNIC-ConnectX-5:  SmartNIC ConnectX-5 { unit: 2/2 }\n",
      "\t\tSmartNIC-ConnectX-6:  SmartNIC ConnectX-6 { unit: 2/2 }\n",
      "\tSite Interfaces:\n",
      "STAR [Site] : { cpu: 12/12 , core: 382/384 , ram: 3,064/3,072 G, disk: 121,190/121,200 G, unit: 6/6 }\n",
      "\tComponents:\n",
      "\t\tSharedNIC-ConnectX-6:  SharedNIC ConnectX-6 { unit: 762/762 }\n",
      "\t\tNVME-P4510:  NVME P4510 { disk: 20,000/20,000 G, unit: 20/20 }\n",
      "\t\tGPU-Tesla T4:  GPU Tesla T4 { unit: 6/6 }\n",
      "\t\tGPU-RTX6000:  GPU RTX6000 { unit: 6/6 }\n",
      "\t\tSmartNIC-ConnectX-5:  SmartNIC ConnectX-5 { unit: 6/6 }\n",
      "\t\tSmartNIC-ConnectX-6:  SmartNIC ConnectX-6 { unit: 2/2 }\n",
      "\tSite Interfaces:\n",
      "\t\tSTAR_WASH: TrunkPort { bw: 100/100 Gbps}\n",
      "\t\tSTAR_MICH: TrunkPort { bw: 100/100 Gbps}\n",
      "\t\tSTAR_DALL: TrunkPort { bw: 100/100 Gbps}\n",
      "\t\tSTAR_UTAH: TrunkPort { bw: 100/100 Gbps}\n",
      "\t\tSTAR_NCSA: TrunkPort { bw: 100/100 Gbps}\n",
      "\t\tSTAR_NCSA: TrunkPort { bw: 100/100 Gbps}\n",
      "NCSA [Site] : { cpu: 6/6 , core: 192/192 , ram: 1,536/1,536 G, disk: 60,600/60,600 G, unit: 3/3 }\n",
      "\tComponents:\n",
      "\t\tNVME-P4510:  NVME P4510 { disk: 9,600/9,600 G, unit: 10/10 }\n",
      "\t\tGPU-Tesla T4:  GPU Tesla T4 { unit: 2/2 }\n",
      "\t\tGPU-RTX6000:  GPU RTX6000 { unit: 3/3 }\n",
      "\t\tSmartNIC-ConnectX-5:  SmartNIC ConnectX-5 { unit: 2/2 }\n",
      "\t\tSmartNIC-ConnectX-6:  SmartNIC ConnectX-6 { unit: 2/2 }\n",
      "\t\tSharedNIC-ConnectX-6:  SharedNIC ConnectX-6 { unit: 381/381 }\n",
      "\tSite Interfaces:\n",
      "\t\tNCSA_STAR: TrunkPort { bw: 100/100 Gbps}\n",
      "\t\tNCSA_STAR: TrunkPort { bw: 100/100 Gbps}\n",
      "MAX [Site] : { cpu: 10/10 , core: 296/320 , ram: 2,456/2,560 G, disk: 116,060/116,400 G, unit: 5/5 }\n",
      "\tComponents:\n",
      "\t\tSmartNIC-ConnectX-6:  SmartNIC ConnectX-6 { unit: 2/2 }\n",
      "\t\tNVME-P4510:  NVME P4510 { disk: 15,360/15,360 G, unit: 16/16 }\n",
      "\t\tGPU-Tesla T4:  GPU Tesla T4 { unit: 4/4 }\n",
      "\t\tGPU-RTX6000:  GPU RTX6000 { unit: 6/6 }\n",
      "\t\tSharedNIC-ConnectX-6:  SharedNIC ConnectX-6 { unit: 631/635 }\n",
      "\t\tSmartNIC-ConnectX-5:  SmartNIC ConnectX-5 { unit: 3/4 }\n",
      "\tSite Interfaces:\n",
      "\t\tMAX_WASH: TrunkPort { bw: 100/100 Gbps}\n",
      "DALL [Site] : { cpu: 6/6 , core: 184/192 , ram: 1,504/1,536 G, disk: 60,500/60,600 G, unit: 3/3 }\n",
      "\tComponents:\n",
      "\t\tGPU-RTX6000:  GPU RTX6000 { unit: 3/3 }\n",
      "\t\tGPU-Tesla T4:  GPU Tesla T4 { unit: 2/2 }\n",
      "\t\tNVME-P4510:  NVME P4510 { disk: 9,600/9,600 G, unit: 10/10 }\n",
      "\t\tSharedNIC-ConnectX-6:  SharedNIC ConnectX-6 { unit: 381/381 }\n",
      "\t\tSmartNIC-ConnectX-6:  SmartNIC ConnectX-6 { unit: 2/2 }\n",
      "\t\tSmartNIC-ConnectX-5:  SmartNIC ConnectX-5 { unit: 1/2 }\n",
      "\tSite Interfaces:\n",
      "\t\tDALL_TACC: TrunkPort { bw: 10/10 Gbps}\n",
      "\t\tDALL_STAR: TrunkPort { bw: 100/100 Gbps}\n",
      "\t\tDALL_WASH: TrunkPort { bw: 10/10 Gbps}\n",
      "MASS [Site]\n",
      "\tComponents:\n",
      "\tSite Interfaces:\n",
      "Links:\n",
      "\tport+ncsa-data-sw:HundredGigE0/0/0/22.3000 to port+star-data-sw:HundredGigE0/0/0/31.3000[L2Path]: ['STAR_NCSA', 'NCSA_STAR']\n",
      "\tport+ncsa-data-sw:HundredGigE0/0/0/23.3710 to port+star-data-sw:HundredGigE0/0/0/30.3710[L2Path]: ['STAR_NCSA', 'NCSA_STAR']\n",
      "\tport+mich-data-sw:HundredGigE0/0/0/23.3000 to port+star-data-sw:HundredGigE0/0/0/32.3000[L2Path]: ['STAR_MICH', 'MICH_STAR']\n",
      "\tport+dall-data-sw:HundredGigE0/0/0/23.3000 to port+star-data-sw:HundredGigE0/0/0/34.3000[L2Path]: ['STAR_DALL', 'DALL_STAR']\n",
      "\tport+star-data-sw:HundredGigE0/0/0/30.3722 to port+utah-data-sw:HundredGigE0/0/0/22.2090[L2Path]: ['STAR_UTAH', 'UTAH_STAR']\n",
      "\tport+dall-data-sw:TenGigE0/0/0/12/0.2004 to port+tacc-data-sw:HundredGigE0/0/0/23.3162[L2Path]: ['TACC_DALL', 'DALL_TACC']\n",
      "\tport+dall-data-sw:TenGigE0/0/0/12/0.2003 to port+wash-data-sw:TenGigE0/0/0/12/0.2003[L2Path]: ['WASH_DALL', 'DALL_WASH']\n",
      "\tport+star-data-sw:HundredGigE0/0/0/35.3000 to port+wash-data-sw:HundredGigE0/0/0/23.3000[L2Path]: ['WASH_STAR', 'STAR_WASH']\n",
      "\tport+max-data-sw:HundredGigE0/0/0/22.2040 to port+wash-data-sw:TenGigE0/0/0/12/0.2040[L2Path]: ['WASH_MAX', 'MAX_WASH']\n",
      "Error: 'Resources' object has no attribute 'draw'\n"
     ]
    },
    {
     "name": "stderr",
     "output_type": "stream",
     "text": [
      "Traceback (most recent call last):\n",
      "  File \"/var/folders/_l/8dq3pgzx6bjgt8qrr1m9jgc80000gp/T/ipykernel_14793/181468770.py\", line 4, in <module>\n",
      "    available_resources.draw()\n",
      "AttributeError: 'Resources' object has no attribute 'draw'\n"
     ]
    }
   ],
   "source": [
    "try:\n",
    "    available_resources = fablib.get_available_resources()\n",
    "    print(f\"Available Resources: {available_resources}\")\n",
    "    available_resources.draw()\n",
    "except Exception as e:\n",
    "    print(f\"Error: {e}\")\n",
    "    traceback.print_exc()"
   ]
  },
  {
   "cell_type": "markdown",
   "metadata": {
    "tags": []
   },
   "source": [
    "## Create the Experiment Slice\n",
    "\n",
    "Load aggragate ads."
   ]
  },
  {
   "cell_type": "code",
   "execution_count": 5,
   "metadata": {},
   "outputs": [
    {
     "name": "stdout",
     "output_type": "stream",
     "text": [
      "Reading ./aggregates/RENC.json\n",
      "Reading ./aggregates/TACC.json\n",
      "Reading ./aggregates/MAX.json\n",
      "Reading ./aggregates/LBNL.json\n",
      "Reading ./aggregates/NCSA.json\n",
      "Reading ./aggregates/UTAH.json\n",
      "Reading ./aggregates/UKY.json\n",
      "Reading ./aggregates/SALT.json\n",
      "Reading ./aggregates/MICH.json\n",
      "Reading ./aggregates/STAR.json\n",
      "Reading ./aggregates/DALL.json\n",
      "Reading ./aggregates/WASH.json\n"
     ]
    }
   ],
   "source": [
    "import glob\n",
    "import json\n",
    "\n",
    "#aggregate_json_dir=os.environ['HOME']+\"/work/git/jupyter-examples/fabric_examples/testing_and_debugging/aggregates/\"\n",
    "aggregate_json_dir=\"./aggregates/\"\n",
    "\n",
    "aggregates = {}\n",
    "aggregate_files = glob.glob(aggregate_json_dir+\"*.json\")\n",
    "for file_name in aggregate_files:\n",
    "    print(f\"Reading {file_name}\")\n",
    "    site_name = file_name.replace(aggregate_json_dir,\"\",1).split(\".\")[0]\n",
    "    #print(f\"{site_name}\")\n",
    "    with open(file_name, 'r') as infile:\n",
    "        site_info = json.load(infile)\n",
    "    #print(f\"{site_json}\")\n",
    "    aggregates[site_name] = site_info\n",
    "    "
   ]
  },
  {
   "cell_type": "markdown",
   "metadata": {
    "tags": []
   },
   "source": [
    "### Create Slice\n",
    "\n",
    "<img src=\"./figs/SingleNode.png\" width=\"20%\"><br>\n",
    "\n",
    "Create a single node with basic compute capabilities. The submit function will block until the node is ready and will display a progress bar.\n"
   ]
  },
  {
   "cell_type": "code",
   "execution_count": null,
   "metadata": {},
   "outputs": [
    {
     "name": "stdout",
     "output_type": "stream",
     "text": [
      "Creating slice MySlice_Components_Test_UTAH\n",
      "utah-w1.fabric-testbed.net\n",
      "utah-w2.fabric-testbed.net\n",
      "utah-w3.fabric-testbed.net\n",
      "utah-w4.fabric-testbed.net\n",
      "utah-w5.fabric-testbed.net\n",
      "Waiting for slice ..... Slice state: StableOK\n",
      "Waiting for ssh in slice .. ssh successful\n",
      "Running post boot config ..."
     ]
    }
   ],
   "source": [
    "import time\n",
    "\n",
    "try:\n",
    "    for site in test_sites:\n",
    "        slice_name=f\"{slice_name_base}_{site}\"\n",
    "        print(f\"Creating slice {slice_name}\")\n",
    "        slice = fablib.new_slice(slice_name)\n",
    "        site_info = aggregates[site]\n",
    "        \n",
    "        networks = {}\n",
    "        \n",
    "        #create a copy for inner loop\n",
    "        outer_loop_site_info = site_info['Nodes'].copy()\n",
    "        inner_loop_site_info = site_info['Nodes'].copy()\n",
    "\n",
    "        #Add dumbell in each worker\n",
    "        for worker1_info in outer_loop_site_info:\n",
    "            worker1 = worker1_info['Name']\n",
    "            worker1_short_name = worker1.split(\".\")[0]\n",
    "            \n",
    "            print(f\"{worker1}\")\n",
    "            \n",
    "             # Add node\n",
    "            node1_name = f\"{node_name_base}_{worker1_short_name}_1\"\n",
    "            node1 = slice.add_node(name=node1_name, site=site)\n",
    "            node1.set_host(worker1)\n",
    "            \n",
    "\n",
    "            # Add node\n",
    "            node2_name = f\"{node_name_base}_{worker1_short_name}_2\"\n",
    "            node2 = slice.add_node(name=node2_name, site=site)\n",
    "            node2.set_host(worker1)\n",
    "\n",
    "            for worker2_info in inner_loop_site_info:\n",
    "                worker2 = worker2_info['Name']\n",
    "                worker2_short_name = worker2.split(\".\")[0]\n",
    "                \n",
    "                \n",
    "                [iface1] = node1.add_component(model=\"NIC_Basic\", name=f'nic_{worker2_short_name}').get_interfaces()\n",
    "                [iface2] = node2.add_component(model=\"NIC_Basic\", name=f'nic_{worker2_short_name}').get_interfaces()\n",
    "                \n",
    "                \n",
    "                if not worker2_short_name in networks.keys():\n",
    "                    networks[worker2_short_name] = []\n",
    "                \n",
    "                networks[worker2_short_name].append(iface1)\n",
    "                networks[worker2_short_name].append(iface2)\n",
    "\n",
    "        \n",
    "        \n",
    "        #Create Networks\n",
    "        net_num = 1\n",
    "        for worker_short_name, ifaces in networks.items():\n",
    "            net = slice.add_l2network(name=f'{site}_net{net_num}', interfaces=ifaces)\n",
    "            net_num += 1\n",
    "\n",
    "\n",
    "              \n",
    "    \n",
    "\n",
    "        #Submit Slice Request\n",
    "        slice.submit(wait_timeout=600,wait_interval=60)\n",
    "        \n",
    "        #time.sleep(30)\n",
    "except Exception as e:\n",
    "    print(f\"Slice Failed: {e}\")\n",
    "    traceback.print_exc()\n"
   ]
  },
  {
   "cell_type": "code",
   "execution_count": null,
   "metadata": {
    "tags": []
   },
   "outputs": [],
   "source": [
    "try:\n",
    "    for site in test_sites:\n",
    "    #for site in [ 'STAR' ]:\n",
    "\n",
    "        slice_name=f\"{slice_name_base}_{site}\"\n",
    "        print(f\"Processing slice {slice_name}\")\n",
    "\n",
    "        #Get Slice\n",
    "        slice = fablib.get_slice(slice_name)\n",
    "\n",
    "        #Wait for ssh to be active\n",
    "        slice.wait_ssh(progress=True, timeout=600,interval=60)\n",
    "        #time.sleep(30)\n",
    "\n",
    "        #Run post boo config\n",
    "        print(\"post_boot_config\")\n",
    "        slice.post_boot_config()\n",
    "except Exception as e:\n",
    "    print(f\"Slice Failed: {e}\")\n",
    "    traceback.print_exc()"
   ]
  },
  {
   "cell_type": "code",
   "execution_count": null,
   "metadata": {},
   "outputs": [],
   "source": [
    "try:\n",
    "    for site in test_sites:\n",
    "        slice_name=f\"{slice_name_base}_{site}\"\n",
    "        \n",
    "        print(f\"Waiting for slice {slice_name} \")\n",
    "        print(json.dumps(slice.get_interface_map(), indent=4, sort_keys=True))\n",
    "except:\n",
    "    print(\"Error\")"
   ]
  },
  {
   "cell_type": "code",
   "execution_count": null,
   "metadata": {},
   "outputs": [],
   "source": [
    "try:\n",
    "    for site in test_sites:\n",
    "        slice_name=f\"{slice_name_base}_{site}\"    \n",
    "        slice = fablib.get_slice(name=slice_name)\n",
    "        print(f\"{slice}\")\n",
    "except Exception as e:\n",
    "    print(f\"Exception: {e}\")"
   ]
  },
  {
   "cell_type": "code",
   "execution_count": null,
   "metadata": {},
   "outputs": [],
   "source": [
    "try:\n",
    "    for site in test_sites:\n",
    "        slice_name=f\"{slice_name_base}_{site}\"    \n",
    "        slice = fablib.get_slice(name=slice_name)\n",
    "        print(f\"{slice.list_nodes()}\")\n",
    "except Exception as e:\n",
    "    print(f\"Exception: {e}\")"
   ]
  },
  {
   "cell_type": "code",
   "execution_count": null,
   "metadata": {},
   "outputs": [],
   "source": [
    "try:\n",
    "    for site in test_sites:\n",
    "        slice_name=f\"{slice_name_base}_{site}\"    \n",
    "        slice = fablib.get_slice(name=slice_name)\n",
    "        print(f\"{slice.list_interfaces()}\")\n",
    "except Exception as e:\n",
    "    print(f\"Exception: {e}\")\n",
    "    traceback.print_exc()"
   ]
  },
  {
   "cell_type": "code",
   "execution_count": null,
   "metadata": {},
   "outputs": [],
   "source": [
    "try:\n",
    "    for site in test_sites:\n",
    "        slice_name=f\"{slice_name_base}_{site}\"    \n",
    "        slice = fablib.get_slice(name=slice_name)\n",
    "        \n",
    "        for node in slice.get_nodes():\n",
    "            print(f\"{node}\")\n",
    "            for component in node.get_components():\n",
    "                #print(f\"{component}\")\n",
    "                print(f\"{component.list_interfaces()}\")\n",
    "            #print(f\"{node.list_interfaces()}\")\n",
    "except Exception as e:\n",
    "    print(f\"Exception: {e}\")\n",
    " \n",
    "        "
   ]
  },
  {
   "cell_type": "markdown",
   "metadata": {
    "tags": []
   },
   "source": [
    "### Print the Node's Attributes\n",
    "\n",
    "Each node in the slice has a set of get functions that return the node's attributes."
   ]
  },
  {
   "cell_type": "markdown",
   "metadata": {},
   "source": [
    "### Test SSH"
   ]
  },
  {
   "cell_type": "code",
   "execution_count": null,
   "metadata": {},
   "outputs": [],
   "source": [
    "try:\n",
    "    for site in test_sites:\n",
    "        slice_name=f\"{slice_name_base}_{site}\"    slice = fablib.get_slice(name=slice_name)\n",
    "        \n",
    "        slice = fablib.get_slice(slice_name)\n",
    "        for node in slice.get_nodes():\n",
    "            print(f\"Node: {node.get_name()}, Host: {node.get_host()}, SSH Test: {node.test_ssh()}\")\n",
    "except Exception as e:\n",
    "    print(f\"Fail: {e}\")"
   ]
  },
  {
   "cell_type": "markdown",
   "metadata": {
    "tags": []
   },
   "source": [
    "## Delete Slice\n",
    "\n",
    "Please delete your slicd when you are done with your experiment."
   ]
  },
  {
   "cell_type": "code",
   "execution_count": null,
   "metadata": {},
   "outputs": [],
   "source": [
    "slice_name=f\"{slice_name_base}\"\n",
    "print(f\"Getting slice {slice_name} \")\n",
    "try: \n",
    "    slice = fablib.get_slice(slice_name)\n",
    "    slice.delete()\n",
    "except Exception as e:\n",
    "    print(f\"Fail: {e}\")"
   ]
  },
  {
   "cell_type": "code",
   "execution_count": null,
   "metadata": {},
   "outputs": [],
   "source": []
  },
  {
   "cell_type": "code",
   "execution_count": null,
   "metadata": {},
   "outputs": [],
   "source": []
  }
 ],
 "metadata": {
  "kernelspec": {
   "display_name": "Python 3 (ipykernel)",
   "language": "python",
   "name": "python3"
  },
  "language_info": {
   "codemirror_mode": {
    "name": "ipython",
    "version": 3
   },
   "file_extension": ".py",
   "mimetype": "text/x-python",
   "name": "python",
   "nbconvert_exporter": "python",
   "pygments_lexer": "ipython3",
   "version": "3.9.2"
  }
 },
 "nbformat": 4,
 "nbformat_minor": 4
}
