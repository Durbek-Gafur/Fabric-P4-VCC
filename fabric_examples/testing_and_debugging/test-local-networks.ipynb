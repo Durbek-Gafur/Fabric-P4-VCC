{
 "cells": [
  {
   "cell_type": "markdown",
   "metadata": {
    "tags": []
   },
   "source": [
    "# Hello, FABRIC: Create your first FABRIC slice\n",
    "\n",
    "## Configure the Environment\n",
    "\n",
    "Set the environment variable that will be used by this notebook. If you are using the FABRIC, JupyterHub some of the environment will be automatically configured for you.  You will only need to set your bastion username, upload your bastion private key, and set the path to where you put your bastion private key. Your bastion username and private key should already be in your possession.  If you do not have a bastion username and private key, please contact the FABRIC admins using the [FABRIC User Forum](https://learn.fabric-testbed.net/forums/) \n",
    "\n",
    "If you are using the FABRIC API outside of the JupyterHub you will need to configure all of the environment variables. Defaults below will be correct in many situations but you will need to confirm your configuration.  If you have questions about this configuration, please contact the FABRIC admins using the [FABRIC User Forum](https://learn.fabric-testbed.net/forums/) \n",
    "\n",
    "More information about accessing your experiments through the FABRIC bastion hosts can be found [here](https://learn.fabric-testbed.net/knowledge-base/logging-into-fabric-vms/)."
   ]
  },
  {
   "cell_type": "markdown",
   "metadata": {
    "tags": []
   },
   "source": [
    "#### Configure the Experiment Parameters\n",
    "\n"
   ]
  },
  {
   "cell_type": "code",
   "execution_count": 1,
   "metadata": {},
   "outputs": [],
   "source": [
    "slice_name_base = 'MySlice_Components_Test'\n",
    "#test_sites = [ 'UKY', 'RENC', 'LBNL' ]\n",
    "#test_sites = [ 'TACC', 'MAX', 'UTAH', 'NCSA', 'MICH', 'WASH', 'DALL', 'SALT', 'STAR']\n",
    "test_sites = [ 'MICH' ]\n",
    "\n",
    "node_name_base = 'node'\n",
    "#image = 'default_centos_8'\n",
    "image = 'default_ubuntu_20'\n",
    "#image = 'default_rocky_8'\n",
    "cores = 2\n",
    "ram = 8\n",
    "disk = 10\n",
    "\n",
    "vlan = None\n",
    "run_non_net_tests=True\n",
    "basic_node_count=2\n",
    "\n",
    "#vlan = '1234'\n",
    "#run_non_net_tests=False\n",
    "#basic_node_count=0\n",
    "\n",
    "worker_id = None\n",
    "#worker_id = 'star-w6.fabric-testbed.net' "
   ]
  },
  {
   "cell_type": "code",
   "execution_count": 3,
   "metadata": {},
   "outputs": [],
   "source": [
    "import os\n",
    "\n",
    "# If you are using the FABRIC JupyterHub, the following three evnrionment vars\n",
    "# were automatically provided when you logged in.\n",
    "#os.environ['FABRIC_CREDMGR_HOST']='cm.fabric-testbed.net'\n",
    "#os.environ['FABRIC_ORCHESTRATOR_HOST']='orchestrator.fabric-testbed.net'\n",
    "#os.environ['FABRIC_TOKEN_LOCATION']=os.environ['HOME']+'/work/fabric_token.json'\n",
    "\n",
    "# Bastion IPs\n",
    "os.environ['FABRIC_BASTION_HOST'] = 'bastion-1.fabric-testbed.net'\n",
    "\n",
    "# Set your Bastion username and private key\n",
    "os.environ['FABRIC_BASTION_USERNAME']='pruth_0031379841'\n",
    "os.environ['FABRIC_BASTION_KEY_LOCATION']=os.environ['HOME']+'/work/.ssh/id_rsa_fabric'\n",
    "\n",
    "# Set the keypair FABRIC will install in your slice. \n",
    "os.environ['FABRIC_SLICE_PRIVATE_KEY_FILE']=os.environ['HOME']+'/.ssh/id_rsa'\n",
    "os.environ['FABRIC_SLICE_PUBLIC_KEY_FILE']=os.environ['HOME']+'/.ssh/id_rsa.pub'\n",
    "\n",
    "# If your slice private key uses a passphrase, set the passphrase\n",
    "#from getpass import getpass\n",
    "#print('Please input private key passphrase. Press enter for no passphrase.')\n",
    "#os.environ['FABRIC_SLICE_PRIVATE_KEY_PASSPHRASE']=getpass()"
   ]
  },
  {
   "cell_type": "markdown",
   "metadata": {
    "tags": []
   },
   "source": [
    "## Setup the Experiment\n",
    "\n",
    "#### Import the FABRIC API"
   ]
  },
  {
   "cell_type": "code",
   "execution_count": 4,
   "metadata": {
    "tags": []
   },
   "outputs": [],
   "source": [
    "import json\n",
    "import traceback\n",
    "from fabrictestbed_extensions.fablib.fablib import fablib"
   ]
  },
  {
   "cell_type": "markdown",
   "metadata": {},
   "source": [
    "#### Create the FABRIC Proxies\n",
    "\n",
    "The FABRIC API is used via proxy objects that manage connections to the control framework.  "
   ]
  },
  {
   "cell_type": "markdown",
   "metadata": {
    "tags": []
   },
   "source": [
    "#### (Optional) Query Available Resources\n",
    "\n",
    "This optional command queries the FABRIC services to find the available resources. It may be useful for finding a site with available capacity."
   ]
  },
  {
   "cell_type": "code",
   "execution_count": 5,
   "metadata": {},
   "outputs": [
    {
     "name": "stdout",
     "output_type": "stream",
     "text": [
      "Available Resources: TACC [Site] : { cpu: 10/10 , core: 320/320 , ram: 2,560/2,560 G, disk: 116,400/116,400 G, unit: 5/5 }\n",
      "\tComponents:\n",
      "\t\tNVME-P4510:  NVME P4510 { disk: 15,360/15,360 G, unit: 16/16 }\n",
      "\t\tGPU-RTX6000:  GPU RTX6000 { unit: 6/6 }\n",
      "\t\tGPU-Tesla T4:  GPU Tesla T4 { unit: 4/4 }\n",
      "\t\tSharedNIC-ConnectX-6:  SharedNIC ConnectX-6 { unit: 635/635 }\n",
      "\t\tSmartNIC-ConnectX-6:  SmartNIC ConnectX-6 { unit: 2/2 }\n",
      "\t\tSmartNIC-ConnectX-5:  SmartNIC ConnectX-5 { unit: 4/4 }\n",
      "\tSite Interfaces:\n",
      "\t\tTACC_DALL: TrunkPort { bw: 100/100 Gbps}\n",
      "UTAH [Site] : { cpu: 10/10 , core: 320/320 , ram: 2,560/2,560 G, disk: 116,400/116,400 G, unit: 5/5 }\n",
      "\tComponents:\n",
      "\t\tSmartNIC-ConnectX-5:  SmartNIC ConnectX-5 { unit: 4/4 }\n",
      "\t\tNVME-P4510:  NVME P4510 { disk: 15,360/15,360 G, unit: 16/16 }\n",
      "\t\tSharedNIC-ConnectX-6:  SharedNIC ConnectX-6 { unit: 635/635 }\n",
      "\t\tGPU-RTX6000:  GPU RTX6000 { unit: 5/5 }\n",
      "\t\tGPU-Tesla T4:  GPU Tesla T4 { unit: 4/4 }\n",
      "\t\tSmartNIC-ConnectX-6:  SmartNIC ConnectX-6 { unit: 2/2 }\n",
      "\tSite Interfaces:\n",
      "\t\tUTAH_STAR: TrunkPort { bw: 100/100 Gbps}\n",
      "WASH [Site] : { cpu: 6/6 , core: 192/192 , ram: 1,536/1,536 G, disk: 60,600/60,600 G, unit: 3/3 }\n",
      "\tComponents:\n",
      "\t\tNVME-P4510:  NVME P4510 { disk: 9,600/9,600 G, unit: 10/10 }\n",
      "\t\tGPU-RTX6000:  GPU RTX6000 { unit: 3/3 }\n",
      "\t\tGPU-Tesla T4:  GPU Tesla T4 { unit: 2/2 }\n",
      "\t\tSharedNIC-ConnectX-6:  SharedNIC ConnectX-6 { unit: 381/381 }\n",
      "\t\tSmartNIC-ConnectX-6:  SmartNIC ConnectX-6 { unit: 2/2 }\n",
      "\t\tSmartNIC-ConnectX-5:  SmartNIC ConnectX-5 { unit: 2/2 }\n",
      "\tSite Interfaces:\n",
      "\t\tWASH_STAR: TrunkPort { bw: 100/100 Gbps}\n",
      "\t\tWASH_MAX: TrunkPort { bw: 10/10 Gbps}\n",
      "\t\tWASH_DALL: TrunkPort { bw: 10/10 Gbps}\n",
      "MICH [Site] : { cpu: 6/6 , core: 192/192 , ram: 1,536/1,536 G, disk: 60,600/60,600 G, unit: 3/3 }\n",
      "\tComponents:\n",
      "\t\tSharedNIC-ConnectX-6:  SharedNIC ConnectX-6 { unit: 381/381 }\n",
      "\t\tNVME-P4510:  NVME P4510 { disk: 9,600/9,600 G, unit: 10/10 }\n",
      "\t\tGPU-Tesla T4:  GPU Tesla T4 { unit: 2/2 }\n",
      "\t\tGPU-RTX6000:  GPU RTX6000 { unit: 3/3 }\n",
      "\t\tSmartNIC-ConnectX-5:  SmartNIC ConnectX-5 { unit: 2/2 }\n",
      "\t\tSmartNIC-ConnectX-6:  SmartNIC ConnectX-6 { unit: 2/2 }\n",
      "\tSite Interfaces:\n",
      "\t\tMICH_STAR: TrunkPort { bw: 100/100 Gbps}\n",
      "SALT [Site] : { cpu: 6/6 , core: 176/192 , ram: 1,472/1,536 G, disk: 60,520/60,600 G, unit: 3/3 }\n",
      "\tComponents:\n",
      "\t\tNVME-P4510:  NVME P4510 { disk: 9,600/9,600 G, unit: 8/10 }\n",
      "\t\tGPU-Tesla T4:  GPU Tesla T4 { unit: 1/2 }\n",
      "\t\tGPU-RTX6000:  GPU RTX6000 { unit: 3/3 }\n",
      "\t\tSharedNIC-ConnectX-6:  SharedNIC ConnectX-6 { unit: 378/381 }\n",
      "\t\tSmartNIC-ConnectX-5:  SmartNIC ConnectX-5 { unit: 1/2 }\n",
      "\t\tSmartNIC-ConnectX-6:  SmartNIC ConnectX-6 { unit: 1/2 }\n",
      "\tSite Interfaces:\n",
      "STAR [Site] : { cpu: 12/12 , core: 384/384 , ram: 3,072/3,072 G, disk: 121,200/121,200 G, unit: 6/6 }\n",
      "\tComponents:\n",
      "\t\tSharedNIC-ConnectX-6:  SharedNIC ConnectX-6 { unit: 762/762 }\n",
      "\t\tNVME-P4510:  NVME P4510 { disk: 20,000/20,000 G, unit: 20/20 }\n",
      "\t\tGPU-Tesla T4:  GPU Tesla T4 { unit: 6/6 }\n",
      "\t\tGPU-RTX6000:  GPU RTX6000 { unit: 6/6 }\n",
      "\t\tSmartNIC-ConnectX-5:  SmartNIC ConnectX-5 { unit: 6/6 }\n",
      "\t\tSmartNIC-ConnectX-6:  SmartNIC ConnectX-6 { unit: 2/2 }\n",
      "\tSite Interfaces:\n",
      "\t\tSTAR_WASH: TrunkPort { bw: 100/100 Gbps}\n",
      "\t\tSTAR_MICH: TrunkPort { bw: 100/100 Gbps}\n",
      "\t\tSTAR_DALL: TrunkPort { bw: 100/100 Gbps}\n",
      "\t\tSTAR_UTAH: TrunkPort { bw: 100/100 Gbps}\n",
      "\t\tSTAR_NCSA: TrunkPort { bw: 100/100 Gbps}\n",
      "\t\tSTAR_NCSA: TrunkPort { bw: 100/100 Gbps}\n",
      "NCSA [Site] : { cpu: 6/6 , core: 192/192 , ram: 1,536/1,536 G, disk: 60,600/60,600 G, unit: 3/3 }\n",
      "\tComponents:\n",
      "\t\tNVME-P4510:  NVME P4510 { disk: 9,600/9,600 G, unit: 10/10 }\n",
      "\t\tGPU-Tesla T4:  GPU Tesla T4 { unit: 2/2 }\n",
      "\t\tGPU-RTX6000:  GPU RTX6000 { unit: 3/3 }\n",
      "\t\tSmartNIC-ConnectX-5:  SmartNIC ConnectX-5 { unit: 2/2 }\n",
      "\t\tSmartNIC-ConnectX-6:  SmartNIC ConnectX-6 { unit: 2/2 }\n",
      "\t\tSharedNIC-ConnectX-6:  SharedNIC ConnectX-6 { unit: 381/381 }\n",
      "\tSite Interfaces:\n",
      "\t\tNCSA_STAR: TrunkPort { bw: 100/100 Gbps}\n",
      "\t\tNCSA_STAR: TrunkPort { bw: 100/100 Gbps}\n",
      "MAX [Site] : { cpu: 10/10 , core: 306/320 , ram: 2,480/2,560 G, disk: 115,980/116,400 G, unit: 5/5 }\n",
      "\tComponents:\n",
      "\t\tSmartNIC-ConnectX-6:  SmartNIC ConnectX-6 { unit: 2/2 }\n",
      "\t\tNVME-P4510:  NVME P4510 { disk: 15,360/15,360 G, unit: 16/16 }\n",
      "\t\tGPU-Tesla T4:  GPU Tesla T4 { unit: 4/4 }\n",
      "\t\tGPU-RTX6000:  GPU RTX6000 { unit: 6/6 }\n",
      "\t\tSharedNIC-ConnectX-6:  SharedNIC ConnectX-6 { unit: 631/635 }\n",
      "\t\tSmartNIC-ConnectX-5:  SmartNIC ConnectX-5 { unit: 4/4 }\n",
      "\tSite Interfaces:\n",
      "\t\tMAX_WASH: TrunkPort { bw: 100/100 Gbps}\n",
      "DALL [Site] : { cpu: 6/6 , core: 192/192 , ram: 1,536/1,536 G, disk: 60,600/60,600 G, unit: 3/3 }\n",
      "\tComponents:\n",
      "\t\tGPU-RTX6000:  GPU RTX6000 { unit: 3/3 }\n",
      "\t\tGPU-Tesla T4:  GPU Tesla T4 { unit: 2/2 }\n",
      "\t\tNVME-P4510:  NVME P4510 { disk: 9,600/9,600 G, unit: 10/10 }\n",
      "\t\tSharedNIC-ConnectX-6:  SharedNIC ConnectX-6 { unit: 381/381 }\n",
      "\t\tSmartNIC-ConnectX-6:  SmartNIC ConnectX-6 { unit: 2/2 }\n",
      "\t\tSmartNIC-ConnectX-5:  SmartNIC ConnectX-5 { unit: 2/2 }\n",
      "\tSite Interfaces:\n",
      "\t\tDALL_TACC: TrunkPort { bw: 10/10 Gbps}\n",
      "\t\tDALL_STAR: TrunkPort { bw: 100/100 Gbps}\n",
      "\t\tDALL_WASH: TrunkPort { bw: 10/10 Gbps}\n",
      "MASS [Site]\n",
      "\tComponents:\n",
      "\tSite Interfaces:\n",
      "Links:\n",
      "\tport+ncsa-data-sw:HundredGigE0/0/0/22.3000 to port+star-data-sw:HundredGigE0/0/0/31.3000[L2Path]: ['STAR_NCSA', 'NCSA_STAR']\n",
      "\tport+ncsa-data-sw:HundredGigE0/0/0/23.3710 to port+star-data-sw:HundredGigE0/0/0/30.3710[L2Path]: ['STAR_NCSA', 'NCSA_STAR']\n",
      "\tport+mich-data-sw:HundredGigE0/0/0/23.3000 to port+star-data-sw:HundredGigE0/0/0/32.3000[L2Path]: ['STAR_MICH', 'MICH_STAR']\n",
      "\tport+dall-data-sw:HundredGigE0/0/0/23.3000 to port+star-data-sw:HundredGigE0/0/0/34.3000[L2Path]: ['STAR_DALL', 'DALL_STAR']\n",
      "\tport+star-data-sw:HundredGigE0/0/0/30.3722 to port+utah-data-sw:HundredGigE0/0/0/22.2090[L2Path]: ['STAR_UTAH', 'UTAH_STAR']\n",
      "\tport+dall-data-sw:TenGigE0/0/0/12/0.2004 to port+tacc-data-sw:HundredGigE0/0/0/23.3162[L2Path]: ['TACC_DALL', 'DALL_TACC']\n",
      "\tport+dall-data-sw:TenGigE0/0/0/12/0.2003 to port+wash-data-sw:TenGigE0/0/0/12/0.2003[L2Path]: ['WASH_DALL', 'DALL_WASH']\n",
      "\tport+star-data-sw:HundredGigE0/0/0/35.3000 to port+wash-data-sw:HundredGigE0/0/0/23.3000[L2Path]: ['WASH_STAR', 'STAR_WASH']\n",
      "\tport+max-data-sw:HundredGigE0/0/0/22.2040 to port+wash-data-sw:TenGigE0/0/0/12/0.2040[L2Path]: ['WASH_MAX', 'MAX_WASH']\n"
     ]
    },
    {
     "data": {
      "image/png": "[encoded data removed]",
      "text/plain": [
       "<Figure size 432x288 with 1 Axes>"
      ]
     },
     "metadata": {},
     "output_type": "display_data"
    }
   ],
   "source": [
    "try:\n",
    "    available_resources = fablib.get_available_resources()\n",
    "    print(f\"Available Resources: {available_resources}\")\n",
    "    available_resources.draw()\n",
    "except Exception as e:\n",
    "    print(f\"Error: {e}\")\n",
    "    traceback.print_exc()"
   ]
  },
  {
   "cell_type": "markdown",
   "metadata": {
    "tags": []
   },
   "source": [
    "## Create the Experiment Slice\n",
    "\n",
    "Load aggragate ads."
   ]
  },
  {
   "cell_type": "code",
   "execution_count": 6,
   "metadata": {},
   "outputs": [
    {
     "name": "stdout",
     "output_type": "stream",
     "text": [
      "Reading ./aggregates/RENC.json\n",
      "Reading ./aggregates/TACC.json\n",
      "Reading ./aggregates/MAX.json\n",
      "Reading ./aggregates/LBNL.json\n",
      "Reading ./aggregates/NCSA.json\n",
      "Reading ./aggregates/UTAH.json\n",
      "Reading ./aggregates/UKY.json\n",
      "Reading ./aggregates/SALT.json\n",
      "Reading ./aggregates/MICH.json\n",
      "Reading ./aggregates/STAR.json\n",
      "Reading ./aggregates/DALL.json\n",
      "Reading ./aggregates/WASH.json\n"
     ]
    }
   ],
   "source": [
    "import glob\n",
    "import json\n",
    "\n",
    "#aggregate_json_dir=os.environ['HOME']+\"/work/git/jupyter-examples/fabric_examples/testing_and_debugging/aggregates/\"\n",
    "aggregate_json_dir=\"./aggregates/\"\n",
    "\n",
    "aggregates = {}\n",
    "aggregate_files = glob.glob(aggregate_json_dir+\"*.json\")\n",
    "for file_name in aggregate_files:\n",
    "    print(f\"Reading {file_name}\")\n",
    "    site_name = file_name.replace(aggregate_json_dir,\"\",1).split(\".\")[0]\n",
    "    #print(f\"{site_name}\")\n",
    "    with open(file_name, 'r') as infile:\n",
    "        site_info = json.load(infile)\n",
    "    #print(f\"{site_json}\")\n",
    "    aggregates[site_name] = site_info\n",
    "    \n",
    "    \n",
    "    \n",
    "if worker_id:    \n",
    "    # Hack to remove most workers and test only one\n",
    "    site_info = aggregates[test_sites[0]]\n",
    "    print(f\"worker_id: {worker_id}\")\n",
    "    target_worker_info = {}\n",
    "    for worker in site_info['Nodes']:\n",
    "        #print(f\"site_info: {site_info}\")\n",
    "        #print(f\"worker['Name'] = {worker['Name']}\")\n",
    "        if worker['Name'] == worker_id:\n",
    "            print(f\"worker['Name'] = {worker['Name']}\")\n",
    "            target_worker_info = worker\n",
    "            break\n",
    "\n",
    "    site_info['Nodes'] = [ worker ]\n",
    "\n",
    "    site_info = aggregates[test_sites[0]]\n",
    "\n",
    "\n",
    "    print(json.dumps(site_info['Nodes'], indent=4, sort_keys=True))\n"
   ]
  },
  {
   "cell_type": "markdown",
   "metadata": {
    "tags": []
   },
   "source": [
    "### Create Slice\n",
    "\n",
    "<img src=\"./figs/SingleNode.png\" width=\"20%\"><br>\n",
    "\n",
    "Create a single node with basic compute capabilities. The submit function will block until the node is ready and will display a progress bar.\n"
   ]
  },
  {
   "cell_type": "code",
   "execution_count": 7,
   "metadata": {},
   "outputs": [
    {
     "name": "stdout",
     "output_type": "stream",
     "text": [
      "Creating slice MySlice_Components_Test\n",
      "MICH\n",
      "mich-w1.fabric-testbed.net\n",
      "slice name: mich-w1.fabric-testbed.net\n",
      "mich-w2.fabric-testbed.net\n",
      "slice name: mich-w2.fabric-testbed.net\n",
      "mich-w3.fabric-testbed.net\n",
      "slice name: mich-w3.fabric-testbed.net\n"
     ]
    }
   ],
   "source": [
    "slice_name=f\"{slice_name_base}\"\n",
    "print(f\"Creating slice {slice_name}\")\n",
    "\n",
    "networks = []\n",
    "\n",
    "try:\n",
    "    slice = fablib.new_slice(slice_name)\n",
    "    for site in test_sites:\n",
    "        print(f\"{site}\")\n",
    "        site_info = aggregates[site]\n",
    "        \n",
    "        net1_ifaces = []\n",
    "        net2_ifaces = []\n",
    "        netBasic_ifaces = []\n",
    "            \n",
    "        for node_info in site_info['Nodes']:\n",
    "            print(f\"{node_info['Name']}\")\n",
    "            worker = node_info['Name']\n",
    "            worker_short_name = worker.split(\".\")[0]\n",
    "            print(f\"slice name: {worker}\")\n",
    "            node_num = 0\n",
    "            \n",
    "            for basicNode in range(basic_node_count):\n",
    "                node_num += 1\n",
    "\n",
    "                node_name = f\"{node_name_base}_{worker_short_name}_{node_num}_BASIC\"\n",
    "                # Add node\n",
    "                node = slice.add_node(name=node_name, site=site)\n",
    "                node.set_capacities(cores=cores, ram=ram, disk=disk)\n",
    "                node.set_image(image)\n",
    "                node.set_host(worker)\n",
    "                \n",
    "                [iface1] = node.add_component(model=\"NIC_Basic\", name=node_name).get_interfaces()\n",
    "                netBasic_ifaces.append(iface1)\n",
    "\n",
    "            skipped_first_cx6 = False\n",
    "            skipped_first_cx5 = False\n",
    "            cx6_count = 0\n",
    "            cx5_count = 0\n",
    "            for component_info in node_info['Components']:\n",
    "                if not run_non_net_tests and component_info['Type'] != \"EthernetCardPF\":\n",
    "                    print(f\"Skipping component: {component_info['Type']} - {component_info['Model']}\")\n",
    "                    continue\n",
    "                \n",
    "                \n",
    "                if not skipped_first_cx6 and component_info['Model'] == 'ConnectX-6':\n",
    "                    skipped_first_cx6 = True\n",
    "                    continue\n",
    "\n",
    "                if cx6_count == 0 and component_info['Model'] == 'ConnectX-6':\n",
    "                    cx6_count += 1\n",
    "                    continue\n",
    "            \n",
    "                if cx5_count == 0 and component_info['Model'] == 'ConnectX-5':\n",
    "                    cx5_count += 1\n",
    "                    continue\n",
    "                    \n",
    "                node_num += 1\n",
    "\n",
    "                node_name = f\"{node_name_base}_{worker_short_name}_{node_num}_{component_info['Model'].replace(' ','').replace('/','-')}\"\n",
    "                # Add node\n",
    "                node = slice.add_node(name=node_name, site=site)\n",
    "                node.set_capacities(cores=cores, ram=ram, disk=disk)\n",
    "                node.set_image(image)\n",
    "                node.set_host(worker)\n",
    "\n",
    "\n",
    "                # NIC_Basic \n",
    "                # NIC_ConnectX_6\n",
    "                # NIC_ConnectX_5\n",
    "                # NVME_P4510\n",
    "                # GPU_TeslaT4\n",
    "                # GPU_RTX6000\n",
    "                fablib_compenent_model = None\n",
    "                if component_info['Type'] == \"EthernetCardPF\" and component_info['Model'] == \"ConnectX-6\":\n",
    "                    fablib_compenent_model = 'NIC_ConnectX_6'\n",
    "                    cx6_count = 0\n",
    "                    [iface1,iface2] = node.add_component(model=fablib_compenent_model, name=f\"{node_name}_{fablib_compenent_model}\").get_interfaces()\n",
    "                    if vlan:\n",
    "                        iface1.set_vlan(vlan=vlan)\n",
    "                        iface2.set_vlan(vlan=vlan)\n",
    "                    net1_ifaces.append(iface1)\n",
    "                    net2_ifaces.append(iface2)\n",
    "                    \n",
    "                elif component_info['Type'] == \"EthernetCardPF\" and component_info['Model'] == \"ConnectX-5\":\n",
    "                    fablib_compenent_model = 'NIC_ConnectX_5'\n",
    "                    cx5_count = 0\n",
    "                    [iface1,iface2] = node.add_component(model=fablib_compenent_model, name=f\"{node_name}_{fablib_compenent_model}\").get_interfaces()\n",
    "                    if vlan:\n",
    "                        iface1.set_vlan(vlan=vlan)\n",
    "                        iface2.set_vlan(vlan=vlan)\n",
    "                    net1_ifaces.append(iface1)\n",
    "                    net2_ifaces.append(iface2)\n",
    "                elif component_info['Type'] == \"NVMe\" and component_info['Model'] == \"P4510\":\n",
    "                    fablib_compenent_model = 'NVME_P4510'\n",
    "                    node.add_component(model=fablib_compenent_model, name=f\"{node_name}_{fablib_compenent_model}\")\n",
    "                elif component_info['Type'] == \"GPU\" and component_info['Model'] == \"Tesla T4\":\n",
    "                    fablib_compenent_model = 'GPU_TeslaT4'\n",
    "                    node.add_component(model=fablib_compenent_model, name=f\"{node_name}_{fablib_compenent_model}\")\n",
    "                elif component_info['Type'] == \"GPU\" and component_info['Model'] == \"Quadro RTX 6000/8000\":\n",
    "                    fablib_compenent_model = 'GPU_RTX6000'\n",
    "                    node.add_component(model=fablib_compenent_model, name=f\"{node_name}_{fablib_compenent_model}\")\n",
    "                else:\n",
    "                    print(f\"Sould not Get Here: Skipping component: {component_info['Type']} - {component_info['Model']}\")\n",
    "\n",
    "    \n",
    "        #Add networks\n",
    "        if len(net1_ifaces) > 1:\n",
    "            net1 = slice.add_l2network(name=f'{site}_net1', interfaces=net1_ifaces)\n",
    "            networks.append({ net1.get_name(): net1_ifaces })\n",
    "            pass\n",
    "        else:\n",
    "            print(f\"Skipping net1_ifaces. len(net1_ifaces) = {len(net1_ifaces)}\")\n",
    "            \n",
    "        if len(net2_ifaces) > 1:\n",
    "            net2 = slice.add_l2network(name=f'{site}_net2', interfaces=net2_ifaces)\n",
    "            networks.append({ net2.get_name(): net2_ifaces })\n",
    "            pass\n",
    "        else:\n",
    "            print(f\"Skipping net1_ifaces. len(net2_ifaces) = {len(net2_ifaces)}\")\n",
    "            \n",
    "        if len(netBasic_ifaces) > 1:\n",
    "            netBasic_ifaces = slice.add_l2network(name=f'{site}_netBasic_ifaces', interfaces=netBasic_ifaces)\n",
    "            networks.append({ netBasic_ifaces.get_name(): netBasic_ifaces })\n",
    "            pass\n",
    "\n",
    "        else:\n",
    "            print(f\"Skipping net1_ifaces. len(netBasic_ifaces) = {len(netBasic_ifaces)}\")\n",
    "            \n",
    "        \n",
    "\n",
    "    #Submit Slice Request\n",
    "    slice.submit(wait_progress=False)\n",
    "except Exception as e:\n",
    "    print(f\"Slice Failed: {e}\")\n",
    "    traceback.print_exc()\n"
   ]
  },
  {
   "cell_type": "code",
   "execution_count": 8,
   "metadata": {
    "tags": []
   },
   "outputs": [
    {
     "name": "stdout",
     "output_type": "stream",
     "text": [
      "Waiting for slice MySlice_Components_Test \n",
      "Running fablib.get_slice_manager().slices(): elapsed time: 0.04196000099182129 seconds\n",
      "Waiting for slice .."
     ]
    },
    {
     "ename": "KeyboardInterrupt",
     "evalue": "",
     "output_type": "error",
     "traceback": [
      "\u001b[0;31m---------------------------------------------------------------------------\u001b[0m",
      "\u001b[0;31mKeyboardInterrupt\u001b[0m                         Traceback (most recent call last)",
      "\u001b[0;32m/var/folders/_l/8dq3pgzx6bjgt8qrr1m9jgc80000gp/T/ipykernel_66076/728022870.py\u001b[0m in \u001b[0;36m<module>\u001b[0;34m\u001b[0m\n\u001b[1;32m     10\u001b[0m \u001b[0;34m\u001b[0m\u001b[0m\n\u001b[1;32m     11\u001b[0m     \u001b[0;31m#Wait for ssh to be active\u001b[0m\u001b[0;34m\u001b[0m\u001b[0;34m\u001b[0m\u001b[0;34m\u001b[0m\u001b[0m\n\u001b[0;32m---> 12\u001b[0;31m     \u001b[0mslice\u001b[0m\u001b[0;34m.\u001b[0m\u001b[0mwait_ssh\u001b[0m\u001b[0;34m(\u001b[0m\u001b[0mprogress\u001b[0m\u001b[0;34m=\u001b[0m\u001b[0;32mTrue\u001b[0m\u001b[0;34m,\u001b[0m \u001b[0mtimeout\u001b[0m\u001b[0;34m=\u001b[0m\u001b[0;36m600\u001b[0m\u001b[0;34m,\u001b[0m\u001b[0minterval\u001b[0m\u001b[0;34m=\u001b[0m\u001b[0;36m60\u001b[0m\u001b[0;34m)\u001b[0m\u001b[0;34m\u001b[0m\u001b[0;34m\u001b[0m\u001b[0m\n\u001b[0m\u001b[1;32m     13\u001b[0m     \u001b[0;31m#time.sleep(30)\u001b[0m\u001b[0;34m\u001b[0m\u001b[0;34m\u001b[0m\u001b[0;34m\u001b[0m\u001b[0m\n\u001b[1;32m     14\u001b[0m \u001b[0;34m\u001b[0m\u001b[0m\n",
      "\u001b[0;32m~/Library/Python/3.9/lib/python/site-packages/fabrictestbed_extensions/fablib/slice.py\u001b[0m in \u001b[0;36mwait_ssh\u001b[0;34m(self, timeout, interval, progress)\u001b[0m\n\u001b[1;32m    389\u001b[0m \u001b[0;34m\u001b[0m\u001b[0m\n\u001b[1;32m    390\u001b[0m         \u001b[0;31m#Wait for the slice to be stable ok\u001b[0m\u001b[0;34m\u001b[0m\u001b[0;34m\u001b[0m\u001b[0;34m\u001b[0m\u001b[0m\n\u001b[0;32m--> 391\u001b[0;31m         \u001b[0mself\u001b[0m\u001b[0;34m.\u001b[0m\u001b[0mwait\u001b[0m\u001b[0;34m(\u001b[0m\u001b[0mtimeout\u001b[0m\u001b[0;34m=\u001b[0m\u001b[0mtimeout\u001b[0m\u001b[0;34m,\u001b[0m\u001b[0minterval\u001b[0m\u001b[0;34m=\u001b[0m\u001b[0minterval\u001b[0m\u001b[0;34m,\u001b[0m\u001b[0mprogress\u001b[0m\u001b[0;34m=\u001b[0m\u001b[0mprogress\u001b[0m\u001b[0;34m)\u001b[0m\u001b[0;34m\u001b[0m\u001b[0;34m\u001b[0m\u001b[0m\n\u001b[0m\u001b[1;32m    392\u001b[0m \u001b[0;34m\u001b[0m\u001b[0m\n\u001b[1;32m    393\u001b[0m         \u001b[0;31m#Test ssh\u001b[0m\u001b[0;34m\u001b[0m\u001b[0;34m\u001b[0m\u001b[0;34m\u001b[0m\u001b[0m\n",
      "\u001b[0;32m~/Library/Python/3.9/lib/python/site-packages/fabrictestbed_extensions/fablib/slice.py\u001b[0m in \u001b[0;36mwait\u001b[0;34m(self, timeout, interval, progress)\u001b[0m\n\u001b[1;32m    364\u001b[0m \u001b[0;34m\u001b[0m\u001b[0m\n\u001b[1;32m    365\u001b[0m             \u001b[0;32mif\u001b[0m \u001b[0mprogress\u001b[0m\u001b[0;34m:\u001b[0m \u001b[0mprint\u001b[0m\u001b[0;34m(\u001b[0m\u001b[0;34m\".\"\u001b[0m\u001b[0;34m,\u001b[0m \u001b[0mend\u001b[0m \u001b[0;34m=\u001b[0m \u001b[0;34m''\u001b[0m\u001b[0;34m)\u001b[0m\u001b[0;34m\u001b[0m\u001b[0;34m\u001b[0m\u001b[0m\n\u001b[0;32m--> 366\u001b[0;31m             \u001b[0mtime\u001b[0m\u001b[0;34m.\u001b[0m\u001b[0msleep\u001b[0m\u001b[0;34m(\u001b[0m\u001b[0minterval\u001b[0m\u001b[0;34m)\u001b[0m\u001b[0;34m\u001b[0m\u001b[0;34m\u001b[0m\u001b[0m\n\u001b[0m\u001b[1;32m    367\u001b[0m \u001b[0;34m\u001b[0m\u001b[0m\n\u001b[1;32m    368\u001b[0m         \u001b[0;32mif\u001b[0m \u001b[0mtime\u001b[0m\u001b[0;34m.\u001b[0m\u001b[0mtime\u001b[0m\u001b[0;34m(\u001b[0m\u001b[0;34m)\u001b[0m \u001b[0;34m>=\u001b[0m \u001b[0mtimeout_start\u001b[0m \u001b[0;34m+\u001b[0m \u001b[0mtimeout\u001b[0m\u001b[0;34m:\u001b[0m\u001b[0;34m\u001b[0m\u001b[0;34m\u001b[0m\u001b[0m\n",
      "\u001b[0;31mKeyboardInterrupt\u001b[0m: "
     ]
    }
   ],
   "source": [
    "import time\n",
    "\n",
    "slice_name=f\"{slice_name_base}\"\n",
    "            \n",
    "try:\n",
    "    print(f\"Waiting for slice {slice_name} \")\n",
    "\n",
    "    #Get Slice\n",
    "    slice = fablib.get_slice(slice_name)\n",
    "\n",
    "    #Wait for ssh to be active\n",
    "    slice.wait_ssh(progress=True, timeout=600,interval=60)\n",
    "    #time.sleep(30)\n",
    "    \n",
    "    #Run post boo config\n",
    "    slice.post_boot_config(verbose=False)\n",
    "except Exception as e:\n",
    "    print(f\"Slice Failed: {e}\")\n",
    "    traceback.print_exc()"
   ]
  },
  {
   "cell_type": "code",
   "execution_count": null,
   "metadata": {},
   "outputs": [],
   "source": [
    "slice_name=f\"{slice_name_base}\"\n",
    "            \n",
    "try:\n",
    "    print(f\"Waiting for slice {slice_name} \")\n",
    "    print(json.dumps(slice.get_interface_map(), indent=4, sort_keys=True))\n",
    "except:\n",
    "    print(\"Error\")"
   ]
  },
  {
   "cell_type": "markdown",
   "metadata": {
    "tags": []
   },
   "source": [
    "### Print the Node's Attributes\n",
    "\n",
    "Each node in the slice has a set of get functions that return the node's attributes."
   ]
  },
  {
   "cell_type": "code",
   "execution_count": null,
   "metadata": {},
   "outputs": [],
   "source": [
    "slice_name=f\"{slice_name_base}\"\n",
    "print(f\"Getting slice {slice_name} \")\n",
    "try: \n",
    "    slice = fablib.get_slice(slice_name)\n",
    " \n",
    "    for node in slice.get_nodes():\n",
    "        print(\"Node:\")\n",
    "        print(f\"   Name              : {node.get_name()}\")\n",
    "        print(f\"   Cores             : {node.get_cores()}\")\n",
    "        print(f\"   RAM               : {node.get_ram()}\")\n",
    "        print(f\"   Disk              : {node.get_disk()}\")\n",
    "        print(f\"   Image             : {node.get_image()}\")\n",
    "        print(f\"   Image Type        : {node.get_image_type()}\")\n",
    "        print(f\"   Host              : {node.get_host()}\")\n",
    "        print(f\"   Site              : {node.get_site()}\")\n",
    "        print(f\"   Management IP     : {node.get_management_ip()}\")\n",
    "        print(f\"   Reservation ID    : {node.get_reservation_id()}\")\n",
    "        print(f\"   Reservation State : {node.get_reservation_state()}\")\n",
    "        print(f\"   SSH Command       : {node.get_ssh_command()}\")\n",
    "        print(f\"   SSH Test Result   : {node.test_ssh()}\")\n",
    "\n",
    "\n",
    "        for component in node.get_components():\n",
    "            print(f\"      Name             : {component.get_name()}\")\n",
    "            print(f\"      Details          : {component.get_details()}\")\n",
    "            print(f\"      Disk (G)         : {component.get_disk()}\")\n",
    "            print(f\"      Units            : {component.get_unit()}\")\n",
    "            print(f\"      PCI Address      : {component.get_pci_addr()}\")\n",
    "            print(f\"      Model            : {component.get_model()}\")\n",
    "            print(f\"      Type             : {component.get_type()}\") \n",
    "        print(f\"   Interfaces        :  \")\n",
    "        for interface in node.get_interfaces():\n",
    "            print(f\"       Name                : {interface.get_name()}\")\n",
    "            print(f\"           Bandwidth           : {interface.get_bandwidth()}\")\n",
    "            print(f\"           VLAN                : {interface.get_vlan()}\")       \n",
    "            print(f\"           OS Interface        : {interface.get_os_interface()}\")       \n",
    "\n",
    "        print()    \n",
    "except Exception as e:\n",
    "    print(f\"Fail: {e}\")"
   ]
  },
  {
   "cell_type": "markdown",
   "metadata": {},
   "source": [
    "### Test SSH"
   ]
  },
  {
   "cell_type": "code",
   "execution_count": null,
   "metadata": {},
   "outputs": [],
   "source": [
    "slice_name=f\"{slice_name_base}\"\n",
    "print(f\"Getting slice {slice_name} \")\n",
    "try: \n",
    "    slice = fablib.get_slice(slice_name)\n",
    "    for node in slice.get_nodes():\n",
    "        print(f\"Node: {node.get_name()}, Host: {node.get_host()}, SSH Test: {node.test_ssh()}\")\n",
    "        \n",
    "except Exception as e:\n",
    "    print(f\"Fail: {e}\")"
   ]
  },
  {
   "cell_type": "markdown",
   "metadata": {
    "tags": []
   },
   "source": [
    "## Accessing the VM\n"
   ]
  },
  {
   "cell_type": "markdown",
   "metadata": {},
   "source": [
    "#### SSH with fablib\n",
    "\n",
    "Most experiments will require automated configuration and execution. You can use the fablib library to execute arbitrary commands on your node. \n",
    "\n",
    "The following code demonstrates how to use fablib to execute a \"Hello, FABRIC\" bash script. The library uses the bastion and VM keys defined at the top of this notebook to jump through the bastion host and execute the script."
   ]
  },
  {
   "cell_type": "code",
   "execution_count": null,
   "metadata": {},
   "outputs": [],
   "source": [
    "slice_name=f\"{slice_name_base}\"\n",
    "print(f\"Getting slice {slice_name} \")\n",
    "try: \n",
    "    slice = fablib.get_slice(slice_name)\n",
    "    for node in slice.get_nodes():\n",
    "        component = node.get_components()[0]\n",
    "        #print(f\"{component.get_type()} - {component.get_model()}\")\n",
    "        if str(component.get_type()) == \"SmartNIC\" and str(component.get_model()) == \"ConnectX-6\":\n",
    "            search_string = \"Mellanox Technologies MT28908 Family [ConnectX-6]\"\n",
    "        elif str(component.get_type()) == \"SmartNIC\" and str(component.get_model()) == \"ConnectX-5\":\n",
    "            search_string = \"Mellanox Technologies MT27800 Family [ConnectX-5]\"\n",
    "        elif str(component.get_type()) == \"NVME\"  and str(component.get_model()) == \"P4510\":\n",
    "            search_string = \"NVMe\"\n",
    "        elif str(component.get_type())== \"GPU\"  and str(component.get_model()) == \"Tesla T4\":\n",
    "            search_string = \"NVIDIA Corporation TU104GL [Tesla T4]\"\n",
    "        elif str(component.get_type()) == \"GPU\"  and str(component.get_model()) == \"RTX6000\":\n",
    "            search_string = \"NVIDIA Corporation TU102GL [Quadro RTX 6000/8000]\"\n",
    "        elif str(component.get_type()) == \"SharedNIC\"  and str(component.get_model()) == \"ConnectX-6\":\n",
    "            search_string = \"Mellanox Technologies MT28908 Family [ConnectX-6 Virtual Function]\"\n",
    "        else:\n",
    "            search_string = \"None\"\n",
    "\n",
    "        #print(f\"search_string: {search_string}\")\n",
    "        stdout, stderr = node.execute(f'lspci')\n",
    "        #print(f\"stdout: {stdout}\")\n",
    "        if search_string in stdout:\n",
    "            print(f\"Node: {node.get_name()}: {component.get_type()} - {component.get_model()} : Success\")\n",
    "        else:\n",
    "            print(f\"Node: {node.get_name()}: {component.get_type()} - {component.get_model()} : Fail\")\n",
    "            \n",
    "        #print(stdout)\n",
    "except Exception as e:\n",
    "    print(f\"Fail: {e}\")"
   ]
  },
  {
   "cell_type": "markdown",
   "metadata": {
    "tags": []
   },
   "source": [
    "## Delete Slice\n",
    "\n",
    "Please delete your slicd when you are done with your experiment."
   ]
  },
  {
   "cell_type": "code",
   "execution_count": null,
   "metadata": {},
   "outputs": [],
   "source": [
    "slice_name=f\"{slice_name_base}\"\n",
    "print(f\"Getting slice {slice_name} \")\n",
    "try: \n",
    "    slice = fablib.get_slice(slice_name)\n",
    "    slice.delete()\n",
    "except Exception as e:\n",
    "    print(f\"Fail: {e}\")"
   ]
  },
  {
   "cell_type": "code",
   "execution_count": null,
   "metadata": {},
   "outputs": [],
   "source": []
  },
  {
   "cell_type": "code",
   "execution_count": null,
   "metadata": {},
   "outputs": [],
   "source": []
  }
 ],
 "metadata": {
  "kernelspec": {
   "display_name": "Python 3 (ipykernel)",
   "language": "python",
   "name": "python3"
  },
  "language_info": {
   "codemirror_mode": {
    "name": "ipython",
    "version": 3
   },
   "file_extension": ".py",
   "mimetype": "text/x-python",
   "name": "python",
   "nbconvert_exporter": "python",
   "pygments_lexer": "ipython3",
   "version": "3.9.2"
  }
 },
 "nbformat": 4,
 "nbformat_minor": 4
}
