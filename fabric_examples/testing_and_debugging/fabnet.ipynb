{
 "cells": [
  {
   "cell_type": "markdown",
   "metadata": {},
   "source": [
    "## This notebook shows how to use Orchestrator APIs for user experiments"
   ]
  },
  {
   "cell_type": "code",
   "execution_count": 1,
   "metadata": {},
   "outputs": [],
   "source": [
    "import os\n",
    "from fabrictestbed.slice_manager import SliceManager, Status, SliceState\n",
    "import json"
   ]
  },
  {
   "cell_type": "code",
   "execution_count": 2,
   "metadata": {},
   "outputs": [],
   "source": [
    "ssh_key_file_priv=os.environ['HOME']+\"/.ssh/id_rsa\"\n",
    "ssh_key_file_pub=os.environ['HOME']+\"/.ssh/id_rsa.pub\"\n",
    "\n",
    "ssh_key_pub = None\n",
    "with open (ssh_key_file_pub, \"r\") as myfile:\n",
    "    ssh_key_pub=myfile.read()\n",
    "    ssh_key_pub=ssh_key_pub.strip()"
   ]
  },
  {
   "cell_type": "code",
   "execution_count": 3,
   "metadata": {},
   "outputs": [],
   "source": [
    "slice_name=\"fabnet\""
   ]
  },
  {
   "cell_type": "markdown",
   "metadata": {},
   "source": [
    "## Create Slice Manager Object\n",
    "Users can request tokens with different Project and Scopes by altering `project_name` and `scope` parameters in the refresh call below."
   ]
  },
  {
   "cell_type": "code",
   "execution_count": 4,
   "metadata": {},
   "outputs": [],
   "source": [
    "slice_manager = SliceManager()\n"
   ]
  },
  {
   "cell_type": "markdown",
   "metadata": {},
   "source": [
    "### Orchestrator API example to query for available resources"
   ]
  },
  {
   "cell_type": "code",
   "execution_count": 5,
   "metadata": {},
   "outputs": [
    {
     "name": "stdout",
     "output_type": "stream",
     "text": [
      "Status: Status.OK\n",
      "Toplogy: RENC [Site] : { cpu: 6/6 , core: 192/192 , ram: 1,536/1,536 G, disk: 60,600/60,600 G, unit: 3/3 }\n",
      "\tComponents:\n",
      "\t\tSharedNIC-ConnectX-6:  SharedNIC ConnectX-6 { unit: 381/381 }\n",
      "\t\tGPU-RTX6000:  GPU RTX6000 { unit: 2/2 }\n",
      "\t\tGPU-Tesla T4:  GPU Tesla T4 { unit: 4/4 }\n",
      "\t\tNVME-P4510:  NVME P4510 { disk: 10,000/10,000 G, unit: 10/10 }\n",
      "\t\tSmartNIC-ConnectX-6:  SmartNIC ConnectX-6 { unit: 2/2 }\n",
      "\t\tSmartNIC-ConnectX-5:  SmartNIC ConnectX-5 { unit: 2/2 }\n",
      "\tSite Interfaces:\n",
      "\t\tRENC_UKY: TrunkPort { bw: 10/10 Gbps}\n",
      "\t\tRENC_LBNL: TrunkPort { bw: 10/10 Gbps}\n",
      "LBNL [Site] : { cpu: 6/6 , core: 192/192 , ram: 1,536/1,536 G, disk: 60,600/60,600 G, unit: 3/3 }\n",
      "\tComponents:\n",
      "\t\tSmartNIC-ConnectX-5:  SmartNIC ConnectX-5 { unit: 2/2 }\n",
      "\t\tSharedNIC-ConnectX-6:  SharedNIC ConnectX-6 { unit: 381/381 }\n",
      "\t\tNVME-P4510:  NVME P4510 { disk: 10,000/10,000 G, unit: 10/10 }\n",
      "\t\tGPU-RTX6000:  GPU RTX6000 { unit: 2/2 }\n",
      "\t\tGPU-Tesla T4:  GPU Tesla T4 { unit: 4/4 }\n",
      "\t\tSmartNIC-ConnectX-6:  SmartNIC ConnectX-6 { unit: 2/2 }\n",
      "\tSite Interfaces:\n",
      "\t\tLBNL_RENC: TrunkPort { bw: 100/100 Gbps}\n",
      "\t\tLBNL_UKY: TrunkPort { bw: 100/100 Gbps}\n",
      "UKY [Site] : { cpu: 6/6 , core: 192/192 , ram: 1,536/1,536 G, disk: 60,600/60,600 G, unit: 3/3 }\n",
      "\tComponents:\n",
      "\t\tGPU-RTX6000:  GPU RTX6000 { unit: 2/2 }\n",
      "\t\tGPU-Tesla T4:  GPU Tesla T4 { unit: 4/4 }\n",
      "\t\tSharedNIC-ConnectX-6:  SharedNIC ConnectX-6 { unit: 381/381 }\n",
      "\t\tNVME-P4510:  NVME P4510 { disk: 10,000/10,000 G, unit: 10/10 }\n",
      "\t\tSmartNIC-ConnectX-6:  SmartNIC ConnectX-6 { unit: 2/2 }\n",
      "\t\tSmartNIC-ConnectX-5:  SmartNIC ConnectX-5 { unit: 2/2 }\n",
      "\tSite Interfaces:\n",
      "\t\tUKY_LBNL: TrunkPort { bw: 100/100 Gbps}\n",
      "\t\tUKY_RENC: TrunkPort { bw: 100/100 Gbps}\n",
      "Links:\n",
      "\tport+lbnl-data-sw:HundredGigE0/0/0/0.2400 to port+renc-data-sw:TenGigE0/0/0/2/0.3981[L2Path]: ['RENC_LBNL', 'LBNL_RENC']\n",
      "\tport+lbnl-data-sw:HundredGigE0/0/0/0.2401 to port+uky-data-sw:HundredGigE0/0/0/0.851[L2Path]: ['UKY_LBNL', 'LBNL_UKY']\n",
      "\tport+renc-data-sw:TenGigE0/0/0/2/0.3999 to port+uky-data-sw:HundredGigE0/0/0/0.859[L2Path]: ['RENC_UKY', 'UKY_RENC']\n"
     ]
    }
   ],
   "source": [
    "status, advertised_topology = slice_manager.resources()\n",
    "\n",
    "print(f\"Status: {status}\")\n",
    "if status == Status.OK:\n",
    "    print(f\"Toplogy: {advertised_topology}\")\n",
    "else:\n",
    "    print(f\"Error: {advertised_topology}\")"
   ]
  },
  {
   "cell_type": "code",
   "execution_count": 6,
   "metadata": {},
   "outputs": [
    {
     "data": {
      "image/png": "[encoded data removed]",
      "text/plain": [
       "<Figure size 432x288 with 1 Axes>"
      ]
     },
     "metadata": {},
     "output_type": "display_data"
    }
   ],
   "source": [
    "if status == Status.OK:\n",
    "    advertised_topology.draw()"
   ]
  },
  {
   "cell_type": "markdown",
   "metadata": {},
   "source": [
    "## Create Slice\n",
    "\n",
    "## Site1\n",
    "- Grab the subnet from NetworkService Sliver for Site 1\n",
    "- Use the subnet to assign IPs to the VMs\n",
    "    - IPV4 Example Subnet Returned: (10.130.1.0/24). Do not use 1st IP Address i.e. 10.130.1.1/24.\n",
    "    ```\n",
    "    ip addr add 10.130.1.2/24 dev eth1\n",
    "    ```\n",
    "    - IPV6 Example Subnet Returned: (2602:fcfb:4:1::0/64)\n",
    "    ```\n",
    "    ip -6 address add 2602:fcfb:4:1::2/64 dev eth1. Do not use 1st IP Address i.e. 2602:fcfb:4:1::1/64.\n",
    "    ```\n",
    "- Add route to the Site 2 Subnet\n",
    "  - IPv4\n",
    "  ```\n",
    "  ip route add 10.129.1.0/24 via 10.130.1.1\n",
    "  ```\n",
    "  - IPv6\n",
    "  ```\n",
    "  ip -6 route add 2602:fcfb:8:1::/64 via 2602:fcfb:4:1::1\n",
    "  ```\n",
    "## Site2\n",
    "- Grab the subnet from NetworkService Sliver for Site 2\n",
    "- Use the subnet to assign IPs to the VMs\n",
    "    - IPV4 Example Subnet Returned: (10.129.1.0/24). Do not use 1st IP Address i.e. 10.129.1.1/24.\n",
    "    ```\n",
    "    ip addr add 10.129.1.2/24 dev eth1\n",
    "    ```\n",
    "    - IPV6 Example Subnet Returned: (2602:fcfb:8:1::0/64). Do not use 1st IP Address i.e. 2602:fcfb:8:1::1/64.\n",
    "    ```\n",
    "    ip -6 address add 2602:fcfb:8:1::2/64 dev eth1\n",
    "    ```\n",
    "- Add route to the Site 2 Subnet\n",
    "  - IPv4\n",
    "  ```\n",
    "  ip route add 10.130.1.0/24 via 10.129.1.1\n",
    "  ```\n",
    "  - IPv6\n",
    "  ```\n",
    "  ip -6 route add 2602:fcfb:4:1::/64 via 2602:fcfb:8:1::1\n",
    "  ```\n",
    "  "
   ]
  },
  {
   "cell_type": "code",
   "execution_count": 7,
   "metadata": {},
   "outputs": [
    {
     "name": "stdout",
     "output_type": "stream",
     "text": [
      "Response Status Status.OK\n",
      "Reservations created [{\n",
      "    \"graph_node_id\": \"be4862d3-07a0-4eb9-bc3a-8511547501f1\",\n",
      "    \"lease_end\": \"2022-02-25 18:41:49\",\n",
      "    \"lease_start\": \"2022-02-24 18:41:49\",\n",
      "    \"pending_state\": \"None_\",\n",
      "    \"reservation_id\": \"5eb500c5-d3f3-4210-a54a-fc6ab8edf596\",\n",
      "    \"reservation_state\": \"Unknown\",\n",
      "    \"slice_id\": \"b39e8a42-536a-40f4-952e-3480047c2a4d\"\n",
      "}, {\n",
      "    \"graph_node_id\": \"67fb736b-7f8a-4507-a572-0e40d96fc87c\",\n",
      "    \"lease_end\": \"2022-02-25 18:41:49\",\n",
      "    \"lease_start\": \"2022-02-24 18:41:49\",\n",
      "    \"pending_state\": \"None_\",\n",
      "    \"reservation_id\": \"25d52b58-48a5-4167-aef3-31d420530abe\",\n",
      "    \"reservation_state\": \"Unknown\",\n",
      "    \"slice_id\": \"b39e8a42-536a-40f4-952e-3480047c2a4d\"\n",
      "}, {\n",
      "    \"graph_node_id\": \"b7048212-b521-41d9-ace0-1e31fe388180\",\n",
      "    \"lease_end\": \"2022-02-25 18:41:49\",\n",
      "    \"lease_start\": \"2022-02-24 18:41:49\",\n",
      "    \"pending_state\": \"None_\",\n",
      "    \"reservation_id\": \"fafc1c8e-924f-4676-b233-f5c44621495e\",\n",
      "    \"reservation_state\": \"Unknown\",\n",
      "    \"slice_id\": \"b39e8a42-536a-40f4-952e-3480047c2a4d\"\n",
      "}, {\n",
      "    \"graph_node_id\": \"1d1420c7-f8d8-4434-bf7a-ec9204b1154a\",\n",
      "    \"lease_end\": \"2022-02-25 18:41:49\",\n",
      "    \"lease_start\": \"2022-02-24 18:41:49\",\n",
      "    \"pending_state\": \"None_\",\n",
      "    \"reservation_id\": \"d221b5c0-bbfb-4aba-86ab-dd4110b19689\",\n",
      "    \"reservation_state\": \"Unknown\",\n",
      "    \"slice_id\": \"b39e8a42-536a-40f4-952e-3480047c2a4d\"\n",
      "}, {\n",
      "    \"graph_node_id\": \"c4a48b78-ffcd-440c-b597-5932e7ac7ecc\",\n",
      "    \"lease_end\": \"2022-02-25 18:41:49\",\n",
      "    \"lease_start\": \"2022-02-24 18:41:49\",\n",
      "    \"pending_state\": \"None_\",\n",
      "    \"reservation_id\": \"565646fd-2f0f-478e-838d-e87fa299d6de\",\n",
      "    \"reservation_state\": \"Unknown\",\n",
      "    \"slice_id\": \"b39e8a42-536a-40f4-952e-3480047c2a4d\"\n",
      "}, {\n",
      "    \"graph_node_id\": \"9006adff-eaf1-4d34-aa8e-7f02cc483397\",\n",
      "    \"lease_end\": \"2022-02-25 18:41:49\",\n",
      "    \"lease_start\": \"2022-02-24 18:41:49\",\n",
      "    \"pending_state\": \"None_\",\n",
      "    \"reservation_id\": \"1b3d6ef1-9201-4551-b6aa-cd14822fc4b8\",\n",
      "    \"reservation_state\": \"Unknown\",\n",
      "    \"slice_id\": \"b39e8a42-536a-40f4-952e-3480047c2a4d\"\n",
      "}]\n"
     ]
    }
   ],
   "source": [
    "from fabrictestbed.slice_editor import ExperimentTopology, Capacities, ComponentType, ComponentModelType, ServiceType\n",
    "# Create topology\n",
    "t = ExperimentTopology()\n",
    "\n",
    "# Set capacities\n",
    "cap = Capacities(core=2, ram=6, disk=10)\n",
    "\n",
    "\n",
    "site1 = \"UKY\"\n",
    "site2 = \"LBNL\"\n",
    "num_nodes = 2\n",
    "name=\"node\"\n",
    "i=0\n",
    "ifcs = []\n",
    "for x in range(num_nodes):\n",
    "    # Add node\n",
    "    nm = f\"{name}-{i}\"\n",
    "    \n",
    "    n = t.add_node(name=f\"{name}-{i}\", site=site1)\n",
    "\n",
    "    # Set properties\n",
    "    n.set_properties(capacities=cap, image_type='qcow2', image_ref='default_rocky_8')\n",
    "    if i == 0:\n",
    "        n.add_component(model_type=ComponentModelType.SmartNIC_ConnectX_6, name=f\"{name}-{i}-nic1\")\n",
    "    elif i == 1:\n",
    "        n.add_component(model_type=ComponentModelType.SmartNIC_ConnectX_5, name=f\"{name}-{i}-nic1\")\n",
    "    else:\n",
    "        n.add_component(model_type=ComponentModelType.SharedNIC_ConnectX_6, name=f\"{name}-{i}-nic1\")\n",
    "    \n",
    "    ifcs.append(n.interface_list[0])\n",
    "        \n",
    "    i += 1\n",
    "\n",
    "t.add_network_service(name=f\"fabnet-{site1}\", nstype=ServiceType.FABNetv4, interfaces=ifcs)\n",
    "\n",
    "ifcs.clear()\n",
    "\n",
    "for x in range(num_nodes):\n",
    "    # Add node\n",
    "    nm = f\"{name}-{i}\"\n",
    "    \n",
    "    n = t.add_node(name=f\"{name}-{i}\", site=site2)\n",
    "\n",
    "    # Set properties\n",
    "    n.set_properties(capacities=cap, image_type='qcow2', image_ref='default_rocky_8')\n",
    "    if i == 0:\n",
    "        n.add_component(model_type=ComponentModelType.SmartNIC_ConnectX_6, name=f\"{name}-{i}-nic1\")\n",
    "    elif i == 1:\n",
    "        n.add_component(model_type=ComponentModelType.SmartNIC_ConnectX_5, name=f\"{name}-{i}-nic1\")\n",
    "    else:\n",
    "        n.add_component(model_type=ComponentModelType.SharedNIC_ConnectX_6, name=f\"{name}-{i}-nic1\")\n",
    "    \n",
    "    ifcs.append(n.interface_list[0])\n",
    "        \n",
    "    i += 1\n",
    "\n",
    "t.add_network_service(name=f\"fabnet-{site2}\", nstype=ServiceType.FABNetv4, interfaces=ifcs)\n",
    "\n",
    "\n",
    "# Generate Slice Graph\n",
    "slice_graph = t.serialize()\n",
    "\n",
    "# Request slice from Orchestrator\n",
    "status, reservations = slice_manager.create(slice_name=slice_name, slice_graph=slice_graph, ssh_key=ssh_key_pub)\n",
    "\n",
    "\n",
    "print(\"Response Status {}\".format(status))\n",
    "if status == Status.OK:\n",
    "    print(\"Reservations created {}\".format(reservations))\n",
    "else:\n",
    "    print(f\"Failure: {reservations}\")"
   ]
  },
  {
   "cell_type": "markdown",
   "metadata": {},
   "source": [
    "## Query Slices"
   ]
  },
  {
   "cell_type": "code",
   "execution_count": 12,
   "metadata": {},
   "outputs": [
    {
     "name": "stdout",
     "output_type": "stream",
     "text": [
      "Response Status Status.OK\n",
      "Slices [{\n",
      "    \"graph_id\": \"9524d015-62cc-45f3-b7a3-9c886f7d0ce9\",\n",
      "    \"lease_end\": \"2022-02-25 18:41:49\",\n",
      "    \"slice_id\": \"b39e8a42-536a-40f4-952e-3480047c2a4d\",\n",
      "    \"slice_name\": \"fabnet\",\n",
      "    \"slice_state\": \"StableOK\"\n",
      "}]\n"
     ]
    }
   ],
   "source": [
    "status, slices = slice_manager.slices(excludes=[SliceState.Closing, SliceState.Dead])\n",
    "\n",
    "print(\"Response Status {}\".format(status))\n",
    "if status == Status.OK:\n",
    "    print(\"Slices {}\".format(slices))\n",
    "    if len(slices) > 0:\n",
    "        slice_object=list(filter(lambda s: s.slice_name == slice_name, slices))[0]\n",
    "else:\n",
    "    print(f\"Failure: {slices}\")"
   ]
  },
  {
   "cell_type": "markdown",
   "metadata": {},
   "source": [
    "## Query Slivers"
   ]
  },
  {
   "cell_type": "code",
   "execution_count": 13,
   "metadata": {},
   "outputs": [
    {
     "name": "stdout",
     "output_type": "stream",
     "text": [
      "Response Status Status.OK\n",
      "=====================\n",
      "ReservationId d221b5c0-bbfb-4aba-86ab-dd4110b19689\n",
      "State         Active\n",
      "Pending       None_\n",
      "Join State    NoJoin\n",
      "Sliver Type   NodeSliver\n",
      "Site        LBNL\n",
      "Sliver        198.129.61.39\n",
      "=====================\n",
      "=====================\n",
      "ReservationId 25d52b58-48a5-4167-aef3-31d420530abe\n",
      "State         Active\n",
      "Pending       None_\n",
      "Join State    NoJoin\n",
      "Sliver Type   NodeSliver\n",
      "Site        UKY\n",
      "Sliver        128.163.179.30\n",
      "=====================\n",
      "=====================\n",
      "ReservationId 1b3d6ef1-9201-4551-b6aa-cd14822fc4b8\n",
      "State         Active\n",
      "Pending       None_\n",
      "Join State    NoJoin\n",
      "Sliver Type   NetworkServiceSliver\n",
      "Site        LBNL\n",
      "Sliver        10.129.1.0/24\n",
      "=====================\n",
      "=====================\n",
      "ReservationId fafc1c8e-924f-4676-b233-f5c44621495e\n",
      "State         Active\n",
      "Pending       None_\n",
      "Join State    NoJoin\n",
      "Sliver Type   NodeSliver\n",
      "Site        LBNL\n",
      "Sliver        198.129.61.43\n",
      "=====================\n",
      "=====================\n",
      "ReservationId 565646fd-2f0f-478e-838d-e87fa299d6de\n",
      "State         Active\n",
      "Pending       None_\n",
      "Join State    NoJoin\n",
      "Sliver Type   NetworkServiceSliver\n",
      "Site        UKY\n",
      "Sliver        10.128.129.0/24\n",
      "=====================\n",
      "=====================\n",
      "ReservationId 5eb500c5-d3f3-4210-a54a-fc6ab8edf596\n",
      "State         Active\n",
      "Pending       None_\n",
      "Join State    NoJoin\n",
      "Sliver Type   NodeSliver\n",
      "Site        UKY\n",
      "Sliver        128.163.179.28\n",
      "=====================\n"
     ]
    }
   ],
   "source": [
    "status, slivers = slice_manager.slivers(slice_object=slice_object)\n",
    "\n",
    "print(\"Response Status {}\".format(status))\n",
    "if status == Status.OK:\n",
    "    for s in slivers:\n",
    "        print(\"=====================\")\n",
    "        print(\"ReservationId {}\".format(s.reservation_id))\n",
    "        print(\"State         {}\".format(s.reservation_state))\n",
    "        print(\"Pending       {}\".format(s.pending_state))\n",
    "        print(\"Join State    {}\".format(s.join_state))\n",
    "        print(\"Sliver Type   {}\".format(s.sliver_type))\n",
    "        # print(\"Sliver        {}\".format(s.sliver))\n",
    "        print(\"Site        {}\".format(s.sliver.site))\n",
    "        if s.sliver_type == \"NodeSliver\":\n",
    "            print(\"Sliver        {}\".format(s.sliver.management_ip))\n",
    "        else:\n",
    "            print(\"Sliver        {}\".format(s.sliver.gateway.subnet))\n",
    "        '''\n",
    "        if s.sliver_type == \"NodeSliver\":\n",
    "            for d in s.sliver.attached_components_info.devices.values():\n",
    "                print(\"-------------------------\")\n",
    "                print(\"COMPONENT        {}\".format(d))\n",
    "                print(\"-------------------------\")\n",
    "        else:\n",
    "            for d in s.sliver.interface_info.interfaces.values():\n",
    "                print(\"-------------------------\")\n",
    "                print(\"INTERFACE        {}\".format(d))\n",
    "                print(\"-------------------------\")\n",
    "                \n",
    "        print(\"Notices       {}\".format(s.notices))\n",
    "        '''\n",
    "        print(\"=====================\")\n",
    "else:\n",
    "    print(f\"Failure: {slivers}\")"
   ]
  },
  {
   "cell_type": "markdown",
   "metadata": {},
   "source": [
    "## Delete Slice"
   ]
  },
  {
   "cell_type": "code",
   "execution_count": 14,
   "metadata": {},
   "outputs": [
    {
     "name": "stdout",
     "output_type": "stream",
     "text": [
      "Response Status Status.OK\n",
      "Response received None\n"
     ]
    }
   ],
   "source": [
    "status, result = slice_manager.delete(slice_object=slice_object)\n",
    "\n",
    "print(\"Response Status {}\".format(status))\n",
    "print(\"Response received {}\".format(result))"
   ]
  },
  {
   "cell_type": "code",
   "execution_count": null,
   "metadata": {},
   "outputs": [],
   "source": []
  }
 ],
 "metadata": {
  "kernelspec": {
   "display_name": "Python 3 (ipykernel)",
   "language": "python",
   "name": "python3"
  },
  "language_info": {
   "codemirror_mode": {
    "name": "ipython",
    "version": 3
   },
   "file_extension": ".py",
   "mimetype": "text/x-python",
   "name": "python",
   "nbconvert_exporter": "python",
   "pygments_lexer": "ipython3",
   "version": "3.9.2"
  }
 },
 "nbformat": 4,
 "nbformat_minor": 4
}
