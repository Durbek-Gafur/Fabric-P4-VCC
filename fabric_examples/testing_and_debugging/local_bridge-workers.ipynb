{
 "cells": [
  {
   "cell_type": "markdown",
   "metadata": {
    "tags": []
   },
   "source": [
    "# Hello, FABRIC: Create your first FABRIC slice\n",
    "\n",
    "## Configure the Environment\n",
    "\n",
    "Set the environment variable that will be used by this notebook. If you are using the FABRIC, JupyterHub some of the environment will be automatically configured for you.  You will only need to set your bastion username, upload your bastion private key, and set the path to where you put your bastion private key. Your bastion username and private key should already be in your possession.  If you do not have a bastion username and private key, please contact the FABRIC admins using the [FABRIC User Forum](https://learn.fabric-testbed.net/forums/) \n",
    "\n",
    "If you are using the FABRIC API outside of the JupyterHub you will need to configure all of the environment variables. Defaults below will be correct in many situations but you will need to confirm your configuration.  If you have questions about this configuration, please contact the FABRIC admins using the [FABRIC User Forum](https://learn.fabric-testbed.net/forums/) \n",
    "\n",
    "More information about accessing your experiments through the FABRIC bastion hosts can be found [here](https://learn.fabric-testbed.net/knowledge-base/logging-into-fabric-vms/)."
   ]
  },
  {
   "cell_type": "code",
   "execution_count": 1,
   "metadata": {},
   "outputs": [],
   "source": [
    "import os\n",
    "\n",
    "# If you are using the FABRIC JupyterHub, the following three evnrionment vars\n",
    "# were automatically provided when you logged in.\n",
    "#os.environ['FABRIC_CREDMGR_HOST']='cm.fabric-testbed.net'\n",
    "#os.environ['FABRIC_ORCHESTRATOR_HOST']='orchestrator.fabric-testbed.net'\n",
    "#os.environ['FABRIC_TOKEN_LOCATION']=os.environ['HOME']+'/work/fabric_token_beta.json'\n",
    "\n",
    "# Bastion IPs\n",
    "os.environ['FABRIC_BASTION_HOST'] = 'bastion-1.fabric-testbed.net'\n",
    "\n",
    "# Set your Bastion username and private key\n",
    "os.environ['FABRIC_BASTION_USERNAME']='pruth_0031379841'\n",
    "os.environ['FABRIC_BASTION_KEY_LOCATION']=os.environ['HOME']+'/FABRIC/pruth-bastion-1'\n",
    "\n",
    "# Set the keypair FABRIC will install in your slice. \n",
    "os.environ['FABRIC_SLICE_PRIVATE_KEY_FILE']=os.environ['HOME']+'/.ssh/id_rsa'\n",
    "os.environ['FABRIC_SLICE_PUBLIC_KEY_FILE']=os.environ['HOME']+'/.ssh/id_rsa.pub'\n",
    "\n",
    "# If your slice private key uses a passphrase, set the passphrase\n",
    "#from getpass import getpass\n",
    "#print('Please input private key passphrase. Press enter for no passphrase.')\n",
    "#os.environ['FABRIC_SLICE_PRIVATE_KEY_PASSPHRASE']=getpass()"
   ]
  },
  {
   "cell_type": "markdown",
   "metadata": {
    "tags": []
   },
   "source": [
    "## Setup the Experiment\n",
    "\n",
    "#### Import the FABRIC API"
   ]
  },
  {
   "cell_type": "code",
   "execution_count": 2,
   "metadata": {
    "tags": []
   },
   "outputs": [],
   "source": [
    "import json\n",
    "import traceback\n",
    "from fabrictestbed_extensions.fablib.fablib import fablib"
   ]
  },
  {
   "cell_type": "markdown",
   "metadata": {},
   "source": [
    "#### Create the FABRIC Proxies\n",
    "\n",
    "The FABRIC API is used via proxy objects that manage connections to the control framework.  "
   ]
  },
  {
   "cell_type": "markdown",
   "metadata": {
    "tags": []
   },
   "source": [
    "#### (Optional) Query Available Resources\n",
    "\n",
    "This optional command queries the FABRIC services to find the available resources. It may be useful for finding a site with available capacity."
   ]
  },
  {
   "cell_type": "code",
   "execution_count": 3,
   "metadata": {},
   "outputs": [
    {
     "name": "stdout",
     "output_type": "stream",
     "text": [
      "Available Resources: RENC [Site] : { cpu: 6/6 , core: 192/192 , ram: 1,536/1,536 G, disk: 60,600/60,600 G, unit: 3/3 }\n",
      "\tComponents:\n",
      "\t\tSharedNIC-ConnectX-6:  SharedNIC ConnectX-6 { unit: 381/381 }\n",
      "\t\tGPU-RTX6000:  GPU RTX6000 { unit: 2/2 }\n",
      "\t\tGPU-Tesla T4:  GPU Tesla T4 { unit: 4/4 }\n",
      "\t\tNVME-P4510:  NVME P4510 { disk: 10,000/10,000 G, unit: 10/10 }\n",
      "\t\tSmartNIC-ConnectX-6:  SmartNIC ConnectX-6 { unit: 2/2 }\n",
      "\t\tSmartNIC-ConnectX-5:  SmartNIC ConnectX-5 { unit: 2/2 }\n",
      "\tSite Interfaces:\n",
      "\t\tRENC_UKY: TrunkPort { bw: 10/10 Gbps}\n",
      "\t\tRENC_LBNL: TrunkPort { bw: 10/10 Gbps}\n",
      "LBNL [Site] : { cpu: 6/6 , core: 192/192 , ram: 1,536/1,536 G, disk: 60,600/60,600 G, unit: 3/3 }\n",
      "\tComponents:\n",
      "\t\tSmartNIC-ConnectX-5:  SmartNIC ConnectX-5 { unit: 2/2 }\n",
      "\t\tSharedNIC-ConnectX-6:  SharedNIC ConnectX-6 { unit: 381/381 }\n",
      "\t\tNVME-P4510:  NVME P4510 { disk: 10,000/10,000 G, unit: 10/10 }\n",
      "\t\tGPU-RTX6000:  GPU RTX6000 { unit: 2/2 }\n",
      "\t\tGPU-Tesla T4:  GPU Tesla T4 { unit: 4/4 }\n",
      "\t\tSmartNIC-ConnectX-6:  SmartNIC ConnectX-6 { unit: 2/2 }\n",
      "\tSite Interfaces:\n",
      "\t\tLBNL_RENC: TrunkPort { bw: 100/100 Gbps}\n",
      "\t\tLBNL_UKY: TrunkPort { bw: 100/100 Gbps}\n",
      "UKY [Site] : { cpu: 6/6 , core: 192/192 , ram: 1,536/1,536 G, disk: 60,600/60,600 G, unit: 3/3 }\n",
      "\tComponents:\n",
      "\t\tGPU-RTX6000:  GPU RTX6000 { unit: 2/2 }\n",
      "\t\tGPU-Tesla T4:  GPU Tesla T4 { unit: 4/4 }\n",
      "\t\tSharedNIC-ConnectX-6:  SharedNIC ConnectX-6 { unit: 381/381 }\n",
      "\t\tNVME-P4510:  NVME P4510 { disk: 10,000/10,000 G, unit: 10/10 }\n",
      "\t\tSmartNIC-ConnectX-6:  SmartNIC ConnectX-6 { unit: 2/2 }\n",
      "\t\tSmartNIC-ConnectX-5:  SmartNIC ConnectX-5 { unit: 2/2 }\n",
      "\tSite Interfaces:\n",
      "\t\tUKY_LBNL: TrunkPort { bw: 100/100 Gbps}\n",
      "\t\tUKY_RENC: TrunkPort { bw: 100/100 Gbps}\n",
      "Links:\n",
      "\tport+lbnl-data-sw:HundredGigE0/0/0/0.2400 to port+renc-data-sw:TenGigE0/0/0/2/0.3981[L2Path]: ['RENC_LBNL', 'LBNL_RENC']\n",
      "\tport+lbnl-data-sw:HundredGigE0/0/0/0.2401 to port+uky-data-sw:HundredGigE0/0/0/0.851[L2Path]: ['UKY_LBNL', 'LBNL_UKY']\n",
      "\tport+renc-data-sw:TenGigE0/0/0/2/0.3999 to port+uky-data-sw:HundredGigE0/0/0/0.859[L2Path]: ['RENC_UKY', 'UKY_RENC']\n"
     ]
    },
    {
     "data": {
      "image/png": "[encoded data removed]",
      "text/plain": [
       "<Figure size 432x288 with 1 Axes>"
      ]
     },
     "metadata": {},
     "output_type": "display_data"
    }
   ],
   "source": [
    "try:\n",
    "    available_resources = fablib.get_available_resources()\n",
    "    print(f\"Available Resources: {available_resources}\")\n",
    "    available_resources.draw()\n",
    "except Exception as e:\n",
    "    print(f\"Error: {e}\")\n",
    "    traceback.print_exc()"
   ]
  },
  {
   "cell_type": "markdown",
   "metadata": {
    "tags": []
   },
   "source": [
    "## Create the Experiment Slice"
   ]
  },
  {
   "cell_type": "markdown",
   "metadata": {
    "tags": []
   },
   "source": [
    "#### Configure the Experiment Parameters\n",
    "\n"
   ]
  },
  {
   "cell_type": "code",
   "execution_count": 4,
   "metadata": {},
   "outputs": [
    {
     "name": "stdout",
     "output_type": "stream",
     "text": [
      "{'LBNL': {'lbnl-w2_NIC_Basic1': {'nic_type': 'NIC_Basic', 'vlan': None, 'ip': {'192.168.1.1'}, 'worker': 'lbnl-w2.fabric-testbed.net'}, 'lbnl-w2_NIC_Basic2': {'nic_type': 'NIC_Basic', 'vlan': None, 'ip': {'192.168.1.2'}, 'worker': 'lbnl-w2.fabric-testbed.net'}, 'lbnl-w2_NIC_Basic3': {'nic_type': 'NIC_Basic', 'vlan': None, 'ip': {'192.168.1.3'}, 'worker': 'lbnl-w2.fabric-testbed.net'}, 'lbnl-w2_NIC_Basic4': {'nic_type': 'NIC_Basic', 'vlan': None, 'ip': {'192.168.1.4'}, 'worker': 'lbnl-w2.fabric-testbed.net'}, 'lbnl-w2_NIC_Basic5': {'nic_type': 'NIC_Basic', 'vlan': None, 'ip': {'192.168.1.5'}, 'worker': 'lbnl-w2.fabric-testbed.net'}, 'lbnl-w2_NIC_Basic6': {'nic_type': 'NIC_Basic', 'vlan': None, 'ip': {'192.168.1.6'}, 'worker': 'lbnl-w2.fabric-testbed.net'}, 'lbnl-w2_NIC_Basic7': {'nic_type': 'NIC_Basic', 'vlan': None, 'ip': {'192.168.1.7'}, 'worker': 'lbnl-w2.fabric-testbed.net'}, 'lbnl-w2_NIC_Basic8': {'nic_type': 'NIC_Basic', 'vlan': None, 'ip': {'192.168.1.8'}, 'worker': 'lbnl-w2.fabric-testbed.net'}, 'lbnl-w2_NIC_Basic9': {'nic_type': 'NIC_Basic', 'vlan': None, 'ip': {'192.168.1.9'}, 'worker': 'lbnl-w2.fabric-testbed.net'}, 'lbnl-w2_NIC_Basic10': {'nic_type': 'NIC_Basic', 'vlan': None, 'ip': {'192.168.1.10'}, 'worker': 'lbnl-w2.fabric-testbed.net'}}}\n"
     ]
    }
   ],
   "source": [
    "slice_name_base = 'MySlice1'\n",
    "#sites = [ 'UKY', 'RENC', 'LBNL' ]\n",
    "sites = ['LBNL' ]\n",
    "node_name_base = 'node'\n",
    "image = 'default_centos_8'\n",
    "cores = 2\n",
    "ram = 8\n",
    "disk = 10\n",
    "\n",
    "node_count=5\n",
    "\n",
    "tests = {}\n",
    "\n",
    "for site in sites:\n",
    "    nodes = {}\n",
    "    \n",
    "    node_num = 1\n",
    "\n",
    "    #w1 \n",
    "    worker = f'{site.lower()}-w1'\n",
    "    #nic_type = 'NIC_Basic'\n",
    "    #vlan = None\n",
    "    #for basic_nic_num in range(1,11):\n",
    "    #    ip = f'192.168.1.{node_num}'\n",
    "    #    nodes[f\"{worker}_{nic_type}{basic_nic_num}\"] = { 'nic_type': nic_type, 'vlan': vlan, 'ip': {ip}, 'worker': f'{worker}.fabric-testbed.net'}\n",
    "    #    node_num += 1\n",
    "                \n",
    "    ##w2\n",
    "    worker = f'{site.lower()}-w2'\n",
    "    #nic_type = 'NIC_ConnectX_6'\n",
    "    #vlan = None\n",
    "    #for basic_nic_num in range(1,3):\n",
    "    #    ip = f'192.168.1.{node_num}'\n",
    "    #    nodes[f\"{worker}_{nic_type}{basic_nic_num}\"] = { 'nic_type': nic_type, 'vlan': vlan, 'ip': {ip}, 'worker': f'{worker}.fabric-testbed.net'}\n",
    "    #    node_num += 1\n",
    "        \n",
    "    nic_type = 'NIC_Basic'\n",
    "    vlan = None\n",
    "    for basic_nic_num in range(1,11):\n",
    "        ip = f'192.168.1.{node_num}'\n",
    "        nodes[f\"{worker}_{nic_type}{basic_nic_num}\"] = { 'nic_type': nic_type, 'vlan': vlan, 'ip': {ip}, 'worker': f'{worker}.fabric-testbed.net'}\n",
    "        node_num += 1\n",
    "        \n",
    "    #w3\n",
    "    worker = f'{site.lower()}-w3'\n",
    "    #nic_type = 'NIC_ConnectX_5'\n",
    "    #vlan = None\n",
    "    #for basic_nic_num in range(1,2):\n",
    "    #    ip = f'192.168.1.{node_num}'\n",
    "    #    nodes[f\"{worker}_{nic_type}{basic_nic_num}\"] = { 'nic_type': nic_type, 'vlan': vlan, 'ip': {ip}, 'worker': f'{worker}.fabric-testbed.net'}\n",
    "    #    node_num += 1\n",
    "        \n",
    "    #nic_type = 'NIC_Basic'\n",
    "    #vlan = None\n",
    "    #for basic_nic_num in range(1,11):\n",
    "    #    ip = f'192.168.1.{node_num}'\n",
    "    #    nodes[f\"{worker}_{nic_type}{basic_nic_num}\"] = { 'nic_type': nic_type, 'vlan': vlan, 'ip': {ip}, 'worker': f'{worker}.fabric-testbed.net'}\n",
    "    #    node_num += 1\n",
    "            \n",
    "\n",
    "    tests[site] = nodes\n",
    "    \n",
    "\n",
    "print(f\"{tests}\")"
   ]
  },
  {
   "cell_type": "markdown",
   "metadata": {
    "tags": []
   },
   "source": [
    "### Create Slice\n",
    "\n",
    "<img src=\"./figs/SingleNode.png\" width=\"20%\"><br>\n",
    "\n",
    "Create a single node with basic compute capabilities. The submit function will block until the node is ready and will display a progress bar.\n"
   ]
  },
  {
   "cell_type": "code",
   "execution_count": 5,
   "metadata": {
    "tags": []
   },
   "outputs": [
    {
     "name": "stdout",
     "output_type": "stream",
     "text": [
      "Creating slice MySlice1_LBNL on worker LBNL\n"
     ]
    }
   ],
   "source": [
    "for site,nodes in tests.items():\n",
    "    slice_name=f\"{slice_name_base}_{site}\"\n",
    "    print(f\"Creating slice {slice_name} on worker {site}\")\n",
    "    #Create Slice\n",
    "    slice = fablib.new_slice(slice_name)\n",
    "    \n",
    "    try:\n",
    "        ifaces = []\n",
    "        for node_name, node_config in nodes.items():\n",
    "            #node_name = f\"{node_name_base}{node_num}\"\n",
    "            # Add node\n",
    "            node = slice.add_node(name=node_name, site=site)\n",
    "            node.set_capacities(cores=cores, ram=ram, disk=disk)\n",
    "            node.set_image(image)\n",
    "            node.set_host(node_config['worker'])\n",
    "            iface = node.add_component(model=node_config['nic_type'], name=f\"{node_name}NIC\").get_interfaces()[0]\n",
    "            #if not node_config['nic_type'] == 'NIC_Basic':\n",
    "            #    iface.set_vlan(\"1234\")\n",
    "            ifaces.append(iface)\n",
    "            \n",
    "            \n",
    "            \n",
    "        net = slice.add_l2network(name='net1', interfaces=ifaces)\n",
    "        \n",
    "        #Submit Slice Request\n",
    "        slice.submit(wait_progress=False)\n",
    "\n",
    "    except Exception as e:\n",
    "        print(f\"Slice Failed: {e}\")\n",
    "        #traceback.print_exc()\n",
    "        \n",
    "        "
   ]
  },
  {
   "cell_type": "code",
   "execution_count": 6,
   "metadata": {
    "tags": []
   },
   "outputs": [
    {
     "name": "stdout",
     "output_type": "stream",
     "text": [
      "Waiting for slice MySlice1_LBNL at LBNL\n",
      "Waiting for slice .... Slice state: StableOK\n",
      "Waiting for ssh in slice .. ssh successful\n",
      "post_boot_config\n",
      "build_interface_map\n",
      "Buiding iface map for network: net1\n",
      "ssh -i /Users/pruth/.ssh/id_rsa -J pruth_0031379841@bastion-1.fabric-testbed.net centos@198.129.61.34\n",
      "target_node: lbnl-w2_NIC_Basic1\n",
      "target_iface: lbnl-w2_NIC_Basic1-lbnl-w2_NIC_Basic1NIC-p1\n",
      "target_iface.get_vlan(): None\n",
      "target_os_ifaces: [{'ifname': 'eth1', 'mac': 'ea:f7:96:10:95:88'}]\n",
      "test_node: lbnl-w2_NIC_Basic2: ssh -i /Users/pruth/.ssh/id_rsa -J pruth_0031379841@bastion-1.fabric-testbed.net centos@198.129.61.55\n",
      "Ping test result: lbnl-w2_NIC_Basic2:eth1 ->  - 192.168.1.2 to 192.168.1.1: False\n",
      "test_node: lbnl-w2_NIC_Basic3: ssh -i /Users/pruth/.ssh/id_rsa -J pruth_0031379841@bastion-1.fabric-testbed.net centos@198.129.61.36\n",
      "Ping test result: lbnl-w2_NIC_Basic3:eth1 ->  - 192.168.1.2 to 192.168.1.1: False\n",
      "test_node: lbnl-w2_NIC_Basic4: ssh -i /Users/pruth/.ssh/id_rsa -J pruth_0031379841@bastion-1.fabric-testbed.net centos@198.129.61.44\n",
      "Ping test result: lbnl-w2_NIC_Basic4:eth1 ->  - 192.168.1.2 to 192.168.1.1: False\n",
      "test_node: lbnl-w2_NIC_Basic5: ssh -i /Users/pruth/.ssh/id_rsa -J pruth_0031379841@bastion-1.fabric-testbed.net centos@198.129.61.41\n",
      "Ping test result: lbnl-w2_NIC_Basic5:eth1 ->  - 192.168.1.2 to 192.168.1.1: False\n",
      "test_node: lbnl-w2_NIC_Basic6: ssh -i /Users/pruth/.ssh/id_rsa -J pruth_0031379841@bastion-1.fabric-testbed.net centos@198.129.61.40\n",
      "Ping test result: lbnl-w2_NIC_Basic6:eth1 ->  - 192.168.1.2 to 192.168.1.1: False\n",
      "test_node: lbnl-w2_NIC_Basic7: ssh -i /Users/pruth/.ssh/id_rsa -J pruth_0031379841@bastion-1.fabric-testbed.net centos@198.129.61.48\n",
      "Ping test result: lbnl-w2_NIC_Basic7:eth1 ->  - 192.168.1.2 to 192.168.1.1: False\n",
      "test_node: lbnl-w2_NIC_Basic8: ssh -i /Users/pruth/.ssh/id_rsa -J pruth_0031379841@bastion-1.fabric-testbed.net centos@198.129.61.39\n",
      "Ping test result: lbnl-w2_NIC_Basic8:eth1 ->  - 192.168.1.2 to 192.168.1.1: False\n",
      "test_node: lbnl-w2_NIC_Basic9: ssh -i /Users/pruth/.ssh/id_rsa -J pruth_0031379841@bastion-1.fabric-testbed.net centos@198.129.61.43\n",
      "Ping test result: lbnl-w2_NIC_Basic9:eth1 ->  - 192.168.1.2 to 192.168.1.1: False\n",
      "test_node: lbnl-w2_NIC_Basic10: ssh -i /Users/pruth/.ssh/id_rsa -J pruth_0031379841@bastion-1.fabric-testbed.net centos@198.129.61.32\n",
      "Ping test result: lbnl-w2_NIC_Basic10:eth1 ->  - 192.168.1.2 to 192.168.1.1: False\n",
      "network_iface_map: {'net1': {}}\n",
      "Node data lbnl-w2_NIC_Basic1\n",
      "{'lbnl-w2_NIC_Basic1-lbnl-w2_NIC_Basic1NIC-p1': {'network': 'net1', 'os_interface': None}}\n",
      "Node data lbnl-w2_NIC_Basic2\n",
      "{'lbnl-w2_NIC_Basic2-lbnl-w2_NIC_Basic2NIC-p1': {'network': 'net1', 'os_interface': None}}\n",
      "Node data lbnl-w2_NIC_Basic3\n",
      "{'lbnl-w2_NIC_Basic3-lbnl-w2_NIC_Basic3NIC-p1': {'network': 'net1', 'os_interface': None}}\n",
      "Node data lbnl-w2_NIC_Basic4\n",
      "{'lbnl-w2_NIC_Basic4-lbnl-w2_NIC_Basic4NIC-p1': {'network': 'net1', 'os_interface': None}}\n",
      "Node data lbnl-w2_NIC_Basic5\n",
      "{'lbnl-w2_NIC_Basic5-lbnl-w2_NIC_Basic5NIC-p1': {'network': 'net1', 'os_interface': None}}\n",
      "Node data lbnl-w2_NIC_Basic6\n",
      "{'lbnl-w2_NIC_Basic6-lbnl-w2_NIC_Basic6NIC-p1': {'network': 'net1', 'os_interface': None}}\n",
      "Node data lbnl-w2_NIC_Basic7\n",
      "{'lbnl-w2_NIC_Basic7-lbnl-w2_NIC_Basic7NIC-p1': {'network': 'net1', 'os_interface': None}}\n",
      "Node data lbnl-w2_NIC_Basic8\n",
      "{'lbnl-w2_NIC_Basic8-lbnl-w2_NIC_Basic8NIC-p1': {'network': 'net1', 'os_interface': None}}\n",
      "Node data lbnl-w2_NIC_Basic9\n",
      "{'lbnl-w2_NIC_Basic9-lbnl-w2_NIC_Basic9NIC-p1': {'network': 'net1', 'os_interface': None}}\n",
      "Node data lbnl-w2_NIC_Basic10\n",
      "{'lbnl-w2_NIC_Basic10-lbnl-w2_NIC_Basic10NIC-p1': {'network': 'net1', 'os_interface': None}}\n"
     ]
    }
   ],
   "source": [
    "for site,nodes in tests.items():\n",
    "    slice_name=f\"{slice_name_base}_{site}\"\n",
    "\n",
    "    try:\n",
    "            \n",
    "        \n",
    "        print(f\"Waiting for slice {slice_name} at {site}\")\n",
    "\n",
    "        #Get Slice\n",
    "        slice = fablib.get_slice(slice_name)\n",
    "\n",
    "        #Wait for ssh to be active\n",
    "        slice.wait_ssh(progress=True)\n",
    "\n",
    "        #Run post boot config\n",
    "        slice.post_boot_config(verbose=True)\n",
    "    except Exception as e:\n",
    "        print(f\"Slice Failed: {e}\")\n",
    "        traceback.print_exc()"
   ]
  },
  {
   "cell_type": "code",
   "execution_count": null,
   "metadata": {},
   "outputs": [],
   "source": [
    "#slice.build_interface_map(verbose=True)\n",
    "print(f\"{slice.get_interface_map()}\")"
   ]
  },
  {
   "cell_type": "markdown",
   "metadata": {},
   "source": [
    "### Get the New Slice\n",
    "\n",
    "Your new slice is in the list of all your slices. You can get the specific slice using the fablib library."
   ]
  },
  {
   "cell_type": "code",
   "execution_count": null,
   "metadata": {},
   "outputs": [],
   "source": [
    "for site,workers in tests.items():\n",
    "    for worker in workers:\n",
    "        try:\n",
    "            slice_name=f\"{slice_name_base}_{worker}\"\n",
    "            print(f\"Getting {slice_name} slice at {site}\")\n",
    "\n",
    "            slice = fablib.get_slice(slice_name)\n",
    "            print(f\"Slice: {slice.get_name()}, {slice.get_state()}\")\n",
    "        except Exception as e:\n",
    "            print(f\"Get Slices Fail: {e}\")"
   ]
  },
  {
   "cell_type": "markdown",
   "metadata": {
    "tags": []
   },
   "source": [
    "### Print the Node's Attributes\n",
    "\n",
    "Each node in the slice has a set of get functions that return the node's attributes."
   ]
  },
  {
   "cell_type": "code",
   "execution_count": null,
   "metadata": {},
   "outputs": [],
   "source": [
    "for site,nodes in tests.items():\n",
    "    slice_name=f\"{slice_name_base}_{site}\"\n",
    "\n",
    "    try:\n",
    "        print(f\"Get attributes for {slice_name} at {site}\")    \n",
    "        slice = fablib.get_slice(slice_name)\n",
    "        for node in slice.get_nodes():\n",
    "            print(\"Node:\")\n",
    "            print(f\"   Name              : {node.get_name()}\")\n",
    "            print(f\"   Cores             : {node.get_cores()}\")\n",
    "            print(f\"   RAM               : {node.get_ram()}\")\n",
    "            print(f\"   Disk              : {node.get_disk()}\")\n",
    "            print(f\"   Image             : {node.get_image()}\")\n",
    "            print(f\"   Image Type        : {node.get_image_type()}\")\n",
    "            print(f\"   Host              : {node.get_host()}\")\n",
    "            print(f\"   Site              : {node.get_site()}\")\n",
    "            print(f\"   Management IP     : {node.get_management_ip()}\")\n",
    "            print(f\"   Reservation ID    : {node.get_reservation_id()}\")\n",
    "            print(f\"   Reservation State : {node.get_reservation_state()}\")\n",
    "            print(f\"   Components        : {node.get_components()}\")\n",
    "            print(f\"   Interfaces        : {node.get_interfaces()}\")\n",
    "            print(f\"   SSH Command       : {node.get_ssh_command()}\")\n",
    "            for component in node.get_components():\n",
    "                print(f\"      Name             : {component.get_name()}\")\n",
    "                print(f\"      Details          : {component.get_details()}\")\n",
    "                print(f\"      Disk (G)         : {component.get_disk()}\")\n",
    "                print(f\"      Units            : {component.get_unit()}\")\n",
    "                print(f\"      PCI Address      : {component.get_pci_addr()}\")\n",
    "                print(f\"      Model            : {component.get_model()}\")\n",
    "                print(f\"      Type             : {component.get_type()}\") \n",
    "            print(f\"   Interfaces        :  \")\n",
    "            for interface in node.get_interfaces():\n",
    "                print(f\"       Name                : {interface.get_name()}\")\n",
    "                print(f\"           Bandwidth           : {interface.get_bandwidth()}\")\n",
    "                print(f\"           VLAN                : {interface.get_vlan()}\")       \n",
    "                print(f\"           OS Interface        : {interface.get_os_interface()}\")       \n",
    "            print()    \n",
    "    except Exception as e:\n",
    "        print(f\"Fail: {e}\")"
   ]
  },
  {
   "cell_type": "markdown",
   "metadata": {},
   "source": [
    "## Accessing the VM\n",
    "\n"
   ]
  },
  {
   "cell_type": "markdown",
   "metadata": {},
   "source": [
    "#### SSH with fablib\n",
    "\n",
    "Most experiments will require automated configuration and execution. You can use the fablib library to execute arbitrary commands on your node. \n",
    "\n",
    "The following code demonstrates how to use fablib to execute a \"Hello, FABRIC\" bash script. The library uses the bastion and VM keys defined at the top of this notebook to jump through the bastion host and execute the script."
   ]
  },
  {
   "cell_type": "code",
   "execution_count": null,
   "metadata": {},
   "outputs": [],
   "source": [
    "command= 'echo Hello, FABRIC from node `hostname -s`'"
   ]
  },
  {
   "cell_type": "code",
   "execution_count": null,
   "metadata": {},
   "outputs": [],
   "source": [
    "for site,nodes in tests.items():\n",
    "    slice_name=f\"{slice_name_base}_{site}\"   \n",
    "    try:\n",
    "        print(f\"Executing command for {slice_name} at {site}\")    \n",
    "        slice = fablib.get_slice(slice_name)\n",
    "        for node in slice.get_nodes():\n",
    "            stdout, stderr = node.execute(command)\n",
    "            print(stdout)\n",
    "    except Exception as e:\n",
    "        print(f\"Fail: {e}\")"
   ]
  },
  {
   "cell_type": "markdown",
   "metadata": {
    "tags": []
   },
   "source": [
    "## Delete Slice\n",
    "\n",
    "Please delete your slicd when you are done with your experiment."
   ]
  },
  {
   "cell_type": "code",
   "execution_count": 7,
   "metadata": {},
   "outputs": [
    {
     "name": "stdout",
     "output_type": "stream",
     "text": [
      "Deleting for MySlice1_LBNL at LBNL\n"
     ]
    }
   ],
   "source": [
    "for site,nodes in tests.items():\n",
    "    slice_name=f\"{slice_name_base}_{site}\"\n",
    "    #Create Slice\n",
    "    try:\n",
    "\n",
    "        print(f\"Deleting for {slice_name} at {site}\")    \n",
    "        slice = fablib.get_slice(slice_name)\n",
    "        slice.delete()\n",
    "    except Exception as e:\n",
    "        print(f\"Fail: {e}\")"
   ]
  },
  {
   "cell_type": "code",
   "execution_count": null,
   "metadata": {},
   "outputs": [],
   "source": []
  },
  {
   "cell_type": "code",
   "execution_count": null,
   "metadata": {},
   "outputs": [],
   "source": []
  }
 ],
 "metadata": {
  "kernelspec": {
   "display_name": "Python 3 (ipykernel)",
   "language": "python",
   "name": "python3"
  },
  "language_info": {
   "codemirror_mode": {
    "name": "ipython",
    "version": 3
   },
   "file_extension": ".py",
   "mimetype": "text/x-python",
   "name": "python",
   "nbconvert_exporter": "python",
   "pygments_lexer": "ipython3",
   "version": "3.9.2"
  }
 },
 "nbformat": 4,
 "nbformat_minor": 4
}
