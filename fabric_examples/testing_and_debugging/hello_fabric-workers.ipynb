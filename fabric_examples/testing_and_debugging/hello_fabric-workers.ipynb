{
 "cells": [
  {
   "cell_type": "markdown",
   "metadata": {
    "tags": []
   },
   "source": [
    "# Hello, FABRIC: Create your first FABRIC slice\n",
    "\n",
    "## Configure the Environment\n",
    "\n",
    "Set the environment variable that will be used by this notebook. If you are using the FABRIC, JupyterHub some of the environment will be automatically configured for you.  You will only need to set your bastion username, upload your bastion private key, and set the path to where you put your bastion private key. Your bastion username and private key should already be in your possession.  If you do not have a bastion username and private key, please contact the FABRIC admins using the [FABRIC User Forum](https://learn.fabric-testbed.net/forums/) \n",
    "\n",
    "If you are using the FABRIC API outside of the JupyterHub you will need to configure all of the environment variables. Defaults below will be correct in many situations but you will need to confirm your configuration.  If you have questions about this configuration, please contact the FABRIC admins using the [FABRIC User Forum](https://learn.fabric-testbed.net/forums/) \n",
    "\n",
    "More information about accessing your experiments through the FABRIC bastion hosts can be found [here](https://learn.fabric-testbed.net/knowledge-base/logging-into-fabric-vms/)."
   ]
  },
  {
   "cell_type": "code",
   "execution_count": 1,
   "metadata": {},
   "outputs": [],
   "source": [
    "import os\n",
    "\n",
    "# If you are using the FABRIC JupyterHub, the following three evnrionment vars\n",
    "# were automatically provided when you logged in.\n",
    "#os.environ['FABRIC_CREDMGR_HOST']='cm.fabric-testbed.net'\n",
    "#os.environ['FABRIC_ORCHESTRATOR_HOST']='orchestrator.fabric-testbed.net'\n",
    "#os.environ['FABRIC_TOKEN_LOCATION']=os.environ['HOME']+'/work/fabric_token_beta.json'\n",
    "\n",
    "# Bastion IPs\n",
    "os.environ['FABRIC_BASTION_HOST'] = 'bastion-1.fabric-testbed.net'\n",
    "\n",
    "# Set your Bastion username and private key\n",
    "os.environ['FABRIC_BASTION_USERNAME']='pruth_0031379841'\n",
    "os.environ['FABRIC_BASTION_KEY_LOCATION']=os.environ['HOME']+'/FABRIC/pruth-bastion-1'\n",
    "\n",
    "# Set the keypair FABRIC will install in your slice. \n",
    "os.environ['FABRIC_SLICE_PRIVATE_KEY_FILE']=os.environ['HOME']+'/.ssh/id_rsa'\n",
    "os.environ['FABRIC_SLICE_PUBLIC_KEY_FILE']=os.environ['HOME']+'/.ssh/id_rsa.pub'\n",
    "\n",
    "# If your slice private key uses a passphrase, set the passphrase\n",
    "#from getpass import getpass\n",
    "#print('Please input private key passphrase. Press enter for no passphrase.')\n",
    "#os.environ['FABRIC_SLICE_PRIVATE_KEY_PASSPHRASE']=getpass()"
   ]
  },
  {
   "cell_type": "markdown",
   "metadata": {
    "tags": []
   },
   "source": [
    "## Setup the Experiment\n",
    "\n",
    "#### Import the FABRIC API"
   ]
  },
  {
   "cell_type": "code",
   "execution_count": 2,
   "metadata": {
    "tags": []
   },
   "outputs": [],
   "source": [
    "import json\n",
    "import traceback\n",
    "from fabrictestbed_extensions.fablib.fablib import fablib"
   ]
  },
  {
   "cell_type": "markdown",
   "metadata": {},
   "source": [
    "#### Create the FABRIC Proxies\n",
    "\n",
    "The FABRIC API is used via proxy objects that manage connections to the control framework.  "
   ]
  },
  {
   "cell_type": "markdown",
   "metadata": {
    "tags": []
   },
   "source": [
    "#### (Optional) Query Available Resources\n",
    "\n",
    "This optional command queries the FABRIC services to find the available resources. It may be useful for finding a site with available capacity."
   ]
  },
  {
   "cell_type": "code",
   "execution_count": null,
   "metadata": {},
   "outputs": [],
   "source": [
    "try:\n",
    "    available_resources = fablib.get_available_resources()\n",
    "    print(f\"Available Resources: {available_resources}\")\n",
    "    available_resources.draw()\n",
    "except Exception as e:\n",
    "    print(f\"Error: {e}\")\n",
    "    traceback.print_exc()"
   ]
  },
  {
   "cell_type": "markdown",
   "metadata": {
    "tags": []
   },
   "source": [
    "## Create the Experiment Slice\n",
    "\n",
    "Load aggragate ads."
   ]
  },
  {
   "cell_type": "code",
   "execution_count": 3,
   "metadata": {},
   "outputs": [
    {
     "name": "stdout",
     "output_type": "stream",
     "text": [
      "Reading ./aggregate-ads/json/RENC.json\n",
      "Reading ./aggregate-ads/json/TACC.json\n",
      "Reading ./aggregate-ads/json/MAX.json\n",
      "Reading ./aggregate-ads/json/LBNL.json\n",
      "Reading ./aggregate-ads/json/NCSA.json\n",
      "Reading ./aggregate-ads/json/UTAH.json\n",
      "Reading ./aggregate-ads/json/UKY.json\n",
      "Reading ./aggregate-ads/json/SALT.json\n",
      "Reading ./aggregate-ads/json/MICH.json\n",
      "Reading ./aggregate-ads/json/STAR.json\n",
      "Reading ./aggregate-ads/json/DALL.json\n",
      "Reading ./aggregate-ads/json/WASH.json\n"
     ]
    }
   ],
   "source": [
    "import glob\n",
    "import json\n",
    "\n",
    "aggregates = {}\n",
    "aggregate_files = glob.glob(\"./aggregates/*.json\")\n",
    "for file_name in aggregate_files:\n",
    "    print(f\"Reading {file_name}\")\n",
    "    site_name = file_name.replace(\"./aggregates/\",\"\",1).split(\".\")[0]\n",
    "    #print(f\"{site_name}\")\n",
    "    with open(file_name, 'r') as infile:\n",
    "        site_info = json.load(infile)\n",
    "    #print(f\"{site_json}\")\n",
    "    aggregates[site_name] = site_info\n",
    "    \n",
    "#for site,site_info in aggregates.items():\n",
    "#    print(f\"{site}\")\n",
    "#    for node_info in site_info['Nodes']:\n",
    "#        print(f\"{node_info['Name']}\")\n",
    "#        for component_info in node_info['Components']:\n",
    "#            print(f\"{component_info['Description']}\")"
   ]
  },
  {
   "cell_type": "markdown",
   "metadata": {
    "tags": []
   },
   "source": [
    "#### Configure the Experiment Parameters\n",
    "\n"
   ]
  },
  {
   "cell_type": "code",
   "execution_count": 4,
   "metadata": {},
   "outputs": [],
   "source": [
    "slice_name_base = 'MySlice'\n",
    "#test_sites = [ 'UKY', 'RENC', 'LBNL' ]\n",
    "#test_sites = [ 'TACC', 'MAX', 'UTAH', 'NCSA', 'MICH', 'WASH', 'DALL', 'SALT']\n",
    "test_sites = [ 'TACC' ]\n",
    "node_name_base = 'node'\n",
    "#image = 'default_centos_8'\n",
    "image = 'default_ubuntu_20'\n",
    "#image = 'default_rocky_8'\n",
    "cores = 2\n",
    "ram = 8\n",
    "disk = 10\n",
    "\n",
    "node_count=5\n",
    "\n"
   ]
  },
  {
   "cell_type": "code",
   "execution_count": 5,
   "metadata": {},
   "outputs": [
    {
     "name": "stdout",
     "output_type": "stream",
     "text": [
      "TACC\n",
      "tacc-w1.fabric-testbed.net\n",
      "tacc-w2.fabric-testbed.net\n",
      "tacc-w3.fabric-testbed.net\n",
      "tacc-w4.fabric-testbed.net\n",
      "tacc-w5.fabric-testbed.net\n"
     ]
    }
   ],
   "source": [
    "#tests = {}\n",
    "#for site in sites:\n",
    "#    workers = []\n",
    "#    for worker_num in range(1,4):\n",
    "#        workers.append(f\"{site.lower()}-w{worker_num}.fabric-testbed.net\")\n",
    "#    tests[site] = workers\n",
    "\n",
    "#print(f\"{tests}\")\n",
    "\n",
    "\n",
    "for site in test_sites:\n",
    "    print(f\"{site}\")\n",
    "    site_info = aggregates[site]\n",
    "    for node_info in site_info['Nodes']:\n",
    "        print(f\"{node_info['Name']}\")\n",
    "        #for component_info in node_info['Components']:\n",
    "        #    print(f\"{component_info['Description']}\")\n"
   ]
  },
  {
   "cell_type": "markdown",
   "metadata": {
    "tags": []
   },
   "source": [
    "### Create Slice\n",
    "\n",
    "<img src=\"./figs/SingleNode.png\" width=\"20%\"><br>\n",
    "\n",
    "Create a single node with basic compute capabilities. The submit function will block until the node is ready and will display a progress bar.\n"
   ]
  },
  {
   "cell_type": "code",
   "execution_count": 6,
   "metadata": {},
   "outputs": [
    {
     "name": "stdout",
     "output_type": "stream",
     "text": [
      "TACC\n",
      "tacc-w1.fabric-testbed.net\n",
      "Creating slice MySlice_tacc-w1 on tacc-w1.fabric-testbed.net\n",
      "tacc-w2.fabric-testbed.net\n",
      "Creating slice MySlice_tacc-w2 on tacc-w2.fabric-testbed.net\n",
      "tacc-w3.fabric-testbed.net\n",
      "Creating slice MySlice_tacc-w3 on tacc-w3.fabric-testbed.net\n",
      "tacc-w4.fabric-testbed.net\n",
      "Creating slice MySlice_tacc-w4 on tacc-w4.fabric-testbed.net\n",
      "tacc-w5.fabric-testbed.net\n",
      "Creating slice MySlice_tacc-w5 on tacc-w5.fabric-testbed.net\n"
     ]
    }
   ],
   "source": [
    "for site in test_sites:\n",
    "    print(f\"{site}\")\n",
    "    site_info = aggregates[site]\n",
    "    for node_info in site_info['Nodes']:\n",
    "        worker = node_info['Name']\n",
    "        worker_short_name = worker.split(\".\")[0]\n",
    "        print(f\"{worker}\")\n",
    "        try:\n",
    "            slice_name=f\"{slice_name_base}_{worker_short_name}\"\n",
    "            print(f\"Creating slice {slice_name} on {worker}\")\n",
    "            #Create Slice\n",
    "            slice = fablib.new_slice(slice_name)\n",
    "\n",
    "            for node_num in range(node_count):\n",
    "                node_name = f\"{node_name_base}{node_num}\"\n",
    "                # Add node\n",
    "                node = slice.add_node(name=node_name, site=site)\n",
    "                node.set_capacities(cores=cores, ram=ram, disk=disk)\n",
    "                node.set_image(image)\n",
    "                node.set_host(worker)\n",
    "\n",
    "            #Submit Slice Request\n",
    "            slice.submit(wait_progress=False)\n",
    "        except Exception as e:\n",
    "            print(f\"Slice Failed: {e}\")\n",
    "            #traceback.print_exc()\n",
    "       "
   ]
  },
  {
   "cell_type": "code",
   "execution_count": 8,
   "metadata": {
    "tags": []
   },
   "outputs": [
    {
     "name": "stdout",
     "output_type": "stream",
     "text": [
      "TACC\n",
      "tacc-w1.fabric-testbed.net\n",
      "Waiting for slice MySlice_tacc-w1 at tacc-w1.fabric-testbed.net\n",
      "Waiting for slice . Slice state: StableOK\n",
      "Waiting for ssh in slice . ssh successful\n",
      "post_boot_config\n",
      "build_interface_map\n",
      "Node data node0\n",
      "{}\n",
      "Node data node1\n",
      "{}\n",
      "Node data node2\n",
      "{}\n",
      "Node data node3\n",
      "{}\n",
      "Node data node4\n",
      "{}\n",
      "tacc-w2.fabric-testbed.net\n",
      "Waiting for slice MySlice_tacc-w2 at tacc-w2.fabric-testbed.net\n",
      "Waiting for slice . Slice state: StableOK\n",
      "Waiting for ssh in slice . ssh successful\n",
      "post_boot_config\n",
      "build_interface_map\n",
      "Node data node0\n",
      "{}\n",
      "Node data node1\n",
      "{}\n",
      "Node data node2\n",
      "{}\n",
      "Node data node3\n",
      "{}\n",
      "Node data node4\n",
      "{}\n",
      "tacc-w3.fabric-testbed.net\n",
      "Waiting for slice MySlice_tacc-w3 at tacc-w3.fabric-testbed.net\n",
      "Waiting for slice . Slice state: StableOK\n",
      "Waiting for ssh in slice . ssh successful\n",
      "post_boot_config\n",
      "build_interface_map\n",
      "Node data node0\n",
      "{}\n",
      "Node data node1\n",
      "{}\n",
      "Node data node2\n",
      "{}\n",
      "Node data node3\n",
      "{}\n",
      "Node data node4\n",
      "{}\n",
      "tacc-w4.fabric-testbed.net\n",
      "Waiting for slice MySlice_tacc-w4 at tacc-w4.fabric-testbed.net\n",
      "Waiting for slice . Slice state: StableOK\n",
      "Waiting for ssh in slice . ssh successful\n",
      "post_boot_config\n",
      "build_interface_map\n",
      "Node data node0\n",
      "{}\n",
      "Node data node1\n",
      "{}\n",
      "Node data node2\n",
      "{}\n",
      "Node data node3\n",
      "{}\n",
      "Node data node4\n",
      "{}\n",
      "tacc-w5.fabric-testbed.net\n",
      "Waiting for slice MySlice_tacc-w5 at tacc-w5.fabric-testbed.net\n",
      "Waiting for slice . Slice state: StableOK\n",
      "Waiting for ssh in slice . ssh successful\n",
      "post_boot_config\n",
      "build_interface_map\n",
      "Node data node0\n",
      "{}\n",
      "Node data node1\n",
      "{}\n",
      "Node data node2\n",
      "{}\n",
      "Node data node3\n",
      "{}\n",
      "Node data node4\n",
      "{}\n"
     ]
    }
   ],
   "source": [
    "for site in test_sites:\n",
    "    print(f\"{site}\")\n",
    "    site_info = aggregates[site]\n",
    "    for node_info in site_info['Nodes']:\n",
    "        worker = node_info['Name']\n",
    "        worker_short_name = worker.split(\".\")[0]\n",
    "        print(f\"{worker}\")\n",
    "        try:\n",
    "            slice_name=f\"{slice_name_base}_{worker_short_name}\"\n",
    "            print(f\"Waiting for slice {slice_name} at {worker}\")\n",
    "\n",
    "            #Get Slice\n",
    "            slice = fablib.get_slice(slice_name)\n",
    "            \n",
    "            #Wait for ssh to be active\n",
    "            slice.wait_ssh(progress=True)\n",
    "            \n",
    "            #Run post boo config\n",
    "            slice.post_boot_config(verbose=False)\n",
    "        except Exception as e:\n",
    "            print(f\"Slice Failed: {e}\")\n",
    "            #traceback.print_exc()"
   ]
  },
  {
   "cell_type": "markdown",
   "metadata": {
    "tags": []
   },
   "source": [
    "### Print the Node's Attributes\n",
    "\n",
    "Each node in the slice has a set of get functions that return the node's attributes."
   ]
  },
  {
   "cell_type": "code",
   "execution_count": null,
   "metadata": {},
   "outputs": [],
   "source": [
    "for site in test_sites:\n",
    "    print(f\"{site}\")\n",
    "    site_info = aggregates[site]\n",
    "    for node_info in site_info['Nodes']:\n",
    "        worker = node_info['Name']\n",
    "        worker_short_name = worker.split(\".\")[0]\n",
    "        print(f\"{worker}\")\n",
    "        try:\n",
    "            slice_name=f\"{slice_name_base}_{worker_short_name}\"\n",
    "            print(f\"Get attributes for {slice_name} at {site}\")    \n",
    "            slice = fablib.get_slice(slice_name)\n",
    "            for node in slice.get_nodes():\n",
    "                print(\"Node:\")\n",
    "                print(f\"   Name              : {node.get_name()}\")\n",
    "                print(f\"   Cores             : {node.get_cores()}\")\n",
    "                print(f\"   RAM               : {node.get_ram()}\")\n",
    "                print(f\"   Disk              : {node.get_disk()}\")\n",
    "                print(f\"   Image             : {node.get_image()}\")\n",
    "                print(f\"   Image Type        : {node.get_image_type()}\")\n",
    "                print(f\"   Host              : {node.get_host()}\")\n",
    "                print(f\"   Site              : {node.get_site()}\")\n",
    "                print(f\"   Management IP     : {node.get_management_ip()}\")\n",
    "                print(f\"   Reservation ID    : {node.get_reservation_id()}\")\n",
    "                print(f\"   Reservation State : {node.get_reservation_state()}\")\n",
    "                print(f\"   Components        : {node.get_components()}\")\n",
    "                print(f\"   Interfaces        : {node.get_interfaces()}\")\n",
    "                print(f\"   SSH Command       : {node.get_ssh_command()}\")\n",
    "                \n",
    "                for component in node.get_components():\n",
    "                    print(f\"      Name             : {component.get_name()}\")\n",
    "                    print(f\"      Details          : {component.get_details()}\")\n",
    "                    print(f\"      Disk (G)         : {component.get_disk()}\")\n",
    "                    print(f\"      Units            : {component.get_unit()}\")\n",
    "                    print(f\"      PCI Address      : {component.get_pci_addr()}\")\n",
    "                    print(f\"      Model            : {component.get_model()}\")\n",
    "                    print(f\"      Type             : {component.get_type()}\") \n",
    "                print(f\"   Interfaces        :  \")\n",
    "                for interface in node.get_interfaces():\n",
    "                    print(f\"       Name                : {interface.get_name()}\")\n",
    "                    print(f\"           Bandwidth           : {interface.get_bandwidth()}\")\n",
    "                    print(f\"           VLAN                : {interface.get_vlan()}\")       \n",
    "                    print(f\"           OS Interface        : {interface.get_os_interface()}\")       \n",
    "            \n",
    "                print()    \n",
    "        except Exception as e:\n",
    "            print(f\"Fail: {e}\")"
   ]
  },
  {
   "cell_type": "markdown",
   "metadata": {
    "tags": []
   },
   "source": [
    "## Accessing the VM\n"
   ]
  },
  {
   "cell_type": "markdown",
   "metadata": {},
   "source": [
    "#### SSH with fablib\n",
    "\n",
    "Most experiments will require automated configuration and execution. You can use the fablib library to execute arbitrary commands on your node. \n",
    "\n",
    "The following code demonstrates how to use fablib to execute a \"Hello, FABRIC\" bash script. The library uses the bastion and VM keys defined at the top of this notebook to jump through the bastion host and execute the script."
   ]
  },
  {
   "cell_type": "code",
   "execution_count": null,
   "metadata": {},
   "outputs": [],
   "source": [
    "command= 'echo Hello, FABRIC from node `hostname -s`'"
   ]
  },
  {
   "cell_type": "code",
   "execution_count": null,
   "metadata": {},
   "outputs": [],
   "source": [
    "for site,workers in tests.items():\n",
    "    for worker in workers:\n",
    "        try:\n",
    "            slice_name=f\"{slice_name_base}_{worker}\"\n",
    "            print(f\"Executing command for {slice_name} at {site}\")    \n",
    "            slice = fablib.get_slice(slice_name)\n",
    "            for node in slice.get_nodes():\n",
    "                stdout, stderr = node.execute(command)\n",
    "                print(stdout)\n",
    "        except Exception as e:\n",
    "            print(f\"Fail: {e}\")"
   ]
  },
  {
   "cell_type": "markdown",
   "metadata": {
    "tags": []
   },
   "source": [
    "## Delete Slice\n",
    "\n",
    "Please delete your slicd when you are done with your experiment."
   ]
  },
  {
   "cell_type": "code",
   "execution_count": null,
   "metadata": {},
   "outputs": [],
   "source": [
    "for site,workers in tests.items():\n",
    "    for worker in workers:\n",
    "        try:\n",
    "            slice_name=f\"{slice_name_base}_{worker}\"\n",
    "\n",
    "            print(f\"Deleting for {slice_name} at {site}\")    \n",
    "            slice = fablib.get_slice(slice_name)\n",
    "            slice.delete()\n",
    "        except Exception as e:\n",
    "            print(f\"Fail: {e}\")"
   ]
  },
  {
   "cell_type": "code",
   "execution_count": null,
   "metadata": {},
   "outputs": [],
   "source": []
  },
  {
   "cell_type": "code",
   "execution_count": null,
   "metadata": {},
   "outputs": [],
   "source": []
  }
 ],
 "metadata": {
  "kernelspec": {
   "display_name": "Python 3 (ipykernel)",
   "language": "python",
   "name": "python3"
  },
  "language_info": {
   "codemirror_mode": {
    "name": "ipython",
    "version": 3
   },
   "file_extension": ".py",
   "mimetype": "text/x-python",
   "name": "python",
   "nbconvert_exporter": "python",
   "pygments_lexer": "ipython3",
   "version": "3.9.2"
  }
 },
 "nbformat": 4,
 "nbformat_minor": 4
}
