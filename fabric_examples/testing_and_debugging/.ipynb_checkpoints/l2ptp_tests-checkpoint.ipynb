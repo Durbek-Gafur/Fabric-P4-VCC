{
 "cells": [
  {
   "cell_type": "markdown",
   "metadata": {},
   "source": [
    "## Testing P2P Network Services\n",
    "\n",
    "Common configuration is in the notebook_utils/config_common.py file that is imported in the following cell. Please edit that file to config your invironment."
   ]
  },
  {
   "cell_type": "code",
   "execution_count": 2,
   "metadata": {},
   "outputs": [
    {
     "name": "stdout",
     "output_type": "stream",
     "text": [
      "Bastion Public Addr:           bastion-1.fabric-testbed.net\n",
      "Bastion Private IPv4 Addr:     192.168.11.226\n",
      "Bastion Private IPv6 Addr:     2600:2701:5000:a902::c\n",
      "Bastion Username:              pruth\n",
      "Bastion Private Keyfile:       /Users/pruth/.ssh/id_rsa_fabric\n",
      "Experiment Private Keyfile:    /Users/pruth/.ssh/id_rsa\n",
      "Experiment Public Keyfile:     /Users/pruth/.ssh/id_rsa.pub\n",
      "FABRIC Credential Manager:     cm.fabric-testbed.net\n",
      "FABRIC Orchestrator:           orchestrator.fabric-testbed.net\n"
     ]
    }
   ],
   "source": [
    "import os\n",
    "import sys\n",
    "from fabrictestbed.slice_manager import SliceManager, Status, SliceState\n",
    "import json\n",
    "module_path = os.path.abspath(os.path.join('.'))\n",
    "if module_path not in sys.path:\n",
    "    sys.path.append(module_path)\n",
    "\n",
    "#import fabric_notebook_config as notebook\n",
    "import fabric_notebook_utils as utils\n",
    "#import fabric_vm_utils as vm_utils\n",
    "\n"
   ]
  },
  {
   "cell_type": "markdown",
   "metadata": {},
   "source": [
    "## Create Slice Manager Object"
   ]
  },
  {
   "cell_type": "code",
   "execution_count": 3,
   "metadata": {},
   "outputs": [],
   "source": [
    "slice_manager = SliceManager(oc_host=utils.orchestrator_host, \n",
    "                             cm_host=utils.credmgr_host ,\n",
    "                             project_name='all', \n",
    "                             scope='all')\n",
    "\n",
    "# Initialize the slice manager\n",
    "slice_manager.initialize()"
   ]
  },
  {
   "cell_type": "markdown",
   "metadata": {},
   "source": [
    "### Orchestrator API example to query for available resources"
   ]
  },
  {
   "cell_type": "code",
   "execution_count": 4,
   "metadata": {},
   "outputs": [
    {
     "name": "stdout",
     "output_type": "stream",
     "text": [
      "Status: Status.OK\n",
      "Toplogy: NCSA: { cpu: 6/6 , core: 176/192 , ram: 1,456/1,536 G, disk: 60,200/60,600 G, unit: 3/3 }\n",
      "\tComponents:\n",
      "\t\tNVME-P4510:  NVME P4510 { disk: 7,680/9,600 G, unit: 8/10 }\n",
      "\t\tGPU-Tesla T4:  GPU Tesla T4 { unit: 2/2 }\n",
      "\t\tGPU-RTX6000:  GPU RTX6000 { unit: 3/3 }\n",
      "\t\tSmartNIC-ConnectX-5:  SmartNIC ConnectX-5 { unit: 2/2 }\n",
      "\t\tSmartNIC-ConnectX-6:  SmartNIC ConnectX-6 { unit: 2/2 }\n",
      "\t\tSharedNIC-ConnectX-6:  SharedNIC ConnectX-6 { unit: 377/381 }\n",
      "\tSite Interfaces:\n",
      "\t\tNCSA_STAR: TrunkPort { bw: 100/100 Gbps}\n",
      "TACC: { cpu: 10/10 , core: 320/320 , ram: 2,560/2,560 G, disk: 116,400/116,400 G, unit: 5/5 }\n",
      "\tComponents:\n",
      "\t\tSmartNIC-ConnectX-5:  SmartNIC ConnectX-5 { unit: 4/4 }\n",
      "\t\tGPU-RTX6000:  GPU RTX6000 { unit: 6/6 }\n",
      "\t\tGPU-Tesla T4:  GPU Tesla T4 { unit: 4/4 }\n",
      "\t\tNVME-P4510:  NVME P4510 { disk: 15,360/15,360 G, unit: 16/16 }\n",
      "\t\tSharedNIC-ConnectX-6:  SharedNIC ConnectX-6 { unit: 635/635 }\n",
      "\t\tSmartNIC-ConnectX-6:  SmartNIC ConnectX-6 { unit: 2/2 }\n",
      "\tSite Interfaces:\n",
      "\t\tTACC_UTAH: TrunkPort { bw: 100/100 Gbps}\n",
      "\t\tTACC_MAX: TrunkPort { bw: 100/100 Gbps}\n",
      "UTAH: { cpu: 10/10 , core: 318/320 , ram: 2,552/2,560 G, disk: 116,390/116,400 G, unit: 5/5 }\n",
      "\tComponents:\n",
      "\t\tGPU-RTX6000:  GPU RTX6000 { unit: 5/5 }\n",
      "\t\tGPU-Tesla T4:  GPU Tesla T4 { unit: 4/4 }\n",
      "\t\tNVME-P4510:  NVME P4510 { disk: 15,360/15,360 G, unit: 16/16 }\n",
      "\t\tSharedNIC-ConnectX-6:  SharedNIC ConnectX-6 { unit: 635/635 }\n",
      "\t\tSmartNIC-ConnectX-6:  SmartNIC ConnectX-6 { unit: 2/2 }\n",
      "\t\tSmartNIC-ConnectX-5:  SmartNIC ConnectX-5 { unit: 3/4 }\n",
      "\tSite Interfaces:\n",
      "\t\tUTAH_TACC: TrunkPort { bw: 100/100 Gbps}\n",
      "\t\tUTAH_STAR: TrunkPort { bw: 100/100 Gbps}\n",
      "MAX: { cpu: 10/10 , core: 308/320 , ram: 2,510/2,560 G, disk: 116,188/116,400 G, unit: 5/5 }\n",
      "\tComponents:\n",
      "\t\tSharedNIC-ConnectX-6:  SharedNIC ConnectX-6 { unit: 633/635 }\n",
      "\t\tGPU-Tesla T4:  GPU Tesla T4 { unit: 4/4 }\n",
      "\t\tGPU-RTX6000:  GPU RTX6000 { unit: 6/6 }\n",
      "\t\tSmartNIC-ConnectX-5:  SmartNIC ConnectX-5 { unit: 3/4 }\n",
      "\t\tSmartNIC-ConnectX-6:  SmartNIC ConnectX-6 { unit: 2/2 }\n",
      "\t\tNVME-P4510:  NVME P4510 { disk: 14,400/15,360 G, unit: 15/16 }\n",
      "\tSite Interfaces:\n",
      "\t\tMAX_TACC: TrunkPort { bw: 100/100 Gbps}\n",
      "\t\tMAX_STAR: TrunkPort { bw: 100/100 Gbps}\n",
      "SALT\n",
      "\tComponents:\n",
      "\tSite Interfaces:\n",
      "STAR: { cpu: 12/12 , core: 380/384 , ram: 3,056/3,072 G, disk: 121,180/121,200 G, unit: 6/6 }\n",
      "\tComponents:\n",
      "\t\tNVME-P4510:  NVME P4510 { disk: 20,000/20,000 G, unit: 20/20 }\n",
      "\t\tGPU-Tesla T4:  GPU Tesla T4 { unit: 6/6 }\n",
      "\t\tGPU-RTX6000:  GPU RTX6000 { unit: 6/6 }\n",
      "\t\tSmartNIC-ConnectX-5:  SmartNIC ConnectX-5 { unit: 5/6 }\n",
      "\t\tSmartNIC-ConnectX-6:  SmartNIC ConnectX-6 { unit: 2/2 }\n",
      "\t\tSharedNIC-ConnectX-6:  SharedNIC ConnectX-6 { unit: 762/762 }\n",
      "\tSite Interfaces:\n",
      "\t\tSTAR_UTAH: TrunkPort { bw: 100/100 Gbps}\n",
      "\t\tSTAR_MAX: TrunkPort { bw: 100/100 Gbps}\n",
      "\t\tSTAR_NCSA: TrunkPort { bw: 100/100 Gbps}\n",
      "WASH\n",
      "\tComponents:\n",
      "\tSite Interfaces:\n",
      "DALL\n",
      "\tComponents:\n",
      "\tSite Interfaces:\n",
      "MICH\n",
      "\tComponents:\n",
      "\tSite Interfaces:\n",
      "Links:\n",
      "\tport+max-data-sw:HundredGigE0/0/0/22.2051 to port+tacc-data-sw:HundredGigE0/0/0/23.3160[L2Path]: ['TACC_MAX', 'MAX_TACC']\n",
      "\tport+tacc-data-sw:HundredGigE0/0/0/23.3161 to port+utah-data-sw:HundredGigE0/0/0/22.2091[L2Path]: ['UTAH_TACC', 'TACC_UTAH']\n",
      "\tport+star-data-sw:HundredGigE0/0/0/30.3722 to port+utah-data-sw:HundredGigE0/0/0/22.2090[L2Path]: ['STAR_UTAH', 'UTAH_STAR']\n",
      "\tport+max-data-sw:HundredGigE0/0/0/22.2052 to port+star-data-sw:HundredGigE0/0/0/30.3721[L2Path]: ['STAR_MAX', 'MAX_STAR']\n",
      "\tport+ncsa-data-sw:HundredGigE0/0/0/23.3710 to port+star-data-sw:HundredGigE0/0/0/30.3710[L2Path]: ['STAR_NCSA', 'NCSA_STAR']\n"
     ]
    }
   ],
   "source": [
    "status, advertised_topology = slice_manager.resources()\n",
    "\n",
    "print(f\"Status: {status}\")\n",
    "if status == Status.OK:\n",
    "    print(f\"Toplogy: {advertised_topology}\")\n",
    "else:\n",
    "    print(f\"Error: {advertised_topology}\")"
   ]
  },
  {
   "cell_type": "code",
   "execution_count": 5,
   "metadata": {},
   "outputs": [
    {
     "data": {
      "image/png": "[encoded data removed]",
      "text/plain": [
       "<Figure size 432x288 with 1 Axes>"
      ]
     },
     "metadata": {},
     "output_type": "display_data"
    }
   ],
   "source": [
    "if status == Status.OK:\n",
    "    advertised_topology.draw()"
   ]
  },
  {
   "cell_type": "markdown",
   "metadata": {
    "tags": []
   },
   "source": [
    "## Create Slice\n",
    "In Release 1.0, user is expected to assign the IP addresses manually. Please use the example comands indicated below:"
   ]
  },
  {
   "cell_type": "markdown",
   "metadata": {
    "tags": []
   },
   "source": [
    "## Configure Slice Parameters\n",
    "\n"
   ]
  },
  {
   "cell_type": "code",
   "execution_count": 6,
   "metadata": {},
   "outputs": [],
   "source": [
    "site_tests = [('UTAH','MAX'), ('STAR','NCSA')]\n",
    "\n",
    "\n",
    "#node1_name = 'Node1'\n",
    "#node2_name = 'Node2'\n",
    "network_service_name='p2p1'\n",
    "#nic1_name = 'node1-nic1'\n",
    "#nic2_name = 'node2-nic1'\n",
    "username='centos'\n",
    "image = 'default_centos_8'\n",
    "#username='ubuntu'\n",
    "#image = 'default_ubuntu_20'\n",
    "image_type = 'qcow2'\n",
    "cores = 2\n",
    "ram = 8\n",
    "disk = 10"
   ]
  },
  {
   "cell_type": "markdown",
   "metadata": {},
   "source": [
    "### Utility Functions"
   ]
  },
  {
   "cell_type": "code",
   "execution_count": 11,
   "metadata": {},
   "outputs": [],
   "source": [
    "from fabrictestbed.slice_editor import ExperimentTopology, Capacities, ComponentType, ComponentModelType, ServiceType\n",
    "\n",
    "def create_p2p_slice(node1_site=None, node2_site=None, slice_name='P2Ptest', n1_component_type=ComponentModelType.SmartNIC_ConnectX_5, n2_component_type=ComponentModelType.SmartNIC_ConnectX_5):\n",
    "\n",
    "    node1_name = node1_site+'Node'\n",
    "    node2_name = node2_site+'Node'\n",
    "    nic1_name = node1_name+'-nic1'\n",
    "    nic2_name = node2_name+'-nic1'\n",
    "    \n",
    "    \n",
    "    # Create topology\n",
    "    t = ExperimentTopology()\n",
    "\n",
    "    # Add node\n",
    "    n1 = t.add_node(name=node1_name, site=node1_site)\n",
    "\n",
    "    # Set capacities\n",
    "    cap = Capacities()\n",
    "    cap.set_fields(core=cores, ram=ram, disk=disk)\n",
    "\n",
    "    # Set Properties\n",
    "    n1.set_properties(capacities=cap, image_type=image_type, image_ref=image)\n",
    "\n",
    "    # Add node\n",
    "    n2 = t.add_node(name=node2_name, site=node2_site)\n",
    "\n",
    "    # Set properties\n",
    "    n2.set_properties(capacities=cap, image_type=image_type, image_ref=image)\n",
    "\n",
    "    # Shared Cards\n",
    "    n1.add_component(model_type=n1_component_type, name=nic1_name)\n",
    "    n2.add_component(model_type=n2_component_type, name=nic2_name)\n",
    "\n",
    "    if_labels = n1.interface_list[0].get_property(pname=\"labels\")\n",
    "    if_labels.vlan = \"200\"\n",
    "    n1.interface_list[0].set_properties(labels=if_labels)\n",
    "    if_labels = n2.interface_list[0].get_property(pname=\"labels\")\n",
    "    if_labels.vlan = \"200\"\n",
    "    n2.interface_list[0].set_properties(labels=if_labels)\n",
    "\n",
    "    # L2PTP Service\n",
    "    t.add_network_service(name='ptp1', nstype=ServiceType.L2PTP,\n",
    "                          interfaces=[n1.interface_list[0], n2.interface_list[0]])\n",
    "\n",
    "\n",
    "\n",
    "    # Generate Slice Graph\n",
    "    slice_graph = t.serialize()\n",
    "\n",
    "    # Request slice from Orchestrator\n",
    "    return_status, slice_reservations = slice_manager.create(slice_name=slice_name, \n",
    "                                                slice_graph=slice_graph, \n",
    "                                                ssh_key=utils.ssh_key_pub)\n",
    "\n",
    "    if return_status == Status.OK:\n",
    "        slice_id = slice_reservations[0].get_slice_id()\n",
    "        print(\"Submitted slice creation request. Slice ID: {}\".format(slice_id))\n",
    "    else:\n",
    "        print(f\"Failure: {slice_reservations}\")\n",
    "        \n",
    "    return slice_id\n",
    "\n",
    "def print_nodes(verbose=False):\n",
    "    return_status, experiment_topology = slice_manager.get_slice_topology(slice_object=slice)\n",
    "\n",
    "    for node_name, node in experiment_topology.nodes.items():\n",
    "        if verbose:\n",
    "            print(\"Node:\")\n",
    "            print(\"   Name              : {}\".format(node.name))\n",
    "            print(\"   Cores             : {}\".format(node.get_property(pname='capacity_allocations').core))\n",
    "            print(\"   RAM               : {}\".format(node.get_property(pname='capacity_allocations').ram))\n",
    "            print(\"   Disk              : {}\".format(node.get_property(pname='capacity_allocations').disk))\n",
    "            print(\"   Image             : {}\".format(node.image_ref))\n",
    "            print(\"   Image Type        : {}\".format(node.image_type))\n",
    "            print(\"   Host              : {}\".format(node.get_property(pname='label_allocations').instance_parent))\n",
    "            print(\"   Site              : {}\".format(node.site))\n",
    "            print(\"   Management IP     : {}\".format(node.management_ip))\n",
    "            print(\"   Reservation ID    : {}\".format(node.get_property(pname='reservation_info').reservation_id))\n",
    "            print(\"   Reservation State : {}\".format(node.get_property(pname='reservation_info').reservation_state))\n",
    "            print(\"   Components        : {}\".format(node.components))\n",
    "            print(\"   Interfaces        : {}\".format(node.interfaces))\n",
    "            print()    \n",
    "        else:\n",
    "            print(\"{}: manegement_ip: {}\".format(node.name,node.management_ip))\n",
    "        \n",
    "def configure_nodes():\n",
    "    return_status, experiment_topology = slice_manager.get_slice_topology(slice_object=slice)   \n",
    "\n",
    "    for node_name, node in experiment_topology.nodes.items():\n",
    "        management_ip = str(node.management_ip)\n",
    "\n",
    "        stdout = utils.execute_script(username, node, 'sudo yum install -q -y python3 python3-netifaces')\n",
    "        #print(\"stdout: {}\".format(stdout))\n",
    "\n",
    "        file_attributes = utils.upload_file(username, node, 'fabric_vm_utils.py','fabric_vm_utils.py')\n",
    "        #print(\"file_attributes: {}\".format(file_attributes))\n",
    "        \n",
    "def run_tests(node1_name,node2_name):\n",
    "    import ast\n",
    "\n",
    "    return_status, experiment_topology = slice_manager.get_slice_topology(slice_object=slice)   \n",
    "\n",
    "\n",
    "    #for node_name, node in experiment_topology.nodes.items():\n",
    "    #Node1\n",
    "    node1 = experiment_topology.nodes[node1_name]\n",
    "    node_ip = '192.168.1.1'\n",
    "    node_cidr = '24'\n",
    "    management_ip = str(node1.management_ip)\n",
    "\n",
    "    print(\"{}: manegement_ip: {}\".format(node1.name,node1.management_ip), end='')\n",
    "    stdout = utils.execute_script(username, node1, 'sudo python3 fabric_vm_utils.py {} {} {}'.format('get_management_iface',node_ip,node_cidr) )\n",
    "    print(\", management_iface: {}\".format(stdout), end='')\n",
    "\n",
    "    stdout = utils.execute_script(username, node1, 'sudo python3 fabric_vm_utils.py {} {} {}'.format('get_datalane_ifaces',node_ip,node_cidr) )\n",
    "    #print(\"stdout: {}\".format(stdout))\n",
    "    dataplane_ifaces = ast.literal_eval(stdout) \n",
    "    print(\"dataplane_ifaces: {}\".format(dataplane_ifaces))\n",
    "    #for iface in dataplane_ifaces:\n",
    "        #print(\"dataplane iface: {}\".format(iface))\n",
    "        #stdout = utils.execute_script('ubuntu', node, 'sudo python3 fabric_vm_utils.py {} {} {}'.format('delete_vlan_iface', iface, 200) )\n",
    "\n",
    "    \n",
    "    #Node2\n",
    "    node2 = experiment_topology.nodes[node2_name]\n",
    "    node_ip = '192.168.1.2'\n",
    "    node_cidr = '24'\n",
    "    management_ip = str(node2.management_ip)\n",
    "\n",
    "    print(\"{}: manegement_ip: {}\".format(node2.name,node2.management_ip), end='')\n",
    "    stdout = utils.execute_script(username, node2, 'sudo python3 fabric_vm_utils.py {} {} {}'.format('get_management_iface',node_ip,node_cidr) )\n",
    "    print(\", management_iface: {}\".format(stdout), end='')\n",
    "\n",
    "    stdout = utils.execute_script(username, node2, 'sudo python3 fabric_vm_utils.py {} {} {}'.format('get_datalane_ifaces',node_ip,node_cidr) )\n",
    "    #print(\"stdout: {}\".format(stdout))\n",
    "    dataplane_ifaces = ast.literal_eval(stdout) \n",
    "    print(\"dataplane_ifaces: {}\".format(dataplane_ifaces))\n",
    "    #for iface in dataplane_ifaces:\n",
    "        #print(\"dataplane iface: {}\".format(iface))\n",
    "        #stdout = utils.execute_script('ubuntu', node, 'sudo python3 fabric_vm_utils.py {} {} {}'.format('delete_vlan_iface', iface, 200) )\n",
    "   \n",
    "\n",
    "    #Find Mapping\n",
    "    utils.find_nic_mapping(node1=node1, node1_username=username, node1_vlan='200',  \n",
    "                           node2=node2, node2_username=username, node2_vlan='200')\n"
   ]
  },
  {
   "cell_type": "markdown",
   "metadata": {
    "tags": []
   },
   "source": [
    "## Run Experiment"
   ]
  },
  {
   "cell_type": "code",
   "execution_count": 14,
   "metadata": {
    "tags": []
   },
   "outputs": [
    {
     "name": "stdout",
     "output_type": "stream",
     "text": [
      "XXXXXXXXXXXXXXXXXX P2P Test: UTAH <-> MAX XXXXXXXXXXXXXXXXXX\n",
      "Submitted slice creation request. Slice ID: 9cc30fb1-34b6-41dd-a5b4-2c801c807bcb\n",
      "Waiting for slice .......... Slice state: StableOK\n",
      "\n",
      "Slice Name : P2PTest_UTAH_MAX\n",
      "ID         : 9cc30fb1-34b6-41dd-a5b4-2c801c807bcb\n",
      "State      : StableOK\n",
      "Lease End  : 2021-11-19 15:17:30\n",
      "UTAHNode: manegement_ip: 2001:1948:417:7:f816:3eff:fe21:265d\n",
      "MAXNode: manegement_ip: 63.239.135.113\n",
      "UTAHNode: manegement_ip: 2001:1948:417:7:f816:3eff:fe21:265d, management_iface: ['eth0']\n",
      "dataplane_ifaces: ['eth1', 'eth2']\n",
      "MAXNode: manegement_ip: 63.239.135.113, management_iface: ['eth0']\n",
      "dataplane_ifaces: ['eth1', 'eth2']\n",
      "node1_dataplane_ifaces: ['eth1', 'eth2']\n",
      "node2_dataplane_ifaces: ['eth1', 'eth2']\n",
      "Node1: eth1.200, Node2: eth1.200, rtt 83.567, Success! \n",
      "Fail! Node1: eth1.200, Node2: eth2.200, Fail! \n",
      "Fail! Node1: eth2.200, Node2: eth1.200, Fail! \n",
      "Fail! Node1: eth2.200, Node2: eth2.200, Fail! \n",
      "Response Status Status.OK\n",
      "Response received None\n",
      "XXXXXXXXXXXXXXXXXX P2P Test: STAR <-> NCSA XXXXXXXXXXXXXXXXXX\n",
      "Submitted slice creation request. Slice ID: 2a5759c4-17e7-4faa-a6a3-81857c890cf2\n",
      "Waiting for slice ............................... Timeout exceeded (300 sec). Slice: P2PTest_STAR_NCSA (Configuring)\n",
      "\n",
      "Slice Name : P2PTest_STAR_NCSA\n",
      "ID         : 2a5759c4-17e7-4faa-a6a3-81857c890cf2\n",
      "State      : Configuring\n",
      "Lease End  : 2021-11-19 15:21:19\n",
      "STARNode: manegement_ip: 2001:400:a100:3030:f816:3eff:fe3e:6489\n",
      "NCSANode: manegement_ip: None\n",
      "STARNode: manegement_ip: 2001:400:a100:3030:f816:3eff:fe3e:6489, management_iface: ['eth0']\n",
      "dataplane_ifaces: ['eth1', 'eth2']\n",
      "NCSANode: manegement_ip: None, management_iface: Management IP Invalid: None"
     ]
    },
    {
     "ename": "SyntaxError",
     "evalue": "invalid syntax (<unknown>, line 1)",
     "output_type": "error",
     "traceback": [
      "Traceback \u001b[0;36m(most recent call last)\u001b[0m:\n",
      "  File \u001b[1;32m\"/Users/pruth/FABRIC/venv-fabric-jupyter/lib/python3.9/site-packages/IPython/core/interactiveshell.py\"\u001b[0m, line \u001b[1;32m3444\u001b[0m, in \u001b[1;35mrun_code\u001b[0m\n    exec(code_obj, self.user_global_ns, self.user_ns)\n",
      "  File \u001b[1;32m\"/var/folders/_l/8dq3pgzx6bjgt8qrr1m9jgc80000gp/T/ipykernel_6439/1418881821.py\"\u001b[0m, line \u001b[1;32m35\u001b[0m, in \u001b[1;35m<module>\u001b[0m\n    run_tests(node1_name,node2_name)\n",
      "  File \u001b[1;32m\"/var/folders/_l/8dq3pgzx6bjgt8qrr1m9jgc80000gp/T/ipykernel_6439/3707523814.py\"\u001b[0m, line \u001b[1;32m136\u001b[0m, in \u001b[1;35mrun_tests\u001b[0m\n    dataplane_ifaces = ast.literal_eval(stdout)\n",
      "  File \u001b[1;32m\"/usr/local/Cellar/python@3.9/3.9.2/Frameworks/Python.framework/Versions/3.9/lib/python3.9/ast.py\"\u001b[0m, line \u001b[1;32m62\u001b[0m, in \u001b[1;35mliteral_eval\u001b[0m\n    node_or_string = parse(node_or_string, mode='eval')\n",
      "\u001b[0;36m  File \u001b[0;32m\"/usr/local/Cellar/python@3.9/3.9.2/Frameworks/Python.framework/Versions/3.9/lib/python3.9/ast.py\"\u001b[0;36m, line \u001b[0;32m50\u001b[0;36m, in \u001b[0;35mparse\u001b[0;36m\u001b[0m\n\u001b[0;31m    return compile(source, filename, mode, flags,\u001b[0m\n",
      "\u001b[0;36m  File \u001b[0;32m\"<unknown>\"\u001b[0;36m, line \u001b[0;32m1\u001b[0m\n\u001b[0;31m    Management IP Invalid: None\u001b[0m\n\u001b[0m               ^\u001b[0m\n\u001b[0;31mSyntaxError\u001b[0m\u001b[0;31m:\u001b[0m invalid syntax\n"
     ]
    }
   ],
   "source": [
    "import time\n",
    "\n",
    "for test in site_tests:\n",
    "    node1_site = test[0]\n",
    "    node2_site = test[1]\n",
    "\n",
    "    slice_name='P2PTest_{}_{}'.format(node1_site,node2_site)\n",
    "    print(\"XXXXXXXXXXXXXXXXXX P2P Test: {} <-> {} XXXXXXXXXXXXXXXXXX\".format(node1_site,node2_site))\n",
    "    try:\n",
    "        create_p2p_slice(node1_site=node1_site, \n",
    "                         node2_site=node2_site, \n",
    "                         slice_name=slice_name, \n",
    "                         n1_component_type=ComponentModelType.SmartNIC_ConnectX_5, \n",
    "                         n2_component_type=ComponentModelType.SmartNIC_ConnectX_5)\n",
    "\n",
    "\n",
    "        return_status, slices = slice_manager.slices(excludes=[SliceState.Dead,SliceState.Closing])\n",
    "\n",
    "        if return_status == Status.OK:\n",
    "            slice = list(filter(lambda x: x.slice_name == slice_name, slices))[0]\n",
    "            slice = utils.wait_for_slice(slice, timeout=300, progress=True, slice_manager=slice_manager)\n",
    "\n",
    "        print()\n",
    "        print(\"Slice Name : {}\".format(slice.slice_name))\n",
    "        print(\"ID         : {}\".format(slice.slice_id))\n",
    "        print(\"State      : {}\".format(slice.slice_state))\n",
    "        print(\"Lease End  : {}\".format(slice.lease_end))\n",
    "\n",
    "        time.sleep(30)\n",
    "\n",
    "        node1_name = node1_site+'Node'\n",
    "        node2_name = node2_site+'Node'\n",
    "\n",
    "        print_nodes()  \n",
    "        configure_nodes()\n",
    "        run_tests(node1_name,node2_name)\n",
    "\n",
    "        #Delete Slice\n",
    "        return_status, result = slice_manager.delete(slice_object=slice)\n",
    "\n",
    "        print(\"Response Status {}\".format(return_status))\n",
    "        print(\"Response received {}\".format(result))\n",
    "        time.sleep(10)\n",
    "    except Exception as e:\n",
    "        print(\"Error: {}\".format(str(e)))"
   ]
  },
  {
   "cell_type": "markdown",
   "metadata": {},
   "source": [
    "## Delete Slice"
   ]
  },
  {
   "cell_type": "code",
   "execution_count": null,
   "metadata": {},
   "outputs": [],
   "source": [
    "return_status, result = slice_manager.delete(slice_object=slice)\n",
    "\n",
    "print(\"Response Status {}\".format(return_status))\n",
    "print(\"Response received {}\".format(result))"
   ]
  },
  {
   "cell_type": "code",
   "execution_count": null,
   "metadata": {},
   "outputs": [],
   "source": []
  }
 ],
 "metadata": {
  "kernelspec": {
   "display_name": "Python 3 (ipykernel)",
   "language": "python",
   "name": "python3"
  },
  "language_info": {
   "codemirror_mode": {
    "name": "ipython",
    "version": 3
   },
   "file_extension": ".py",
   "mimetype": "text/x-python",
   "name": "python",
   "nbconvert_exporter": "python",
   "pygments_lexer": "ipython3",
   "version": "3.9.2"
  }
 },
 "nbformat": 4,
 "nbformat_minor": 4
}
