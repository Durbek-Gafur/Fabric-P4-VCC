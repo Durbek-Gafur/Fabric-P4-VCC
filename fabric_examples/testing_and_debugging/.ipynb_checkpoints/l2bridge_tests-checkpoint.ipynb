{
 "cells": [
  {
   "cell_type": "markdown",
   "metadata": {},
   "source": [
    "## Testing L2Bridge Network Services\n",
    "\n",
    "Common configuration is in the notebook_utils/config_common.py file that is imported in the following cell. Please edit that file to config your invironment."
   ]
  },
  {
   "cell_type": "code",
   "execution_count": 1,
   "metadata": {},
   "outputs": [
    {
     "name": "stdout",
     "output_type": "stream",
     "text": [
      "Bastion Public Addr:           bastion-1.fabric-testbed.net\n",
      "Bastion Private IPv4 Addr:     192.168.11.226\n",
      "Bastion Private IPv6 Addr:     2600:2701:5000:a902::c\n",
      "Bastion Username:              pruth\n",
      "Bastion Private Keyfile:       /Users/pruth/.ssh/id_rsa_fabric\n",
      "Experiment Private Keyfile:    /Users/pruth/.ssh/id_rsa\n",
      "Experiment Public Keyfile:     /Users/pruth/.ssh/id_rsa.pub\n",
      "FABRIC Credential Manager:     cm.fabric-testbed.net\n",
      "FABRIC Orchestrator:           orchestrator.fabric-testbed.net\n"
     ]
    }
   ],
   "source": [
    "import os\n",
    "import sys\n",
    "from fabrictestbed.slice_manager import SliceManager, Status, SliceState\n",
    "import json\n",
    "module_path = os.path.abspath(os.path.join('.'))\n",
    "if module_path not in sys.path:\n",
    "    sys.path.append(module_path)\n",
    "\n",
    "#import fabric_notebook_config as notebook\n",
    "import fabric_notebook_utils as utils\n",
    "#import fabric_vm_utils as vm_utils\n",
    "\n"
   ]
  },
  {
   "cell_type": "markdown",
   "metadata": {},
   "source": [
    "## Create Slice Manager Object"
   ]
  },
  {
   "cell_type": "code",
   "execution_count": 2,
   "metadata": {},
   "outputs": [],
   "source": [
    "slice_manager = SliceManager(oc_host=utils.orchestrator_host, \n",
    "                             cm_host=utils.credmgr_host ,\n",
    "                             project_name='all', \n",
    "                             scope='all')\n",
    "\n",
    "# Initialize the slice manager\n",
    "slice_manager.initialize()"
   ]
  },
  {
   "cell_type": "markdown",
   "metadata": {},
   "source": [
    "### Orchestrator API example to query for available resources"
   ]
  },
  {
   "cell_type": "code",
   "execution_count": 3,
   "metadata": {},
   "outputs": [
    {
     "ename": "SliceManagerException",
     "evalue": "<html>\r\n<head><title>504 Gateway Time-out</title></head>\r\n<body>\r\n<center><h1>504 Gateway Time-out</h1></center>\r\n<hr><center>nginx/1.21.1</center>\r\n</body>\r\n</html>\r\n",
     "output_type": "error",
     "traceback": [
      "\u001b[0;31m---------------------------------------------------------------------------\u001b[0m",
      "\u001b[0;31mSliceManagerException\u001b[0m                     Traceback (most recent call last)",
      "\u001b[0;32m/var/folders/_l/8dq3pgzx6bjgt8qrr1m9jgc80000gp/T/ipykernel_35080/3294016887.py\u001b[0m in \u001b[0;36m<module>\u001b[0;34m\u001b[0m\n\u001b[0;32m----> 1\u001b[0;31m \u001b[0mstatus\u001b[0m\u001b[0;34m,\u001b[0m \u001b[0madvertised_topology\u001b[0m \u001b[0;34m=\u001b[0m \u001b[0mslice_manager\u001b[0m\u001b[0;34m.\u001b[0m\u001b[0mresources\u001b[0m\u001b[0;34m(\u001b[0m\u001b[0;34m)\u001b[0m\u001b[0;34m\u001b[0m\u001b[0;34m\u001b[0m\u001b[0m\n\u001b[0m\u001b[1;32m      2\u001b[0m \u001b[0;34m\u001b[0m\u001b[0m\n\u001b[1;32m      3\u001b[0m \u001b[0mprint\u001b[0m\u001b[0;34m(\u001b[0m\u001b[0;34mf\"Status: {status}\"\u001b[0m\u001b[0;34m)\u001b[0m\u001b[0;34m\u001b[0m\u001b[0;34m\u001b[0m\u001b[0m\n\u001b[1;32m      4\u001b[0m \u001b[0;32mif\u001b[0m \u001b[0mstatus\u001b[0m \u001b[0;34m==\u001b[0m \u001b[0mStatus\u001b[0m\u001b[0;34m.\u001b[0m\u001b[0mOK\u001b[0m\u001b[0;34m:\u001b[0m\u001b[0;34m\u001b[0m\u001b[0;34m\u001b[0m\u001b[0m\n\u001b[1;32m      5\u001b[0m     \u001b[0mprint\u001b[0m\u001b[0;34m(\u001b[0m\u001b[0;34mf\"Toplogy: {advertised_topology}\"\u001b[0m\u001b[0;34m)\u001b[0m\u001b[0;34m\u001b[0m\u001b[0;34m\u001b[0m\u001b[0m\n",
      "\u001b[0;32m~/FABRIC/venv-fabric-jupyter/lib/python3.9/site-packages/fabrictestbed/slice_manager/slice_manager.py\u001b[0m in \u001b[0;36mresources\u001b[0;34m(self, level)\u001b[0m\n\u001b[1;32m    282\u001b[0m         \"\"\"\n\u001b[1;32m    283\u001b[0m         \u001b[0;32mif\u001b[0m \u001b[0mself\u001b[0m\u001b[0;34m.\u001b[0m\u001b[0m__should_renew\u001b[0m\u001b[0;34m(\u001b[0m\u001b[0;34m)\u001b[0m\u001b[0;34m:\u001b[0m\u001b[0;34m\u001b[0m\u001b[0;34m\u001b[0m\u001b[0m\n\u001b[0;32m--> 284\u001b[0;31m             \u001b[0mself\u001b[0m\u001b[0;34m.\u001b[0m\u001b[0mrefresh_tokens\u001b[0m\u001b[0;34m(\u001b[0m\u001b[0;34m)\u001b[0m\u001b[0;34m\u001b[0m\u001b[0;34m\u001b[0m\u001b[0m\n\u001b[0m\u001b[1;32m    285\u001b[0m         \u001b[0;32mreturn\u001b[0m \u001b[0mself\u001b[0m\u001b[0;34m.\u001b[0m\u001b[0moc_proxy\u001b[0m\u001b[0;34m.\u001b[0m\u001b[0mresources\u001b[0m\u001b[0;34m(\u001b[0m\u001b[0mtoken\u001b[0m\u001b[0;34m=\u001b[0m\u001b[0mself\u001b[0m\u001b[0;34m.\u001b[0m\u001b[0mget_id_token\u001b[0m\u001b[0;34m(\u001b[0m\u001b[0;34m)\u001b[0m\u001b[0;34m,\u001b[0m \u001b[0mlevel\u001b[0m\u001b[0;34m=\u001b[0m\u001b[0mlevel\u001b[0m\u001b[0;34m)\u001b[0m\u001b[0;34m\u001b[0m\u001b[0;34m\u001b[0m\u001b[0m\n\u001b[1;32m    286\u001b[0m \u001b[0;34m\u001b[0m\u001b[0m\n",
      "\u001b[0;32m~/FABRIC/venv-fabric-jupyter/lib/python3.9/site-packages/fabrictestbed/slice_manager/slice_manager.py\u001b[0m in \u001b[0;36mrefresh_tokens\u001b[0;34m(self, refresh_token)\u001b[0m\n\u001b[1;32m    151\u001b[0m             \u001b[0mself\u001b[0m\u001b[0;34m.\u001b[0m\u001b[0mtokens\u001b[0m \u001b[0;34m=\u001b[0m \u001b[0mtokens\u001b[0m\u001b[0;34m\u001b[0m\u001b[0;34m\u001b[0m\u001b[0m\n\u001b[1;32m    152\u001b[0m             \u001b[0;32mreturn\u001b[0m \u001b[0mtokens\u001b[0m\u001b[0;34m.\u001b[0m\u001b[0mget\u001b[0m\u001b[0;34m(\u001b[0m\u001b[0mCredmgrProxy\u001b[0m\u001b[0;34m.\u001b[0m\u001b[0mID_TOKEN\u001b[0m\u001b[0;34m,\u001b[0m \u001b[0;32mNone\u001b[0m\u001b[0;34m)\u001b[0m\u001b[0;34m,\u001b[0m \u001b[0mtokens\u001b[0m\u001b[0;34m.\u001b[0m\u001b[0mget\u001b[0m\u001b[0;34m(\u001b[0m\u001b[0mCredmgrProxy\u001b[0m\u001b[0;34m.\u001b[0m\u001b[0mREFRESH_TOKEN\u001b[0m\u001b[0;34m,\u001b[0m \u001b[0;32mNone\u001b[0m\u001b[0;34m)\u001b[0m\u001b[0;34m\u001b[0m\u001b[0;34m\u001b[0m\u001b[0m\n\u001b[0;32m--> 153\u001b[0;31m         \u001b[0;32mraise\u001b[0m \u001b[0mSliceManagerException\u001b[0m\u001b[0;34m(\u001b[0m\u001b[0mtokens\u001b[0m\u001b[0;34m.\u001b[0m\u001b[0mget\u001b[0m\u001b[0;34m(\u001b[0m\u001b[0mCredmgrProxy\u001b[0m\u001b[0;34m.\u001b[0m\u001b[0mERROR\u001b[0m\u001b[0;34m)\u001b[0m\u001b[0;34m)\u001b[0m\u001b[0;34m\u001b[0m\u001b[0;34m\u001b[0m\u001b[0m\n\u001b[0m\u001b[1;32m    154\u001b[0m \u001b[0;34m\u001b[0m\u001b[0m\n\u001b[1;32m    155\u001b[0m     \u001b[0;32mdef\u001b[0m \u001b[0mrevoke_token\u001b[0m\u001b[0;34m(\u001b[0m\u001b[0mself\u001b[0m\u001b[0;34m,\u001b[0m \u001b[0;34m*\u001b[0m\u001b[0;34m,\u001b[0m \u001b[0mrefresh_token\u001b[0m\u001b[0;34m:\u001b[0m \u001b[0mstr\u001b[0m \u001b[0;34m=\u001b[0m \u001b[0;32mNone\u001b[0m\u001b[0;34m)\u001b[0m \u001b[0;34m->\u001b[0m \u001b[0mTuple\u001b[0m\u001b[0;34m[\u001b[0m\u001b[0mStatus\u001b[0m\u001b[0;34m,\u001b[0m \u001b[0mAny\u001b[0m\u001b[0;34m]\u001b[0m\u001b[0;34m:\u001b[0m\u001b[0;34m\u001b[0m\u001b[0;34m\u001b[0m\u001b[0m\n",
      "\u001b[0;31mSliceManagerException\u001b[0m: <html>\r\n<head><title>504 Gateway Time-out</title></head>\r\n<body>\r\n<center><h1>504 Gateway Time-out</h1></center>\r\n<hr><center>nginx/1.21.1</center>\r\n</body>\r\n</html>\r\n"
     ]
    }
   ],
   "source": [
    "status, advertised_topology = slice_manager.resources()\n",
    "\n",
    "print(f\"Status: {status}\")\n",
    "if status == Status.OK:\n",
    "    print(f\"Toplogy: {advertised_topology}\")\n",
    "else:\n",
    "    print(f\"Error: {advertised_topology}\")"
   ]
  },
  {
   "cell_type": "code",
   "execution_count": null,
   "metadata": {},
   "outputs": [],
   "source": [
    "if status == Status.OK:\n",
    "    advertised_topology.draw()"
   ]
  },
  {
   "cell_type": "markdown",
   "metadata": {
    "tags": []
   },
   "source": [
    "## Create Slice\n",
    "In Release 1.0, user is expected to assign the IP addresses manually. Please use the example comands indicated below:"
   ]
  },
  {
   "cell_type": "markdown",
   "metadata": {
    "tags": []
   },
   "source": [
    "## Configure Slice Parameters\n",
    "\n"
   ]
  },
  {
   "cell_type": "code",
   "execution_count": null,
   "metadata": {},
   "outputs": [],
   "source": [
    "slice_name = 'MySlice_L2Bridge'\n",
    "site = 'TACC'\n",
    "node1_name = 'Node1'\n",
    "node2_name = 'Node2'\n",
    "network_service_name='p2p1'\n",
    "nic1_name = 'node1-nic1'\n",
    "nic2_name = 'node2-nic1'\n",
    "#username='centos'\n",
    "#image = 'default_centos_8'\n",
    "username='ubuntu'\n",
    "image = 'default_ubuntu_20'\n",
    "image_type = 'qcow2'\n",
    "cores = 2\n",
    "ram = 8\n",
    "disk = 10"
   ]
  },
  {
   "cell_type": "code",
   "execution_count": null,
   "metadata": {},
   "outputs": [],
   "source": [
    "from fabrictestbed.slice_editor import ExperimentTopology, Capacities, ComponentType, ComponentModelType, ServiceType\n",
    "# Create topology\n",
    "t = ExperimentTopology()\n",
    "\n",
    "# Add node\n",
    "n1 = t.add_node(name=node1_name, site=site)\n",
    "\n",
    "# Set capacities\n",
    "cap = Capacities()\n",
    "cap.set_fields(core=cores, ram=ram, disk=disk)\n",
    "\n",
    "# Set Properties\n",
    "n1.set_properties(capacities=cap, image_type=image_type, image_ref=image)\n",
    "\n",
    "# Add node\n",
    "n2 = t.add_node(name=node2_name, site=site)\n",
    "\n",
    "# Set properties\n",
    "n2.set_properties(capacities=cap, image_type=image_type, image_ref=image)\n",
    "\n",
    "# Shared Cards\n",
    "n1.add_component(model_type=ComponentModelType.SmartNIC_ConnectX_5, name=nic1_name)\n",
    "n2.add_component(model_type=ComponentModelType.SmartNIC_ConnectX_5, name=nic2_name)\n",
    "\n",
    "#if_labels = n1.interface_list[0].get_property(pname=\"labels\")\n",
    "#if_labels.vlan = \"200\"\n",
    "#n1.interface_list[0].set_properties(labels=if_labels)\n",
    "#if_labels = n2.interface_list[0].get_property(pname=\"labels\")\n",
    "#if_labels.vlan = \"200\"\n",
    "#n2.interface_list[0].set_properties(labels=if_labels)\n",
    "\n",
    "# L2PTP Service\n",
    "t.add_network_service(name='br1', nstype=ServiceType.L2Bridge,\n",
    "                      interfaces=[n1.interface_list[0], n2.interface_list[0]])\n",
    "\n",
    "# Generate Slice Graph\n",
    "slice_graph = t.serialize()\n",
    "\n",
    "# Request slice from Orchestrator\n",
    "return_status, slice_reservations = slice_manager.create(slice_name=slice_name, \n",
    "                                            slice_graph=slice_graph, \n",
    "                                            ssh_key=utils.ssh_key_pub)\n",
    "\n",
    "if return_status == Status.OK:\n",
    "    slice_id = slice_reservations[0].get_slice_id()\n",
    "    print(\"Submitted slice creation request. Slice ID: {}\".format(slice_id))\n",
    "else:\n",
    "    print(f\"Failure: {slice_reservations}\")"
   ]
  },
  {
   "cell_type": "markdown",
   "metadata": {
    "tags": []
   },
   "source": [
    "## Wait for the Slice"
   ]
  },
  {
   "cell_type": "code",
   "execution_count": null,
   "metadata": {
    "tags": []
   },
   "outputs": [],
   "source": [
    "return_status, slices = slice_manager.slices(excludes=[SliceState.Dead,SliceState.Closing])\n",
    "\n",
    "if return_status == Status.OK:\n",
    "    slice = list(filter(lambda x: x.slice_name == slice_name, slices))[0]\n",
    "    slice = utils.wait_for_slice(slice, timeout=300, progress=True, slice_manager=slice_manager)\n",
    "\n",
    "print()\n",
    "print(\"Slice Name : {}\".format(slice.slice_name))\n",
    "print(\"ID         : {}\".format(slice.slice_id))\n",
    "print(\"State      : {}\".format(slice.slice_state))\n",
    "print(\"Lease End  : {}\".format(slice.lease_end))"
   ]
  },
  {
   "cell_type": "markdown",
   "metadata": {
    "tags": []
   },
   "source": [
    "## Get the Nodes\n",
    "\n",
    "Retrieve the node information and save the management IP address.\n"
   ]
  },
  {
   "cell_type": "markdown",
   "metadata": {},
   "source": [
    "### Get the Topology"
   ]
  },
  {
   "cell_type": "code",
   "execution_count": null,
   "metadata": {},
   "outputs": [],
   "source": [
    "return_status, experiment_topology = slice_manager.get_slice_topology(slice_object=slice)\n",
    "\n",
    "for node_name, node in experiment_topology.nodes.items():\n",
    "    print(\"Node:\")\n",
    "    print(\"   Name              : {}\".format(node.name))\n",
    "    print(\"   Cores             : {}\".format(node.get_property(pname='capacity_allocations').core))\n",
    "    print(\"   RAM               : {}\".format(node.get_property(pname='capacity_allocations').ram))\n",
    "    print(\"   Disk              : {}\".format(node.get_property(pname='capacity_allocations').disk))\n",
    "    print(\"   Image             : {}\".format(node.image_ref))\n",
    "    print(\"   Image Type        : {}\".format(node.image_type))\n",
    "    print(\"   Host              : {}\".format(node.get_property(pname='label_allocations').instance_parent))\n",
    "    print(\"   Site              : {}\".format(node.site))\n",
    "    print(\"   Management IP     : {}\".format(node.management_ip))\n",
    "    print(\"   Reservation ID    : {}\".format(node.get_property(pname='reservation_info').reservation_id))\n",
    "    print(\"   Reservation State : {}\".format(node.get_property(pname='reservation_info').reservation_state))\n",
    "    print(\"   Components        : {}\".format(node.components))\n",
    "    print(\"   Interfaces        : {}\".format(node.interfaces))\n",
    "    print()    "
   ]
  },
  {
   "cell_type": "markdown",
   "metadata": {},
   "source": [
    "### Configure Nodes\n",
    "\n",
    "Use ssh to configure ens7 on the nodes. Each node's dataplane connection will be assigned the IP address 192.168.<node_num>.100   \n"
   ]
  },
  {
   "cell_type": "code",
   "execution_count": null,
   "metadata": {},
   "outputs": [],
   "source": [
    "for node_name, node in experiment_topology.nodes.items():\n",
    "    management_ip = str(node.management_ip)\n",
    "    \n",
    "    file_attributes = utils.upload_file(username, node, 'fabric_vm_utils.py','fabric_vm_utils.py')\n",
    "    print(\"file_attributes: {}\".format(file_attributes))"
   ]
  },
  {
   "cell_type": "code",
   "execution_count": null,
   "metadata": {},
   "outputs": [],
   "source": [
    "import ast\n",
    "\n",
    "node_num = 1\n",
    "for node_name, node in experiment_topology.nodes.items():\n",
    "    \n",
    "    node_ip = '192.168.42.'+str(node_num)\n",
    "    node_cidr = '24'\n",
    "    node_num = node_num + 1\n",
    "    \n",
    "    management_ip = str(node.management_ip)\n",
    "    #print(\"Node Name        : {}\".format(node.name))\n",
    "    #print(\"Management IP    : {}\".format(management_ip))\n",
    "    #print()\n",
    "    \n",
    "   \n",
    "    #stdout = utils.execute_script(username, node, 'sudo python3 fabric_vm_utils.py {} {} {}'.format('set_iface_addr',node_ip,node_cidr) )\n",
    "    #print(\"stdout: {}\".format(stdout))\n",
    "\n",
    "    stdout = utils.execute_script(username, node, 'sudo python3 fabric_vm_utils.py {} {} {}'.format('get_management_iface',node_ip,node_cidr) )\n",
    "    print(\"management iface: {}\".format(stdout))\n",
    "    \n",
    "    stdout = utils.execute_script(username, node, 'sudo python3 fabric_vm_utils.py {} {} {}'.format('get_datalane_ifaces',node_ip,node_cidr) )\n",
    "    #print(\"stdout: {}\".format(stdout))\n",
    "    dataplane_ifaces = ast.literal_eval(stdout) \n",
    "    for iface in dataplane_ifaces:\n",
    "        print(\"dataplane iface: {}\".format(iface))\n",
    "        #stdout = utils.execute_script('ubuntu', node, 'sudo python3 fabric_vm_utils.py {} {} {}'.format('delete_vlan_iface', iface, 200) )\n",
    "    \n",
    "\n",
    "node1 = experiment_topology.nodes['Node1']\n",
    "node2 = experiment_topology.nodes['Node2']\n",
    "\n",
    "#utils.find_nic_mapping(node1=node1, node1_username=username, node1_vlan='200',  node2=node2, node2_username=username, node2_vlan='200')\n",
    "utils.find_nic_mapping(node1=node1, node1_username=username, node2=node2, node2_username=username)\n",
    "\n",
    "    \n",
    "    "
   ]
  },
  {
   "cell_type": "code",
   "execution_count": null,
   "metadata": {},
   "outputs": [],
   "source": []
  },
  {
   "cell_type": "markdown",
   "metadata": {},
   "source": [
    "### Configure Router\n",
    "\n",
    "Use ssh to configure the ifaces on the router. This step requires testing the interfaces to figure out which interface is connected to which network.\n"
   ]
  },
  {
   "cell_type": "markdown",
   "metadata": {
    "tags": []
   },
   "source": [
    "#### Find NIC Mapping"
   ]
  },
  {
   "cell_type": "code",
   "execution_count": null,
   "metadata": {},
   "outputs": [],
   "source": [
    "router_node = experiment_topology.nodes[router_name]\n",
    "\n",
    "management_ip_router = str(router_node.management_ip)\n",
    "print(\"Router Name        : {}\".format(router_node.name))\n",
    "print(\"Management IP    : {}\".format(management_ip_router))\n",
    "\n",
    "file_attributes = upload_file(username, router_node, 'router_find_nic_mapping.py','router_find_nic_mapping.py')\n",
    "print(\"file_attributes: {}\".format(file_attributes))\n",
    "\n",
    "stdout = execute_script(username, router_node, 'python3 router_find_nic_mapping.py')\n",
    "print(\"stdout: {}\".format(stdout))\n",
    "\n"
   ]
  },
  {
   "cell_type": "markdown",
   "metadata": {},
   "source": [
    "#### Setup P4 Docker"
   ]
  },
  {
   "cell_type": "code",
   "execution_count": null,
   "metadata": {},
   "outputs": [],
   "source": [
    "router_node = experiment_topology.nodes[router_name]\n",
    "\n",
    "management_ip_router = str(router_node.management_ip)\n",
    "print(\"Router Name        : {}\".format(router_node.name))\n",
    "print(\"Management IP    : {}\".format(management_ip_router))\n",
    "\n",
    "file_attributes = upload_file(username, router_node, 'router_setup_p4_bmv2_container.sh','router_setup_p4_bmv2_container.sh')\n",
    "print(\"file_attributes: {}\".format(file_attributes))\n",
    "\n",
    "stdout = execute_script(username, router_node, 'chmod +x router_setup_p4_bmv2_container.sh && sudo ./router_setup_p4_bmv2_container.sh 2>&1 > /tmp/script.log')\n",
    "print(\"stdout: {}\".format(stdout))"
   ]
  },
  {
   "cell_type": "markdown",
   "metadata": {},
   "source": [
    "## Delete Slice"
   ]
  },
  {
   "cell_type": "code",
   "execution_count": null,
   "metadata": {},
   "outputs": [],
   "source": [
    "return_status, result = slice_manager.delete(slice_object=slice)\n",
    "\n",
    "print(\"Response Status {}\".format(return_status))\n",
    "print(\"Response received {}\".format(result))"
   ]
  },
  {
   "cell_type": "code",
   "execution_count": null,
   "metadata": {},
   "outputs": [],
   "source": []
  },
  {
   "cell_type": "code",
   "execution_count": null,
   "metadata": {},
   "outputs": [],
   "source": []
  }
 ],
 "metadata": {
  "kernelspec": {
   "display_name": "Python 3 (ipykernel)",
   "language": "python",
   "name": "python3"
  },
  "language_info": {
   "codemirror_mode": {
    "name": "ipython",
    "version": 3
   },
   "file_extension": ".py",
   "mimetype": "text/x-python",
   "name": "python",
   "nbconvert_exporter": "python",
   "pygments_lexer": "ipython3",
   "version": "3.9.2"
  }
 },
 "nbformat": 4,
 "nbformat_minor": 4
}
