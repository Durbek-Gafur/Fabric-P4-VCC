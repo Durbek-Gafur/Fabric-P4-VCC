{
 "cells": [
  {
   "cell_type": "markdown",
   "metadata": {},
   "source": [
    "## This notebook shows how to use Orchestrator APIs for user experiments"
   ]
  },
  {
   "cell_type": "code",
   "execution_count": 13,
   "metadata": {},
   "outputs": [],
   "source": [
    "import os\n",
    "from fabrictestbed.slice_manager import SliceManager, Status, SliceState\n",
    "import json"
   ]
  },
  {
   "cell_type": "code",
   "execution_count": 15,
   "metadata": {},
   "outputs": [],
   "source": [
    "slice_name='Slice-fp'"
   ]
  },
  {
   "cell_type": "code",
   "execution_count": null,
   "metadata": {},
   "outputs": [],
   "source": [
    "fabric_rc_location=os.environ['HOME']+\"/work/fabric_config/fabric_rc\"\n",
    "if os.path.exists(fabric_rc_location):\n",
    "    with open(fabric_rc_location, 'r') as f:\n",
    "        for line in f:\n",
    "            if line.startswith('export'):\n",
    "                os.environ[line.split('=')[0].split('export')[1].strip()] = line.split('=')[1].strip()"
   ]
  },
  {
   "cell_type": "code",
   "execution_count": null,
   "metadata": {},
   "outputs": [],
   "source": [
    "ssh_key_file_priv=os.environ[\"FABRIC_SLICE_PRIVATE_KEY_FILE\"]\n",
    "ssh_key_file_pub=os.environ[\"FABRIC_SLICE_PUBLIC_KEY_FILE\"]\n",
    "\n",
    "ssh_key_pub = None\n",
    "with open (ssh_key_file_pub, \"r\") as myfile:\n",
    "    ssh_key_pub=myfile.read()\n",
    "    ssh_key_pub=ssh_key_pub.strip()"
   ]
  },
  {
   "cell_type": "markdown",
   "metadata": {},
   "source": [
    "## Create Slice Manager Object\n",
    "Users can request tokens with different Project and Scopes by altering `project_name` and `scope` parameters in the refresh call below."
   ]
  },
  {
   "cell_type": "code",
   "execution_count": 16,
   "metadata": {},
   "outputs": [],
   "source": [
    "slice_manager = SliceManager(project_name=\"FABRIC Staff\")"
   ]
  },
  {
   "cell_type": "markdown",
   "metadata": {},
   "source": [
    "### Orchestrator API example to query for available resources"
   ]
  },
  {
   "cell_type": "code",
   "execution_count": 17,
   "metadata": {},
   "outputs": [
    {
     "name": "stdout",
     "output_type": "stream",
     "text": [
      "Status: Status.OK\n",
      "Toplogy: LBNL [Site]\n",
      "\tComponents:\n",
      "\tSite Interfaces:\n",
      "\t\tLBNL_RENC: TrunkPort { bw: 100/100 Gbps}\n",
      "\t\tLBNL_UKY: TrunkPort { bw: 100/100 Gbps}\n",
      "UKY [Site] : { cpu: 6/6 , core: 190/192 , ram: 1,530/1,536 G, disk: 60,590/60,600 G, unit: 3/3 }\n",
      "\tComponents:\n",
      "\t\tNVME-P4510:  NVME P4510 { disk: 10,000/10,000 G, unit: 9/10 }\n",
      "\t\tGPU-RTX6000:  GPU RTX6000 { unit: 2/2 }\n",
      "\t\tGPU-Tesla T4:  GPU Tesla T4 { unit: 4/4 }\n",
      "\t\tSharedNIC-ConnectX-6:  SharedNIC ConnectX-6 { unit: 381/381 }\n",
      "\t\tSmartNIC-ConnectX-6:  SmartNIC ConnectX-6 { unit: 1/2 }\n",
      "\t\tSmartNIC-ConnectX-5:  SmartNIC ConnectX-5 { unit: 2/2 }\n",
      "\tSite Interfaces:\n",
      "\t\tUKY_RENC: TrunkPort { bw: 100/100 Gbps}\n",
      "\t\tHundredGigE0/0/0/15: TrunkPort { bw: 100/100 Gbps}\n",
      "\t\tUKY_LBNL: TrunkPort { bw: 100/100 Gbps}\n",
      "RENC [Site] : { cpu: 6/6 , core: 190/192 , ram: 1,530/1,536 G, disk: 60,590/60,600 G, unit: 3/3 }\n",
      "\tComponents:\n",
      "\t\tNVME-P4510:  NVME P4510 { disk: 10,000/10,000 G, unit: 10/10 }\n",
      "\t\tGPU-RTX6000:  GPU RTX6000 { unit: 2/2 }\n",
      "\t\tGPU-Tesla T4:  GPU Tesla T4 { unit: 4/4 }\n",
      "\t\tSharedNIC-ConnectX-6:  SharedNIC ConnectX-6 { unit: 381/381 }\n",
      "\t\tSmartNIC-ConnectX-6:  SmartNIC ConnectX-6 { unit: 1/2 }\n",
      "\t\tSmartNIC-ConnectX-5:  SmartNIC ConnectX-5 { unit: 2/2 }\n",
      "\tSite Interfaces:\n",
      "\t\tRENC_UKY: TrunkPort { bw: 10/10 Gbps}\n",
      "\t\tRENC_LBNL: TrunkPort { bw: 10/10 Gbps}\n",
      "UKY-DC1 [Facility]\n",
      "\tFacility Interfaces:\n",
      "UKY-DC2 [Facility]\n",
      "\tFacility Interfaces:\n",
      "Links:\n",
      "\tport+lbnl-data-sw:HundredGigE0/0/0/0.2400 to port+renc-data-sw:TenGigE0/0/0/2/0.3981[L2Path]: ['LBNL_RENC', 'RENC_LBNL']\n",
      "\tport+renc-data-sw:TenGigE0/0/0/2/0.3999 to port+uky-data-sw:HundredGigE0/0/0/0.859[L2Path]: ['UKY_RENC', 'RENC_UKY']\n",
      "\tport+lbnl-data-sw:HundredGigE0/0/0/0.2401 to port+uky-data-sw:HundredGigE0/0/0/0.851[L2Path]: ['UKY_LBNL', 'LBNL_UKY']\n",
      "\tUKY-DC1-link[L2Path]: ['UKY-DC1-int', 'HundredGigE0/0/0/15']\n",
      "\tUKY-DC2-link[L2Path]: ['HundredGigE0/0/0/15', 'UKY-DC2-int']\n"
     ]
    }
   ],
   "source": [
    "status, advertised_topology = slice_manager.resources()\n",
    "\n",
    "print(f\"Status: {status}\")\n",
    "if status == Status.OK:\n",
    "    print(f\"Toplogy: {advertised_topology}\")\n",
    "else:\n",
    "    print(f\"Error: {advertised_topology}\")"
   ]
  },
  {
   "cell_type": "code",
   "execution_count": 18,
   "metadata": {},
   "outputs": [
    {
     "data": {
      "image/png": "[encoded data removed]",
      "text/plain": [
       "<Figure size 432x288 with 1 Axes>"
      ]
     },
     "metadata": {},
     "output_type": "display_data"
    }
   ],
   "source": [
    "if status == Status.OK:\n",
    "    advertised_topology.draw()"
   ]
  },
  {
   "cell_type": "markdown",
   "metadata": {},
   "source": [
    "## Create Slice"
   ]
  },
  {
   "cell_type": "code",
   "execution_count": 19,
   "metadata": {},
   "outputs": [],
   "source": [
    "port_name=\"port+uky-data-sw:HundredGigE0/0/0/15\""
   ]
  },
  {
   "cell_type": "code",
   "execution_count": 20,
   "metadata": {},
   "outputs": [
    {
     "name": "stdout",
     "output_type": "stream",
     "text": [
      "Response Status Status.OK\n",
      "Reservations created [{\n",
      "    \"graph_node_id\": \"69b2535a-58ca-4407-9828-710506d4d69f\",\n",
      "    \"lease_end\": \"2022-04-16 00:28:54\",\n",
      "    \"lease_start\": \"2022-04-15 00:28:54\",\n",
      "    \"pending_state\": \"None_\",\n",
      "    \"reservation_id\": \"773d182f-38e6-4bfc-8694-87e19e75da02\",\n",
      "    \"reservation_state\": \"Unknown\",\n",
      "    \"slice_id\": \"62452b2a-38e9-4928-8d37-a9b9585e5f92\"\n",
      "}, {\n",
      "    \"graph_node_id\": \"7b9632b0-74e3-480f-bebc-2046ff1946f4\",\n",
      "    \"lease_end\": \"2022-04-16 00:28:54\",\n",
      "    \"lease_start\": \"2022-04-15 00:28:54\",\n",
      "    \"pending_state\": \"None_\",\n",
      "    \"reservation_id\": \"7169dc77-a7c8-415d-927a-5890c0dcf253\",\n",
      "    \"reservation_state\": \"Unknown\",\n",
      "    \"slice_id\": \"62452b2a-38e9-4928-8d37-a9b9585e5f92\"\n",
      "}]\n"
     ]
    }
   ],
   "source": [
    "from fabrictestbed.slice_editor import ExperimentTopology, Capacities, Labels, ComponentType, ComponentModelType, ServiceType, Labels\n",
    "from ipaddress import IPv4Network\n",
    "\n",
    "# Create topology\n",
    "t = ExperimentTopology()\n",
    "\n",
    "# Set capacities\n",
    "cap = Capacities(core=2, ram=6, disk=10)\n",
    "\n",
    "\n",
    "n3 = t.add_node(name='n3', site='RENC', capacities=cap, image_type='qcow2', image_ref='default_rocky_8')\n",
    "n3.add_component(name='nic1', model_type=ComponentModelType.SmartNIC_ConnectX_5)\n",
    "n3.interface_list[0].labels = Labels.update(n3.interface_list[0].labels, ipv4=\"192.168.10.6\")\n",
    "\n",
    "t.add_port_mirror_service(name='pm1', from_interface_name=port_name,\n",
    "                          to_interface=n3.interface_list[0])\n",
    "\n",
    "    \n",
    "# Generate Slice Graph\n",
    "slice_graph = t.serialize()\n",
    "\n",
    "# Request slice from Orchestrator\n",
    "status, reservations = slice_manager.create(slice_name=slice_name, slice_graph=slice_graph, ssh_key=ssh_key_pub)\n",
    "\n",
    "print(\"Response Status {}\".format(status))\n",
    "if status == Status.OK:\n",
    "    print(\"Reservations created {}\".format(reservations))\n",
    "    slice_id = reservations[0].slice_id\n",
    "else:\n",
    "    print(f\"Failure: {reservations}\")"
   ]
  },
  {
   "cell_type": "markdown",
   "metadata": {},
   "source": [
    "## Query Slices"
   ]
  },
  {
   "cell_type": "code",
   "execution_count": 21,
   "metadata": {},
   "outputs": [
    {
     "name": "stdout",
     "output_type": "stream",
     "text": [
      "Response Status Status.OK\n",
      "{\n",
      "    \"graph_id\": \"0e3e2ae7-7236-463b-a288-d63eab08078a\",\n",
      "    \"lease_end\": \"2022-04-16 00:28:54\",\n",
      "    \"slice_id\": \"62452b2a-38e9-4928-8d37-a9b9585e5f92\",\n",
      "    \"slice_name\": \"Slice-fp\",\n",
      "    \"slice_state\": \"Configuring\"\n",
      "}\n"
     ]
    }
   ],
   "source": [
    "status, slices = slice_manager.slices()\n",
    "print(\"Response Status {}\".format(status))\n",
    "if status == Status.OK:    \n",
    "    slice_object=list(filter(lambda s: s.slice_id == slice_id, slices))[0]\n",
    "    print(slice_object)\n",
    "else:\n",
    "    print(f\"Failure: {slices}\")"
   ]
  },
  {
   "cell_type": "markdown",
   "metadata": {},
   "source": [
    "## Query Slivers"
   ]
  },
  {
   "cell_type": "code",
   "execution_count": 23,
   "metadata": {},
   "outputs": [
    {
     "name": "stdout",
     "output_type": "stream",
     "text": [
      "Response Status Status.OK\n",
      "=====================\n",
      "ReservationId 7169dc77-a7c8-415d-927a-5890c0dcf253\n",
      "State         Active\n",
      "Pending       None_\n",
      "Join State    NoJoin\n",
      "Sliver Type   NetworkServiceSliver\n",
      "Sliver        {'layer': 'L2', 'mirror_direction': 'Both', 'mirror_port': 'port+uky-data-sw:HundredGigE0/0/0/15', 'name': 'pm1', 'node_map': \"('e9e6042b-d9bf-4dbf-8278-8537c9b615ac', 'node+renc-data-sw:ip+192.168.11.3-ns')\", 'reservation_info': '{\"error_message\": \"\", \"reservation_id\": \"7169dc77-a7c8-415d-927a-5890c0dcf253\", \"reservation_state\": \"Active\"}', 'site': 'RENC', 'type': 'PortMirror'}\n",
      "-------------------------\n",
      "INTERFACE        {'capacities': '{ bw: 25 Gbps, unit: 1 }', 'label_allocations': '{ ipv4: 192.168.10.6, local_name: TwentyFiveGigE0/0/0/23/0, device_name: renc-data-sw}', 'labels': '{ ipv4: 192.168.10.6, local_name: TwentyFiveGigE0/0/0/23/0, device_name: renc-data-sw}', 'name': 'n3-nic1-p1', 'node_map': \"('e9e6042b-d9bf-4dbf-8278-8537c9b615ac', 'port+renc-data-sw:TwentyFiveGigE0/0/0/23/0')\", 'type': 'ServicePort'}\n",
      "-------------------------\n",
      "Notices       Reservation 7169dc77-a7c8-415d-927a-5890c0dcf253 (Slice Slice-fp(62452b2a-38e9-4928-8d37-a9b9585e5f92) Graph Id:0e3e2ae7-7236-463b-a288-d63eab08078a Owner:kthare10@email.unc.edu) is in state (Active,None_) \n",
      "=====================\n",
      "=====================\n",
      "ReservationId 773d182f-38e6-4bfc-8694-87e19e75da02\n",
      "State         Active\n",
      "Pending       None_\n",
      "Join State    NoJoin\n",
      "Sliver Type   NodeSliver\n",
      "Sliver        {'capacities': '{ core: 2 , ram: 6 G, disk: 10 G}', 'capacity_allocations': '{ core: 2 , ram: 8 G, disk: 10 G}', 'capacity_hints': '{ instance_type: fabric.c2.m8.d10}', 'image_ref': 'default_rocky_8', 'image_type': 'qcow2', 'label_allocations': '{ instance: instance-0000060b, instance_parent: renc-w3.fabric-testbed.net}', 'management_ip': '152.54.15.36', 'name': 'n3', 'node_map': \"('e9e6042b-d9bf-4dbf-8278-8537c9b615ac', 'HX7KQ53')\", 'reservation_info': '{\"error_message\": \"\", \"reservation_id\": \"773d182f-38e6-4bfc-8694-87e19e75da02\", \"reservation_state\": \"Active\"}', 'site': 'RENC', 'type': 'VM'}\n",
      "-------------------------\n",
      "COMPONENT        {'capacity_allocations': '{ unit: 1 }', 'details': 'Mellanox ConnectX-5 Dual Port 10/25GbE', 'label_allocations': \"{ bdf: ['0000:41:00.0', '0000:41:00.1']}\", 'model': 'ConnectX-5', 'name': 'nic1', 'node_map': \"('e9e6042b-d9bf-4dbf-8278-8537c9b615ac', 'HX7KQ53-slot3')\", 'type': 'SmartNIC'}\n",
      "-------------------------\n",
      "Notices       Reservation 773d182f-38e6-4bfc-8694-87e19e75da02 (Slice Slice-fp(62452b2a-38e9-4928-8d37-a9b9585e5f92) Graph Id:0e3e2ae7-7236-463b-a288-d63eab08078a Owner:kthare10@email.unc.edu) is in state (Active,None_) \n",
      "=====================\n"
     ]
    }
   ],
   "source": [
    "status, slivers = slice_manager.slivers(slice_object=slice_object)\n",
    "\n",
    "print(\"Response Status {}\".format(status))\n",
    "if status == Status.OK:\n",
    "    for s in slivers:\n",
    "        print(\"=====================\")\n",
    "        print(\"ReservationId {}\".format(s.reservation_id))\n",
    "        print(\"State         {}\".format(s.reservation_state))\n",
    "        print(\"Pending       {}\".format(s.pending_state))\n",
    "        print(\"Join State    {}\".format(s.join_state))\n",
    "        print(\"Sliver Type   {}\".format(s.sliver_type))\n",
    "        print(\"Sliver        {}\".format(s.sliver))\n",
    "        if s.sliver_type == \"NodeSliver\":\n",
    "            for d in s.sliver.attached_components_info.devices.values():\n",
    "                print(\"-------------------------\")\n",
    "                print(\"COMPONENT        {}\".format(d))\n",
    "                print(\"-------------------------\")\n",
    "        else:\n",
    "            for d in s.sliver.interface_info.interfaces.values():\n",
    "                print(\"-------------------------\")\n",
    "                print(\"INTERFACE        {}\".format(d))\n",
    "                print(\"-------------------------\")\n",
    "                \n",
    "        print(\"Notices       {}\".format(s.notices))\n",
    "        print(\"=====================\")\n",
    "else:\n",
    "    print(f\"Failure: {slivers}\")"
   ]
  },
  {
   "cell_type": "markdown",
   "metadata": {},
   "source": [
    "## Delete Slice"
   ]
  },
  {
   "cell_type": "code",
   "execution_count": 12,
   "metadata": {},
   "outputs": [
    {
     "name": "stdout",
     "output_type": "stream",
     "text": [
      "Response Status Status.OK\n",
      "Response received None\n"
     ]
    }
   ],
   "source": [
    "status, result = slice_manager.delete(slice_object=slice_object)\n",
    "\n",
    "print(\"Response Status {}\".format(status))\n",
    "print(\"Response received {}\".format(result))"
   ]
  },
  {
   "cell_type": "code",
   "execution_count": null,
   "metadata": {},
   "outputs": [],
   "source": []
  }
 ],
 "metadata": {
  "kernelspec": {
   "display_name": "Python 3 (ipykernel)",
   "language": "python",
   "name": "python3"
  },
  "language_info": {
   "codemirror_mode": {
    "name": "ipython",
    "version": 3
   },
   "file_extension": ".py",
   "mimetype": "text/x-python",
   "name": "python",
   "nbconvert_exporter": "python",
   "pygments_lexer": "ipython3",
   "version": "3.9.2"
  }
 },
 "nbformat": 4,
 "nbformat_minor": 4
}
