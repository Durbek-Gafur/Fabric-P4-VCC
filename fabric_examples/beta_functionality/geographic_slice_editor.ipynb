{
 "cells": [
  {
   "cell_type": "markdown",
   "id": "b3609a15-84fc-454d-897b-446f7499c98b",
   "metadata": {},
   "source": [
    "## Visual Slice Editor\n",
    "\n",
    "https://ipyleaflet.readthedocs.io/en/latest/api_reference/marker.html\n",
    "\n",
    "\n",
    "https://ipywidgets.readthedocs.io/en/7.6.2/examples/Widget%20List.html#Selection-widgets\n",
    "\n",
    "## Install\n",
    "\n",
    "Run the following in a terminal:\n",
    "\n",
    "git clone https://github.com/fabric-testbed/fabrictestbed-extensions.git\n",
    "\n",
    "cd fabrictestbed-extensions\n",
    "\n",
    "pip install . --user \n",
    "\n",
    "## Run"
   ]
  },
  {
   "cell_type": "code",
   "execution_count": 1,
   "id": "fb4ab793-1b86-4929-b75b-d0e6441f537d",
   "metadata": {},
   "outputs": [
    {
     "name": "stdout",
     "output_type": "stream",
     "text": [
      "XXXXXXXXXX update_experiment_list XXXXXXXXXX\n",
      "Slice p2p_cx6_3_UTAH_MAX not found\n",
      "Getting topology for new slice\n",
      "experiment: {'slice_name': 'p2p_cx6_3_UTAH_MAX', 'slice_id': '12519ecc-b0b0-4876-8d00-23a6e682403f', 'editor_slice_state': 'live', 'slice': {\n",
      "    \"graph_id\": \"e739be92-6248-4c2a-b672-a9e95aee76c8\",\n",
      "    \"lease_end\": \"2021-10-23 16:25:56\",\n",
      "    \"slice_id\": \"12519ecc-b0b0-4876-8d00-23a6e682403f\",\n",
      "    \"slice_name\": \"p2p_cx6_3_UTAH_MAX\",\n",
      "    \"slice_state\": \"StableOK\"\n",
      "}, 'topology': <fim.user.topology.ExperimentTopology object at 0x10b350cd0>} \n",
      "Creating VisualSliceEditor\n",
      "ZoomControl(options=['position', 'zoom_in_text', 'zoom_in_title', 'zoom_out_text', 'zoom_out_title'], position='bottomleft')\n",
      "DrawControl(options=['position'], polyline={'shapeOptions': {}}, position='bottomleft')\n",
      "Get Available Resources\n",
      "Update Sites\n",
      "Failed to add site: {'name': 'DALL', 'site': 'DALL', 'type': 'Server'}. Error: 'NoneType' object has no attribute 'to_latlon'\n",
      "Failed to add site: {'name': 'SALT', 'site': 'SALT', 'type': 'Server'}. Error: 'NoneType' object has no attribute 'to_latlon'\n",
      "Failed to add site: {'name': 'WASH', 'site': 'WASH', 'type': 'Server'}. Error: 'NoneType' object has no attribute 'to_latlon'\n",
      "Source node: {'capacities': '{ cpu: 10 , core: 320 , ram: 2,560 G, disk: 116,400 G, unit: 5 }', 'location': '{\"postal\": \"10100 Burnet Rd,Austin, TX 78758\"}', 'name': 'TACC', 'site': 'TACC', 'type': 'Server'}\n",
      "Target node: {'capacities': '{ cpu: 10 , core: 320 , ram: 2,560 G, disk: 116,400 G, unit: 5 }', 'capacity_allocations': '{ core: 4 , ram: 16 G, disk: 10 G}', 'location': '{\"postal\": \"4161 Fieldhouse Dr,College Park, MD 20742\"}', 'name': 'MAX', 'site': 'MAX', 'type': 'Server'}\n",
      "Source node: {'capacities': '{ cpu: 12 , core: 384 , ram: 3,072 G, disk: 121,200 G, unit: 6 }', 'capacity_allocations': '{ core: 36 , ram: 80 G, disk: 110 G}', 'location': '{\"postal\": \"710 North Lake Shore Dr,Chicago, IL  60611\"}', 'name': 'STAR', 'site': 'STAR', 'type': 'Server'}\n",
      "Target node: {'capacities': '{ cpu: 10 , core: 320 , ram: 2,560 G, disk: 116,400 G, unit: 5 }', 'capacity_allocations': '{ core: 4 , ram: 16 G, disk: 10 G}', 'location': '{\"postal\": \"4161 Fieldhouse Dr,College Park, MD 20742\"}', 'name': 'MAX', 'site': 'MAX', 'type': 'Server'}\n",
      "Source node: {'capacities': '{ cpu: 6 , core: 192 , ram: 1,536 G, disk: 60,600 G, unit: 3 }', 'location': '{\"postal\": \"1725 S Oak St.,Champaign, IL 61820\"}', 'name': 'NCSA', 'site': 'NCSA', 'type': 'Server'}\n",
      "Target node: {'capacities': '{ cpu: 12 , core: 384 , ram: 3,072 G, disk: 121,200 G, unit: 6 }', 'capacity_allocations': '{ core: 36 , ram: 80 G, disk: 110 G}', 'location': '{\"postal\": \"710 North Lake Shore Dr,Chicago, IL  60611\"}', 'name': 'STAR', 'site': 'STAR', 'type': 'Server'}\n",
      "Source node: {'capacities': '{ cpu: 10 , core: 320 , ram: 2,560 G, disk: 116,400 G, unit: 5 }', 'capacity_allocations': '{ core: 4 , ram: 16 G, disk: 10 G}', 'location': '{\"postal\": \"875 South West Temple,Salt Lake City, UT  84101\"}', 'name': 'UTAH', 'site': 'UTAH', 'type': 'Server'}\n",
      "Target node: {'capacities': '{ cpu: 12 , core: 384 , ram: 3,072 G, disk: 121,200 G, unit: 6 }', 'capacity_allocations': '{ core: 36 , ram: 80 G, disk: 110 G}', 'location': '{\"postal\": \"710 North Lake Shore Dr,Chicago, IL  60611\"}', 'name': 'STAR', 'site': 'STAR', 'type': 'Server'}\n",
      "Source node: {'capacities': '{ cpu: 10 , core: 320 , ram: 2,560 G, disk: 116,400 G, unit: 5 }', 'capacity_allocations': '{ core: 4 , ram: 16 G, disk: 10 G}', 'location': '{\"postal\": \"875 South West Temple,Salt Lake City, UT  84101\"}', 'name': 'UTAH', 'site': 'UTAH', 'type': 'Server'}\n",
      "Target node: {'capacities': '{ cpu: 10 , core: 320 , ram: 2,560 G, disk: 116,400 G, unit: 5 }', 'location': '{\"postal\": \"10100 Burnet Rd,Austin, TX 78758\"}', 'name': 'TACC', 'site': 'TACC', 'type': 'Server'}\n",
      "Getting current slices\n",
      "XXXXXXXXXX update_experiment_list XXXXXXXXXX\n",
      "Getting topology for old slice\n",
      "experiment: {'slice_name': 'p2p_cx6_3_UTAH_MAX', 'slice_id': '12519ecc-b0b0-4876-8d00-23a6e682403f', 'editor_slice_state': 'live', 'slice': {\n",
      "    \"graph_id\": \"e739be92-6248-4c2a-b672-a9e95aee76c8\",\n",
      "    \"lease_end\": \"2021-10-23 16:25:56\",\n",
      "    \"slice_id\": \"12519ecc-b0b0-4876-8d00-23a6e682403f\",\n",
      "    \"slice_name\": \"p2p_cx6_3_UTAH_MAX\",\n",
      "    \"slice_state\": \"StableOK\"\n",
      "}, 'topology': <fim.user.topology.ExperimentTopology object at 0x126387040>} \n",
      "XXXXXXXXXX update_experiment_list XXXXXXXXXX\n",
      "Getting topology for old slice\n",
      "experiment: {'slice_name': 'p2p_cx6_3_UTAH_MAX', 'slice_id': '12519ecc-b0b0-4876-8d00-23a6e682403f', 'editor_slice_state': 'live', 'slice': {\n",
      "    \"graph_id\": \"e739be92-6248-4c2a-b672-a9e95aee76c8\",\n",
      "    \"lease_end\": \"2021-10-23 16:25:56\",\n",
      "    \"slice_id\": \"12519ecc-b0b0-4876-8d00-23a6e682403f\",\n",
      "    \"slice_name\": \"p2p_cx6_3_UTAH_MAX\",\n",
      "    \"slice_state\": \"StableOK\"\n",
      "}, 'topology': <fim.user.topology.ExperimentTopology object at 0x126305a30>} \n",
      "redraw_map\n"
     ]
    },
    {
     "data": {
      "application/vnd.jupyter.widget-view+json": {
       "model_id": "467c1d174163477d9ee680a40c81d1fe",
       "version_major": 2,
       "version_minor": 0
      },
      "text/plain": [
       "Map(center=[38.12480976137421, -85.7129], controls=(AttributionControl(options=['position', 'prefix'], positio…"
      ]
     },
     "metadata": {},
     "output_type": "display_data"
    }
   ],
   "source": [
    "from fabrictestbed_extensions.editors.geo_topology_editor import GeoTopologyEditor\n",
    "\n",
    "GeoTopologyEditor().start()\n"
   ]
  },
  {
   "cell_type": "code",
   "execution_count": null,
   "id": "4089d67b-1813-4522-b908-d60f1f8263a1",
   "metadata": {},
   "outputs": [],
   "source": []
  }
 ],
 "metadata": {
  "kernelspec": {
   "display_name": "Python 3 (ipykernel)",
   "language": "python",
   "name": "python3"
  },
  "language_info": {
   "codemirror_mode": {
    "name": "ipython",
    "version": 3
   },
   "file_extension": ".py",
   "mimetype": "text/x-python",
   "name": "python",
   "nbconvert_exporter": "python",
   "pygments_lexer": "ipython3",
   "version": "3.9.2"
  }
 },
 "nbformat": 4,
 "nbformat_minor": 5
}
