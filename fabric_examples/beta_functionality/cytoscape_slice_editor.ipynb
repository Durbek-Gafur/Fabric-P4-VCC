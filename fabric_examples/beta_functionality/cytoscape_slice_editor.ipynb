{
 "cells": [
  {
   "cell_type": "markdown",
   "id": "b3609a15-84fc-454d-897b-446f7499c98b",
   "metadata": {},
   "source": [
    "## Visual Slice Editor\n",
    "\n",
    "https://ipyleaflet.readthedocs.io/en/latest/api_reference/marker.html\n",
    "\n",
    "\n",
    "https://ipywidgets.readthedocs.io/en/7.6.2/examples/Widget%20List.html#Selection-widgets\n",
    "\n",
    "## Install\n",
    "\n",
    "Run the following in a terminal:\n",
    "\n",
    "git clone https://github.com/fabric-testbed/fabrictestbed-extensions.git\n",
    "\n",
    "cd fabrictestbed-extensions\n",
    "\n",
    "pip install . --user \n",
    "\n",
    "## Run"
   ]
  },
  {
   "cell_type": "code",
   "execution_count": 1,
   "id": "d806db8f-14f0-4fbb-8489-7eea9f685b9f",
   "metadata": {},
   "outputs": [
    {
     "name": "stdout",
     "output_type": "stream",
     "text": [
      "XXXXXXXXXX update_experiment_list XXXXXXXXXX\n",
      "Slice MySlice10 not found\n",
      "site_name: RENC\n",
      "site_name: LBNL\n",
      "site_name: UKY\n",
      "link_name port+lbnl-data-sw:HundredGigE0/0/0/0.2400-link, {'layer': 'L2', 'name': 'port+lbnl-data-sw:HundredGigE0/0/0/0.2400-link', 'type': 'L2Path'}['RENC_LBNL', 'LBNL_RENC']\n",
      "\n",
      "\n",
      " Interfaces [{'capacities': '{ bw: 10 Gbps}', 'name': 'RENC_LBNL', 'type': 'TrunkPort'}, {'capacities': '{ bw: 100 Gbps}', 'name': 'LBNL_RENC', 'type': 'TrunkPort'}]\n",
      "link_name port+lbnl-data-sw:HundredGigE0/0/0/0.2401-link, {'layer': 'L2', 'name': 'port+lbnl-data-sw:HundredGigE0/0/0/0.2401-link', 'type': 'L2Path'}['UKY_LBNL', 'LBNL_UKY']\n",
      "\n",
      "\n",
      " Interfaces [{'capacities': '{ bw: 100 Gbps}', 'name': 'UKY_LBNL', 'type': 'TrunkPort'}, {'capacities': '{ bw: 100 Gbps}', 'name': 'LBNL_UKY', 'type': 'TrunkPort'}]\n",
      "link_name port+renc-data-sw:TenGigE0/0/0/2/0.3999-link, {'layer': 'L2', 'name': 'port+renc-data-sw:TenGigE0/0/0/2/0.3999-link', 'type': 'L2Path'}['RENC_UKY', 'UKY_RENC']\n",
      "\n",
      "\n",
      " Interfaces [{'capacities': '{ bw: 10 Gbps}', 'name': 'RENC_UKY', 'type': 'TrunkPort'}, {'capacities': '{ bw: 100 Gbps}', 'name': 'UKY_RENC', 'type': 'TrunkPort'}]\n"
     ]
    },
    {
     "data": {
      "text/plain": [
       "(Output(),\n",
       " CytoscapeWidget(cytoscape_layout={'name': 'cola'}, cytoscape_style=[{'selector': 'node', 'css': {'content': 'data(name)', 'text-valign': 'center', 'color': 'white', 'text-outline-width': 2, 'text-outline-color': '#078ac1', 'background-color': '#27aae1'}}, {'selector': ':selected', 'css': {'background-color': '#078ac1', 'line-color': '#078ac1', 'target-arrow-color': '#27aae1', 'source-arrow-color': '#27aae1', 'text-outline-color': '#27aae1'}}], graph=Graph(edges=[Edge(data={'source': 'RENC', 'target': 'LBNL'}), Edge(data={'source': 'UKY', 'target': 'LBNL'}), Edge(data={'source': 'RENC', 'target': 'UKY'})], nodes=[Node(data={'id': 'RENC', 'name': 'RENC', 'href': 'http://cytoscape.org'}, position={}), Node(data={'id': 'LBNL', 'name': 'LBNL', 'href': 'http://cytoscape.org'}, position={}), Node(data={'id': 'UKY', 'name': 'UKY', 'href': 'http://cytoscape.org'}, position={})]), rendered_position={'renderedPosition': {'x': 100, 'y': 100}}))"
      ]
     },
     "execution_count": 1,
     "metadata": {},
     "output_type": "execute_result"
    }
   ],
   "source": [
    "from fabrictestbed_extensions.editors.cytoscape_topology_editor import CytoscapeTopologyEditor\n",
    "\n",
    "\n",
    "from IPython.display import display\n",
    "\n",
    "CytoscapeTopologyEditor().start()\n",
    "#out, cyto = CytoscapeTopologyEditor().start()\n",
    "#display(cyto)\n",
    "#display(out)"
   ]
  },
  {
   "cell_type": "code",
   "execution_count": null,
   "id": "4089d67b-1813-4522-b908-d60f1f8263a1",
   "metadata": {},
   "outputs": [],
   "source": [
    "display(cyto)\n",
    "display(out)"
   ]
  },
  {
   "cell_type": "code",
   "execution_count": null,
   "id": "9a078ac0-ec04-497c-9964-fa1f207540c1",
   "metadata": {},
   "outputs": [],
   "source": []
  }
 ],
 "metadata": {
  "kernelspec": {
   "display_name": "Python 3 (ipykernel)",
   "language": "python",
   "name": "python3"
  },
  "language_info": {
   "codemirror_mode": {
    "name": "ipython",
    "version": 3
   },
   "file_extension": ".py",
   "mimetype": "text/x-python",
   "name": "python",
   "nbconvert_exporter": "python",
   "pygments_lexer": "ipython3",
   "version": "3.9.2"
  }
 },
 "nbformat": 4,
 "nbformat_minor": 5
}
