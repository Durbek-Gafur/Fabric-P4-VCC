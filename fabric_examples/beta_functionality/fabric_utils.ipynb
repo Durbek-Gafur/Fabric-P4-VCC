{
 "cells": [
  {
   "cell_type": "code",
   "execution_count": null,
   "id": "7e67715d-98eb-4fda-bfa6-f46033c97076",
   "metadata": {},
   "outputs": [],
   "source": [
    "from fabrictestbed_extensions.utils.testbed import Testbed \n",
    "from fabrictestbed_extensions.utils.slice import SliceUtils"
   ]
  },
  {
   "cell_type": "markdown",
   "id": "b7d6a999-83f6-43e7-bce2-24b9ae1de365",
   "metadata": {},
   "source": [
    "### Get Advertised Topology"
   ]
  },
  {
   "cell_type": "code",
   "execution_count": 22,
   "id": "a80cd849-ee88-4348-86e6-cc1d9dac3a5f",
   "metadata": {},
   "outputs": [
    {
     "name": "stdout",
     "output_type": "stream",
     "text": [
      "FABRIC Credential Manager   : cm.fabric-testbed.net\n",
      "FABRIC Orchestrator         : orchestrator.fabric-testbed.net\n",
      "(invalid_grant) expired refresh token\n"
     ]
    }
   ],
   "source": [
    "from fabrictestbed_extensions.utils.testbed import Testbed\n",
    "try:\n",
    "    print(Testbed.get_advertised_topology())\n",
    "except Exception as e:\n",
    "    print (e)"
   ]
  },
  {
   "cell_type": "markdown",
   "id": "563d5d73-ba33-4c4e-8015-4f82bab69778",
   "metadata": {},
   "source": [
    "### Get Site Advertised Topology"
   ]
  },
  {
   "cell_type": "code",
   "execution_count": 28,
   "id": "f868c6a6-6ed4-40d0-be9d-61481f2f1a68",
   "metadata": {},
   "outputs": [
    {
     "name": "stdout",
     "output_type": "stream",
     "text": [
      "FABRIC Credential Manager   : cm.fabric-testbed.net\n",
      "FABRIC Orchestrator         : orchestrator.fabric-testbed.net\n",
      "Site: {'capacities': '{ cpu: 12 , core: 384 , ram: 3,072 G, disk: 19,200 G, unit: 6 }', 'capacity_allocations': '{ core: 176 , ram: 176 G, disk: 248 G}', 'location': '{\"postal\": \"710 North Lake Shore Dr,Chicago, IL  60611\"}', 'name': 'STAR', 'site': 'STAR', 'type': 'Server'}\n",
      "      name             : SmartNIC-ConnectX-6\n",
      "      type             : SmartNIC\n",
      "      cpu              : 0\n",
      "      core             : 0\n",
      "      ram              : 0\n",
      "      disk             : 0\n",
      "      unit             : 2\n",
      "      capacity_allocations : None\n",
      "   Components        :\n",
      "      component             : {'capacities': '{ unit: 6 }', 'capacity_allocations': '{ unit: 3 }', 'model': 'Tesla T4', 'name': 'GPU-Tesla T4', 'type': 'GPU'}\n",
      "      Name             : GPU-Tesla T4\n",
      "      Unit             : 6\n",
      "      Model            : Tesla T4\n",
      "      Type             : GPU\n",
      "      component             : {'capacities': '{ unit: 6 }', 'model': 'RTX6000', 'name': 'GPU-RTX6000', 'type': 'GPU'}\n",
      "      Name             : GPU-RTX6000\n",
      "      Unit             : 6\n",
      "      Model            : RTX6000\n",
      "      Type             : GPU\n",
      "      component             : {'capacities': '{ disk: 20,000 G, unit: 20 }', 'capacity_allocations': '{ disk: 6,000 G, unit: 6 }', 'model': 'P4510', 'name': 'NVME-P4510', 'type': 'NVME'}\n",
      "      Name             : NVME-P4510\n",
      "      Unit             : 20\n",
      "      Model            : P4510\n",
      "      Type             : NVME\n",
      "      component             : {'capacities': '{ unit: 762 }', 'capacity_allocations': '{ unit: 67 }', 'model': 'ConnectX-6', 'name': 'SharedNIC-ConnectX-6', 'type': 'SharedNIC'}\n",
      "      Name             : SharedNIC-ConnectX-6\n",
      "      Unit             : 762\n",
      "      Model            : ConnectX-6\n",
      "      Type             : SharedNIC\n",
      "      component             : {'capacities': '{ unit: 2 }', 'model': 'ConnectX-6', 'name': 'SmartNIC-ConnectX-6', 'type': 'SmartNIC'}\n",
      "      Name             : SmartNIC-ConnectX-6\n",
      "      Unit             : 2\n",
      "      Model            : ConnectX-6\n",
      "      Type             : SmartNIC\n",
      "   Interfaces        : {'STAR_MAX': {'capacities': '{ bw: 100 Gbps}', 'name': 'STAR_MAX', 'type': 'TrunkPort'}, 'STAR_UTAH': {'capacities': '{ bw: 100 Gbps}', 'name': 'STAR_UTAH', 'type': 'TrunkPort'}, 'STAR_NCSA': {'capacities': '{ bw: 100 Gbps}', 'name': 'STAR_NCSA', 'type': 'TrunkPort'}}\n",
      "\n"
     ]
    }
   ],
   "source": [
    "from fabrictestbed_extensions.utils.testbed import Testbed\n",
    "site = None\n",
    "try:\n",
    "    site = Testbed.get_site_advertisment('STAR')\n",
    "except Exception as e:\n",
    "    print (e)\n",
    "    \n",
    "node = site\n",
    "print(\"Site: {}\".format(site))\n",
    "print(\"      name             : {}\".format(component.get_property(pname='name')))\n",
    "print(\"      type             : {}\".format(component.get_property(pname='type')))\n",
    "print(\"      cpu              : {}\".format(component.get_property(pname='capacities').cpu))\n",
    "print(\"      core             : {}\".format(component.get_property(pname='capacities').core))\n",
    "print(\"      ram              : {}\".format(component.get_property(pname='capacities').ram))\n",
    "print(\"      disk             : {}\".format(component.get_property(pname='capacities').disk))\n",
    "print(\"      unit             : {}\".format(component.get_property(pname='capacities').unit))\n",
    "print(\"      capacity_allocations : {}\".format(component.get_property(pname='capacity_allocations')  ))\n",
    "\n",
    "print(\"   Components        :\")\n",
    "for component_name, component in node.components.items():\n",
    "    print(\"      component             : {}\".format(component))\n",
    "    print(\"      Name             : {}\".format(component.name))\n",
    "    print(\"      Unit             : {}\".format(component.get_property(pname='capacities').unit))\n",
    "    print(\"      Model            : {}\".format(component.model))\n",
    "    print(\"      Type             : {}\".format(component.type))\n",
    "print(\"   Interfaces        : {}\".format(node.interfaces))\n",
    "print()    "
   ]
  },
  {
   "cell_type": "markdown",
   "id": "4121d39d-1c4d-4755-ab2a-3412e8331451",
   "metadata": {
    "tags": []
   },
   "source": [
    "### Delete All Slices"
   ]
  },
  {
   "cell_type": "code",
   "execution_count": 11,
   "id": "4dff1e52-4d09-4fc7-b813-6662fa2f3ea2",
   "metadata": {},
   "outputs": [
    {
     "name": "stdout",
     "output_type": "stream",
     "text": [
      "FABRIC Credential Manager   : cm.fabric-testbed.net\n",
      "FABRIC Orchestrator         : orchestrator.fabric-testbed.net\n",
      "Deleting Slice: Test-3_1_2_7XX-68-SharedNIC_ConnectX_6-STAR.  Response Status Status.OK\n",
      "Deleting Slice: Test-3_1_2_7XX-4-SharedNIC_ConnectX_6-STAR.  Response Status Status.OK\n",
      "Deleting Slice: Test-3_1_2_7XX-6-SharedNIC_ConnectX_6-STAR.  Response Status Status.OK\n",
      "Deleting Slice: Test-3_1_2_7XX-7-SharedNIC_ConnectX_6-STAR.  Response Status Status.OK\n",
      "Deleting Slice: Test-3_1_2_7XX-0-SharedNIC_ConnectX_6-STAR.  Response Status Status.OK\n",
      "Deleting Slice: Test-3_1_2_7XX-2-SharedNIC_ConnectX_6-STAR.  Response Status Status.OK\n",
      "Deleting Slice: Test-3_1_2_7XX-3-SharedNIC_ConnectX_6-STAR.  Response Status Status.OK\n",
      "Deleting Slice: Test-3_1_2_7XX-5-SharedNIC_ConnectX_6-STAR.  Response Status Status.OK\n",
      "Deleting Slice: Test-3_1_2_7XX-1-SharedNIC_ConnectX_6-STAR.  Response Status Status.OK\n",
      "Deleting Slice: Test-3_1_2_7XX-8-SharedNIC_ConnectX_6-STAR.  Response Status Status.OK\n",
      "Deleting Slice: Test-3_1_2_7XX-9-SharedNIC_ConnectX_6-STAR.  Response Status Status.OK\n",
      "Deleting Slice: Test-3_1_2_7XX-10-SharedNIC_ConnectX_6-STAR.  Response Status Status.OK\n",
      "Deleting Slice: Test-3_1_2_7XX-11-SharedNIC_ConnectX_6-STAR.  Response Status Status.OK\n",
      "Deleting Slice: Test-3_1_2_7XX-12-SharedNIC_ConnectX_6-STAR.  Response Status Status.OK\n",
      "Deleting Slice: Test-3_1_2_7XX-13-SharedNIC_ConnectX_6-STAR.  Response Status Status.OK\n",
      "Deleting Slice: Test-3_1_2_7XX-14-SharedNIC_ConnectX_6-STAR.  Response Status Status.OK\n",
      "Deleting Slice: Test-3_1_2_7XX-15-SharedNIC_ConnectX_6-STAR.  Response Status Status.OK\n",
      "Deleting Slice: Test-3_1_2_7XX-16-SharedNIC_ConnectX_6-STAR.  Response Status Status.OK\n",
      "Deleting Slice: Test-3_1_2_7XX-17-SharedNIC_ConnectX_6-STAR.  Response Status Status.OK\n",
      "Deleting Slice: Test-3_1_2_7XX-18-SharedNIC_ConnectX_6-STAR.  Response Status Status.OK\n",
      "Deleting Slice: Test-3_1_2_7XX-19-SharedNIC_ConnectX_6-STAR.  Response Status Status.OK\n",
      "Deleting Slice: Test-3_1_2_7XX-20-SharedNIC_ConnectX_6-STAR.  Response Status Status.OK\n",
      "Deleting Slice: Test-3_1_2_7XX-21-SharedNIC_ConnectX_6-STAR.  Response Status Status.OK\n",
      "Deleting Slice: Test-3_1_2_7XX-22-SharedNIC_ConnectX_6-STAR.  Response Status Status.OK\n",
      "Deleting Slice: Test-3_1_2_7XX-24-SharedNIC_ConnectX_6-STAR.  Response Status Status.OK\n",
      "Deleting Slice: Test-3_1_2_7XX-23-SharedNIC_ConnectX_6-STAR.  Response Status Status.OK\n",
      "Deleting Slice: Test-3_1_2_7XX-25-SharedNIC_ConnectX_6-STAR.  Response Status Status.OK\n",
      "Deleting Slice: Test-3_1_2_7XX-26-SharedNIC_ConnectX_6-STAR.  Response Status Status.OK\n",
      "Deleting Slice: Test-3_1_2_7XX-27-SharedNIC_ConnectX_6-STAR.  Response Status Status.OK\n",
      "Deleting Slice: Test-3_1_2_7XX-28-SharedNIC_ConnectX_6-STAR.  Response Status Status.OK\n",
      "Deleting Slice: Test-3_1_2_7XX-29-SharedNIC_ConnectX_6-STAR.  Response Status Status.OK\n",
      "Deleting Slice: Test-3_1_2_7XX-31-SharedNIC_ConnectX_6-STAR.  Response Status Status.OK\n",
      "Deleting Slice: Test-3_1_2_7XX-30-SharedNIC_ConnectX_6-STAR.  Response Status Status.OK\n",
      "Deleting Slice: Test-3_1_2_7XX-32-SharedNIC_ConnectX_6-STAR.  Response Status Status.OK\n",
      "Deleting Slice: Test-3_1_2_7XX-33-SharedNIC_ConnectX_6-STAR.  Response Status Status.OK\n",
      "Deleting Slice: Test-3_1_2_7XX-35-SharedNIC_ConnectX_6-STAR.  Response Status Status.OK\n",
      "Deleting Slice: Test-3_1_2_7XX-34-SharedNIC_ConnectX_6-STAR.  Response Status Status.OK\n",
      "Deleting Slice: Test-3_1_2_7XX-37-SharedNIC_ConnectX_6-STAR.  Response Status Status.OK\n",
      "Deleting Slice: Test-3_1_2_7XX-36-SharedNIC_ConnectX_6-STAR.  Response Status Status.OK\n",
      "Deleting Slice: Test-3_1_2_7XX-40-SharedNIC_ConnectX_6-STAR.  Response Status Status.OK\n",
      "Deleting Slice: Test-3_1_2_7XX-38-SharedNIC_ConnectX_6-STAR.  Response Status Status.OK\n",
      "Deleting Slice: Test-3_1_2_7XX-39-SharedNIC_ConnectX_6-STAR.  Response Status Status.OK\n",
      "Deleting Slice: Test-3_1_2_7XX-41-SharedNIC_ConnectX_6-STAR.  Response Status Status.OK\n",
      "Deleting Slice: Test-3_1_2_7XX-42-SharedNIC_ConnectX_6-STAR.  Response Status Status.OK\n",
      "Deleting Slice: Test-3_1_2_7XX-43-SharedNIC_ConnectX_6-STAR.  Response Status Status.OK\n",
      "Deleting Slice: Test-3_1_2_7XX-46-SharedNIC_ConnectX_6-STAR.  Response Status Status.OK\n",
      "Deleting Slice: Test-3_1_2_7XX-45-SharedNIC_ConnectX_6-STAR.  Response Status Status.OK\n",
      "Deleting Slice: Test-3_1_2_7XX-44-SharedNIC_ConnectX_6-STAR.  Response Status Status.OK\n",
      "Deleting Slice: Test-3_1_2_7XX-48-SharedNIC_ConnectX_6-STAR.  Response Status Status.OK\n",
      "Deleting Slice: Test-3_1_2_7XX-49-SharedNIC_ConnectX_6-STAR.  Response Status Status.OK\n",
      "Deleting Slice: Test-3_1_2_7XX-51-SharedNIC_ConnectX_6-STAR.  Response Status Status.OK\n",
      "Deleting Slice: Test-3_1_2_7XX-47-SharedNIC_ConnectX_6-STAR.  Response Status Status.OK\n",
      "Deleting Slice: Test-3_1_2_7XX-50-SharedNIC_ConnectX_6-STAR.  Response Status Status.OK\n",
      "Deleting Slice: Test-3_1_2_7XX-53-SharedNIC_ConnectX_6-STAR.  Response Status Status.OK\n",
      "Deleting Slice: Test-3_1_2_7XX-55-SharedNIC_ConnectX_6-STAR.  Response Status Status.OK\n",
      "Deleting Slice: Test-3_1_2_7XX-52-SharedNIC_ConnectX_6-STAR.  Response Status Status.OK\n",
      "Deleting Slice: Test-3_1_2_7XX-54-SharedNIC_ConnectX_6-STAR.  Response Status Status.OK\n",
      "Deleting Slice: Test-3_1_2_7XX-56-SharedNIC_ConnectX_6-STAR.  Response Status Status.OK\n",
      "Deleting Slice: Test-3_1_2_7XX-58-SharedNIC_ConnectX_6-STAR.  Response Status Status.OK\n",
      "Deleting Slice: Test-3_1_2_7XX-57-SharedNIC_ConnectX_6-STAR.  Response Status Status.OK\n",
      "Deleting Slice: Test-3_1_2_7XX-59-SharedNIC_ConnectX_6-STAR.  Response Status Status.OK\n",
      "Deleting Slice: Test-3_1_2_7XX-60-SharedNIC_ConnectX_6-STAR.  Response Status Status.OK\n",
      "Deleting Slice: Test-3_1_2_7XX-62-SharedNIC_ConnectX_6-STAR.  Response Status Status.OK\n",
      "Deleting Slice: Test-3_1_2_7XX-63-SharedNIC_ConnectX_6-STAR.  Response Status Status.OK\n",
      "Deleting Slice: Test-3_1_2_7XX-65-SharedNIC_ConnectX_6-STAR.  Response Status Status.OK\n",
      "Deleting Slice: Test-3_1_2_7XX-61-SharedNIC_ConnectX_6-STAR.  Response Status Status.OK\n",
      "Deleting Slice: Test-3_1_2_7XX-64-SharedNIC_ConnectX_6-STAR.  Response Status Status.OK\n",
      "Deleting Slice: Test-3_1_2_7XX-66-SharedNIC_ConnectX_6-STAR.  Response Status Status.OK\n",
      "Deleting Slice: Test-3_1_2_7XX-67-SharedNIC_ConnectX_6-STAR.  Response Status Status.OK\n",
      "Deleting Slice: Test-3_1_2_7XX-69-SharedNIC_ConnectX_6-STAR.  Response Status Status.OK\n",
      "Deleting Slice: Test-3_1_2_7XX-70-SharedNIC_ConnectX_6-STAR.  Response Status Status.OK\n",
      "Deleting Slice: Test-3_1_2_7XX-71-SharedNIC_ConnectX_6-STAR.  Response Status Status.OK\n",
      "Deleting Slice: Test-3_1_2_7XX-72-SharedNIC_ConnectX_6-STAR.  Response Status Status.OK\n",
      "Deleting Slice: Test-3_1_2_7XX-74-SharedNIC_ConnectX_6-STAR.  Response Status Status.OK\n",
      "Deleting Slice: Test-3_1_2_7XX-76-SharedNIC_ConnectX_6-STAR.  Response Status Status.OK\n",
      "Deleting Slice: Test-3_1_2_7XX-78-SharedNIC_ConnectX_6-STAR.  Response Status Status.OK\n",
      "Deleting Slice: Test-3_1_2_7XX-73-SharedNIC_ConnectX_6-STAR.  Response Status Status.OK\n",
      "Deleting Slice: Test-3_1_2_7XX-75-SharedNIC_ConnectX_6-STAR.  Response Status Status.OK\n",
      "Deleting Slice: Test-3_1_2_7XX-77-SharedNIC_ConnectX_6-STAR.  Response Status Status.OK\n",
      "Deleting Slice: Test-3_1_2_7XX-81-SharedNIC_ConnectX_6-STAR.  Response Status Status.OK\n",
      "Deleting Slice: Test-3_1_2_7XX-79-SharedNIC_ConnectX_6-STAR.  Response Status Status.OK\n",
      "Deleting Slice: Test-3_1_2_7XX-80-SharedNIC_ConnectX_6-STAR.  Response Status Status.OK\n",
      "Deleting Slice: Test-3_1_2_7XX-83-SharedNIC_ConnectX_6-STAR.  Response Status Status.OK\n",
      "Deleting Slice: Test-3_1_2_7XX-82-SharedNIC_ConnectX_6-STAR.  Response Status Status.OK\n",
      "Deleting Slice: Test-3_1_2_7XX-84-SharedNIC_ConnectX_6-STAR.  Response Status Status.OK\n",
      "Deleting Slice: Test-3_1_2_7XX-695-SharedNIC_ConnectX_6-STAR.  Response Status Status.FAILURE\n",
      "Deleting Slice: Test-3_1_2_7XX-693-SharedNIC_ConnectX_6-STAR.  Response Status Status.FAILURE\n",
      "Deleting Slice: Test-3_1_2_7XX-694-SharedNIC_ConnectX_6-STAR.  Response Status Status.FAILURE\n",
      "Deleting Slice: Test-3_1_2_7XX-696-SharedNIC_ConnectX_6-STAR.  Response Status Status.FAILURE\n",
      "Deleting Slice: Test-3_1_2_7XX-697-SharedNIC_ConnectX_6-STAR.  Response Status Status.FAILURE\n",
      "Deleting Slice: Test-3_1_2_7XX-698-SharedNIC_ConnectX_6-STAR.  Response Status Status.FAILURE\n",
      "Deleting Slice: Test-3_1_2_7XX-699-SharedNIC_ConnectX_6-STAR.  Response Status Status.FAILURE\n"
     ]
    }
   ],
   "source": [
    "from fabrictestbed_extensions.utils.slice import SliceUtils\n",
    "try:\n",
    "    SliceUtils.delete_all()\n",
    "except Exception as e:\n",
    "    print (e)"
   ]
  },
  {
   "cell_type": "markdown",
   "id": "b92ed72e-3b63-43a9-8b19-9fedc222fe2f",
   "metadata": {
    "tags": []
   },
   "source": [
    "### Delete All with Substring"
   ]
  },
  {
   "cell_type": "code",
   "execution_count": 9,
   "id": "94bf468c-b628-4f66-91c5-bbd9908f7f0a",
   "metadata": {},
   "outputs": [
    {
     "name": "stdout",
     "output_type": "stream",
     "text": [
      "FABRIC Credential Manager   : cm.fabric-testbed.net\n",
      "FABRIC Orchestrator         : orchestrator.fabric-testbed.net\n",
      "Deleting Slice: Test-3_1_2_700-1-SharedNIC_ConnectX_6-STAR.  Response Status Status.FAILURE\n",
      "Deleting Slice: Test-3_1_2_700-8-SharedNIC_ConnectX_6-STAR.  Response Status Status.FAILURE\n",
      "Deleting Slice: Test-3_1_2_700-9-SharedNIC_ConnectX_6-STAR.  Response Status Status.FAILURE\n",
      "Deleting Slice: Test-3_1_2_700-11-SharedNIC_ConnectX_6-STAR.  Response Status Status.FAILURE\n",
      "Deleting Slice: Test-3_1_2_700-16-SharedNIC_ConnectX_6-STAR.  Response Status Status.FAILURE\n",
      "Deleting Slice: Test-3_1_2_700-17-SharedNIC_ConnectX_6-STAR.  Response Status Status.FAILURE\n",
      "Deleting Slice: Test-3_1_2_700-18-SharedNIC_ConnectX_6-STAR.  Response Status Status.FAILURE\n",
      "Deleting Slice: Test-3_1_2_700-22-SharedNIC_ConnectX_6-STAR.  Response Status Status.FAILURE\n",
      "Deleting Slice: Test-3_1_2_700-24-SharedNIC_ConnectX_6-STAR.  Response Status Status.FAILURE\n",
      "Deleting Slice: Test-3_1_2_700-29-SharedNIC_ConnectX_6-STAR.  Response Status Status.FAILURE\n",
      "Deleting Slice: Test-3_1_2_700-30-SharedNIC_ConnectX_6-STAR.  Response Status Status.FAILURE\n",
      "Deleting Slice: Test-3_1_2_700-33-SharedNIC_ConnectX_6-STAR.  Response Status Status.FAILURE\n"
     ]
    }
   ],
   "source": [
    "from fabrictestbed_extensions.utils.slice import SliceUtils\n",
    "try:\n",
    "    SliceUtils.delete_all_with_substring(\"Test-3_1_2_700\")\n",
    "except Exception as e:\n",
    "    print (e)"
   ]
  },
  {
   "cell_type": "markdown",
   "id": "52195c2d-6fc8-4326-9ab1-7dff2b1bfa66",
   "metadata": {
    "tags": []
   },
   "source": [
    "### Delete Slice"
   ]
  },
  {
   "cell_type": "code",
   "execution_count": 11,
   "id": "912f0294-a680-4158-bbd5-7879ce51a0c6",
   "metadata": {},
   "outputs": [
    {
     "name": "stdout",
     "output_type": "stream",
     "text": [
      "FABRIC Credential Manager   : cm.fabric-testbed.net\n",
      "FABRIC Orchestrator         : orchestrator.fabric-testbed.net\n",
      "Slice not found name: Test-3_1_2-a-3-GPU_Tesla_T4-TACC, slice_id: None\n"
     ]
    }
   ],
   "source": [
    "from fabrictestbed_extensions.utils.slice import SliceUtils\n",
    "slice_id = None\n",
    "slice_name = \"Test-3_1_2-a-3-GPU_Tesla_T4-TACC\"\n",
    "try:\n",
    "    SliceUtils.delete_slice(slice_name=slice_name, slice_id=slice_id)\n",
    "except Exception as e:\n",
    "    print (e)"
   ]
  },
  {
   "cell_type": "markdown",
   "id": "89a4fdc2-77ce-4e88-b206-abea5ce125d6",
   "metadata": {
    "tags": []
   },
   "source": [
    "### Get All Slices"
   ]
  },
  {
   "cell_type": "code",
   "execution_count": 52,
   "id": "c3d1f061-5c1b-4a67-9525-343caa481ed1",
   "metadata": {},
   "outputs": [
    {
     "name": "stdout",
     "output_type": "stream",
     "text": [
      "FABRIC Credential Manager   : cm.fabric-testbed.net\n",
      "FABRIC Orchestrator         : orchestrator.fabric-testbed.net\n",
      "test_harness_latency_mtu_bandwidth | ac2e4a8e-e5ad-4f2a-9775-7b3b1b899f0e | StableOK\n"
     ]
    }
   ],
   "source": [
    "from fabrictestbed_extensions.utils.slice import SliceUtils\n",
    "try:\n",
    "    SliceUtils.list_all_slices()\n",
    "except Exception as e:\n",
    "    print (e)"
   ]
  },
  {
   "cell_type": "markdown",
   "id": "760d7a56-9ea6-4ae9-abaa-932b3f8af500",
   "metadata": {
    "tags": []
   },
   "source": [
    "### Get Slice Error (by ID only)"
   ]
  },
  {
   "cell_type": "code",
   "execution_count": 10,
   "id": "04e86d37-b548-424a-a45d-362077d3b22f",
   "metadata": {},
   "outputs": [
    {
     "name": "stdout",
     "output_type": "stream",
     "text": [
      "FABRIC Credential Manager   : cm.fabric-testbed.net\n",
      "FABRIC Orchestrator         : orchestrator.fabric-testbed.net\n",
      "Slice notice: \n",
      "Reservation 6ef5b522-818f-483d-a8b1-6fc3be50e691 (Slice Test-3_1_2_7XX-85-SharedNIC_ConnectX_6-STAR(1fcf2af5-58ba-441a-b52f-f8f3b6d83f21) Graph Id:af302d24-8f4d-4856-b1cc-ac7ca71b144f Owner:name: orchestrator guid: orchestrator-guid email: pruth@email.unc.edu State:Closing ) is in state [Closed,None_]\n",
      "\n",
      "Last ticket update: Insufficient resources : ['core']\n",
      "Ticket events: \n",
      "Last ticket update: \n"
     ]
    }
   ],
   "source": [
    "\n",
    "\n",
    "from fabrictestbed_extensions.utils.slice import SliceUtils\n",
    "\n",
    "slice_id = \"1fcf2af5-58ba-441a-b52f-f8f3b6d83f21\"\n",
    "try:\n",
    "    for notice in SliceUtils.get_slice_error(slice_id):\n",
    "        print(\"Slice notice: \\n{}\".format(str(notice)))\n",
    "    \n",
    "except Exception as e:\n",
    "    print (e)"
   ]
  },
  {
   "cell_type": "markdown",
   "id": "e52bc19d-f427-4536-83ba-dd0d40855387",
   "metadata": {
    "tags": []
   },
   "source": [
    "### Get Slice by Name\n",
    "\n",
    "Gets and slice by name but does not return \"Closing\" or \"Dead\" slices."
   ]
  },
  {
   "cell_type": "code",
   "execution_count": null,
   "id": "00477e0b-a32b-4273-98f0-1d23874a607c",
   "metadata": {},
   "outputs": [],
   "source": [
    "from fabrictestbed_extensions.utils.slice import SliceUtils\n",
    "try:\n",
    "    slice = SliceUtils.get_slice(slice_name='Test-3.1.2-a-2-GPU_RTX6000-UTAH')\n",
    "except Exception as e:\n",
    "    print (e)\n",
    "    \n",
    "print(slice)"
   ]
  },
  {
   "cell_type": "markdown",
   "id": "0a6b84c8-436b-451c-96e7-2e6b56229f62",
   "metadata": {
    "tags": []
   },
   "source": [
    "### Get Slice by Slice_ID\n",
    "\n",
    "Gets and slice by id but does not return \"Closing\" or \"Dead\" slices."
   ]
  },
  {
   "cell_type": "code",
   "execution_count": null,
   "id": "c782370d-9b55-474c-af78-31cba46c310a",
   "metadata": {},
   "outputs": [],
   "source": [
    "from fabrictestbed_extensions.utils.slice import SliceUtils\n",
    "try:\n",
    "    slice = SliceUtils.get_slice(slice_id=\"2af0810e-648d-48dc-90e6-67e5aed2a475\")\n",
    "except Exception as e:\n",
    "    print (e)\n",
    "    \n",
    "print(slice)"
   ]
  },
  {
   "cell_type": "markdown",
   "id": "4cf7920c-1825-4f12-944c-b732f084162a",
   "metadata": {},
   "source": [
    "### Wait for Slice"
   ]
  },
  {
   "cell_type": "code",
   "execution_count": null,
   "id": "793de057-a758-4583-a3e3-50ca45aa5c98",
   "metadata": {},
   "outputs": [],
   "source": [
    "from fabrictestbed_extensions.utils.slice import SliceUtils\n",
    "try:\n",
    "    SliceUtils.wait_for_slice(slice_name='HF_STAR',slice_id=None,timeout=360,interval=10,progress=True)\n",
    "except Exception as e:\n",
    "    print (e)"
   ]
  },
  {
   "cell_type": "markdown",
   "id": "2cd8c364-d62e-4248-87a4-d5a2a6815c76",
   "metadata": {},
   "source": [
    "### Exceute Script on Node"
   ]
  },
  {
   "cell_type": "code",
   "execution_count": null,
   "id": "a46875bd-5066-4c70-a23d-7ec43d187bc8",
   "metadata": {},
   "outputs": [],
   "source": [
    "from fabrictestbed_extensions.utils.node import NodeUtils\n",
    "\n",
    "script= '#!/bin/bash  \\n' \\\n",
    "        'echo Hello, FABRIC from node `hostname -s`   \\n'\n",
    "\n",
    "try:\n",
    "    SliceUtils.execute_script('centos', node, script)\n",
    "except Exception as e:\n",
    "    print (e)"
   ]
  },
  {
   "cell_type": "code",
   "execution_count": null,
   "id": "55f3b771-d829-4fac-82d2-fa7fd3ff229b",
   "metadata": {},
   "outputs": [],
   "source": []
  }
 ],
 "metadata": {
  "kernelspec": {
   "display_name": "Python 3 (ipykernel)",
   "language": "python",
   "name": "python3"
  },
  "language_info": {
   "codemirror_mode": {
    "name": "ipython",
    "version": 3
   },
   "file_extension": ".py",
   "mimetype": "text/x-python",
   "name": "python",
   "nbconvert_exporter": "python",
   "pygments_lexer": "ipython3",
   "version": "3.9.2"
  }
 },
 "nbformat": 4,
 "nbformat_minor": 5
}
