{
 "cells": [
  {
   "cell_type": "code",
   "execution_count": 1,
   "id": "7e67715d-98eb-4fda-bfa6-f46033c97076",
   "metadata": {},
   "outputs": [],
   "source": [
    "\n",
    "import os\n",
    "\n",
    "os.environ['FABRIC_CREDMGR_HOST']='cm.fabric-testbed.net'\n",
    "os.environ['FABRIC_ORCHESTRATOR_HOST']='orchestrator.fabric-testbed.net'\n",
    "os.environ['FABRIC_TOKEN_LOCATION']=os.environ['HOME']+'/work/fabric_token.json'\n",
    "\n",
    "os.environ['FABRIC_BASTION_USERNAME']='pruth'\n",
    "os.environ['FABRIC_BASTION_KEY_LOCATION']=os.environ['HOME']+'/work/.ssh/id_rsa_fabric'\n",
    "\n",
    "os.environ['FABRIC_SLICE_PRIVATE_KEY_FILE']=os.environ['HOME']+'/.ssh/id_rsa'\n",
    "os.environ['FABRCI_SLICE_PUBLIC_KEY_FILE']=os.environ['HOME']+'/.ssh/id_rsa.pub'\n",
    "\n",
    "os.environ['FABRIC_BASTION_HOST'] = 'bastion-1.fabric-testbed.net'\n",
    "os.environ['FABRIC_BASTION_HOST_PRIVATE_IPV4'] = '192.168.11.226'\n",
    "os.environ['FABRIC_BASTION_HOST_PRIVATE_IPV6'] = '2600:2701:5000:a902::c'\n",
    "\n",
    "from fabrictestbed_extensions.utils.testbed import Testbed \n",
    "from fabrictestbed_extensions.utils.slice import SliceUtils\n"
   ]
  },
  {
   "cell_type": "markdown",
   "id": "b7d6a999-83f6-43e7-bce2-24b9ae1de365",
   "metadata": {},
   "source": [
    "### Get Advertised Topology"
   ]
  },
  {
   "cell_type": "code",
   "execution_count": 2,
   "id": "a80cd849-ee88-4348-86e6-cc1d9dac3a5f",
   "metadata": {},
   "outputs": [
    {
     "name": "stdout",
     "output_type": "stream",
     "text": [
      "XXXXXXXXXXXXX pruth XXXXXXXXXXX\n",
      "FABRIC Credential Manager   : cm.fabric-testbed.net\n",
      "FABRIC Orchestrator         : orchestrator.fabric-testbed.net\n",
      "NCSA: { cpu: 6/6 , core: 180/192 , ram: 1,476/1,536 G, disk: 60,300/60,600 G, unit: 3/3 }\n",
      "\tComponents:\n",
      "\t\tNVME-P4510:  NVME P4510 { disk: 8,640/9,600 G, unit: 9/10 }\n",
      "\t\tGPU-Tesla T4:  GPU Tesla T4 { unit: 2/2 }\n",
      "\t\tGPU-RTX6000:  GPU RTX6000 { unit: 3/3 }\n",
      "\t\tSmartNIC-ConnectX-5:  SmartNIC ConnectX-5 { unit: 2/2 }\n",
      "\t\tSmartNIC-ConnectX-6:  SmartNIC ConnectX-6 { unit: 2/2 }\n",
      "\t\tSharedNIC-ConnectX-6:  SharedNIC ConnectX-6 { unit: 378/381 }\n",
      "\tSite Interfaces:\n",
      "\t\tNCSA_STAR: TrunkPort { bw: 100/100 Gbps}\n",
      "TACC: { cpu: 10/10 , core: 320/320 , ram: 2,560/2,560 G, disk: 116,400/116,400 G, unit: 5/5 }\n",
      "\tComponents:\n",
      "\t\tSmartNIC-ConnectX-5:  SmartNIC ConnectX-5 { unit: 4/4 }\n",
      "\t\tGPU-RTX6000:  GPU RTX6000 { unit: 6/6 }\n",
      "\t\tGPU-Tesla T4:  GPU Tesla T4 { unit: 4/4 }\n",
      "\t\tNVME-P4510:  NVME P4510 { disk: 15,360/15,360 G, unit: 16/16 }\n",
      "\t\tSharedNIC-ConnectX-6:  SharedNIC ConnectX-6 { unit: 635/635 }\n",
      "\t\tSmartNIC-ConnectX-6:  SmartNIC ConnectX-6 { unit: 2/2 }\n",
      "\tSite Interfaces:\n",
      "\t\tTACC_UTAH: TrunkPort { bw: 100/100 Gbps}\n",
      "\t\tTACC_MAX: TrunkPort { bw: 100/100 Gbps}\n",
      "UTAH: { cpu: 10/10 , core: 320/320 , ram: 2,560/2,560 G, disk: 116,400/116,400 G, unit: 5/5 }\n",
      "\tComponents:\n",
      "\t\tGPU-RTX6000:  GPU RTX6000 { unit: 5/5 }\n",
      "\t\tGPU-Tesla T4:  GPU Tesla T4 { unit: 4/4 }\n",
      "\t\tNVME-P4510:  NVME P4510 { disk: 15,360/15,360 G, unit: 16/16 }\n",
      "\t\tSharedNIC-ConnectX-6:  SharedNIC ConnectX-6 { unit: 635/635 }\n",
      "\t\tSmartNIC-ConnectX-6:  SmartNIC ConnectX-6 { unit: 2/2 }\n",
      "\t\tSmartNIC-ConnectX-5:  SmartNIC ConnectX-5 { unit: 4/4 }\n",
      "\tSite Interfaces:\n",
      "\t\tUTAH_TACC: TrunkPort { bw: 100/100 Gbps}\n",
      "\t\tUTAH_STAR: TrunkPort { bw: 100/100 Gbps}\n",
      "MAX: { cpu: 10/10 , core: 300/320 , ram: 2,460/2,560 G, disk: 115,900/116,400 G, unit: 5/5 }\n",
      "\tComponents:\n",
      "\t\tSharedNIC-ConnectX-6:  SharedNIC ConnectX-6 { unit: 630/635 }\n",
      "\t\tGPU-Tesla T4:  GPU Tesla T4 { unit: 4/4 }\n",
      "\t\tGPU-RTX6000:  GPU RTX6000 { unit: 6/6 }\n",
      "\t\tSmartNIC-ConnectX-5:  SmartNIC ConnectX-5 { unit: 4/4 }\n",
      "\t\tSmartNIC-ConnectX-6:  SmartNIC ConnectX-6 { unit: 2/2 }\n",
      "\t\tNVME-P4510:  NVME P4510 { disk: 13,440/15,360 G, unit: 14/16 }\n",
      "\tSite Interfaces:\n",
      "\t\tMAX_TACC: TrunkPort { bw: 100/100 Gbps}\n",
      "\t\tMAX_STAR: TrunkPort { bw: 100/100 Gbps}\n",
      "SALT\n",
      "\tComponents:\n",
      "\tSite Interfaces:\n",
      "STAR: { cpu: 12/12 , core: 378/384 , ram: 3,036/3,072 G, disk: 120,950/121,200 G, unit: 6/6 }\n",
      "\tComponents:\n",
      "\t\tNVME-P4510:  NVME P4510 { disk: 20,000/20,000 G, unit: 20/20 }\n",
      "\t\tGPU-Tesla T4:  GPU Tesla T4 { unit: 6/6 }\n",
      "\t\tGPU-RTX6000:  GPU RTX6000 { unit: 6/6 }\n",
      "\t\tSmartNIC-ConnectX-5:  SmartNIC ConnectX-5 { unit: 6/6 }\n",
      "\t\tSmartNIC-ConnectX-6:  SmartNIC ConnectX-6 { unit: 2/2 }\n",
      "\t\tSharedNIC-ConnectX-6:  SharedNIC ConnectX-6 { unit: 761/762 }\n",
      "\tSite Interfaces:\n",
      "\t\tSTAR_UTAH: TrunkPort { bw: 100/100 Gbps}\n",
      "\t\tSTAR_MAX: TrunkPort { bw: 100/100 Gbps}\n",
      "\t\tSTAR_NCSA: TrunkPort { bw: 100/100 Gbps}\n",
      "WASH\n",
      "\tComponents:\n",
      "\tSite Interfaces:\n",
      "DALL\n",
      "\tComponents:\n",
      "\tSite Interfaces:\n",
      "MICH\n",
      "\tComponents:\n",
      "\tSite Interfaces:\n",
      "Links:\n",
      "\tport+max-data-sw:HundredGigE0/0/0/22.2051 to port+tacc-data-sw:HundredGigE0/0/0/23.3160[L2Path]: ['TACC_MAX', 'MAX_TACC']\n",
      "\tport+tacc-data-sw:HundredGigE0/0/0/23.3161 to port+utah-data-sw:HundredGigE0/0/0/22.2091[L2Path]: ['UTAH_TACC', 'TACC_UTAH']\n",
      "\tport+star-data-sw:HundredGigE0/0/0/30.3722 to port+utah-data-sw:HundredGigE0/0/0/22.2090[L2Path]: ['STAR_UTAH', 'UTAH_STAR']\n",
      "\tport+max-data-sw:HundredGigE0/0/0/22.2052 to port+star-data-sw:HundredGigE0/0/0/30.3721[L2Path]: ['STAR_MAX', 'MAX_STAR']\n",
      "\tport+ncsa-data-sw:HundredGigE0/0/0/23.3710 to port+star-data-sw:HundredGigE0/0/0/30.3710[L2Path]: ['STAR_NCSA', 'NCSA_STAR']\n"
     ]
    }
   ],
   "source": [
    "from fabrictestbed_extensions.utils.testbed import Testbed\n",
    "try:\n",
    "    print(Testbed.get_advertised_topology())\n",
    "except Exception as e:\n",
    "    print (e)"
   ]
  },
  {
   "cell_type": "markdown",
   "id": "563d5d73-ba33-4c4e-8015-4f82bab69778",
   "metadata": {},
   "source": [
    "### Get Site Advertised Topology"
   ]
  },
  {
   "cell_type": "code",
   "execution_count": null,
   "id": "f868c6a6-6ed4-40d0-be9d-61481f2f1a68",
   "metadata": {},
   "outputs": [],
   "source": [
    "from fabrictestbed_extensions.utils.testbed import Testbed\n",
    "site = None\n",
    "try:\n",
    "    site = Testbed.get_site_advertisment('STAR')\n",
    "except Exception as e:\n",
    "    print (e)\n",
    "    \n",
    "node = site\n",
    "print(\"Site: {}\".format(site))\n",
    "print(\"      name             : {}\".format(component.get_property(pname='name')))\n",
    "print(\"      type             : {}\".format(component.get_property(pname='type')))\n",
    "print(\"      cpu              : {}\".format(component.get_property(pname='capacities').cpu))\n",
    "print(\"      core             : {}\".format(component.get_property(pname='capacities').core))\n",
    "print(\"      ram              : {}\".format(component.get_property(pname='capacities').ram))\n",
    "print(\"      disk             : {}\".format(component.get_property(pname='capacities').disk))\n",
    "print(\"      unit             : {}\".format(component.get_property(pname='capacities').unit))\n",
    "print(\"      capacity_allocations : {}\".format(component.get_property(pname='capacity_allocations')  ))\n",
    "\n",
    "print(\"   Components        :\")\n",
    "for component_name, component in node.components.items():\n",
    "    print(\"      component             : {}\".format(component))\n",
    "    print(\"      Name             : {}\".format(component.name))\n",
    "    print(\"      Unit             : {}\".format(component.get_property(pname='capacities').unit))\n",
    "    print(\"      Model            : {}\".format(component.model))\n",
    "    print(\"      Type             : {}\".format(component.type))\n",
    "print(\"   Interfaces        : {}\".format(node.interfaces))\n",
    "print()    "
   ]
  },
  {
   "cell_type": "markdown",
   "id": "4121d39d-1c4d-4755-ab2a-3412e8331451",
   "metadata": {
    "tags": []
   },
   "source": [
    "### Delete All Slices"
   ]
  },
  {
   "cell_type": "code",
   "execution_count": null,
   "id": "4dff1e52-4d09-4fc7-b813-6662fa2f3ea2",
   "metadata": {},
   "outputs": [],
   "source": [
    "from fabrictestbed_extensions.utils.slice import SliceUtils\n",
    "try:\n",
    "    SliceUtils.delete_all()\n",
    "except Exception as e:\n",
    "    print (e)"
   ]
  },
  {
   "cell_type": "markdown",
   "id": "b92ed72e-3b63-43a9-8b19-9fedc222fe2f",
   "metadata": {
    "tags": []
   },
   "source": [
    "### Delete All with Substring"
   ]
  },
  {
   "cell_type": "code",
   "execution_count": null,
   "id": "94bf468c-b628-4f66-91c5-bbd9908f7f0a",
   "metadata": {},
   "outputs": [],
   "source": [
    "from fabrictestbed_extensions.utils.slice import SliceUtils\n",
    "try:\n",
    "    SliceUtils.delete_all_with_substring(\"Test-3_1_2_700\")\n",
    "except Exception as e:\n",
    "    print (e)"
   ]
  },
  {
   "cell_type": "markdown",
   "id": "52195c2d-6fc8-4326-9ab1-7dff2b1bfa66",
   "metadata": {
    "tags": []
   },
   "source": [
    "### Delete Slice"
   ]
  },
  {
   "cell_type": "code",
   "execution_count": null,
   "id": "912f0294-a680-4158-bbd5-7879ce51a0c6",
   "metadata": {},
   "outputs": [],
   "source": [
    "from fabrictestbed_extensions.utils.slice import SliceUtils\n",
    "slice_id = None\n",
    "slice_name = \"Test-3_1_2-a-3-GPU_Tesla_T4-TACC\"\n",
    "try:\n",
    "    SliceUtils.delete_slice(slice_name=slice_name, slice_id=slice_id)\n",
    "except Exception as e:\n",
    "    print (e)"
   ]
  },
  {
   "cell_type": "markdown",
   "id": "89a4fdc2-77ce-4e88-b206-abea5ce125d6",
   "metadata": {
    "tags": []
   },
   "source": [
    "### Get All Slices"
   ]
  },
  {
   "cell_type": "code",
   "execution_count": null,
   "id": "c3d1f061-5c1b-4a67-9525-343caa481ed1",
   "metadata": {},
   "outputs": [],
   "source": [
    "from fabrictestbed_extensions.utils.slice import SliceUtils\n",
    "try:\n",
    "    SliceUtils.list_all_slices()\n",
    "except Exception as e:\n",
    "    print (e)"
   ]
  },
  {
   "cell_type": "markdown",
   "id": "760d7a56-9ea6-4ae9-abaa-932b3f8af500",
   "metadata": {
    "tags": []
   },
   "source": [
    "### Get Slice Error (by ID only)"
   ]
  },
  {
   "cell_type": "code",
   "execution_count": null,
   "id": "04e86d37-b548-424a-a45d-362077d3b22f",
   "metadata": {},
   "outputs": [],
   "source": [
    "\n",
    "\n",
    "from fabrictestbed_extensions.utils.slice import SliceUtils\n",
    "\n",
    "slice_id = \"406915cf-1043-4fd5-93e6-9f63fdcbe6de\"\n",
    "try:\n",
    "    for notice in SliceUtils.get_slice_error(slice_id):\n",
    "        print(\"Slice notice: \\n{}\".format(str(notice)))\n",
    "    \n",
    "except Exception as e:\n",
    "    print (e)"
   ]
  },
  {
   "cell_type": "markdown",
   "id": "e52bc19d-f427-4536-83ba-dd0d40855387",
   "metadata": {
    "tags": []
   },
   "source": [
    "### Get Slice by Name\n",
    "\n",
    "Gets and slice by name but does not return \"Closing\" or \"Dead\" slices."
   ]
  },
  {
   "cell_type": "code",
   "execution_count": null,
   "id": "00477e0b-a32b-4273-98f0-1d23874a607c",
   "metadata": {},
   "outputs": [],
   "source": [
    "from fabrictestbed_extensions.utils.slice import SliceUtils\n",
    "try:\n",
    "    slice = SliceUtils.get_slice(slice_name='Test-3.1.2-a-2-GPU_RTX6000-UTAH')\n",
    "except Exception as e:\n",
    "    print (e)\n",
    "    \n",
    "print(slice)"
   ]
  },
  {
   "cell_type": "markdown",
   "id": "0a6b84c8-436b-451c-96e7-2e6b56229f62",
   "metadata": {
    "tags": []
   },
   "source": [
    "### Get Slice by Slice_ID\n",
    "\n",
    "Gets and slice by id but does not return \"Closing\" or \"Dead\" slices."
   ]
  },
  {
   "cell_type": "code",
   "execution_count": null,
   "id": "c782370d-9b55-474c-af78-31cba46c310a",
   "metadata": {},
   "outputs": [],
   "source": [
    "from fabrictestbed_extensions.utils.slice import SliceUtils\n",
    "try:\n",
    "    slice = SliceUtils.get_slice(slice_id=\"2af0810e-648d-48dc-90e6-67e5aed2a475\")\n",
    "except Exception as e:\n",
    "    print (e)\n",
    "    \n",
    "print(slice)"
   ]
  },
  {
   "cell_type": "markdown",
   "id": "4cf7920c-1825-4f12-944c-b732f084162a",
   "metadata": {},
   "source": [
    "### Wait for Slice"
   ]
  },
  {
   "cell_type": "code",
   "execution_count": null,
   "id": "793de057-a758-4583-a3e3-50ca45aa5c98",
   "metadata": {},
   "outputs": [],
   "source": [
    "from fabrictestbed_extensions.utils.slice import SliceUtils\n",
    "try:\n",
    "    SliceUtils.wait_for_slice(slice_name='HF_STAR',slice_id=None,timeout=360,interval=10,progress=True)\n",
    "except Exception as e:\n",
    "    print (e)"
   ]
  },
  {
   "cell_type": "markdown",
   "id": "2cd8c364-d62e-4248-87a4-d5a2a6815c76",
   "metadata": {},
   "source": [
    "### Exceute Script on Node"
   ]
  },
  {
   "cell_type": "code",
   "execution_count": null,
   "id": "a46875bd-5066-4c70-a23d-7ec43d187bc8",
   "metadata": {},
   "outputs": [],
   "source": [
    "from fabrictestbed_extensions.utils.node import NodeUtils\n",
    "\n",
    "script= '#!/bin/bash  \\n' \\\n",
    "        'echo Hello, FABRIC from node `hostname -s`   \\n'\n",
    "\n",
    "try:\n",
    "    SliceUtils.execute_script('centos', node, script)\n",
    "except Exception as e:\n",
    "    print (e)"
   ]
  },
  {
   "cell_type": "code",
   "execution_count": null,
   "id": "55f3b771-d829-4fac-82d2-fa7fd3ff229b",
   "metadata": {},
   "outputs": [],
   "source": []
  }
 ],
 "metadata": {
  "kernelspec": {
   "display_name": "Python 3 (ipykernel)",
   "language": "python",
   "name": "python3"
  },
  "language_info": {
   "codemirror_mode": {
    "name": "ipython",
    "version": 3
   },
   "file_extension": ".py",
   "mimetype": "text/x-python",
   "name": "python",
   "nbconvert_exporter": "python",
   "pygments_lexer": "ipython3",
   "version": "3.9.2"
  }
 },
 "nbformat": 4,
 "nbformat_minor": 5
}
