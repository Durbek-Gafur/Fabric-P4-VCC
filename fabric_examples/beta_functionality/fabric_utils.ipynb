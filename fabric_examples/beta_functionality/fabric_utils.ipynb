{
 "cells": [
  {
   "cell_type": "code",
   "execution_count": 1,
   "id": "7e67715d-98eb-4fda-bfa6-f46033c97076",
   "metadata": {},
   "outputs": [],
   "source": [
    "from fabrictestbed_extensions.utils.testbed import Testbed \n",
    "from fabrictestbed_extensions.utils.slice import SliceUtils"
   ]
  },
  {
   "cell_type": "markdown",
   "id": "b7d6a999-83f6-43e7-bce2-24b9ae1de365",
   "metadata": {},
   "source": [
    "### Get Advertised Topology"
   ]
  },
  {
   "cell_type": "code",
   "execution_count": 2,
   "id": "a80cd849-ee88-4348-86e6-cc1d9dac3a5f",
   "metadata": {},
   "outputs": [
    {
     "name": "stdout",
     "output_type": "stream",
     "text": [
      "FABRIC Credential Manager   : beta-2.fabric-testbed.net\n",
      "FABRIC Orchestrator         : beta-7.fabric-testbed.net\n",
      "LBNL: { cpu: 6/6 , core: 100/192 , ram: 1,236/1,536 G, disk: 60,446/60,600 G, unit: 3/3 }\n",
      "\tComponents:\n",
      "\t\tGPU-RTX6000:  GPU RTX6000 { unit: 2/2 }\n",
      "\t\tGPU-Tesla T4:  GPU Tesla T4 { unit: 4/4 }\n",
      "\t\tNVME-P4510:  NVME P4510 { disk: 10,000/10,000 G, unit: 10/10 }\n",
      "\t\tSharedNIC-ConnectX-6:  SharedNIC ConnectX-6 { unit: 377/381 }\n",
      "\t\tSmartNIC-ConnectX-6:  SmartNIC ConnectX-6 { unit: 0/2 }\n",
      "\t\tSmartNIC-ConnectX-5:  SmartNIC ConnectX-5 { unit: 2/2 }\n",
      "\tSite Interfaces:\n",
      "\t\tLBNL_UKY: TrunkPort { bw: 100/100 Gbps}\n",
      "\t\tLBNL_RENC: TrunkPort { bw: 100/100 Gbps}\n",
      "RENC\n",
      "\tComponents:\n",
      "\tSite Interfaces:\n",
      "\t\tRENC_LBNL: TrunkPort { bw: 10/10 Gbps}\n",
      "\t\tRENC_UKY: TrunkPort { bw: 10/10 Gbps}\n",
      "UKY\n",
      "\tComponents:\n",
      "\tSite Interfaces:\n",
      "\t\tUKY_RENC: TrunkPort { bw: 100/100 Gbps}\n",
      "\t\tUKY_LBNL: TrunkPort { bw: 100/100 Gbps}\n",
      "Links:\n",
      "\tport+lbnl-data-sw:HundredGigE0/0/0/0.2401-link[L2Path]: ['UKY_LBNL', 'LBNL_UKY']\n",
      "\tport+lbnl-data-sw:HundredGigE0/0/0/0.2400-link[L2Path]: ['RENC_LBNL', 'LBNL_RENC']\n",
      "\tport+renc-data-sw:TenGigE0/0/0/2/0.3999-link[L2Path]: ['UKY_RENC', 'RENC_UKY']\n"
     ]
    }
   ],
   "source": [
    "from fabrictestbed_extensions.utils.testbed import Testbed\n",
    "try:\n",
    "    print(Testbed.get_advertised_topology())\n",
    "except Exception as e:\n",
    "    print (e)"
   ]
  },
  {
   "cell_type": "markdown",
   "id": "563d5d73-ba33-4c4e-8015-4f82bab69778",
   "metadata": {},
   "source": [
    "### Get Site Advertised Topology"
   ]
  },
  {
   "cell_type": "code",
   "execution_count": 28,
   "id": "f868c6a6-6ed4-40d0-be9d-61481f2f1a68",
   "metadata": {},
   "outputs": [
    {
     "name": "stdout",
     "output_type": "stream",
     "text": [
      "FABRIC Credential Manager   : cm.fabric-testbed.net\n",
      "FABRIC Orchestrator         : orchestrator.fabric-testbed.net\n",
      "Site: {'capacities': '{ cpu: 12 , core: 384 , ram: 3,072 G, disk: 19,200 G, unit: 6 }', 'capacity_allocations': '{ core: 176 , ram: 176 G, disk: 248 G}', 'location': '{\"postal\": \"710 North Lake Shore Dr,Chicago, IL  60611\"}', 'name': 'STAR', 'site': 'STAR', 'type': 'Server'}\n",
      "      name             : SmartNIC-ConnectX-6\n",
      "      type             : SmartNIC\n",
      "      cpu              : 0\n",
      "      core             : 0\n",
      "      ram              : 0\n",
      "      disk             : 0\n",
      "      unit             : 2\n",
      "      capacity_allocations : None\n",
      "   Components        :\n",
      "      component             : {'capacities': '{ unit: 6 }', 'capacity_allocations': '{ unit: 3 }', 'model': 'Tesla T4', 'name': 'GPU-Tesla T4', 'type': 'GPU'}\n",
      "      Name             : GPU-Tesla T4\n",
      "      Unit             : 6\n",
      "      Model            : Tesla T4\n",
      "      Type             : GPU\n",
      "      component             : {'capacities': '{ unit: 6 }', 'model': 'RTX6000', 'name': 'GPU-RTX6000', 'type': 'GPU'}\n",
      "      Name             : GPU-RTX6000\n",
      "      Unit             : 6\n",
      "      Model            : RTX6000\n",
      "      Type             : GPU\n",
      "      component             : {'capacities': '{ disk: 20,000 G, unit: 20 }', 'capacity_allocations': '{ disk: 6,000 G, unit: 6 }', 'model': 'P4510', 'name': 'NVME-P4510', 'type': 'NVME'}\n",
      "      Name             : NVME-P4510\n",
      "      Unit             : 20\n",
      "      Model            : P4510\n",
      "      Type             : NVME\n",
      "      component             : {'capacities': '{ unit: 762 }', 'capacity_allocations': '{ unit: 67 }', 'model': 'ConnectX-6', 'name': 'SharedNIC-ConnectX-6', 'type': 'SharedNIC'}\n",
      "      Name             : SharedNIC-ConnectX-6\n",
      "      Unit             : 762\n",
      "      Model            : ConnectX-6\n",
      "      Type             : SharedNIC\n",
      "      component             : {'capacities': '{ unit: 2 }', 'model': 'ConnectX-6', 'name': 'SmartNIC-ConnectX-6', 'type': 'SmartNIC'}\n",
      "      Name             : SmartNIC-ConnectX-6\n",
      "      Unit             : 2\n",
      "      Model            : ConnectX-6\n",
      "      Type             : SmartNIC\n",
      "   Interfaces        : {'STAR_MAX': {'capacities': '{ bw: 100 Gbps}', 'name': 'STAR_MAX', 'type': 'TrunkPort'}, 'STAR_UTAH': {'capacities': '{ bw: 100 Gbps}', 'name': 'STAR_UTAH', 'type': 'TrunkPort'}, 'STAR_NCSA': {'capacities': '{ bw: 100 Gbps}', 'name': 'STAR_NCSA', 'type': 'TrunkPort'}}\n",
      "\n"
     ]
    }
   ],
   "source": [
    "from fabrictestbed_extensions.utils.testbed import Testbed\n",
    "site = None\n",
    "try:\n",
    "    site = Testbed.get_site_advertisment('STAR')\n",
    "except Exception as e:\n",
    "    print (e)\n",
    "    \n",
    "node = site\n",
    "print(\"Site: {}\".format(site))\n",
    "print(\"      name             : {}\".format(component.get_property(pname='name')))\n",
    "print(\"      type             : {}\".format(component.get_property(pname='type')))\n",
    "print(\"      cpu              : {}\".format(component.get_property(pname='capacities').cpu))\n",
    "print(\"      core             : {}\".format(component.get_property(pname='capacities').core))\n",
    "print(\"      ram              : {}\".format(component.get_property(pname='capacities').ram))\n",
    "print(\"      disk             : {}\".format(component.get_property(pname='capacities').disk))\n",
    "print(\"      unit             : {}\".format(component.get_property(pname='capacities').unit))\n",
    "print(\"      capacity_allocations : {}\".format(component.get_property(pname='capacity_allocations')  ))\n",
    "\n",
    "print(\"   Components        :\")\n",
    "for component_name, component in node.components.items():\n",
    "    print(\"      component             : {}\".format(component))\n",
    "    print(\"      Name             : {}\".format(component.name))\n",
    "    print(\"      Unit             : {}\".format(component.get_property(pname='capacities').unit))\n",
    "    print(\"      Model            : {}\".format(component.model))\n",
    "    print(\"      Type             : {}\".format(component.type))\n",
    "print(\"   Interfaces        : {}\".format(node.interfaces))\n",
    "print()    "
   ]
  },
  {
   "cell_type": "markdown",
   "id": "4121d39d-1c4d-4755-ab2a-3412e8331451",
   "metadata": {
    "tags": []
   },
   "source": [
    "### Delete All Slices"
   ]
  },
  {
   "cell_type": "code",
   "execution_count": 4,
   "id": "4dff1e52-4d09-4fc7-b813-6662fa2f3ea2",
   "metadata": {},
   "outputs": [
    {
     "name": "stdout",
     "output_type": "stream",
     "text": [
      "FABRIC Credential Manager   : beta-2.fabric-testbed.net\n",
      "FABRIC Orchestrator         : beta-7.fabric-testbed.net\n",
      "Deleting Slice: test_harness_latency_mtu_bandwidth.  Response Status Status.OK\n"
     ]
    }
   ],
   "source": [
    "from fabrictestbed_extensions.utils.slice import SliceUtils\n",
    "try:\n",
    "    SliceUtils.delete_all()\n",
    "except Exception as e:\n",
    "    print (e)"
   ]
  },
  {
   "cell_type": "markdown",
   "id": "b92ed72e-3b63-43a9-8b19-9fedc222fe2f",
   "metadata": {
    "tags": []
   },
   "source": [
    "### Delete All with Substring"
   ]
  },
  {
   "cell_type": "code",
   "execution_count": 9,
   "id": "94bf468c-b628-4f66-91c5-bbd9908f7f0a",
   "metadata": {},
   "outputs": [
    {
     "name": "stdout",
     "output_type": "stream",
     "text": [
      "FABRIC Credential Manager   : cm.fabric-testbed.net\n",
      "FABRIC Orchestrator         : orchestrator.fabric-testbed.net\n",
      "Deleting Slice: Test-3_1_2_700-1-SharedNIC_ConnectX_6-STAR.  Response Status Status.FAILURE\n",
      "Deleting Slice: Test-3_1_2_700-8-SharedNIC_ConnectX_6-STAR.  Response Status Status.FAILURE\n",
      "Deleting Slice: Test-3_1_2_700-9-SharedNIC_ConnectX_6-STAR.  Response Status Status.FAILURE\n",
      "Deleting Slice: Test-3_1_2_700-11-SharedNIC_ConnectX_6-STAR.  Response Status Status.FAILURE\n",
      "Deleting Slice: Test-3_1_2_700-16-SharedNIC_ConnectX_6-STAR.  Response Status Status.FAILURE\n",
      "Deleting Slice: Test-3_1_2_700-17-SharedNIC_ConnectX_6-STAR.  Response Status Status.FAILURE\n",
      "Deleting Slice: Test-3_1_2_700-18-SharedNIC_ConnectX_6-STAR.  Response Status Status.FAILURE\n",
      "Deleting Slice: Test-3_1_2_700-22-SharedNIC_ConnectX_6-STAR.  Response Status Status.FAILURE\n",
      "Deleting Slice: Test-3_1_2_700-24-SharedNIC_ConnectX_6-STAR.  Response Status Status.FAILURE\n",
      "Deleting Slice: Test-3_1_2_700-29-SharedNIC_ConnectX_6-STAR.  Response Status Status.FAILURE\n",
      "Deleting Slice: Test-3_1_2_700-30-SharedNIC_ConnectX_6-STAR.  Response Status Status.FAILURE\n",
      "Deleting Slice: Test-3_1_2_700-33-SharedNIC_ConnectX_6-STAR.  Response Status Status.FAILURE\n"
     ]
    }
   ],
   "source": [
    "from fabrictestbed_extensions.utils.slice import SliceUtils\n",
    "try:\n",
    "    SliceUtils.delete_all_with_substring(\"Test-3_1_2_700\")\n",
    "except Exception as e:\n",
    "    print (e)"
   ]
  },
  {
   "cell_type": "markdown",
   "id": "52195c2d-6fc8-4326-9ab1-7dff2b1bfa66",
   "metadata": {
    "tags": []
   },
   "source": [
    "### Delete Slice"
   ]
  },
  {
   "cell_type": "code",
   "execution_count": 11,
   "id": "912f0294-a680-4158-bbd5-7879ce51a0c6",
   "metadata": {},
   "outputs": [
    {
     "name": "stdout",
     "output_type": "stream",
     "text": [
      "FABRIC Credential Manager   : cm.fabric-testbed.net\n",
      "FABRIC Orchestrator         : orchestrator.fabric-testbed.net\n",
      "Slice not found name: Test-3_1_2-a-3-GPU_Tesla_T4-TACC, slice_id: None\n"
     ]
    }
   ],
   "source": [
    "from fabrictestbed_extensions.utils.slice import SliceUtils\n",
    "slice_id = None\n",
    "slice_name = \"Test-3_1_2-a-3-GPU_Tesla_T4-TACC\"\n",
    "try:\n",
    "    SliceUtils.delete_slice(slice_name=slice_name, slice_id=slice_id)\n",
    "except Exception as e:\n",
    "    print (e)"
   ]
  },
  {
   "cell_type": "markdown",
   "id": "89a4fdc2-77ce-4e88-b206-abea5ce125d6",
   "metadata": {
    "tags": []
   },
   "source": [
    "### Get All Slices"
   ]
  },
  {
   "cell_type": "code",
   "execution_count": 52,
   "id": "c3d1f061-5c1b-4a67-9525-343caa481ed1",
   "metadata": {},
   "outputs": [
    {
     "name": "stdout",
     "output_type": "stream",
     "text": [
      "FABRIC Credential Manager   : cm.fabric-testbed.net\n",
      "FABRIC Orchestrator         : orchestrator.fabric-testbed.net\n",
      "test_harness_latency_mtu_bandwidth | ac2e4a8e-e5ad-4f2a-9775-7b3b1b899f0e | StableOK\n"
     ]
    }
   ],
   "source": [
    "from fabrictestbed_extensions.utils.slice import SliceUtils\n",
    "try:\n",
    "    SliceUtils.list_all_slices()\n",
    "except Exception as e:\n",
    "    print (e)"
   ]
  },
  {
   "cell_type": "markdown",
   "id": "760d7a56-9ea6-4ae9-abaa-932b3f8af500",
   "metadata": {
    "tags": []
   },
   "source": [
    "### Get Slice Error (by ID only)"
   ]
  },
  {
   "cell_type": "code",
   "execution_count": 1,
   "id": "04e86d37-b548-424a-a45d-362077d3b22f",
   "metadata": {},
   "outputs": [
    {
     "name": "stdout",
     "output_type": "stream",
     "text": [
      "FABRIC Credential Manager   : beta-2.fabric-testbed.net\n",
      "FABRIC Orchestrator         : beta-7.fabric-testbed.net\n",
      "Slice notice: \n",
      "Reservation 5515db16-44c0-4c43-9f5e-7d3a0896fd8d (Slice test_harness_latency_mtu_bandwidth(66d11e04-f6f4-4cba-b0a7-c1df7b93b5cf) Graph Id:bcb2b87b-da52-4a47-b38e-25f7f64fb7ea Owner:name: orchestrator guid: orchestrator-guid email: pruth@email.unc.edu State:Closing ) is in state [Closed,None_]\n",
      "\n",
      "Last ticket update: [Unable to find node] in querying node a82a252f-780a-4f81-87c0-c4a15c9db20b in b370c0eb-e512-4638-a510-efc3122bf869\n",
      "Ticket events: \n",
      "Last ticket update: \n",
      "Slice notice: \n",
      "Reservation a82a252f-780a-4f81-87c0-c4a15c9db20b (Slice test_harness_latency_mtu_bandwidth(66d11e04-f6f4-4cba-b0a7-c1df7b93b5cf) Graph Id:bcb2b87b-da52-4a47-b38e-25f7f64fb7ea Owner:name: orchestrator guid: orchestrator-guid email: pruth@email.unc.edu State:Closing ) is in state [Closed,None_]\n",
      "\n",
      "Last ticket update: Insufficient resources : ['core']\n",
      "Ticket events: \n",
      "Last ticket update: \n",
      "Slice notice: \n",
      "Reservation e5276101-4ef4-4f72-b290-420135de7015 (Slice test_harness_latency_mtu_bandwidth(66d11e04-f6f4-4cba-b0a7-c1df7b93b5cf) Graph Id:bcb2b87b-da52-4a47-b38e-25f7f64fb7ea Owner:name: orchestrator guid: orchestrator-guid email: pruth@email.unc.edu State:Closing ) is in state [Closed,None_]\n",
      "\n",
      "Last ticket update: Insufficient resources : ['core']\n",
      "Ticket events: \n",
      "Last ticket update: \n"
     ]
    }
   ],
   "source": [
    "\n",
    "\n",
    "from fabrictestbed_extensions.utils.slice import SliceUtils\n",
    "\n",
    "slice_id = \"66d11e04-f6f4-4cba-b0a7-c1df7b93b5cf\"\n",
    "try:\n",
    "    for notice in SliceUtils.get_slice_error(slice_id):\n",
    "        print(\"Slice notice: \\n{}\".format(str(notice)))\n",
    "    \n",
    "except Exception as e:\n",
    "    print (e)"
   ]
  },
  {
   "cell_type": "markdown",
   "id": "e52bc19d-f427-4536-83ba-dd0d40855387",
   "metadata": {
    "tags": []
   },
   "source": [
    "### Get Slice by Name\n",
    "\n",
    "Gets and slice by name but does not return \"Closing\" or \"Dead\" slices."
   ]
  },
  {
   "cell_type": "code",
   "execution_count": null,
   "id": "00477e0b-a32b-4273-98f0-1d23874a607c",
   "metadata": {},
   "outputs": [],
   "source": [
    "from fabrictestbed_extensions.utils.slice import SliceUtils\n",
    "try:\n",
    "    slice = SliceUtils.get_slice(slice_name='Test-3.1.2-a-2-GPU_RTX6000-UTAH')\n",
    "except Exception as e:\n",
    "    print (e)\n",
    "    \n",
    "print(slice)"
   ]
  },
  {
   "cell_type": "markdown",
   "id": "0a6b84c8-436b-451c-96e7-2e6b56229f62",
   "metadata": {
    "tags": []
   },
   "source": [
    "### Get Slice by Slice_ID\n",
    "\n",
    "Gets and slice by id but does not return \"Closing\" or \"Dead\" slices."
   ]
  },
  {
   "cell_type": "code",
   "execution_count": null,
   "id": "c782370d-9b55-474c-af78-31cba46c310a",
   "metadata": {},
   "outputs": [],
   "source": [
    "from fabrictestbed_extensions.utils.slice import SliceUtils\n",
    "try:\n",
    "    slice = SliceUtils.get_slice(slice_id=\"2af0810e-648d-48dc-90e6-67e5aed2a475\")\n",
    "except Exception as e:\n",
    "    print (e)\n",
    "    \n",
    "print(slice)"
   ]
  },
  {
   "cell_type": "markdown",
   "id": "4cf7920c-1825-4f12-944c-b732f084162a",
   "metadata": {},
   "source": [
    "### Wait for Slice"
   ]
  },
  {
   "cell_type": "code",
   "execution_count": null,
   "id": "793de057-a758-4583-a3e3-50ca45aa5c98",
   "metadata": {},
   "outputs": [],
   "source": [
    "from fabrictestbed_extensions.utils.slice import SliceUtils\n",
    "try:\n",
    "    SliceUtils.wait_for_slice(slice_name='HF_STAR',slice_id=None,timeout=360,interval=10,progress=True)\n",
    "except Exception as e:\n",
    "    print (e)"
   ]
  },
  {
   "cell_type": "markdown",
   "id": "2cd8c364-d62e-4248-87a4-d5a2a6815c76",
   "metadata": {},
   "source": [
    "### Exceute Script on Node"
   ]
  },
  {
   "cell_type": "code",
   "execution_count": null,
   "id": "a46875bd-5066-4c70-a23d-7ec43d187bc8",
   "metadata": {},
   "outputs": [],
   "source": [
    "from fabrictestbed_extensions.utils.node import NodeUtils\n",
    "\n",
    "script= '#!/bin/bash  \\n' \\\n",
    "        'echo Hello, FABRIC from node `hostname -s`   \\n'\n",
    "\n",
    "try:\n",
    "    SliceUtils.execute_script('centos', node, script)\n",
    "except Exception as e:\n",
    "    print (e)"
   ]
  },
  {
   "cell_type": "code",
   "execution_count": null,
   "id": "55f3b771-d829-4fac-82d2-fa7fd3ff229b",
   "metadata": {},
   "outputs": [],
   "source": []
  }
 ],
 "metadata": {
  "kernelspec": {
   "display_name": "Python 3 (ipykernel)",
   "language": "python",
   "name": "python3"
  },
  "language_info": {
   "codemirror_mode": {
    "name": "ipython",
    "version": 3
   },
   "file_extension": ".py",
   "mimetype": "text/x-python",
   "name": "python",
   "nbconvert_exporter": "python",
   "pygments_lexer": "ipython3",
   "version": "3.9.2"
  }
 },
 "nbformat": 4,
 "nbformat_minor": 5
}
