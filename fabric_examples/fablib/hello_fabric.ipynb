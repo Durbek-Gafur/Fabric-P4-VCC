{
 "cells": [
  {
   "cell_type": "markdown",
   "metadata": {
    "tags": []
   },
   "source": [
    "# Hello, FABRIC: Create your first FABRIC slice\n",
    "\n",
    "## Configure the Environment\n",
    "\n",
    "Set the environment variable that will be used by this notebook. If you are using the FABRIC JupyterHub most of the environment will be automatically configured for you.  You will only need to set your bastion username, upload your bastion private key, and set the path to where you put your bastion private key. Your bastion username and private key should already be in your possession.  If you do not have a bastion username and private key, please contact the FABRIC admins using the [FABRIC User Forum](https://learn.fabric-testbed.net/forums/) \n",
    "\n",
    "If you are using the FABRIC API outside of the JupyterHub you will need to configure all of the environment variables. Defaults below will be correct in many situations but you will need to confirm your configuration.  If you have questions about this configuration, please contact the FABRIC admins using the [FABRIC User Forum](https://learn.fabric-testbed.net/forums/) \n",
    "\n",
    "More information about accessing your experiments through the FABRIC bastion hosts can be found [here](https://learn.fabric-testbed.net/knowledge-base/logging-into-fabric-vms/)."
   ]
  },
  {
   "cell_type": "code",
   "execution_count": 9,
   "metadata": {},
   "outputs": [],
   "source": [
    "import os\n",
    "import json\n",
    "import traceback\n",
    "\n",
    "os.environ['FABRIC_CREDMGR_HOST']='cm.fabric-testbed.net'\n",
    "os.environ['FABRIC_ORCHESTRATOR_HOST']='orchestrator.fabric-testbed.net'\n",
    "os.environ['FABRIC_TOKEN_LOCATION']=os.environ['HOME']+'/work/fabric_token.json'\n",
    "\n",
    "os.environ['FABRIC_BASTION_USERNAME']='pruth'\n",
    "os.environ['FABRIC_BASTION_KEY_LOCATION']=os.environ['HOME']+'/work/.ssh/id_rsa_fabric'\n",
    "\n",
    "os.environ['FABRIC_SLICE_PRIVATE_KEY_FILE']=os.environ['HOME']+'/.ssh/id_rsa'\n",
    "os.environ['FABRIC_SLICE_PUBLIC_KEY_FILE']=os.environ['HOME']+'/.ssh/id_rsa.pub'\n",
    "\n",
    "os.environ['FABRIC_BASTION_HOST'] = 'bastion-1.fabric-testbed.net'\n",
    "os.environ['FABRIC_BASTION_HOST_PRIVATE_IPV4'] = '192.168.11.226'\n",
    "os.environ['FABRIC_BASTION_HOST_PRIVATE_IPV6'] = '2600:2701:5000:a902::c'\n",
    "\n",
    "from fabrictestbed_extensions.fablib.fablib import fablib"
   ]
  },
  {
   "cell_type": "markdown",
   "metadata": {
    "tags": []
   },
   "source": [
    "## Setup the Experiment\n",
    "\n",
    "#### Import FABRIC API"
   ]
  },
  {
   "cell_type": "markdown",
   "metadata": {},
   "source": [
    "#### Create the FABRIC Proxies\n",
    "\n",
    "The FABRIC API is used via proxy objects that manage connections to the control framework.  "
   ]
  },
  {
   "cell_type": "markdown",
   "metadata": {},
   "source": [
    "#### (Optional) Query Available Resources\n",
    "\n",
    "This optional command queries the FABRIC services to find the available resources. It may be useful for finding a site with available capacity."
   ]
  },
  {
   "cell_type": "code",
   "execution_count": 10,
   "metadata": {},
   "outputs": [
    {
     "name": "stdout",
     "output_type": "stream",
     "text": [
      "Available Resources: NCSA: { cpu: 6/6 , core: 180/192 , ram: 1,476/1,536 G, disk: 60,300/60,600 G, unit: 3/3 }\n",
      "\tComponents:\n",
      "\t\tNVME-P4510:  NVME P4510 { disk: 8,640/9,600 G, unit: 9/10 }\n",
      "\t\tGPU-Tesla T4:  GPU Tesla T4 { unit: 2/2 }\n",
      "\t\tGPU-RTX6000:  GPU RTX6000 { unit: 3/3 }\n",
      "\t\tSmartNIC-ConnectX-5:  SmartNIC ConnectX-5 { unit: 2/2 }\n",
      "\t\tSmartNIC-ConnectX-6:  SmartNIC ConnectX-6 { unit: 2/2 }\n",
      "\t\tSharedNIC-ConnectX-6:  SharedNIC ConnectX-6 { unit: 378/381 }\n",
      "\tSite Interfaces:\n",
      "\t\tNCSA_STAR: TrunkPort { bw: 100/100 Gbps}\n",
      "TACC: { cpu: 10/10 , core: 320/320 , ram: 2,560/2,560 G, disk: 116,400/116,400 G, unit: 5/5 }\n",
      "\tComponents:\n",
      "\t\tSmartNIC-ConnectX-6:  SmartNIC ConnectX-6 { unit: 2/2 }\n",
      "\t\tSmartNIC-ConnectX-5:  SmartNIC ConnectX-5 { unit: 4/4 }\n",
      "\t\tGPU-RTX6000:  GPU RTX6000 { unit: 6/6 }\n",
      "\t\tGPU-Tesla T4:  GPU Tesla T4 { unit: 4/4 }\n",
      "\t\tNVME-P4510:  NVME P4510 { disk: 15,360/15,360 G, unit: 16/16 }\n",
      "\t\tSharedNIC-ConnectX-6:  SharedNIC ConnectX-6 { unit: 635/635 }\n",
      "\tSite Interfaces:\n",
      "\t\tTACC_UTAH: TrunkPort { bw: 100/100 Gbps}\n",
      "\t\tTACC_MAX: TrunkPort { bw: 100/100 Gbps}\n",
      "UTAH: { cpu: 10/10 , core: 320/320 , ram: 2,560/2,560 G, disk: 116,400/116,400 G, unit: 5/5 }\n",
      "\tComponents:\n",
      "\t\tGPU-RTX6000:  GPU RTX6000 { unit: 5/5 }\n",
      "\t\tGPU-Tesla T4:  GPU Tesla T4 { unit: 4/4 }\n",
      "\t\tNVME-P4510:  NVME P4510 { disk: 15,360/15,360 G, unit: 16/16 }\n",
      "\t\tSharedNIC-ConnectX-6:  SharedNIC ConnectX-6 { unit: 635/635 }\n",
      "\t\tSmartNIC-ConnectX-6:  SmartNIC ConnectX-6 { unit: 2/2 }\n",
      "\t\tSmartNIC-ConnectX-5:  SmartNIC ConnectX-5 { unit: 4/4 }\n",
      "\tSite Interfaces:\n",
      "\t\tUTAH_STAR: TrunkPort { bw: 100/100 Gbps}\n",
      "\t\tUTAH_TACC: TrunkPort { bw: 100/100 Gbps}\n",
      "MAX: { cpu: 10/10 , core: 298/320 , ram: 2,458/2,560 G, disk: 115,898/116,400 G, unit: 5/5 }\n",
      "\tComponents:\n",
      "\t\tNVME-P4510:  NVME P4510 { disk: 13,440/15,360 G, unit: 14/16 }\n",
      "\t\tSharedNIC-ConnectX-6:  SharedNIC ConnectX-6 { unit: 630/635 }\n",
      "\t\tGPU-Tesla T4:  GPU Tesla T4 { unit: 4/4 }\n",
      "\t\tGPU-RTX6000:  GPU RTX6000 { unit: 6/6 }\n",
      "\t\tSmartNIC-ConnectX-5:  SmartNIC ConnectX-5 { unit: 4/4 }\n",
      "\t\tSmartNIC-ConnectX-6:  SmartNIC ConnectX-6 { unit: 2/2 }\n",
      "\tSite Interfaces:\n",
      "\t\tMAX_TACC: TrunkPort { bw: 100/100 Gbps}\n",
      "\t\tMAX_STAR: TrunkPort { bw: 100/100 Gbps}\n",
      "SALT\n",
      "\tComponents:\n",
      "\tSite Interfaces:\n",
      "STAR: { cpu: 12/12 , core: 380/384 , ram: 3,052/3,072 G, disk: 121,100/121,200 G, unit: 6/6 }\n",
      "\tComponents:\n",
      "\t\tNVME-P4510:  NVME P4510 { disk: 20,000/20,000 G, unit: 20/20 }\n",
      "\t\tGPU-Tesla T4:  GPU Tesla T4 { unit: 6/6 }\n",
      "\t\tGPU-RTX6000:  GPU RTX6000 { unit: 6/6 }\n",
      "\t\tSmartNIC-ConnectX-5:  SmartNIC ConnectX-5 { unit: 6/6 }\n",
      "\t\tSmartNIC-ConnectX-6:  SmartNIC ConnectX-6 { unit: 2/2 }\n",
      "\t\tSharedNIC-ConnectX-6:  SharedNIC ConnectX-6 { unit: 761/762 }\n",
      "\tSite Interfaces:\n",
      "\t\tSTAR_UTAH: TrunkPort { bw: 100/100 Gbps}\n",
      "\t\tSTAR_MAX: TrunkPort { bw: 100/100 Gbps}\n",
      "\t\tSTAR_NCSA: TrunkPort { bw: 100/100 Gbps}\n",
      "WASH\n",
      "\tComponents:\n",
      "\tSite Interfaces:\n",
      "DALL\n",
      "\tComponents:\n",
      "\tSite Interfaces:\n",
      "MICH\n",
      "\tComponents:\n",
      "\tSite Interfaces:\n",
      "Links:\n",
      "\tport+max-data-sw:HundredGigE0/0/0/22.2051 to port+tacc-data-sw:HundredGigE0/0/0/23.3160[L2Path]: ['TACC_MAX', 'MAX_TACC']\n",
      "\tport+tacc-data-sw:HundredGigE0/0/0/23.3161 to port+utah-data-sw:HundredGigE0/0/0/22.2091[L2Path]: ['UTAH_TACC', 'TACC_UTAH']\n",
      "\tport+star-data-sw:HundredGigE0/0/0/30.3722 to port+utah-data-sw:HundredGigE0/0/0/22.2090[L2Path]: ['UTAH_STAR', 'STAR_UTAH']\n",
      "\tport+max-data-sw:HundredGigE0/0/0/22.2052 to port+star-data-sw:HundredGigE0/0/0/30.3721[L2Path]: ['STAR_MAX', 'MAX_STAR']\n",
      "\tport+ncsa-data-sw:HundredGigE0/0/0/23.3710 to port+star-data-sw:HundredGigE0/0/0/30.3710[L2Path]: ['STAR_NCSA', 'NCSA_STAR']\n"
     ]
    },
    {
     "data": {
      "image/png": "[encoded data removed]",
      "text/plain": [
       "<Figure size 432x288 with 1 Axes>"
      ]
     },
     "metadata": {},
     "output_type": "display_data"
    }
   ],
   "source": [
    "try:\n",
    "    available_resources = fablib.get_available_resources()\n",
    "    print(f\"Available Resources: {available_resources}\")\n",
    "    available_resources.draw()\n",
    "except Exception as e:\n",
    "    print(f\"Error: {e}\")"
   ]
  },
  {
   "cell_type": "markdown",
   "metadata": {
    "tags": []
   },
   "source": [
    "## Create the Experiment Slice"
   ]
  },
  {
   "cell_type": "markdown",
   "metadata": {
    "tags": []
   },
   "source": [
    "#### Configure the Experiment Parameters\n",
    "\n"
   ]
  },
  {
   "cell_type": "code",
   "execution_count": 11,
   "metadata": {},
   "outputs": [],
   "source": [
    "slice_name = 'MySlice'\n",
    "site = 'MAX'\n",
    "node_name = 'Node1'\n",
    "username = 'centos'\n",
    "image = 'default_centos_8'\n",
    "image_type = 'qcow2'\n",
    "cores = 2\n",
    "ram = 2\n",
    "disk = 2"
   ]
  },
  {
   "cell_type": "markdown",
   "metadata": {
    "tags": []
   },
   "source": [
    "### Create Slice\n",
    "\n",
    "Creates a single node with basic compute capabilities.\n",
    "\n",
    "<img src=\"./figs/SingleNode.png\" width=\"20%\"><br>\n"
   ]
  },
  {
   "cell_type": "code",
   "execution_count": 12,
   "metadata": {},
   "outputs": [
    {
     "name": "stdout",
     "output_type": "stream",
     "text": [
      "Slice Fail: Failed to submit slice: Status.FAILURE, (500)\n",
      "Reason: INTERNAL SERVER ERROR\n",
      "HTTP response headers: HTTPHeaderDict({'Server': 'nginx/1.21.1', 'Date': 'Thu, 16 Dec 2021 20:38:08 GMT', 'Content-Type': 'text/html; charset=utf-8', 'Content-Length': '28', 'Connection': 'keep-alive', 'Access-Control-Allow-Credentials': 'true', 'Access-Control-Allow-Headers': 'DNT, User-Agent, X-Requested-With, If-Modified-Since, Cache-Control, Content-Type, Range', 'Access-Control-Allow-Methods': 'GET, POST, PUT, DELETE, OPTIONS', 'Access-Control-Allow-Origin': '*', 'Access-Control-Expose-Headers': 'Content-Length, Content-Range, X-Error', 'X-Error': 'Slice MySlice already exists'})\n",
      "HTTP response body: Slice MySlice already exists\n",
      "\n"
     ]
    },
    {
     "name": "stderr",
     "output_type": "stream",
     "text": [
      "Traceback (most recent call last):\n",
      "  File \"/var/folders/_l/8dq3pgzx6bjgt8qrr1m9jgc80000gp/T/ipykernel_90726/2780524068.py\", line 11, in <module>\n",
      "    slice.submit(wait_progress=True)\n",
      "  File \"/Users/pruth/FABRIC/venv-fabric-jupyter/lib/python3.9/site-packages/fabrictestbed_extensions/fablib/slice.py\", line 128, in submit\n",
      "    raise Exception(\"Failed to submit slice: {}, {}\".format(return_status, slice_reservations))\n",
      "Exception: Failed to submit slice: Status.FAILURE, (500)\n",
      "Reason: INTERNAL SERVER ERROR\n",
      "HTTP response headers: HTTPHeaderDict({'Server': 'nginx/1.21.1', 'Date': 'Thu, 16 Dec 2021 20:38:08 GMT', 'Content-Type': 'text/html; charset=utf-8', 'Content-Length': '28', 'Connection': 'keep-alive', 'Access-Control-Allow-Credentials': 'true', 'Access-Control-Allow-Headers': 'DNT, User-Agent, X-Requested-With, If-Modified-Since, Cache-Control, Content-Type, Range', 'Access-Control-Allow-Methods': 'GET, POST, PUT, DELETE, OPTIONS', 'Access-Control-Allow-Origin': '*', 'Access-Control-Expose-Headers': 'Content-Length, Content-Range, X-Error', 'X-Error': 'Slice MySlice already exists'})\n",
      "HTTP response body: Slice MySlice already exists\n",
      "\n"
     ]
    }
   ],
   "source": [
    "try:\n",
    "    #Create Slice\n",
    "    slice = fablib.new_slice(name=slice_name)\n",
    "\n",
    "    # Add node\n",
    "    node = slice.add_node(name=node_name, site=site)\n",
    "    node.set_capacities(cores=cores, ram=ram, disk=disk)\n",
    "    node.set_image(image, username)\n",
    "\n",
    "    #Submit Slice Request\n",
    "    slice.submit(wait_progress=True)\n",
    "except Exception as e:\n",
    "    print(f\"Slice Fail: {e}\")\n",
    "    traceback.print_exc()"
   ]
  },
  {
   "cell_type": "markdown",
   "metadata": {
    "tags": []
   },
   "source": [
    "### Query Slices\n",
    "\n",
    "You can get a list of all your slices from the slice manager. If this is your first slice, it should return only one slice.\n",
    " "
   ]
  },
  {
   "cell_type": "code",
   "execution_count": 13,
   "metadata": {},
   "outputs": [
    {
     "name": "stdout",
     "output_type": "stream",
     "text": [
      "Slice: MySlice\n"
     ]
    }
   ],
   "source": [
    "try:\n",
    "    slices = fablib.get_slices()\n",
    "    for slice in slices:\n",
    "        print(f\"Slice: {slice.get_name()}\")\n",
    "except Exception as e:\n",
    "    print(f\"Get Slices Fail: {e}\")\n",
    "    traceback.print_exc()"
   ]
  },
  {
   "cell_type": "markdown",
   "metadata": {},
   "source": [
    "### Get the New Slice\n",
    "\n",
    "Your new slice is in the list of all your slices. You can loop through the list of slices to get the new slice. Python has a standard tool to filter lists. Try using a lambda function to filter out your slice using its name."
   ]
  },
  {
   "cell_type": "code",
   "execution_count": 14,
   "metadata": {},
   "outputs": [
    {
     "name": "stdout",
     "output_type": "stream",
     "text": [
      "Slice: MySlice\n"
     ]
    }
   ],
   "source": [
    "try:\n",
    "    slice = fablib.get_slice(name=slice_name)\n",
    "    print(f\"Slice: {slice.get_name()}\")\n",
    "except Exception as e:\n",
    "    print(f\"Get Slices Fail: {e}\")\n",
    "    traceback.print_exc()"
   ]
  },
  {
   "cell_type": "markdown",
   "metadata": {},
   "source": [
    "### Wait for the Slice to Build"
   ]
  },
  {
   "cell_type": "code",
   "execution_count": 15,
   "metadata": {},
   "outputs": [
    {
     "name": "stdout",
     "output_type": "stream",
     "text": [
      "Slice: MySlice\n",
      "Waiting for slice . Slice state: StableOK\n"
     ]
    }
   ],
   "source": [
    "try:\n",
    "    slice = fablib.get_slice(name=slice_name)\n",
    "    print(f\"Slice: {slice.get_name()}\")\n",
    "    \n",
    "    slice.wait(progress=True)\n",
    "except Exception as e:\n",
    "    print(f\"Fail: {e}\")\n",
    "    traceback.print_exc()"
   ]
  },
  {
   "cell_type": "markdown",
   "metadata": {
    "tags": []
   },
   "source": [
    "### Get the Slice Topology"
   ]
  },
  {
   "cell_type": "code",
   "execution_count": 16,
   "metadata": {},
   "outputs": [
    {
     "name": "stdout",
     "output_type": "stream",
     "text": [
      "Node:\n",
      "   Name              : Node1\n",
      "   Cores             : 2\n",
      "   RAM               : 8\n",
      "   Disk              : 10\n",
      "   Image             : default_centos_8\n",
      "   Image Type        : qcow2\n",
      "   Host              : max-w4.fabric-testbed.net\n",
      "   Site              : MAX\n",
      "   Management IP     : 63.239.135.98\n",
      "   Reservation ID    : 8a45697b-89d3-4eb4-b64d-e07b2c15624e\n",
      "   Reservation State : Active\n",
      "   Components        : {}\n",
      "   Interfaces        : {}\n",
      "   SSH Command       : ssh -i /Users/pruth/.ssh/id_rsa -J pruth@bastion-1.fabric-testbed.net centos@63.239.135.98\n",
      "\n"
     ]
    }
   ],
   "source": [
    "try:\n",
    "    slice = fablib.get_slice(name=slice_name)\n",
    "    for node in slice.get_nodes():\n",
    "        print(\"Node:\")\n",
    "        print(f\"   Name              : {node.get_name()}\")\n",
    "        print(f\"   Cores             : {node.get_cores()}\")\n",
    "        print(f\"   RAM               : {node.get_ram()}\")\n",
    "        print(f\"   Disk              : {node.get_disk()}\")\n",
    "        print(f\"   Image             : {node.get_image()}\")\n",
    "        print(f\"   Image Type        : {node.get_image_type()}\")\n",
    "        print(f\"   Host              : {node.get_host()}\")\n",
    "        print(f\"   Site              : {node.get_site()}\")\n",
    "        print(f\"   Management IP     : {node.get_management_ip()}\")\n",
    "        print(f\"   Reservation ID    : {node.get_reservation_id()}\")\n",
    "        print(f\"   Reservation State : {node.get_reservation_state()}\")\n",
    "        print(f\"   Components        : {node.get_components()}\")\n",
    "        print(f\"   Interfaces        : {node.get_interfaces()}\")\n",
    "        print(f\"   SSH Command       : {node.get_ssh_command()}\")\n",
    "        print()    \n",
    "except Exception as e:\n",
    "    print(f\"Fail: {e}\")\n",
    "    traceback.print_exc()"
   ]
  },
  {
   "cell_type": "markdown",
   "metadata": {},
   "source": [
    "## Accessing the VM\n",
    "\n",
    "#### Terminal SSH Command\n",
    "\n",
    "Connecting to your VMs requests you to jump through the bastion host to the VM using the keys configured above. From a terminal you can ssh to the VM using the command generated by the following command.\n"
   ]
  },
  {
   "cell_type": "markdown",
   "metadata": {},
   "source": [
    "#### SSH with Python (paramiko)\n",
    "\n",
    "Most experiments will require automated configuration and execution. You can use the paramiko Python library to execute arbitrary commands on your VMs. \n",
    "\n",
    "The following cells use paramiko to execute a \"Hello, FABRIC\" bash script. The cell uses the bastion and VM keys defined at the top of this notebook to jump through the bastion host and execute the script.\n"
   ]
  },
  {
   "cell_type": "code",
   "execution_count": null,
   "metadata": {},
   "outputs": [],
   "source": [
    "script= '#!/bin/bash  \\n' \\\n",
    "        'echo Hello, FABRIC from node `hostname -s`   \\n'"
   ]
  },
  {
   "cell_type": "code",
   "execution_count": null,
   "metadata": {},
   "outputs": [],
   "source": [
    "try:\n",
    "    slice = fablib.get_slice(name=slice_name)\n",
    "    for node in slice.get_nodes():\n",
    "        output = node.execute_script(script)\n",
    "        print(output)\n",
    "except Exception as e:\n",
    "    print(f\"Fail: {e}\")\n",
    "    traceback.print_exc()"
   ]
  },
  {
   "cell_type": "markdown",
   "metadata": {
    "tags": []
   },
   "source": [
    "## Delete Slice"
   ]
  },
  {
   "cell_type": "code",
   "execution_count": null,
   "metadata": {},
   "outputs": [],
   "source": [
    "try:\n",
    "    slice = fablib.get_slice(name=slice_name)\n",
    "    slice.delete()\n",
    "except Exception as e:\n",
    "    print(f\"Fail: {e}\")\n",
    "    traceback.print_exc()"
   ]
  },
  {
   "cell_type": "code",
   "execution_count": null,
   "metadata": {},
   "outputs": [],
   "source": [
    "try:\n",
    "    slice = fablib.delete_all()\n",
    "except Exception as e:\n",
    "    print(f\"Fail: {e}\")\n",
    "    traceback.print_exc()"
   ]
  },
  {
   "cell_type": "code",
   "execution_count": null,
   "metadata": {},
   "outputs": [],
   "source": []
  }
 ],
 "metadata": {
  "kernelspec": {
   "display_name": "Python 3 (ipykernel)",
   "language": "python",
   "name": "python3"
  },
  "language_info": {
   "codemirror_mode": {
    "name": "ipython",
    "version": 3
   },
   "file_extension": ".py",
   "mimetype": "text/x-python",
   "name": "python",
   "nbconvert_exporter": "python",
   "pygments_lexer": "ipython3",
   "version": "3.9.2"
  }
 },
 "nbformat": 4,
 "nbformat_minor": 4
}
