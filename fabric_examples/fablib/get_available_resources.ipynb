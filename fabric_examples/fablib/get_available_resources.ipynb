{
 "cells": [
  {
   "cell_type": "markdown",
   "metadata": {},
   "source": [
    "# FABRIC API: Get Available Resources\n",
    "\n",
    "\n",
    "## Configure the Environment"
   ]
  },
  {
   "cell_type": "code",
   "execution_count": null,
   "metadata": {},
   "outputs": [],
   "source": [
    "import os\n",
    "\n",
    "# If you are using the FABRIC JupyterHub, the following three evnrionment vars\n",
    "# were automatically provided when you logged in.\n",
    "#os.environ['FABRIC_CREDMGR_HOST']='cm.fabric-testbed.net'\n",
    "#os.environ['FABRIC_ORCHESTRATOR_HOST']='orchestrator.fabric-testbed.net'\n",
    "#os.environ['FABRIC_TOKEN_LOCATION']=os.environ['HOME']+'/work/fabric_token.json'\n",
    "\n",
    "# Bastion IPs\n",
    "os.environ['FABRIC_BASTION_HOST'] = 'bastion-1.fabric-testbed.net'\n",
    "os.environ['FABRIC_BASTION_HOST_PRIVATE_IPV4'] = '192.168.11.226'\n",
    "os.environ['FABRIC_BASTION_HOST_PRIVATE_IPV6'] = '2600:2701:5000:a902::c'\n",
    "\n",
    "# Set your Bastion username and private key\n",
    "os.environ['FABRIC_BASTION_USERNAME']=<INSERT_YOUR_FABRIC_USERNAME>\n",
    "os.environ['FABRIC_BASTION_KEY_LOCATION']=os.environ['HOME']+'/work/.ssh/id_rsa_fabric'\n",
    "\n",
    "# Set the keypair FABRIC will install in your slice. Only set the passphrase if your \n",
    "# private key is requires one.\n",
    "os.environ['FABRIC_SLICE_PRIVATE_KEY_FILE']=os.environ['HOME']+'/.ssh/id_rsa'\n",
    "os.environ['FABRIC_SLICE_PUBLIC_KEY_FILE']=os.environ['HOME']+'/.ssh/id_rsa.pub'\n",
    "#os.environ['FABRIC_SLICE_PRIVATE_KEY_PASSPHRASE'] = ''"
   ]
  },
  {
   "cell_type": "markdown",
   "metadata": {},
   "source": [
    "### Import fablib"
   ]
  },
  {
   "cell_type": "code",
   "execution_count": null,
   "metadata": {},
   "outputs": [],
   "source": [
    "from fabrictestbed_extensions.fablib.fablib import fablib"
   ]
  },
  {
   "cell_type": "markdown",
   "metadata": {},
   "source": [
    "## Request the Available Resources\n"
   ]
  },
  {
   "cell_type": "code",
   "execution_count": null,
   "metadata": {},
   "outputs": [],
   "source": [
    "try:\n",
    "    available_resources = fablib.get_available_resources()\n",
    "    print(f\"Available Resources: {available_resources}\")\n",
    "    available_resources.draw()\n",
    "except Exception as e:\n",
    "    print(f\"Error: {e}\")"
   ]
  },
  {
   "cell_type": "code",
   "execution_count": null,
   "metadata": {},
   "outputs": [],
   "source": []
  }
 ],
 "metadata": {
  "kernelspec": {
   "display_name": "Python 3 (ipykernel)",
   "language": "python",
   "name": "python3"
  },
  "language_info": {
   "codemirror_mode": {
    "name": "ipython",
    "version": 3
   },
   "file_extension": ".py",
   "mimetype": "text/x-python",
   "name": "python",
   "nbconvert_exporter": "python",
   "pygments_lexer": "ipython3",
   "version": "3.9.2"
  }
 },
 "nbformat": 4,
 "nbformat_minor": 4
}
