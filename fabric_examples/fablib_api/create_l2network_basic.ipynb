{
 "cells": [
  {
   "cell_type": "markdown",
   "metadata": {},
   "source": [
    "# This notebook shows how to use Orchestrator APIs for user experiments\n",
    "\n",
    "## Configure the Environment"
   ]
  },
  {
   "cell_type": "code",
   "execution_count": 1,
   "metadata": {},
   "outputs": [],
   "source": [
    "import os\n",
    "\n",
    "# If you are using the FABRIC JupyterHub, the following three evnrionment vars\n",
    "# were automatically provided when you logged in.\n",
    "#os.environ['FABRIC_CREDMGR_HOST']='cm.fabric-testbed.net'\n",
    "#os.environ['FABRIC_ORCHESTRATOR_HOST']='orchestrator.fabric-testbed.net'\n",
    "#os.environ['FABRIC_TOKEN_LOCATION']=os.environ['HOME']+'/work/fabric_token_beta.json'\n",
    "\n",
    "# Bastion IPs\n",
    "os.environ['FABRIC_BASTION_HOST'] = 'bastion-1.fabric-testbed.net'\n",
    "\n",
    "# Set your Bastion username and private key\n",
    "os.environ['FABRIC_BASTION_USERNAME']='pruth_0031379841'\n",
    "os.environ['FABRIC_BASTION_KEY_LOCATION']=os.environ['HOME']+'/FABRIC/pruth-bastion-1'\n",
    "\n",
    "# Set the keypair FABRIC will install in your slice. \n",
    "os.environ['FABRIC_SLICE_PRIVATE_KEY_FILE']=os.environ['HOME']+'/.ssh/id_rsa'\n",
    "os.environ['FABRIC_SLICE_PUBLIC_KEY_FILE']=os.environ['HOME']+'/.ssh/id_rsa.pub'\n",
    "\n",
    "# If your slice private key uses a passphrase, set the passphrase\n",
    "#from getpass import getpass\n",
    "#print('Please input private key passphrase. Press enter for no passphrase.')\n",
    "#os.environ['FABRIC_SLICE_PRIVATE_KEY_PASSPHRASE']=getpass()"
   ]
  },
  {
   "cell_type": "markdown",
   "metadata": {},
   "source": [
    "## Setup the Experiment\n",
    "\n",
    "#### Import FABRIC API"
   ]
  },
  {
   "cell_type": "code",
   "execution_count": 2,
   "metadata": {},
   "outputs": [],
   "source": [
    "import json\n",
    "import traceback\n",
    "\n",
    "from fabrictestbed_extensions.fablib.fablib import fablib"
   ]
  },
  {
   "cell_type": "markdown",
   "metadata": {
    "tags": []
   },
   "source": [
    "## Create Slice\n",
    "In Release 1.0, user is expected to assign the IP addresses manually. Please use the example comands indicated below:"
   ]
  },
  {
   "cell_type": "markdown",
   "metadata": {
    "tags": []
   },
   "source": [
    "## Configure Slice Parameters\n",
    "\n"
   ]
  },
  {
   "cell_type": "code",
   "execution_count": 3,
   "metadata": {},
   "outputs": [],
   "source": [
    "slice_name = 'MySliceL2Net'\n",
    "site = 'RENC'\n",
    "node1_name = 'Node1'\n",
    "node2_name = 'Node2'\n",
    "network_name='net1'\n",
    "node1_nic_name = 'nic1'\n",
    "node2_nic_name = 'nic2'\n",
    "image = 'default_centos_8'\n",
    "cores = 2\n",
    "ram = 8\n",
    "disk = 10"
   ]
  },
  {
   "cell_type": "markdown",
   "metadata": {},
   "source": [
    "### Create the Slice\n",
    "\n",
    "NIC component models options:\n",
    "- NIC_Basic \n",
    "- NIC_ConnectX_5 \n",
    "- NIC_ConnectX_6"
   ]
  },
  {
   "cell_type": "code",
   "execution_count": 4,
   "metadata": {
    "tags": []
   },
   "outputs": [
    {
     "name": "stdout",
     "output_type": "stream",
     "text": [
      "Waiting for slice ............ Slice state: StableOK\n",
      "Running post boot config ...Slice Fail: 'Node1'\n"
     ]
    },
    {
     "name": "stderr",
     "output_type": "stream",
     "text": [
      "Traceback (most recent call last):\n",
      "  File \"/var/folders/_l/8dq3pgzx6bjgt8qrr1m9jgc80000gp/T/ipykernel_16059/1039754221.py\", line 25, in <module>\n",
      "    slice.submit(wait_progress=True)\n",
      "  File \"/Users/pruth/Library/Python/3.9/lib/python/site-packages/fabrictestbed_extensions/fablib/slice.py\", line 521, in submit\n",
      "    self.post_boot_config()\n",
      "  File \"/Users/pruth/Library/Python/3.9/lib/python/site-packages/fabrictestbed_extensions/fablib/slice.py\", line 380, in post_boot_config\n",
      "    node.save_data()\n",
      "  File \"/Users/pruth/Library/Python/3.9/lib/python/site-packages/fabrictestbed_extensions/fablib/node.py\", line 505, in save_data\n",
      "    'os_interface':  i.get_physical_os_interface() }\n",
      "  File \"/Users/pruth/Library/Python/3.9/lib/python/site-packages/fabrictestbed_extensions/fablib/interface.py\", line 109, in get_physical_os_interface\n",
      "    return self.get_slice().get_interface_map()[network_name][node_name]\n",
      "KeyError: 'Node1'\n"
     ]
    }
   ],
   "source": [
    "try:\n",
    "    #Create Slice\n",
    "    slice = fablib.new_slice(name=slice_name)\n",
    "\n",
    "    # Node1\n",
    "    node1 = slice.add_node(name=node1_name, site=site)\n",
    "    node1.set_capacities(cores=cores, ram=ram, disk=disk)\n",
    "    node1.set_image(image)\n",
    "    iface1 = node1.add_component(model='NIC_ConnectX_5', name=node1_nic_name).get_interfaces()[0]\n",
    "    #iface1.set_vlan(vlan=100)\n",
    "\n",
    "    \n",
    "    # Node2\n",
    "    node2 = slice.add_node(name=node2_name, site=site)\n",
    "    node2.set_capacities(cores=cores, ram=ram, disk=disk)\n",
    "    node2.set_image(image)\n",
    "    iface2 = node2.add_component(model='NIC_ConnectX_5', name=node2_nic_name).get_interfaces()[0]\n",
    "    #iface2.set_vlan(vlan=100)\n",
    "\n",
    "        \n",
    "    # Network\n",
    "    net1 = slice.add_l2network(name=network_name, interfaces=[iface1, iface2])\n",
    "\n",
    "    #Submit Slice Request\n",
    "    slice.submit(wait_progress=True)\n",
    "except Exception as e:\n",
    "    print(f\"Slice Fail: {e}\")\n",
    "    traceback.print_exc()\n"
   ]
  },
  {
   "cell_type": "code",
   "execution_count": null,
   "metadata": {},
   "outputs": [],
   "source": [
    "try:\n",
    "\n",
    "    print(f\"interface_map: {slice.get_interface_map()}\")\n",
    "except Exception as e:\n",
    "    print(f\"Exception: \\n{e}\")"
   ]
  },
  {
   "cell_type": "code",
   "execution_count": 11,
   "metadata": {},
   "outputs": [
    {
     "name": "stdout",
     "output_type": "stream",
     "text": [
      "reservtion_id: 28d713f3-3707-4c44-8fe3-87bf916a3be8, notice: {'last_ticket_update': 'Insufficient resources : Component of type: ConnectX-5 not available in graph node: 3JB1R53', 'pending_state': 'None_', 'reservation_state': 'Closed'}\n",
      "reservtion_id: 68f9611c-0feb-4c9d-84ce-cbc2d284e38f, notice: {'error_message': 'redeem predecessor reservation# 28d713f3-3707-4c44-8fe3-87bf916a3be8 is in a terminal state', 'pending_state': 'None_', 'reservation_state': 'Closed'}\n",
      "reservtion_id: e29dd284-984d-40ed-81af-7b91c2b346a1, notice: {'last_ticket_update': 'TicketReviewPolicy: Closing reservation due to failure in slice', 'pending_state': 'None_', 'reservation_state': 'Closed'}\n"
     ]
    }
   ],
   "source": [
    "try:\n",
    "    for reservtion_id,notice in slice.get_notices().items():\n",
    "        print(f\"reservtion_id: {reservtion_id}, notice: {notice}\")\n",
    "except Exception as e:\n",
    "    print(f\"Exception: \\n{e}\")\n",
    "    "
   ]
  },
  {
   "cell_type": "markdown",
   "metadata": {
    "tags": []
   },
   "source": [
    "## Get the Slice"
   ]
  },
  {
   "cell_type": "code",
   "execution_count": null,
   "metadata": {
    "tags": []
   },
   "outputs": [],
   "source": [
    "try:\n",
    "    slice = fablib.get_slice(name=slice_name)\n",
    "    print(f\"Slice: {slice.get_name()}\")\n",
    "except Exception as e:\n",
    "    print(f\"Get Slices Fail: {e}\")"
   ]
  },
  {
   "cell_type": "code",
   "execution_count": 5,
   "metadata": {},
   "outputs": [
    {
     "name": "stdout",
     "output_type": "stream",
     "text": [
      "Node:\n",
      "   Name              : Node1\n",
      "   Cores             : 2\n",
      "   RAM               : 8\n",
      "   Disk              : 10\n",
      "   Image             : default_centos_8\n",
      "   Image Type        : qcow2\n",
      "   Host              : renc-w3.fabric-testbed.net\n",
      "   Site              : RENC\n",
      "   Management IP     : 152.54.15.48\n",
      "   Reservation ID    : 5f413b14-01b0-4a15-b846-31fe9d524482\n",
      "   Reservation State : Active\n",
      "   SSH Command       : ssh -i /Users/pruth/.ssh/id_rsa -J pruth_0031379841@bastion-1.fabric-testbed.net centos@152.54.15.48\n",
      "   Components        :  \n",
      "      Name             : Node1-nic1\n",
      "      Details          : Mellanox ConnectX-5 Dual Port 10/25GbE\n",
      "      Disk (G)         : 0\n",
      "      Units            : 1\n",
      "      PCI Address      : ['0000:41:00.0', '0000:41:00.1']\n",
      "      Model            : ConnectX-5\n",
      "      Type             : SmartNIC\n",
      "   Interfaces        :  \n",
      "       Name                : Node1-nic1-p1\n",
      "           Bandwidth           : 25\n",
      "           VLAN                : None\n",
      "SCP download fail. Slice: MySliceL2Net, Node: Node1, trying again\n",
      "Fail: [Errno 2] No such file\n",
      "SCP download fail. Slice: MySliceL2Net, Node: Node1, trying again\n",
      "Fail: [Errno 2] No such file\n",
      "           OS Interface        : None\n",
      "       Name                : Node1-nic1-p2\n",
      "           Bandwidth           : 25\n",
      "           VLAN                : None\n",
      "           OS Interface        : None\n",
      "Node:\n",
      "   Name              : Node2\n",
      "   Cores             : 2\n",
      "   RAM               : 8\n",
      "   Disk              : 10\n",
      "   Image             : default_centos_8\n",
      "   Image Type        : qcow2\n",
      "   Host              : renc-w3.fabric-testbed.net\n",
      "   Site              : RENC\n",
      "   Management IP     : 152.54.15.45\n",
      "   Reservation ID    : 020683f1-be11-4418-ab55-018fc1cc4ba8\n",
      "   Reservation State : Active\n",
      "   SSH Command       : ssh -i /Users/pruth/.ssh/id_rsa -J pruth_0031379841@bastion-1.fabric-testbed.net centos@152.54.15.45\n",
      "   Components        :  \n",
      "      Name             : Node2-nic2\n",
      "      Details          : Mellanox ConnectX-5 Dual Port 10/25GbE\n",
      "      Disk (G)         : 0\n",
      "      Units            : 1\n",
      "      PCI Address      : ['0000:a1:00.0', '0000:a1:00.1']\n",
      "      Model            : ConnectX-5\n",
      "      Type             : SmartNIC\n",
      "   Interfaces        :  \n",
      "       Name                : Node2-nic2-p1\n",
      "           Bandwidth           : 25\n",
      "           VLAN                : None\n",
      "           OS Interface        : None\n",
      "       Name                : Node2-nic2-p2\n",
      "           Bandwidth           : 25\n",
      "           VLAN                : None\n",
      "           OS Interface        : None\n"
     ]
    }
   ],
   "source": [
    "try:\n",
    "    slice = fablib.get_slice(name=slice_name)\n",
    "    for node in slice.get_nodes():\n",
    "        print(\"Node:\")\n",
    "        print(f\"   Name              : {node.get_name()}\")\n",
    "        print(f\"   Cores             : {node.get_cores()}\")\n",
    "        print(f\"   RAM               : {node.get_ram()}\")\n",
    "        print(f\"   Disk              : {node.get_disk()}\")\n",
    "        print(f\"   Image             : {node.get_image()}\")\n",
    "        print(f\"   Image Type        : {node.get_image_type()}\")\n",
    "        print(f\"   Host              : {node.get_host()}\")\n",
    "        print(f\"   Site              : {node.get_site()}\")\n",
    "        print(f\"   Management IP     : {node.get_management_ip()}\")\n",
    "        print(f\"   Reservation ID    : {node.get_reservation_id()}\")\n",
    "        print(f\"   Reservation State : {node.get_reservation_state()}\")\n",
    "        print(f\"   SSH Command       : {node.get_ssh_command()}\")\n",
    "        print(f\"   Components        :  \")\n",
    "        for component in node.get_components():\n",
    "            print(f\"      Name             : {component.get_name()}\")\n",
    "            print(f\"      Details          : {component.get_details()}\")\n",
    "            print(f\"      Disk (G)         : {component.get_disk()}\")\n",
    "            print(f\"      Units            : {component.get_unit()}\")\n",
    "            print(f\"      PCI Address      : {component.get_pci_addr()}\")\n",
    "            print(f\"      Model            : {component.get_model()}\")\n",
    "            print(f\"      Type             : {component.get_type()}\") \n",
    "        print(f\"   Interfaces        :  \")\n",
    "        for interface in node.get_interfaces():\n",
    "            print(f\"       Name                : {interface.get_name()}\")\n",
    "            print(f\"           Bandwidth           : {interface.get_bandwidth()}\")\n",
    "            print(f\"           VLAN                : {interface.get_vlan()}\")          \n",
    "            print(f\"           OS Interface        : {interface.get_os_interface()}\")       \n",
    "\n",
    "except Exception as e:\n",
    "    print(f\"Fail: {e}\")"
   ]
  },
  {
   "cell_type": "markdown",
   "metadata": {
    "tags": []
   },
   "source": [
    "## Get the Nodes\n",
    "\n",
    "Retrieve the node information and save the management IP address.\n"
   ]
  },
  {
   "cell_type": "markdown",
   "metadata": {},
   "source": [
    "### Configure Node1\n",
    "\n",
    "Configure the interface on on  node1.  \n",
    "\n",
    "```\n",
    "ip addr add 192.168.1.10/24 dev eth1\n",
    "```"
   ]
  },
  {
   "cell_type": "code",
   "execution_count": null,
   "metadata": {},
   "outputs": [],
   "source": [
    "try:\n",
    "    node1 = slice.get_node(name=node1_name)        \n",
    "    node1_iface = node1.get_interface(network_name=network_name)  \n",
    "    node1_iface.set_ip(ip=\"192.168.1.10\", cidr=\"24\")\n",
    "    \n",
    "    stdout, stderr = node1.execute(f'ip addr list {node1_iface.get_os_interface()}')\n",
    "    print (stdout)\n",
    "except Exception as e:\n",
    "    print(f\"Error: {e}\")"
   ]
  },
  {
   "cell_type": "markdown",
   "metadata": {},
   "source": [
    "### Configure Node2\n",
    "\n",
    "Configure the interface on on  node2.  \n",
    "\n",
    "```\n",
    "ip addr add 192.168.1.11/24 dev eth1\n",
    "```"
   ]
  },
  {
   "cell_type": "code",
   "execution_count": null,
   "metadata": {},
   "outputs": [],
   "source": [
    "try:\n",
    "    node2 = slice.get_node(name=node2_name)        \n",
    "    node2_iface = node2.get_interface(network_name=network_name)  \n",
    "    node2_iface.set_ip(ip=\"192.168.1.11\", cidr=\"24\")\n",
    "    \n",
    "    stdout, stderr = node2.execute(f'ip addr list {node2_iface.get_os_interface()}')\n",
    "    print (stdout)\n",
    "except Exception as e:\n",
    "    print(f\"Error: {e}\")"
   ]
  },
  {
   "cell_type": "markdown",
   "metadata": {},
   "source": [
    "## Delete Slice"
   ]
  },
  {
   "cell_type": "code",
   "execution_count": 10,
   "metadata": {},
   "outputs": [],
   "source": [
    "try:\n",
    "    slice = fablib.get_slice(name=slice_name)\n",
    "    slice.delete()\n",
    "except Exception as e:\n",
    "    print(f\"Fail: {e}\")"
   ]
  },
  {
   "cell_type": "code",
   "execution_count": null,
   "metadata": {},
   "outputs": [],
   "source": []
  }
 ],
 "metadata": {
  "kernelspec": {
   "display_name": "Python 3 (ipykernel)",
   "language": "python",
   "name": "python3"
  },
  "language_info": {
   "codemirror_mode": {
    "name": "ipython",
    "version": 3
   },
   "file_extension": ".py",
   "mimetype": "text/x-python",
   "name": "python",
   "nbconvert_exporter": "python",
   "pygments_lexer": "ipython3",
   "version": "3.9.2"
  }
 },
 "nbformat": 4,
 "nbformat_minor": 4
}
