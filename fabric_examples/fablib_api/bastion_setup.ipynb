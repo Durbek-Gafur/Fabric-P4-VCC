{
 "cells": [
  {
   "cell_type": "markdown",
   "metadata": {
    "tags": []
   },
   "source": [
    "# Setup a FABRIC Bastion Keypair\n",
    "\n",
    "In order to minimize security incidents on FABRIC, access to VMs and other resources administered by users is controlled by a bastion host. You will need to set up an ssh keypair that will be used to jump through the bastion host to your VMs and other resources. This keypair is unique to you and is only used to set up ssh proxy connections through the bastion host to your FABRIC resources. These proxies only setup secure paths through the bastion hosts. The paths are completed using additional ssh keys that are specified in the slice request and installed in the VMs.\n",
    "\n",
    "The following notebook walks through creating and submitting a bastion keypair necessary to use FABRIC. More information about how to access your experiment throught the bastion host can be found [here](https://learn.fabric-testbed.net/knowledge-base/logging-into-fabric-vms/).\n",
    "\n",
    "## Configure Environment"
   ]
  },
  {
   "cell_type": "code",
   "execution_count": null,
   "metadata": {},
   "outputs": [],
   "source": [
    "export FABRIC_SSH_DIR=${HOME}/work/.ssh\n",
    "mkdir -p $FABRIC_SSH_DIR\n",
    "\n",
    "export FABRIC_BASTION_USERNAME=<INSERT_YOUR_FABRIC_USERNAME>\n",
    "export FABRIC_BASTION_PRIVATE_KEY_LOCATION=${FABRIC_SSH_DIR}/id_rsa_fabric\n",
    "export FABRIC_BASTION_PUBLIC_KEY_LOCATION=${FABRIC_BASTION_PRIVATE_KEY_LOCATION}.pub\n",
    "\n",
    "export FABRIC_BASTION_SSH_CONFIG_FILE=/home/fabric/config"
   ]
  },
  {
   "cell_type": "markdown",
   "metadata": {},
   "source": [
    "## Create the SSH Config File"
   ]
  },
  {
   "cell_type": "code",
   "execution_count": null,
   "metadata": {},
   "outputs": [],
   "source": [
    "echo \"Host bastion-*.fabric-testbed.net\" >> ${FABRIC_BASTION_SSH_CONFIG_FILE}\n",
    "echo \"     User ${FABRIC_BASTION_USERNAME}\" >> ${FABRIC_BASTION_SSH_CONFIG_FILE}\n",
    "echo \"     IdentityFile ${FABRIC_BASTION_PRIVATE_KEY_LOCATION}\" >> ${FABRIC_BASTION_SSH_CONFIG_FILE}"
   ]
  },
  {
   "cell_type": "code",
   "execution_count": null,
   "metadata": {},
   "outputs": [],
   "source": [
    "cat $FABRIC_BASTION_PUBLIC_KEY_LOCATION"
   ]
  },
  {
   "cell_type": "code",
   "execution_count": null,
   "metadata": {},
   "outputs": [],
   "source": []
  }
 ],
 "metadata": {
  "kernelspec": {
   "display_name": "Bash",
   "language": "bash",
   "name": "bash"
  },
  "language_info": {
   "codemirror_mode": "shell",
   "file_extension": ".sh",
   "mimetype": "text/x-sh",
   "name": "bash"
  }
 },
 "nbformat": 4,
 "nbformat_minor": 4
}
