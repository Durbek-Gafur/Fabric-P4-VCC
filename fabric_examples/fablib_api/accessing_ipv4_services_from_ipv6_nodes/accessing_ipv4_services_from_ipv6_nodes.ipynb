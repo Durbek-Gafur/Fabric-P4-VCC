{
 "cells": [
  {
   "cell_type": "markdown",
   "metadata": {
    "tags": []
   },
   "source": [
    "# Access non-IPv6 services (i.e. GitHub) from IPv6 FABRIC nodes.\n",
    "\n"
   ]
  },
  {
   "cell_type": "markdown",
   "metadata": {
    "tags": []
   },
   "source": [
    "## Import the FABLlib Library"
   ]
  },
  {
   "cell_type": "code",
   "execution_count": 1,
   "metadata": {
    "tags": []
   },
   "outputs": [
    {
     "name": "stdout",
     "output_type": "stream",
     "text": [
      "-----------------------------------  --------------------------------------------------\n",
      "credmgr_host                         cm.fabric-testbed.net\n",
      "orchestrator_host                    orchestrator.fabric-testbed.net\n",
      "fabric_token                         /Users/pruth/work/fabric_config/fabric_token.json\n",
      "project_id                           990d8a8b-7e50-4d13-a3be-0f133ffa8653\n",
      "bastion_username                     pruth_0031379841\n",
      "bastion_key_filename                 /Users/pruth/work/fabric_config/fabric_bastion_key\n",
      "bastion_public_addr                  bastion-1.fabric-testbed.net\n",
      "bastion_passphrase                   None\n",
      "slice_public_key_file                /Users/pruth/work/fabric_config/slice-public-key\n",
      "slice_private_key_file               /Users/pruth/work/fabric_config/slice-private-key\n",
      "fabric_slice_private_key_passphrase  None\n",
      "fablib_log_file                      /tmp/fablib/fablib.log\n",
      "fablib_log_level                     INFO\n",
      "-----------------------------------  --------------------------------------------------\n"
     ]
    }
   ],
   "source": [
    "from fabrictestbed_extensions.fablib.fablib import FablibManager as fablib_manager\n",
    "\n",
    "fablib = fablib_manager()\n",
    "                     \n",
    "fablib.show_config()"
   ]
  },
  {
   "cell_type": "markdown",
   "metadata": {
    "tags": []
   },
   "source": [
    "## Create a Node"
   ]
  },
  {
   "cell_type": "code",
   "execution_count": 2,
   "metadata": {},
   "outputs": [
    {
     "name": "stdout",
     "output_type": "stream",
     "text": [
      "\n",
      "---------------  ------------------------------------\n",
      "Slice Name       MySlice\n",
      "Slice ID         51360bcc-85bb-4ee8-9bdc-4a45a1f528f9\n",
      "Slice State      StableOK\n",
      "Lease End (UTC)  2022-07-18 17:18:20 +0000\n",
      "---------------  ------------------------------------\n",
      "\n",
      "Retry: 9, Time: 103 sec\n",
      "\n",
      "ID                                    Name    Site    Host                          Cores    RAM    Disk  Image            Management IP                          State    Error\n",
      "------------------------------------  ------  ------  --------------------------  -------  -----  ------  ---------------  -------------------------------------  -------  -------\n",
      "abb2ced0-e5a4-4007-9fd0-ac0e7a378cd5  Node1   STAR    star-w4.fabric-testbed.net        2      8      10  default_rocky_8  2001:400:a100:3030:f816:3eff:feb2:2dd  Active\n",
      "\n",
      "Time to stable 103 seconds\n",
      "Running post_boot_config ... Time to post boot config 104 seconds\n"
     ]
    }
   ],
   "source": [
    "try:\n",
    "    #Create a slice\n",
    "    slice = fablib.new_slice(name=\"MySlice\")\n",
    "\n",
    "    # Add a node (avoid IPv4 sites)\n",
    "    slice.add_node(name=\"Node1\", avoid=['TACC','MAX'])\n",
    "\n",
    "    slice.submit()\n",
    "except Exception as e:\n",
    "    print(f\"Exception: {e}\")"
   ]
  },
  {
   "cell_type": "markdown",
   "metadata": {
    "tags": []
   },
   "source": [
    "### Print the node\n"
   ]
  },
  {
   "cell_type": "code",
   "execution_count": 3,
   "metadata": {},
   "outputs": [
    {
     "name": "stdout",
     "output_type": "stream",
     "text": [
      "-----------------  -----------------------------------------------------------------------------------------------------------------------------------------------------\n",
      "ID                 abb2ced0-e5a4-4007-9fd0-ac0e7a378cd5\n",
      "Name               Node1\n",
      "Cores              2\n",
      "RAM                8\n",
      "Disk               10\n",
      "Image              default_rocky_8\n",
      "Image Type         qcow2\n",
      "Host               star-w4.fabric-testbed.net\n",
      "Site               STAR\n",
      "Management IP      2001:400:a100:3030:f816:3eff:feb2:2dd\n",
      "Reservation State  Active\n",
      "Error Message\n",
      "SSH Command        ssh -i /Users/pruth/work/fabric_config/slice-private-key -J pruth_0031379841@bastion-1.fabric-testbed.net rocky@2001:400:a100:3030:f816:3eff:feb2:2dd\n",
      "-----------------  -----------------------------------------------------------------------------------------------------------------------------------------------------\n"
     ]
    }
   ],
   "source": [
    "try:\n",
    "    for node in slice.get_nodes():\n",
    "        print(f\"{node}\")\n",
    "except Exception as e:\n",
    "    print(f\"Exception: {e}\")"
   ]
  },
  {
   "cell_type": "markdown",
   "metadata": {
    "tags": []
   },
   "source": [
    "## Upload and Execute the NAT64 Script"
   ]
  },
  {
   "cell_type": "code",
   "execution_count": 4,
   "metadata": {},
   "outputs": [
    {
     "name": "stdout",
     "output_type": "stream",
     "text": [
      "\n",
      "\n",
      "\n",
      "Installed:\n",
      "  emacs-filesystem-1:26.1-7.el8.noarch                                          \n",
      "  git-2.31.1-2.el8.x86_64                                                       \n",
      "  git-core-2.31.1-2.el8.x86_64                                                  \n",
      "  git-core-doc-2.31.1-2.el8.noarch                                              \n",
      "  perl-Carp-1.42-396.el8.noarch                                                 \n",
      "  perl-Data-Dumper-2.167-399.el8.x86_64                                         \n",
      "  perl-Digest-1.17-395.el8.noarch                                               \n",
      "  perl-Digest-MD5-2.55-396.el8.x86_64                                           \n",
      "  perl-Encode-4:2.97-3.el8.x86_64                                               \n",
      "  perl-Errno-1.28-421.el8.x86_64                                                \n",
      "  perl-Error-1:0.17025-2.el8.noarch                                             \n",
      "  perl-Exporter-5.72-396.el8.noarch                                             \n",
      "  perl-File-Path-2.15-2.el8.noarch                                              \n",
      "  perl-File-Temp-0.230.600-1.el8.noarch                                         \n",
      "  perl-Getopt-Long-1:2.50-4.el8.noarch                                          \n",
      "  perl-Git-2.31.1-2.el8.noarch                                                  \n",
      "  perl-HTTP-Tiny-0.074-1.el8.noarch                                             \n",
      "  perl-IO-1.38-421.el8.x86_64                                                   \n",
      "  perl-IO-Socket-IP-0.39-5.el8.noarch                                           \n",
      "  perl-IO-Socket-SSL-2.066-4.module+el8.6.0+957+15d660ad.noarch                 \n",
      "  perl-MIME-Base64-3.15-396.el8.x86_64                                          \n",
      "  perl-Mozilla-CA-20160104-7.module+el8.6.0+965+850557f9.noarch                 \n",
      "  perl-Net-SSLeay-1.88-2.module+el8.6.0+957+15d660ad.x86_64                     \n",
      "  perl-PathTools-3.74-1.el8.x86_64                                              \n",
      "  perl-Pod-Escapes-1:1.07-395.el8.noarch                                        \n",
      "  perl-Pod-Perldoc-3.28-396.el8.noarch                                          \n",
      "  perl-Pod-Simple-1:3.35-395.el8.noarch                                         \n",
      "  perl-Pod-Usage-4:1.69-395.el8.noarch                                          \n",
      "  perl-Scalar-List-Utils-3:1.49-2.el8.x86_64                                    \n",
      "  perl-Socket-4:2.027-3.el8.x86_64                                              \n",
      "  perl-Storable-1:3.11-3.el8.x86_64                                             \n",
      "  perl-Term-ANSIColor-4.06-396.el8.noarch                                       \n",
      "  perl-Term-Cap-1.17-395.el8.noarch                                             \n",
      "  perl-TermReadKey-2.37-7.el8.x86_64                                            \n",
      "  perl-Text-ParseWords-3.30-395.el8.noarch                                      \n",
      "  perl-Text-Tabs+Wrap-2013.0523-395.el8.noarch                                  \n",
      "  perl-Time-Local-1:1.280-1.el8.noarch                                          \n",
      "  perl-URI-1.73-3.el8.noarch                                                    \n",
      "  perl-Unicode-Normalize-1.25-396.el8.x86_64                                    \n",
      "  perl-constant-1.33-396.el8.noarch                                             \n",
      "  perl-interpreter-4:5.26.3-421.el8.x86_64                                      \n",
      "  perl-libnet-3.11-3.el8.noarch                                                 \n",
      "  perl-libs-4:5.26.3-421.el8.x86_64                                             \n",
      "  perl-macros-4:5.26.3-421.el8.x86_64                                           \n",
      "  perl-parent-1:0.237-1.el8.noarch                                              \n",
      "  perl-podlators-4.11-1.el8.noarch                                              \n",
      "  perl-threads-1:2.21-2.el8.x86_64                                              \n",
      "  perl-threads-shared-1.58-2.el8.x86_64                                         \n",
      "\n",
      "\n",
      "Importing GPG key 0x6D745A60:\n",
      " Userid     : \"Release Engineering <infrastructure@rockylinux.org>\"\n",
      " Fingerprint: 7051 C470 A929 F454 CEBE 37B7 15AF 5DAC 6D74 5A60\n",
      " From       : /etc/pki/rpm-gpg/RPM-GPG-KEY-rockyofficial\n",
      "Cloning into 'jupyter-examples'...\n",
      "\n",
      "fabric_examples\n",
      "LICENSE\n",
      "Readme.md\n",
      "start_here.ipynb\n",
      "\n",
      "\n"
     ]
    }
   ],
   "source": [
    "from ipaddress import ip_address, IPv6Address\n",
    "\n",
    "try:\n",
    "    node = slice.get_node(name=\"Node1\")     \n",
    "    \n",
    "    #If the node is an IPv6 Node then configure NAT64\n",
    "    if type(ip_address(node.get_management_ip())) is IPv6Address:\n",
    "        node.upload_file('nat64.sh','nat64.sh')\n",
    "        \n",
    "        stdout, stderr = node.execute(f'chmod +x nat64.sh && ./nat64.sh')\n",
    "        print(stdout)\n",
    "        print(stderr)\n",
    "        \n",
    "    #Access non-IPv6 Services\n",
    "    stdout, stderr = node.execute(f'sudo yum install -y -q git && git clone https://github.com/fabric-testbed/jupyter-examples.git')\n",
    "    print(stdout)\n",
    "    print(stderr)\n",
    "    \n",
    "    stdout, stderr = node.execute(f'ls jupyter-examples')\n",
    "    print(stdout)\n",
    "    print(stderr)\n",
    "     \n",
    "        \n",
    "except Exception as e:\n",
    "    print(f\"Exception: {e}\")"
   ]
  },
  {
   "cell_type": "markdown",
   "metadata": {
    "tags": []
   },
   "source": [
    "## Delete the Slice\n",
    "\n",
    "Please delete your slice when you are done with your experiment."
   ]
  },
  {
   "cell_type": "code",
   "execution_count": null,
   "metadata": {},
   "outputs": [],
   "source": [
    "try:\n",
    "    slice.delete()\n",
    "except Exception as e:\n",
    "    print(f\"Exception: {e}\")"
   ]
  },
  {
   "cell_type": "code",
   "execution_count": null,
   "metadata": {},
   "outputs": [],
   "source": []
  }
 ],
 "metadata": {
  "kernelspec": {
   "display_name": "Python 3 (ipykernel)",
   "language": "python",
   "name": "python3"
  },
  "language_info": {
   "codemirror_mode": {
    "name": "ipython",
    "version": 3
   },
   "file_extension": ".py",
   "mimetype": "text/x-python",
   "name": "python",
   "nbconvert_exporter": "python",
   "pygments_lexer": "ipython3",
   "version": "3.9.2"
  }
 },
 "nbformat": 4,
 "nbformat_minor": 4
}
