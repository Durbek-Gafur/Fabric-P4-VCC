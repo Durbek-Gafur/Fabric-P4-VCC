{
 "cells": [
  {
   "cell_type": "markdown",
   "metadata": {
    "tags": []
   },
   "source": [
    "# Upload and Execute a Script\n",
    "\n"
   ]
  },
  {
   "cell_type": "markdown",
   "metadata": {
    "tags": []
   },
   "source": [
    "## Import the FABLlib Library"
   ]
  },
  {
   "cell_type": "code",
   "execution_count": null,
   "metadata": {
    "tags": []
   },
   "outputs": [],
   "source": [
    "from fabrictestbed_extensions.fablib.fablib import FablibManager as fablib_manager\n",
    "\n",
    "fablib = fablib_manager()\n",
    "                     \n",
    "fablib.show_config()"
   ]
  },
  {
   "cell_type": "markdown",
   "metadata": {
    "tags": []
   },
   "source": [
    "## Create the Experiment Request and Save it to a File\n"
   ]
  },
  {
   "cell_type": "code",
   "execution_count": null,
   "metadata": {},
   "outputs": [],
   "source": [
    "try:\n",
    "    #Create a slice\n",
    "    slice = fablib.new_slice(name=\"MySlice\")\n",
    "\n",
    "    # Add a node\n",
    "    slice.add_node(name=\"Node1\")\n",
    "\n",
    "    slice.submit()\n",
    "except Exception as e:\n",
    "    print(f\"Exception: {e}\")"
   ]
  },
  {
   "cell_type": "markdown",
   "metadata": {
    "tags": []
   },
   "source": [
    "### Print the node\n"
   ]
  },
  {
   "cell_type": "code",
   "execution_count": null,
   "metadata": {},
   "outputs": [],
   "source": [
    "try:\n",
    "    for node in slice.get_nodes():\n",
    "        print(f\"{node}\")\n",
    "except Exception as e:\n",
    "    print(f\"Exception: {e}\")"
   ]
  },
  {
   "cell_type": "markdown",
   "metadata": {
    "tags": []
   },
   "source": [
    "## Upload and Exeute a Configuration Script\n",
    "\n",
    "(Optional) Edit the script by opening it in Jupyter. To edit, either click [here](./config_script.sh) or click on the script in the filebrowser on the left side of the browser window. "
   ]
  },
  {
   "cell_type": "markdown",
   "metadata": {},
   "source": [
    "Upload the script"
   ]
  },
  {
   "cell_type": "code",
   "execution_count": null,
   "metadata": {},
   "outputs": [],
   "source": [
    "try:\n",
    "    node = slice.get_node(name=\"Node1\")        \n",
    "\n",
    "    result = node.upload_file('config_script.sh','config_script.sh')\n",
    "except Exception as e:\n",
    "    print(f\"Exception: {e}\")"
   ]
  },
  {
   "cell_type": "markdown",
   "metadata": {},
   "source": [
    "Run the script"
   ]
  },
  {
   "cell_type": "code",
   "execution_count": null,
   "metadata": {},
   "outputs": [],
   "source": [
    "try:\n",
    "    script_args=\"net-tools tcpdump vim\"\n",
    "    \n",
    "    node = slice.get_node(name=\"Node1\")        \n",
    "    stdout, stderr = node.execute(f'chmod +x config_script.sh && ./config_script.sh {script_args} > config.log')\n",
    "    print(stdout)\n",
    "    print(stderr)\n",
    "\n",
    "except Exception as e:\n",
    "    print(f\"Exception: {e}\")"
   ]
  },
  {
   "cell_type": "markdown",
   "metadata": {},
   "source": [
    "Download the output."
   ]
  },
  {
   "cell_type": "code",
   "execution_count": null,
   "metadata": {},
   "outputs": [],
   "source": [
    "try:\n",
    "    node = slice.get_node(name=\"Node1\")        \n",
    "\n",
    "    node.download_file('config.log','config.log')\n",
    "except Exception as e:\n",
    "    print(f\"Exception: {e}\")"
   ]
  },
  {
   "cell_type": "markdown",
   "metadata": {},
   "source": [
    "Now you can access the output in your Jupyter notebook.  In this case our output is a log file that can viewed by clicking the log file in the file browser or running the cat command in the notebook."
   ]
  },
  {
   "cell_type": "code",
   "execution_count": null,
   "metadata": {},
   "outputs": [],
   "source": [
    "!cat config.log"
   ]
  },
  {
   "cell_type": "markdown",
   "metadata": {
    "tags": []
   },
   "source": [
    "## Bonus: Accessing Non-IPv6 Services from FABRIC IPv6 Nodes\n",
    "\n",
    "\n",
    "\n"
   ]
  },
  {
   "cell_type": "code",
   "execution_count": 35,
   "metadata": {},
   "outputs": [
    {
     "name": "stdout",
     "output_type": "stream",
     "text": [
      "\n",
      "\n",
      "\n",
      "fatal: destination path 'jupyter-examples' already exists and is not an empty directory.\n",
      "\n",
      "fabric_examples\n",
      "LICENSE\n",
      "Readme.md\n",
      "start_here.ipynb\n",
      "\n",
      "\n"
     ]
    }
   ],
   "source": [
    "from ipaddress import ip_address, IPv6Address\n",
    "\n",
    "try:\n",
    "    node = slice.get_node(name=\"Node1\")     \n",
    "    \n",
    "    #If the node is an IPv6 Node then configure NAT64\n",
    "    if type(ip_address(node.get_management_ip())) is IPv6Address:\n",
    "        node.upload_file('nat64.sh','nat64.sh')\n",
    "        \n",
    "        stdout, stderr = node.execute(f'chmod +x nat64.sh && ./nat64.sh')\n",
    "        print(stdout)\n",
    "        print(stderr)\n",
    "        \n",
    "    #Access non-IPv6 Services\n",
    "    stdout, stderr = node.execute(f'sudo yum install -y -q git && git clone https://github.com/fabric-testbed/jupyter-examples.git')\n",
    "    print(stdout)\n",
    "    print(stderr)\n",
    "    \n",
    "    stdout, stderr = node.execute(f'ls jupyter-examples')\n",
    "    print(stdout)\n",
    "    print(stderr)\n",
    "     \n",
    "        \n",
    "except Exception as e:\n",
    "    print(f\"Exception: {e}\")"
   ]
  },
  {
   "cell_type": "markdown",
   "metadata": {
    "tags": []
   },
   "source": [
    "## Delete the Slice\n",
    "\n",
    "Please delete your slice when you are done with your experiment."
   ]
  },
  {
   "cell_type": "code",
   "execution_count": null,
   "metadata": {},
   "outputs": [],
   "source": [
    "try:\n",
    "    slice.delete()\n",
    "except Exception as e:\n",
    "    print(f\"Exception: {e}\")"
   ]
  },
  {
   "cell_type": "code",
   "execution_count": null,
   "metadata": {},
   "outputs": [],
   "source": []
  }
 ],
 "metadata": {
  "kernelspec": {
   "display_name": "Python 3 (ipykernel)",
   "language": "python",
   "name": "python3"
  },
  "language_info": {
   "codemirror_mode": {
    "name": "ipython",
    "version": 3
   },
   "file_extension": ".py",
   "mimetype": "text/x-python",
   "name": "python",
   "nbconvert_exporter": "python",
   "pygments_lexer": "ipython3",
   "version": "3.9.2"
  }
 },
 "nbformat": 4,
 "nbformat_minor": 4
}
