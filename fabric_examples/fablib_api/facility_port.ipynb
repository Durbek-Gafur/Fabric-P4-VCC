{
 "cells": [
  {
   "cell_type": "markdown",
   "metadata": {
    "tags": []
   },
   "source": [
    "# Hello, FABRIC: Create your First FABRIC Eperiment\n",
    "\n",
    "This Jupyter notebook will walk you through creating your first FABRIC experiment. The \"Hello, FABRIC\" experiment tests the configuration of your environment to ensure you can create and access resources on FABRIC.  Specifically, the experiment deploys a slice of resources with a single virtual machine and confirms you can log into the machine. \n",
    "\n",
    "## Step 1:  Configure the Environment\n",
    "\n",
    "Set the environment variables that will be used by this notebook. If you are using the FABRIC JupyterHub many of the environment varialbe will be automatically configured for you.  You will only need to set your bastion username, upload your bastion private key, and set the path to where you put your bastion private key. Your bastion username and private key should already be in your possession.  If you do not have a bastion username and private key, please contact the FABRIC admins using the [FABRIC User Forum](https://learn.fabric-testbed.net/forums/) \n",
    "\n",
    "If you are using the FABRIC API outside of the JupyterHub you will need to configure all of the environment variables. Defaults below will be correct in many situations but you will need to confirm your configuration.  If you have questions about this configuration, please contact the FABRIC admins using the [FABRIC User Forum](https://learn.fabric-testbed.net/forums/) \n",
    "\n",
    "More information about accessing your experiments through the FABRIC bastion hosts can be found [here](https://learn.fabric-testbed.net/knowledge-base/logging-into-fabric-vms/)."
   ]
  },
  {
   "cell_type": "markdown",
   "metadata": {
    "tags": []
   },
   "source": [
    "## Step 2: Import the FABLlib Library"
   ]
  },
  {
   "cell_type": "code",
   "execution_count": null,
   "metadata": {
    "tags": []
   },
   "outputs": [],
   "source": [
    "import json\n",
    "import traceback\n",
    "#from fabrictestbed_extensions.fablib.fablib import fablib\n",
    "from fabrictestbed_extensions.fablib.fablib import FablibManager as fablib_manager\n",
    "\n",
    "\n",
    "#fablib.show_config()\n",
    "#fablib = fablib()\n",
    "\n",
    "#fablib = fablib_manager()\n",
    "\n",
    "fablib = fablib_manager(\n",
    "                     #fabric_rc='/Users/pruth/other_fabric_rc',\n",
    "                     #credmgr_host='credmgr_host_xxx',\n",
    "                     #orchestrator_host='orchestrator_host_xxx',\n",
    "                     #fabric_token='token_xxx',\n",
    "                     #project_id='id_xxx',\n",
    "                     #bastion_username='bastion_name_xxx',\n",
    "                     #bastion_key_filename='bastion_key_xxx',\n",
    "                     #log_level='DEBUG',\n",
    "                     #log_file='myfile'\n",
    "                     )\n",
    "print(\"\\n\\n\")\n",
    "fablib.show_config()"
   ]
  },
  {
   "cell_type": "markdown",
   "metadata": {
    "tags": []
   },
   "source": [
    "## Step 3 (Optional): Query for Available Tesbed Resources and Settings\n",
    "\n",
    "This optional command queries the FABRIC services to find the available resources. It may be useful for finding a site with available capacity."
   ]
  },
  {
   "cell_type": "code",
   "execution_count": null,
   "metadata": {},
   "outputs": [],
   "source": [
    "try:\n",
    "    print(f\"{fablib.list_sites()}\")\n",
    "except Exception as e:\n",
    "    print(f\"Exception: {e}\")\n",
    "    traceback.print_exc()"
   ]
  },
  {
   "cell_type": "markdown",
   "metadata": {
    "tags": []
   },
   "source": [
    "## Step 4: Create the Experiment Slice\n",
    "\n",
    "The following creates a single node with basic compute capabilities. You build a slice by creating a new slice and adding resources to the slice. After you build the slice, you must submit a request for the slice to be instantiated.   \n",
    "\n",
    "By default, the submit function will block until the node is ready and will display the progress of your slice being built.\n",
    "\n",
    "\n",
    "<img src=\"./figs/SingleNode.png\" width=\"20%\"><br>\n",
    "\n"
   ]
  },
  {
   "cell_type": "code",
   "execution_count": null,
   "metadata": {},
   "outputs": [],
   "source": [
    "try:\n",
    "    \n",
    "\n",
    "    #Create a slice\n",
    "    slice = fablib.new_slice(name=\"MySlice3305\")\n",
    "    \n",
    "    # Add a node\n",
    "    #site='UTAH'\n",
    "    #host_name=f'{site.lower()}-w1.fabric-testbed.net'\n",
    "    #node = slice.add_node(name=f\"Node1_{site}\", site=site)\n",
    "    #iface1 = node.add_component(model='NIC_ConnectX_5', name=f\"nic1_{site}\").get_interfaces()[0]\n",
    "    \n",
    "    site='UTAH'\n",
    "    node = slice.add_node(name=f\"Node1_{site}\", site=site, cores=2, ram=8, disk=10, image='default_ubuntu_20')\n",
    "    iface2 = node.add_component(model='NIC_ConnectX_5', name=f\"nic1_{site}\").get_interfaces()[0]\n",
    "    print(f\"iface2.get_vlan(): {iface2.get_vlan()}\")\n",
    "\n",
    "    #iface2.set_vlan(3305)\n",
    "    \n",
    "\n",
    "    facility_port = slice.add_facility_port(name='Chameleon-StarLight', site='STAR', vlan='3305')\n",
    "    facility_port_interface =facility_port.get_interfaces()[0]\n",
    "    print(f\"facility_port_interface.get_vlan(): {facility_port_interface.get_vlan()}\")\n",
    "\n",
    "    #net = slice.add_l2network(name=f'net_facility_port', interfaces=[iface2,facility_port_interface], type='L2Bridge')\n",
    "    net = slice.add_l2network(name=f'net_facility_port', interfaces=[iface2,facility_port_interface], type='L2PTP')\n",
    "    \n",
    "    print(f\"AFTER: facility_port_interface.get_vlan(): {facility_port_interface.get_vlan()}\")\n",
    "    print(f\"AFTER: iface2.get_vlan(): {iface2.get_vlan()}\")\n",
    "        \n",
    "\n",
    "    #Submit the Request\n",
    "    slice.submit()\n",
    "except Exception as e:\n",
    "    print(f\"Exception: {e}\")\n",
    "    traceback.print_exc()"
   ]
  },
  {
   "cell_type": "markdown",
   "metadata": {},
   "source": [
    "## Step 5: Observe the Slice's Attributes\n",
    "\n",
    "### Print the slice "
   ]
  },
  {
   "cell_type": "code",
   "execution_count": null,
   "metadata": {},
   "outputs": [],
   "source": [
    "slice_name='MySlice3305'\n",
    "\n",
    "try:\n",
    "    slice = fablib.get_slice(name=slice_name)\n",
    "    print(f\"{slice}\")\n",
    "except Exception as e:\n",
    "    print(f\"Exception: {e}\")"
   ]
  },
  {
   "cell_type": "markdown",
   "metadata": {
    "tags": []
   },
   "source": [
    "### Print the node\n",
    "\n",
    "Each node in the slice has a set of get functions that return the node's attributes."
   ]
  },
  {
   "cell_type": "code",
   "execution_count": null,
   "metadata": {},
   "outputs": [],
   "source": [
    "try:\n",
    "    for node in slice.get_nodes():\n",
    "        print(f\"{node}\")\n",
    "except Exception as e:\n",
    "    print(f\"Exception: {e}\")"
   ]
  },
  {
   "cell_type": "markdown",
   "metadata": {
    "tags": []
   },
   "source": [
    "## Step 6: Run the Experiemnt\n",
    "\n",
    "Most experiments will require automated configuration and execution. You can use the fablib library to execute arbitrary commands on your node. \n",
    "\n",
    "The following code demonstrates how to use fablib to execute a \"Hello, FABRIC\" bash script. The library uses the bastion and VM keys defined at the top of this notebook to jump through the bastion host and execute the script."
   ]
  },
  {
   "cell_type": "code",
   "execution_count": null,
   "metadata": {},
   "outputs": [],
   "source": [
    "from ipaddress import ip_address, IPv4Address, IPv6Address, IPv4Network, IPv6Network\n",
    "\n",
    "try:\n",
    "    subnet = IPv4Network(\"192.168.42.0/24\")\n",
    "    available_ips = list(subnet)[1:]\n",
    "except Exception as e:\n",
    "    print(f\"Exception: {e}\")"
   ]
  },
  {
   "cell_type": "code",
   "execution_count": null,
   "metadata": {},
   "outputs": [],
   "source": [
    "try:\n",
    "    node1 = slice.get_node(name=f\"Node1_{site}\")        \n",
    "    node1_iface = node1.get_interface(network_name=f'net_facility_port') \n",
    "    node1_addr = available_ips.pop(99)\n",
    "    print(f\"node1_addr: {node1_addr}\")\n",
    "    node1_iface.ip_addr_add(addr=node1_addr, subnet=subnet)\n",
    "    \n",
    "    stdout, stderr = node1.execute(f'ip addr show {node1_iface.get_os_interface()}')\n",
    "    print (stdout)\n",
    "\n",
    "    stdout, stderr = node1.execute(f'sudo ip link set dev {node1_iface.get_physical_os_interface_name()} up')\n",
    "    print (stdout)\n",
    "    \n",
    "    stdout, stderr = node1.execute(f'sudo ip link set dev {node1_iface.get_os_interface()} up')\n",
    "    print (stdout)\n",
    "    \n",
    "except Exception as e:\n",
    "    print(f\"Exception: {e}\")"
   ]
  },
  {
   "cell_type": "code",
   "execution_count": null,
   "metadata": {},
   "outputs": [],
   "source": [
    "try:\n",
    "    node = slice.get_node(name=f\"Node1_{site}\")        \n",
    "    stdout, stderr = node.execute('echo Hello, FABRIC from node `hostname -s`')\n",
    "    print(stdout)\n",
    "except Exception as e:\n",
    "    print(f\"Exception: {e}\")"
   ]
  },
  {
   "cell_type": "code",
   "execution_count": null,
   "metadata": {},
   "outputs": [],
   "source": [
    "try:\n",
    "    node1 = slice.get_node(name=f\"Node1_{site}\")     \n",
    "    node1_iface = node1.get_interface(network_name=f'net_facility_port') \n",
    "\n",
    "\n",
    "    stdout, stderr = node1.execute(f'ping -c 5 192.168.42.9')\n",
    "    print (stdout)\n",
    "    print (stderr)\n",
    "    \n",
    "except Exception as e:\n",
    "    print(f\"Exception: {e}\")"
   ]
  },
  {
   "cell_type": "markdown",
   "metadata": {
    "tags": []
   },
   "source": [
    "## Step 7: Delete the Slice\n",
    "\n",
    "Please delete your slice when you are done with your experiment."
   ]
  },
  {
   "cell_type": "code",
   "execution_count": null,
   "metadata": {},
   "outputs": [],
   "source": [
    "try:\n",
    "    slice.delete()\n",
    "except Exception as e:\n",
    "    print(f\"Exception: {e}\")"
   ]
  },
  {
   "cell_type": "code",
   "execution_count": null,
   "metadata": {},
   "outputs": [],
   "source": []
  },
  {
   "cell_type": "code",
   "execution_count": null,
   "metadata": {},
   "outputs": [],
   "source": []
  }
 ],
 "metadata": {
  "kernelspec": {
   "display_name": "Python 3 (ipykernel)",
   "language": "python",
   "name": "python3"
  },
  "language_info": {
   "codemirror_mode": {
    "name": "ipython",
    "version": 3
   },
   "file_extension": ".py",
   "mimetype": "text/x-python",
   "name": "python",
   "nbconvert_exporter": "python",
   "pygments_lexer": "ipython3",
   "version": "3.9.2"
  }
 },
 "nbformat": 4,
 "nbformat_minor": 4
}
