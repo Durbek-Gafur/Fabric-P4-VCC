{
 "cells": [
  {
   "cell_type": "markdown",
   "metadata": {
    "tags": []
   },
   "source": [
    "# Hello, FABRIC: Create Your First FABRIC Experiment\n",
    "\n",
    "This Jupyter notebook will walk you through creating your first FABRIC experiment. The \"Hello, FABRIC\" experiment tests the configuration of your environment to ensure you can create and access resources on FABRIC.  Specifically, the experiment deploys a slice of resources with a single virtual machine and confirms you can log into the virtual machine using FABLib methods.\n",
    "\n",
    "## Step 1:  Configure the Environment\n",
    "\n",
    "Before running this notebook, you will need to configure you environment using the [Configure Environment](./configure_environment.ipynb) notebook. Please stop here, open and run that notebook, then return to this notebook.\n",
    "\n",
    "If you are using the FABRIC JupyterHub many of the environment variables will be automatically configured for you.  You will still need to set your bastion username, upload your bastion private key, and set the path to where you put your bastion private key. Your bastion username and private key should already be in your possession.  \n",
    "\n",
    "If you are using the FABRIC API outside of the JupyterHub you will need to configure all of the environment variables. Defaults below will be correct in many situations but you will need to confirm your configuration.  If you have questions about this configuration, please contact the FABRIC admins using the [FABRIC User Forum](https://learn.fabric-testbed.net/forums/) \n",
    "\n",
    "More information about accessing your experiments through the FABRIC bastion hosts can be found [here](https://learn.fabric-testbed.net/knowledge-base/logging-into-fabric-vms/).\n"
   ]
  },
  {
   "cell_type": "markdown",
   "metadata": {
    "tags": []
   },
   "source": [
    "## Step 2: Import the FABLlib Library"
   ]
  },
  {
   "cell_type": "code",
   "execution_count": 1,
   "metadata": {
    "tags": []
   },
   "outputs": [
    {
     "name": "stdout",
     "output_type": "stream",
     "text": [
      "-----------------------------------  --------------------------------------------------\n",
      "credmgr_host                         cm.fabric-testbed.net\n",
      "orchestrator_host                    orchestrator.fabric-testbed.net\n",
      "fabric_token                         /Users/pruth/work/fabric_config/fabric_token.json\n",
      "project_id                           990d8a8b-7e50-4d13-a3be-0f133ffa8653\n",
      "bastion_username                     pruth_0031379841\n",
      "bastion_key_filename                 /Users/pruth/work/fabric_config/fabric_bastion_key\n",
      "bastion_public_addr                  bastion-1.fabric-testbed.net\n",
      "bastion_passphrase                   None\n",
      "slice_public_key_file                /Users/pruth/work/fabric_config/slice-public-key\n",
      "slice_private_key_file               /Users/pruth/work/fabric_config/slice-private-key\n",
      "fabric_slice_private_key_passphrase  None\n",
      "fablib_log_file                      /tmp/fablib/fablib.log\n",
      "fablib_log_level                     INFO\n",
      "-----------------------------------  --------------------------------------------------\n"
     ]
    }
   ],
   "source": [
    "from fabrictestbed_extensions.fablib.fablib import FablibManager as fablib_manager\n",
    "\n",
    "fablib = fablib_manager()\n",
    "                     \n",
    "fablib.show_config()"
   ]
  },
  {
   "cell_type": "markdown",
   "metadata": {
    "tags": []
   },
   "source": [
    "## Step 3 (Optional): Query for Available Tesbed Resources and Settings\n",
    "\n",
    "This optional command queries the FABRIC services to find the available resources. It may be useful for finding a site with available capacity."
   ]
  },
  {
   "cell_type": "code",
   "execution_count": null,
   "metadata": {},
   "outputs": [],
   "source": [
    "try:\n",
    "    print(f\"{fablib.list_sites()}\")\n",
    "except Exception as e:\n",
    "    print(f\"Exception: {e}\")"
   ]
  },
  {
   "cell_type": "markdown",
   "metadata": {
    "tags": []
   },
   "source": [
    "## Step 4: Create the Experiment Slice\n",
    "\n",
    "The following creates a single node with basic compute capabilities. You build a slice by creating a new slice and adding resources to the slice. After you build the slice, you must submit a request for the slice to be instantiated.   \n",
    "\n",
    "By default, the submit function will block until the node is ready and will display the progress of your slice being built.\n",
    "\n",
    "\n",
    "<img src=\"./figs/SingleNode.png\" width=\"20%\"><br>\n",
    "\n"
   ]
  },
  {
   "cell_type": "code",
   "execution_count": 2,
   "metadata": {},
   "outputs": [
    {
     "name": "stdout",
     "output_type": "stream",
     "text": [
      "\n",
      "---------------  ------------------------------------\n",
      "Slice Name       MySlice\n",
      "Slice ID         1eb88eb6-f5cb-47ee-ba2d-8a70dcbf6813\n",
      "Slice State      StableOK\n",
      "Lease End (UTC)  2022-07-18 13:24:49 +0000\n",
      "---------------  ------------------------------------\n",
      "\n",
      "Retry: 22, Time: 237 sec\n",
      "\n",
      "ID                                    Name    Site    Host                          Cores    RAM    Disk  Image            Management IP                        State    Error\n",
      "------------------------------------  ------  ------  --------------------------  -------  -----  ------  ---------------  -----------------------------------  -------  -------\n",
      "20bcbd8c-7a54-4f2d-bdb7-a1f12edc6d78  Node1   MICH    mich-w3.fabric-testbed.net        2      8      10  default_rocky_8  2607:f018:110:11:f816:3eff:fea2:9b4  Active\n",
      "\n",
      "Time to stable 237 seconds\n",
      "Running post_boot_config ... Time to post boot config 238 seconds\n"
     ]
    }
   ],
   "source": [
    "try:\n",
    "    #Create a slice\n",
    "    slice = fablib.new_slice(name=\"MySlice\")\n",
    "\n",
    "    # Add a node\n",
    "    slice.add_node(name=\"Node1\")\n",
    "\n",
    "    \n",
    "    #for node in slice.get_nodes():\n",
    "    #    print(node)\n",
    "    #Submit the Request\n",
    "    \n",
    "    slice.submit()\n",
    "    slice.save('hello.graphml')\n",
    "except Exception as e:\n",
    "    print(f\"Exception: {e}\")"
   ]
  },
  {
   "cell_type": "code",
   "execution_count": 3,
   "metadata": {},
   "outputs": [
    {
     "name": "stdout",
     "output_type": "stream",
     "text": [
      "\n",
      "---------------  ------------------------------------\n",
      "Slice Name       MySlice1\n",
      "Slice ID         d912e4d1-19c4-45ff-925a-a239fea006ba\n",
      "Slice State      StableOK\n",
      "Lease End (UTC)  2022-07-18 13:29:36 +0000\n",
      "---------------  ------------------------------------\n",
      "\n",
      "Retry: 11, Time: 123 sec\n",
      "\n",
      "ID                                    Name    Site    Host                          Cores    RAM    Disk  Image            Management IP                        State    Error\n",
      "------------------------------------  ------  ------  --------------------------  -------  -----  ------  ---------------  -----------------------------------  -------  -------\n",
      "7789661a-b71d-497d-9842-235cdb5d8544  Node1   MICH    mich-w3.fabric-testbed.net        2      8      10  default_rocky_8  2607:f018:110:11:f816:3eff:fea2:9b4  Active\n",
      "\n",
      "Time to stable 123 seconds\n",
      "Running post_boot_config ... Time to post boot config 124 seconds\n"
     ]
    }
   ],
   "source": [
    "import traceback\n",
    "try:\n",
    "    #Create a slice\n",
    "    slice1 = fablib.new_slice(name=\"MySlice1\")\n",
    " \n",
    "    slice1.load('hello.graphml')\n",
    "    \n",
    "    #slice1.get_node(name='Node1').set_site('STAR')\n",
    "    \n",
    "    #slice1.get_node(name='Node1').set_site('STAR')\n",
    "    \n",
    "    #print(f\"{slice1.get_node(name='Node1')}\")\n",
    "    slice1.submit()\n",
    "except Exception as e:\n",
    "    print(f\"Exception: {e}\")\n",
    "    traceback.print_exc()\n"
   ]
  },
  {
   "cell_type": "markdown",
   "metadata": {},
   "source": [
    "## Step 5: Observe the Slice's Attributes\n",
    "\n",
    "### Print the slice "
   ]
  },
  {
   "cell_type": "code",
   "execution_count": 4,
   "metadata": {},
   "outputs": [
    {
     "name": "stdout",
     "output_type": "stream",
     "text": [
      "---------------  ------------------------------------\n",
      "Slice Name       MySlice\n",
      "Slice ID         1eb88eb6-f5cb-47ee-ba2d-8a70dcbf6813\n",
      "Slice State      StableOK\n",
      "Lease End (UTC)  2022-07-18 13:24:49 +0000\n",
      "---------------  ------------------------------------\n"
     ]
    }
   ],
   "source": [
    "try:\n",
    "    print(f\"{slice}\")\n",
    "except Exception as e:\n",
    "    print(f\"Exception: {e}\")"
   ]
  },
  {
   "cell_type": "markdown",
   "metadata": {
    "tags": []
   },
   "source": [
    "### Print the node\n",
    "\n",
    "Each node in the slice has a set of get functions that return the node's attributes."
   ]
  },
  {
   "cell_type": "code",
   "execution_count": 5,
   "metadata": {},
   "outputs": [
    {
     "name": "stdout",
     "output_type": "stream",
     "text": [
      "-----------------  ---------------------------------------------------------------------------------------------------------------------------------------------------\n",
      "ID                 20bcbd8c-7a54-4f2d-bdb7-a1f12edc6d78\n",
      "Name               Node1\n",
      "Cores              2\n",
      "RAM                8\n",
      "Disk               10\n",
      "Image              default_rocky_8\n",
      "Image Type         qcow2\n",
      "Host               mich-w3.fabric-testbed.net\n",
      "Site               MICH\n",
      "Management IP      2607:f018:110:11:f816:3eff:fea2:9b4\n",
      "Reservation State  Active\n",
      "Error Message\n",
      "SSH Command        ssh -i /Users/pruth/work/fabric_config/slice-private-key -J pruth_0031379841@bastion-1.fabric-testbed.net rocky@2607:f018:110:11:f816:3eff:fea2:9b4\n",
      "-----------------  ---------------------------------------------------------------------------------------------------------------------------------------------------\n"
     ]
    }
   ],
   "source": [
    "try:\n",
    "    for node in slice.get_nodes():\n",
    "        print(f\"{node}\")\n",
    "except Exception as e:\n",
    "    print(f\"Exception: {e}\")"
   ]
  },
  {
   "cell_type": "markdown",
   "metadata": {
    "tags": []
   },
   "source": [
    "## Step 6: Run the Experiment\n",
    "\n",
    "Most experiments will require automated configuration and execution. You can use the fablib library to execute arbitrary commands on your node. \n",
    "\n",
    "The following code demonstrates how to use fablib to execute a \"Hello, FABRIC\" bash script. The library uses the bastion and VM keys defined at the top of this notebook to jump through the bastion host and execute the script."
   ]
  },
  {
   "cell_type": "code",
   "execution_count": 6,
   "metadata": {},
   "outputs": [
    {
     "name": "stdout",
     "output_type": "stream",
     "text": [
      "Hello, FABRIC from node 20bcbd8c-7a54-4f2d-bdb7-a1f12edc6d78-node1\n",
      "\n"
     ]
    }
   ],
   "source": [
    "try:\n",
    "    for node in slice.get_nodes():\n",
    "        stdout, stderr = node.execute('echo Hello, FABRIC from node `hostname -s`')\n",
    "        print(stdout)\n",
    "except Exception as e:\n",
    "    print(f\"Exception: {e}\")"
   ]
  },
  {
   "cell_type": "markdown",
   "metadata": {
    "tags": []
   },
   "source": [
    "## Step 7: Delete the Slice\n",
    "\n",
    "Please delete your slice when you are done with your experiment."
   ]
  },
  {
   "cell_type": "code",
   "execution_count": null,
   "metadata": {},
   "outputs": [],
   "source": [
    "try:\n",
    "    slice.delete()\n",
    "except Exception as e:\n",
    "    print(f\"Exception: {e}\")"
   ]
  },
  {
   "cell_type": "code",
   "execution_count": null,
   "metadata": {},
   "outputs": [],
   "source": []
  }
 ],
 "metadata": {
  "kernelspec": {
   "display_name": "Python 3 (ipykernel)",
   "language": "python",
   "name": "python3"
  },
  "language_info": {
   "codemirror_mode": {
    "name": "ipython",
    "version": 3
   },
   "file_extension": ".py",
   "mimetype": "text/x-python",
   "name": "python",
   "nbconvert_exporter": "python",
   "pygments_lexer": "ipython3",
   "version": "3.9.2"
  }
 },
 "nbformat": 4,
 "nbformat_minor": 4
}
