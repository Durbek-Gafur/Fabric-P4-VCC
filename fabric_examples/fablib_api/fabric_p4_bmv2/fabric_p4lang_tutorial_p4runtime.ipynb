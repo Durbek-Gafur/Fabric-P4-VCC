{
 "cells": [
  {
   "cell_type": "markdown",
   "metadata": {},
   "source": [
    "# P4Lang Tutorials of FABRIC\n",
    "\n",
    "This notebook walks the user through setting up a FABRIC eperiment that is suitiable for completing the P4 tutorials created by [P4Lang](https://github.com/p4lang/tutorials). The tutorials were origianlly designed to use a mininet topology. This example replaces the mininet topology with a FABRIC experiemnt topology that may span multiple sites across the FABRIC testbed.\n",
    "\n",
    "Additional resources:\n",
    "- [FABRIC Knowledge Base](https://learn.fabric-testbed.net/)\n",
    "- [FABRIC Forums](https://learn.fabric-testbed.net/forums/)\n",
    "- [P4Lang Tutorials](https://github.com/p4lang/tutorials)\n",
    "- [P4Lang YouTube Presentations](https://www.youtube.com/channel/UCOQAFkDKucJWr-KafdJsdIQ)"
   ]
  },
  {
   "cell_type": "code",
   "execution_count": 64,
   "metadata": {},
   "outputs": [],
   "source": [
    " import os\n",
    "\n",
    "# If you are using the FABRIC JupyterHub, the following three evnrionment vars\n",
    "# were automatically provided when you logged in.\n",
    "#os.environ['FABRIC_CREDMGR_HOST']='cm.fabric-testbed.net'\n",
    "#os.environ['FABRIC_ORCHESTRATOR_HOST']='orchestrator.fabric-testbed.net'\n",
    "#os.environ['FABRIC_TOKEN_LOCATION']=os.environ['HOME']+'/work/fabric_token.json'\n",
    "\n",
    "# Bastion IPs\n",
    "os.environ['FABRIC_BASTION_HOST'] = 'bastion-1.fabric-testbed.net'\n",
    "\n",
    "# Set your Bastion username and private key\n",
    "os.environ['FABRIC_BASTION_USERNAME']='minawm_0041350787'\n",
    "os.environ['FABRIC_BASTION_KEY_LOCATION']=os.environ['HOME']+'/work/Mina_Bastion_Key2' #'id_rsa_fabric'\n",
    "\n",
    "# Set the keypair FABRIC will install in your slice. \n",
    "os.environ['FABRIC_SLICE_PRIVATE_KEY_FILE']=os.environ['HOME']+'/.ssh/id_rsa'\n",
    "os.environ['FABRIC_SLICE_PUBLIC_KEY_FILE']=os.environ['HOME']+'/.ssh/id_rsa.pub'\n",
    "\n",
    "# If your slice private key uses a passphrase, set the passphrase\n",
    "#from getpass import getpass\n",
    "#print('Please input private key passphrase. Press enter for no passphrase.')\n",
    "#os.environ['FABRIC_SLICE_PRIVATE_KEY_PASSPHRASE']=getpass()"
   ]
  },
  {
   "cell_type": "markdown",
   "metadata": {},
   "source": [
    "## Basic FABRIC Slice Configuration"
   ]
  },
  {
   "cell_type": "code",
   "execution_count": 65,
   "metadata": {},
   "outputs": [],
   "source": [
    "import json\n",
    "import traceback\n",
    "from fabrictestbed_extensions.fablib.fablib import fablib"
   ]
  },
  {
   "cell_type": "code",
   "execution_count": 66,
   "metadata": {},
   "outputs": [
    {
     "name": "stdout",
     "output_type": "stream",
     "text": [
      "Available Resources: Name      CPUs  Cores    RAM (G)    Disk (G)       Basic (100 Gbps NIC)    ConnectX-6 (100 Gbps x2 NIC)    ConnectX-5 (25 Gbps x2 NIC)    P4510 (NVMe 1TB)    Tesla T4 (GPU)    RTX6000 (GPU)\n",
      "------  ------  -------  ---------  -------------  ----------------------  ------------------------------  -----------------------------  ------------------  ----------------  ---------------\n",
      "TACC        10  320/320  2560/2560  116400/116400  635/635                 2/2                             4/4                            16/16               4/4               6/6\n",
      "UTAH        10  318/320  2552/2560  116390/116400  635/635                 2/2                             4/4                            16/16               4/4               5/5\n",
      "WASH         6  192/192  1536/1536  60600/60600    381/381                 2/2                             2/2                            10/10               2/2               3/3\n",
      "MICH         6  192/192  1536/1536  60600/60600    381/381                 2/2                             2/2                            10/10               2/2               3/3\n",
      "SALT         6  192/192  1536/1536  60600/60600    381/381                 2/2                             2/2                            10/10               2/2               3/3\n",
      "STAR        12  380/384  3056/3072  121160/121200  760/762                 2/2                             6/6                            20/20               6/6               6/6\n",
      "NCSA         6  192/192  1536/1536  60600/60600    381/381                 2/2                             2/2                            10/10               2/2               3/3\n",
      "MAX         10  316/320  2544/2560  116380/116400  633/635                 2/2                             4/4                            16/16               4/4               6/6\n",
      "DALL         6  192/192  1536/1536  60600/60600    381/381                 2/2                             2/2                            10/10               2/2               3/3\n",
      "MASS         0  0/0      0/0        0/0            0/0                     0/0                             0/0                            0/0                 0/0               0/0\n",
      "Error: 'Resources' object has no attribute 'draw'\n"
     ]
    }
   ],
   "source": [
    "try:\n",
    "    available_resources = fablib.get_available_resources()\n",
    "    print(f\"Available Resources: {available_resources}\")\n",
    "    available_resources.draw()\n",
    "except Exception as e:\n",
    "    print(f\"Error: {e}\")"
   ]
  },
  {
   "cell_type": "markdown",
   "metadata": {
    "tags": []
   },
   "source": [
    "## Configure Slice Parameters\n",
    "\n",
    "This section builds the experiment slice \n",
    "\n",
    "<img src=\"figs/fabric_slice.png\" width=\"800\"/>\n",
    "\n"
   ]
  },
  {
   "cell_type": "code",
   "execution_count": 67,
   "metadata": {},
   "outputs": [],
   "source": [
    "# Slice \n",
    "slice_name = 'P4Lang_Tutorial'\n",
    "\n",
    "# Switches\n",
    "s1_name = \"s1\"\n",
    "s2_name = \"s2\"\n",
    "s3_name = \"s3\"\n",
    "\n",
    "switch_cores = 2\n",
    "switch_ram = 8\n",
    "switch_disk = 40\n",
    "\n",
    "# Hosts\n",
    "h1_name = \"h1\"\n",
    "h2_name = \"h2\"\n",
    "h3_name = \"h3\"\n",
    "\n",
    "h1_ip=\"10.0.1.1\"\n",
    "h2_ip=\"10.0.2.2\"\n",
    "h3_ip=\"10.0.3.3\"\n",
    "\n",
    "host_cores = 2\n",
    "host_ram = 8\n",
    "host_disk = 10\n",
    "# Sites\n",
    "site_1 = 'MICH' # 'SALT' # 'NCSA' # s'WASH' # 'MAX' # 'STAR' # 'NCSA' # 'MAX' # 'UTAH' # 'DALL' # 'TACC' # 'MAX'\n",
    "site_2 = 'MICH' # 'SALT' # 'NCSA' # s'WASH' # 'MAX' # 'STAR' # 'NCSA' # 'MAX' # 'UTAH' # 'DALL' # 'TACC' # 'MAX'\n",
    "site_3 = 'MICH' # 'SALT' # 'NCSA' # s'WASH' # 'MAX' # 'STAR' # 'NCSA' # 'MAX' # 'UTAH' # 'DALL' # 'TACC' # 'MAX' #'NCSA' #'STAR' #'TACC' #'STAR' #'NCSA' #'UTAH'\n",
    "\n",
    "net_h1_name = 'net_h1'\n",
    "net_h2_name = 'net_h2'\n",
    "net_h3_name = 'net_h3'\n",
    "\n",
    "net_s1_s2_name = 'net_s1_s2'\n",
    "net_s2_s3_name = 'net_s2_s3'\n",
    "net_s1_s3_name = 'net_s1_s3'\n",
    "\n",
    "# All node properties\n",
    "#username = 'ubuntu'\n",
    "image = 'default_ubuntu_20'\n",
    "vlan = '1000'\n",
    "#image_type = 'qcow2'\n",
    "\n"
   ]
  },
  {
   "cell_type": "markdown",
   "metadata": {},
   "source": [
    "### Create the Slice"
   ]
  },
  {
   "cell_type": "code",
   "execution_count": 68,
   "metadata": {
    "scrolled": true
   },
   "outputs": [
    {
     "name": "stdout",
     "output_type": "stream",
     "text": [
      "Waiting for slice .............. Slice state: StableOK\n",
      "Waiting for ssh in slice ..... ssh successful\n",
      "Running post boot config ... Done!\n"
     ]
    }
   ],
   "source": [
    "try:\n",
    "    #Create Slice\n",
    "    slice = fablib.new_slice(name=slice_name)\n",
    "    \n",
    "    # Add switch node s1\n",
    "    s1 = slice.add_node(name=s1_name, site=site_1)\n",
    "    s1.set_capacities(cores=switch_cores, ram=switch_ram, disk=switch_disk)\n",
    "    s1.set_image(image)\n",
    "    [s1_iface_local] = s1.add_component(model='NIC_Basic', name=\"s1_local_nic\").get_interfaces()\n",
    "    [s1_iface_to_s2, s1_iface_to_s3] = s1.add_component(model='NIC_ConnectX_6', name=\"s1_switch_nic\").get_interfaces()\n",
    "    s1_iface_to_s2.set_vlan(vlan=vlan)\n",
    "    s1_iface_to_s3.set_vlan(vlan=vlan)\n",
    "\n",
    "    # Add switch node s2\n",
    "    s2 = slice.add_node(name=s2_name, site=site_2)\n",
    "    s2.set_capacities(cores=switch_cores, ram=switch_ram, disk=switch_disk)\n",
    "    s2.set_image(image)\n",
    "    [s2_iface_local] = s2.add_component(model='NIC_Basic', name=\"s2_local_nic\").get_interfaces()\n",
    "    [s2_iface_to_s1, s2_iface_to_s3] = s2.add_component(model='NIC_ConnectX_5', name=\"s2_switch_nic\").get_interfaces()\n",
    "    s2_iface_to_s1.set_vlan(vlan=vlan)\n",
    "    s2_iface_to_s3.set_vlan(vlan=vlan)\n",
    "   \n",
    "    # Add switch node s3\n",
    "    s3 = slice.add_node(name=s3_name, site=site_3)\n",
    "    s3.set_capacities(cores=switch_cores, ram=switch_ram, disk=switch_disk)\n",
    "    s3.set_image(image)\n",
    "    [s3_iface_local] = s3.add_component(model='NIC_Basic', name=\"s3_local_nic\").get_interfaces()\n",
    "    [s3_iface_to_s1, s3_iface_to_s2] = s3.add_component(model='NIC_ConnectX_5', name=\"s3_switch_nic\").get_interfaces()\n",
    "    s3_iface_to_s1.set_vlan(vlan=vlan)\n",
    "    s3_iface_to_s2.set_vlan(vlan=vlan)\n",
    "    \n",
    "    # Add host node h1\n",
    "    h1 = slice.add_node(name=h1_name, site=site_1)\n",
    "    h1.set_capacities(cores=host_cores, ram=host_ram, disk=host_disk)\n",
    "    h1.set_image(image)\n",
    "    [h1_iface] = h1.add_component(model='NIC_Basic', name=\"h1_nic\").get_interfaces()\n",
    "    \n",
    "    # Add host node h2\n",
    "    h2 = slice.add_node(name=h2_name, site=site_2)\n",
    "    h2.set_capacities(cores=host_cores, ram=host_ram, disk=host_disk)\n",
    "    h2.set_image(image)\n",
    "    [h2_iface] = h2.add_component(model='NIC_Basic', name=\"h2_nic\").get_interfaces()\n",
    " \n",
    "    # Add host node h3\n",
    "    h3 = slice.add_node(name=h3_name, site=site_3)\n",
    "    h3.set_capacities(cores=host_cores, ram=host_ram, disk=host_disk)\n",
    "    h3.set_image(image)\n",
    "    [h3_iface] = h3.add_component(model='NIC_Basic', name=\"h3_nic\").get_interfaces()\n",
    "    \n",
    "    #Add swtich networks\n",
    "    switch_net1 = slice.add_l2network(name=net_s1_s2_name, interfaces=[s1_iface_to_s2, s2_iface_to_s1])\n",
    "    swtich_net2 = slice.add_l2network(name=net_s2_s3_name, interfaces=[s2_iface_to_s3, s3_iface_to_s2])\n",
    "    swtich_net3 = slice.add_l2network(name=net_s1_s3_name, interfaces=[s3_iface_to_s1, s1_iface_to_s3])\n",
    "\n",
    "    #Add host networks \n",
    "    host_net1 = slice.add_l2network(name=net_h1_name, interfaces=[s1_iface_local, h1_iface])\n",
    "    host_net2 = slice.add_l2network(name=net_h2_name, interfaces=[s2_iface_local, h2_iface])\n",
    "    host_net3 = slice.add_l2network(name=net_h3_name, interfaces=[s3_iface_local, h3_iface])\n",
    "    \n",
    "    #Submit Slice Request\n",
    "    slice.submit() #(wait_progress=True)\n",
    "except Exception as e:\n",
    "    print(f\"Error: {e}\")\n",
    "    traceback.print_exc()\n",
    "    "
   ]
  },
  {
   "cell_type": "markdown",
   "metadata": {},
   "source": [
    "# timeout needs to be extended"
   ]
  },
  {
   "cell_type": "markdown",
   "metadata": {
    "tags": []
   },
   "source": [
    "## Get the Slice"
   ]
  },
  {
   "cell_type": "code",
   "execution_count": 69,
   "metadata": {
    "tags": []
   },
   "outputs": [
    {
     "name": "stdout",
     "output_type": "stream",
     "text": [
      "Node:\n",
      "   Name              : s1\n",
      "   Cores             : 2\n",
      "   RAM               : 8\n",
      "   Disk              : 100\n",
      "   Image             : default_ubuntu_20\n",
      "   Image Type        : qcow2\n",
      "   Host              : mich-w2.fabric-testbed.net\n",
      "   Site              : MICH\n",
      "   Management IP     : 2607:f018:110:11:f816:3eff:fe5e:9f0a\n",
      "   Reservation ID    : b65767be-6765-4eae-9734-7f122c5e237b\n",
      "   Reservation State : Active\n",
      "   SSH Command       : ssh -i /home/fabric/.ssh/id_rsa -J minawm_0041350787@bastion-1.fabric-testbed.net ubuntu@2607:f018:110:11:f816:3eff:fe5e:9f0a\n",
      "   Components        :  \n",
      "      Name             : s1-s1_switch_nic\n",
      "      Details          : Mellanox ConnectX-6 VPI MCX653 dual port 100Gbps\n",
      "      Disk (G)         : 0\n",
      "      Units            : 1\n",
      "      PCI Address      : ['0000:a1:00.0', '0000:a1:00.1']\n",
      "      Model            : NIC_ConnectX_6\n",
      "      Type             : SmartNIC\n",
      "      Name             : s1-s1_local_nic\n",
      "      Details          : Mellanox ConnectX-6 VPI MCX653 dual port 100Gbps\n",
      "      Disk (G)         : 0\n",
      "      Units            : 1\n",
      "      PCI Address      : 0000:e2:00.3\n",
      "      Model            : NIC_Basic\n",
      "      Type             : SharedNIC\n",
      "   Interfaces        :  \n",
      "       Name                : s1-s1_switch_nic-p1\n",
      "           Bandwidth           : 100\n",
      "           VLAN                : 1000\n",
      "           MAC                 : 04:3f:72:fe:a9:f8\n",
      "           OS iface name       : ens7.1000\n",
      "       Name                : s1-s1_switch_nic-p2\n",
      "           Bandwidth           : 100\n",
      "           VLAN                : 1000\n",
      "           MAC                 : None\n",
      "           OS iface name       : None.1000\n",
      "       Name                : s1-s1_local_nic-p1\n",
      "           Bandwidth           : 0\n",
      "           VLAN                : None\n",
      "           MAC                 : 02:3c:4d:c1:f3:a1\n",
      "           OS iface name       : ens9\n",
      "Node:\n",
      "   Name              : s2\n",
      "   Cores             : 2\n",
      "   RAM               : 8\n",
      "   Disk              : 100\n",
      "   Image             : default_ubuntu_20\n",
      "   Image Type        : qcow2\n",
      "   Host              : mich-w3.fabric-testbed.net\n",
      "   Site              : MICH\n",
      "   Management IP     : 2607:f018:110:11:f816:3eff:fe52:16a4\n",
      "   Reservation ID    : ecd7c4eb-d61d-4875-b067-99ac5d673137\n",
      "   Reservation State : Active\n",
      "   SSH Command       : ssh -i /home/fabric/.ssh/id_rsa -J minawm_0041350787@bastion-1.fabric-testbed.net ubuntu@2607:f018:110:11:f816:3eff:fe52:16a4\n",
      "   Components        :  \n",
      "      Name             : s2-s2_switch_nic\n",
      "      Details          : Mellanox ConnectX-5 Dual Port 10/25GbE\n",
      "      Disk (G)         : 0\n",
      "      Units            : 1\n",
      "      PCI Address      : ['0000:41:00.0', '0000:41:00.1']\n",
      "      Model            : NIC_ConnectX_5\n",
      "      Type             : SmartNIC\n",
      "      Name             : s2-s2_local_nic\n",
      "      Details          : Mellanox ConnectX-6 VPI MCX653 dual port 100Gbps\n",
      "      Disk (G)         : 0\n",
      "      Units            : 1\n",
      "      PCI Address      : 0000:e2:0f.3\n",
      "      Model            : NIC_Basic\n",
      "      Type             : SharedNIC\n",
      "   Interfaces        :  \n",
      "       Name                : s2-s2_switch_nic-p1\n",
      "           Bandwidth           : 25\n",
      "           VLAN                : 1000\n",
      "           MAC                 : b8:ce:f6:19:09:32\n",
      "           OS iface name       : ens7.1000\n",
      "       Name                : s2-s2_switch_nic-p2\n",
      "           Bandwidth           : 25\n",
      "           VLAN                : 1000\n",
      "           MAC                 : b8:ce:f6:19:09:33\n",
      "           OS iface name       : ens8.1000\n",
      "       Name                : s2-s2_local_nic-p1\n",
      "           Bandwidth           : 0\n",
      "           VLAN                : None\n",
      "           MAC                 : 02:f4:1e:c2:ca:7e\n",
      "           OS iface name       : ens9\n",
      "Node:\n",
      "   Name              : s3\n",
      "   Cores             : 2\n",
      "   RAM               : 8\n",
      "   Disk              : 100\n",
      "   Image             : default_ubuntu_20\n",
      "   Image Type        : qcow2\n",
      "   Host              : mich-w3.fabric-testbed.net\n",
      "   Site              : MICH\n",
      "   Management IP     : 2607:f018:110:11:f816:3eff:feae:4640\n",
      "   Reservation ID    : fecc13bf-33aa-4df6-8b74-4cec01c18b66\n",
      "   Reservation State : Active\n",
      "   SSH Command       : ssh -i /home/fabric/.ssh/id_rsa -J minawm_0041350787@bastion-1.fabric-testbed.net ubuntu@2607:f018:110:11:f816:3eff:feae:4640\n",
      "   Components        :  \n",
      "      Name             : s3-s3_switch_nic\n",
      "      Details          : Mellanox ConnectX-5 Dual Port 10/25GbE\n",
      "      Disk (G)         : 0\n",
      "      Units            : 1\n",
      "      PCI Address      : ['0000:a1:00.0', '0000:a1:00.1']\n",
      "      Model            : NIC_ConnectX_5\n",
      "      Type             : SmartNIC\n",
      "      Name             : s3-s3_local_nic\n",
      "      Details          : Mellanox ConnectX-6 VPI MCX653 dual port 100Gbps\n",
      "      Disk (G)         : 0\n",
      "      Units            : 1\n",
      "      PCI Address      : 0000:e2:08.2\n",
      "      Model            : NIC_Basic\n",
      "      Type             : SharedNIC\n",
      "   Interfaces        :  \n",
      "       Name                : s3-s3_switch_nic-p1\n",
      "           Bandwidth           : 25\n",
      "           VLAN                : 1000\n",
      "           MAC                 : None\n",
      "           OS iface name       : None.1000\n",
      "       Name                : s3-s3_switch_nic-p2\n",
      "           Bandwidth           : 25\n",
      "           VLAN                : 1000\n",
      "           MAC                 : b8:ce:f6:18:fd:4f\n",
      "           OS iface name       : ens9.1000\n",
      "       Name                : s3-s3_local_nic-p1\n",
      "           Bandwidth           : 0\n",
      "           VLAN                : None\n",
      "           MAC                 : 06:e4:7f:53:21:7e\n",
      "           OS iface name       : ens7\n",
      "Node:\n",
      "   Name              : h1\n",
      "   Cores             : 2\n",
      "   RAM               : 8\n",
      "   Disk              : 10\n",
      "   Image             : default_ubuntu_20\n",
      "   Image Type        : qcow2\n",
      "   Host              : mich-w3.fabric-testbed.net\n",
      "   Site              : MICH\n",
      "   Management IP     : 2607:f018:110:11:f816:3eff:fe77:4e30\n",
      "   Reservation ID    : 23ae0fec-6c6a-467e-94b6-8b40228c639b\n",
      "   Reservation State : Active\n",
      "   SSH Command       : ssh -i /home/fabric/.ssh/id_rsa -J minawm_0041350787@bastion-1.fabric-testbed.net ubuntu@2607:f018:110:11:f816:3eff:fe77:4e30\n",
      "   Components        :  \n",
      "      Name             : h1-h1_nic\n",
      "      Details          : Mellanox ConnectX-6 VPI MCX653 dual port 100Gbps\n",
      "      Disk (G)         : 0\n",
      "      Units            : 1\n",
      "      PCI Address      : 0000:e2:06.3\n",
      "      Model            : NIC_Basic\n",
      "      Type             : SharedNIC\n",
      "   Interfaces        :  \n",
      "       Name                : h1-h1_nic-p1\n",
      "           Bandwidth           : 0\n",
      "           VLAN                : None\n",
      "           MAC                 : 06:f9:69:42:68:f1\n",
      "           OS iface name       : ens7\n",
      "Node:\n",
      "   Name              : h2\n",
      "   Cores             : 2\n",
      "   RAM               : 8\n",
      "   Disk              : 10\n",
      "   Image             : default_ubuntu_20\n",
      "   Image Type        : qcow2\n",
      "   Host              : mich-w3.fabric-testbed.net\n",
      "   Site              : MICH\n",
      "   Management IP     : 2607:f018:110:11:f816:3eff:fe78:9654\n",
      "   Reservation ID    : 581ead1c-9230-4233-9e4d-2a5e0906807d\n",
      "   Reservation State : Active\n",
      "   SSH Command       : ssh -i /home/fabric/.ssh/id_rsa -J minawm_0041350787@bastion-1.fabric-testbed.net ubuntu@2607:f018:110:11:f816:3eff:fe78:9654\n",
      "   Components        :  \n",
      "      Name             : h2-h2_nic\n",
      "      Details          : Mellanox ConnectX-6 VPI MCX653 dual port 100Gbps\n",
      "      Disk (G)         : 0\n",
      "      Units            : 1\n",
      "      PCI Address      : 0000:e2:0b.0\n",
      "      Model            : NIC_Basic\n",
      "      Type             : SharedNIC\n",
      "   Interfaces        :  \n",
      "       Name                : h2-h2_nic-p1\n",
      "           Bandwidth           : 0\n",
      "           VLAN                : None\n",
      "           MAC                 : 0a:3c:a2:3e:7a:06\n",
      "           OS iface name       : ens7\n",
      "Node:\n",
      "   Name              : h3\n",
      "   Cores             : 2\n",
      "   RAM               : 8\n",
      "   Disk              : 10\n",
      "   Image             : default_ubuntu_20\n",
      "   Image Type        : qcow2\n",
      "   Host              : mich-w3.fabric-testbed.net\n",
      "   Site              : MICH\n",
      "   Management IP     : 2607:f018:110:11:f816:3eff:fe74:7cf6\n",
      "   Reservation ID    : 7610d6ab-0155-465f-83e7-5a0f3fe0973c\n",
      "   Reservation State : Active\n",
      "   SSH Command       : ssh -i /home/fabric/.ssh/id_rsa -J minawm_0041350787@bastion-1.fabric-testbed.net ubuntu@2607:f018:110:11:f816:3eff:fe74:7cf6\n",
      "   Components        :  \n",
      "      Name             : h3-h3_nic\n",
      "      Details          : Mellanox ConnectX-6 VPI MCX653 dual port 100Gbps\n",
      "      Disk (G)         : 0\n",
      "      Units            : 1\n",
      "      PCI Address      : 0000:e2:03.5\n",
      "      Model            : NIC_Basic\n",
      "      Type             : SharedNIC\n",
      "   Interfaces        :  \n",
      "       Name                : h3-h3_nic-p1\n",
      "           Bandwidth           : 0\n",
      "           VLAN                : None\n",
      "           MAC                 : 0a:5d:dd:f9:6e:a5\n",
      "           OS iface name       : ens7\n",
      "Network:\n",
      "    Name:            net_s1_s2\n",
      "Network:\n",
      "    Name:            net_s2_s3\n",
      "Network:\n",
      "    Name:            net_s1_s3\n",
      "Network:\n",
      "    Name:            net_h1\n",
      "Network:\n",
      "    Name:            net_h2\n",
      "Network:\n",
      "    Name:            net_h3\n",
      "Interface Map: {'net_s1_s2': {'s1': {'ifname': 'ens7', 'mac': '04:3f:72:fe:a9:f8'}, 's2': {'ifname': 'ens7', 'mac': 'b8:ce:f6:19:09:32'}}, 'net_s2_s3': {'s2': {'ifname': 'ens8', 'mac': 'b8:ce:f6:19:09:33'}, 's3': {'ifname': 'ens9', 'mac': 'b8:ce:f6:18:fd:4f'}}, 'net_s1_s3': {'s1': None, 's3': None}, 'net_h1': {'s1': {'ifname': 'ens9', 'mac': '02:3c:4d:c1:f3:a1'}, 'h1': {'ifname': 'ens7', 'mac': '06:f9:69:42:68:f1'}}, 'net_h2': {'s2': {'ifname': 'ens9', 'mac': '02:f4:1e:c2:ca:7e'}, 'h2': {'ifname': 'ens7', 'mac': '0a:3c:a2:3e:7a:06'}}, 'net_h3': {'s3': {'ifname': 'ens7', 'mac': '06:e4:7f:53:21:7e'}, 'h3': {'ifname': 'ens7', 'mac': '0a:5d:dd:f9:6e:a5'}}}\n"
     ]
    }
   ],
   "source": [
    "try:\n",
    "    slice = fablib.get_slice(name=slice_name)\n",
    "    for node in slice.get_nodes():\n",
    "        print(\"Node:\")\n",
    "        print(f\"   Name              : {node.get_name()}\")\n",
    "        print(f\"   Cores             : {node.get_cores()}\")\n",
    "        print(f\"   RAM               : {node.get_ram()}\")\n",
    "        print(f\"   Disk              : {node.get_disk()}\")\n",
    "        print(f\"   Image             : {node.get_image()}\")\n",
    "        print(f\"   Image Type        : {node.get_image_type()}\")\n",
    "        print(f\"   Host              : {node.get_host()}\")\n",
    "        print(f\"   Site              : {node.get_site()}\")\n",
    "        print(f\"   Management IP     : {node.get_management_ip()}\")\n",
    "        print(f\"   Reservation ID    : {node.get_reservation_id()}\")\n",
    "        print(f\"   Reservation State : {node.get_reservation_state()}\")\n",
    "        print(f\"   SSH Command       : {node.get_ssh_command()}\")\n",
    "        print(f\"   Components        :  \")\n",
    "        for component in node.get_components():\n",
    "            print(f\"      Name             : {component.get_name()}\")\n",
    "            print(f\"      Details          : {component.get_details()}\")\n",
    "            print(f\"      Disk (G)         : {component.get_disk()}\")\n",
    "            print(f\"      Units            : {component.get_unit()}\")\n",
    "            print(f\"      PCI Address      : {component.get_pci_addr()}\")\n",
    "            print(f\"      Model            : {component.get_model()}\")\n",
    "            print(f\"      Type             : {component.get_type()}\") \n",
    "        print(f\"   Interfaces        :  \")\n",
    "        for interface in node.get_interfaces():\n",
    "            print(f\"       Name                : {interface.get_name()}\")\n",
    "            print(f\"           Bandwidth           : {interface.get_bandwidth()}\")\n",
    "            print(f\"           VLAN                : {interface.get_vlan()}\")  \n",
    "            print(f\"           MAC                 : {interface.get_mac()}\") \n",
    "            print(f\"           OS iface name       : {interface.get_os_interface()}\")\n",
    "    for network in slice.get_l2networks():\n",
    "        print(\"Network:\")\n",
    "        print(f\"    Name:            {network.get_name()}\")\n",
    "    print(f\"Interface Map: {slice.get_interface_map()}\")\n",
    "except Exception as e:\n",
    "    print(f\"Fail: {e}\")\n",
    "    traceback.print_exc()"
   ]
  },
  {
   "cell_type": "code",
   "execution_count": 74,
   "metadata": {},
   "outputs": [
    {
     "name": "stdout",
     "output_type": "stream",
     "text": [
      "IPv6\n",
      "IPv6\n",
      "IPv6\n",
      "IPv6\n",
      "IPv6\n",
      "IPv6\n"
     ]
    }
   ],
   "source": [
    "from ipaddress import ip_address, IPv4Address, IPv6Address, IPv4Network, IPv6Network\n",
    "\n",
    "s1_ip_type = \"\"\n",
    "s2_ip_type = \"\"\n",
    "s3_ip_type = \"\"\n",
    "h1_ip_type = \"\"\n",
    "h2_ip_type = \"\"\n",
    "h3_ip_type = \"\"\n",
    "\n",
    "try:\n",
    "    slice = fablib.get_slice(name=slice_name)\n",
    "    for node in slice.get_nodes():\n",
    "        if(node.get_name() == \"s1\"):\n",
    "            if type(ip_address(node.get_management_ip())) is IPv4Address:\n",
    "                s1_ip_type = \"IPv4\"\n",
    "            elif type(ip_address(node.get_management_ip())) is IPv6Address:\n",
    "                s1_ip_type = \"IPv6\"\n",
    "            else:\n",
    "                s1_ip_type = \"Unknown\"\n",
    "        if(node.get_name() == \"s2\"):\n",
    "            if type(ip_address(node.get_management_ip())) is IPv4Address:\n",
    "                s2_ip_type = \"IPv4\"\n",
    "            elif type(ip_address(node.get_management_ip())) is IPv6Address:\n",
    "                s2_ip_type = \"IPv6\"\n",
    "            else:\n",
    "                s2_ip_type = \"Unknown\"\n",
    "        if(node.get_name() == \"s3\"):\n",
    "            if type(ip_address(node.get_management_ip())) is IPv4Address:\n",
    "                s3_ip_type = \"IPv4\"\n",
    "            elif type(ip_address(node.get_management_ip())) is IPv6Address:\n",
    "                s3_ip_type = \"IPv6\"\n",
    "            else:\n",
    "                s3_ip_type = \"Unknown\"\n",
    "        if(node.get_name() == \"h1\"):\n",
    "            if type(ip_address(node.get_management_ip())) is IPv4Address:\n",
    "                h1_ip_type = \"IPv4\"\n",
    "            elif type(ip_address(node.get_management_ip())) is IPv6Address:\n",
    "                h1_ip_type = \"IPv6\"\n",
    "            else:\n",
    "                h1_ip_type = \"Unknown\"\n",
    "        if(node.get_name() == \"h2\"):\n",
    "            if type(ip_address(node.get_management_ip())) is IPv4Address:\n",
    "                h2_ip_type = \"IPv4\"\n",
    "            elif type(ip_address(node.get_management_ip())) is IPv6Address:\n",
    "                h2_ip_type = \"IPv6\"\n",
    "            else:\n",
    "                h2_ip_type = \"Unknown\"\n",
    "        if(node.get_name() == \"h3\"):\n",
    "            if type(ip_address(node.get_management_ip())) is IPv4Address:\n",
    "                h3_ip_type = \"IPv4\"\n",
    "            elif type(ip_address(node.get_management_ip())) is IPv6Address:\n",
    "                h3_ip_type = \"IPv6\"\n",
    "            else:\n",
    "                h3_ip_type = \"Unknown\"\n",
    "except Exception as e:\n",
    "    print(f\"Exception: {e}\")\n",
    "print(s1_ip_type)\n",
    "print(s2_ip_type)\n",
    "print(s3_ip_type)\n",
    "print(h1_ip_type)\n",
    "print(h2_ip_type)\n",
    "print(h3_ip_type)"
   ]
  },
  {
   "cell_type": "markdown",
   "metadata": {},
   "source": [
    "## Configure Nodes\n"
   ]
  },
  {
   "cell_type": "code",
   "execution_count": 91,
   "metadata": {},
   "outputs": [
    {
     "name": "stdout",
     "output_type": "stream",
     "text": [
      "stdout: \n",
      "stdout: \n",
      "stdout: \n"
     ]
    }
   ],
   "source": [
    "host_config_script_h1 = \"\"\n",
    "if(s1_ip_type == \"IPv4\"):\n",
    "    host_config_scrip_h1 = 'sudo apt-get update -qq && sudo apt-get install -qq -y python3-scapy && git clone https://github.com/p4lang/tutorials.git'\n",
    "else:\n",
    "    host_config_script_h1 = 'sudo apt-get update -qq && sudo apt-get install -qq -y python3-scapy && git config --global http.proxy \"socks5h://localhost:4567\" && git clone https://github.com/p4lang/tutorials.git'\n",
    "host_config_script_h2 = \"\"\n",
    "if(s1_ip_type == \"IPv4\"):\n",
    "    host_config_scrip_h2 = 'sudo apt-get update -qq && sudo apt-get install -qq -y python3-scapy && git clone https://github.com/p4lang/tutorials.git'\n",
    "else:\n",
    "    host_config_script_h2 = 'sudo apt-get update -qq && sudo apt-get install -qq -y python3-scapy && git config --global http.proxy \"socks5h://localhost:4567\" && git clone https://github.com/p4lang/tutorials.git'\n",
    "host_config_script_h3 = \"\"\n",
    "if(s1_ip_type == \"IPv4\"):\n",
    "    host_config_scrip_h3 = 'sudo apt-get update -qq && sudo apt-get install -qq -y python3-scapy && git clone https://github.com/p4lang/tutorials.git'\n",
    "else:\n",
    "    host_config_script_h3 = 'sudo apt-get update -qq && sudo apt-get install -qq -y python3-scapy && git config --global http.proxy \"socks5h://localhost:4567\" && git clone https://github.com/p4lang/tutorials.git'\n",
    "    \n",
    "try:\n",
    "    h1 = slice.get_node(name=h1_name)        \n",
    "    h1_os_iface = h1.get_interface(network_name=net_h1_name)\n",
    "#     iface1.set_ip(ip=h1_ip, cidr=\"24\")\n",
    "    h1_os_iface.set_ip(ip=h1_ip, cidr=\"24\")\n",
    "    \n",
    "    stdout, stderr = h1.execute(host_config_script_h1)\n",
    "    print(\"stdout: {}\".format(stdout))\n",
    "except Exception as e:\n",
    "    print(f\"Error: {e}\")\n",
    "    traceback.print_exc()\n",
    "    \n",
    "try:\n",
    "    h2 = slice.get_node(name=h2_name)\n",
    "    h2_os_iface = h2.get_interface(network_name=net_h2_name)\n",
    "    h2_os_iface.set_ip(ip=h2_ip, cidr=\"24\")\n",
    "    \n",
    "    \n",
    "    stdout, stderr = h2.execute(host_config_script_h2)\n",
    "    print(\"stdout: {}\".format(stdout))\n",
    "except Exception as e:\n",
    "    print(f\"Error: {e}\")\n",
    "    traceback.print_exc()\n",
    "    \n",
    "try:\n",
    "    h3 = slice.get_node(name=h3_name)\n",
    "    h3_os_iface = h3.get_interface(network_name=net_h3_name)\n",
    "    h3_os_iface.set_ip(ip=h3_ip, cidr=\"24\")\n",
    "    \n",
    "    stdout, stderr = h3.execute(host_config_script_h3)\n",
    "    print(\"stdout: {}\".format(stdout))\n",
    "except Exception as e:\n",
    "    print(f\"Error: {e}\")\n",
    "    traceback.print_exc()"
   ]
  },
  {
   "cell_type": "markdown",
   "metadata": {},
   "source": [
    "## Configure Switches\n",
    "\n",
    "Use ssh to configure the ifaces on the switches. This step requires testing the interfaces to figure out which interface is connected to which network.\n"
   ]
  },
  {
   "cell_type": "markdown",
   "metadata": {},
   "source": [
    "#### Setup P4 Docker\n",
    "\n"
   ]
  },
  {
   "cell_type": "markdown",
   "metadata": {},
   "source": [
    "Below are commands to let sudo work with the global proxy."
   ]
  },
  {
   "cell_type": "code",
   "execution_count": 76,
   "metadata": {},
   "outputs": [
    {
     "name": "stdout",
     "output_type": "stream",
     "text": [
      "stdout: ('', '')\n"
     ]
    }
   ],
   "source": [
    "try:\n",
    "    s1 = slice.get_node(name=s1_name)\n",
    "    s1_h1_os_iface = s1.get_interface(network_name=net_h1_name)\n",
    "    s1_s2_os_iface = s1.get_interface(network_name=net_s1_s2_name)\n",
    "    s1_s3_os_iface = s1.get_interface(network_name=net_s1_s3_name)\n",
    "    \n",
    "    file_attributes = s1.upload_file('scripts/router_setup_p4_bmv2_container.sh','router_setup_p4_bmv2_container.sh')\n",
    "    #print(\"file_attributes: {}\".format(file_attributes))\n",
    "\n",
    "    stdout = s1.execute(f\"chmod +x router_setup_p4_bmv2_container.sh sudo sh -c './router_setup_p4_bmv2_container.sh {s1_h1_os_iface.get_os_interface()} {s1_s2_os_iface.get_os_interface()} {s1_s3_os_iface.get_os_interface()} {s1_ip_type} > /tmp/script.log 2>&1'\")\n",
    "    print(\"stdout: {}\".format(stdout))\n",
    "\n",
    "except Exception as e:\n",
    "    print(f\"Error: {e}\")\n",
    "    traceback.print_exc()"
   ]
  },
  {
   "cell_type": "code",
   "execution_count": 80,
   "metadata": {},
   "outputs": [
    {
     "name": "stdout",
     "output_type": "stream",
     "text": [
      "stdout: ('', '')\n"
     ]
    }
   ],
   "source": [
    "try:\n",
    "    s2 = slice.get_node(name=s2_name)\n",
    "    s2_h2_os_iface = s2.get_interface(network_name=net_h2_name)\n",
    "    s2_s1_os_iface = s2.get_interface(network_name=net_s1_s2_name)\n",
    "    s2_s3_os_iface = s2.get_interface(network_name=net_s2_s3_name)\n",
    "    \n",
    "    file_attributes = s2.upload_file('scripts/router_setup_p4_bmv2_container.sh','router_setup_p4_bmv2_container.sh')\n",
    "    #print(\"file_attributes: {}\".format(file_attributes))\n",
    "\n",
    "    stdout = s2.execute(f\"chmod +x router_setup_p4_bmv2_container.sh && sudo sh -c './router_setup_p4_bmv2_container.sh {s2_h2_os_iface.get_os_interface()} {s2_s1_os_iface.get_os_interface()} {s2_s3_os_iface.get_os_interface()} {s2_ip_type} > /tmp/script.log 2>&1'\")\n",
    "    print(\"stdout: {}\".format(stdout))\n",
    "    \n",
    "except Exception as e:\n",
    "    print(f\"Error: {e}\")\n",
    "    traceback.print_exc() "
   ]
  },
  {
   "cell_type": "code",
   "execution_count": 81,
   "metadata": {},
   "outputs": [
    {
     "name": "stdout",
     "output_type": "stream",
     "text": [
      "stdout: ('', '')\n"
     ]
    }
   ],
   "source": [
    "try:\n",
    "    s3 = slice.get_node(name=s3_name)\n",
    "    s3_h3_os_iface = s3.get_interface(network_name=net_h3_name)\n",
    "    s3_s1_os_iface = s3.get_interface(network_name=net_s1_s3_name)\n",
    "    s3_s2_os_iface = s3.get_interface(network_name=net_s2_s3_name)\n",
    "     \n",
    "    file_attributes = s3.upload_file('scripts/router_setup_p4_bmv2_container.sh','router_setup_p4_bmv2_container.sh')\n",
    "    #print(\"file_attributes: {}\".format(file_attributes))\n",
    "\n",
    "    stdout = s3.execute(f\"chmod +x router_setup_p4_bmv2_container.sh && sudo sh -c './router_setup_p4_bmv2_container.sh {s3_h3_os_iface.get_os_interface()} {s3_s1_os_iface.get_os_interface()} {s3_s2_os_iface.get_os_interface()} {s3_ip_type} > /tmp/script.log 2>&1'\")\n",
    "    print(\"stdout: {}\".format(stdout))\n",
    "    \n",
    "except Exception as e:\n",
    "    print(f\"Error: {e}\")\n",
    "    traceback.print_exc() "
   ]
  },
  {
   "cell_type": "markdown",
   "metadata": {},
   "source": [
    "### Confgure P4 Switch Tables\n",
    "\n",
    "Edit sX_commands.txt to change the values"
   ]
  },
  {
   "cell_type": "code",
   "execution_count": 89,
   "metadata": {},
   "outputs": [
    {
     "name": "stdout",
     "output_type": "stream",
     "text": [
      "Swtitch Name        : s1\n",
      "Management IP    : 2607:f018:110:11:f816:3eff:fe5e:9f0a\n",
      "s1_commands.txt\n",
      "file_attributes: -rw-rw-r--   1 1000     1000          185 18 Mar 10:17 ?\n",
      "stdout: ('Obtaining JSON from switch...\\nDone\\nControl utility for runtime P4 table manipulation\\nRuntimeCmd: Setting default action of myTunnel_exact\\naction:              drop\\nruntime data:        \\nRuntimeCmd: Adding entry to exact match table myTunnel_exact\\nmatch key:           EXACT-00:01\\naction:              myTunnel_forward\\nruntime data:        00:01\\nInvalid table operation (DUPLICATE_ENTRY)\\nRuntimeCmd: Adding entry to exact match table myTunnel_exact\\nmatch key:           EXACT-00:02\\naction:              myTunnel_forward\\nruntime data:        00:02\\nInvalid table operation (DUPLICATE_ENTRY)\\nRuntimeCmd: Adding entry to exact match table myTunnel_exact\\nmatch key:           EXACT-00:03\\naction:              myTunnel_forward\\nruntime data:        00:03\\nInvalid table operation (DUPLICATE_ENTRY)\\nRuntimeCmd: \\n', '')\n",
      "Swtitch Name        : s2\n",
      "Management IP    : 2607:f018:110:11:f816:3eff:fe52:16a4\n",
      "s2_commands.txt\n",
      "file_attributes: -rw-rw-r--   1 1000     1000          185 18 Mar 10:17 ?\n",
      "stdout: ('Obtaining JSON from switch...\\nDone\\nControl utility for runtime P4 table manipulation\\nRuntimeCmd: Setting default action of myTunnel_exact\\naction:              drop\\nruntime data:        \\nRuntimeCmd: Adding entry to exact match table myTunnel_exact\\nmatch key:           EXACT-00:01\\naction:              myTunnel_forward\\nruntime data:        00:02\\nInvalid table operation (DUPLICATE_ENTRY)\\nRuntimeCmd: Adding entry to exact match table myTunnel_exact\\nmatch key:           EXACT-00:02\\naction:              myTunnel_forward\\nruntime data:        00:01\\nInvalid table operation (DUPLICATE_ENTRY)\\nRuntimeCmd: Adding entry to exact match table myTunnel_exact\\nmatch key:           EXACT-00:03\\naction:              myTunnel_forward\\nruntime data:        00:03\\nInvalid table operation (DUPLICATE_ENTRY)\\nRuntimeCmd: \\n', '')\n",
      "Swtitch Name        : s3\n",
      "Management IP    : 2607:f018:110:11:f816:3eff:feae:4640\n",
      "s3_commands.txt\n",
      "file_attributes: -rw-rw-r--   1 1000     1000          185 18 Mar 10:17 ?\n",
      "stdout: ('Obtaining JSON from switch...\\nDone\\nControl utility for runtime P4 table manipulation\\nRuntimeCmd: Setting default action of myTunnel_exact\\naction:              drop\\nruntime data:        \\nRuntimeCmd: Adding entry to exact match table myTunnel_exact\\nmatch key:           EXACT-00:01\\naction:              myTunnel_forward\\nruntime data:        00:02\\nInvalid table operation (DUPLICATE_ENTRY)\\nRuntimeCmd: Adding entry to exact match table myTunnel_exact\\nmatch key:           EXACT-00:02\\naction:              myTunnel_forward\\nruntime data:        00:03\\nInvalid table operation (DUPLICATE_ENTRY)\\nRuntimeCmd: Adding entry to exact match table myTunnel_exact\\nmatch key:           EXACT-00:03\\naction:              myTunnel_forward\\nruntime data:        00:01\\nInvalid table operation (DUPLICATE_ENTRY)\\nRuntimeCmd: \\n', '')\n"
     ]
    }
   ],
   "source": [
    "for switch_name in [s1_name, s2_name, s3_name]:\n",
    "    switch_node = slice.get_node(name=switch_name)\n",
    "    management_ip_switch = str(switch_node.get_management_ip())\n",
    "    print(\"Swtitch Name        : {}\".format(switch_node.get_name()))\n",
    "    print(\"Management IP    : {}\".format(management_ip_switch))\n",
    "    \n",
    "    \n",
    "    #Configure P4 Tables\n",
    "    cmd_file=f'{switch_name}_commands.txt'\n",
    "    print(cmd_file)\n",
    "    file_attributes = switch_node.upload_file(f'scripts/{cmd_file}',cmd_file)\n",
    "    print(\"file_attributes: {}\".format(file_attributes))\n",
    "\n",
    "    #stdout = execute_script(username, switch_node, f\"sudo sh -c 'cat {cmd_file} | docker exec -it fabric_p4 simple_switch_CLI  > /tmp/script.log 2>&1'\")\n",
    "    stdout = switch_node.execute(f\"sudo sh -c 'cat {cmd_file} | docker exec -i fabric_p4 simple_switch_CLI'\")\n",
    "    print(\"stdout: {}\".format(stdout))"
   ]
  },
  {
   "cell_type": "markdown",
   "metadata": {},
   "source": [
    "## The switches are now configured and running. Now we are going to send packets over the switches."
   ]
  },
  {
   "cell_type": "markdown",
   "metadata": {},
   "source": [
    "We are going to use `send.py` and `receive.py`. We are going to re-upload them to the servers and use them. Make sure to modify the interface names in the script accordingly."
   ]
  },
  {
   "cell_type": "code",
   "execution_count": 83,
   "metadata": {},
   "outputs": [
    {
     "data": {
      "text/plain": [
       "<SFTPAttributes: [ size=1744 uid=1000 gid=1000 mode=0o100664 atime=1647598647 mtime=1647598648 ]>"
      ]
     },
     "execution_count": 83,
     "metadata": {},
     "output_type": "execute_result"
    }
   ],
   "source": [
    "h1.upload_file('scripts/send.py', 'send.py')"
   ]
  },
  {
   "cell_type": "code",
   "execution_count": 84,
   "metadata": {},
   "outputs": [
    {
     "data": {
      "text/plain": [
       "<SFTPAttributes: [ size=1137 uid=1000 gid=1000 mode=0o100664 atime=1647598649 mtime=1647598649 ]>"
      ]
     },
     "execution_count": 84,
     "metadata": {},
     "output_type": "execute_result"
    }
   ],
   "source": [
    "h2.upload_file('scripts/receive.py', 'receive.py')"
   ]
  },
  {
   "cell_type": "code",
   "execution_count": 92,
   "metadata": {},
   "outputs": [
    {
     "data": {
      "text/plain": [
       "('', '')"
      ]
     },
     "execution_count": 92,
     "metadata": {},
     "output_type": "execute_result"
    }
   ],
   "source": [
    "h1.execute('sudo mv send.py tutorials/exercises/basic_tunnel/send_modified.py')"
   ]
  },
  {
   "cell_type": "code",
   "execution_count": 93,
   "metadata": {},
   "outputs": [
    {
     "data": {
      "text/plain": [
       "('', '')"
      ]
     },
     "execution_count": 93,
     "metadata": {},
     "output_type": "execute_result"
    }
   ],
   "source": [
    "h2.execute('sudo mv receive.py tutorials/exercises/basic_tunnel/receive_modified.py')"
   ]
  },
  {
   "cell_type": "markdown",
   "metadata": {},
   "source": [
    "## Below, we send a few packets."
   ]
  },
  {
   "cell_type": "code",
   "execution_count": 94,
   "metadata": {},
   "outputs": [
    {
     "data": {
      "text/plain": [
       "('', '')"
      ]
     },
     "execution_count": 94,
     "metadata": {},
     "output_type": "execute_result"
    }
   ],
   "source": [
    "h1.execute('tmux new -d \\'timeout 30 watch -n 5 sudo python3 tutorials/exercises/basic_tunnel/send_modified.py --dst_id 2 10.10.2.2 \"message100\"\\'')"
   ]
  },
  {
   "cell_type": "markdown",
   "metadata": {},
   "source": [
    "## And below we receive them."
   ]
  },
  {
   "cell_type": "code",
   "execution_count": 95,
   "metadata": {},
   "outputs": [
    {
     "name": "stdout",
     "output_type": "stream",
     "text": [
      "sniffing on ens7\n",
      "got a packet\n",
      "###[ Ethernet ]### \n",
      "  dst       = ff:ff:ff:ff:ff:ff\n",
      "  src       = 06:f9:69:42:68:f1\n",
      "  type      = 0x1212\n",
      "###[ MyTunnel ]### \n",
      "     pid       = 2048\n",
      "     dst_id    = 2\n",
      "###[ IP ]### \n",
      "        version   = 4\n",
      "        ihl       = 5\n",
      "        tos       = 0x0\n",
      "        len       = 30\n",
      "        id        = 1\n",
      "        flags     = \n",
      "        frag      = 0\n",
      "        ttl       = 64\n",
      "        proto     = hopopt\n",
      "        chksum    = 0x5faf\n",
      "        src       = 10.20.5.17\n",
      "        dst       = 10.10.2.2\n",
      "        \\options   \\\n",
      "###[ Raw ]### \n",
      "           load      = 'message100'\n",
      "###[ Padding ]### \n",
      "              load      = '\\x00\\x00\\x00\\x00\\x00\\x00\\x00\\x00'\n",
      "\n",
      "got a packet\n",
      "###[ Ethernet ]### \n",
      "  dst       = ff:ff:ff:ff:ff:ff\n",
      "  src       = 06:f9:69:42:68:f1\n",
      "  type      = 0x1212\n",
      "###[ MyTunnel ]### \n",
      "     pid       = 2048\n",
      "     dst_id    = 2\n",
      "###[ IP ]### \n",
      "        version   = 4\n",
      "        ihl       = 5\n",
      "        tos       = 0x0\n",
      "        len       = 30\n",
      "        id        = 1\n",
      "        flags     = \n",
      "        frag      = 0\n",
      "        ttl       = 64\n",
      "        proto     = hopopt\n",
      "        chksum    = 0x5faf\n",
      "        src       = 10.20.5.17\n",
      "        dst       = 10.10.2.2\n",
      "        \\options   \\\n",
      "###[ Raw ]### \n",
      "           load      = 'message100'\n",
      "###[ Padding ]### \n",
      "              load      = '\\x00\\x00\\x00\\x00\\x00\\x00\\x00\\x00'\n",
      "\n",
      "got a packet\n",
      "###[ Ethernet ]### \n",
      "  dst       = ff:ff:ff:ff:ff:ff\n",
      "  src       = 06:f9:69:42:68:f1\n",
      "  type      = 0x1212\n",
      "###[ MyTunnel ]### \n",
      "     pid       = 2048\n",
      "     dst_id    = 2\n",
      "###[ IP ]### \n",
      "        version   = 4\n",
      "        ihl       = 5\n",
      "        tos       = 0x0\n",
      "        len       = 30\n",
      "        id        = 1\n",
      "        flags     = \n",
      "        frag      = 0\n",
      "        ttl       = 64\n",
      "        proto     = hopopt\n",
      "        chksum    = 0x5faf\n",
      "        src       = 10.20.5.17\n",
      "        dst       = 10.10.2.2\n",
      "        \\options   \\\n",
      "###[ Raw ]### \n",
      "           load      = 'message100'\n",
      "###[ Padding ]### \n",
      "              load      = '\\x00\\x00\\x00\\x00\\x00\\x00\\x00\\x00'\n",
      "\n",
      "got a packet\n",
      "###[ Ethernet ]### \n",
      "  dst       = ff:ff:ff:ff:ff:ff\n",
      "  src       = 06:f9:69:42:68:f1\n",
      "  type      = 0x1212\n",
      "###[ MyTunnel ]### \n",
      "     pid       = 2048\n",
      "     dst_id    = 2\n",
      "###[ IP ]### \n",
      "        version   = 4\n",
      "        ihl       = 5\n",
      "        tos       = 0x0\n",
      "        len       = 30\n",
      "        id        = 1\n",
      "        flags     = \n",
      "        frag      = 0\n",
      "        ttl       = 64\n",
      "        proto     = hopopt\n",
      "        chksum    = 0x5faf\n",
      "        src       = 10.20.5.17\n",
      "        dst       = 10.10.2.2\n",
      "        \\options   \\\n",
      "###[ Raw ]### \n",
      "           load      = 'message100'\n",
      "###[ Padding ]### \n",
      "              load      = '\\x00\\x00\\x00\\x00\\x00\\x00\\x00\\x00'\n",
      "\n",
      "got a packet\n",
      "###[ Ethernet ]### \n",
      "  dst       = ff:ff:ff:ff:ff:ff\n",
      "  src       = 06:f9:69:42:68:f1\n",
      "  type      = 0x1212\n",
      "###[ MyTunnel ]### \n",
      "     pid       = 2048\n",
      "     dst_id    = 2\n",
      "###[ IP ]### \n",
      "        version   = 4\n",
      "        ihl       = 5\n",
      "        tos       = 0x0\n",
      "        len       = 30\n",
      "        id        = 1\n",
      "        flags     = \n",
      "        frag      = 0\n",
      "        ttl       = 64\n",
      "        proto     = hopopt\n",
      "        chksum    = 0x5faf\n",
      "        src       = 10.20.5.17\n",
      "        dst       = 10.10.2.2\n",
      "        \\options   \\\n",
      "###[ Raw ]### \n",
      "           load      = 'message100'\n",
      "###[ Padding ]### \n",
      "              load      = '\\x00\\x00\\x00\\x00\\x00\\x00\\x00\\x00'\n",
      "\n",
      "\n"
     ]
    }
   ],
   "source": [
    "print(h2.execute('sudo timeout 30 sudo python3 tutorials/exercises/basic_tunnel/receive_modified.py')[0])"
   ]
  },
  {
   "cell_type": "markdown",
   "metadata": {},
   "source": [
    "## Delete Slice"
   ]
  },
  {
   "cell_type": "code",
   "execution_count": 96,
   "metadata": {},
   "outputs": [],
   "source": [
    "try:\n",
    "    slice = fablib.get_slice(name=slice_name)\n",
    "    slice.delete()\n",
    "except Exception as e:\n",
    "    print(f\"Fail: {e}\")\n",
    "    traceback.print_exc()"
   ]
  }
 ],
 "metadata": {
  "kernelspec": {
   "display_name": "Python 3 (ipykernel)",
   "language": "python",
   "name": "python3"
  },
  "language_info": {
   "codemirror_mode": {
    "name": "ipython",
    "version": 3
   },
   "file_extension": ".py",
   "mimetype": "text/x-python",
   "name": "python",
   "nbconvert_exporter": "python",
   "pygments_lexer": "ipython3",
   "version": "3.9.2"
  }
 },
 "nbformat": 4,
 "nbformat_minor": 4
}
