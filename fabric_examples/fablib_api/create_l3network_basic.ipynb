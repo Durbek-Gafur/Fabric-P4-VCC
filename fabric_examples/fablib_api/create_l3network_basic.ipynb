{
 "cells": [
  {
   "cell_type": "markdown",
   "metadata": {},
   "source": [
    "# This notebook shows how to use Orchestrator APIs for user experiments\n",
    "\n",
    "## Configure the Environment"
   ]
  },
  {
   "cell_type": "code",
   "execution_count": 5,
   "metadata": {},
   "outputs": [],
   "source": [
    "import os\n",
    "\n",
    "# If you are using the FABRIC JupyterHub, the following three evnrionment vars\n",
    "# were automatically provided when you logged in.\n",
    "#os.environ['FABRIC_CREDMGR_HOST']='cm.fabric-testbed.net'\n",
    "#os.environ['FABRIC_ORCHESTRATOR_HOST']='orchestrator.fabric-testbed.net'\n",
    "#os.environ['FABRIC_TOKEN_LOCATION']=os.environ['HOME']+'/work/fabric_token.json'\n",
    "\n",
    "# Bastion IPs\n",
    "os.environ['FABRIC_BASTION_HOST'] = 'bastion-1.fabric-testbed.net'\n",
    "\n",
    "# Set your Bastion username and private key\n",
    "os.environ['FABRIC_BASTION_USERNAME']='pruth_0031379841'\n",
    "os.environ['FABRIC_BASTION_KEY_LOCATION']=os.environ['HOME']+'/work/fabric_bastion_key'\n",
    "\n",
    "# Set the keypair FABRIC will install in your slice. \n",
    "os.environ['FABRIC_SLICE_PRIVATE_KEY_FILE']=os.environ['HOME']+'/.ssh/id_rsa'\n",
    "os.environ['FABRIC_SLICE_PUBLIC_KEY_FILE']=os.environ['HOME']+'/.ssh/id_rsa.pub'\n",
    "\n",
    "# If your slice private key uses a passphrase, set the passphrase\n",
    "#from getpass import getpass\n",
    "#print('Please input private key passphrase. Press enter for no passphrase.')\n",
    "#os.environ['FABRIC_SLICE_PRIVATE_KEY_PASSPHRASE']=getpass()"
   ]
  },
  {
   "cell_type": "markdown",
   "metadata": {},
   "source": [
    "## Setup the Experiment\n",
    "\n",
    "#### Import FABRIC API"
   ]
  },
  {
   "cell_type": "code",
   "execution_count": 6,
   "metadata": {},
   "outputs": [],
   "source": [
    "import json\n",
    "import traceback\n",
    "\n",
    "from fabrictestbed_extensions.fablib.fablib import fablib\n"
   ]
  },
  {
   "cell_type": "code",
   "execution_count": 7,
   "metadata": {},
   "outputs": [
    {
     "name": "stdout",
     "output_type": "stream",
     "text": [
      "Name      CPUs  Cores    RAM (G)    Disk (G)       Basic (100 Gbps NIC)    ConnectX-6 (100 Gbps x2 NIC)    ConnectX-5 (25 Gbps x2 NIC)    P4510 (NVMe 1TB)    Tesla T4 (GPU)    RTX6000 (GPU)\n",
      "------  ------  -------  ---------  -------------  ----------------------  ------------------------------  -----------------------------  ------------------  ----------------  ---------------\n",
      "TACC        10  316/320  2544/2560  116200/116400  635/635                 2/2                             4/4                            16/16               4/4               6/6\n",
      "UTAH        10  318/320  2552/2560  116390/116400  635/635                 2/2                             3/4                            16/16               4/4               5/5\n",
      "WASH         6  192/192  1536/1536  60600/60600    381/381                 2/2                             2/2                            10/10               2/2               3/3\n",
      "MICH         6  180/192  1488/1536  60450/60600    375/381                 1/2                             0/2                            10/10               2/2               3/3\n",
      "SALT         6  192/192  1536/1536  60600/60600    381/381                 2/2                             2/2                            10/10               2/2               3/3\n",
      "STAR        12  380/384  3056/3072  121160/121200  760/762                 2/2                             6/6                            20/20               6/6               6/6\n",
      "NCSA         6  192/192  1536/1536  60600/60600    381/381                 2/2                             2/2                            10/10               2/2               3/3\n",
      "MAX         10  312/320  2528/2560  116360/116400  633/635                 2/2                             3/4                            16/16               4/4               5/6\n",
      "DALL         6  192/192  1536/1536  60600/60600    381/381                 2/2                             2/2                            10/10               2/2               3/3\n",
      "MASS         0  0/0      0/0        0/0            0/0                     0/0                             0/0                            0/0                 0/0               0/0\n"
     ]
    }
   ],
   "source": [
    "try:\n",
    "    print(f\"{fablib.list_sites()}\")\n",
    "    #print(f\"{fablib.get_available_resources().get_topology()}\")\n",
    "\n",
    "except Exception as e:\n",
    "    print(f\"Exception: {e}\")\n",
    "    traceback.print_exc()\n"
   ]
  },
  {
   "cell_type": "code",
   "execution_count": 8,
   "metadata": {},
   "outputs": [
    {
     "name": "stdout",
     "output_type": "stream",
     "text": [
      "----------------------------  --------------------------------\n",
      "Name                          TACC\n",
      "CPUs                          10\n",
      "Cores ()                      316/320\n",
      "RAM (G)                       2544/2560\n",
      "Disk (G)                      116200/116400\n",
      "Worker Count                  5\n",
      "Physical Address              10100 Burnet Rd,Austin, TX 78758\n",
      "Location Coordinates          (30.3899405, -97.7261806879021)\n",
      "Basic (100 Gbps NIC)          635/635\n",
      "ConnectX-6 (100 Gbps x2 NIC)  2/2\n",
      "ConnectX-5 (25 Gbps x2 NIC)   4/4\n",
      "P4510 (NVMe 1TB)              16/16\n",
      "Tesla T4 (GPU)                4/4\n",
      "RTX6000 (GPU)                 6/6\n",
      "----------------------------  --------------------------------\n",
      "----------------------------  -----------------------------------------------\n",
      "Name                          UTAH\n",
      "CPUs                          10\n",
      "Cores ()                      318/320\n",
      "RAM (G)                       2552/2560\n",
      "Disk (G)                      116390/116400\n",
      "Worker Count                  5\n",
      "Physical Address              875 South West Temple,Salt Lake City, UT  84101\n",
      "Location Coordinates          (40.75036663265306, -111.893838)\n",
      "Basic (100 Gbps NIC)          635/635\n",
      "ConnectX-6 (100 Gbps x2 NIC)  2/2\n",
      "ConnectX-5 (25 Gbps x2 NIC)   3/4\n",
      "P4510 (NVMe 1TB)              16/16\n",
      "Tesla T4 (GPU)                4/4\n",
      "RTX6000 (GPU)                 5/5\n",
      "----------------------------  -----------------------------------------------\n",
      "----------------------------  ----------------------------------------------------------------------------\n",
      "Name                          WASH\n",
      "CPUs                          6\n",
      "Cores ()                      192/192\n",
      "RAM (G)                       1536/1536\n",
      "Disk (G)                      60600/60600\n",
      "Worker Count                  3\n",
      "Physical Address              The Bexley, 1761 Old Meadow Road, McLean, VA 22102, United States of America\n",
      "Location Coordinates          (38.91930235, -77.21183383681088)\n",
      "Basic (100 Gbps NIC)          381/381\n",
      "ConnectX-6 (100 Gbps x2 NIC)  2/2\n",
      "ConnectX-5 (25 Gbps x2 NIC)   2/2\n",
      "P4510 (NVMe 1TB)              10/10\n",
      "Tesla T4 (GPU)                2/2\n",
      "RTX6000 (GPU)                 3/3\n",
      "----------------------------  ----------------------------------------------------------------------------\n",
      "----------------------------  ----------------------------------\n",
      "Name                          MICH\n",
      "CPUs                          6\n",
      "Cores ()                      180/192\n",
      "RAM (G)                       1488/1536\n",
      "Disk (G)                      60450/60600\n",
      "Worker Count                  3\n",
      "Physical Address              2530 Draper Dr,Ann Arbor, MI 48109\n",
      "Location Coordinates          (42.2931086, -83.7101319)\n",
      "Basic (100 Gbps NIC)          375/381\n",
      "ConnectX-6 (100 Gbps x2 NIC)  1/2\n",
      "ConnectX-5 (25 Gbps x2 NIC)   0/2\n",
      "P4510 (NVMe 1TB)              10/10\n",
      "Tesla T4 (GPU)                2/2\n",
      "RTX6000 (GPU)                 3/3\n",
      "----------------------------  ----------------------------------\n",
      "----------------------------  ---------------------------------------\n",
      "Name                          SALT\n",
      "CPUs                          6\n",
      "Cores ()                      192/192\n",
      "RAM (G)                       1536/1536\n",
      "Disk (G)                      60600/60600\n",
      "Worker Count                  3\n",
      "Physical Address              572 Delong St,Salt Lake City, UT  84104\n",
      "Location Coordinates          (40.7546211, -111.9533848)\n",
      "Basic (100 Gbps NIC)          381/381\n",
      "ConnectX-6 (100 Gbps x2 NIC)  2/2\n",
      "ConnectX-5 (25 Gbps x2 NIC)   2/2\n",
      "P4510 (NVMe 1TB)              10/10\n",
      "Tesla T4 (GPU)                2/2\n",
      "RTX6000 (GPU)                 3/3\n",
      "----------------------------  ---------------------------------------\n",
      "----------------------------  -----------------------------------------\n",
      "Name                          STAR\n",
      "CPUs                          12\n",
      "Cores ()                      380/384\n",
      "RAM (G)                       3056/3072\n",
      "Disk (G)                      121160/121200\n",
      "Worker Count                  6\n",
      "Physical Address              710 North Lake Shore Dr,Chicago, IL 60611\n",
      "Location Coordinates          (41.89537135, -87.61663220067463)\n",
      "Basic (100 Gbps NIC)          760/762\n",
      "ConnectX-6 (100 Gbps x2 NIC)  2/2\n",
      "ConnectX-5 (25 Gbps x2 NIC)   6/6\n",
      "P4510 (NVMe 1TB)              20/20\n",
      "Tesla T4 (GPU)                6/6\n",
      "RTX6000 (GPU)                 6/6\n",
      "----------------------------  -----------------------------------------\n",
      "----------------------------  ---------------------------------------\n",
      "Name                          NCSA\n",
      "CPUs                          6\n",
      "Cores ()                      192/192\n",
      "RAM (G)                       1536/1536\n",
      "Disk (G)                      60600/60600\n",
      "Worker Count                  3\n",
      "Physical Address              1725 S Oak St.,Champaign, IL 61820\n",
      "Location Coordinates          (40.09584003877901, -88.24153692109071)\n",
      "Basic (100 Gbps NIC)          381/381\n",
      "ConnectX-6 (100 Gbps x2 NIC)  2/2\n",
      "ConnectX-5 (25 Gbps x2 NIC)   2/2\n",
      "P4510 (NVMe 1TB)              10/10\n",
      "Tesla T4 (GPU)                2/2\n",
      "RTX6000 (GPU)                 3/3\n",
      "----------------------------  ---------------------------------------\n",
      "----------------------------  -----------------------------------------\n",
      "Name                          MAX\n",
      "CPUs                          10\n",
      "Cores ()                      312/320\n",
      "RAM (G)                       2528/2560\n",
      "Disk (G)                      116360/116400\n",
      "Worker Count                  5\n",
      "Physical Address              4161 Fieldhouse Dr,College Park, MD 20742\n",
      "Location Coordinates          (38.988634450000006, -76.94347941169231)\n",
      "Basic (100 Gbps NIC)          633/635\n",
      "ConnectX-6 (100 Gbps x2 NIC)  2/2\n",
      "ConnectX-5 (25 Gbps x2 NIC)   3/4\n",
      "P4510 (NVMe 1TB)              16/16\n",
      "Tesla T4 (GPU)                4/4\n",
      "RTX6000 (GPU)                 5/6\n",
      "----------------------------  -----------------------------------------\n",
      "----------------------------  ----------------------------------------\n",
      "Name                          DALL\n",
      "CPUs                          6\n",
      "Cores ()                      192/192\n",
      "RAM (G)                       1536/1536\n",
      "Disk (G)                      60600/60600\n",
      "Worker Count                  3\n",
      "Physical Address              1950 N Stemmons Fwy,Dallas, TX 75207\n",
      "Location Coordinates          (32.800965950000005, -96.81952300449768)\n",
      "Basic (100 Gbps NIC)          381/381\n",
      "ConnectX-6 (100 Gbps x2 NIC)  2/2\n",
      "ConnectX-5 (25 Gbps x2 NIC)   2/2\n",
      "P4510 (NVMe 1TB)              10/10\n",
      "Tesla T4 (GPU)                2/2\n",
      "RTX6000 (GPU)                 3/3\n",
      "----------------------------  ----------------------------------------\n",
      "----------------------------  ----\n",
      "Name                          MASS\n",
      "CPUs                          0\n",
      "Cores ()                      0/0\n",
      "RAM (G)                       0/0\n",
      "Disk (G)                      0/0\n",
      "Worker Count                  0\n",
      "Physical Address\n",
      "Location Coordinates\n",
      "Basic (100 Gbps NIC)          0/0\n",
      "ConnectX-6 (100 Gbps x2 NIC)  0/0\n",
      "ConnectX-5 (25 Gbps x2 NIC)   0/0\n",
      "P4510 (NVMe 1TB)              0/0\n",
      "Tesla T4 (GPU)                0/0\n",
      "RTX6000 (GPU)                 0/0\n",
      "----------------------------  ----\n"
     ]
    }
   ],
   "source": [
    "try:    \n",
    "    for site_name in fablib.get_site_names():\n",
    "        print(f\"{fablib.show_site(site_name)}\")\n",
    "\n",
    "except Exception as e:\n",
    "    print(f\"Exception: {e}\")\n",
    "    traceback.print_exc()\n"
   ]
  },
  {
   "cell_type": "markdown",
   "metadata": {
    "tags": []
   },
   "source": [
    "## Create Slice\n",
    "In Release 1.0, user is expected to assign the IP addresses manually. Please use the example comands indicated below:"
   ]
  },
  {
   "cell_type": "markdown",
   "metadata": {
    "tags": []
   },
   "source": [
    "## Configure Slice Parameters\n",
    "\n"
   ]
  },
  {
   "cell_type": "code",
   "execution_count": 9,
   "metadata": {},
   "outputs": [
    {
     "name": "stdout",
     "output_type": "stream",
     "text": [
      "sites: MAX, STAR\n"
     ]
    }
   ],
   "source": [
    "slice_name = 'MySliceL2Net'\n",
    "[site1,site2] = fablib.get_random_sites(count=2,avoid=[])\n",
    "print(f\"sites: {site1}, {site2}\")\n",
    "\n",
    "node1_name = 'Node1'\n",
    "node2_name = 'Node2'\n",
    "network1_name='net1'\n",
    "network2_name='net2'\n",
    "\n",
    "node1_nic_name = 'nic1'\n",
    "node2_nic_name = 'nic2'"
   ]
  },
  {
   "cell_type": "markdown",
   "metadata": {},
   "source": [
    "### Create the Slice\n",
    "\n",
    "NIC component models options:\n",
    "- NIC_Basic \n",
    "- NIC_ConnectX_5 \n",
    "- NIC_ConnectX_6"
   ]
  },
  {
   "cell_type": "code",
   "execution_count": 10,
   "metadata": {
    "tags": []
   },
   "outputs": [
    {
     "name": "stdout",
     "output_type": "stream",
     "text": [
      "Exception: Failed to submit slice: Status.FAILURE, (500)\n",
      "Reason: INTERNAL SERVER ERROR\n",
      "HTTP response headers: HTTPHeaderDict({'Server': 'nginx/1.21.6', 'Date': 'Mon, 14 Mar 2022 15:44:44 GMT', 'Content-Type': 'text/html; charset=utf-8', 'Content-Length': '33', 'Connection': 'keep-alive', 'Access-Control-Allow-Credentials': 'true', 'Access-Control-Allow-Headers': 'DNT, User-Agent, X-Requested-With, If-Modified-Since, Cache-Control, Content-Type, Range', 'Access-Control-Allow-Methods': 'GET, POST, PUT, DELETE, OPTIONS', 'Access-Control-Allow-Origin': '*', 'Access-Control-Expose-Headers': 'Content-Length, Content-Range, X-Error', 'X-Error': 'Slice MySliceL2Net already exists'})\n",
      "HTTP response body: Slice MySliceL2Net already exists\n",
      "\n"
     ]
    },
    {
     "name": "stderr",
     "output_type": "stream",
     "text": [
      "Traceback (most recent call last):\n",
      "  File \"/var/folders/_l/8dq3pgzx6bjgt8qrr1m9jgc80000gp/T/ipykernel_57974/2503453859.py\", line 24, in <module>\n",
      "    slice.submit()\n",
      "  File \"/usr/local/lib/python3.9/site-packages/fabrictestbed_extensions/fablib/slice.py\", line 839, in submit\n",
      "    raise Exception(\"Failed to submit slice: {}, {}\".format(return_status, slice_reservations))\n",
      "Exception: Failed to submit slice: Status.FAILURE, (500)\n",
      "Reason: INTERNAL SERVER ERROR\n",
      "HTTP response headers: HTTPHeaderDict({'Server': 'nginx/1.21.6', 'Date': 'Mon, 14 Mar 2022 15:44:44 GMT', 'Content-Type': 'text/html; charset=utf-8', 'Content-Length': '33', 'Connection': 'keep-alive', 'Access-Control-Allow-Credentials': 'true', 'Access-Control-Allow-Headers': 'DNT, User-Agent, X-Requested-With, If-Modified-Since, Cache-Control, Content-Type, Range', 'Access-Control-Allow-Methods': 'GET, POST, PUT, DELETE, OPTIONS', 'Access-Control-Allow-Origin': '*', 'Access-Control-Expose-Headers': 'Content-Length, Content-Range, X-Error', 'X-Error': 'Slice MySliceL2Net already exists'})\n",
      "HTTP response body: Slice MySliceL2Net already exists\n",
      "\n"
     ]
    }
   ],
   "source": [
    "try:\n",
    "    #Create Slice\n",
    "    slice = fablib.new_slice(name=slice_name)\n",
    "    \n",
    "    \n",
    "    # Node1\n",
    "    node1 = slice.add_node(name=node1_name, site=site1)\n",
    "    [iface1a, iface1b] = node1.add_component(model='NIC_ConnectX_5', name=node1_nic_name).get_interfaces()\n",
    "    \n",
    "    \n",
    "    # Node2\n",
    "    node2 = slice.add_node(name=node2_name, site=site2)\n",
    "    [iface2a, iface2b] = node2.add_component(model='NIC_ConnectX_5', name=node2_nic_name).get_interfaces()\n",
    "    \n",
    "    # Network\n",
    "    net1 = slice.add_l3network(name=network1_name, interfaces=[iface1a], type='IPv4')\n",
    "    net2 = slice.add_l3network(name=network2_name, interfaces=[iface2a], type='IPv4')\n",
    "    \n",
    "     # Network\n",
    "    net1 = slice.add_l2network(name='netL2', interfaces=[iface1b, iface2b])\n",
    "\n",
    "\n",
    "    #Submit Slice Request\n",
    "    slice.submit()\n",
    "    #slice.submit(wait=False)\n",
    "    #slice.wait_ssh(progress=True)\n",
    "except Exception as e:\n",
    "    print(f\"Exception: {e}\")\n",
    "    traceback.print_exc()\n"
   ]
  },
  {
   "cell_type": "code",
   "execution_count": null,
   "metadata": {},
   "outputs": [],
   "source": [
    "try:\n",
    "    slice = fablib.get_slice(name=slice_name)\n",
    "    #slice.post_boot_config()\n",
    "except Exception as e:\n",
    "    print(f\"Exception: {e}\")\n",
    "    traceback.print_exc()\n"
   ]
  },
  {
   "cell_type": "markdown",
   "metadata": {
    "tags": []
   },
   "source": [
    "## Get the Slice"
   ]
  },
  {
   "cell_type": "code",
   "execution_count": null,
   "metadata": {
    "tags": []
   },
   "outputs": [],
   "source": [
    "try:\n",
    "    slice = fablib.get_slice(name=slice_name)\n",
    "    print(f\"{slice}\")\n",
    "    \n",
    "    print(f\"{slice.get_interface_map()}\")\n",
    "except Exception as e:\n",
    "    print(f\"Exception: {e}\")\n"
   ]
  },
  {
   "cell_type": "code",
   "execution_count": null,
   "metadata": {},
   "outputs": [],
   "source": [
    "import traceback\n",
    "try:\n",
    "    slice = fablib.get_slice(name=slice_name)\n",
    "    #print(f\"{slice.get_slivers()}\")\n",
    "    \n",
    "    for network in slice.get_networks():\n",
    "        print(f\"{network.get_reservation_id()}\")\n",
    "        print(f\"{network.get_gateway()}\")\n",
    "        print(f\"{network.get_subnet()}\")\n",
    "        \n",
    "        #s = slice.get_sliver(network.get_reservation_id())\n",
    "        #s = network.get_sliver()\n",
    "        #print(f\"{s.sliver.gateway.gateway}\")\n",
    "        #print(f\"{s.sliver.gateway.subnet}\")\n",
    "\n",
    "   #for node in slice.get_nodes():\n",
    "   #     print(f\"{node.get_reservation_id()}\")\n",
    "   #     print(f\"{node.get_sliver()}\")\n",
    "   #     s = slice.get_sliver(node.get_reservation_id())\n",
    "   #     print(f\"{type(s.sliver)}\")\n",
    "   #     print(f\"{s.sliver.management_ip}\")\n",
    "   #     for component in s.sliver.attached_components_info.list_devices():\n",
    "   #         print(f\"component: {component}\")\n",
    "   #     print(f\"{s.sliver.attached_components_info}\") \n",
    "        #self.allocation_constraints = None\n",
    "        #self.image_type = None\n",
    "        #self.image_ref = None\n",
    "        #self.service_endpoint = None\n",
    "        #self.network_service_info = None\n",
    "        #self.site = None\n",
    "        #self.location = None\n",
    "        #self.boot_script = None\n",
    "\n",
    "\n",
    "    #s = slice.get_sliver('8dd86f41-6401-4d29-b3d2-70846a3f73f1')\n",
    "    #print(f\"{type(s.sliver)}\")\n",
    "    #print(f\"{s.sliver.gateway.gateway}\")\n",
    "    #print(f\"{s.sliver.gateway.subnet}\")\n",
    "    #print(f\"{s.sliver.site}\")\n",
    "    #print(f\"{s.sliver.layer}\")\n",
    "    #for interface in s.sliver.interface_info:\n",
    "    #    print(f\"{type(interface)}\")\n",
    "\n",
    "\n",
    "\n",
    "\n",
    "    \n",
    "    #for s in slice.get_slivers():\n",
    "    #    if s.sliver_type == \"NetworkServiceSliver\": \n",
    "    #        print(f\"{s}\")\n",
    "    #        print(f\"{s.sliver.gateway.gateway}\")\n",
    "    #        print(f\"{s.sliver.gateway.subnet}\")\n",
    "    #    #s.get_property(pname='reservation_info').error_message\n",
    "    \n",
    "    #for s in slice.get_slivers():\n",
    "    #    print(f\"{s}\")\n",
    "except Exception as e:\n",
    "    print(f\"Exception: {e}\")\n",
    "    traceback.print_exc()\n"
   ]
  },
  {
   "cell_type": "markdown",
   "metadata": {
    "tags": []
   },
   "source": [
    "## Get the Nodes"
   ]
  },
  {
   "cell_type": "code",
   "execution_count": null,
   "metadata": {},
   "outputs": [],
   "source": [
    "try:\n",
    "    slice = fablib.get_slice(name=slice_name)\n",
    "\n",
    "    print(f\"{slice.list_nodes()}\")\n",
    "except Exception as e:\n",
    "    print(f\"Exception: {e}\")"
   ]
  },
  {
   "cell_type": "code",
   "execution_count": null,
   "metadata": {},
   "outputs": [],
   "source": [
    "try:\n",
    "    slice = fablib.get_slice(name=slice_name)\n",
    "\n",
    "    for node in slice.get_nodes():\n",
    "        print(f\"{node}\")\n",
    "except Exception as e:\n",
    "    print(f\"Exception: {e}\")"
   ]
  },
  {
   "cell_type": "markdown",
   "metadata": {},
   "source": [
    "## Get the Interfaces"
   ]
  },
  {
   "cell_type": "code",
   "execution_count": null,
   "metadata": {},
   "outputs": [],
   "source": [
    "try:\n",
    "    slice = fablib.get_slice(name=slice_name)\n",
    "    \n",
    "    print(f\"{slice.list_interfaces()}\")\n",
    "    \n",
    "    #for iface in slice.get_interfaces():\n",
    "    #    print(f\"{iface}\")\n",
    "except Exception as e:\n",
    "    print(f\"Exception: {e}\")"
   ]
  },
  {
   "cell_type": "markdown",
   "metadata": {
    "tags": []
   },
   "source": [
    "### Configure Node1\n",
    "\n",
    "Configure the interface on on  node1.  \n",
    "\n",
    "```\n",
    "ip addr add 192.168.1.10/24 dev eth1\n",
    "```"
   ]
  },
  {
   "cell_type": "code",
   "execution_count": null,
   "metadata": {},
   "outputs": [],
   "source": [
    "from ipaddress import IPv4Address, IPv6Address, IPv4Network, IPv6Network\n",
    "\n",
    "addr = IPv4Address('192.168.0.1') + 1\n",
    "print(f\"{addr}\")\n",
    "\n",
    "\n",
    "#addr += 1\n",
    "#print(f\"{addr}\")\n",
    "\n",
    "iplist = list(IPv4Network('192.168.0.0/30'))\n",
    "print(f\"{ iplist }\")\n",
    "iplist_mod = iplist.remove(IPv4Address('192.168.0.0'))\n",
    "print(f\"{ iplist }\")\n",
    "\n",
    "network1 = IPv4Network('192.168.1.0/24')\n",
    "network2 = IPv4Network('192.168.1.0/24')\n",
    "\n",
    "print(f\"{network1}\")\n",
    "print(f\"{network2}\")\n",
    "\n",
    "print(f\"{network1.prefixlen}\")\n",
    "\n",
    "#print(f\"{network1+network2}\")"
   ]
  },
  {
   "cell_type": "code",
   "execution_count": null,
   "metadata": {},
   "outputs": [],
   "source": [
    "\n",
    "\n",
    "network1 = slice.get_network(name=network1_name)\n",
    "print(f\"{network1}\")\n",
    "\n",
    "network2 = slice.get_network(name=network2_name)\n",
    "print(f\"{network2}\")\n",
    "\n",
    "\n",
    "        "
   ]
  },
  {
   "cell_type": "code",
   "execution_count": null,
   "metadata": {},
   "outputs": [],
   "source": [
    "try:\n",
    "    node1 = slice.get_node(name=node1_name)        \n",
    "    node1_iface = node1.get_interface(network_name=network1_name)  \n",
    "    node1_iface.ip_addr_add(addr=network1.get_gateway()+1, subnet=network1.get_subnet())\n",
    "    \n",
    "    node1.ip_route_add(subnet=network2.get_subnet(), gateway=network1.get_gateway())\n",
    "    \n",
    "    stdout, stderr = node1.execute(f'ip -6 addr show {node1_iface.get_os_interface()}')\n",
    "    print (stdout)\n",
    "    \n",
    "    stdout, stderr = node1.execute(f'ip -6 route list')\n",
    "    print (stdout)\n",
    "except Exception as e:\n",
    "    print(f\"Exception: {e}\")\n",
    "    traceback.print_exc()"
   ]
  },
  {
   "cell_type": "markdown",
   "metadata": {},
   "source": [
    "### Configure Node2\n",
    "\n",
    "Configure the interface on on  node2.  \n",
    "\n",
    "```\n",
    "ip addr add 192.168.1.11/24 dev eth1\n",
    "```"
   ]
  },
  {
   "cell_type": "code",
   "execution_count": null,
   "metadata": {},
   "outputs": [],
   "source": [
    "try:\n",
    "    node2 = slice.get_node(name=node2_name)        \n",
    "    node2_iface = node2.get_interface(network_name=network2_name)  \n",
    "    node2_iface.ip_addr_add(addr=network2.get_gateway()+1, subnet=network2.get_subnet())\n",
    "    \n",
    "    node2.ip_route_add(subnet=network1.get_subnet(), gateway=network2.get_gateway())\n",
    "    \n",
    "    stdout, stderr = node2.execute(f'ip -6 addr show {node2_iface.get_os_interface()}')\n",
    "    print (stdout)\n",
    "    \n",
    "    stdout, stderr = node2.execute(f'ip -6 route list')\n",
    "    print (stdout)\n",
    "except Exception as e:\n",
    "    print(f\"Exception: {e}\")\n",
    "    traceback.print_exc()"
   ]
  },
  {
   "cell_type": "markdown",
   "metadata": {},
   "source": [
    "## Delete Slice"
   ]
  },
  {
   "cell_type": "code",
   "execution_count": null,
   "metadata": {},
   "outputs": [],
   "source": [
    "try:\n",
    "    slice = fablib.get_slice(name=slice_name)\n",
    "    slice.delete()\n",
    "except Exception as e:\n",
    "    print(f\"Exception: {e}\")"
   ]
  },
  {
   "cell_type": "code",
   "execution_count": null,
   "metadata": {},
   "outputs": [],
   "source": []
  }
 ],
 "metadata": {
  "kernelspec": {
   "display_name": "Python 3 (ipykernel)",
   "language": "python",
   "name": "python3"
  },
  "language_info": {
   "codemirror_mode": {
    "name": "ipython",
    "version": 3
   },
   "file_extension": ".py",
   "mimetype": "text/x-python",
   "name": "python",
   "nbconvert_exporter": "python",
   "pygments_lexer": "ipython3",
   "version": "3.9.2"
  }
 },
 "nbformat": 4,
 "nbformat_minor": 4
}
