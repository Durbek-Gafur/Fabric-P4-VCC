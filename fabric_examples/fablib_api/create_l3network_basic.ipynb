{
 "cells": [
  {
   "cell_type": "markdown",
   "metadata": {},
   "source": [
    "# This notebook shows how to use Orchestrator APIs for user experiments\n",
    "\n",
    "## Configure the Environment"
   ]
  },
  {
   "cell_type": "code",
   "execution_count": null,
   "metadata": {},
   "outputs": [],
   "source": [
    "import os\n",
    "\n",
    "# If you are using the FABRIC JupyterHub, the following three evnrionment vars\n",
    "# were automatically provided when you logged in.\n",
    "#os.environ['FABRIC_CREDMGR_HOST']='cm.fabric-testbed.net'\n",
    "#os.environ['FABRIC_ORCHESTRATOR_HOST']='orchestrator.fabric-testbed.net'\n",
    "#os.environ['FABRIC_TOKEN_LOCATION']=os.environ['HOME']+'/work/fabric_token.json'\n",
    "\n",
    "# Bastion IPs\n",
    "os.environ['FABRIC_BASTION_HOST'] = 'bastion-1.fabric-testbed.net'\n",
    "\n",
    "# Set your Bastion username and private key\n",
    "os.environ['FABRIC_BASTION_USERNAME']='pruth_0031379841'\n",
    "os.environ['FABRIC_BASTION_KEY_LOCATION']=os.environ['HOME']+'/work/fabric_bastion_key'\n",
    "\n",
    "# Set the keypair FABRIC will install in your slice. \n",
    "os.environ['FABRIC_SLICE_PRIVATE_KEY_FILE']=os.environ['HOME']+'/.ssh/id_rsa'\n",
    "os.environ['FABRIC_SLICE_PUBLIC_KEY_FILE']=os.environ['HOME']+'/.ssh/id_rsa.pub'\n",
    "\n",
    "# If your slice private key uses a passphrase, set the passphrase\n",
    "#from getpass import getpass\n",
    "#print('Please input private key passphrase. Press enter for no passphrase.')\n",
    "#os.environ['FABRIC_SLICE_PRIVATE_KEY_PASSPHRASE']=getpass()"
   ]
  },
  {
   "cell_type": "markdown",
   "metadata": {},
   "source": [
    "## Setup the Experiment\n",
    "\n",
    "#### Import FABRIC API"
   ]
  },
  {
   "cell_type": "code",
   "execution_count": null,
   "metadata": {},
   "outputs": [],
   "source": [
    "import json\n",
    "import traceback\n",
    "\n",
    "from fabrictestbed_extensions.fablib.fablib import fablib\n"
   ]
  },
  {
   "cell_type": "code",
   "execution_count": null,
   "metadata": {},
   "outputs": [],
   "source": [
    "try:\n",
    "    print(f\"{fablib.list_sites()}\")\n",
    "    #print(f\"{fablib.get_available_resources().get_topology()}\")\n",
    "\n",
    "except Exception as e:\n",
    "    print(f\"Exception: {e}\")\n",
    "    traceback.print_exc()\n"
   ]
  },
  {
   "cell_type": "code",
   "execution_count": null,
   "metadata": {},
   "outputs": [],
   "source": [
    "try:    \n",
    "    for site_name in fablib.get_site_names():\n",
    "        print(f\"{fablib.show_site(site_name)}\")\n",
    "\n",
    "except Exception as e:\n",
    "    print(f\"Exception: {e}\")\n",
    "    traceback.print_exc()\n"
   ]
  },
  {
   "cell_type": "markdown",
   "metadata": {
    "tags": []
   },
   "source": [
    "## Create Slice\n",
    "In Release 1.0, user is expected to assign the IP addresses manually. Please use the example comands indicated below:"
   ]
  },
  {
   "cell_type": "markdown",
   "metadata": {
    "tags": []
   },
   "source": [
    "## Configure Slice Parameters\n",
    "\n"
   ]
  },
  {
   "cell_type": "code",
   "execution_count": null,
   "metadata": {},
   "outputs": [],
   "source": [
    "slice_name = 'MySliceL2Net'\n",
    "[site1,site2] = fablib.get_random_sites(count=2,avoid=[])\n",
    "print(f\"sites: {site1}, {site2}\")\n",
    "\n",
    "node1_name = 'Node1'\n",
    "node2_name = 'Node2'\n",
    "network1_name='net1'\n",
    "network2_name='net2'\n",
    "\n",
    "node1_nic_name = 'nic1'\n",
    "node2_nic_name = 'nic2'"
   ]
  },
  {
   "cell_type": "markdown",
   "metadata": {},
   "source": [
    "### Create the Slice\n",
    "\n",
    "NIC component models options:\n",
    "- NIC_Basic \n",
    "- NIC_ConnectX_5 \n",
    "- NIC_ConnectX_6"
   ]
  },
  {
   "cell_type": "code",
   "execution_count": null,
   "metadata": {
    "tags": []
   },
   "outputs": [],
   "source": [
    "try:\n",
    "    #Create Slice\n",
    "    slice = fablib.new_slice(name=slice_name)\n",
    "    \n",
    "    \n",
    "    # Node1\n",
    "    node1 = slice.add_node(name=node1_name, site=site1)\n",
    "    [iface1a, iface1b] = node1.add_component(model='NIC_ConnectX_5', name=node1_nic_name).get_interfaces()\n",
    "    \n",
    "    \n",
    "    # Node2\n",
    "    node2 = slice.add_node(name=node2_name, site=site2)\n",
    "    [iface2a, iface2b] = node2.add_component(model='NIC_ConnectX_5', name=node2_nic_name).get_interfaces()\n",
    "    \n",
    "    # Network\n",
    "    net1 = slice.add_l3network(name=network1_name, interfaces=[iface1a], type='IPv4')\n",
    "    net2 = slice.add_l3network(name=network2_name, interfaces=[iface2a], type='IPv4')\n",
    "    \n",
    "     # Network\n",
    "    net1 = slice.add_l2network(name='netL2', interfaces=[iface1b, iface2b])\n",
    "\n",
    "\n",
    "    #Submit Slice Request\n",
    "    slice.submit()\n",
    "    #slice.submit(wait=False)\n",
    "    #slice.wait_ssh(progress=True)\n",
    "except Exception as e:\n",
    "    print(f\"Exception: {e}\")\n",
    "    traceback.print_exc()\n"
   ]
  },
  {
   "cell_type": "code",
   "execution_count": null,
   "metadata": {},
   "outputs": [],
   "source": [
    "try:\n",
    "    slice = fablib.get_slice(name=slice_name)\n",
    "    #slice.post_boot_config()\n",
    "except Exception as e:\n",
    "    print(f\"Exception: {e}\")\n",
    "    traceback.print_exc()\n"
   ]
  },
  {
   "cell_type": "markdown",
   "metadata": {
    "tags": []
   },
   "source": [
    "## Get the Slice"
   ]
  },
  {
   "cell_type": "code",
   "execution_count": null,
   "metadata": {
    "tags": []
   },
   "outputs": [],
   "source": [
    "try:\n",
    "    slice = fablib.get_slice(name=slice_name)\n",
    "    print(f\"{slice}\")\n",
    "    \n",
    "    print(f\"{slice.get_interface_map()}\")\n",
    "except Exception as e:\n",
    "    print(f\"Exception: {e}\")\n"
   ]
  },
  {
   "cell_type": "code",
   "execution_count": null,
   "metadata": {},
   "outputs": [],
   "source": [
    "import traceback\n",
    "try:\n",
    "    slice = fablib.get_slice(name=slice_name)\n",
    "    #print(f\"{slice.get_slivers()}\")\n",
    "    \n",
    "    for network in slice.get_networks():\n",
    "        print(f\"{network.get_reservation_id()}\")\n",
    "        print(f\"{network.get_gateway()}\")\n",
    "        print(f\"{network.get_subnet()}\")\n",
    "        \n",
    "        #s = slice.get_sliver(network.get_reservation_id())\n",
    "        #s = network.get_sliver()\n",
    "        #print(f\"{s.sliver.gateway.gateway}\")\n",
    "        #print(f\"{s.sliver.gateway.subnet}\")\n",
    "\n",
    "   #for node in slice.get_nodes():\n",
    "   #     print(f\"{node.get_reservation_id()}\")\n",
    "   #     print(f\"{node.get_sliver()}\")\n",
    "   #     s = slice.get_sliver(node.get_reservation_id())\n",
    "   #     print(f\"{type(s.sliver)}\")\n",
    "   #     print(f\"{s.sliver.management_ip}\")\n",
    "   #     for component in s.sliver.attached_components_info.list_devices():\n",
    "   #         print(f\"component: {component}\")\n",
    "   #     print(f\"{s.sliver.attached_components_info}\") \n",
    "        #self.allocation_constraints = None\n",
    "        #self.image_type = None\n",
    "        #self.image_ref = None\n",
    "        #self.service_endpoint = None\n",
    "        #self.network_service_info = None\n",
    "        #self.site = None\n",
    "        #self.location = None\n",
    "        #self.boot_script = None\n",
    "\n",
    "\n",
    "    #s = slice.get_sliver('8dd86f41-6401-4d29-b3d2-70846a3f73f1')\n",
    "    #print(f\"{type(s.sliver)}\")\n",
    "    #print(f\"{s.sliver.gateway.gateway}\")\n",
    "    #print(f\"{s.sliver.gateway.subnet}\")\n",
    "    #print(f\"{s.sliver.site}\")\n",
    "    #print(f\"{s.sliver.layer}\")\n",
    "    #for interface in s.sliver.interface_info:\n",
    "    #    print(f\"{type(interface)}\")\n",
    "\n",
    "\n",
    "\n",
    "\n",
    "    \n",
    "    #for s in slice.get_slivers():\n",
    "    #    if s.sliver_type == \"NetworkServiceSliver\": \n",
    "    #        print(f\"{s}\")\n",
    "    #        print(f\"{s.sliver.gateway.gateway}\")\n",
    "    #        print(f\"{s.sliver.gateway.subnet}\")\n",
    "    #    #s.get_property(pname='reservation_info').error_message\n",
    "    \n",
    "    #for s in slice.get_slivers():\n",
    "    #    print(f\"{s}\")\n",
    "except Exception as e:\n",
    "    print(f\"Exception: {e}\")\n",
    "    traceback.print_exc()\n"
   ]
  },
  {
   "cell_type": "markdown",
   "metadata": {
    "tags": []
   },
   "source": [
    "## Get the Nodes"
   ]
  },
  {
   "cell_type": "code",
   "execution_count": null,
   "metadata": {},
   "outputs": [],
   "source": [
    "try:\n",
    "    slice = fablib.get_slice(name=slice_name)\n",
    "\n",
    "    print(f\"{slice.list_nodes()}\")\n",
    "except Exception as e:\n",
    "    print(f\"Exception: {e}\")"
   ]
  },
  {
   "cell_type": "code",
   "execution_count": null,
   "metadata": {},
   "outputs": [],
   "source": [
    "try:\n",
    "    slice = fablib.get_slice(name=slice_name)\n",
    "\n",
    "    for node in slice.get_nodes():\n",
    "        print(f\"{node}\")\n",
    "except Exception as e:\n",
    "    print(f\"Exception: {e}\")"
   ]
  },
  {
   "cell_type": "markdown",
   "metadata": {},
   "source": [
    "## Get the Interfaces"
   ]
  },
  {
   "cell_type": "code",
   "execution_count": null,
   "metadata": {},
   "outputs": [],
   "source": [
    "try:\n",
    "    slice = fablib.get_slice(name=slice_name)\n",
    "    \n",
    "    print(f\"{slice.list_interfaces()}\")\n",
    "    \n",
    "    #for iface in slice.get_interfaces():\n",
    "    #    print(f\"{iface}\")\n",
    "except Exception as e:\n",
    "    print(f\"Exception: {e}\")"
   ]
  },
  {
   "cell_type": "markdown",
   "metadata": {
    "tags": []
   },
   "source": [
    "### Configure Node1\n",
    "\n",
    "Configure the interface on on  node1.  \n",
    "\n",
    "```\n",
    "ip addr add 192.168.1.10/24 dev eth1\n",
    "```"
   ]
  },
  {
   "cell_type": "code",
   "execution_count": null,
   "metadata": {},
   "outputs": [],
   "source": [
    "from ipaddress import IPv4Address, IPv6Address, IPv4Network, IPv6Network\n",
    "\n",
    "addr = IPv4Address('192.168.0.1') + 1\n",
    "print(f\"{addr}\")\n",
    "\n",
    "\n",
    "#addr += 1\n",
    "#print(f\"{addr}\")\n",
    "\n",
    "iplist = list(IPv4Network('192.168.0.0/30'))\n",
    "print(f\"{ iplist }\")\n",
    "iplist_mod = iplist.remove(IPv4Address('192.168.0.0'))\n",
    "print(f\"{ iplist }\")\n",
    "\n",
    "network1 = IPv4Network('192.168.1.0/24')\n",
    "network2 = IPv4Network('192.168.1.0/24')\n",
    "\n",
    "print(f\"{network1}\")\n",
    "print(f\"{network2}\")\n",
    "\n",
    "print(f\"{network1.prefixlen}\")\n",
    "\n",
    "#print(f\"{network1+network2}\")"
   ]
  },
  {
   "cell_type": "code",
   "execution_count": null,
   "metadata": {},
   "outputs": [],
   "source": [
    "\n",
    "\n",
    "network1 = slice.get_network(name=network1_name)\n",
    "print(f\"{network1}\")\n",
    "\n",
    "network2 = slice.get_network(name=network2_name)\n",
    "print(f\"{network2}\")\n",
    "\n",
    "\n",
    "        "
   ]
  },
  {
   "cell_type": "code",
   "execution_count": null,
   "metadata": {},
   "outputs": [],
   "source": [
    "try:\n",
    "    node1 = slice.get_node(name=node1_name)        \n",
    "    node1_iface = node1.get_interface(network_name=network1_name)  \n",
    "    node1_iface.ip_addr_add(addr=network1.get_gateway()+1, subnet=network1.get_subnet())\n",
    "    \n",
    "    node1.ip_route_add(subnet=network2.get_subnet(), gateway=network1.get_gateway())\n",
    "    \n",
    "    stdout, stderr = node1.execute(f'ip -6 addr show {node1_iface.get_os_interface()}')\n",
    "    print (stdout)\n",
    "    \n",
    "    stdout, stderr = node1.execute(f'ip -6 route list')\n",
    "    print (stdout)\n",
    "except Exception as e:\n",
    "    print(f\"Exception: {e}\")\n",
    "    traceback.print_exc()"
   ]
  },
  {
   "cell_type": "markdown",
   "metadata": {},
   "source": [
    "### Configure Node2\n",
    "\n",
    "Configure the interface on on  node2.  \n",
    "\n",
    "```\n",
    "ip addr add 192.168.1.11/24 dev eth1\n",
    "```"
   ]
  },
  {
   "cell_type": "code",
   "execution_count": null,
   "metadata": {},
   "outputs": [],
   "source": [
    "try:\n",
    "    node2 = slice.get_node(name=node2_name)        \n",
    "    node2_iface = node2.get_interface(network_name=network2_name)  \n",
    "    node2_iface.ip_addr_add(addr=network2.get_gateway()+1, subnet=network2.get_subnet())\n",
    "    \n",
    "    node2.ip_route_add(subnet=network1.get_subnet(), gateway=network2.get_gateway())\n",
    "    \n",
    "    stdout, stderr = node2.execute(f'ip -6 addr show {node2_iface.get_os_interface()}')\n",
    "    print (stdout)\n",
    "    \n",
    "    stdout, stderr = node2.execute(f'ip -6 route list')\n",
    "    print (stdout)\n",
    "except Exception as e:\n",
    "    print(f\"Exception: {e}\")\n",
    "    traceback.print_exc()"
   ]
  },
  {
   "cell_type": "markdown",
   "metadata": {},
   "source": [
    "## Delete Slice"
   ]
  },
  {
   "cell_type": "code",
   "execution_count": null,
   "metadata": {},
   "outputs": [],
   "source": [
    "try:\n",
    "    slice = fablib.get_slice(name=slice_name)\n",
    "    slice.delete()\n",
    "except Exception as e:\n",
    "    print(f\"Exception: {e}\")"
   ]
  },
  {
   "cell_type": "code",
   "execution_count": null,
   "metadata": {},
   "outputs": [],
   "source": []
  }
 ],
 "metadata": {
  "kernelspec": {
   "display_name": "Python 3 (ipykernel)",
   "language": "python",
   "name": "python3"
  },
  "language_info": {
   "codemirror_mode": {
    "name": "ipython",
    "version": 3
   },
   "file_extension": ".py",
   "mimetype": "text/x-python",
   "name": "python",
   "nbconvert_exporter": "python",
   "pygments_lexer": "ipython3",
   "version": "3.9.2"
  }
 },
 "nbformat": 4,
 "nbformat_minor": 4
}
