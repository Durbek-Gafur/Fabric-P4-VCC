{
 "cells": [
  {
   "cell_type": "markdown",
   "id": "40bcc917",
   "metadata": {},
   "source": [
    "### Jupyter Examples: Table of Contents\n",
    "\n",
    "A list of example notebooks and a short description of their purpose. \n",
    "\n",
    "## Getting Started Tutorials\n",
    "\n",
    "- [Hello, FABRIC](./fabric_examples/basic_examples/hello_fabric.ipynb): Simple First Slice Example\n",
    "- Intro to FABRIC Tutorial (TODO)\n",
    "\n",
    "## Basic Examples\n",
    "\n",
    "\n",
    "### Testbed Sites and Resources\n",
    "\n",
    "- [Available Resources](./fabric_examples/basic_examples/get_available_resources.ipynb): Query for a list of currently available resources. \n",
    "\n",
    "### Managing Slices and Slivers\n",
    "\n",
    "- [Create Slice](./fabric_examples/basic_examples/create_slice.ipynb): Slice construction using Fabric Information model\n",
    "- [Get an Existing Slice](./fabric_examples/basic_examples/get_slice.ipynb): Get an existing slice.\n",
    "- [Get Slivers from an Existing Slice](./fabric_examples/basic_examples/get_slivers.ipynb): Get slivers from an existing slice.\n",
    "- [Delete Slice](./fabric_examples/basic_examples/delete_slice.ipynb): Delete a slice\n",
    "- [Renew a Slice Reservation](./fabric_examples/basic_examples/update_slice_renew.ipynb): Renew a slice reservation\n",
    "\n",
    "\n",
    "### Nodes and Components\n",
    "\n",
    "- [Log into a Node with SSH](./fabric_examples/basic_examples/log_into_node_with_ssh.ipynb): Show how to remotely log into a running FABRIC node.\n",
    "- [Setting Node Capacity Options](./fabric_examples/basic_examples/setting_node_capaciites.ipynb): Discusses several options for setting node capacities.\n",
    "- [Create a Node with Components](./fabric_examples/basic_examples/create_node.ipynb): Create a single node with components\n",
    "- [Using and Benchmarking Storage: Local disk and NVMe](./fabric_examples/basic_examples/benchmarking_storage.ipynb): Create and benchmark a node with local disk and NVMe device.\n",
    "\n",
    "\n",
    "\n",
    "### Networking\n",
    "\n",
    "- [Create a simple Layer 2 Bridge](./fabric_examples/basic_examples/create_network_l2bridge.ipynb): \n",
    "- [Create Layer 2 Bridge with Smart NICs](./fabric_examples/basic_examples/create_network_l2bridge_smart_nic.ipynb): \n",
    "- [Create Layer 2 Bridge with Smart NICs and VLAN Tagged Interfaces](./fabric_examples/basic_examples/create_network_l2bridge_smart_nic_tagged.ipynb): \n",
    "- [Create Layer 2 Point-to-point Circuit](./fabric_examples/basic_examples/create_network_l2ptp.ipynb): \n",
    "- [Create Layer 2 Site-to-site Network](./fabric_examples/basic_examples/create_network_l2sts.ipynb ): \n",
    "- [Create Layer 2 Site-to-site Network with VLAN Tagged Interfaces](./fabric_examples/basic_examples/create_network_l2sts_tagged.ipynb): \n",
    "\n",
    "## Complex Recipes\n",
    "\n",
    "- [Kubernetes](./fabric_examples/complex_recipes/kubernetes-simple.ipynb): Basic Creating and managing a Kubernetes cluster.\n",
    "\n",
    "\n",
    "## Workshop Demos\n",
    "\n",
    "### FABRIC Workshop (Spring 2021)\n",
    "\n",
    "- [Simple Demo](./fabric_examples/public_demos/FABRIC-Workshop-Spring2021/simple-workshop-demo.ipynb). A basic demos that walks through the essential steps of running Slices, including token creation/usage, resource availability, and the basics of building, creating, managing and deleting Slices. \n",
    "- [Latency Demo](./fabric_examples/public_demos/FABRIC-Workshop-Spring2021/latency-workshop-demo.ipynb). An example of how to create links between nodes and monitor latency"
   ]
  },
  {
   "cell_type": "code",
   "execution_count": null,
   "id": "95695a57",
   "metadata": {},
   "outputs": [],
   "source": []
  }
 ],
 "metadata": {
  "kernelspec": {
   "display_name": "Python 3 (ipykernel)",
   "language": "python",
   "name": "python3"
  },
  "language_info": {
   "codemirror_mode": {
    "name": "ipython",
    "version": 3
   },
   "file_extension": ".py",
   "mimetype": "text/x-python",
   "name": "python",
   "nbconvert_exporter": "python",
   "pygments_lexer": "ipython3",
   "version": "3.9.2"
  }
 },
 "nbformat": 4,
 "nbformat_minor": 5
}
