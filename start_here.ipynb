{
 "cells": [
  {
   "cell_type": "markdown",
   "id": "0c2da6f1",
   "metadata": {},
   "source": [
    "# FABRIC API Examples: Jupyter Notebooks\n",
    "\n",
    "Your FABRIC JupyterHub environment comes with a set of example notebooks. Below is a list of many of the examples. Click the links to open the example notebooks.\n",
    "\n",
    "### Update the Example Notebooks\n",
    "\n",
    "Occasionally, we will add example notebooks and update existing examples. The examples are stored in this [github repo](https://github.com/fabric-testbed/jupyter-examples).\n",
    "\n",
    "Run the following Jupyter cell to ensure you have the most current notebooks. You will need to close and reopen any updated notebooks including the `start_here` notebook that you are currently reading."
   ]
  },
  {
   "cell_type": "code",
   "execution_count": 1,
   "id": "a6274b41",
   "metadata": {},
   "outputs": [
    {
     "name": "stdout",
     "output_type": "stream",
     "text": [
      "bash: cd: /home/fabric/work/jupyter-examples: No such file or directory\n",
      "Saved working directory and index state WIP on update_to_1.1b7: 7b218f7 Merge pull request #107 from fabric-testbed/update_to_1.1b7\n",
      "\u001b[33mhint: Pulling without specifying how to reconcile divergent branches is\u001b[m\n",
      "\u001b[33mhint: discouraged. You can squelch this message by running one of the following\u001b[m\n",
      "\u001b[33mhint: commands sometime before your next pull:\u001b[m\n",
      "\u001b[33mhint: \u001b[m\n",
      "\u001b[33mhint:   git config pull.rebase false  # merge (the default strategy)\u001b[m\n",
      "\u001b[33mhint:   git config pull.rebase true   # rebase\u001b[m\n",
      "\u001b[33mhint:   git config pull.ff only       # fast-forward only\u001b[m\n",
      "\u001b[33mhint: \u001b[m\n",
      "\u001b[33mhint: You can replace \"git config\" with \"git config --global\" to set a default\u001b[m\n",
      "\u001b[33mhint: preference for all repositories. You can also pass --rebase, --no-rebase,\u001b[m\n",
      "\u001b[33mhint: or --ff-only on the command line to override the configured default per\u001b[m\n",
      "\u001b[33mhint: invocation.\u001b[m\n",
      "From github.com:fabric-testbed/jupyter-examples\n",
      " * branch            master     -> FETCH_HEAD\n",
      "Already up to date.\n"
     ]
    }
   ],
   "source": [
    "cd /home/fabric/work/jupyter-examples\n",
    "git stash\n",
    "git pull origin master"
   ]
  },
  {
   "cell_type": "markdown",
   "id": "40bcc917",
   "metadata": {},
   "source": [
    "## Getting Started Tutorials\n",
    "\n",
    "- [Hello, FABRIC](./fabric_examples/basic_examples/hello_fabric.ipynb): Simple First Slice Example\n",
    "- Intro to FABRIC Tutorial (TODO)\n",
    "\n",
    "## Basic Examples\n",
    "\n",
    "\n",
    "### Testbed Sites and Resources\n",
    "\n",
    "- [Find Available Resources](./fabric_examples/basic_examples/get_available_resources.ipynb): Query for a list of currently available resources. \n",
    "\n",
    "### Managing Slices\n",
    "\n",
    "- [Create Slice](./fabric_examples/basic_examples/create_slice.ipynb): Slice construction using Fabric Information model\n",
    "- [Delete Slice](./fabric_examples/basic_examples/delete_slice.ipynb): Delete a slice\n",
    "- [Get an Existing Slice](./fabric_examples/basic_examples/get_slice.ipynb): Get an existing slice.\n",
    "- [Renew a Slice Reservation](./fabric_examples/basic_examples/update_slice_renew.ipynb): Renew a slice reservation\n",
    "\n",
    "\n",
    "### Compute Nodes\n",
    "\n",
    "- [Get Nodes](./fabric_examples/basic_examples/get_nodes.ipynb): Get the nodes from an existing slice.\n",
    "- [Log into a Node with SSH](./fabric_examples/basic_examples/log_into_node_with_ssh.ipynb): Show how to remotely log into a running FABRIC node.\n",
    "- [Setting Node Capacity Options](./fabric_examples/basic_examples/setting_node_capaciites.ipynb): Discusses several options for setting node capacities.\n",
    "- [Create a Node with Components](./fabric_examples/basic_examples/create_node.ipynb): Create a single node with components\n",
    "\n",
    "### Storage Components\n",
    "\n",
    "- [Basic NVMe Devices](./fabric_examples/basic_examples/basic_nvme_devices.ipynb): Create a node with a NVMe block device.\n",
    "- [Benchmarking FABRIC Storage: Local disk and NVMe](./fabric_examples/basic_examples/benchmarking_storage.ipynb): Create and benchmark a node with local disk and NVMe device.\n",
    "\n",
    "### GPU Components\n",
    "\n",
    "- [Basic GPUs Devices](./fabric_examples/basic_examples/basic_gpu_devices.ipynb): Create a node with a GPU\n",
    "\n",
    "### Networking\n",
    "\n",
    "- [Create a simple Layer 2 Bridge](./fabric_examples/basic_examples/create_network_l2bridge.ipynb): \n",
    "- [Create Layer 2 Bridge with Smart NICs](./fabric_examples/basic_examples/create_network_l2bridge_smart_nic.ipynb): \n",
    "- [Create Layer 2 Bridge with Smart NICs and VLAN Tagged Interfaces](./fabric_examples/basic_examples/create_network_l2bridge_smart_nic_tagged.ipynb): \n",
    "- [Create Layer 2 Point-to-point Circuit](./fabric_examples/basic_examples/create_network_l2ptp.ipynb): \n",
    "- [Create Layer 2 Site-to-site Network](./fabric_examples/basic_examples/create_network_l2sts.ipynb ): \n",
    "- [Create Layer 2 Site-to-site Network with VLAN Tagged Interfaces](./fabric_examples/basic_examples/create_network_l2sts_tagged.ipynb): \n",
    "\n",
    "## Complex Recipes\n",
    "\n",
    "- [Kubernetes](./fabric_examples/complex_recipes/kubernetes-simple.ipynb): Basic Creating and managing a Kubernetes cluster.\n",
    "\n",
    "\n",
    "## Workshop Demos\n",
    "\n",
    "### FABRIC Workshop (Spring 2021)\n",
    "\n",
    "- [Simple Demo](./fabric_examples/public_demos/FABRIC-Workshop-Spring2021/simple-workshop-demo.ipynb). A basic demos that walks through the essential steps of running Slices, including token creation/usage, resource availability, and the basics of building, creating, managing and deleting Slices. \n",
    "- [Latency Demo](./fabric_examples/public_demos/FABRIC-Workshop-Spring2021/latency-workshop-demo.ipynb). An example of how to create links between nodes and monitor latency\n",
    "\n"
   ]
  },
  {
   "cell_type": "code",
   "execution_count": null,
   "id": "76146b01",
   "metadata": {},
   "outputs": [],
   "source": []
  }
 ],
 "metadata": {
  "kernelspec": {
   "display_name": "Bash",
   "language": "bash",
   "name": "bash"
  },
  "language_info": {
   "codemirror_mode": "shell",
   "file_extension": ".sh",
   "mimetype": "text/x-sh",
   "name": "bash"
  }
 },
 "nbformat": 4,
 "nbformat_minor": 5
}
