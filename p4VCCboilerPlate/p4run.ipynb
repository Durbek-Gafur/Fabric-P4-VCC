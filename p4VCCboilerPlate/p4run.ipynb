{
 "cells": [
  {
   "cell_type": "markdown",
   "metadata": {},
   "source": [
    "# P4Lang Tutorials of FABRIC\n",
    "\n",
    "This notebook walks the user through setting up a FABRIC eperiment that is suitiable for completing the P4 tutorials created by [P4Lang](https://github.com/p4lang/tutorials). The tutorials were origianlly designed to use a mininet topology. This example replaces the mininet topology with a FABRIC experiemnt topology that may span multiple sites across the FABRIC testbed.\n",
    "\n",
    "Additional resources:\n",
    "- [FABRIC Knowledge Base](https://learn.fabric-testbed.net/)\n",
    "- [FABRIC Forums](https://learn.fabric-testbed.net/forums/)\n",
    "- [P4Lang Tutorials](https://github.com/p4lang/tutorials)\n",
    "- [P4Lang YouTube Presentations](https://www.youtube.com/channel/UCOQAFkDKucJWr-KafdJsdIQ)"
   ]
  },
  {
   "cell_type": "markdown",
   "metadata": {},
   "source": [
    "## Basic FABRIC Slice Configuration"
   ]
  },
  {
   "cell_type": "code",
   "execution_count": 1,
   "metadata": {},
   "outputs": [],
   "source": [
    "import json\n",
    "import traceback\n",
    "from fabrictestbed_extensions.fablib.fablib import fablib"
   ]
  },
  {
   "cell_type": "code",
   "execution_count": 2,
   "metadata": {},
   "outputs": [
    {
     "name": "stdout",
     "output_type": "stream",
     "text": [
      "Name      CPUs  Cores    RAM (G)    Disk (G)       Basic (100 Gbps NIC)    ConnectX-6 (100 Gbps x2 NIC)    ConnectX-5 (25 Gbps x2 NIC)    P4510 (NVMe 1TB)    Tesla T4 (GPU)    RTX6000 (GPU)\n",
      "------  ------  -------  ---------  -------------  ----------------------  ------------------------------  -----------------------------  ------------------  ----------------  ---------------\n",
      "MASS         4  125/128  1016/1024  55750/55800    253/254                 2/2                             0/0                            6/6                 0/0               3/3\n",
      "MAX         10  208/320  2166/2560  114740/116400  553/635                 1/2                             3/4                            16/16               4/4               6/6\n",
      "TACC        10  280/320  2414/2560  116154/116400  612/635                 0/2                             1/4                            16/16               4/4               6/6\n",
      "MICH         6  192/192  1536/1536  60600/60600    381/381                 2/2                             2/2                            10/10               2/2               3/3\n",
      "SALT         6  190/192  1528/1536  60590/60600    381/381                 2/2                             2/2                            10/10               2/2               3/3\n",
      "STAR        12  379/384  3056/3072  121140/121200  759/762                 2/2                             6/6                            20/20               6/6               6/6\n",
      "UTAH        10  320/320  2560/2560  116400/116400  635/635                 2/2                             4/4                            16/16               4/4               5/5\n",
      "UCSD        10  320/320  2560/2560  116400/116400  635/635                 2/2                             4/4                            16/16               4/4               6/6\n",
      "FIU         10  320/320  2560/2560  116400/116400  635/635                 2/2                             4/4                            16/16               4/4               6/6\n",
      "WASH         6  190/192  1528/1536  60590/60600    379/381                 2/2                             2/2                            10/10               2/2               3/3\n",
      "DALL         6  192/192  1536/1536  60600/60600    381/381                 2/2                             2/2                            10/10               2/2               3/3\n",
      "NCSA         6  192/192  1536/1536  60600/60600    381/381                 2/2                             2/2                            10/10               2/2               3/3\n"
     ]
    }
   ],
   "source": [
    "try:\n",
    "    print(f\"{fablib.list_sites()}\")\n",
    "except Exception as e:\n",
    "    print(f\"Exception: {e}\")"
   ]
  },
  {
   "cell_type": "markdown",
   "metadata": {
    "tags": []
   },
   "source": [
    "## Configure Slice Parameters\n",
    "\n",
    "This section builds the experiment slice \n",
    "\n",
    "<img src=\"figs/fabric_slice.png\" width=\"800\"/>\n",
    "\n"
   ]
  },
  {
   "cell_type": "code",
   "execution_count": 3,
   "metadata": {},
   "outputs": [
    {
     "name": "stdout",
     "output_type": "stream",
     "text": [
      "Sites: MAX,MAX,MAX\n"
     ]
    }
   ],
   "source": [
    "from ipaddress import ip_address, IPv4Address, IPv6Address, IPv4Network, IPv6Network\n",
    "\n",
    "# Slice \n",
    "slice_name = 'P4_VCC_new'\n",
    "\n",
    "# [site1,site2,site3] = fablib.get_random_sites(count=3)\n",
    "site1 = site2 = site3 = 'MAX'\n",
    "print(f\"Sites: {site1},{site2},{site3}\")\n",
    "\n",
    "\n",
    "# Switches\n",
    "s1_name = \"s1\"\n",
    "s2_name = \"s2\"\n",
    "s3_name = \"s3\"\n",
    "\n",
    "switch_cores = 2\n",
    "switch_ram = 8\n",
    "switch_disk = 100\n",
    "\n",
    "# Hosts\n",
    "h1_name = \"h1\"\n",
    "h2_name = \"h2\"\n",
    "h3_name = \"h3\"\n",
    "\n",
    "h1_subnet=IPv4Network('10.0.1.0/24')\n",
    "h1_addr=IPv4Address('10.0.1.1')\n",
    "\n",
    "h2_subnet=IPv4Network('10.0.2.0/24')\n",
    "h2_addr=IPv4Address('10.0.2.2')\n",
    "\n",
    "h3_subnet=IPv4Network('10.0.3.0/24')\n",
    "h3_addr=IPv4Address('10.0.3.3')\n",
    "\n",
    "host_cores = 2\n",
    "host_ram = 8\n",
    "host_disk = 10\n",
    "\n",
    "net_h1_name = 'net_h1'\n",
    "net_h2_name = 'net_h2'\n",
    "net_h3_name = 'net_h3'\n",
    "\n",
    "net_s1_s2_name = 'net_s1_s2'\n",
    "net_s2_s3_name = 'net_s2_s3'\n",
    "net_s1_s3_name = 'net_s1_s3'\n",
    "\n",
    "# All node properties\n",
    "image = 'default_ubuntu_20'"
   ]
  },
  {
   "cell_type": "markdown",
   "metadata": {},
   "source": [
    "### Create the Slice"
   ]
  },
  {
   "cell_type": "code",
   "execution_count": 4,
   "metadata": {},
   "outputs": [
    {
     "name": "stdout",
     "output_type": "stream",
     "text": [
      "\n",
      "-----------  ------------------------------------\n",
      "Slice Name   P4_VCC_new\n",
      "Slice ID     e50232d9-3cd0-44ad-b32c-961f2a7e0f1a\n",
      "Slice State  StableOK\n",
      "Lease End    2022-09-02 15:05:35 +0000\n",
      "-----------  ------------------------------------\n",
      "\n",
      "Retry: 17, Time: 254 sec\n",
      "\n",
      "ID                                    Name    Site    Host                         Cores    RAM    Disk  Image              Management IP    State    Error\n",
      "------------------------------------  ------  ------  -------------------------  -------  -----  ------  -----------------  ---------------  -------  -------\n",
      "4fa79a2c-8c65-4149-a79d-4e95e1283b23  s1      MAX     max-w5.fabric-testbed.net        2      8     100  default_ubuntu_20  63.239.135.99    Active\n",
      "494ec012-4973-47a7-8401-052480a8adad  s2      MAX     max-w5.fabric-testbed.net        2      8     100  default_ubuntu_20  63.239.135.73    Active\n",
      "ed97c34c-02c7-4a6f-8f29-c56617a523ad  s3      MAX     max-w5.fabric-testbed.net        2      8     100  default_ubuntu_20  63.239.135.75    Active\n",
      "84787d9e-4b37-4143-b3eb-2822d4e4d7d0  h1      MAX     max-w5.fabric-testbed.net        2      8      10  default_ubuntu_20  63.239.135.117   Active\n",
      "019f5a10-8aed-426e-b86c-579af627ce09  h2      MAX     max-w5.fabric-testbed.net        2      8      10  default_ubuntu_20  63.239.135.93    Active\n",
      "ec1d89ae-444d-4258-8121-222cce5d2c95  h3      MAX     max-w5.fabric-testbed.net        2      8      10  default_ubuntu_20  63.239.135.84    Active\n",
      "\n",
      "Time to stable 254 seconds\n",
      "Running post_boot_config ... Time to post boot config 271 seconds\n",
      "\n",
      "Name                  Node    Network      Bandwidth  VLAN    MAC                Physical OS Interface    OS Interface\n",
      "--------------------  ------  ---------  -----------  ------  -----------------  -----------------------  --------------\n",
      "s1-s1_switch_nic2-p1  s1      net_s1_s3            0          1E:E5:29:B4:DF:4F  ens7                     ens7\n",
      "s1-s1_local_nic-p1    s1      net_h1               0          22:FF:DE:ED:FA:15  ens9                     ens9\n",
      "s1-s1_switch_nic1-p1  s1      net_s1_s2            0          22:55:F3:E1:8C:7C  ens8                     ens8\n",
      "s2-s2_switch_nic1-p1  s2      net_s1_s2            0          26:51:CC:A6:E6:9E  ens9                     ens9\n",
      "s2-s2_switch_nic2-p1  s2      net_s2_s3            0          26:0E:91:21:49:0A  ens7                     ens7\n",
      "s2-s2_local_nic-p1    s2      net_h2               0          26:1E:1E:F8:9E:F8  ens8                     ens8\n",
      "s3-s3_local_nic-p1    s3      net_h3               0          2A:5F:FB:92:07:F6  ens9                     ens9\n",
      "s3-s3_switch_nic1-p1  s3      net_s1_s3            0          26:F7:5A:56:28:4C  ens8                     ens8\n",
      "s3-s3_switch_nic2-p1  s3      net_s2_s3            0          26:EE:CE:BD:92:82  ens7                     ens7\n",
      "h1-h1_nic-p1          h1      net_h1               0          2A:AE:C2:4C:53:D0  ens7                     ens7\n",
      "h2-h2_nic-p1          h2      net_h2               0          3E:7F:FE:25:72:3C  ens7                     ens7\n",
      "h3-h3_nic-p1          h3      net_h3               0          3E:EB:F7:5A:64:C9  ens7                     ens7\n",
      "\n",
      "Time to print interfaces 288 seconds\n"
     ]
    }
   ],
   "source": [
    "import datetime\n",
    "try:\n",
    "    slice = fablib.get_slice(name=slice_name)\n",
    "    slice.delete()\n",
    "except Exception as e:\n",
    "    print(f\"Fail: {e}\")\n",
    "    traceback.print_exc()\n",
    "\n",
    "try:\n",
    "    #Create Slice\n",
    "    slice = fablib.new_slice(name=slice_name)\n",
    "    \n",
    "\n",
    "    #Set end host to now plus 10 day\n",
    "    end_date = (datetime.datetime.utcnow() + datetime.timedelta(days=10)).strftime(\"%Y-%m-%d %H:%M:%S %z\")\n",
    "    try:\n",
    "        slice = fablib.get_slice(name=slice_name)\n",
    "        slice.renew(end_date+\"+0000\")\n",
    "    except Exception as e:\n",
    "        print(f\"Exception: {e}\")\n",
    "    # Add switch node s1\n",
    "    s1 = slice.add_node(name=s1_name, site=site1,  image=image, \n",
    "                        cores=switch_cores, ram=switch_ram, disk=switch_disk)\n",
    "    s1.set_capacities(cores=switch_cores, ram=switch_ram, disk=switch_disk)\n",
    "    print(dir(s1))\n",
    "    s1_iface_local = s1.add_component(model='NIC_Basic', name=\"s1_local_nic\").get_interfaces()[0]\n",
    "    s1_iface_to_s2 = s1.add_component(model='NIC_Basic', name=\"s1_switch_nic1\").get_interfaces()[0]\n",
    "    s1_iface_to_s3 = s1.add_component(model='NIC_Basic', name=\"s1_switch_nic2\").get_interfaces()[0]\n",
    "\n",
    "    # Add switch node s2\n",
    "    s2 = slice.add_node(name=s2_name, site=site2,  image=image, \n",
    "                        cores=switch_cores, ram=switch_ram, disk=switch_disk)\n",
    "    s2_iface_local = s2.add_component(model='NIC_Basic', name=\"s2_local_nic\").get_interfaces()[0]\n",
    "    s2_iface_to_s1 = s2.add_component(model='NIC_Basic', name=\"s2_switch_nic1\").get_interfaces()[0]\n",
    "    s2_iface_to_s3 = s2.add_component(model='NIC_Basic', name=\"s2_switch_nic2\").get_interfaces()[0]\n",
    "    \n",
    "    # Add switch node s3\n",
    "    s3 = slice.add_node(name=s3_name, site=site3,  image=image, \n",
    "                        cores=switch_cores, ram=switch_ram, disk=switch_disk)\n",
    "    s3_iface_local = s3.add_component(model='NIC_Basic', name=\"s3_local_nic\").get_interfaces()[0]\n",
    "    s3_iface_to_s1 = s3.add_component(model='NIC_Basic', name=\"s3_switch_nic1\").get_interfaces()[0]\n",
    "    s3_iface_to_s2 = s3.add_component(model='NIC_Basic', name=\"s3_switch_nic2\").get_interfaces()[0]    \n",
    "    \n",
    "    # Add host node h1\n",
    "    h1 = slice.add_node(name=h1_name, site=site1, image=image,\n",
    "                        cores=host_cores, ram=host_ram, disk=host_disk)\n",
    "    h1_iface = h1.add_component(model='NIC_Basic', name=\"h1_nic\").get_interfaces()[0]\n",
    "    \n",
    "    # Add host node h2\n",
    "    h2 = slice.add_node(name=h2_name, site=site2, image=image,\n",
    "                        cores=host_cores, ram=host_ram, disk=host_disk)\n",
    "    h2_iface = h2.add_component(model='NIC_Basic', name=\"h2_nic\").get_interfaces()[0]\n",
    "    \n",
    "    # Add host node h3\n",
    "    h3 = slice.add_node(name=h3_name, site=site3, image=image,\n",
    "                        cores=host_cores, ram=host_ram, disk=host_disk)\n",
    "    h3_iface = h3.add_component(model='NIC_Basic', name=\"h3_nic\").get_interfaces()[0]\n",
    "    \n",
    "    #Add swtich networks\n",
    "    switch_net1 = slice.add_l2network(name=net_s1_s2_name, interfaces=[s1_iface_to_s2, s2_iface_to_s1])\n",
    "    swtich_net2 = slice.add_l2network(name=net_s2_s3_name, interfaces=[s2_iface_to_s3, s3_iface_to_s2])\n",
    "    swtich_net3 = slice.add_l2network(name=net_s1_s3_name, interfaces=[s3_iface_to_s1, s1_iface_to_s3])\n",
    "\n",
    "    #Add host networks \n",
    "    host_net1 = slice.add_l2network(name=net_h1_name, interfaces=[s1_iface_local, h1_iface])\n",
    "    host_net2 = slice.add_l2network(name=net_h2_name, interfaces=[s2_iface_local, h2_iface])\n",
    "    host_net3 = slice.add_l2network(name=net_h3_name, interfaces=[s3_iface_local, h3_iface])\n",
    "    \n",
    "    #Submit Slice Request\n",
    "    slice.submit() \n",
    "except Exception as e:\n",
    "    print(f\"Error: {e}\")\n",
    "    traceback.print_exc()\n",
    "    "
   ]
  },
  {
   "cell_type": "code",
   "execution_count": 5,
   "metadata": {},
   "outputs": [],
   "source": [
    "def checkInetConnection(node):\n",
    "    try:\n",
    "\n",
    "        #If the node is an IPv6 Node then configure NAT64\n",
    "        if type(ip_address(node.get_management_ip())) is IPv6Address:\n",
    "            print(\"This code only works with ip4, reconfigure nodes\")\n",
    "            return\n",
    "\n",
    "        #Access non-IPv6 Services\n",
    "        stdout, stderr = node.execute(f'sudo apt-get update -qq && sudo apt install net-tools && git clone https://github.com/fabric-testbed/jupyter-examples.git')\n",
    "        # print(stdout)\n",
    "        print(stderr)\n",
    "\n",
    "        stdout, stderr = node.execute(f'ls jupyter-examples')\n",
    "        print(stdout)\n",
    "        print(stderr)\n",
    "        \n",
    "        # stdout, stderr = node.execute(f'ifconfig')\n",
    "        # print(stdout)\n",
    "        # print(stderr)\n",
    "\n",
    "\n",
    "    except Exception as e:\n",
    "        print(f\"Exception: {e}\")"
   ]
  },
  {
   "cell_type": "code",
   "execution_count": 6,
   "metadata": {},
   "outputs": [
    {
     "name": "stdout",
     "output_type": "stream",
     "text": [
      "Node:\n",
      "   Name              : s1\n",
      "\n",
      "WARNING: apt does not have a stable CLI interface. Use with caution in scripts.\n",
      "\n",
      "debconf: unable to initialize frontend: Dialog\n",
      "debconf: (Dialog frontend will not work on a dumb terminal, an emacs shell buffer, or without a controlling terminal.)\n",
      "debconf: falling back to frontend: Readline\n",
      "debconf: unable to initialize frontend: Readline\n",
      "debconf: (This frontend requires a controlling tty.)\n",
      "debconf: falling back to frontend: Teletype\n",
      "dpkg-preconfigure: unable to re-open stdin: \n",
      "Cloning into 'jupyter-examples'...\n",
      "\n",
      "LICENSE\n",
      "Readme.md\n",
      "fabric_examples\n",
      "start_here.ipynb\n",
      "\n",
      "\n",
      "Node:\n",
      "   Name              : s2\n",
      "\n",
      "WARNING: apt does not have a stable CLI interface. Use with caution in scripts.\n",
      "\n",
      "debconf: unable to initialize frontend: Dialog\n",
      "debconf: (Dialog frontend will not work on a dumb terminal, an emacs shell buffer, or without a controlling terminal.)\n",
      "debconf: falling back to frontend: Readline\n",
      "debconf: unable to initialize frontend: Readline\n",
      "debconf: (This frontend requires a controlling tty.)\n",
      "debconf: falling back to frontend: Teletype\n",
      "dpkg-preconfigure: unable to re-open stdin: \n",
      "Cloning into 'jupyter-examples'...\n",
      "\n",
      "LICENSE\n",
      "Readme.md\n",
      "fabric_examples\n",
      "start_here.ipynb\n",
      "\n",
      "\n",
      "Node:\n",
      "   Name              : s3\n",
      "\n",
      "WARNING: apt does not have a stable CLI interface. Use with caution in scripts.\n",
      "\n",
      "debconf: unable to initialize frontend: Dialog\n",
      "debconf: (Dialog frontend will not work on a dumb terminal, an emacs shell buffer, or without a controlling terminal.)\n",
      "debconf: falling back to frontend: Readline\n",
      "debconf: unable to initialize frontend: Readline\n",
      "debconf: (This frontend requires a controlling tty.)\n",
      "debconf: falling back to frontend: Teletype\n",
      "dpkg-preconfigure: unable to re-open stdin: \n",
      "Cloning into 'jupyter-examples'...\n",
      "\n",
      "LICENSE\n",
      "Readme.md\n",
      "fabric_examples\n",
      "start_here.ipynb\n",
      "\n",
      "\n",
      "Node:\n",
      "   Name              : h1\n",
      "\n",
      "WARNING: apt does not have a stable CLI interface. Use with caution in scripts.\n",
      "\n",
      "debconf: unable to initialize frontend: Dialog\n",
      "debconf: (Dialog frontend will not work on a dumb terminal, an emacs shell buffer, or without a controlling terminal.)\n",
      "debconf: falling back to frontend: Readline\n",
      "debconf: unable to initialize frontend: Readline\n",
      "debconf: (This frontend requires a controlling tty.)\n",
      "debconf: falling back to frontend: Teletype\n",
      "dpkg-preconfigure: unable to re-open stdin: \n",
      "Cloning into 'jupyter-examples'...\n",
      "\n",
      "LICENSE\n",
      "Readme.md\n",
      "fabric_examples\n",
      "start_here.ipynb\n",
      "\n",
      "\n",
      "Node:\n",
      "   Name              : h2\n",
      "\n",
      "WARNING: apt does not have a stable CLI interface. Use with caution in scripts.\n",
      "\n",
      "debconf: unable to initialize frontend: Dialog\n",
      "debconf: (Dialog frontend will not work on a dumb terminal, an emacs shell buffer, or without a controlling terminal.)\n",
      "debconf: falling back to frontend: Readline\n",
      "debconf: unable to initialize frontend: Readline\n",
      "debconf: (This frontend requires a controlling tty.)\n",
      "debconf: falling back to frontend: Teletype\n",
      "dpkg-preconfigure: unable to re-open stdin: \n",
      "Cloning into 'jupyter-examples'...\n",
      "\n",
      "LICENSE\n",
      "Readme.md\n",
      "fabric_examples\n",
      "start_here.ipynb\n",
      "\n",
      "\n",
      "Node:\n",
      "   Name              : h3\n",
      "\n",
      "WARNING: apt does not have a stable CLI interface. Use with caution in scripts.\n",
      "\n",
      "debconf: unable to initialize frontend: Dialog\n",
      "debconf: (Dialog frontend will not work on a dumb terminal, an emacs shell buffer, or without a controlling terminal.)\n",
      "debconf: falling back to frontend: Readline\n",
      "debconf: unable to initialize frontend: Readline\n",
      "debconf: (This frontend requires a controlling tty.)\n",
      "debconf: falling back to frontend: Teletype\n",
      "dpkg-preconfigure: unable to re-open stdin: \n",
      "Cloning into 'jupyter-examples'...\n",
      "\n",
      "LICENSE\n",
      "Readme.md\n",
      "fabric_examples\n",
      "start_here.ipynb\n",
      "\n",
      "\n"
     ]
    }
   ],
   "source": [
    "try:\n",
    "    slice = fablib.get_slice(name=slice_name)\n",
    "    for node in slice.get_nodes():\n",
    "        print(\"Node:\")\n",
    "        print(f\"   Name              : {node.get_name()}\")\n",
    "        checkInetConnection(node)\n",
    "except Exception as e:\n",
    "    print(f\"Fail: {e}\")\n",
    "    traceback.print_exc()"
   ]
  },
  {
   "cell_type": "markdown",
   "metadata": {
    "tags": []
   },
   "source": [
    "## Observe the Slice's Attributes\n",
    "\n",
    "### Print the slice"
   ]
  },
  {
   "cell_type": "code",
   "execution_count": 7,
   "metadata": {},
   "outputs": [
    {
     "name": "stdout",
     "output_type": "stream",
     "text": [
      "-----------  ------------------------------------\n",
      "Slice Name   P4_VCC_new\n",
      "Slice ID     e50232d9-3cd0-44ad-b32c-961f2a7e0f1a\n",
      "Slice State  StableOK\n",
      "Lease End    2022-09-02 15:05:35 +0000\n",
      "-----------  ------------------------------------\n"
     ]
    }
   ],
   "source": [
    "try:\n",
    "    slice = fablib.get_slice(name=slice_name)\n",
    "    print(f\"{slice}\")\n",
    "except Exception as e:\n",
    "    print(f\"Exception: {e}\")"
   ]
  },
  {
   "cell_type": "markdown",
   "metadata": {
    "tags": []
   },
   "source": [
    "### Print the Node List"
   ]
  },
  {
   "cell_type": "code",
   "execution_count": 8,
   "metadata": {},
   "outputs": [
    {
     "name": "stdout",
     "output_type": "stream",
     "text": [
      "ID                                    Name    Site    Host                         Cores    RAM    Disk  Image              Management IP    State    Error\n",
      "------------------------------------  ------  ------  -------------------------  -------  -----  ------  -----------------  ---------------  -------  -------\n",
      "4fa79a2c-8c65-4149-a79d-4e95e1283b23  s1      MAX     max-w5.fabric-testbed.net        2      8     100  default_ubuntu_20  63.239.135.99    Active\n",
      "494ec012-4973-47a7-8401-052480a8adad  s2      MAX     max-w5.fabric-testbed.net        2      8     100  default_ubuntu_20  63.239.135.73    Active\n",
      "ed97c34c-02c7-4a6f-8f29-c56617a523ad  s3      MAX     max-w5.fabric-testbed.net        2      8     100  default_ubuntu_20  63.239.135.75    Active\n",
      "84787d9e-4b37-4143-b3eb-2822d4e4d7d0  h1      MAX     max-w5.fabric-testbed.net        2      8      10  default_ubuntu_20  63.239.135.117   Active\n",
      "019f5a10-8aed-426e-b86c-579af627ce09  h2      MAX     max-w5.fabric-testbed.net        2      8      10  default_ubuntu_20  63.239.135.93    Active\n",
      "ec1d89ae-444d-4258-8121-222cce5d2c95  h3      MAX     max-w5.fabric-testbed.net        2      8      10  default_ubuntu_20  63.239.135.84    Active\n"
     ]
    }
   ],
   "source": [
    "try:\n",
    "    slice = fablib.get_slice(name=slice_name)\n",
    "\n",
    "    print(f\"{slice.list_nodes()}\")\n",
    "except Exception as e:\n",
    "    print(f\"Exception: {e}\")"
   ]
  },
  {
   "cell_type": "code",
   "execution_count": 9,
   "metadata": {},
   "outputs": [
    {
     "name": "stdout",
     "output_type": "stream",
     "text": [
      "Node:\n",
      "   Name              : s1\n",
      "   SSH Command       : ssh -i /home/fabric/work/fabric_config/.ssh/id_rsa -J durbek_gafurov_0000000854@bastion-1.fabric-testbed.net ubuntu@63.239.135.99\n",
      "           OS iface name       : ens7\n",
      "           OS iface name       : ens9\n",
      "           OS iface name       : ens8\n",
      "Node:\n",
      "   Name              : s2\n",
      "   SSH Command       : ssh -i /home/fabric/work/fabric_config/.ssh/id_rsa -J durbek_gafurov_0000000854@bastion-1.fabric-testbed.net ubuntu@63.239.135.73\n",
      "           OS iface name       : ens9\n",
      "           OS iface name       : ens7\n",
      "           OS iface name       : ens8\n",
      "Node:\n",
      "   Name              : s3\n",
      "   SSH Command       : ssh -i /home/fabric/work/fabric_config/.ssh/id_rsa -J durbek_gafurov_0000000854@bastion-1.fabric-testbed.net ubuntu@63.239.135.75\n",
      "           OS iface name       : ens9\n",
      "           OS iface name       : ens8\n",
      "           OS iface name       : ens7\n",
      "Node:\n",
      "   Name              : h1\n",
      "   SSH Command       : ssh -i /home/fabric/work/fabric_config/.ssh/id_rsa -J durbek_gafurov_0000000854@bastion-1.fabric-testbed.net ubuntu@63.239.135.117\n",
      "           OS iface name       : ens7\n",
      "Node:\n",
      "   Name              : h2\n",
      "   SSH Command       : ssh -i /home/fabric/work/fabric_config/.ssh/id_rsa -J durbek_gafurov_0000000854@bastion-1.fabric-testbed.net ubuntu@63.239.135.93\n",
      "           OS iface name       : ens7\n",
      "Node:\n",
      "   Name              : h3\n",
      "   SSH Command       : ssh -i /home/fabric/work/fabric_config/.ssh/id_rsa -J durbek_gafurov_0000000854@bastion-1.fabric-testbed.net ubuntu@63.239.135.84\n",
      "           OS iface name       : ens7\n"
     ]
    }
   ],
   "source": [
    "try:\n",
    "    slice = fablib.get_slice(name=slice_name)\n",
    "    for node in slice.get_nodes():\n",
    "        print(\"Node:\")\n",
    "        print(f\"   Name              : {node.get_name()}\")\n",
    "        # print(f\"   Cores             : {node.get_cores()}\")\n",
    "        # print(f\"   RAM               : {node.get_ram()}\")\n",
    "        # print(f\"   Disk              : {node.get_disk()}\")\n",
    "        # print(f\"   Image             : {node.get_image()}\")\n",
    "        # print(f\"   Image Type        : {node.get_image_type()}\")\n",
    "        # print(f\"   Host              : {node.get_host()}\")\n",
    "        # print(f\"   Site              : {node.get_site()}\")\n",
    "        # print(f\"   Management IP     : {node.get_management_ip()}\")\n",
    "        # print(f\"   Reservation ID    : {node.get_reservation_id()}\")\n",
    "        # print(f\"   Reservation State : {node.get_reservation_state()}\")\n",
    "        print(f\"   SSH Command       : {node.get_ssh_command()}\")\n",
    "        # print(f\"   Components        :  \")\n",
    "        # for component in node.get_components():\n",
    "        #     print(f\"      Name             : {component.get_name()}\")\n",
    "        #     print(f\"      Details          : {component.get_details()}\")\n",
    "        #     print(f\"      Disk (G)         : {component.get_disk()}\")\n",
    "        #     print(f\"      Units            : {component.get_unit()}\")\n",
    "        #     print(f\"      PCI Address      : {component.get_pci_addr()}\")\n",
    "        #     print(f\"      Model            : {component.get_model()}\")\n",
    "        #     print(f\"      Type             : {component.get_type()}\") \n",
    "        # print(f\"   Interfaces        :  \")\n",
    "        for interface in node.get_interfaces():\n",
    "        #     print(f\"       Name                : {interface.get_name()}\")\n",
    "        #     print(f\"           Bandwidth           : {interface.get_bandwidth()}\")\n",
    "            # print(f\"           VLAN                : {interface.get_vlan()}\")  \n",
    "            # print(f\"           MAC                 : {interface.get_mac()}\") \n",
    "            print(f\"           OS iface name       : {interface.get_os_interface()}\")\n",
    "    # for network in slice.get_l2networks():\n",
    "    #     print(\"Network:\")\n",
    "    #     print(f\"    Name:            {network.get_name()}\")\n",
    "    # print(f\"Interface Map: {slice.get_interface_map()}\")\n",
    "except Exception as e:\n",
    "    print(f\"Fail: {e}\")\n",
    "    traceback.print_exc()"
   ]
  },
  {
   "cell_type": "markdown",
   "metadata": {},
   "source": [
    "### Print the Node Details"
   ]
  },
  {
   "cell_type": "code",
   "execution_count": 10,
   "metadata": {},
   "outputs": [],
   "source": [
    "# try:\n",
    "#     slice = fablib.get_slice(name=slice_name)\n",
    "#     for node in slice.get_nodes():\n",
    "#         print(f\"{node}\")\n",
    "# except Exception as e:\n",
    "#     print(f\"Exception: {e}\")"
   ]
  },
  {
   "cell_type": "markdown",
   "metadata": {},
   "source": [
    "### Print the Node SSH Commands"
   ]
  },
  {
   "cell_type": "code",
   "execution_count": 11,
   "metadata": {},
   "outputs": [
    {
     "name": "stdout",
     "output_type": "stream",
     "text": [
      "s1: ssh -i /home/fabric/work/fabric_config/.ssh/id_rsa -J durbek_gafurov_0000000854@bastion-1.fabric-testbed.net ubuntu@63.239.135.99\n",
      "s2: ssh -i /home/fabric/work/fabric_config/.ssh/id_rsa -J durbek_gafurov_0000000854@bastion-1.fabric-testbed.net ubuntu@63.239.135.73\n",
      "s3: ssh -i /home/fabric/work/fabric_config/.ssh/id_rsa -J durbek_gafurov_0000000854@bastion-1.fabric-testbed.net ubuntu@63.239.135.75\n",
      "h1: ssh -i /home/fabric/work/fabric_config/.ssh/id_rsa -J durbek_gafurov_0000000854@bastion-1.fabric-testbed.net ubuntu@63.239.135.117\n",
      "h2: ssh -i /home/fabric/work/fabric_config/.ssh/id_rsa -J durbek_gafurov_0000000854@bastion-1.fabric-testbed.net ubuntu@63.239.135.93\n",
      "h3: ssh -i /home/fabric/work/fabric_config/.ssh/id_rsa -J durbek_gafurov_0000000854@bastion-1.fabric-testbed.net ubuntu@63.239.135.84\n"
     ]
    }
   ],
   "source": [
    "try:\n",
    "    slice = fablib.get_slice(name=slice_name)\n",
    "    for node in slice.get_nodes():\n",
    "        print(f\"{node.get_name()}: {node.get_ssh_command()}\")\n",
    "except Exception as e:\n",
    "    print(f\"Exception: {e}\")"
   ]
  },
  {
   "cell_type": "markdown",
   "metadata": {},
   "source": [
    "### Print the Interfaces"
   ]
  },
  {
   "cell_type": "code",
   "execution_count": 12,
   "metadata": {
    "tags": []
   },
   "outputs": [
    {
     "name": "stdout",
     "output_type": "stream",
     "text": [
      "Name                  Node    Network      Bandwidth  VLAN    MAC                Physical OS Interface    OS Interface\n",
      "--------------------  ------  ---------  -----------  ------  -----------------  -----------------------  --------------\n",
      "s1-s1_switch_nic2-p1  s1      net_s1_s3            0          1E:E5:29:B4:DF:4F  ens7                     ens7\n",
      "s1-s1_local_nic-p1    s1      net_h1               0          22:FF:DE:ED:FA:15  ens9                     ens9\n",
      "s1-s1_switch_nic1-p1  s1      net_s1_s2            0          22:55:F3:E1:8C:7C  ens8                     ens8\n",
      "s2-s2_switch_nic1-p1  s2      net_s1_s2            0          26:51:CC:A6:E6:9E  ens9                     ens9\n",
      "s2-s2_switch_nic2-p1  s2      net_s2_s3            0          26:0E:91:21:49:0A  ens7                     ens7\n",
      "s2-s2_local_nic-p1    s2      net_h2               0          26:1E:1E:F8:9E:F8  ens8                     ens8\n",
      "s3-s3_local_nic-p1    s3      net_h3               0          2A:5F:FB:92:07:F6  ens9                     ens9\n",
      "s3-s3_switch_nic1-p1  s3      net_s1_s3            0          26:F7:5A:56:28:4C  ens8                     ens8\n",
      "s3-s3_switch_nic2-p1  s3      net_s2_s3            0          26:EE:CE:BD:92:82  ens7                     ens7\n",
      "h1-h1_nic-p1          h1      net_h1               0          2A:AE:C2:4C:53:D0  ens7                     ens7\n",
      "h2-h2_nic-p1          h2      net_h2               0          3E:7F:FE:25:72:3C  ens7                     ens7\n",
      "h3-h3_nic-p1          h3      net_h3               0          3E:EB:F7:5A:64:C9  ens7                     ens7\n"
     ]
    }
   ],
   "source": [
    "# try:\n",
    "#     slice = fablib.get_slice(name=slice_name)\n",
    "    \n",
    "#     print(f\"{slice.list_interfaces()}\")\n",
    "# except Exception as e:\n",
    "#     print(f\"Exception: {e}\")"
   ]
  },
  {
   "cell_type": "markdown",
   "metadata": {},
   "source": [
    "## Configure Nodes\n"
   ]
  },
  {
   "cell_type": "code",
   "execution_count": 13,
   "metadata": {},
   "outputs": [],
   "source": [
    "config_threads = {}"
   ]
  },
  {
   "cell_type": "code",
   "execution_count": 14,
   "metadata": {},
   "outputs": [],
   "source": [
    "host_config_script = \"sudo apt-get update -qq && sudo apt-get install -qq -y python3-scapy && git clone https://github.com/p4lang/tutorials.git/\" \n",
    "\n",
    "try:\n",
    "    \n",
    "    h1 = slice.get_node(name=h1_name)        \n",
    "    h1_os_iface = h1.get_interface(network_name=net_h1_name)\n",
    "    h1_os_iface.ip_addr_add(addr=h1_addr, subnet=h1_subnet)\n",
    "    h1_config_thread = h1.execute_thread(host_config_script)\n",
    "    config_threads[h1] = h1_config_thread\n",
    "\n",
    "    \n",
    "    h2 = slice.get_node(name=h2_name)\n",
    "    h2_os_iface = h2.get_interface(network_name=net_h2_name)\n",
    "    h2_os_iface.ip_addr_add(addr=h2_addr, subnet=h2_subnet)\n",
    "    h2_config_thread = h2.execute_thread(host_config_script)\n",
    "    config_threads[h2] = h2_config_thread\n",
    "\n",
    "    h3 = slice.get_node(name=h3_name)\n",
    "    h3_os_iface = h3.get_interface(network_name=net_h3_name)\n",
    "    h3_os_iface.ip_addr_add(addr=h3_addr, subnet=h3_subnet)\n",
    "    h3_config_thread = h3.execute_thread(host_config_script)\n",
    "    config_threads[h3] = h3_config_thread\n",
    "\n",
    "except Exception as e:\n",
    "    print(f\"Error: {e}\")\n",
    "    traceback.print_exc()"
   ]
  },
  {
   "cell_type": "markdown",
   "metadata": {},
   "source": [
    "## Configure Switches\n",
    "\n",
    "Use ssh to configure the ifaces on the switches. This step requires testing the interfaces to figure out which interface is connected to which network.\n"
   ]
  },
  {
   "cell_type": "markdown",
   "metadata": {},
   "source": [
    "#### Setup P4 Docker\n",
    "\n"
   ]
  },
  {
   "cell_type": "markdown",
   "metadata": {},
   "source": [
    "Below are commands to let sudo work with the global proxy."
   ]
  },
  {
   "cell_type": "code",
   "execution_count": 15,
   "metadata": {},
   "outputs": [
    {
     "name": "stdout",
     "output_type": "stream",
     "text": [
      "chmod +x router_setup_p4_bmv2_container.sh && sudo sh -c './router_setup_p4_bmv2_container.sh ens9 ens8 ens7  > /tmp/script.log 2>&1'\n"
     ]
    }
   ],
   "source": [
    "try:\n",
    "    s1 = slice.get_node(name=s1_name)\n",
    "    s1_h1_os_iface = s1.get_interface(network_name=net_h1_name)\n",
    "    s1_s2_os_iface = s1.get_interface(network_name=net_s1_s2_name)\n",
    "    s1_s3_os_iface = s1.get_interface(network_name=net_s1_s3_name)\n",
    "    \n",
    "    file_attributes = s1.upload_file('./scripts/router_setup_p4_bmv2_container.sh','router_setup_p4_bmv2_container.sh')\n",
    "    command=f\"chmod +x router_setup_p4_bmv2_container.sh && sudo sh -c './router_setup_p4_bmv2_container.sh {s1_h1_os_iface.get_os_interface()} {s1_s2_os_iface.get_os_interface()} {s1_s3_os_iface.get_os_interface()}  > /tmp/script.log 2>&1'\"\n",
    "    s1_config_thread = s1.execute_thread(command)\n",
    "    config_threads[s1] = s1_config_thread\n",
    "    print(command)\n",
    "\n",
    "\n",
    "except Exception as e:\n",
    "    print(f\"Error: {e}\")\n",
    "    traceback.print_exc()"
   ]
  },
  {
   "cell_type": "code",
   "execution_count": 16,
   "metadata": {},
   "outputs": [
    {
     "name": "stdout",
     "output_type": "stream",
     "text": [
      "chmod +x router_setup_p4_bmv2_container.sh && sudo sh -c './router_setup_p4_bmv2_container.sh ens8 ens9 ens7  > /tmp/script.log 2>&1'\n"
     ]
    }
   ],
   "source": [
    "try:\n",
    "    s2 = slice.get_node(name=s2_name)\n",
    "    s2_h2_os_iface = s2.get_interface(network_name=net_h2_name)\n",
    "    s2_s1_os_iface = s2.get_interface(network_name=net_s1_s2_name)\n",
    "    s2_s3_os_iface = s2.get_interface(network_name=net_s2_s3_name)\n",
    "\n",
    "    \n",
    "    file_attributes = s2.upload_file('scripts/router_setup_p4_bmv2_container.sh','router_setup_p4_bmv2_container.sh')\n",
    "    command= f\"chmod +x router_setup_p4_bmv2_container.sh && sudo sh -c './router_setup_p4_bmv2_container.sh {s2_h2_os_iface.get_os_interface()} {s2_s1_os_iface.get_os_interface()} {s2_s3_os_iface.get_os_interface()}  > /tmp/script.log 2>&1'\"\n",
    "    s2_config_thread = s2.execute_thread(command)\n",
    "    config_threads[s2] = s2_config_thread\n",
    "    print(command)\n",
    "\n",
    "except Exception as e:\n",
    "    print(f\"Error: {e}\")\n",
    "    traceback.print_exc() "
   ]
  },
  {
   "cell_type": "code",
   "execution_count": 17,
   "metadata": {},
   "outputs": [
    {
     "name": "stdout",
     "output_type": "stream",
     "text": [
      "chmod +x router_setup_p4_bmv2_container.sh && sudo sh -c './router_setup_p4_bmv2_container.sh ens9 ens8 ens7 > /tmp/script.log 2>&1'\n"
     ]
    }
   ],
   "source": [
    "try:\n",
    "    s3 = slice.get_node(name=s3_name)\n",
    "    s3_h3_os_iface = s3.get_interface(network_name=net_h3_name)\n",
    "    s3_s1_os_iface = s3.get_interface(network_name=net_s1_s3_name)\n",
    "    s3_s2_os_iface = s3.get_interface(network_name=net_s2_s3_name)\n",
    "\n",
    "     \n",
    "    file_attributes = s3.upload_file('scripts/router_setup_p4_bmv2_container.sh','router_setup_p4_bmv2_container.sh')\n",
    "    command = f\"chmod +x router_setup_p4_bmv2_container.sh && sudo sh -c './router_setup_p4_bmv2_container.sh {s3_h3_os_iface.get_os_interface()} {s3_s1_os_iface.get_os_interface()} {s3_s2_os_iface.get_os_interface()} > /tmp/script.log 2>&1'\"\n",
    "    s3_config_thread = s3.execute_thread(command)\n",
    "    config_threads[s3] = s3_config_thread\n",
    "    print(command)\n",
    "\n",
    "\n",
    "except Exception as e:\n",
    "    print(f\"Error: {e}\")\n",
    "    traceback.print_exc() "
   ]
  },
  {
   "cell_type": "code",
   "execution_count": 18,
   "metadata": {},
   "outputs": [
    {
     "name": "stdout",
     "output_type": "stream",
     "text": [
      "Config thread node h1 complete\n",
      "stdout: Selecting previously unselected package python3-backcall.\n",
      "(Reading database ... 63626 files and directories currently installed.)\n",
      "Preparing to unpack .../00-python3-backcall_0.1.0-2_all.deb ...\n",
      "Unpacking python3-backcall (0.1.0-2) ...\n",
      "Selecting previously unselected package python3-decorator.\n",
      "Preparing to unpack .../01-python3-decorator_4.4.2-0ubuntu1_all.deb ...\n",
      "Unpacking python3-decorator (4.4.2-0ubuntu1) ...\n",
      "Selecting previously unselected package python3-parso.\n",
      "Preparing to unpack .../02-python3-parso_0.5.2-1ubuntu1_all.deb ...\n",
      "Unpacking python3-parso (0.5.2-1ubuntu1) ...\n",
      "Selecting previously unselected package python3-jedi.\n",
      "Preparing to unpack .../03-python3-jedi_0.15.2-1_all.deb ...\n",
      "Unpacking python3-jedi (0.15.2-1) ...\n",
      "Selecting previously unselected package python3-pickleshare.\n",
      "Preparing to unpack .../04-python3-pickleshare_0.7.5-2_all.deb ...\n",
      "Unpacking python3-pickleshare (0.7.5-2) ...\n",
      "Selecting previously unselected package python3-wcwidth.\n",
      "Preparing to unpack .../05-python3-wcwidth_0.1.8+dfsg1-3_all.deb ...\n",
      "Unpacking python3-wcwidth (0.1.8+dfsg1-3) ...\n",
      "Selecting previously unselected package python3-prompt-toolkit.\n",
      "Preparing to unpack .../06-python3-prompt-toolkit_2.0.10-2_all.deb ...\n",
      "Unpacking python3-prompt-toolkit (2.0.10-2) ...\n",
      "Selecting previously unselected package python3-pygments.\n",
      "Preparing to unpack .../07-python3-pygments_2.3.1+dfsg-1ubuntu2.2_all.deb ...\n",
      "Unpacking python3-pygments (2.3.1+dfsg-1ubuntu2.2) ...\n",
      "Selecting previously unselected package python3-ipython-genutils.\n",
      "Preparing to unpack .../08-python3-ipython-genutils_0.2.0-1ubuntu1_all.deb ...\n",
      "Unpacking python3-ipython-genutils (0.2.0-1ubuntu1) ...\n",
      "Selecting previously unselected package python3-traitlets.\n",
      "Preparing to unpack .../09-python3-traitlets_4.3.3-3_all.deb ...\n",
      "Unpacking python3-traitlets (4.3.3-3) ...\n",
      "Selecting previously unselected package python3-ipython.\n",
      "Preparing to unpack .../10-python3-ipython_7.13.0-1_all.deb ...\n",
      "Unpacking python3-ipython (7.13.0-1) ...\n",
      "Selecting previously unselected package ipython3.\n",
      "Preparing to unpack .../11-ipython3_7.13.0-1_all.deb ...\n",
      "Unpacking ipython3 (7.13.0-1) ...\n",
      "Selecting previously unselected package python3-scapy.\n",
      "Preparing to unpack .../12-python3-scapy_2.4.3-4_all.deb ...\n",
      "Unpacking python3-scapy (2.4.3-4) ...\n",
      "Setting up python3-backcall (0.1.0-2) ...\n",
      "Setting up python3-parso (0.5.2-1ubuntu1) ...\n",
      "Setting up python3-ipython-genutils (0.2.0-1ubuntu1) ...\n",
      "Setting up python3-decorator (4.4.2-0ubuntu1) ...\n",
      "Setting up python3-pygments (2.3.1+dfsg-1ubuntu2.2) ...\n",
      "Setting up python3-wcwidth (0.1.8+dfsg1-3) ...\n",
      "Setting up python3-pickleshare (0.7.5-2) ...\n",
      "Setting up python3-scapy (2.4.3-4) ...\n",
      "Setting up python3-traitlets (4.3.3-3) ...\n",
      "Setting up python3-prompt-toolkit (2.0.10-2) ...\n",
      "Setting up python3-jedi (0.15.2-1) ...\n",
      "Setting up python3-ipython (7.13.0-1) ...\n",
      "Setting up ipython3 (7.13.0-1) ...\n",
      "Processing triggers for man-db (2.9.1-1) ...\n",
      "\n",
      "stderr: debconf: unable to initialize frontend: Dialog\n",
      "debconf: (Dialog frontend will not work on a dumb terminal, an emacs shell buffer, or without a controlling terminal.)\n",
      "debconf: falling back to frontend: Readline\n",
      "debconf: unable to initialize frontend: Readline\n",
      "debconf: (This frontend requires a controlling tty.)\n",
      "debconf: falling back to frontend: Teletype\n",
      "dpkg-preconfigure: unable to re-open stdin: \n",
      "Cloning into 'tutorials'...\n",
      "\n",
      "Config thread node h2 complete\n",
      "stdout: Selecting previously unselected package python3-backcall.\n",
      "(Reading database ... 63626 files and directories currently installed.)\n",
      "Preparing to unpack .../00-python3-backcall_0.1.0-2_all.deb ...\n",
      "Unpacking python3-backcall (0.1.0-2) ...\n",
      "Selecting previously unselected package python3-decorator.\n",
      "Preparing to unpack .../01-python3-decorator_4.4.2-0ubuntu1_all.deb ...\n",
      "Unpacking python3-decorator (4.4.2-0ubuntu1) ...\n",
      "Selecting previously unselected package python3-parso.\n",
      "Preparing to unpack .../02-python3-parso_0.5.2-1ubuntu1_all.deb ...\n",
      "Unpacking python3-parso (0.5.2-1ubuntu1) ...\n",
      "Selecting previously unselected package python3-jedi.\n",
      "Preparing to unpack .../03-python3-jedi_0.15.2-1_all.deb ...\n",
      "Unpacking python3-jedi (0.15.2-1) ...\n",
      "Selecting previously unselected package python3-pickleshare.\n",
      "Preparing to unpack .../04-python3-pickleshare_0.7.5-2_all.deb ...\n",
      "Unpacking python3-pickleshare (0.7.5-2) ...\n",
      "Selecting previously unselected package python3-wcwidth.\n",
      "Preparing to unpack .../05-python3-wcwidth_0.1.8+dfsg1-3_all.deb ...\n",
      "Unpacking python3-wcwidth (0.1.8+dfsg1-3) ...\n",
      "Selecting previously unselected package python3-prompt-toolkit.\n",
      "Preparing to unpack .../06-python3-prompt-toolkit_2.0.10-2_all.deb ...\n",
      "Unpacking python3-prompt-toolkit (2.0.10-2) ...\n",
      "Selecting previously unselected package python3-pygments.\n",
      "Preparing to unpack .../07-python3-pygments_2.3.1+dfsg-1ubuntu2.2_all.deb ...\n",
      "Unpacking python3-pygments (2.3.1+dfsg-1ubuntu2.2) ...\n",
      "Selecting previously unselected package python3-ipython-genutils.\n",
      "Preparing to unpack .../08-python3-ipython-genutils_0.2.0-1ubuntu1_all.deb ...\n",
      "Unpacking python3-ipython-genutils (0.2.0-1ubuntu1) ...\n",
      "Selecting previously unselected package python3-traitlets.\n",
      "Preparing to unpack .../09-python3-traitlets_4.3.3-3_all.deb ...\n",
      "Unpacking python3-traitlets (4.3.3-3) ...\n",
      "Selecting previously unselected package python3-ipython.\n",
      "Preparing to unpack .../10-python3-ipython_7.13.0-1_all.deb ...\n",
      "Unpacking python3-ipython (7.13.0-1) ...\n",
      "Selecting previously unselected package ipython3.\n",
      "Preparing to unpack .../11-ipython3_7.13.0-1_all.deb ...\n",
      "Unpacking ipython3 (7.13.0-1) ...\n",
      "Selecting previously unselected package python3-scapy.\n",
      "Preparing to unpack .../12-python3-scapy_2.4.3-4_all.deb ...\n",
      "Unpacking python3-scapy (2.4.3-4) ...\n",
      "Setting up python3-backcall (0.1.0-2) ...\n",
      "Setting up python3-parso (0.5.2-1ubuntu1) ...\n",
      "Setting up python3-ipython-genutils (0.2.0-1ubuntu1) ...\n",
      "Setting up python3-decorator (4.4.2-0ubuntu1) ...\n",
      "Setting up python3-pygments (2.3.1+dfsg-1ubuntu2.2) ...\n",
      "Setting up python3-wcwidth (0.1.8+dfsg1-3) ...\n",
      "Setting up python3-pickleshare (0.7.5-2) ...\n",
      "Setting up python3-scapy (2.4.3-4) ...\n",
      "Setting up python3-traitlets (4.3.3-3) ...\n",
      "Setting up python3-prompt-toolkit (2.0.10-2) ...\n",
      "Setting up python3-jedi (0.15.2-1) ...\n",
      "Setting up python3-ipython (7.13.0-1) ...\n",
      "Setting up ipython3 (7.13.0-1) ...\n",
      "Processing triggers for man-db (2.9.1-1) ...\n",
      "\n",
      "stderr: debconf: unable to initialize frontend: Dialog\n",
      "debconf: (Dialog frontend will not work on a dumb terminal, an emacs shell buffer, or without a controlling terminal.)\n",
      "debconf: falling back to frontend: Readline\n",
      "debconf: unable to initialize frontend: Readline\n",
      "debconf: (This frontend requires a controlling tty.)\n",
      "debconf: falling back to frontend: Teletype\n",
      "dpkg-preconfigure: unable to re-open stdin: \n",
      "Cloning into 'tutorials'...\n",
      "\n",
      "Config thread node h3 complete\n",
      "stdout: Selecting previously unselected package python3-backcall.\n",
      "(Reading database ... 63626 files and directories currently installed.)\n",
      "Preparing to unpack .../00-python3-backcall_0.1.0-2_all.deb ...\n",
      "Unpacking python3-backcall (0.1.0-2) ...\n",
      "Selecting previously unselected package python3-decorator.\n",
      "Preparing to unpack .../01-python3-decorator_4.4.2-0ubuntu1_all.deb ...\n",
      "Unpacking python3-decorator (4.4.2-0ubuntu1) ...\n",
      "Selecting previously unselected package python3-parso.\n",
      "Preparing to unpack .../02-python3-parso_0.5.2-1ubuntu1_all.deb ...\n",
      "Unpacking python3-parso (0.5.2-1ubuntu1) ...\n",
      "Selecting previously unselected package python3-jedi.\n",
      "Preparing to unpack .../03-python3-jedi_0.15.2-1_all.deb ...\n",
      "Unpacking python3-jedi (0.15.2-1) ...\n",
      "Selecting previously unselected package python3-pickleshare.\n",
      "Preparing to unpack .../04-python3-pickleshare_0.7.5-2_all.deb ...\n",
      "Unpacking python3-pickleshare (0.7.5-2) ...\n",
      "Selecting previously unselected package python3-wcwidth.\n",
      "Preparing to unpack .../05-python3-wcwidth_0.1.8+dfsg1-3_all.deb ...\n",
      "Unpacking python3-wcwidth (0.1.8+dfsg1-3) ...\n",
      "Selecting previously unselected package python3-prompt-toolkit.\n",
      "Preparing to unpack .../06-python3-prompt-toolkit_2.0.10-2_all.deb ...\n",
      "Unpacking python3-prompt-toolkit (2.0.10-2) ...\n",
      "Selecting previously unselected package python3-pygments.\n",
      "Preparing to unpack .../07-python3-pygments_2.3.1+dfsg-1ubuntu2.2_all.deb ...\n",
      "Unpacking python3-pygments (2.3.1+dfsg-1ubuntu2.2) ...\n",
      "Selecting previously unselected package python3-ipython-genutils.\n",
      "Preparing to unpack .../08-python3-ipython-genutils_0.2.0-1ubuntu1_all.deb ...\n",
      "Unpacking python3-ipython-genutils (0.2.0-1ubuntu1) ...\n",
      "Selecting previously unselected package python3-traitlets.\n",
      "Preparing to unpack .../09-python3-traitlets_4.3.3-3_all.deb ...\n",
      "Unpacking python3-traitlets (4.3.3-3) ...\n",
      "Selecting previously unselected package python3-ipython.\n",
      "Preparing to unpack .../10-python3-ipython_7.13.0-1_all.deb ...\n",
      "Unpacking python3-ipython (7.13.0-1) ...\n",
      "Selecting previously unselected package ipython3.\n",
      "Preparing to unpack .../11-ipython3_7.13.0-1_all.deb ...\n",
      "Unpacking ipython3 (7.13.0-1) ...\n",
      "Selecting previously unselected package python3-scapy.\n",
      "Preparing to unpack .../12-python3-scapy_2.4.3-4_all.deb ...\n",
      "Unpacking python3-scapy (2.4.3-4) ...\n",
      "Setting up python3-backcall (0.1.0-2) ...\n",
      "Setting up python3-parso (0.5.2-1ubuntu1) ...\n",
      "Setting up python3-ipython-genutils (0.2.0-1ubuntu1) ...\n",
      "Setting up python3-decorator (4.4.2-0ubuntu1) ...\n",
      "Setting up python3-pygments (2.3.1+dfsg-1ubuntu2.2) ...\n",
      "Setting up python3-wcwidth (0.1.8+dfsg1-3) ...\n",
      "Setting up python3-pickleshare (0.7.5-2) ...\n",
      "Setting up python3-scapy (2.4.3-4) ...\n",
      "Setting up python3-traitlets (4.3.3-3) ...\n",
      "Setting up python3-prompt-toolkit (2.0.10-2) ...\n",
      "Setting up python3-jedi (0.15.2-1) ...\n",
      "Setting up python3-ipython (7.13.0-1) ...\n",
      "Setting up ipython3 (7.13.0-1) ...\n",
      "Processing triggers for man-db (2.9.1-1) ...\n",
      "\n",
      "stderr: debconf: unable to initialize frontend: Dialog\n",
      "debconf: (Dialog frontend will not work on a dumb terminal, an emacs shell buffer, or without a controlling terminal.)\n",
      "debconf: falling back to frontend: Readline\n",
      "debconf: unable to initialize frontend: Readline\n",
      "debconf: (This frontend requires a controlling tty.)\n",
      "debconf: falling back to frontend: Teletype\n",
      "dpkg-preconfigure: unable to re-open stdin: \n",
      "Cloning into 'tutorials'...\n",
      "\n",
      "Config thread node s1 complete\n",
      "stdout: \n",
      "stderr: \n",
      "Config thread node s2 complete\n",
      "stdout: \n",
      "stderr: \n",
      "Config thread node s3 complete\n",
      "stdout: \n",
      "stderr: \n"
     ]
    }
   ],
   "source": [
    "try: \n",
    "    for node, thread in config_threads.items():\n",
    "        stdout, stderr = thread.result()\n",
    "        print(f\"Config thread node {node.get_name()} complete\")\n",
    "        print(f\"stdout: {stdout}\")\n",
    "        print(f\"stderr: {stderr}\")\n",
    "except Exception as e:\n",
    "    print(f\"Error: {e}\")\n",
    "    traceback.print_exc() \n"
   ]
  },
  {
   "cell_type": "markdown",
   "metadata": {},
   "source": [
    "### Confgure P4 Switch Tables\n",
    "\n",
    "Edit sX_commands.txt to change the values"
   ]
  },
  {
   "cell_type": "code",
   "execution_count": null,
   "metadata": {},
   "outputs": [
    {
     "name": "stdout",
     "output_type": "stream",
     "text": [
      "Swtitch Name        : s1\n",
      "Management IP    : 63.239.135.99\n",
      "s1_commands.txt\n",
      "file_attributes: -rw-rw-r--   1 1000     1000          185 01 Sep 15:28 ?\n",
      "stdout: ('Obtaining JSON from switch...\\nDone\\nControl utility for runtime P4 table manipulation\\nRuntimeCmd: Setting default action of myTunnel_exact\\naction:              drop\\nruntime data:        \\nRuntimeCmd: Adding entry to exact match table myTunnel_exact\\nmatch key:           EXACT-00:01\\naction:              myTunnel_forward\\nruntime data:        00:01\\nEntry has been added with handle 0\\nRuntimeCmd: Adding entry to exact match table myTunnel_exact\\nmatch key:           EXACT-00:02\\naction:              myTunnel_forward\\nruntime data:        00:02\\nEntry has been added with handle 1\\nRuntimeCmd: Adding entry to exact match table myTunnel_exact\\nmatch key:           EXACT-00:03\\naction:              myTunnel_forward\\nruntime data:        00:03\\nEntry has been added with handle 2\\nRuntimeCmd: \\n', '')\n",
      "Swtitch Name        : s2\n",
      "Management IP    : 63.239.135.73\n",
      "s2_commands.txt\n",
      "file_attributes: -rw-rw-r--   1 1000     1000          185 01 Sep 15:29 ?\n",
      "stdout: ('Obtaining JSON from switch...\\nDone\\nControl utility for runtime P4 table manipulation\\nRuntimeCmd: Setting default action of myTunnel_exact\\naction:              drop\\nruntime data:        \\nRuntimeCmd: Adding entry to exact match table myTunnel_exact\\nmatch key:           EXACT-00:01\\naction:              myTunnel_forward\\nruntime data:        00:02\\nEntry has been added with handle 0\\nRuntimeCmd: Adding entry to exact match table myTunnel_exact\\nmatch key:           EXACT-00:02\\naction:              myTunnel_forward\\nruntime data:        00:01\\nEntry has been added with handle 1\\nRuntimeCmd: Adding entry to exact match table myTunnel_exact\\nmatch key:           EXACT-00:03\\naction:              myTunnel_forward\\nruntime data:        00:03\\nEntry has been added with handle 2\\nRuntimeCmd: \\n', '')\n",
      "Swtitch Name        : s3\n",
      "Management IP    : 63.239.135.75\n",
      "s3_commands.txt\n"
     ]
    }
   ],
   "source": [
    "for switch_name in [s1_name, s2_name, s3_name]:\n",
    "    switch_node = slice.get_node(name=switch_name)\n",
    "    management_ip_switch = str(switch_node.get_management_ip())\n",
    "    print(\"Swtitch Name        : {}\".format(switch_node.get_name()))\n",
    "    print(\"Management IP    : {}\".format(management_ip_switch))\n",
    "    \n",
    "    #Configure P4 Tables\n",
    "    cmd_file=f'{switch_name}_commands.txt'\n",
    "    print(cmd_file)\n",
    "    file_attributes = switch_node.upload_file(f'scripts/{cmd_file}',cmd_file)\n",
    "    print(\"file_attributes: {}\".format(file_attributes))\n",
    "\n",
    "    stdout = switch_node.execute(f\"sudo sh -c 'cat {cmd_file} | docker exec -i fabric_p4 simple_switch_CLI'\")\n",
    "    print(\"stdout: {}\".format(stdout))"
   ]
  },
  {
   "cell_type": "markdown",
   "metadata": {},
   "source": [
    "## The switches are now configured and running. Now we are going to send packets over the switches."
   ]
  },
  {
   "cell_type": "markdown",
   "metadata": {},
   "source": [
    "We are going to use `send.py` and `receive.py`. We are going to re-upload them to the servers and use them. Make sure to modify the interface names in the script accordingly."
   ]
  },
  {
   "cell_type": "code",
   "execution_count": null,
   "metadata": {},
   "outputs": [],
   "source": [
    "h1.upload_file('scripts/send.py', 'tutorials/exercises/basic_tunnel/send_modified.py')\n",
    "h1.upload_file('scripts/receive.py', 'tutorials/exercises/basic_tunnel/receive_modified.py')\n",
    "h2.upload_file('scripts/send.py', 'tutorials/exercises/basic_tunnel/send_modified.py')\n",
    "h2.upload_file('scripts/receive.py', 'tutorials/exercises/basic_tunnel/receive_modified.py')\n",
    "h3.upload_file('scripts/send.py', 'tutorials/exercises/basic_tunnel/send_modified.py')\n",
    "h3.upload_file('scripts/receive.py', 'tutorials/exercises/basic_tunnel/receive_modified.py')"
   ]
  },
  {
   "cell_type": "markdown",
   "metadata": {},
   "source": [
    "## H1 sends packet, H2 recieves"
   ]
  },
  {
   "cell_type": "code",
   "execution_count": null,
   "metadata": {},
   "outputs": [],
   "source": [
    "h1.execute('tmux new -d \\'timeout 30 watch -n 5 sudo python3 tutorials/exercises/basic_tunnel/send_modified.py --dst_id 2 10.0.2.2 \"message100\"\\'')\n",
    "print(h2.execute('sudo timeout 30 sudo python3 tutorials/exercises/basic_tunnel/receive_modified.py')[0])"
   ]
  },
  {
   "cell_type": "markdown",
   "metadata": {},
   "source": [
    "## H1 sends packet, H3 recieves"
   ]
  },
  {
   "cell_type": "code",
   "execution_count": null,
   "metadata": {},
   "outputs": [],
   "source": [
    "h1.execute('tmux new -d \\'timeout 30 watch -n 5 sudo python3 tutorials/exercises/basic_tunnel/send_modified.py --dst_id 3 10.10.2.2 \"message100\"\\'')\n",
    "print(h3.execute('sudo timeout 30 sudo python3 tutorials/exercises/basic_tunnel/receive_modified.py')[0])"
   ]
  },
  {
   "cell_type": "markdown",
   "metadata": {},
   "source": [
    "## H2 sends packet, H1 recieves"
   ]
  },
  {
   "cell_type": "code",
   "execution_count": null,
   "metadata": {},
   "outputs": [],
   "source": [
    "h2.execute('tmux new -d \\'timeout 30 watch -n 5 sudo python3 tutorials/exercises/basic_tunnel/send_modified.py --dst_id 1 10.0.1.1 \"message100\"\\'')\n",
    "print(h1.execute('sudo timeout 30 sudo python3 tutorials/exercises/basic_tunnel/receive_modified.py')[0])"
   ]
  },
  {
   "cell_type": "markdown",
   "metadata": {},
   "source": [
    "## Delete Slice"
   ]
  },
  {
   "cell_type": "code",
   "execution_count": null,
   "metadata": {},
   "outputs": [],
   "source": [
    "# try:\n",
    "#     slice = fablib.get_slice(name=slice_name)\n",
    "#     slice.delete()\n",
    "# except Exception as e:\n",
    "#     print(f\"Fail: {e}\")\n",
    "#     traceback.print_exc()"
   ]
  },
  {
   "cell_type": "code",
   "execution_count": null,
   "metadata": {},
   "outputs": [],
   "source": []
  }
 ],
 "metadata": {
  "kernelspec": {
   "display_name": "Python 3 (ipykernel)",
   "language": "python",
   "name": "python3"
  },
  "language_info": {
   "codemirror_mode": {
    "name": "ipython",
    "version": 3
   },
   "file_extension": ".py",
   "mimetype": "text/x-python",
   "name": "python",
   "nbconvert_exporter": "python",
   "pygments_lexer": "ipython3",
   "version": "3.9.7"
  }
 },
 "nbformat": 4,
 "nbformat_minor": 4
}
