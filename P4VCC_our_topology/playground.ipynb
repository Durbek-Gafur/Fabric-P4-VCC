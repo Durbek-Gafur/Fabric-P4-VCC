{
 "cells": [
  {
   "cell_type": "code",
   "execution_count": 1,
   "id": "2d8f7023-a9ff-40a8-aa76-ac104554a453",
   "metadata": {
    "tags": []
   },
   "outputs": [],
   "source": [
    "import json\n",
    "import traceback\n",
    "from fabrictestbed_extensions.fablib.fablib import fablib"
   ]
  },
  {
   "cell_type": "code",
   "execution_count": 2,
   "id": "f336fc78-e6de-4fe0-8d8e-ae159f6afdec",
   "metadata": {},
   "outputs": [
    {
     "name": "stdout",
     "output_type": "stream",
     "text": [
      "Name      CPUs  Cores    RAM (G)    Disk (G)       Basic (100 Gbps NIC)    ConnectX-6 (100 Gbps x2 NIC)    ConnectX-5 (25 Gbps x2 NIC)    P4510 (NVMe 1TB)    Tesla T4 (GPU)    RTX6000 (GPU)\n",
      "------  ------  -------  ---------  -------------  ----------------------  ------------------------------  -----------------------------  ------------------  ----------------  ---------------\n",
      "MASS         4  125/128  1016/1024  55750/55800    253/254                 2/2                             0/0                            6/6                 0/0               3/3\n",
      "MAX         10  258/320  2366/2560  115348/116400  595/635                 1/2                             3/4                            16/16               4/4               6/6\n",
      "TACC        10  274/320  2388/2560  116102/116400  605/635                 0/2                             1/4                            16/16               4/4               6/6\n",
      "MICH         6  192/192  1536/1536  60600/60600    381/381                 2/2                             2/2                            10/10               2/2               3/3\n",
      "SALT         6  190/192  1528/1536  60590/60600    380/381                 2/2                             2/2                            10/10               2/2               3/3\n",
      "STAR        12  375/384  3040/3072  121120/121200  757/762                 2/2                             6/6                            20/20               6/6               6/6\n",
      "UTAH        10  318/320  2552/2560  116390/116400  634/635                 2/2                             4/4                            16/16               4/4               5/5\n",
      "UCSD        10  320/320  2560/2560  116400/116400  635/635                 2/2                             4/4                            16/16               4/4               6/6\n",
      "FIU         10  320/320  2560/2560  116400/116400  635/635                 2/2                             4/4                            16/16               4/4               6/6\n",
      "WASH         6  190/192  1528/1536  60590/60600    379/381                 2/2                             2/2                            10/10               2/2               3/3\n",
      "DALL         6  192/192  1536/1536  60600/60600    381/381                 2/2                             2/2                            10/10               2/2               3/3\n",
      "NCSA         6  192/192  1536/1536  60600/60600    381/381                 2/2                             2/2                            10/10               2/2               3/3\n"
     ]
    }
   ],
   "source": [
    "try:\n",
    "    # print(dir(fablib))\n",
    "    print(f\"{fablib.list_sites()}\")\n",
    "except Exception as e:\n",
    "    print(f\"Exception: {e}\")"
   ]
  },
  {
   "cell_type": "code",
   "execution_count": 3,
   "id": "b065dc7a-f57a-466e-afb7-0c7564784ae3",
   "metadata": {},
   "outputs": [
    {
     "name": "stdout",
     "output_type": "stream",
     "text": [
      "Sites: MAX,MAX,MAX\n"
     ]
    }
   ],
   "source": [
    "from ipaddress import ip_address, IPv4Address, IPv6Address, IPv4Network, IPv6Network\n",
    "\n",
    "# Slice \n",
    "slice_name = 'playground2'\n",
    "\n",
    "# [site1,site2,site3] = fablib.get_random_sites(count=3)\n",
    "site1 = site2 = site3 = 'MAX'\n",
    "print(f\"Sites: {site1},{site2},{site3}\")\n",
    "\n",
    "\n",
    "# Switches\n",
    "s1_name = \"s1\"\n",
    "\n",
    "switch_cores = 2\n",
    "switch_ram = 8\n",
    "switch_disk = 100\n",
    "\n",
    "# Hosts\n",
    "h1_name = \"h1\"\n",
    "h2_name = \"h2\"\n",
    "\n",
    "h1_subnet=IPv4Network('10.0.1.0/24')\n",
    "h1_addr=IPv4Address('10.0.1.1')\n",
    "\n",
    "h2_subnet=IPv4Network('10.0.2.0/24')\n",
    "h2_addr=IPv4Address('10.0.2.2')\n",
    "\n",
    "host_cores = 2\n",
    "host_ram = 8\n",
    "host_disk = 10\n",
    "\n",
    "net_h1_name = 'net_h1'\n",
    "net_h2_name = 'net_h2'\n",
    "\n",
    "\n",
    "# All node properties\n",
    "image = 'default_ubuntu_20'"
   ]
  },
  {
   "cell_type": "code",
   "execution_count": 4,
   "id": "5c3215bc-f412-4a27-b335-36893bc67feb",
   "metadata": {},
   "outputs": [
    {
     "name": "stdout",
     "output_type": "stream",
     "text": [
      "\n",
      "-----------  ------------------------------------\n",
      "Slice Name   playground2\n",
      "Slice ID     b395a0fd-1c62-411c-a93b-17ea083c92c9\n",
      "Slice State  StableOK\n",
      "Lease End    2022-09-02 22:27:49 +0000\n",
      "-----------  ------------------------------------\n",
      "\n",
      "Retry: 13, Time: 149 sec\n",
      "\n",
      "ID                                    Name    Site    Host                         Cores    RAM    Disk  Image              Management IP    State    Error\n",
      "------------------------------------  ------  ------  -------------------------  -------  -----  ------  -----------------  ---------------  -------  -------\n",
      "477844de-2b92-4d01-b183-3821ac0214c2  s1      MAX     max-w5.fabric-testbed.net        2      8     100  default_ubuntu_20  63.239.135.73    Active\n",
      "\n",
      "Time to stable 149 seconds\n",
      "Running post_boot_config ... Time to post boot config 154 seconds\n",
      "\n",
      "Name                 Node    Network      Bandwidth  VLAN    MAC                Physical OS Interface    OS Interface\n",
      "-------------------  ------  ---------  -----------  ------  -----------------  -----------------------  --------------\n",
      "s1-s1_local_nic2-p1  s1      net_h2               0          1E:E5:29:B4:DF:4F  ens7                     ens7\n",
      "s1-s1_local_nic-p1   s1      net_h1               0          22:55:F3:E1:8C:7C  ens8                     ens8\n",
      "\n",
      "Time to print interfaces 156 seconds\n"
     ]
    }
   ],
   "source": [
    "try:\n",
    "    #Create Slice\n",
    "    slice = fablib.new_slice(name=slice_name)\n",
    "    \n",
    "    # Add switch node s1\n",
    "    s1 = slice.add_node(name=s1_name, site=site1,  image=image, \n",
    "                        cores=switch_cores, ram=switch_ram, disk=switch_disk)\n",
    "    s1.set_capacities(cores=switch_cores, ram=switch_ram, disk=switch_disk)\n",
    "    print(dir(s1))\n",
    "    s1_iface_local = s1.add_component(model='NIC_Basic', name=\"s1_local_nic\").get_interfaces()[0]\n",
    "    s1_iface_local2 = s1.add_component(model='NIC_Basic', name=\"s1_local_nic2\").get_interfaces()[0]\n",
    "   \n",
    "    host_net1 = slice.add_l2network(name=net_h1_name, interfaces=[s1_iface_local])\n",
    "    host_net2 = slice.add_l2network(name=net_h2_name, interfaces=[s1_iface_local2])\n",
    "    #Submit Slice Request\n",
    "    slice.submit() \n",
    "except Exception as e:\n",
    "    print(f\"Error: {e}\")\n",
    "    traceback.print_exc()\n",
    "    "
   ]
  },
  {
   "cell_type": "code",
   "execution_count": 5,
   "id": "6ae457d0-c56e-4400-84f1-8055961e1b3f",
   "metadata": {},
   "outputs": [
    {
     "name": "stdout",
     "output_type": "stream",
     "text": [
      "Node:\n",
      "   Name              : s1\n",
      "   SSH Command       : ssh -i /home/fabric/work/fabric_config/.ssh/id_rsa -J durbek_gafurov_0000000854@bastion-1.fabric-testbed.net ubuntu@63.239.135.73\n",
      "           OS iface name       : ens8\n",
      "           OS iface name       : ens7\n"
     ]
    }
   ],
   "source": [
    "try:\n",
    "    slice = fablib.get_slice(name=slice_name)\n",
    "    for node in slice.get_nodes():\n",
    "        print(\"Node:\")\n",
    "        print(f\"   Name              : {node.get_name()}\")\n",
    "        # print(f\"   Cores             : {node.get_cores()}\")\n",
    "        # print(f\"   RAM               : {node.get_ram()}\")\n",
    "        # print(f\"   Disk              : {node.get_disk()}\")\n",
    "        # print(f\"   Image             : {node.get_image()}\")\n",
    "        # print(f\"   Image Type        : {node.get_image_type()}\")\n",
    "        # print(f\"   Host              : {node.get_host()}\")\n",
    "        # print(f\"   Site              : {node.get_site()}\")\n",
    "        # print(f\"   Management IP     : {node.get_management_ip()}\")\n",
    "        # print(f\"   Reservation ID    : {node.get_reservation_id()}\")\n",
    "        # print(f\"   Reservation State : {node.get_reservation_state()}\")\n",
    "        print(f\"   SSH Command       : {node.get_ssh_command()}\")\n",
    "        # print(f\"   Components        :  \")\n",
    "        # for component in node.get_components():\n",
    "        #     print(f\"      Name             : {component.get_name()}\")\n",
    "        #     print(f\"      Details          : {component.get_details()}\")\n",
    "        #     print(f\"      Disk (G)         : {component.get_disk()}\")\n",
    "        #     print(f\"      Units            : {component.get_unit()}\")\n",
    "        #     print(f\"      PCI Address      : {component.get_pci_addr()}\")\n",
    "        #     print(f\"      Model            : {component.get_model()}\")\n",
    "        #     print(f\"      Type             : {component.get_type()}\") \n",
    "        # print(f\"   Interfaces        :  \")\n",
    "        for interface in node.get_interfaces():\n",
    "        #     print(f\"       Name                : {interface.get_name()}\")\n",
    "        #     print(f\"           Bandwidth           : {interface.get_bandwidth()}\")\n",
    "            # print(f\"           VLAN                : {interface.get_vlan()}\")  \n",
    "            # print(f\"           MAC                 : {interface.get_mac()}\") \n",
    "            print(f\"           OS iface name       : {interface.get_os_interface()}\")\n",
    "    # for network in slice.get_l2networks():\n",
    "    #     print(\"Network:\")\n",
    "    #     print(f\"    Name:            {network.get_name()}\")\n",
    "    # print(f\"Interface Map: {slice.get_interface_map()}\")\n",
    "except Exception as e:\n",
    "    print(f\"Fail: {e}\")\n",
    "    traceback.print_exc()"
   ]
  },
  {
   "cell_type": "code",
   "execution_count": 6,
   "id": "9aa5d4e1-a90c-4d25-aeba-ac2e2d13fe47",
   "metadata": {},
   "outputs": [],
   "source": [
    "def checkInetConnection(node):\n",
    "    try:\n",
    "\n",
    "        #If the node is an IPv6 Node then configure NAT64\n",
    "        if type(ip_address(node.get_management_ip())) is IPv6Address:\n",
    "            node.upload_file('nat64.sh','nat64.sh')\n",
    "\n",
    "            stdout, stderr = node.execute(f'chmod +x nat64.sh && ./nat64.sh')\n",
    "            print(stdout)\n",
    "            print(stderr)\n",
    "        else:\n",
    "            print(\"not ipv6\")\n",
    "\n",
    "        #Access non-IPv6 Services\n",
    "        stdout, stderr = node.execute(f'sudo apt-get update -qq && sudo apt install net-tools && git clone https://github.com/fabric-testbed/jupyter-examples.git')\n",
    "        # print(stdout)\n",
    "        print(stderr)\n",
    "\n",
    "        stdout, stderr = node.execute(f'ls jupyter-examples')\n",
    "        print(stdout)\n",
    "        print(stderr)\n",
    "        \n",
    "        stdout, stderr = node.execute(f'ifconfig')\n",
    "        print(stdout)\n",
    "        print(stderr)\n",
    "\n",
    "\n",
    "    except Exception as e:\n",
    "        print(f\"Exception: {e}\")"
   ]
  },
  {
   "cell_type": "code",
   "execution_count": 7,
   "id": "2d6993f0-b8af-400b-8f4f-ae3af13fc327",
   "metadata": {},
   "outputs": [
    {
     "name": "stdout",
     "output_type": "stream",
     "text": [
      "Node:\n",
      "   Name              : s1\n",
      "not ipv6\n",
      "\n",
      "WARNING: apt does not have a stable CLI interface. Use with caution in scripts.\n",
      "\n",
      "debconf: unable to initialize frontend: Dialog\n",
      "debconf: (Dialog frontend will not work on a dumb terminal, an emacs shell buffer, or without a controlling terminal.)\n",
      "debconf: falling back to frontend: Readline\n",
      "debconf: unable to initialize frontend: Readline\n",
      "debconf: (This frontend requires a controlling tty.)\n",
      "debconf: falling back to frontend: Teletype\n",
      "dpkg-preconfigure: unable to re-open stdin: \n",
      "Cloning into 'jupyter-examples'...\n",
      "\n",
      "LICENSE\n",
      "Readme.md\n",
      "fabric_examples\n",
      "start_here.ipynb\n",
      "\n",
      "\n",
      "ens3: flags=4163<UP,BROADCAST,RUNNING,MULTICAST>  mtu 9000\n",
      "        inet 10.20.5.97  netmask 255.255.254.0  broadcast 10.20.5.255\n",
      "        inet6 fe80::f816:3eff:fec8:15f1  prefixlen 64  scopeid 0x20<link>\n",
      "        ether fa:16:3e:c8:15:f1  txqueuelen 1000  (Ethernet)\n",
      "        RX packets 4354  bytes 33215022 (33.2 MB)\n",
      "        RX errors 0  dropped 1  overruns 0  frame 0\n",
      "        TX packets 3026  bytes 299678 (299.6 KB)\n",
      "        TX errors 0  dropped 0 overruns 0  carrier 0  collisions 0\n",
      "\n",
      "ens7: flags=4163<UP,BROADCAST,RUNNING,MULTICAST>  mtu 1500\n",
      "        inet6 fe80::1ce5:29ff:feb4:df4f  prefixlen 64  scopeid 0x20<link>\n",
      "        ether 1e:e5:29:b4:df:4f  txqueuelen 1000  (Ethernet)\n",
      "        RX packets 0  bytes 0 (0.0 B)\n",
      "        RX errors 0  dropped 0  overruns 0  frame 0\n",
      "        TX packets 8  bytes 656 (656.0 B)\n",
      "        TX errors 0  dropped 0 overruns 0  carrier 0  collisions 0\n",
      "\n",
      "ens8: flags=4163<UP,BROADCAST,RUNNING,MULTICAST>  mtu 1500\n",
      "        inet6 fe80::2055:f3ff:fee1:8c7c  prefixlen 64  scopeid 0x20<link>\n",
      "        ether 22:55:f3:e1:8c:7c  txqueuelen 1000  (Ethernet)\n",
      "        RX packets 0  bytes 0 (0.0 B)\n",
      "        RX errors 0  dropped 0  overruns 0  frame 0\n",
      "        TX packets 8  bytes 656 (656.0 B)\n",
      "        TX errors 0  dropped 0 overruns 0  carrier 0  collisions 0\n",
      "\n",
      "lo: flags=73<UP,LOOPBACK,RUNNING>  mtu 65536\n",
      "        inet 127.0.0.1  netmask 255.0.0.0\n",
      "        inet6 ::1  prefixlen 128  scopeid 0x10<host>\n",
      "        loop  txqueuelen 1000  (Local Loopback)\n",
      "        RX packets 394  bytes 36374 (36.3 KB)\n",
      "        RX errors 0  dropped 0  overruns 0  frame 0\n",
      "        TX packets 394  bytes 36374 (36.3 KB)\n",
      "        TX errors 0  dropped 0 overruns 0  carrier 0  collisions 0\n",
      "\n",
      "\n",
      "\n"
     ]
    }
   ],
   "source": [
    "try:\n",
    "    slice = fablib.get_slice(name=slice_name)\n",
    "    for node in slice.get_nodes():\n",
    "        print(\"Node:\")\n",
    "        print(f\"   Name              : {node.get_name()}\")\n",
    "        checkInetConnection(node)\n",
    "except Exception as e:\n",
    "    print(f\"Fail: {e}\")\n",
    "    traceback.print_exc()"
   ]
  },
  {
   "cell_type": "code",
   "execution_count": 8,
   "id": "a5fbbca2-297f-4dfb-8eea-7440d9865b04",
   "metadata": {},
   "outputs": [],
   "source": [
    "config_threads = {}"
   ]
  },
  {
   "cell_type": "code",
   "execution_count": 9,
   "id": "2229e09f-ec3c-40c7-80b6-4bd0ab48f3b6",
   "metadata": {},
   "outputs": [
    {
     "name": "stdout",
     "output_type": "stream",
     "text": [
      "chmod +x router_setup_p4_bmv2_container.sh && sudo sh -c './router_setup_p4_bmv2_container.sh ens7 ens8  > /tmp/script.log 2>&1'\n"
     ]
    }
   ],
   "source": [
    "try:\n",
    "    s1 = slice.get_node(name=s1_name)\n",
    "    s1_h1_os_iface = s1.get_interfaces()[0]\n",
    "    s1_h2_os_iface = s1.get_interfaces()[1]\n",
    "        \n",
    " \n",
    "       \n",
    "    \n",
    "    file_attributes = s1.upload_file('./scripts/router_setup_p4_bmv2_container.sh','router_setup_p4_bmv2_container.sh')\n",
    "    command=\"chmod +x router_setup_p4_bmv2_container.sh && sudo sh -c './router_setup_p4_bmv2_container.sh ens7 ens8  > /tmp/script.log 2>&1'\"\n",
    "    # command=f\"chmod +x router_setup_p4_bmv2_container.sh && sudo sh -c './router_setup_p4_bmv2_container.sh {s1_h1_os_iface.get_os_interface()} {s1_h2_os_iface.get_os_interface()}  > /tmp/script.log 2>&1'\"\n",
    "    s1_config_thread = s1.execute_thread(command)\n",
    "    config_threads[s1] = s1_config_thread\n",
    "    \n",
    "    print(command)\n",
    "\n",
    "\n",
    "except Exception as e:\n",
    "    print(f\"Error: {e}\")\n",
    "    traceback.print_exc()"
   ]
  },
  {
   "cell_type": "code",
   "execution_count": 10,
   "id": "b696b735-5af4-48a0-b25e-8381f6c4d9cf",
   "metadata": {},
   "outputs": [
    {
     "name": "stdout",
     "output_type": "stream",
     "text": [
      "Config thread node s1 complete\n",
      "stderr: \n"
     ]
    }
   ],
   "source": [
    "try:\n",
    "    for node, thread in config_threads.items():\n",
    "        stdout, stderr = thread.result()\n",
    "        print(f\"Config thread node {node.get_name()} complete\")\n",
    "        # print(f\"stdout: {stdout}\")\n",
    "        print(f\"stderr: {stderr}\")\n",
    "except Exception as e:\n",
    "    print(f\"Error: {e}\")\n",
    "    traceback.print_exc() \n"
   ]
  },
  {
   "cell_type": "code",
   "execution_count": 12,
   "id": "d7d7a718-597b-4e79-8340-397f0d981064",
   "metadata": {},
   "outputs": [
    {
     "name": "stdout",
     "output_type": "stream",
     "text": [
      "Swtitch Name        : s1\n",
      "Management IP    : 63.239.135.73\n",
      "s1_commands.txt\n",
      "file_attributes: -rw-rw-r--   1 1000     1000          235 01 Sep 22:37 ?\n",
      "stdout: ('Obtaining JSON from switch...\\nDone\\nControl utility for runtime P4 table manipulation\\nRuntimeCmd: Setting default action of myTunnel_exact\\naction:              drop\\nruntime data:        \\nRuntimeCmd: Adding entry to exact match table myTunnel_exact\\nmatch key:           EXACT-00:02\\naction:              myTunnel_forward\\nruntime data:        00:03\\nEntry has been added with handle 0\\nRuntimeCmd: Adding entry to exact match table myTunnel_exact\\nmatch key:           EXACT-00:16\\naction:              myTunnel_forward\\nruntime data:        00:04\\nEntry has been added with handle 1\\nRuntimeCmd: Adding entry to exact match table myTunnel_exact\\nmatch key:           EXACT-00:01\\naction:              myTunnel_forward\\nruntime data:        00:01\\nEntry has been added with handle 2\\nRuntimeCmd: Adding entry to exact match table myTunnel_exact\\nmatch key:           EXACT-00:0b\\naction:              myTunnel_forward\\nruntime data:        00:02\\nEntry has been added with handle 3\\nRuntimeCmd: \\n', '')\n"
     ]
    }
   ],
   "source": [
    "for switch_name in [s1_name]:\n",
    "    switch_node = slice.get_node(name=switch_name)\n",
    "    management_ip_switch = str(switch_node.get_management_ip())\n",
    "    print(\"Swtitch Name        : {}\".format(switch_node.get_name()))\n",
    "    print(\"Management IP    : {}\".format(management_ip_switch))\n",
    "    \n",
    "    \n",
    "    #Configure P4 Tables\n",
    "    cmd_file=f'{switch_name}_commands.txt'\n",
    "    print(cmd_file)\n",
    "    file_attributes = switch_node.upload_file(f'scripts/{cmd_file}',cmd_file)\n",
    "    print(\"file_attributes: {}\".format(file_attributes))\n",
    "\n",
    "    #stdout = execute_script(username, switch_node, f\"sudo sh -c 'cat {cmd_file} | docker exec -it fabric_p4 simple_switch_CLI  > /tmp/script.log 2>&1'\")\n",
    "    stdout = switch_node.execute(f\"sudo sh -c 'cat {cmd_file} | docker exec -i fabric_p4 simple_switch_CLI'\")\n",
    "    print(\"stdout: {}\".format(stdout))"
   ]
  },
  {
   "cell_type": "code",
   "execution_count": null,
   "id": "bfa2063c-f442-43da-b253-88ab33a3db82",
   "metadata": {},
   "outputs": [],
   "source": [
    "h1.upload_file('scripts/send.py', 'send.py')\n",
    "h1.upload_file('scripts/receive.py', 'receive.py')\n",
    "h1.execute('sudo mv send.py tutorials/exercises/basic_tunnel/send_modified.py')\n",
    "h1.execute('sudo mv receive.py tutorials/exercises/basic_tunnel/receive_modified.py')"
   ]
  },
  {
   "cell_type": "code",
   "execution_count": null,
   "id": "ddfee2f0-5f64-4b29-9fe7-e32faac85943",
   "metadata": {},
   "outputs": [],
   "source": [
    "h1.execute('tmux new -d \\'timeout 30 watch -n 5 sudo python3 tutorials/exercises/basic_tunnel/send_modified.py --dst_id 2 10.10.2.2 \"message100\"\\'')"
   ]
  },
  {
   "cell_type": "code",
   "execution_count": null,
   "id": "fc7c28fd-de5d-4676-a8d8-5db7f9ae4631",
   "metadata": {},
   "outputs": [],
   "source": [
    "h1.execute('sudo timeout 30 sudo python3 tutorials/exercises/basic_tunnel/receive_modified.py')"
   ]
  },
  {
   "cell_type": "code",
   "execution_count": null,
   "id": "6877994a-f820-43d0-b342-942345bd0189",
   "metadata": {},
   "outputs": [],
   "source": [
    "h2.upload_file('scripts/receive.py', 'receive.py')\n",
    "h2.execute('sudo mv receive.py tutorials/exercises/basic_tunnel/receive_modified.py')\n",
    "h1.execute('tmux new -d \\'timeout 30 watch -n 5 sudo python3 tutorials/exercises/basic_tunnel/send_modified.py --dst_id 2 10.0.2.2 \"message100\"\\'')\n",
    "h2.execute('sudo timeout 30 sudo python3 tutorials/exercises/basic_tunnel/receive_modified.py')"
   ]
  },
  {
   "cell_type": "code",
   "execution_count": null,
   "id": "990caefa-2463-43aa-b928-d87ad95214b3",
   "metadata": {},
   "outputs": [],
   "source": []
  }
 ],
 "metadata": {
  "kernelspec": {
   "display_name": "Python 3 (ipykernel)",
   "language": "python",
   "name": "python3"
  },
  "language_info": {
   "codemirror_mode": {
    "name": "ipython",
    "version": 3
   },
   "file_extension": ".py",
   "mimetype": "text/x-python",
   "name": "python",
   "nbconvert_exporter": "python",
   "pygments_lexer": "ipython3",
   "version": "3.9.7"
  }
 },
 "nbformat": 4,
 "nbformat_minor": 5
}
