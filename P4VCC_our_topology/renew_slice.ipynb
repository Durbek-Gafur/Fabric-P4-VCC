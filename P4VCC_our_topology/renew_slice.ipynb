{
 "cells": [
  {
   "cell_type": "markdown",
   "id": "60e3fd3a-d102-4626-9849-755cfdd24948",
   "metadata": {},
   "source": [
    "# FABRIC API: Renew a Slice Reservation\n"
   ]
  },
  {
   "cell_type": "markdown",
   "id": "e08c5aaf-f4f4-4551-a2f5-2e1c6da3d5af",
   "metadata": {},
   "source": [
    "## Setup the Experiment\n",
    "\n",
    "#### Import FABRIC API"
   ]
  },
  {
   "cell_type": "code",
   "execution_count": 1,
   "id": "403843c2-4cb3-4d77-8226-c6a00a59df2a",
   "metadata": {},
   "outputs": [
    {
     "name": "stdout",
     "output_type": "stream",
     "text": [
      "-----------------------------------  -----------------------------------------------\n",
      "credmgr_host                         cm.fabric-testbed.net\n",
      "orchestrator_host                    orchestrator.fabric-testbed.net\n",
      "fabric_token                         /home/fabric/.tokens.json\n",
      "project_id                           f8a6e0b0-ad14-47cb-9764-74c20ef3e4fc\n",
      "bastion_username                     durbek_gafurov_0000000854\n",
      "bastion_key_filename                 /home/fabric/work/fabric_config/bastionD\n",
      "bastion_public_addr                  bastion-1.fabric-testbed.net\n",
      "bastion_passphrase                   None\n",
      "slice_public_key_file                /home/fabric/work/fabric_config/.ssh/id_rsa.pub\n",
      "slice_private_key_file               /home/fabric/work/fabric_config/.ssh/id_rsa\n",
      "fabric_slice_private_key_passphrase  None\n",
      "fablib_log_file                      /tmp/fablib/fablib.log\n",
      "fablib_log_level                     INFO\n",
      "-----------------------------------  -----------------------------------------------\n"
     ]
    }
   ],
   "source": [
    "from fabrictestbed_extensions.fablib.fablib import FablibManager as fablib_manager\n",
    "\n",
    "fablib = fablib_manager()\n",
    "                     \n",
    "fablib.show_config()"
   ]
  },
  {
   "cell_type": "markdown",
   "id": "5a582147-51a8-4d65-bd89-13391871370d",
   "metadata": {},
   "source": [
    "## Configure Slice Parameters\n",
    "\n"
   ]
  },
  {
   "cell_type": "code",
   "execution_count": 2,
   "id": "6ef64b19-e8e2-4247-a639-e86e8361054b",
   "metadata": {},
   "outputs": [],
   "source": [
    "slice_name='P4_VCC_hm'"
   ]
  },
  {
   "cell_type": "markdown",
   "id": "9da21af0-0ccb-411b-a761-1751c2cde8e9",
   "metadata": {
    "tags": []
   },
   "source": [
    "## Get and Renew the Slice\n",
    "\n",
    "You slice is in the list of all your slices. You can loop through the list of slices to get the slice. Python has a standard tool to filter lists. Try using a lambda function to filter out your slice using its name.\n",
    "\n",
    "The new end date is in UTC."
   ]
  },
  {
   "cell_type": "code",
   "execution_count": 5,
   "id": "fd37297b-0885-4cfc-a91b-2d327699ac62",
   "metadata": {},
   "outputs": [
    {
     "name": "stdout",
     "output_type": "stream",
     "text": [
      "2022-09-02 01:21:06.028088 2022-09-08 01:21:06 +0000\n"
     ]
    }
   ],
   "source": [
    "import datetime\n",
    "\n",
    "#Set end host to now plus 1 day\n",
    "end_date = (datetime.datetime.utcnow() + datetime.timedelta(days=6)).strftime(\"%Y-%m-%d %H:%M:%S %z\")\n",
    "print(datetime.datetime.utcnow(),end_date+\"+0000\")\n",
    "try:\n",
    "    slice = fablib.get_slice(name=slice_name)\n",
    "\n",
    "    slice.renew(end_date+\"+0000\")\n",
    "except Exception as e:\n",
    "    print(f\"Exception: {e}\")"
   ]
  },
  {
   "cell_type": "markdown",
   "id": "aeef0798-b9b5-4365-bbe6-9e6367d2ce31",
   "metadata": {},
   "source": [
    "## Check New Lease End Date"
   ]
  },
  {
   "cell_type": "code",
   "execution_count": 6,
   "id": "491b5205-0152-4b7f-b156-efdebfe4da9d",
   "metadata": {},
   "outputs": [
    {
     "name": "stdout",
     "output_type": "stream",
     "text": [
      "Lease End (UTC)        : 2022-09-08 01:21:06 +0000\n"
     ]
    }
   ],
   "source": [
    "try:\n",
    "    slice = fablib.get_slice(name=slice_name)\n",
    "    print(f\"Lease End (UTC)        : {slice.get_lease_end()}\")\n",
    "       \n",
    "except Exception as e:\n",
    "    print(f\"Exception: {e}\")"
   ]
  },
  {
   "cell_type": "code",
   "execution_count": null,
   "id": "a54aa216-99da-43a8-81ff-9bf8f874f5c0",
   "metadata": {},
   "outputs": [],
   "source": []
  }
 ],
 "metadata": {
  "kernelspec": {
   "display_name": "Python 3 (ipykernel)",
   "language": "python",
   "name": "python3"
  },
  "language_info": {
   "codemirror_mode": {
    "name": "ipython",
    "version": 3
   },
   "file_extension": ".py",
   "mimetype": "text/x-python",
   "name": "python",
   "nbconvert_exporter": "python",
   "pygments_lexer": "ipython3",
   "version": "3.9.7"
  }
 },
 "nbformat": 4,
 "nbformat_minor": 5
}
