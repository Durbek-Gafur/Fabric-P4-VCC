{
 "cells": [
  {
   "cell_type": "markdown",
   "metadata": {},
   "source": [
    "# P4Lang Tutorials of FABRIC\n",
    "\n",
    "This notebook walks the user through setting up a FABRIC eperiment that is suitiable for completing the P4 tutorials created by [P4Lang](https://github.com/p4lang/tutorials). The tutorials were origianlly designed to use a mininet topology. This example replaces the mininet topology with a FABRIC experiemnt topology that may span multiple sites across the FABRIC testbed.\n",
    "\n",
    "Additional resources:\n",
    "- [FABRIC Knowledge Base](https://learn.fabric-testbed.net/)\n",
    "- [FABRIC Forums](https://learn.fabric-testbed.net/forums/)\n",
    "- [P4Lang Tutorials](https://github.com/p4lang/tutorials)\n",
    "- [P4Lang YouTube Presentations](https://www.youtube.com/channel/UCOQAFkDKucJWr-KafdJsdIQ)"
   ]
  },
  {
   "cell_type": "markdown",
   "metadata": {},
   "source": [
    "## Basic FABRIC Slice Configuration"
   ]
  },
  {
   "cell_type": "code",
   "execution_count": 1,
   "metadata": {},
   "outputs": [],
   "source": [
    "import json\n",
    "import traceback\n",
    "from fabrictestbed_extensions.fablib.fablib import fablib"
   ]
  },
  {
   "cell_type": "code",
   "execution_count": 2,
   "metadata": {},
   "outputs": [
    {
     "name": "stdout",
     "output_type": "stream",
     "text": [
      "Name      CPUs  Cores    RAM (G)    Disk (G)       Basic (100 Gbps NIC)    ConnectX-6 (100 Gbps x2 NIC)    ConnectX-5 (25 Gbps x2 NIC)    P4510 (NVMe 1TB)    Tesla T4 (GPU)    RTX6000 (GPU)\n",
      "------  ------  -------  ---------  -------------  ----------------------  ------------------------------  -----------------------------  ------------------  ----------------  ---------------\n",
      "MASS         4  115/128  978/1024   55678/55800    246/254                 2/2                             0/0                            6/6                 0/0               3/3\n",
      "MAX         10  184/320  2070/2560  114688/116400  549/635                 2/2                             4/4                            16/16               4/4               4/6\n",
      "TACC        10  240/320  2228/2560  114252/116400  632/635                 0/2                             1/4                            15/16               4/4               6/6\n",
      "MICH         6  188/192  1520/1536  60500/60600    381/381                 1/2                             2/2                            10/10               2/2               3/3\n",
      "SALT         6  192/192  1536/1536  60600/60600    381/381                 2/2                             2/2                            10/10               2/2               3/3\n",
      "STAR        12  333/384  2872/3072  120744/121200  739/762                 0/2                             4/6                            20/20               6/6               6/6\n",
      "UTAH        10  308/320  2512/2560  115860/116400  634/635                 2/2                             1/4                            16/16               4/4               5/5\n",
      "UCSD        10  320/320  2560/2560  116400/116400  635/635                 2/2                             4/4                            16/16               4/4               6/6\n",
      "FIU         10  314/320  2536/2560  116370/116400  635/635                 2/2                             1/4                            16/16               4/4               6/6\n",
      "WASH         6  188/192  1520/1536  60580/60600    381/381                 2/2                             2/2                            10/10               2/2               3/3\n",
      "DALL         6  158/192  1496/1536  60580/60600    380/381                 2/2                             2/2                            10/10               2/2               3/3\n",
      "NCSA         6  172/192  1456/1536  60400/60600    380/381                 1/2                             2/2                            10/10               2/2               3/3\n"
     ]
    }
   ],
   "source": [
    "try:\n",
    "    print(f\"{fablib.list_sites()}\")\n",
    "except Exception as e:\n",
    "    print(f\"Exception: {e}\")"
   ]
  },
  {
   "cell_type": "markdown",
   "metadata": {
    "tags": []
   },
   "source": [
    "## Configure Slice Parameters\n",
    "\n",
    "This section builds the experiment slice \n",
    "\n",
    "<img src=\"figs/fabric_slice.png\" width=\"800\"/>\n",
    "\n"
   ]
  },
  {
   "cell_type": "code",
   "execution_count": 3,
   "metadata": {},
   "outputs": [
    {
     "name": "stdout",
     "output_type": "stream",
     "text": [
      "Sites: MAX,MAX,MAX\n"
     ]
    }
   ],
   "source": [
    "from ipaddress import ip_address, IPv4Address, IPv6Address, IPv4Network, IPv6Network\n",
    "\n",
    "# Slice \n",
    "slice_name = 'VCC_basic'\n",
    "\n",
    "# [site1,site2,site3] = fablib.get_random_sites(count=3)\n",
    "site1 = site2 = site3 = 'MAX'\n",
    "print(f\"Sites: {site1},{site2},{site3}\")\n",
    "\n",
    "\n",
    "# Switches\n",
    "s1_name = \"s1\"\n",
    "s2_name = \"s2\"\n",
    "s3_name = \"s3\"\n",
    "\n",
    "switch_cores = 2\n",
    "switch_ram = 8\n",
    "switch_disk = 100\n",
    "\n",
    "# Hosts\n",
    "h1_name = \"h1\"\n",
    "h11_name = \"h11\"\n",
    "h2_name = \"h2\"\n",
    "h22_name = \"h22\"\n",
    "\n",
    "\n",
    "h1_subnet=IPv4Network('10.0.0.0/16')\n",
    "h1_addr=IPv4Address('10.0.1.1')\n",
    "h11_addr=IPv4Address('10.0.1.11')\n",
    "\n",
    "h2_subnet=h1_subnet #IPv4Network('10.0.0.0/16')\n",
    "h2_addr=IPv4Address('10.0.2.2')\n",
    "h22_addr=IPv4Address('10.0.2.22')\n",
    "\n",
    "host_cores = 2\n",
    "host_ram = 8\n",
    "host_disk = 20\n",
    "\n",
    "net_h1_name = 'net_h1'\n",
    "net_h11_name = 'net_h11'\n",
    "net_h2_name = 'net_h2'\n",
    "net_h22_name = 'net_h22'\n",
    "\n",
    "net_s1_s2_name = 'net_s1_s2'\n",
    "net_s2_s3_name = 'net_s2_s3'\n",
    "net_s1_s3_name = 'net_s1_s3'\n",
    "\n",
    "s1_iface_h1,s1_iface_h11,s1_iface_to_s2,s1_iface_to_s3 = \"s1_iface_h1\",\"s1_iface_h11\",\"s1_iface_to_s2\",\"s1_iface_to_s3\"  \n",
    "s2_iface_h2,s2_iface_h22,s2_iface_to_s1,s2_iface_to_s3 = \"s2_iface_h2\",\"s2_iface_h22\",\"s2_iface_to_s1\",\"s2_iface_to_s3\" \n",
    "s3_iface_to_s1,s3_iface_to_s2 = \"s3_iface_to_s1\",\"s3_iface_to_s2\"\n",
    "\n",
    "# All node properties\n",
    "image = 'default_ubuntu_20'"
   ]
  },
  {
   "cell_type": "code",
   "execution_count": 4,
   "metadata": {},
   "outputs": [],
   "source": [
    "# slice = fablib.get_slice(name=slice_name)"
   ]
  },
  {
   "cell_type": "markdown",
   "metadata": {},
   "source": [
    "### Create the Slice"
   ]
  },
  {
   "cell_type": "code",
   "execution_count": 5,
   "metadata": {},
   "outputs": [],
   "source": [
    "# slice = fablib.get_slice(name=slice_name)\n",
    "# networknet_h1_name = slice.get_network(name=net_h1_name)\n",
    "# networknet_s1_s2_name = slice.get_network(name=net_s1_s2_name)\n",
    "# print(networknet_h1_name)\n",
    "# print(networknet_s1_s2_name)"
   ]
  },
  {
   "cell_type": "code",
   "execution_count": 6,
   "metadata": {},
   "outputs": [
    {
     "name": "stdout",
     "output_type": "stream",
     "text": [
      "\n",
      "-----------  ------------------------------------\n",
      "Slice Name   VCC_basic\n",
      "Slice ID     1636927c-2f99-496a-bd61-aeabc806d44b\n",
      "Slice State  StableOK\n",
      "Lease End    2022-09-09 06:32:20 +0000\n",
      "-----------  ------------------------------------\n",
      "\n",
      "Retry: 17, Time: 277 sec\n",
      "\n",
      "ID                                    Name    Site    Host                         Cores    RAM    Disk  Image              Management IP    State    Error\n",
      "------------------------------------  ------  ------  -------------------------  -------  -----  ------  -----------------  ---------------  -------  -------\n",
      "6cfe9313-373b-4436-b7cc-47fa37287460  s1      MAX     max-w5.fabric-testbed.net        2      8     100  default_ubuntu_20  63.239.135.101   Active\n",
      "b3ddd846-8717-4dda-a245-27944796b5d3  s2      MAX     max-w5.fabric-testbed.net        2      8     100  default_ubuntu_20  63.239.135.74    Active\n",
      "2805e9d3-3f7a-41ff-b7dd-0aa678761c82  s3      MAX     max-w5.fabric-testbed.net        2      8     100  default_ubuntu_20  63.239.135.117   Active\n",
      "fd104491-cc6b-4c67-930c-55af5ac58d33  h1      MAX     max-w5.fabric-testbed.net        2      8     100  default_ubuntu_20  63.239.135.91    Active\n",
      "d576f769-8c65-48b1-9a00-a6848af101e0  h11     MAX     max-w5.fabric-testbed.net        2      8     100  default_ubuntu_20  63.239.135.98    Active\n",
      "fdb8fc8f-5f8a-491b-897f-65a8576b5755  h2      MAX     max-w5.fabric-testbed.net        2      8     100  default_ubuntu_20  63.239.135.81    Active\n",
      "03829894-0bd6-4ee5-9d6c-248d51237350  h22     MAX     max-w5.fabric-testbed.net        2      8     100  default_ubuntu_20  63.239.135.88    Active\n",
      "\n",
      "Time to stable 277 seconds\n",
      "Running post_boot_config ... Time to post boot config 298 seconds\n",
      "\n",
      "Name                  Node    Network      Bandwidth  VLAN    MAC                Physical OS Interface    OS Interface\n",
      "--------------------  ------  ---------  -----------  ------  -----------------  -----------------------  --------------\n",
      "s1-s1_iface_h1-p1     s1      net_h1               0          06:97:DD:B1:D5:05  ens9                     ens9\n",
      "s1-s1_iface_to_s3-p1  s1      net_s1_s3            0          06:3A:62:73:E3:CE  ens8                     ens8\n",
      "s1-s1_iface_h11-p1    s1      net_h11              0          02:1A:9D:93:82:A9  ens7                     ens7\n",
      "s1-s1_iface_to_s2-p1  s1      net_s1_s2            0          06:C0:E2:D6:6E:CA  ens10                    ens10\n",
      "s2-s2_iface_h22-p1    s2      net_h22              0          0A:7E:AA:58:B2:3B  ens8                     ens8\n",
      "s2-s2_iface_to_s1-p1  s2      net_s1_s2            0          0A:60:A8:32:58:F4  ens7                     ens7\n",
      "s2-s2_iface_h2-p1     s2      net_h2               0          0E:8D:AC:5E:6C:2E  ens10                    ens10\n",
      "s2-s2_iface_to_s3-p1  s2      net_s2_s3            0          0A:EA:A1:FC:E8:CF  ens9                     ens9\n",
      "s3-s3_iface_to_s1-p1  s3      net_s1_s3            0          12:86:57:7C:5C:76  ens8                     ens8\n",
      "s3-s3_iface_to_s2-p1  s3      net_s2_s3            0          0E:C9:A6:7A:9F:2A  ens7                     ens7\n",
      "h1-h1_nic-p1          h1      net_h1               0          16:59:B5:75:01:50  ens7                     ens7\n",
      "h11-h11_nic-p1        h11     net_h11              0          1A:30:82:43:1A:63  ens7                     ens7\n",
      "h2-h2_nic-p1          h2      net_h2               0          1A:8F:07:4C:8D:11  ens7                     ens7\n",
      "h22-h22_nic-p1        h22     net_h22              0          1E:7C:A5:83:3B:97  ens7                     ens7\n",
      "\n",
      "Time to print interfaces 320 seconds\n"
     ]
    }
   ],
   "source": [
    "import datetime\n",
    "try:\n",
    "    slice = fablib.get_slice(name=slice_name)\n",
    "    slice.delete()\n",
    "except Exception as e:\n",
    "    print(f\"Fail: {e}\")\n",
    "    traceback.print_exc()\n",
    "\n",
    "try:\n",
    "    #Create Slice\n",
    "    slice = fablib.new_slice(name=slice_name)\n",
    "    \n",
    "    def addSwitchNIC(nodeName,site,ifaceNames):\n",
    "        node = slice.add_node(name=nodeName, site=site,  image=image, cores=switch_cores, ram=switch_ram, disk=switch_disk)\n",
    "        ifaceObj = {}\n",
    "        for name in ifaceNames:\n",
    "            iface =  node.add_component(model='NIC_Basic', name=name).get_interfaces()[0]\n",
    "            ifaceObj[name] = iface\n",
    "        return node, ifaceObj\n",
    "    \n",
    "    # Add switch node s1\n",
    "    s1, s1_ifaces = addSwitchNIC(s1_name,site1,[s1_iface_h1,s1_iface_h11,s1_iface_to_s2,s1_iface_to_s3])\n",
    "\n",
    "    # Add switch node s2\n",
    "    s2, s2_ifaces = addSwitchNIC(s2_name,site2,[s2_iface_h2,s2_iface_h22,s2_iface_to_s1,s2_iface_to_s3])\n",
    "    \n",
    "    # Add switch node s3\n",
    "    s3, s3_ifaces = addSwitchNIC(s3_name,site3,[s3_iface_to_s1,s3_iface_to_s2])\n",
    "    \n",
    "    def addHostNIC(nodeName,componentName,site):\n",
    "        node = slice.add_node(name=nodeName, site=site, image=image, cores=host_cores, ram=host_ram, disk=host_disk)\n",
    "        iface = node.add_component(model='NIC_Basic', name=componentName).get_interfaces()[0]\n",
    "        return node,iface\n",
    "    \n",
    "    # Add host node h1\n",
    "    h1,h1_iface = addHostNIC(h1_name,\"h1_nic\",site1)\n",
    "\n",
    "    # Add host node h11\n",
    "    h11 , h11_iface = addHostNIC(h11_name,\"h11_nic\",site1)\n",
    "    \n",
    "    # Add host node h2\n",
    "    h2, h2_iface = addHostNIC(h2_name,\"h2_nic\",site2)\n",
    "    \n",
    "    # Add host node h3\n",
    "    h22, h22_iface = addHostNIC(h22_name,\"h22_nic\",site2)\n",
    "    \n",
    "    #Add swtich networks\n",
    "    switch_net1 = slice.add_l2network(name=net_s1_s2_name, interfaces=[s1_ifaces[s1_iface_to_s2], s2_ifaces[s2_iface_to_s1]])\n",
    "    swtich_net2 = slice.add_l2network(name=net_s2_s3_name, interfaces=[s2_ifaces[s2_iface_to_s3], s3_ifaces[s3_iface_to_s2]])\n",
    "    swtich_net3 = slice.add_l2network(name=net_s1_s3_name, interfaces=[s3_ifaces[s3_iface_to_s1], s1_ifaces[s1_iface_to_s3]])\n",
    "\n",
    "    #Add host networks \n",
    "    host_net1 = slice.add_l2network(name=net_h1_name, interfaces=[s1_ifaces[s1_iface_h1], h1_iface])\n",
    "    host_net11 = slice.add_l2network(name=net_h11_name, interfaces=[s1_ifaces[s1_iface_h11], h11_iface])\n",
    "    host_net2 = slice.add_l2network(name=net_h2_name, interfaces=[s2_ifaces[s2_iface_h2], h2_iface])\n",
    "    host_net22 = slice.add_l2network(name=net_h22_name, interfaces=[s2_ifaces[s2_iface_h22], h22_iface])\n",
    "    \n",
    "    #Submit Slice Request\n",
    "    slice.submit() \n",
    "except Exception as e:\n",
    "    print(f\"Error: {e}\")\n",
    "    traceback.print_exc()\n",
    "    "
   ]
  },
  {
   "cell_type": "code",
   "execution_count": 7,
   "metadata": {},
   "outputs": [],
   "source": [
    "def checkInetConnection(node):\n",
    "    try:\n",
    "\n",
    "        #If the node is an IPv6 Node then configure NAT64\n",
    "        if type(ip_address(node.get_management_ip())) is IPv6Address:\n",
    "            print(\"This code only works with ip4, reconfigure nodes\")\n",
    "            return\n",
    "\n",
    "        #Access non-IPv6 Services\n",
    "        stdout, stderr = node.execute(f'sudo apt-get update -qq && sudo apt install net-tools && git clone https://github.com/fabric-testbed/jupyter-examples.git')\n",
    "        # print(stdout)\n",
    "        # print(stderr)\n",
    "\n",
    "        stdout, stderr = node.execute(f'ls jupyter-examples')\n",
    "        print(stdout)\n",
    "        print(stderr)\n",
    "        \n",
    "        stdout, stderr = node.execute(f'ifconfig | grep ens')\n",
    "        print(stdout)\n",
    "        print(stderr)\n",
    "\n",
    "\n",
    "    except Exception as e:\n",
    "        print(f\"Exception: {e}\")"
   ]
  },
  {
   "cell_type": "code",
   "execution_count": 8,
   "metadata": {},
   "outputs": [
    {
     "name": "stdout",
     "output_type": "stream",
     "text": [
      "Node:\n",
      "   Name              : s1\n",
      "LICENSE\n",
      "Readme.md\n",
      "fabric_examples\n",
      "start_here.ipynb\n",
      "\n",
      "\n",
      "ens3: flags=4163<UP,BROADCAST,RUNNING,MULTICAST>  mtu 9000\n",
      "ens7: flags=4163<UP,BROADCAST,RUNNING,MULTICAST>  mtu 1500\n",
      "ens8: flags=4163<UP,BROADCAST,RUNNING,MULTICAST>  mtu 1500\n",
      "ens9: flags=4163<UP,BROADCAST,RUNNING,MULTICAST>  mtu 1500\n",
      "ens10: flags=4163<UP,BROADCAST,RUNNING,MULTICAST>  mtu 1500\n",
      "\n",
      "\n",
      "Node:\n",
      "   Name              : s2\n",
      "LICENSE\n",
      "Readme.md\n",
      "fabric_examples\n",
      "start_here.ipynb\n",
      "\n",
      "\n",
      "ens3: flags=4163<UP,BROADCAST,RUNNING,MULTICAST>  mtu 9000\n",
      "ens7: flags=4163<UP,BROADCAST,RUNNING,MULTICAST>  mtu 1500\n",
      "ens8: flags=4163<UP,BROADCAST,RUNNING,MULTICAST>  mtu 1500\n",
      "ens9: flags=4163<UP,BROADCAST,RUNNING,MULTICAST>  mtu 1500\n",
      "ens10: flags=4163<UP,BROADCAST,RUNNING,MULTICAST>  mtu 1500\n",
      "\n",
      "\n",
      "Node:\n",
      "   Name              : s3\n",
      "LICENSE\n",
      "Readme.md\n",
      "fabric_examples\n",
      "start_here.ipynb\n",
      "\n",
      "\n",
      "ens3: flags=4163<UP,BROADCAST,RUNNING,MULTICAST>  mtu 9000\n",
      "ens7: flags=4163<UP,BROADCAST,RUNNING,MULTICAST>  mtu 1500\n",
      "ens8: flags=4163<UP,BROADCAST,RUNNING,MULTICAST>  mtu 1500\n",
      "\n",
      "\n",
      "Node:\n",
      "   Name              : h1\n",
      "LICENSE\n",
      "Readme.md\n",
      "fabric_examples\n",
      "start_here.ipynb\n",
      "\n",
      "\n",
      "ens3: flags=4163<UP,BROADCAST,RUNNING,MULTICAST>  mtu 9000\n",
      "ens7: flags=4163<UP,BROADCAST,RUNNING,MULTICAST>  mtu 1500\n",
      "\n",
      "\n",
      "Node:\n",
      "   Name              : h11\n",
      "LICENSE\n",
      "Readme.md\n",
      "fabric_examples\n",
      "start_here.ipynb\n",
      "\n",
      "\n",
      "ens3: flags=4163<UP,BROADCAST,RUNNING,MULTICAST>  mtu 9000\n",
      "ens7: flags=4163<UP,BROADCAST,RUNNING,MULTICAST>  mtu 1500\n",
      "\n",
      "\n",
      "Node:\n",
      "   Name              : h2\n",
      "LICENSE\n",
      "Readme.md\n",
      "fabric_examples\n",
      "start_here.ipynb\n",
      "\n",
      "\n",
      "ens3: flags=4163<UP,BROADCAST,RUNNING,MULTICAST>  mtu 9000\n",
      "ens7: flags=4163<UP,BROADCAST,RUNNING,MULTICAST>  mtu 1500\n",
      "\n",
      "\n",
      "Node:\n",
      "   Name              : h22\n",
      "LICENSE\n",
      "Readme.md\n",
      "fabric_examples\n",
      "start_here.ipynb\n",
      "\n",
      "\n",
      "ens3: flags=4163<UP,BROADCAST,RUNNING,MULTICAST>  mtu 9000\n",
      "ens7: flags=4163<UP,BROADCAST,RUNNING,MULTICAST>  mtu 1500\n",
      "\n",
      "\n"
     ]
    }
   ],
   "source": [
    "try:\n",
    "    slice = fablib.get_slice(name=slice_name)\n",
    "    for node in slice.get_nodes():\n",
    "        print(\"Node:\")\n",
    "        print(f\"   Name              : {node.get_name()}\")\n",
    "        checkInetConnection(node)\n",
    "except Exception as e:\n",
    "    print(f\"Fail: {e}\")\n",
    "    traceback.print_exc()"
   ]
  },
  {
   "cell_type": "markdown",
   "metadata": {
    "tags": []
   },
   "source": [
    "### Print Details"
   ]
  },
  {
   "cell_type": "code",
   "execution_count": 9,
   "metadata": {},
   "outputs": [
    {
     "name": "stdout",
     "output_type": "stream",
     "text": [
      "----\n",
      "Node:\n",
      "   Name              : s1\n",
      "   Cores             : 2\n",
      "   RAM               : 8\n",
      "   Disk              : 100\n",
      "   Reservation State : Active\n",
      "   SSH Command       : ./connect.sh ubuntu@63.239.135.101\n",
      "      Name             : s1-s1_iface_h1\n",
      "      Model            : NIC_Basic\n",
      "      Name             : s1-s1_iface_to_s3\n",
      "      Model            : NIC_Basic\n",
      "      Name             : s1-s1_iface_h11\n",
      "      Model            : NIC_Basic\n",
      "      Name             : s1-s1_iface_to_s2\n",
      "      Model            : NIC_Basic\n",
      "   Interfaces        :          Name                : s1-s1_iface_h1-p1\n",
      "           MAC                 : 06:97:DD:B1:D5:05\n",
      "ens9        Name                : s1-s1_iface_to_s3-p1\n",
      "           MAC                 : 06:3A:62:73:E3:CE\n",
      "ens8        Name                : s1-s1_iface_h11-p1\n",
      "           MAC                 : 02:1A:9D:93:82:A9\n",
      "ens7        Name                : s1-s1_iface_to_s2-p1\n",
      "           MAC                 : 06:C0:E2:D6:6E:CA\n",
      "ens10 ----\n",
      "Node:\n",
      "   Name              : s2\n",
      "   Cores             : 2\n",
      "   RAM               : 8\n",
      "   Disk              : 100\n",
      "   Reservation State : Active\n",
      "   SSH Command       : ./connect.sh ubuntu@63.239.135.74\n",
      "      Name             : s2-s2_iface_h22\n",
      "      Model            : NIC_Basic\n",
      "      Name             : s2-s2_iface_to_s1\n",
      "      Model            : NIC_Basic\n",
      "      Name             : s2-s2_iface_h2\n",
      "      Model            : NIC_Basic\n",
      "      Name             : s2-s2_iface_to_s3\n",
      "      Model            : NIC_Basic\n",
      "   Interfaces        :          Name                : s2-s2_iface_h22-p1\n",
      "           MAC                 : 0A:7E:AA:58:B2:3B\n",
      "ens8        Name                : s2-s2_iface_to_s1-p1\n",
      "           MAC                 : 0A:60:A8:32:58:F4\n",
      "ens7        Name                : s2-s2_iface_h2-p1\n",
      "           MAC                 : 0E:8D:AC:5E:6C:2E\n",
      "ens10        Name                : s2-s2_iface_to_s3-p1\n",
      "           MAC                 : 0A:EA:A1:FC:E8:CF\n",
      "ens9 ----\n",
      "Node:\n",
      "   Name              : s3\n",
      "   Cores             : 2\n",
      "   RAM               : 8\n",
      "   Disk              : 100\n",
      "   Reservation State : Active\n",
      "   SSH Command       : ./connect.sh ubuntu@63.239.135.117\n",
      "      Name             : s3-s3_iface_to_s1\n",
      "      Model            : NIC_Basic\n",
      "      Name             : s3-s3_iface_to_s2\n",
      "      Model            : NIC_Basic\n",
      "   Interfaces        :          Name                : s3-s3_iface_to_s1-p1\n",
      "           MAC                 : 12:86:57:7C:5C:76\n",
      "ens8        Name                : s3-s3_iface_to_s2-p1\n",
      "           MAC                 : 0E:C9:A6:7A:9F:2A\n",
      "ens7 ----\n",
      "Node:\n",
      "   Name              : h1\n",
      "   Cores             : 2\n",
      "   RAM               : 8\n",
      "   Disk              : 100\n",
      "   Reservation State : Active\n",
      "   SSH Command       : ./connect.sh ubuntu@63.239.135.91\n",
      "      Name             : h1-h1_nic\n",
      "      Model            : NIC_Basic\n",
      "   Interfaces        :          Name                : h1-h1_nic-p1\n",
      "           MAC                 : 16:59:B5:75:01:50\n",
      "ens7 ----\n",
      "Node:\n",
      "   Name              : h11\n",
      "   Cores             : 2\n",
      "   RAM               : 8\n",
      "   Disk              : 100\n",
      "   Reservation State : Active\n",
      "   SSH Command       : ./connect.sh ubuntu@63.239.135.98\n",
      "      Name             : h11-h11_nic\n",
      "      Model            : NIC_Basic\n",
      "   Interfaces        :          Name                : h11-h11_nic-p1\n",
      "           MAC                 : 1A:30:82:43:1A:63\n",
      "ens7 ----\n",
      "Node:\n",
      "   Name              : h2\n",
      "   Cores             : 2\n",
      "   RAM               : 8\n",
      "   Disk              : 100\n",
      "   Reservation State : Active\n",
      "   SSH Command       : ./connect.sh ubuntu@63.239.135.81\n",
      "      Name             : h2-h2_nic\n",
      "      Model            : NIC_Basic\n",
      "   Interfaces        :          Name                : h2-h2_nic-p1\n",
      "           MAC                 : 1A:8F:07:4C:8D:11\n",
      "ens7 ----\n",
      "Node:\n",
      "   Name              : h22\n",
      "   Cores             : 2\n",
      "   RAM               : 8\n",
      "   Disk              : 100\n",
      "   Reservation State : Active\n",
      "   SSH Command       : ./connect.sh ubuntu@63.239.135.88\n",
      "      Name             : h22-h22_nic\n",
      "      Model            : NIC_Basic\n",
      "   Interfaces        :          Name                : h22-h22_nic-p1\n",
      "           MAC                 : 1E:7C:A5:83:3B:97\n",
      "ens7 Network:\n",
      "    Name:            net_s1_s2\n",
      "Network:\n",
      "    Name:            net_s2_s3\n",
      "Network:\n",
      "    Name:            net_s1_s3\n",
      "Network:\n",
      "    Name:            net_h1\n",
      "Network:\n",
      "    Name:            net_h11\n",
      "Network:\n",
      "    Name:            net_h2\n",
      "Network:\n",
      "    Name:            net_h22\n"
     ]
    }
   ],
   "source": [
    "try:\n",
    "    slice = fablib.get_slice(name=slice_name)\n",
    "    for node in slice.get_nodes():\n",
    "        print(\"----\")\n",
    "        print(\"Node:\")\n",
    "        print(f\"   Name              : {node.get_name()}\")\n",
    "        print(f\"   Cores             : {node.get_cores()}\")\n",
    "        print(f\"   RAM               : {node.get_ram()}\")\n",
    "        print(f\"   Disk              : {node.get_disk()}\")\n",
    "        # print(f\"   Image             : {node.get_image()}\")\n",
    "        # print(f\"   Image Type        : {node.get_image_type()}\")\n",
    "        # print(f\"   Host              : {node.get_host()}\")\n",
    "        # print(f\"   Site              : {node.get_site()}\")\n",
    "        # print(f\"   Management IP     : {node.get_management_ip()}\")\n",
    "        # print(f\"   Reservation ID    : {node.get_reservation_id()}\")\n",
    "        print(f\"   Reservation State : {node.get_reservation_state()}\")\n",
    "        ssh = node.get_ssh_command().replace(\"ssh -i /home/fabric/work/fabric_config/.ssh/id_rsa -J durbek_gafurov_0000000854@bastion-1.fabric-testbed.net\",\"./connect.sh\")\n",
    "        print(f\"   SSH Command       : {ssh}\")\n",
    "        # print(f\"   Components        :  \")\n",
    "        for component in node.get_components():\n",
    "            print(f\"      Name             : {component.get_name()}\")\n",
    "        #     print(f\"      Details          : {component.get_details()}\")\n",
    "        #     print(f\"      Disk (G)         : {component.get_disk()}\")\n",
    "        #     print(f\"      Units            : {component.get_unit()}\")\n",
    "        #     print(f\"      PCI Address      : {component.get_pci_addr()}\")\n",
    "            print(f\"      Model            : {component.get_model()}\")\n",
    "        #     print(f\"      Type             : {component.get_type()}\") \n",
    "        print(f\"   Interfaces        :  \", end = \" \")\n",
    "        for interface in node.get_interfaces():\n",
    "            print(f\"       Name                : {interface.get_name()}\")\n",
    "        #     print(f\"           Bandwidth           : {interface.get_bandwidth()}\")\n",
    "            # print(f\"           VLAN                : {interface.get_vlan()}\")  \n",
    "            print(f\"           MAC                 : {interface.get_mac()}\") \n",
    "            print(interface.get_os_interface(), end =\" \")\n",
    "    for network in slice.get_l2networks():\n",
    "        print(\"Network:\")\n",
    "        print(f\"    Name:            {network.get_name()}\")\n",
    "    # print(f\"Interface Map: {slice.get_interface_map()}\")\n",
    "except Exception as e:\n",
    "    print(f\"Fail: {e}\")\n",
    "    traceback.print_exc()"
   ]
  },
  {
   "cell_type": "markdown",
   "metadata": {},
   "source": [
    "## Configure Nodes\n"
   ]
  },
  {
   "cell_type": "code",
   "execution_count": 10,
   "metadata": {},
   "outputs": [],
   "source": [
    "config_threads = {}"
   ]
  },
  {
   "cell_type": "code",
   "execution_count": 18,
   "metadata": {},
   "outputs": [],
   "source": [
    "host_config_script = \"sudo apt-get update -qq && sudo apt-get install -qq -y python3-scapy && git clone https://github.com/Durbek-Gafur/P4-VCC.git\" \n",
    "def addIP(name,net_name,node_addr,node_subnet):\n",
    "    node = slice.get_node(name=name)        \n",
    "    h1_os_iface = node.get_interface(network_name=net_name).ip_addr_add(addr=node_addr, subnet=node_subnet)\n",
    "    config_thread = node.execute_thread(host_config_script)\n",
    "    config_threads[node]=config_thread\n",
    "    return node\n",
    "    \n",
    "try:\n",
    "    \n",
    "    h1 = addIP(h1_name,net_h1_name,h1_addr,h1_subnet)\n",
    "    # print(h1.execute(f'sudo arp -i ens7 -s 10.0.1.0 08:00:00:00:01:00 && arp -a'))\n",
    "    h11 = addIP(h11_name,net_h11_name,h11_addr,h1_subnet)\n",
    "    # print(h11.execute(f'sudo arp -i ens7 -s 10.0.1.10 08:00:00:00:01:00 && arp -a'))\n",
    "    h2 = addIP(h2_name,net_h2_name,h2_addr,h2_subnet)\n",
    "    # print(h2.execute(f'sudo arp -i ens7 -s 10.0.2.3 08:00:00:00:02:00 && arp -a'))\n",
    "    h22 = addIP(h22_name,net_h22_name,h22_addr,h2_subnet)\n",
    "    # print(h22.execute(f'sudo arp -i ens7 -s 10.0.2.23 08:00:00:00:02:00 && arp -a'))\n",
    "\n",
    "\n",
    "except Exception as e:\n",
    "    print(f\"Error: {e}\")\n",
    "    traceback.print_exc()"
   ]
  },
  {
   "cell_type": "code",
   "execution_count": 19,
   "metadata": {},
   "outputs": [],
   "source": [
    "def checkIP(node):\n",
    "    try:        \n",
    "        stdout, stderr = node.execute(f'ifconfig | grep \"inet 10.0.\"')\n",
    "        print(stdout)\n",
    "        print(stderr)\n",
    "    except Exception as e:\n",
    "        print(f\"Exception: {e}\")"
   ]
  },
  {
   "cell_type": "code",
   "execution_count": 20,
   "metadata": {},
   "outputs": [
    {
     "name": "stdout",
     "output_type": "stream",
     "text": [
      "Config thread node h1 complete\n",
      "        inet 10.0.1.1  netmask 255.255.0.0  broadcast 0.0.0.0\n",
      "\n",
      "\n",
      "Config thread node h11 complete\n",
      "        inet 10.0.1.11  netmask 255.255.0.0  broadcast 0.0.0.0\n",
      "\n",
      "\n",
      "Config thread node h2 complete\n",
      "        inet 10.0.2.2  netmask 255.255.0.0  broadcast 0.0.0.0\n",
      "\n",
      "\n",
      "Config thread node h22 complete\n",
      "        inet 10.0.2.22  netmask 255.255.0.0  broadcast 0.0.0.0\n",
      "\n",
      "\n"
     ]
    }
   ],
   "source": [
    "try: \n",
    "    for node, thread in config_threads.items():\n",
    "        stdout, stderr = thread.result()\n",
    "        print(f\"Config thread node {node.get_name()} complete\")\n",
    "        checkIP(node)\n",
    "        # print(f\"stdout: {stdout}\")\n",
    "        # print(f\"stderr: {stderr}\")\n",
    "except Exception as e:\n",
    "    print(f\"Error: {e}\")\n",
    "    traceback.print_exc() \n",
    "config_threads = {}"
   ]
  },
  {
   "cell_type": "markdown",
   "metadata": {},
   "source": [
    "## Configure Switches\n",
    "\n",
    "Use ssh to configure the ifaces on the switches. This step requires testing the interfaces to figure out which interface is connected to which network.\n"
   ]
  },
  {
   "cell_type": "markdown",
   "metadata": {},
   "source": [
    "#### Setup P4 Docker\n",
    "\n"
   ]
  },
  {
   "cell_type": "markdown",
   "metadata": {},
   "source": [
    "Below are commands to let sudo work with the global proxy."
   ]
  },
  {
   "cell_type": "code",
   "execution_count": 14,
   "metadata": {},
   "outputs": [],
   "source": [
    "s1 = slice.get_node(name=s1_name)\n",
    "s2 = slice.get_node(name=s2_name)\n",
    "s3 = slice.get_node(name=s3_name)"
   ]
  },
  {
   "cell_type": "code",
   "execution_count": 15,
   "metadata": {},
   "outputs": [
    {
     "name": "stdout",
     "output_type": "stream",
     "text": [
      "-----------------  ----------------------------------------------------------------------------------------------------------------------------------\n",
      "ID                 6cfe9313-373b-4436-b7cc-47fa37287460\n",
      "Name               s1\n",
      "Cores              2\n",
      "RAM                8\n",
      "Disk               100\n",
      "Image              default_ubuntu_20\n",
      "Image Type         qcow2\n",
      "Host               max-w5.fabric-testbed.net\n",
      "Site               MAX\n",
      "Management IP      63.239.135.101\n",
      "Reservation State  Active\n",
      "Error Message\n",
      "SSH Command        ssh -i /home/fabric/work/fabric_config/.ssh/id_rsa -J durbek_gafurov_0000000854@bastion-1.fabric-testbed.net ubuntu@63.239.135.101\n",
      "-----------------  ----------------------------------------------------------------------------------------------------------------------------------\n"
     ]
    }
   ],
   "source": [
    "print(s1)"
   ]
  },
  {
   "cell_type": "code",
   "execution_count": 21,
   "metadata": {},
   "outputs": [
    {
     "name": "stdout",
     "output_type": "stream",
     "text": [
      "16:59:B5:75:01:50 1A:30:82:43:1A:63 1A:8F:07:4C:8D:11 1E:7C:A5:83:3B:97\n",
      "table_clear MyIngress.ipv4_lpm \n",
      "table_add MyIngress.ipv4_lpm ipv4_forward 10.0.1.1/32 => 16:59:B5:75:01:50 1\n",
      "table_add MyIngress.ipv4_lpm ipv4_forward 10.0.1.11/32 => 1A:30:82:43:1A:63 2\n",
      "table_add MyIngress.ipv4_lpm ipv4_forward 10.0.2.2/32 => 0A:60:A8:32:58:F4 3\n",
      "table_add MyIngress.ipv4_lpm ipv4_forward 10.0.2.22/32 => 12:86:57:7C:5C:76 4\n",
      " ./scripts/s1command.txt\n",
      "table_clear MyIngress.ipv4_lpm \n",
      "table_add MyIngress.ipv4_lpm ipv4_forward 10.0.1.1/32 => 06:C0:E2:D6:6E:CA 3\n",
      "table_add MyIngress.ipv4_lpm ipv4_forward 10.0.1.11/32 => 0E:C9:A6:7A:9F:2A 4\n",
      "table_add MyIngress.ipv4_lpm ipv4_forward 10.0.2.2/32 => 1A:8F:07:4C:8D:11 1\n",
      "table_add MyIngress.ipv4_lpm ipv4_forward 10.0.2.22/32 => 1E:7C:A5:83:3B:97 2\n",
      " ./scripts/s2command.txt\n",
      "table_clear MyIngress.ipv4_lpm \n",
      "table_add MyIngress.ipv4_lpm ipv4_forward 10.0.1.0/24 => 06:3A:62:73:E3:CE 1\n",
      "table_add MyIngress.ipv4_lpm ipv4_forward 10.0.2.0/24 => 0A:EA:A1:FC:E8:CF 2\n",
      " ./scripts/s3command.txt\n"
     ]
    }
   ],
   "source": [
    "h1Mac = h1.get_interface(network_name=net_h1_name).get_mac()\n",
    "h11Mac = h11.get_interface(network_name=net_h11_name).get_mac()\n",
    "h2Mac = h2.get_interface(network_name=net_h2_name).get_mac()\n",
    "h22Mac = h22.get_interface(network_name=net_h22_name).get_mac()\n",
    "\n",
    "s1_net_s1_s2_Mac = s1.get_interface(network_name=net_s1_s2_name).get_mac()\n",
    "s2_net_s1_s2_Mac = s2.get_interface(network_name=net_s1_s2_name).get_mac()\n",
    "\n",
    "s1_net_s1_s3_Mac = s1.get_interface(network_name=net_s1_s3_name).get_mac()\n",
    "s3_net_s1_s3_Mac = s3.get_interface(network_name=net_s1_s3_name).get_mac()\n",
    "\n",
    "s2_net_s2_s3_Mac = s2.get_interface(network_name=net_s2_s3_name).get_mac()\n",
    "s3_net_s2_s3_Mac = s3.get_interface(network_name=net_s2_s3_name).get_mac()\n",
    "\n",
    "print(h1Mac,h11Mac,h2Mac,h22Mac)\n",
    "def printToFile(text,filename):\n",
    "    text_file = open(filename, \"w\")\n",
    "    n = text_file.write(text)\n",
    "    text_file.close()\n",
    "s1_command = \"\"\"table_clear MyIngress.ipv4_lpm \n",
    "table_add MyIngress.ipv4_lpm ipv4_forward 10.0.1.1/32 => {} 1\n",
    "table_add MyIngress.ipv4_lpm ipv4_forward 10.0.1.11/32 => {} 2\n",
    "table_add MyIngress.ipv4_lpm ipv4_forward 10.0.2.2/32 => {} 3\n",
    "table_add MyIngress.ipv4_lpm ipv4_forward 10.0.2.22/32 => {} 4\n",
    "\"\"\".format(h1Mac, h11Mac,s2_net_s1_s2_Mac,s3_net_s1_s3_Mac)\n",
    "s2_command = \"\"\"table_clear MyIngress.ipv4_lpm \n",
    "table_add MyIngress.ipv4_lpm ipv4_forward 10.0.1.1/32 => {} 3\n",
    "table_add MyIngress.ipv4_lpm ipv4_forward 10.0.1.11/32 => {} 4\n",
    "table_add MyIngress.ipv4_lpm ipv4_forward 10.0.2.2/32 => {} 1\n",
    "table_add MyIngress.ipv4_lpm ipv4_forward 10.0.2.22/32 => {} 2\n",
    "\"\"\".format(s1_net_s1_s2_Mac,s3_net_s2_s3_Mac,h2Mac,h22Mac)\n",
    "s3_command = \"\"\"table_clear MyIngress.ipv4_lpm \n",
    "table_add MyIngress.ipv4_lpm ipv4_forward 10.0.1.0/24 => {} 1\n",
    "table_add MyIngress.ipv4_lpm ipv4_forward 10.0.2.0/24 => {} 2\n",
    "\"\"\".format(s1_net_s1_s3_Mac,s2_net_s2_s3_Mac)\n",
    "printToFile(s1_command, \"./scripts/s1command.txt\")\n",
    "printToFile(s2_command, \"./scripts/s2command.txt\")\n",
    "printToFile(s3_command, \"./scripts/s3command.txt\")\n",
    "print(s1_command, \"./scripts/s1command.txt\")\n",
    "print(s2_command, \"./scripts/s2command.txt\")\n",
    "print(s3_command, \"./scripts/s3command.txt\")"
   ]
  },
  {
   "cell_type": "code",
   "execution_count": 22,
   "metadata": {},
   "outputs": [
    {
     "name": "stdout",
     "output_type": "stream",
     "text": [
      "---------------------  -----------------\n",
      "Name                   s1-s1_iface_h1-p1\n",
      "Network                net_h1\n",
      "Bandwidth              0\n",
      "VLAN\n",
      "MAC                    06:97:DD:B1:D5:05\n",
      "Physical OS Interface  ens9\n",
      "OS Interface           ens9\n",
      "---------------------  -----------------\n",
      "---------------------  ------------------\n",
      "Name                   s1-s1_iface_h11-p1\n",
      "Network                net_h11\n",
      "Bandwidth              0\n",
      "VLAN\n",
      "MAC                    02:1A:9D:93:82:A9\n",
      "Physical OS Interface  ens7\n",
      "OS Interface           ens7\n",
      "---------------------  ------------------\n",
      "sudo arp -i ens7 -s 10.0.2.2 06:97:DD:B1:D5:05 && arp -a ./scripts/s1_arpcommand.txt\n",
      "sudo arp -i ens7 -s 10.0.2.22 02:1A:9D:93:82:A9 && arp -a ./scripts/s2_arpcommand.txt\n",
      "_gateway (10.20.4.1) at fa:16:3e:2b:d0:b1 [ether] on ens3\n",
      "? (10.0.2.2) at 06:97:dd:b1:d5:05 [ether] PERM on ens7\n",
      "? (10.20.4.11) at fa:16:3e:da:bd:a4 [ether] on ens3\n",
      "\n",
      "\n",
      "? (10.0.2.22) at 02:1a:9d:93:82:a9 [ether] PERM on ens7\n",
      "? (10.20.4.11) at fa:16:3e:da:bd:a4 [ether] on ens3\n",
      "_gateway (10.20.4.1) at fa:16:3e:2b:d0:b1 [ether] on ens3\n",
      "\n",
      "\n"
     ]
    }
   ],
   "source": [
    "s1_net_s1_h1_Mac = s1.get_interface(network_name=net_h1_name).get_mac()\n",
    "print(s1.get_interface(network_name=net_h1_name))\n",
    "s1_net_s1_h11_Mac = s1.get_interface(network_name=net_h11_name).get_mac()\n",
    "print(s1.get_interface(network_name=net_h11_name))\n",
    "h1_arpcommand = \"\"\"sudo arp -i ens7 -s 10.0.2.2 {} && arp -a\"\"\".format(s1_net_s1_h1_Mac)\n",
    "h11_arpcommand = \"\"\"sudo arp -i ens7 -s 10.0.2.22 {} && arp -a\"\"\".format(s1_net_s1_h11_Mac)\n",
    "print(h1_arpcommand, \"./scripts/s1_arpcommand.txt\")\n",
    "print(h11_arpcommand, \"./scripts/s2_arpcommand.txt\")\n",
    "stdout, stderr = h1.execute(h1_arpcommand)\n",
    "print(stdout)\n",
    "print(stderr)\n",
    "stdout, stderr = h11.execute(h11_arpcommand)\n",
    "print(stdout)\n",
    "print(stderr)\n",
    "# printToFile(h1_arpcommand, \"./scripts/s1_arpcommand.txt\")\n",
    "# printToFile(h11_arpcommand, \"./scripts/s2_arpcommand.txt\")\n",
    "# print(h1_arpcommand, \"./scripts/s1_arpcommand.txt\")\n",
    "# print(h11_arpcommand, \"./scripts/s2_arpcommand.txt\")"
   ]
  },
  {
   "cell_type": "code",
   "execution_count": 23,
   "metadata": {},
   "outputs": [],
   "source": [
    "def configureSwitch(name,network_names):\n",
    "    try:\n",
    "        node = slice.get_node(name=name)\n",
    "        os_ifaces = \"\"\n",
    "        for net_name in network_names:\n",
    "            iface = node.get_interface(network_name=net_name).get_os_interface()\n",
    "            if iface is None:\n",
    "                print(\"iface is none\")\n",
    "                return\n",
    "            os_ifaces=os_ifaces+iface+\" \"\n",
    "\n",
    "        file_attributes = node.upload_file('./scripts/router_setup_p4_bmv2_container.sh','router_setup_p4_bmv2_container.sh')\n",
    "        command=f\"chmod +x router_setup_p4_bmv2_container.sh && sudo sh -c './router_setup_p4_bmv2_container.sh {os_ifaces}  > /tmp/script.log 2>&1' && tail /tmp/script.log\"\n",
    "        config_threads[node] = node.execute_thread(command)\n",
    "        print(command)\n",
    "\n",
    "\n",
    "    except Exception as e:\n",
    "        print(f\"Error: {e}\")\n",
    "        traceback.print_exc()"
   ]
  },
  {
   "cell_type": "code",
   "execution_count": 24,
   "metadata": {},
   "outputs": [
    {
     "name": "stdout",
     "output_type": "stream",
     "text": [
      "chmod +x router_setup_p4_bmv2_container.sh && sudo sh -c './router_setup_p4_bmv2_container.sh ens9 ens7 ens10 ens8   > /tmp/script.log 2>&1' && tail /tmp/script.log\n",
      "chmod +x router_setup_p4_bmv2_container.sh && sudo sh -c './router_setup_p4_bmv2_container.sh ens10 ens8 ens7 ens9   > /tmp/script.log 2>&1' && tail /tmp/script.log\n",
      "chmod +x router_setup_p4_bmv2_container.sh && sudo sh -c './router_setup_p4_bmv2_container.sh ens8 ens7   > /tmp/script.log 2>&1' && tail /tmp/script.log\n"
     ]
    }
   ],
   "source": [
    "configureSwitch(s1_name,[net_h1_name,net_h11_name,net_s1_s2_name,net_s1_s3_name]) \n",
    "configureSwitch(s2_name,[net_h2_name,net_h22_name,net_s1_s2_name,net_s2_s3_name])\n",
    "configureSwitch(s3_name,[net_s1_s3_name,net_s2_s3_name])"
   ]
  },
  {
   "cell_type": "code",
   "execution_count": 25,
   "metadata": {},
   "outputs": [
    {
     "name": "stdout",
     "output_type": "stream",
     "text": [
      "Config thread node s1 complete\n",
      "stdout: V1Switch(\n",
      "MyParser(),\n",
      "MyVerifyChecksum(),\n",
      "MyIngress(),\n",
      "MyEgress(),\n",
      "MyComputeChecksum(),\n",
      "MyDeparser()\n",
      ") main;\n",
      "simple_switch --interface 1@ens9 --interface 2@ens7 --interface 3@ens10 --interface 4@ens8 ~/P4-VCC/exercises/basic/solution/basic.json\n",
      "done!\n",
      "\n",
      "stderr: \n",
      "Config thread node s2 complete\n",
      "stdout: V1Switch(\n",
      "MyParser(),\n",
      "MyVerifyChecksum(),\n",
      "MyIngress(),\n",
      "MyEgress(),\n",
      "MyComputeChecksum(),\n",
      "MyDeparser()\n",
      ") main;\n",
      "simple_switch --interface 1@ens10 --interface 2@ens8 --interface 3@ens7 --interface 4@ens9 ~/P4-VCC/exercises/basic/solution/basic.json\n",
      "done!\n",
      "\n",
      "stderr: \n",
      "Config thread node s3 complete\n",
      "stdout: V1Switch(\n",
      "MyParser(),\n",
      "MyVerifyChecksum(),\n",
      "MyIngress(),\n",
      "MyEgress(),\n",
      "MyComputeChecksum(),\n",
      "MyDeparser()\n",
      ") main;\n",
      "simple_switch --interface 1@ens8 --interface 2@ens7 ~/P4-VCC/exercisesbasic/solution/basic.sjon\n",
      "done!\n",
      "\n",
      "stderr: \n"
     ]
    }
   ],
   "source": [
    "try: \n",
    "    for node, thread in config_threads.items():\n",
    "        stdout, stderr = thread.result()\n",
    "        print(f\"Config thread node {node.get_name()} complete\")\n",
    "        print(f\"stdout: {stdout}\")\n",
    "        print(f\"stderr: {stderr}\")\n",
    "except Exception as e:\n",
    "    print(f\"Error: {e}\")\n",
    "    traceback.print_exc() \n"
   ]
  },
  {
   "cell_type": "markdown",
   "metadata": {},
   "source": [
    "### Confgure P4 Switch Tables\n",
    "\n",
    "Edit sX_commands.txt to change the values"
   ]
  },
  {
   "cell_type": "code",
   "execution_count": null,
   "metadata": {},
   "outputs": [],
   "source": []
  },
  {
   "cell_type": "code",
   "execution_count": 26,
   "metadata": {},
   "outputs": [
    {
     "name": "stdout",
     "output_type": "stream",
     "text": [
      "Swtitch Name        : s1\n",
      "Management IP    : 63.239.135.101\n",
      "s1command.txt\n",
      "file_attributes: -rw-rw-r--   1 1000     1000          342 08 Sep 06:58 ?\n",
      "stdout: ('Obtaining JSON from switch...\\nDone\\nControl utility for runtime P4 table manipulation\\nRuntimeCmd: RuntimeCmd: Adding entry to lpm match table MyIngress.ipv4_lpm\\nmatch key:           LPM-0a:00:01:01/32\\naction:              ipv4_forward\\nruntime data:        16:59:b5:75:01:50\\t00:01\\nEntry has been added with handle 0\\nRuntimeCmd: Adding entry to lpm match table MyIngress.ipv4_lpm\\nmatch key:           LPM-0a:00:01:0b/32\\naction:              ipv4_forward\\nruntime data:        1a:30:82:43:1a:63\\t00:02\\nEntry has been added with handle 1\\nRuntimeCmd: Adding entry to lpm match table MyIngress.ipv4_lpm\\nmatch key:           LPM-0a:00:02:02/32\\naction:              ipv4_forward\\nruntime data:        0a:60:a8:32:58:f4\\t00:03\\nEntry has been added with handle 2\\nRuntimeCmd: Adding entry to lpm match table MyIngress.ipv4_lpm\\nmatch key:           LPM-0a:00:02:16/32\\naction:              ipv4_forward\\nruntime data:        12:86:57:7c:5c:76\\t00:04\\nEntry has been added with handle 3\\nRuntimeCmd: \\n', '')\n",
      "stdout: ('total 16K\\n-rwxrwxr-x 1 ubuntu ubuntu   41 Sep  8 06:58 dc.sh\\ndrwxrwxr-x 4 ubuntu ubuntu 4.0K Sep  8 06:39 jupyter-examples\\n-rwxrwxr-x 1 ubuntu ubuntu 2.4K Sep  8 06:46 router_setup_p4_bmv2_container.sh\\n-rw-rw-r-- 1 ubuntu ubuntu  342 Sep  8 06:58 s1command.txt\\n', '')\n",
      "Swtitch Name        : s2\n",
      "Management IP    : 63.239.135.74\n",
      "s2command.txt\n",
      "file_attributes: -rw-rw-r--   1 1000     1000          342 08 Sep 06:58 ?\n",
      "stdout: ('Obtaining JSON from switch...\\nDone\\nControl utility for runtime P4 table manipulation\\nRuntimeCmd: RuntimeCmd: Adding entry to lpm match table MyIngress.ipv4_lpm\\nmatch key:           LPM-0a:00:01:01/32\\naction:              ipv4_forward\\nruntime data:        06:c0:e2:d6:6e:ca\\t00:03\\nEntry has been added with handle 0\\nRuntimeCmd: Adding entry to lpm match table MyIngress.ipv4_lpm\\nmatch key:           LPM-0a:00:01:0b/32\\naction:              ipv4_forward\\nruntime data:        0e:c9:a6:7a:9f:2a\\t00:04\\nEntry has been added with handle 1\\nRuntimeCmd: Adding entry to lpm match table MyIngress.ipv4_lpm\\nmatch key:           LPM-0a:00:02:02/32\\naction:              ipv4_forward\\nruntime data:        1a:8f:07:4c:8d:11\\t00:01\\nEntry has been added with handle 2\\nRuntimeCmd: Adding entry to lpm match table MyIngress.ipv4_lpm\\nmatch key:           LPM-0a:00:02:16/32\\naction:              ipv4_forward\\nruntime data:        1e:7c:a5:83:3b:97\\t00:02\\nEntry has been added with handle 3\\nRuntimeCmd: \\n', '')\n",
      "stdout: ('total 16K\\n-rwxrwxr-x 1 ubuntu ubuntu   41 Sep  8 06:58 dc.sh\\ndrwxrwxr-x 4 ubuntu ubuntu 4.0K Sep  8 06:39 jupyter-examples\\n-rwxrwxr-x 1 ubuntu ubuntu 2.4K Sep  8 06:46 router_setup_p4_bmv2_container.sh\\n-rw-rw-r-- 1 ubuntu ubuntu  342 Sep  8 06:58 s2command.txt\\n', '')\n",
      "Swtitch Name        : s3\n",
      "Management IP    : 63.239.135.117\n",
      "s3command.txt\n",
      "file_attributes: -rw-rw-r--   1 1000     1000          186 08 Sep 06:58 ?\n",
      "stdout: ('Obtaining JSON from switch...\\nDone\\nControl utility for runtime P4 table manipulation\\nRuntimeCmd: RuntimeCmd: Adding entry to lpm match table MyIngress.ipv4_lpm\\nmatch key:           LPM-0a:00:01:00/24\\naction:              ipv4_forward\\nruntime data:        06:3a:62:73:e3:ce\\t00:01\\nEntry has been added with handle 0\\nRuntimeCmd: Adding entry to lpm match table MyIngress.ipv4_lpm\\nmatch key:           LPM-0a:00:02:00/24\\naction:              ipv4_forward\\nruntime data:        0a:ea:a1:fc:e8:cf\\t00:02\\nEntry has been added with handle 1\\nRuntimeCmd: \\n', '')\n",
      "stdout: ('total 16K\\n-rwxrwxr-x 1 ubuntu ubuntu   41 Sep  8 06:58 dc.sh\\ndrwxrwxr-x 4 ubuntu ubuntu 4.0K Sep  8 06:40 jupyter-examples\\n-rwxrwxr-x 1 ubuntu ubuntu 2.4K Sep  8 06:46 router_setup_p4_bmv2_container.sh\\n-rw-rw-r-- 1 ubuntu ubuntu  186 Sep  8 06:58 s3command.txt\\n', '')\n"
     ]
    }
   ],
   "source": [
    "\n",
    "for switch_name in [s1_name, s2_name, s3_name]:\n",
    "    switch_node = slice.get_node(name=switch_name)\n",
    "    management_ip_switch = str(switch_node.get_management_ip())\n",
    "    print(\"Swtitch Name        : {}\".format(switch_node.get_name()))\n",
    "    print(\"Management IP    : {}\".format(management_ip_switch))\n",
    "    \n",
    "    #Configure P4 Tables\n",
    "    cmd_file=f'{switch_name}command.txt'\n",
    "    print(cmd_file)\n",
    "    file_attributes = switch_node.upload_file(f'scripts/{cmd_file}',cmd_file)\n",
    "    print(\"file_attributes: {}\".format(file_attributes))\n",
    "\n",
    "    stdout = switch_node.execute(f\"sudo sh -c 'cat {cmd_file} | docker exec -i fabric_p4 simple_switch_CLI'\")\n",
    "    print(\"stdout: {}\".format(stdout))\n",
    "    stdout = switch_node.execute(\"echo 'sudo docker exec -it fabric_p4 /bin/bash' > dc.sh && sudo chmod +x dc.sh && ls -lh\")\n",
    "    print(\"stdout: {}\".format(stdout))"
   ]
  },
  {
   "cell_type": "markdown",
   "metadata": {},
   "source": [
    "## The switches are now configured and running. Now we are going to send packets over the switches."
   ]
  },
  {
   "cell_type": "markdown",
   "metadata": {},
   "source": [
    "We are going to use `send.py` and `receive.py`. We are going to re-upload them to the servers and use them. Make sure to modify the interface names in the script accordingly."
   ]
  },
  {
   "cell_type": "code",
   "execution_count": null,
   "metadata": {},
   "outputs": [],
   "source": [
    "# h1.upload_file('scripts/send.py', 'tutorials/exercises/basic_tunnel/send_modified.py')\n",
    "# h1.upload_file('scripts/receive.py', 'tutorials/exercises/basic_tunnel/receive_modified.py')\n",
    "# h2.upload_file('scripts/send.py', 'tutorials/exercises/basic_tunnel/send_modified.py')\n",
    "# h2.upload_file('scripts/receive.py', 'tutorials/exercises/basic_tunnel/receive_modified.py')\n",
    "# h11.upload_file('scripts/send.py', 'tutorials/exercises/basic_tunnel/send_modified.py')\n",
    "# h11.upload_file('scripts/receive.py', 'tutorials/exercises/basic_tunnel/receive_modified.py')\n",
    "# h22.upload_file('scripts/send.py', 'tutorials/exercises/basic_tunnel/send_modified.py')\n",
    "# h22.upload_file('scripts/receive.py', 'tutorials/exercises/basic_tunnel/receive_modified.py')"
   ]
  },
  {
   "cell_type": "markdown",
   "metadata": {},
   "source": [
    "## H1 sends packet, H2 recieves"
   ]
  },
  {
   "cell_type": "code",
   "execution_count": 28,
   "metadata": {},
   "outputs": [
    {
     "name": "stdout",
     "output_type": "stream",
     "text": [
      "sniffing on ens7\n",
      "\n"
     ]
    }
   ],
   "source": [
    "h1.execute('tmux new -d \\'timeout 30 watch -n 5 sudo python3 P4-VCC/exercises/basic/send.py 10.0.2.2 \"message100\" 50\\'')\n",
    "print(h2.execute('sudo timeout 30 sudo python3 P4-VCC/exercises/basic/receive.py')[0])"
   ]
  },
  {
   "cell_type": "code",
   "execution_count": 29,
   "metadata": {},
   "outputs": [
    {
     "name": "stdout",
     "output_type": "stream",
     "text": [
      "sniffing on ens7\n",
      "\n"
     ]
    }
   ],
   "source": [
    "h11.execute('tmux new -d \\'timeout 30 watch -n 5 sudo python3 P4-VCC/exercises/basic/send.py 10.0.2.22 \"message100\" 50\\'')\n",
    "print(h22.execute('sudo timeout 30 sudo python3 P4-VCC/exercises/basic/receive.py')[0])"
   ]
  },
  {
   "cell_type": "markdown",
   "metadata": {},
   "source": [
    "## H1 sends packet, H11 recieves"
   ]
  },
  {
   "cell_type": "code",
   "execution_count": 30,
   "metadata": {},
   "outputs": [
    {
     "name": "stdout",
     "output_type": "stream",
     "text": [
      "sniffing on ens7\n",
      "\n"
     ]
    }
   ],
   "source": [
    "h1.execute('tmux new -d \\'timeout 30 watch -n 5 sudo python3 P4-VCC/exercises/basic/send.py 10.0.1.11 \"message100\" 50\\'')\n",
    "print(h11.execute('sudo timeout 30 sudo python3 P4-VCC/exercises/basic/receive.py')[0])"
   ]
  },
  {
   "cell_type": "markdown",
   "metadata": {},
   "source": [
    "## H2 sends packet, H1 recieves"
   ]
  },
  {
   "cell_type": "code",
   "execution_count": 31,
   "metadata": {},
   "outputs": [
    {
     "name": "stdout",
     "output_type": "stream",
     "text": [
      "sniffing on ens7\n",
      "\n"
     ]
    }
   ],
   "source": [
    "h2.execute('tmux new -d \\'timeout 30 watch -n 5 sudo python3 P4-VCC/exercises/basic/send.py 10.0.1.1 \"message100\" 50\\'')\n",
    "print(h1.execute('sudo timeout 30 sudo python3 P4-VCC/exercises/basic/receive.py')[0])"
   ]
  },
  {
   "cell_type": "markdown",
   "metadata": {},
   "source": [
    "## H22 sends packet, H11 recieves"
   ]
  },
  {
   "cell_type": "code",
   "execution_count": null,
   "metadata": {},
   "outputs": [],
   "source": [
    "\n",
    "h22.execute('tmux new -d \\'timeout 30 watch -n 5 sudo python3 tutorials/exercises/basic_tunnel/send_modified.py 10.0.1.11 \"message100\" 50\\'')\n",
    "print(h11.execute('sudo timeout 30 sudo python3 P4-VCC/exercises/basic/receive.py')[0])"
   ]
  },
  {
   "cell_type": "code",
   "execution_count": null,
   "metadata": {},
   "outputs": [],
   "source": [
    "\n",
    "h1.execute('tmux new -d \\'timeout 30 watch -n 5 sudo python3 tutorials/exercises/basic_tunnel/send_modified.py 10.0.1.11 \"message100\" 50\\'')\n",
    "print(h11.execute('sudo timeout 30 sudo python3 P4-VCC/exercises/basic/receive.py')[0])"
   ]
  },
  {
   "cell_type": "markdown",
   "metadata": {},
   "source": [
    "## Delete Slice"
   ]
  },
  {
   "cell_type": "code",
   "execution_count": null,
   "metadata": {},
   "outputs": [],
   "source": [
    "# try:\n",
    "#     slice = fablib.get_slice(name=slice_name)\n",
    "#     slice.delete()\n",
    "# except Exception as e:\n",
    "#     print(f\"Fail: {e}\")\n",
    "#     traceback.print_exc()"
   ]
  },
  {
   "cell_type": "code",
   "execution_count": null,
   "metadata": {},
   "outputs": [],
   "source": []
  }
 ],
 "metadata": {
  "kernelspec": {
   "display_name": "Python 3 (ipykernel)",
   "language": "python",
   "name": "python3"
  },
  "language_info": {
   "codemirror_mode": {
    "name": "ipython",
    "version": 3
   },
   "file_extension": ".py",
   "mimetype": "text/x-python",
   "name": "python",
   "nbconvert_exporter": "python",
   "pygments_lexer": "ipython3",
   "version": "3.9.7"
  }
 },
 "nbformat": 4,
 "nbformat_minor": 4
}
